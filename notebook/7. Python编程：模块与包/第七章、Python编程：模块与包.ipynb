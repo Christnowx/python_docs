{
 "cells": [
  {
   "cell_type": "markdown",
   "id": "07c78e95-8a2a-4082-a9d7-a7ddbc5f21ad",
   "metadata": {},
   "source": [
    "# **花卷学Python**\n",
    "---\n",
    "\n",
    "> **我年纪轻轻就学会了Python编程**\n",
    "\n",
    "\n",
    "# **第七章、Python编程：模块与包**\n",
    "\n",
    "\n",
    " - [x] **模块**\n",
    " - [x] **包**\n",
    " - [x] **作用域**\n",
    " - [x] **pip安装模块**\n",
    " \n",
    "\n",
    "> **一般来说，学到这里，Python基础编程就结束了**"
   ]
  },
  {
   "cell_type": "markdown",
   "id": "d4e00eca-b36c-4c00-af1e-dcf659bda0bc",
   "metadata": {},
   "source": [
    "---"
   ]
  },
  {
   "cell_type": "markdown",
   "id": "1b062491-08e1-4dc4-9890-79b6fa501f43",
   "metadata": {},
   "source": [
    "# **一、模块**\n",
    "\n",
    "---\n",
    "\n",
    "在开发过程中，随着代码的数量越写越多，导致越来越不容易维护，将很多变量，函数，类存放到一个`.py`文件中，\n",
    "\n",
    "这样的`.py`文件就可以称之为一个模块。\n",
    "\n",
    "**作用：**\n",
    "\n",
    "- 封装多个功能于一身，导入一次即可使用模块中全部方法\n",
    "- 提高代码可维护性\n",
    "- 提高代码复用性\n",
    "- 方便管理：避免变量名、函数名、类名的冲突\n",
    "\n",
    "### **例如我们写一个模块：`model.py`**"
   ]
  },
  {
   "cell_type": "code",
   "execution_count": 1,
   "id": "78738f9a-e800-4ece-8583-e1bcf0341c1e",
   "metadata": {},
   "outputs": [],
   "source": [
    "# %load model.py\n",
    "a = 1\n",
    "b = 2\n",
    "\n",
    "def test(a,b):\n",
    "    return a+b\n",
    "\n",
    "class User(object):\n",
    "    def __init__(self,a,b):\n",
    "        self.a = a\n",
    "        self.b = b\n",
    "        \n",
    "    def sums(self):\n",
    "        return self.a + self.b\n",
    "    \n",
    "    def muls(self):\n",
    "        return self.a * self.b"
   ]
  },
  {
   "cell_type": "markdown",
   "id": "409f2965-611a-4185-a4a4-bb6fc0e81a65",
   "metadata": {},
   "source": [
    "## **Python 提供关键字 `import` 导入模块，使用`.`表示链式使用**"
   ]
  },
  {
   "cell_type": "code",
   "execution_count": 2,
   "id": "57e655d5-faf3-4ab6-9bae-7fd126f7d1ad",
   "metadata": {},
   "outputs": [],
   "source": [
    "import model"
   ]
  },
  {
   "cell_type": "code",
   "execution_count": 3,
   "id": "00fda929-7f65-4c08-9cc5-04b6b9d0f2df",
   "metadata": {},
   "outputs": [
    {
     "data": {
      "text/plain": [
       "1"
      ]
     },
     "execution_count": 3,
     "metadata": {},
     "output_type": "execute_result"
    }
   ],
   "source": [
    "model.a"
   ]
  },
  {
   "cell_type": "code",
   "execution_count": 4,
   "id": "e838c321-43a1-43c9-aee6-ca44a228efc8",
   "metadata": {},
   "outputs": [
    {
     "data": {
      "text/plain": [
       "2"
      ]
     },
     "execution_count": 4,
     "metadata": {},
     "output_type": "execute_result"
    }
   ],
   "source": [
    "model.b"
   ]
  },
  {
   "cell_type": "code",
   "execution_count": 5,
   "id": "21a03b41-e07c-4583-987e-ed9b64f284ed",
   "metadata": {},
   "outputs": [
    {
     "data": {
      "text/plain": [
       "7"
      ]
     },
     "execution_count": 5,
     "metadata": {},
     "output_type": "execute_result"
    }
   ],
   "source": [
    "model.test(3,4)"
   ]
  },
  {
   "cell_type": "code",
   "execution_count": 6,
   "id": "46208f23-9683-4227-93e2-48a28428ed77",
   "metadata": {},
   "outputs": [
    {
     "data": {
      "text/plain": [
       "11"
      ]
     },
     "execution_count": 6,
     "metadata": {},
     "output_type": "execute_result"
    }
   ],
   "source": [
    "user = model.User(5,6)\n",
    "user.sums()"
   ]
  },
  {
   "cell_type": "code",
   "execution_count": 7,
   "id": "ecc1e44f-2f98-4dba-95cd-39ca128d89ba",
   "metadata": {},
   "outputs": [
    {
     "data": {
      "text/plain": [
       "30"
      ]
     },
     "execution_count": 7,
     "metadata": {},
     "output_type": "execute_result"
    }
   ],
   "source": [
    "user.muls()"
   ]
  },
  {
   "cell_type": "markdown",
   "id": "89c6993e-78e8-4dfd-bf4f-b7dbd6d1209d",
   "metadata": {},
   "source": [
    "## **Python 导入模块是按照当前运行目录导入，如：examples文件下同样有个模块model.py**"
   ]
  },
  {
   "cell_type": "code",
   "execution_count": 9,
   "id": "7a369754-d91b-44bf-98cc-a4f795c8d1b9",
   "metadata": {},
   "outputs": [],
   "source": [
    "import examples.model"
   ]
  },
  {
   "cell_type": "code",
   "execution_count": 10,
   "id": "1fe480de-1423-4ba1-ba15-a30f0b829e83",
   "metadata": {},
   "outputs": [
    {
     "data": {
      "text/plain": [
       "1"
      ]
     },
     "execution_count": 10,
     "metadata": {},
     "output_type": "execute_result"
    }
   ],
   "source": [
    "examples.model.a"
   ]
  },
  {
   "cell_type": "code",
   "execution_count": 11,
   "id": "69527f9b-f40b-4c71-a5a4-bbdfc327c998",
   "metadata": {},
   "outputs": [
    {
     "data": {
      "text/plain": [
       "7"
      ]
     },
     "execution_count": 11,
     "metadata": {},
     "output_type": "execute_result"
    }
   ],
   "source": [
    "examples.model.test(3,4)"
   ]
  },
  {
   "cell_type": "markdown",
   "id": "45e70e29-724e-41b0-9b60-6cb96aa42d92",
   "metadata": {},
   "source": [
    "## **这样使用起来名字太长很麻烦，为了防止命名冲突，Python提供关键字：as，重命名模块**"
   ]
  },
  {
   "cell_type": "code",
   "execution_count": 12,
   "id": "d72a5eb1-d80a-499f-a0d3-cdf69a79b684",
   "metadata": {},
   "outputs": [],
   "source": [
    "import examples.model as newmodel"
   ]
  },
  {
   "cell_type": "code",
   "execution_count": 13,
   "id": "888c507d-dfac-43c0-a470-2cc0b9c68124",
   "metadata": {},
   "outputs": [
    {
     "data": {
      "text/plain": [
       "1"
      ]
     },
     "execution_count": 13,
     "metadata": {},
     "output_type": "execute_result"
    }
   ],
   "source": [
    "newmodel.a"
   ]
  },
  {
   "cell_type": "code",
   "execution_count": 14,
   "id": "9e52a845-24e4-4596-89b2-3e541f9a4231",
   "metadata": {},
   "outputs": [
    {
     "data": {
      "text/plain": [
       "7"
      ]
     },
     "execution_count": 14,
     "metadata": {},
     "output_type": "execute_result"
    }
   ],
   "source": [
    "newmodel.test(3,4)"
   ]
  },
  {
   "cell_type": "markdown",
   "id": "36708b6f-65c0-4bea-b1fa-6ce90e77569b",
   "metadata": {},
   "source": [
    "### **正常情况，导入的包都是在当前项目的目录下的，和你的主文件同等级**\n",
    "\n",
    "### **一般来说，当你安装Python之后就会同时安装很多自带的内置模块，一般在`lib`中**\n",
    "\n",
    "#### **例如导入Python自带的模块：`os`**"
   ]
  },
  {
   "cell_type": "code",
   "execution_count": 8,
   "id": "a9fc9f13-f1a7-4a18-aba6-48c4de3d389b",
   "metadata": {},
   "outputs": [
    {
     "data": {
      "text/plain": [
       "['.ipynb_checkpoints',\n",
       " 'examples',\n",
       " 'images',\n",
       " 'model.py',\n",
       " '__pycache__',\n",
       " '第七章、Python编程：模块与包.ipynb']"
      ]
     },
     "execution_count": 8,
     "metadata": {},
     "output_type": "execute_result"
    }
   ],
   "source": [
    "import os\n",
    "\n",
    "os.listdir('./')"
   ]
  },
  {
   "cell_type": "markdown",
   "id": "379c2aee-b520-44d2-b196-c90eef6fb520",
   "metadata": {},
   "source": [
    "### **很容易发现，我们这个目录下并没有：os这个模块，那么我们是怎么导入的呢**\n",
    "\n",
    "### **这是因为当你运行Python时，除了当前，它会启动一个默认的搜索的目录，我们可以查看**"
   ]
  },
  {
   "cell_type": "code",
   "execution_count": 15,
   "id": "ecd26f22-0070-4a53-ad0b-c7bfd80a3dae",
   "metadata": {},
   "outputs": [
    {
     "data": {
      "text/plain": [
       "['E:\\\\notebook\\\\B站\\\\花卷学Python\\\\7. Python编程：模块与包',\n",
       " 'D:\\\\anaconda\\\\python39.zip',\n",
       " 'D:\\\\anaconda\\\\DLLs',\n",
       " 'D:\\\\anaconda\\\\lib',\n",
       " 'D:\\\\anaconda',\n",
       " '',\n",
       " 'D:\\\\anaconda\\\\Lib\\\\site-packages',\n",
       " 'D:\\\\anaconda\\\\Lib\\\\site-packages\\\\locket-0.2.1-py3.9.egg',\n",
       " 'D:\\\\anaconda\\\\Lib\\\\site-packages\\\\win32',\n",
       " 'D:\\\\anaconda\\\\Lib\\\\site-packages\\\\win32\\\\lib',\n",
       " 'D:\\\\anaconda\\\\Lib\\\\site-packages\\\\Pythonwin',\n",
       " 'D:\\\\anaconda\\\\Lib\\\\site-packages\\\\IPython\\\\extensions',\n",
       " 'C:\\\\Users\\\\DELL\\\\.ipython']"
      ]
     },
     "execution_count": 15,
     "metadata": {},
     "output_type": "execute_result"
    }
   ],
   "source": [
    "import sys\n",
    "sys.path"
   ]
  },
  {
   "cell_type": "markdown",
   "id": "5534fcfb-2712-4cb0-88ca-3325dac47aa8",
   "metadata": {},
   "source": [
    "### **也就是说，除了项目所在当前路径，上述路径的模块我们可以直接导入**"
   ]
  },
  {
   "cell_type": "markdown",
   "id": "6df9c57f-7f0c-46f1-aac4-0ab5dcf7307d",
   "metadata": {},
   "source": [
    "### **那么可能有时候我要导入的模块不在当前目录，也不在上述默认目录，那想导入怎么办呢**\n",
    "\n",
    "### **只需要把你需要导入的模块所在目录添加到：sys.path即可，这样就不需要写很长的目录**"
   ]
  },
  {
   "cell_type": "code",
   "execution_count": 24,
   "id": "dcaf11e0-aa53-4230-869b-8b960c82605a",
   "metadata": {},
   "outputs": [],
   "source": [
    "import examples.model1"
   ]
  },
  {
   "cell_type": "code",
   "execution_count": 22,
   "id": "a2416b67-07f8-40c5-98fd-9da05017ae24",
   "metadata": {},
   "outputs": [],
   "source": [
    "import sys\n",
    "\n",
    "your_path = './examples'\n",
    "\n",
    "sys.path.append(your_path)"
   ]
  },
  {
   "cell_type": "code",
   "execution_count": 23,
   "id": "3c68868d-4623-4348-aea1-309024d5a927",
   "metadata": {},
   "outputs": [],
   "source": [
    "import model1"
   ]
  },
  {
   "cell_type": "markdown",
   "id": "a7bb4c04-89aa-4685-9194-0158e3310d71",
   "metadata": {},
   "source": [
    "### **那么问题来了：**\n",
    "\n",
    "model模块里面有两个变量：但是我们只想使用变量a，而不使用变量b，这样只导入模块的一部分那应该怎么实现呢\n",
    "\n",
    "#### **Python提供关键字：from 模块 import ... ，来导入模块的一部分**"
   ]
  },
  {
   "cell_type": "code",
   "execution_count": 17,
   "id": "11e85838-3ba5-4ec8-bdf2-9039e2908cc7",
   "metadata": {},
   "outputs": [],
   "source": [
    "from model import a"
   ]
  },
  {
   "cell_type": "code",
   "execution_count": 18,
   "id": "d1b7a211-63e1-4373-94b6-021ef6d51bfe",
   "metadata": {},
   "outputs": [
    {
     "data": {
      "text/plain": [
       "1"
      ]
     },
     "execution_count": 18,
     "metadata": {},
     "output_type": "execute_result"
    }
   ],
   "source": [
    "a"
   ]
  },
  {
   "cell_type": "code",
   "execution_count": 19,
   "id": "8fe58d84-9be4-4468-9ab2-2c1c04241ebc",
   "metadata": {},
   "outputs": [
    {
     "data": {
      "text/plain": [
       "21"
      ]
     },
     "execution_count": 19,
     "metadata": {},
     "output_type": "execute_result"
    }
   ],
   "source": [
    "from model import test\n",
    "\n",
    "test(10,11)"
   ]
  },
  {
   "cell_type": "code",
   "execution_count": 20,
   "id": "c99b38bd-094d-4cbd-86d5-35aed175b185",
   "metadata": {},
   "outputs": [
    {
     "data": {
      "text/plain": [
       "110"
      ]
     },
     "execution_count": 20,
     "metadata": {},
     "output_type": "execute_result"
    }
   ],
   "source": [
    "from model import User\n",
    "\n",
    "user = User(10,11)\n",
    "user.muls()"
   ]
  },
  {
   "cell_type": "markdown",
   "id": "52d6a507-a9be-4b79-bd74-ea6cbf29cd1c",
   "metadata": {},
   "source": [
    "### **Python提供关键字：from 模块 import * ，来导入模块的全部**"
   ]
  },
  {
   "cell_type": "code",
   "execution_count": 39,
   "id": "812ae6f9-dd90-4942-890f-3bfd4561c7a6",
   "metadata": {},
   "outputs": [],
   "source": [
    "from model import *"
   ]
  },
  {
   "cell_type": "markdown",
   "id": "50b13fff-3af4-4626-889e-1170149c32af",
   "metadata": {},
   "source": [
    "### **当然：from ... import ... 同样可以使用：as 重命名**"
   ]
  },
  {
   "cell_type": "code",
   "execution_count": 21,
   "id": "7d870478-2b23-4187-b906-9c8a5f1bd0b3",
   "metadata": {},
   "outputs": [
    {
     "data": {
      "text/plain": [
       "110"
      ]
     },
     "execution_count": 21,
     "metadata": {},
     "output_type": "execute_result"
    }
   ],
   "source": [
    "from model import User as uu\n",
    "\n",
    "user = uu(10,11)\n",
    "user.muls()"
   ]
  },
  {
   "cell_type": "markdown",
   "id": "a18d4e48-d19c-4505-b87b-047afc55918c",
   "metadata": {},
   "source": [
    "### **拓展：花式导入，\\_\\_import\\_\\_**"
   ]
  },
  {
   "cell_type": "code",
   "execution_count": 25,
   "id": "f4fbcf8f-d09c-48ce-8761-640124e17737",
   "metadata": {},
   "outputs": [],
   "source": [
    "uu = __import__('model')"
   ]
  },
  {
   "cell_type": "code",
   "execution_count": 26,
   "id": "c14d495c-0212-4c1d-9191-002db1f286ef",
   "metadata": {},
   "outputs": [
    {
     "data": {
      "text/plain": [
       "1"
      ]
     },
     "execution_count": 26,
     "metadata": {},
     "output_type": "execute_result"
    }
   ],
   "source": [
    "uu.a"
   ]
  },
  {
   "cell_type": "markdown",
   "id": "7d33c8e0-31c2-45d4-aea1-74d43f58e62a",
   "metadata": {},
   "source": [
    "## **主模块和非主模块**\n",
    "\n",
    "- **主模块：当前运行的主文件或者直接被使用没有被调用**\n",
    "- **非主模块：被调用的模块**\n",
    "\n",
    "**Python提供：`__name__`区分是否是主模块，当这个变量的值等于：`\"__main__\"`就说明是主模块，反之则是非出模块**"
   ]
  },
  {
   "cell_type": "code",
   "execution_count": 28,
   "id": "d2717d57-8758-464a-8ac9-24815c686d33",
   "metadata": {},
   "outputs": [
    {
     "name": "stdout",
     "output_type": "stream",
     "text": [
      "主模块\n"
     ]
    }
   ],
   "source": [
    "%run test.py"
   ]
  },
  {
   "cell_type": "code",
   "execution_count": 29,
   "id": "24910bfa-0253-4d07-af38-087849d2f8d0",
   "metadata": {},
   "outputs": [
    {
     "name": "stdout",
     "output_type": "stream",
     "text": [
      "非主模块\n"
     ]
    }
   ],
   "source": [
    "import test"
   ]
  },
  {
   "cell_type": "markdown",
   "id": "333e9bd3-0a47-4493-b1a0-427caffa4f63",
   "metadata": {},
   "source": [
    "**这样我们可以把一些代码放入等于`__main__`下面，一些放在`else`下面用来实现代码在导入时运行还是非导入时实现**"
   ]
  },
  {
   "cell_type": "markdown",
   "id": "697973e0-2b70-4394-acd9-fed2f1e81248",
   "metadata": {},
   "source": [
    "---"
   ]
  },
  {
   "cell_type": "markdown",
   "id": "4f834182-a2f4-452c-9096-2a78093f931f",
   "metadata": {},
   "source": [
    "# **二、包**\n",
    "\n",
    "---\n",
    "\n",
    "**同样的问题，当我们写了很多个模块时，很容易出现混乱，Python提供包这个东西管理模块**\n",
    "\n",
    "**比如：我们有一个models包**"
   ]
  },
  {
   "cell_type": "code",
   "execution_count": 35,
   "id": "4cf295b7-099d-47c7-871f-c1f5a64f80ab",
   "metadata": {},
   "outputs": [],
   "source": [
    "import models.model1"
   ]
  },
  {
   "cell_type": "code",
   "execution_count": 36,
   "id": "671099d6-2726-4647-a048-238ae21f961b",
   "metadata": {},
   "outputs": [],
   "source": [
    "from models import model1"
   ]
  },
  {
   "cell_type": "code",
   "execution_count": 37,
   "id": "01a92511-e8e4-4124-af85-836f0716948e",
   "metadata": {},
   "outputs": [],
   "source": [
    "from models import *"
   ]
  },
  {
   "cell_type": "code",
   "execution_count": 44,
   "id": "9964724b-ad85-4f3a-923d-9169babf8a1f",
   "metadata": {},
   "outputs": [],
   "source": [
    "from models.model import *"
   ]
  },
  {
   "cell_type": "markdown",
   "id": "794967c1-6eb2-4f11-9272-c10b0b4ae6d9",
   "metadata": {},
   "source": [
    "### **在每个包里面，Python需要我们写一个`__init__.py`文件来表示这是一个包，这个文件是必须的，没有它这就是个普通的目录**"
   ]
  },
  {
   "cell_type": "markdown",
   "id": "b601d715-f302-4af9-8fe6-5e19a5c2b5f1",
   "metadata": {},
   "source": [
    "**`__init__.py` 可以是空文件，也可以有Python代码，因为 `__init__.py` 本身就是一个模块，而它对应的模块名就是它的包名。**"
   ]
  },
  {
   "cell_type": "markdown",
   "id": "90a6fe9d-1573-4219-845f-8be4c7fea250",
   "metadata": {},
   "source": [
    "**`__init__.py`当里面写了代码就可以直接通过导入包导入里面的代码**"
   ]
  },
  {
   "cell_type": "code",
   "execution_count": 41,
   "id": "eb5fc045-0d0e-4897-b709-793c4c289404",
   "metadata": {},
   "outputs": [
    {
     "data": {
      "text/plain": [
       "1"
      ]
     },
     "execution_count": 41,
     "metadata": {},
     "output_type": "execute_result"
    }
   ],
   "source": [
    "from models import *\n",
    "a"
   ]
  },
  {
   "cell_type": "markdown",
   "id": "b9710fb3-ed1a-4ed0-b2c5-bb18c0a2e6ad",
   "metadata": {},
   "source": [
    "---"
   ]
  },
  {
   "cell_type": "markdown",
   "id": "73700f47-d4e9-44ae-a899-612bf3582f11",
   "metadata": {},
   "source": [
    "# **三、作用域**\n",
    "\n",
    "---\n",
    "\n",
    "在 Python 中，是通过 `_` 前缀来实现的。正常的函数和变量名是公开的（public），可以被直接引用，比如：abc，ni12，PI等；类似 `__xxx__`这样的变量是特殊变量，可以被直接引用，但是有特殊用途，比如上面的 `__name__` 就是特殊变量，还有 `__author__` 也是特殊变量，用来标明作者。\n",
    "\n",
    "注意，我们自己的变量一般不要用这种变量名；类似 `_xxx` 和 `__xxx` 这样的函数或变量就是非公开的（private），不应该被直接引用，比如 `_abc` ，`__abc` 等；"
   ]
  },
  {
   "cell_type": "code",
   "execution_count": 42,
   "id": "0636c7d5-294d-4a4f-a970-87468f6e18f1",
   "metadata": {},
   "outputs": [
    {
     "ename": "ImportError",
     "evalue": "cannot import name '__group' from 'models.model1' (E:\\notebook\\B站\\花卷学Python\\7. Python编程：模块与包\\models\\model1.py)",
     "output_type": "error",
     "traceback": [
      "\u001b[1;31m---------------------------------------------------------------------------\u001b[0m",
      "\u001b[1;31mImportError\u001b[0m                               Traceback (most recent call last)",
      "\u001b[1;32m~\\AppData\\Local\\Temp/ipykernel_13508/3933268553.py\u001b[0m in \u001b[0;36m<module>\u001b[1;34m\u001b[0m\n\u001b[1;32m----> 1\u001b[1;33m \u001b[1;32mfrom\u001b[0m \u001b[0mmodels\u001b[0m\u001b[1;33m.\u001b[0m\u001b[0mmodel1\u001b[0m \u001b[1;32mimport\u001b[0m \u001b[0m__group\u001b[0m\u001b[1;33m\u001b[0m\u001b[1;33m\u001b[0m\u001b[0m\n\u001b[0m",
      "\u001b[1;31mImportError\u001b[0m: cannot import name '__group' from 'models.model1' (E:\\notebook\\B站\\花卷学Python\\7. Python编程：模块与包\\models\\model1.py)"
     ]
    }
   ],
   "source": [
    "from models.model1 import __group"
   ]
  },
  {
   "cell_type": "code",
   "execution_count": 43,
   "id": "5b17574e-18c7-45cf-a0a6-a4c98a9df707",
   "metadata": {},
   "outputs": [
    {
     "ename": "AttributeError",
     "evalue": "module 'models.model1' has no attribute '__group'",
     "output_type": "error",
     "traceback": [
      "\u001b[1;31m---------------------------------------------------------------------------\u001b[0m",
      "\u001b[1;31mAttributeError\u001b[0m                            Traceback (most recent call last)",
      "\u001b[1;32m~\\AppData\\Local\\Temp/ipykernel_13508/2640522370.py\u001b[0m in \u001b[0;36m<module>\u001b[1;34m\u001b[0m\n\u001b[0;32m      1\u001b[0m \u001b[1;32mimport\u001b[0m \u001b[0mmodels\u001b[0m\u001b[1;33m.\u001b[0m\u001b[0mmodel1\u001b[0m \u001b[1;32mas\u001b[0m \u001b[0mm\u001b[0m\u001b[1;33m\u001b[0m\u001b[1;33m\u001b[0m\u001b[0m\n\u001b[0;32m      2\u001b[0m \u001b[1;33m\u001b[0m\u001b[0m\n\u001b[1;32m----> 3\u001b[1;33m \u001b[0mm\u001b[0m\u001b[1;33m.\u001b[0m\u001b[0m__group\u001b[0m\u001b[1;33m(\u001b[0m\u001b[1;33m)\u001b[0m\u001b[1;33m\u001b[0m\u001b[1;33m\u001b[0m\u001b[0m\n\u001b[0m",
      "\u001b[1;31mAttributeError\u001b[0m: module 'models.model1' has no attribute '__group'"
     ]
    }
   ],
   "source": [
    "import models.model1 as m\n",
    "\n",
    "m.__group()"
   ]
  },
  {
   "cell_type": "markdown",
   "id": "8400b928-9c26-4e81-84ee-60b7b2b2fa9f",
   "metadata": {},
   "source": [
    "---"
   ]
  },
  {
   "cell_type": "markdown",
   "id": "2e387a3d-3b9b-4c55-ae97-0f6b35ff8358",
   "metadata": {},
   "source": [
    "# **四、pip安装模块**\n",
    "\n",
    "---\n",
    "\n",
    "**Python非常的公开便利，除了自带的包之外，还有很多的强大的第三方包实现不同的功能，这种生态导致Python可以做任何事情**\n",
    "\n",
    "**在Python中，安装第三方模块，是通过包管理工具pip完成的。这个工具在你安装Python的同时就安装了。**"
   ]
  },
  {
   "cell_type": "markdown",
   "id": "b3135e8c-3cf1-4550-a675-a945706f0194",
   "metadata": {},
   "source": [
    "### **一般来说，第三方库都会在Python官方的pypi.python.org网站注册，要安装一个第三方库，必须先知道该库的名称，**\n",
    "### **可以在官网或者pypi上搜索，比如Pillow的名称叫Pillow，因此，安装Pillow的命令就是：**"
   ]
  },
  {
   "cell_type": "code",
   "execution_count": 45,
   "id": "7707ac3a-59d4-4310-a1be-f026d799442b",
   "metadata": {},
   "outputs": [
    {
     "name": "stdout",
     "output_type": "stream",
     "text": [
      "Microsoft Windows [版本 10.0.22598.200]\n",
      "(c) Microsoft Corporation。保留所有权利。\n",
      "\n",
      "E:\\notebook\\B站\\花卷学Python\\7. Python编程：模块与包>\n",
      "E:\\notebook\\B站\\花卷学Python\\7. Python编程：模块与包>pip install pillow\n",
      "Looking in indexes: http://mirrors.aliyun.com/pypi/simple/\n",
      "Requirement already satisfied: pillow in d:\\anaconda\\lib\\site-packages (8.2.0)\n",
      "\n",
      "E:\\notebook\\B站\\花卷学Python\\7. Python编程：模块与包>"
     ]
    },
    {
     "name": "stderr",
     "output_type": "stream",
     "text": [
      "WARNING: Ignoring invalid distribution -treamlit (d:\\anaconda\\lib\\site-packages)\n",
      "WARNING: Ignoring invalid distribution -pencv-contrib-python (d:\\anaconda\\lib\\site-packages)\n",
      "WARNING: Ignoring invalid distribution -treamlit (d:\\anaconda\\lib\\site-packages)\n",
      "WARNING: Ignoring invalid distribution -pencv-contrib-python (d:\\anaconda\\lib\\site-packages)\n",
      "WARNING: Ignoring invalid distribution -treamlit (d:\\anaconda\\lib\\site-packages)\n",
      "WARNING: Ignoring invalid distribution -pencv-contrib-python (d:\\anaconda\\lib\\site-packages)\n",
      "WARNING: Ignoring invalid distribution -treamlit (d:\\anaconda\\lib\\site-packages)\n",
      "WARNING: Ignoring invalid distribution -pencv-contrib-python (d:\\anaconda\\lib\\site-packages)\n",
      "WARNING: Ignoring invalid distribution -treamlit (d:\\anaconda\\lib\\site-packages)\n",
      "WARNING: Ignoring invalid distribution -pencv-contrib-python (d:\\anaconda\\lib\\site-packages)\n",
      "WARNING: Ignoring invalid distribution -treamlit (d:\\anaconda\\lib\\site-packages)\n",
      "WARNING: Ignoring invalid distribution -pencv-contrib-python (d:\\anaconda\\lib\\site-packages)\n"
     ]
    }
   ],
   "source": [
    "%%cmd\n",
    "\n",
    "pip install pillow"
   ]
  },
  {
   "cell_type": "markdown",
   "id": "8576a249-bcd9-4b08-9adc-f5ea149448b5",
   "metadata": {},
   "source": [
    "### **这里就体现了教程开始安装：Anaconda的好处，它帮助我们安装了很多第三方包**"
   ]
  },
  {
   "cell_type": "markdown",
   "id": "7d2d3c83-e452-4a96-a5cb-584e14d1d13c",
   "metadata": {},
   "source": [
    "### **拓展：正常的`pip install`搜索的是`pypi.python.org`网站，这个网站下载速度非常慢**\n",
    "### **这时候我们就要用到一些国内的镜像源，它们帮助我们可以享受高速的安装第三方模块**\n",
    "\n",
    "### **比如：清华镜像源**\n",
    "\n",
    "### **我们通过`pip install 包名 -r 镜像地址`实现**"
   ]
  },
  {
   "cell_type": "code",
   "execution_count": 46,
   "id": "e7213d72-8cea-47d4-a0aa-e990144ca4e2",
   "metadata": {},
   "outputs": [
    {
     "name": "stdout",
     "output_type": "stream",
     "text": [
      "Microsoft Windows [版本 10.0.22598.200]\n",
      "(c) Microsoft Corporation。保留所有权利。\n",
      "\n",
      "E:\\notebook\\B站\\花卷学Python\\7. Python编程：模块与包>\n",
      "E:\\notebook\\B站\\花卷学Python\\7. Python编程：模块与包>pip install pillow -r https://pypi.tuna.tsinghua.edu.cn/simple\n",
      "\n",
      "E:\\notebook\\B站\\花卷学Python\\7. Python编程：模块与包>"
     ]
    },
    {
     "name": "stderr",
     "output_type": "stream",
     "text": [
      "WARNING: Ignoring invalid distribution -treamlit (d:\\anaconda\\lib\\site-packages)\n",
      "WARNING: Ignoring invalid distribution -pencv-contrib-python (d:\\anaconda\\lib\\site-packages)\n",
      "ERROR: Invalid requirement: '<!DOCTYPE html>' (from line 1 of https://pypi.tuna.tsinghua.edu.cn/simple)\n",
      "WARNING: Ignoring invalid distribution -treamlit (d:\\anaconda\\lib\\site-packages)\n",
      "WARNING: Ignoring invalid distribution -pencv-contrib-python (d:\\anaconda\\lib\\site-packages)\n",
      "WARNING: Ignoring invalid distribution -treamlit (d:\\anaconda\\lib\\site-packages)\n",
      "WARNING: Ignoring invalid distribution -pencv-contrib-python (d:\\anaconda\\lib\\site-packages)\n",
      "WARNING: Ignoring invalid distribution -treamlit (d:\\anaconda\\lib\\site-packages)\n",
      "WARNING: Ignoring invalid distribution -pencv-contrib-python (d:\\anaconda\\lib\\site-packages)\n"
     ]
    }
   ],
   "source": [
    "%%cmd\n",
    "\n",
    "pip install pillow -r https://pypi.tuna.tsinghua.edu.cn/simple"
   ]
  },
  {
   "cell_type": "markdown",
   "id": "658e810d-3742-4954-9d3c-6d6b0d1f28eb",
   "metadata": {},
   "source": [
    "## **常用镜像源**\n",
    "\n",
    "- [x] **清华镜像源：https://pypi.tuna.tsinghua.edu.cn/simple**\n",
    "- [x] **淘宝：http://mirrors.aliyun.com/pypi/simple/**\n",
    "- [x] **腾讯：http://mirrors.cloud.tencent.com/pypi/simple ：极力推荐，下载速度很快**\n",
    "- [x] **华为：https://repo.huaweicloud.com/repository/pypi/simple/**\n",
    "- [x] **中国科学技术大学：https://pypi.mirrors.ustc.edu.cn/simple**\n",
    "- [x] **豆瓣：http://pypi.douban.com/simple/**"
   ]
  },
  {
   "cell_type": "markdown",
   "id": "d3bb4f2e-4b39-4bec-a794-2dba8e7a3258",
   "metadata": {},
   "source": [
    "### **但是如果我们每次安装后面都加个：`-r 镜像地址`很麻烦，这里教大家一个一劳永逸的方法**\n",
    "\n",
    "- [x] **打开配置文件 ~/.pip/pip.conf（linux），windows则是：C:\\Users\\你的用户名，假如：**\n",
    "\n",
    "```python\n",
    "[global]\n",
    "index-url = https://pypi.tuna.tsinghua.edu.cn/simple\n",
    "[install]\n",
    "trusted-host = https://pypi.tuna.tsinghua.edu.cn\n",
    "```"
   ]
  },
  {
   "cell_type": "markdown",
   "id": "f5f304f8-5ae3-458b-be5d-cb964998a9b7",
   "metadata": {},
   "source": [
    "### **我们可以通过：pip config list，查看镜像的配置**"
   ]
  },
  {
   "cell_type": "code",
   "execution_count": 47,
   "id": "ce904c6b-c617-4115-a09e-ea44a3fbea24",
   "metadata": {},
   "outputs": [
    {
     "name": "stdout",
     "output_type": "stream",
     "text": [
      "Microsoft Windows [版本 10.0.22598.200]\n",
      "(c) Microsoft Corporation。保留所有权利。\n",
      "\n",
      "E:\\notebook\\B站\\花卷学Python\\7. Python编程：模块与包>\n",
      "E:\\notebook\\B站\\花卷学Python\\7. Python编程：模块与包>pip config list\n",
      "global.cache-dir='D:/pipcache'\n",
      "global.index-url='http://mirrors.aliyun.com/pypi/simple/'\n",
      "global.timeout='6000'\n",
      "global.trusted-host='mirrors.aliyun.com'\n",
      "\n",
      "E:\\notebook\\B站\\花卷学Python\\7. Python编程：模块与包>"
     ]
    }
   ],
   "source": [
    "%%cmd\n",
    "\n",
    "pip config list"
   ]
  },
  {
   "cell_type": "markdown",
   "id": "e3cf3da8-c237-4b1e-8139-1ffe255a32f3",
   "metadata": {},
   "source": [
    "## **pip常用命令**\n",
    "\n",
    "- [x] **Python2：pip2**\n",
    "- [x] **Python3：pip3**\n",
    "- [x] **你安装的哪个版本就可以直接使用：pip**\n",
    "\n",
    "\n",
    "## **命令集合**\n",
    "- [x] **pip install 包名：安装包**\n",
    "- [x] **pip uninstall 包名：卸载包**\n",
    "- [x] **pip install 包名 –upgrade：更新包**\n",
    "- [x] **pip install pip --upgrade：更新pip自己**\n",
    "- [x] **pip config list：查看配置信息**\n",
    "- [x] **pip download 包名 -d your_path：**\n",
    "- [x] **pip show 包名：展示指定的已安装的包**\n",
    "- [x] **pip check 包名：检查某个包的依赖是否合适**\n",
    "- [x] **pip search 包名：在pypi里搜索相关包**\n",
    "- [x] **pip cache dir：缓存目录**\n",
    "- [x] **pip cache info：缓存的一些信息**\n",
    "- [x] **pip wheel 包名：打包成二进制文件**\n",
    "- [x] **pip help：获取pip帮助信息**"
   ]
  },
  {
   "cell_type": "code",
   "execution_count": null,
   "id": "c99a7c0e-aada-4ffb-9ebd-83aec7deb64f",
   "metadata": {},
   "outputs": [],
   "source": []
  }
 ],
 "metadata": {
  "kernelspec": {
   "display_name": "Python 3 (ipykernel)",
   "language": "python",
   "name": "python3"
  },
  "language_info": {
   "codemirror_mode": {
    "name": "ipython",
    "version": 3
   },
   "file_extension": ".py",
   "mimetype": "text/x-python",
   "name": "python",
   "nbconvert_exporter": "python",
   "pygments_lexer": "ipython3",
   "version": "3.9.7"
  }
 },
 "nbformat": 4,
 "nbformat_minor": 5
}
