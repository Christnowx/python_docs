{
 "cells": [
  {
   "cell_type": "markdown",
   "id": "e68555fc-99ec-4365-bf8c-1b2813cb5ab7",
   "metadata": {},
   "source": [
    "# **花卷学Python**\n",
    "---\n",
    "\n",
    "> **我年纪轻轻就学会了Python编程**\n",
    "\n",
    "\n",
    "# **第五章、Python编程：函数、装饰器**\n",
    "\n",
    " - [x] **函数**\n",
    " - [x] **return和yield：再看生成器**\n",
    " - [x] **局部变量和全局变量**\n",
    " - [x] **匿名函数**\n",
    " - [x] **内置函数**\n",
    " - [x] **装饰器**"
   ]
  },
  {
   "cell_type": "markdown",
   "id": "8ff4f286-7fb3-435a-ad1c-2e91b50abc93",
   "metadata": {},
   "source": [
    "---"
   ]
  },
  {
   "cell_type": "markdown",
   "id": "a8fd5c5a-caa0-4df6-8096-03c00941d81e",
   "metadata": {},
   "source": [
    "# **一、函数**\n",
    "\n",
    "---\n",
    "\n",
    "函数，其实我们一开始学 Python 的时候就接触过。\n",
    "\n",
    "比如基本每个章节都会出现的 `print()`  函数。\n",
    "\n",
    "而现在，我们主要学习的是自定义函数。\n",
    "\n",
    "**各位有没有想过为什么需要函数呢？**\n",
    "\n",
    "如果要想回答这个问题，我们需要先了解函数是什么？\n",
    "\n",
    "函数就是组织好的，可重复使用的，用来实现单一，或相关联功能的代码段。\n",
    "\n",
    "没错，函数其实就是把代码抽象出来的代码段。\n",
    "\n",
    "那为什么要抽象出来呢？\n",
    "\n",
    "**方便我们使用，方便我们重复使用。**\n",
    "\n",
    "**函数的本质就是我们把一些数据喂给函数，让他内部消化，然后吐出你想要的东西，至于他怎么消化的，我们不需要知道，它内部解决。**\n",
    "\n",
    "怎么理解这句话呢？\n",
    "\n",
    "举个例子，好比`print()`函数，我们每次可以直接使用是因为已经定义好了，想象一下假如我们每次要打印都要实现一下这个函数，那不是很麻烦很重复嘛。"
   ]
  },
  {
   "cell_type": "markdown",
   "id": "72c68055-0dda-42e5-9ebd-235832ce427c",
   "metadata": {},
   "source": [
    "## **函数定义**\n",
    "\n",
    "Python通过关键字`def`来定义一个函数，通过return（或者后文的yield）返回结果，格式如下：\n",
    "\n",
    "```python\n",
    "\n",
    "def 函数名(参数1，参数2....参数n):\n",
    "    \"\"\"函数说明\"\"\"\n",
    "    函数体\n",
    "    return 语句\n",
    "\n",
    "```\n",
    "\n",
    "这就是 Python 函数的组成部分。\n",
    "\n",
    "所以自定义函数，基本有以下规则步骤：\n",
    "\n",
    "- 函数代码块以 def 关键词开头，后接函数标识符名称和圆括号()\n",
    "- 任何传入参数和自变量必须放在圆括号中间。圆括号之间可以用于定义参数\n",
    "- 函数的第一行语句可以选择性地使用文档字符串（用于存放函数说明）\n",
    "- 函数内容以冒号起始，并且缩进\n",
    "- return [表达式] 结束函数，选择性地返回一个值给调用方。不带表达式的 return 相当于返回 None。"
   ]
  },
  {
   "cell_type": "markdown",
   "id": "1e5b6ba2-6c18-4ff2-9b16-55e578496285",
   "metadata": {},
   "source": [
    "## **函数命名规则**\n",
    "\n",
    "Python的函数名字必须是大小写英文、数字和下划线（_）的组合，且不能用数字开头。\n",
    "\n",
    "**一般来说我们遵循以下原则：**\n",
    "\n",
    "- 函数名一律小写，如有多个单词，用下划线隔开（蛇形命名，增加可读性）。\n",
    "- 私有函数：以 __ （两个下划线）开头，其余和普通函数保持一致（并且外部导入时不能直接访问）。"
   ]
  },
  {
   "cell_type": "markdown",
   "id": "1285a7a7-010d-4a09-a4fc-3947aa134da9",
   "metadata": {},
   "source": [
    "## **Example**\n",
    "\n",
    "**定义一个求两数之和的函数：**\n",
    "\n",
    "```python\n",
    "\n",
    "def sum_number(num1,num2):\n",
    "    \"\"\"这是函数说明文档：两数之后\"\"\"\n",
    "    return num1 + num2\n",
    "\n",
    "```\n",
    "\n",
    "**上述函数的含义：**\n",
    "\n",
    "* def 定义一个函数，给定一个函数名 sum_number\n",
    "* 声明两个参数 num1 和 num2\n",
    "* 函数的第一行语句进行函数说明：两数之和\n",
    "* 最终 return 语句结束函数，并返回两数之和\n",
    "\n",
    "\n",
    "**上述定义好我们就可以调用这个函数计算**\n",
    "\n",
    "**调用函数：使用函数名加传入的参数**\n",
    "\n",
    "```python\n",
    "\n",
    "num1 = 1\n",
    "num2 = 2\n",
    "\n",
    "res = sum_number(num1,num2)\n",
    "\n",
    "print(res)\n",
    "```"
   ]
  },
  {
   "cell_type": "code",
   "execution_count": 2,
   "id": "1b3eb742-54f7-43b7-a0bd-83e76e1c5c1e",
   "metadata": {},
   "outputs": [
    {
     "name": "stdout",
     "output_type": "stream",
     "text": [
      "3\n"
     ]
    }
   ],
   "source": [
    "def sum_number(num1,num2):\n",
    "    return num1 + num2\n",
    "\n",
    "num1 = 1\n",
    "num2 = 2\n",
    "\n",
    "res = sum_number(num1,num2)\n",
    "\n",
    "print(res)"
   ]
  },
  {
   "cell_type": "markdown",
   "id": "a88c5265-5c28-4c30-a346-daec02047322",
   "metadata": {},
   "source": [
    "## **多个函数可以互相调用**\n",
    "\n",
    "**假如我们定义两个函数，并且调用**"
   ]
  },
  {
   "cell_type": "code",
   "execution_count": 5,
   "id": "60901dd2-ce7a-435c-ab1d-cf630026a883",
   "metadata": {},
   "outputs": [
    {
     "name": "stdout",
     "output_type": "stream",
     "text": [
      "9\n"
     ]
    }
   ],
   "source": [
    "### 定义两个函数\n",
    "\n",
    "def sum_number(num1,num2):\n",
    "    return num1+num2\n",
    "\n",
    "def mul_number(num1,num2,num3):\n",
    "    res = sum_number(num1,num2)\n",
    "    res = res * num3\n",
    "    return res\n",
    "\n",
    "num1, num2, num3 = 1, 2, 3\n",
    "\n",
    "res = mul_number(num1,num2,num3)\n",
    "\n",
    "print(res)"
   ]
  },
  {
   "cell_type": "markdown",
   "id": "b8b7090c-3c7b-4b61-ba57-32bba2c60c13",
   "metadata": {},
   "source": [
    "## **函数返回值**\n",
    "\n",
    "通过 return [表达式] 语句用于退出函数，选择性地向调用方返回一个表达式。\n",
    "\n",
    "**不带参数值的 return 语句返回 None。**\n",
    "\n",
    "**例如：**\n",
    "\n",
    "```python\n",
    "\n",
    "def mul_number(num1,num2,num3):\n",
    "    res = sum_number(num1,num2)\n",
    "    res = res * num3\n",
    "    return res\n",
    "\n",
    "```\n",
    "\n",
    "**这个函数的返回值就是：res变量的结果**\n",
    "\n",
    "**再例如：**\n",
    "\n",
    "```python\n",
    "\n",
    "def mul_number(num1,num2,num3):\n",
    "    res = sum_number(num1,num2)\n",
    "    res = res * num3\n",
    "\n",
    "```\n",
    "\n",
    "**因为这个函数没有return语句返回，所以默认返回None空值**"
   ]
  },
  {
   "cell_type": "code",
   "execution_count": 6,
   "id": "33828c38-b0d6-44b0-a89c-b26327ceba6c",
   "metadata": {},
   "outputs": [
    {
     "name": "stdout",
     "output_type": "stream",
     "text": [
      "9\n"
     ]
    }
   ],
   "source": [
    "def sum_number(num1,num2):\n",
    "    return num1+num2\n",
    "\n",
    "def mul_number(num1,num2,num3):\n",
    "    res = sum_number(num1,num2)\n",
    "    res = res * num3\n",
    "    return res\n",
    "\n",
    "num1, num2, num3 = 1, 2, 3\n",
    "\n",
    "res = mul_number(num1,num2,num3)\n",
    "\n",
    "print(res)"
   ]
  },
  {
   "cell_type": "code",
   "execution_count": 7,
   "id": "72b9c0eb-26b0-4117-b7d1-e448fd741725",
   "metadata": {},
   "outputs": [
    {
     "name": "stdout",
     "output_type": "stream",
     "text": [
      "None\n"
     ]
    }
   ],
   "source": [
    "def sum_number(num1,num2):\n",
    "    return num1+num2\n",
    "\n",
    "def mul_number(num1,num2,num3):\n",
    "    res = sum_number(num1,num2)\n",
    "    res = res * num3\n",
    "    \n",
    "\n",
    "num1, num2, num3 = 1, 2, 3\n",
    "\n",
    "res = mul_number(num1,num2,num3)\n",
    "\n",
    "print(res)"
   ]
  },
  {
   "cell_type": "markdown",
   "id": "b40a0379-4e9b-4653-bd85-8526f9a75efa",
   "metadata": {},
   "source": [
    "### **函数可以返回多个值**\n",
    "\n",
    "**Python 语言中的函数返回值可以是多个，用逗号：`,`分割，其实这种返回就是一个元祖**\n",
    "\n",
    "**例如：**"
   ]
  },
  {
   "cell_type": "code",
   "execution_count": 8,
   "id": "6c8b1ca8-b60b-4323-923e-ef6faabf2b1e",
   "metadata": {},
   "outputs": [
    {
     "name": "stdout",
     "output_type": "stream",
     "text": [
      "(3, 9)\n"
     ]
    }
   ],
   "source": [
    "def sum_number(num1,num2):\n",
    "    return num1+num2\n",
    "\n",
    "def mul_number(num1,num2,num3):\n",
    "    res1 = sum_number(num1,num2)\n",
    "    res2 = res1 * num3\n",
    "    return res1, res2\n",
    "\n",
    "num1, num2, num3 = 1, 2, 3\n",
    "\n",
    "res = mul_number(num1,num2,num3)\n",
    "\n",
    "print(res)"
   ]
  },
  {
   "cell_type": "markdown",
   "id": "fa1b63b1-1c29-4268-a77a-60b40e6b4b32",
   "metadata": {},
   "source": [
    "### **这种多个值的返回可以使用相同个数的变量接收返回值**"
   ]
  },
  {
   "cell_type": "code",
   "execution_count": 9,
   "id": "cb580acf-bf52-4d1e-b413-6752420196a9",
   "metadata": {},
   "outputs": [
    {
     "name": "stdout",
     "output_type": "stream",
     "text": [
      "3 9\n"
     ]
    }
   ],
   "source": [
    "def sum_number(num1,num2):\n",
    "    return num1+num2\n",
    "\n",
    "def mul_number(num1,num2,num3):\n",
    "    res1 = sum_number(num1,num2)\n",
    "    res2 = res1 * num3\n",
    "    return res1, res2\n",
    "\n",
    "num1, num2, num3 = 1, 2, 3\n",
    "\n",
    "res1, res2 = mul_number(num1,num2,num3)\n",
    "\n",
    "print(res1, res2)"
   ]
  },
  {
   "cell_type": "markdown",
   "id": "7498f963-ce00-402e-a1b8-bcaa349e0b72",
   "metadata": {},
   "source": [
    "## **函数参数**\n",
    "\n",
    "上面函数定义我们说过：num1和num2就是函数的参数\n",
    "\n",
    "设置与传递参数是函数的重点，而 Python 的函数对参数的支持非常的灵活。\n",
    "\n",
    "主要的参数类型有：默认参数、关键字参数（位置参数）、不定长参数。\n",
    "\n",
    "正常情况下：调用函数传参不指定参数名时都是按照位置顺序赋值的"
   ]
  },
  {
   "cell_type": "markdown",
   "id": "33b3224e-bc05-444c-b0eb-9259a6f8b299",
   "metadata": {},
   "source": [
    "## **默认参数**\n",
    "\n",
    "有时候，我们自定义的函数中，如果调用的时候没有设置参数，需要给个默认值，这时候就需要用到默认值参数了。\n",
    "\n",
    "默认参数，只要在构造函数参数的时候，给参数赋值就可以了"
   ]
  },
  {
   "cell_type": "code",
   "execution_count": 10,
   "id": "35383bf0-6e27-4763-ac07-9f40a03431c8",
   "metadata": {},
   "outputs": [
    {
     "name": "stdout",
     "output_type": "stream",
     "text": [
      "4\n"
     ]
    }
   ],
   "source": [
    "def sum_number(num1,num2 = 2):\n",
    "    return num1+num2\n",
    "\n",
    "num1 = 2\n",
    "\n",
    "res = sum_number(num1)\n",
    "\n",
    "print(res)"
   ]
  },
  {
   "cell_type": "markdown",
   "id": "71d3fd0b-6102-4ec1-8fde-6e4993ec3b89",
   "metadata": {},
   "source": [
    "从输出结果可以看到，当你设置了默认参数的时候，在调用函数的时候，不传该参数，就会使用默认值。\n",
    "\n",
    "但是这里需要注意的一点是：**只有在形参表末尾的那些参数可以有默认参数值**，也就是说你不能在声明函数形参的时候，先声明有默认值的形参而后声明没有默认值的形参。\n",
    "\n",
    "这是因为赋给形参的值是根据位置而赋值的。例如，`def sum_number(num1,num2 = 2)` 是有效的，但是 `def sum_number(num1=2,num2)` 是 无效 的。"
   ]
  },
  {
   "cell_type": "markdown",
   "id": "84d3dce3-1263-4047-8443-cd6663b79ab3",
   "metadata": {},
   "source": [
    "**需要注意：默认参数的值原则上最好是不可变的对象，比如None、True、False、数字或字符串等。**\n",
    "\n",
    "**我们来看一下默认参数是可变对象如：列表 的时候带来的影响：**"
   ]
  },
  {
   "cell_type": "code",
   "execution_count": 14,
   "id": "3c003580-2c66-401b-9e5b-ac9ca4bb2170",
   "metadata": {},
   "outputs": [
    {
     "name": "stdout",
     "output_type": "stream",
     "text": [
      "b的值是：[]\n"
     ]
    }
   ],
   "source": [
    "def test(a, b = []):\n",
    "    print(f\"b的值是：{b}\")\n",
    "    return b\n",
    "\n",
    "res = test(1)\n",
    "res.append(2)"
   ]
  },
  {
   "cell_type": "code",
   "execution_count": 15,
   "id": "86d85336-ba82-43c0-90ca-a90075ed7153",
   "metadata": {},
   "outputs": [
    {
     "name": "stdout",
     "output_type": "stream",
     "text": [
      "b的值是：[2]\n"
     ]
    }
   ],
   "source": [
    "res = test(2)\n",
    "res.append(3)"
   ]
  },
  {
   "cell_type": "markdown",
   "id": "9420016b-1fc3-4531-a8fc-b0b091deb25e",
   "metadata": {},
   "source": [
    "## **关键字参数（位置参数）**\n",
    "\n",
    "一般情况下，函数传参，是要按顺序来的，如果不对应顺序，就会传错值。\n",
    "\n",
    "不过在 Python 中，可以通过参数名来给函数传递参数，而不用关心参数列表定义时的顺序，这被称之为关键字参数。\n",
    "\n",
    "使用关键参数有两个优势 ：\n",
    "\n",
    "- 由于我们不必担心参数的顺序，使用函数变得更加简单了。\n",
    "\n",
    "- 假设其他参数都有默认值，我们可以只给我们想要的那些参数赋值"
   ]
  },
  {
   "cell_type": "code",
   "execution_count": 19,
   "id": "1cc95dbb-d98c-455d-988b-1ed8ce3dd8d2",
   "metadata": {},
   "outputs": [
    {
     "name": "stdout",
     "output_type": "stream",
     "text": [
      "a = 1\n",
      "b = 2\n",
      "c = 3\n"
     ]
    }
   ],
   "source": [
    "def test(a,b,c = 10):\n",
    "    print(f\"a = {a}\")\n",
    "    print(f\"b = {b}\")\n",
    "    print(f\"c = {c}\")\n",
    "    \n",
    "\n",
    "test(1,2,3)"
   ]
  },
  {
   "cell_type": "code",
   "execution_count": 20,
   "id": "3b2000ba-d188-436e-a288-08ff3914a2b1",
   "metadata": {},
   "outputs": [
    {
     "name": "stdout",
     "output_type": "stream",
     "text": [
      "a = 1\n",
      "b = 2\n",
      "c = 3\n"
     ]
    }
   ],
   "source": [
    "test(a = 1, b = 2, c = 3)"
   ]
  },
  {
   "cell_type": "markdown",
   "id": "5e78613a-8c19-47b5-99e1-3dc8949c9853",
   "metadata": {},
   "source": [
    "### **如果只给函数某几个而不是全部传参就可以通过位置参数实现**"
   ]
  },
  {
   "cell_type": "code",
   "execution_count": 21,
   "id": "ce4eba6e-d841-4168-8236-602724097748",
   "metadata": {},
   "outputs": [
    {
     "name": "stdout",
     "output_type": "stream",
     "text": [
      "a = 1\n",
      "b = 3\n",
      "c = 10\n"
     ]
    }
   ],
   "source": [
    "test(a = 1, b = 3)"
   ]
  },
  {
   "cell_type": "markdown",
   "id": "a892d34d-b0b9-422b-877c-3757631b905c",
   "metadata": {},
   "source": [
    "## **不定长参数**\n",
    "\n",
    "或许有些时候，我们在设计函数的时候，我们有时候无法确定传入的参数个数。\n",
    "\n",
    "那么我们就可以使用不定长参数。\n",
    "\n",
    "Python 提供了一种元组的方式来接受没有直接定义的参数。这种方式在参数前边加星号 `*` 。\n",
    "\n",
    "如果在函数调用时没有指定参数，它就是一个空元组。我们也可以向函数传递未命名的变量。"
   ]
  },
  {
   "cell_type": "code",
   "execution_count": 22,
   "id": "358d15ef-fb8f-4a93-8298-2bb703c47d0f",
   "metadata": {},
   "outputs": [
    {
     "name": "stdout",
     "output_type": "stream",
     "text": [
      "a = 1\n",
      "b = 2\n",
      "c = (3, 4, 5, 6, 7)\n"
     ]
    }
   ],
   "source": [
    "def test(a,b,*c):\n",
    "    print(f'a = {a}')\n",
    "    print(f\"b = {b}\")\n",
    "    print(f\"c = {c}\")\n",
    "    \n",
    "    \n",
    "test(1,2,3,4,5,6,7)"
   ]
  },
  {
   "cell_type": "markdown",
   "id": "2545faf8-c67c-488d-8e65-44094eefbfb9",
   "metadata": {},
   "source": [
    "### **这种元祖的方式不能使用参数名传入**"
   ]
  },
  {
   "cell_type": "code",
   "execution_count": 27,
   "id": "ae899fd3-1b8c-4216-aa3b-d114e41b3cef",
   "metadata": {},
   "outputs": [
    {
     "ename": "TypeError",
     "evalue": "test() got an unexpected keyword argument 'c1'",
     "output_type": "error",
     "traceback": [
      "\u001b[1;31m---------------------------------------------------------------------------\u001b[0m",
      "\u001b[1;31mTypeError\u001b[0m                                 Traceback (most recent call last)",
      "\u001b[1;32m~\\AppData\\Local\\Temp/ipykernel_10624/1286350429.py\u001b[0m in \u001b[0;36m<module>\u001b[1;34m\u001b[0m\n\u001b[0;32m      5\u001b[0m \u001b[1;33m\u001b[0m\u001b[0m\n\u001b[0;32m      6\u001b[0m \u001b[1;33m\u001b[0m\u001b[0m\n\u001b[1;32m----> 7\u001b[1;33m \u001b[0mtest\u001b[0m\u001b[1;33m(\u001b[0m\u001b[1;36m1\u001b[0m\u001b[1;33m,\u001b[0m \u001b[1;36m2\u001b[0m\u001b[1;33m,\u001b[0m \u001b[0mc1\u001b[0m \u001b[1;33m=\u001b[0m \u001b[1;36m3\u001b[0m\u001b[1;33m,\u001b[0m \u001b[0mc2\u001b[0m \u001b[1;33m=\u001b[0m \u001b[1;36m4\u001b[0m\u001b[1;33m,\u001b[0m \u001b[0mc3\u001b[0m \u001b[1;33m=\u001b[0m \u001b[1;36m5\u001b[0m\u001b[1;33m,\u001b[0m \u001b[0mc4\u001b[0m \u001b[1;33m=\u001b[0m \u001b[1;36m6\u001b[0m\u001b[1;33m,\u001b[0m \u001b[0mc5\u001b[0m \u001b[1;33m=\u001b[0m \u001b[1;36m7\u001b[0m\u001b[1;33m)\u001b[0m\u001b[1;33m\u001b[0m\u001b[1;33m\u001b[0m\u001b[0m\n\u001b[0m",
      "\u001b[1;31mTypeError\u001b[0m: test() got an unexpected keyword argument 'c1'"
     ]
    }
   ],
   "source": [
    "def test(a,b,*c):\n",
    "    print(f'a = {a}')\n",
    "    print(f\"b = {b}\")\n",
    "    print(f\"c = {c}\")\n",
    "    \n",
    "    \n",
    "test(1, 2, c1 = 3, c2 = 4, c3 = 5, c4 = 6, c5 = 7)"
   ]
  },
  {
   "cell_type": "markdown",
   "id": "fc21c8fd-a4b9-47a9-9061-abdba6c31e63",
   "metadata": {},
   "source": [
    "### **还可以是 `**`，这是以字典的方式传参，没有传入就是一个空字典。**"
   ]
  },
  {
   "cell_type": "code",
   "execution_count": 29,
   "id": "19c21001-c92e-4ce4-a1cd-b13e82b49f66",
   "metadata": {},
   "outputs": [
    {
     "name": "stdout",
     "output_type": "stream",
     "text": [
      "a = 1\n",
      "b = 2\n",
      "c = {'c1': 3, 'c2': 4, 'c3': 5}\n"
     ]
    }
   ],
   "source": [
    "def test(a,b,**c):\n",
    "    print(f'a = {a}')\n",
    "    print(f\"b = {b}\")\n",
    "    print(f\"c = {c}\")\n",
    "    \n",
    "    \n",
    "test(1,2, c1 = 3, c2 = 4, c3 = 5)"
   ]
  },
  {
   "cell_type": "markdown",
   "id": "4c50b6b3-6b8b-40a8-b668-c9b8ebb84efb",
   "metadata": {},
   "source": [
    "### **不同于元祖传参，这种字典的方式必须写参数名字**"
   ]
  },
  {
   "cell_type": "code",
   "execution_count": 30,
   "id": "c24d3263-ba16-459c-beba-dbdcf82debbf",
   "metadata": {},
   "outputs": [
    {
     "ename": "SyntaxError",
     "evalue": "invalid character '，' (U+FF0C) (Temp/ipykernel_10624/4288104671.py, line 7)",
     "output_type": "error",
     "traceback": [
      "\u001b[1;36m  File \u001b[1;32m\"C:\\Users\\DELL\\AppData\\Local\\Temp/ipykernel_10624/4288104671.py\"\u001b[1;36m, line \u001b[1;32m7\u001b[0m\n\u001b[1;33m    test(1,2, 3, 4， 5)\u001b[0m\n\u001b[1;37m                  ^\u001b[0m\n\u001b[1;31mSyntaxError\u001b[0m\u001b[1;31m:\u001b[0m invalid character '，' (U+FF0C)\n"
     ]
    }
   ],
   "source": [
    "def test(a,b,**c):\n",
    "    print(f'a = {a}')\n",
    "    print(f\"b = {b}\")\n",
    "    print(f\"c = {c}\")\n",
    "    \n",
    "    \n",
    "test(1,2, 3, 4， 5)"
   ]
  },
  {
   "cell_type": "markdown",
   "id": "d1b8465d-40b3-489c-9c53-199b7247848f",
   "metadata": {},
   "source": [
    "### **再看传参：传入可变和不可变的区别**\n",
    "\n",
    "**先看一个例子**"
   ]
  },
  {
   "cell_type": "code",
   "execution_count": 31,
   "id": "f81ca135-0dfa-4a31-8b4b-2fa13ee669b8",
   "metadata": {},
   "outputs": [
    {
     "name": "stdout",
     "output_type": "stream",
     "text": [
      "1\n"
     ]
    }
   ],
   "source": [
    "def chagne_number( b ):\n",
    "    b = 1000\n",
    "\n",
    "b = 1\n",
    "chagne_number(b)\n",
    "print( b )"
   ]
  },
  {
   "cell_type": "code",
   "execution_count": 32,
   "id": "602bae07-a093-432d-a58c-d9af2f89f538",
   "metadata": {},
   "outputs": [
    {
     "name": "stdout",
     "output_type": "stream",
     "text": [
      "[1, 2, 5, 4, 5, 6]\n"
     ]
    }
   ],
   "source": [
    "def chagne_number( a ):\n",
    "    a[2] = 5\n",
    "\n",
    "a = [1,2,3,4,5,6]\n",
    "chagne_number(a)\n",
    "print( a )"
   ]
  },
  {
   "cell_type": "markdown",
   "id": "0bae6bd0-2132-42c6-bfca-eac76a1fef70",
   "metadata": {},
   "source": [
    "想一下为什么打印的结果是 1 ，而不是 1000 ？\n",
    "\n",
    "其实把问题归根结底就是，为什么通过函数 `chagne_number` 没有更改到 b 的值？\n",
    "\n",
    "这个问题很多编程语言都会讲到，原理解释也是差不多的。\n",
    "\n",
    "这里主要是函数参数的传递中，传递的是类型对象，之前也介绍了 Python 中基本的数据类型等。而这些类型对象可以分为可更改类型和不可更改的类型\n",
    "\n",
    "**在 Python 中，字符串，整形，浮点型，tuple 是不可更改的对象，而 list ， dict 等是可以更改的对象。**\n",
    "\n",
    "例如：\n",
    "\n",
    "**不可更改的类型**：变量赋值 `a = 1`，其实就是生成一个整形对象 1 ，然后变量 a 指向 1，当 `a = 1000` 其实就是再生成一个整形对象 1000，然后改变 a 的指向，不再指向整形对象 1 ，而是指向 1000，最后 1 会被丢弃\n",
    "\n",
    "**可更改的类型**：变量赋值 `a = [1,2,3,4,5,6]` ，就是生成一个对象 list ，list 里面有 6 个元素，而变量 a 指向 list ，`a[2] = 5`则是将 list a 的第三个元素值更改,这里跟上面是不同的，并不是将 a 重新指向，而是直接修改 list 中的元素值。\n",
    "\n",
    "![](./images/1.png)\n",
    "\n",
    "这也将影响到函数中参数的传递了：\n",
    "\n",
    "**不可更改的类型**：类似 c++ 的值传递，如 整数、字符串、元组。如fun（a），传递的只是 a 的值，没有影响 a 对象本身。比如在 fun（a）内部修改 a 的值，只是修改另一个复制的对象，不会影响 a 本身。\n",
    "\n",
    "**可更改的类型**：类似 c++ 的引用传递，如 列表，字典。如 fun（a），则是将 a 真正的传过去，修改后 fun 外部的 a 也会受影响\n",
    "\n",
    "因此，在一开始的例子中，`b = 1`,创建了一个整形对象 1 ，变量 b 指向了这个对象，然后通过函数 chagne_number 时，按传值的方式复制了变量 b ，传递的只是 b 的值，并没有影响到 b 的本身。具体可以看下修改后的实例，通过打印的结果更好的理解。"
   ]
  },
  {
   "cell_type": "code",
   "execution_count": 33,
   "id": "c37e3e0a-da85-4294-bf07-4d1a2a4fc814",
   "metadata": {},
   "outputs": [
    {
     "name": "stdout",
     "output_type": "stream",
     "text": [
      "函数中一开始 b 的值：1\n",
      "函数中 b 赋值后的值：1000\n",
      "最后输出 b 的值：1\n"
     ]
    }
   ],
   "source": [
    "def chagne_number( b ):\n",
    "    print('函数中一开始 b 的值：{}' .format( b ) )\n",
    "    b = 1000\n",
    "    print('函数中 b 赋值后的值：{}' .format( b ) )\n",
    "\n",
    "\n",
    "b = 1\n",
    "chagne_number( b )\n",
    "print( '最后输出 b 的值：{}' .format( b )  )"
   ]
  },
  {
   "cell_type": "code",
   "execution_count": 34,
   "id": "5b49ddbc-c1db-4b14-a93f-f0cd757ee9b5",
   "metadata": {},
   "outputs": [
    {
     "name": "stdout",
     "output_type": "stream",
     "text": [
      "函数中一开始 b 的值：[1, 2, 3, 4, 5]\n",
      "函数中 b 赋值后的值：[1, 2, 3, 4, 5, 1000]\n",
      "最后输出 b 的值：[1, 2, 3, 4, 5, 1000]\n"
     ]
    }
   ],
   "source": [
    "def chagne_list( b ):\n",
    "    print('函数中一开始 b 的值：{}' .format( b ) )\n",
    "    b.append(1000)\n",
    "    print('函数中 b 赋值后的值：{}' .format( b ) )\n",
    "\n",
    "\n",
    "b = [1,2,3,4,5]\n",
    "chagne_list( b )\n",
    "print( '最后输出 b 的值：{}' .format( b )  )"
   ]
  },
  {
   "cell_type": "markdown",
   "id": "efa652e9-0f65-4880-b9ed-9c885c61a75f",
   "metadata": {},
   "source": [
    "## **嵌套函数**\n",
    "\n",
    "Python的函数类似于循环这些是可以嵌套的，写法也差不多，多层嵌套使用多个关键字 `def` 定义，且相同缩进表示同一函数块,\n",
    "\n",
    "在嵌套函数中，下一层函数享受上一层函数的参数值"
   ]
  },
  {
   "cell_type": "code",
   "execution_count": 36,
   "id": "5812f9ac-ad67-463a-bf3c-fa7a18329f3e",
   "metadata": {},
   "outputs": [
    {
     "name": "stdout",
     "output_type": "stream",
     "text": [
      "(3, 2)\n"
     ]
    }
   ],
   "source": [
    "### 比如我们既要计算两数相加又要计算两数相乘\n",
    "\n",
    "def test1(a,b):\n",
    "    def test2(c,d):\n",
    "        return c+d\n",
    "    \n",
    "    def test3(c,d):\n",
    "        return c*d\n",
    "    \n",
    "    res1 = test2(a,b)\n",
    "    res2 = test3(a,b)\n",
    "    return res1,res2\n",
    "\n",
    "a = 1\n",
    "b = 2\n",
    "\n",
    "res = test1(a,b)\n",
    "\n",
    "print(res)"
   ]
  },
  {
   "cell_type": "markdown",
   "id": "0b832501-859b-4521-a960-3d85a8070bbb",
   "metadata": {},
   "source": [
    "### **递归函数**\n",
    "\n",
    "在函数内部，可以调用其他函数，如果一个函数在内部调用自身本身，这个函数就是递归函数。\n",
    "\n",
    "举个例子，我们来计算阶乘 `n! = 1 x 2 x 3 x ... x n`，用函数 `fact(n)`表示，可以看出：\n",
    "\n",
    "`fact(n)=n!=1 x 2 x 3 x ... x (n-1) x  n = (n-1)! x  n = fact(n-1) x n`\n",
    "\n",
    "所以，`fact(n)`可以表示为`n x fact(n-1)`，只有`n=1`时需要特殊处理。\n",
    "\n",
    "于是，`fact(n)`用递归的方式写出来就是："
   ]
  },
  {
   "cell_type": "code",
   "execution_count": 37,
   "id": "b33a4e18-8bec-4a62-9d80-e7bb6827aa99",
   "metadata": {},
   "outputs": [],
   "source": [
    "def fact(n):\n",
    "    if n==1:\n",
    "        return 1\n",
    "    return n * fact(n - 1)"
   ]
  },
  {
   "cell_type": "code",
   "execution_count": 38,
   "id": "df050a61-c0e7-41c6-9d3c-a66ab63fb6c9",
   "metadata": {},
   "outputs": [
    {
     "data": {
      "text/plain": [
       "120"
      ]
     },
     "execution_count": 38,
     "metadata": {},
     "output_type": "execute_result"
    }
   ],
   "source": [
    "fact(5)"
   ]
  },
  {
   "cell_type": "code",
   "execution_count": 39,
   "id": "c15b6f65-7093-4513-ac63-a30938fe0458",
   "metadata": {},
   "outputs": [
    {
     "data": {
      "text/plain": [
       "3628800"
      ]
     },
     "execution_count": 39,
     "metadata": {},
     "output_type": "execute_result"
    }
   ],
   "source": [
    "fact(10)"
   ]
  },
  {
   "cell_type": "markdown",
   "id": "b0913da1-e169-4cc1-aa18-e415c1bc993a",
   "metadata": {},
   "source": [
    "**如果我们计算fact(5)，可以根据函数定义看到计算过程如下：**\n",
    "\n",
    "```\n",
    "===> fact(5)\n",
    "===> 5 * fact(4)\n",
    "===> 5 * (4 * fact(3))\n",
    "===> 5 * (4 * (3 * fact(2)))\n",
    "===> 5 * (4 * (3 * (2 * fact(1))))\n",
    "===> 5 * (4 * (3 * (2 * 1)))\n",
    "===> 5 * (4 * (3 * 2))\n",
    "===> 5 * (4 * 6)\n",
    "===> 5 * 24\n",
    "===> 120\n",
    "```"
   ]
  },
  {
   "cell_type": "markdown",
   "id": "f6c6879e-6670-49e4-8f32-0755c194f217",
   "metadata": {},
   "source": [
    "递归函数的优点是定义简单，逻辑清晰。理论上，所有的递归函数都可以写成循环的方式，但循环的逻辑不如递归清晰。\n",
    "\n",
    "使用递归函数需要注意防止栈溢出。在计算机中，函数调用是通过栈（stack）这种数据结构实现的，每当进入一个函数调用，栈就会加一层栈帧，每当函数返回，栈就会减一层栈帧。由于栈的大小不是无限的，所以，递归调用的次数过多，会导致栈溢出。可以试试fact(1000)：\n",
    "\n",
    "```python\n",
    "\n",
    ">>> fact(1000)\n",
    "Traceback (most recent call last):\n",
    "  File \"<stdin>\", line 1, in <module>\n",
    "  File \"<stdin>\", line 4, in fact\n",
    "  ...\n",
    "  File \"<stdin>\", line 4, in fact\n",
    "RuntimeError: maximum recursion depth exceeded in comparison\n",
    "\n",
    "```"
   ]
  },
  {
   "cell_type": "markdown",
   "id": "ed9696eb-9d33-4b97-bc7f-71603898e450",
   "metadata": {},
   "source": [
    "---"
   ]
  },
  {
   "cell_type": "markdown",
   "id": "f3f24755-925e-4556-999a-691b015b3bf4",
   "metadata": {},
   "source": [
    "# **二、return和yield：再看生成器**\n",
    "\n",
    "---\n",
    "\n",
    "前面说到函数return表示函数的终止，可以返回值，这表明return必须写在函数的最后面，\n",
    "\n",
    "而Python还提供了另一种返回值的关键字就是 `yield`,首先它不必放在函数的最后面，可以放在其它位置，且不影响它后面的代码执行\n",
    "\n",
    "而如果使用yield的函数，我们就叫做生成器函数，可以通过函数名来进行遍历。\n"
   ]
  },
  {
   "cell_type": "code",
   "execution_count": 3,
   "id": "c4403361-27a4-417a-be94-88de244ed1e2",
   "metadata": {},
   "outputs": [
    {
     "name": "stdout",
     "output_type": "stream",
     "text": [
      "1\n",
      "x = 1\n",
      "2\n",
      "x = 2\n",
      "3\n",
      "x = 3\n",
      "4\n",
      "x = 4\n",
      "5\n",
      "x = 5\n"
     ]
    }
   ],
   "source": [
    "def test(a):\n",
    "    for x in a:\n",
    "        yield x\n",
    "        print(f'x = {x}')\n",
    "        \n",
    "a = [1,2,3,4,5]\n",
    "\n",
    "for x in test(a):\n",
    "    print(x)"
   ]
  },
  {
   "cell_type": "code",
   "execution_count": 4,
   "id": "0e8d8334-12c2-49d6-829a-88e51b1d606d",
   "metadata": {},
   "outputs": [
    {
     "data": {
      "text/plain": [
       "<generator object test at 0x000001EC9AACB820>"
      ]
     },
     "execution_count": 4,
     "metadata": {},
     "output_type": "execute_result"
    }
   ],
   "source": [
    "test(a)"
   ]
  },
  {
   "cell_type": "markdown",
   "id": "613df5fa-a38a-41fd-ad0a-2adbe4a534dd",
   "metadata": {},
   "source": [
    "### **生成器也是一种迭代器，所以yield函数可以通过next获取值，生成器的值只能使用一次，前只能向前不能向后**"
   ]
  },
  {
   "cell_type": "code",
   "execution_count": 10,
   "id": "7b9db956-c676-45dc-9a5a-6f035fab24ea",
   "metadata": {},
   "outputs": [],
   "source": [
    "def test(a):\n",
    "    for x in a:\n",
    "        yield x\n",
    "        \n",
    "a = [1,2,3]\n",
    "\n",
    "b = test(a)"
   ]
  },
  {
   "cell_type": "code",
   "execution_count": 11,
   "id": "25b5c13c-4f5e-42f6-85ec-8263beb53d07",
   "metadata": {},
   "outputs": [
    {
     "data": {
      "text/plain": [
       "1"
      ]
     },
     "execution_count": 11,
     "metadata": {},
     "output_type": "execute_result"
    }
   ],
   "source": [
    "next(b)"
   ]
  },
  {
   "cell_type": "code",
   "execution_count": 12,
   "id": "67d758cc-2d7f-4420-a21a-06642a813dc6",
   "metadata": {},
   "outputs": [
    {
     "data": {
      "text/plain": [
       "2"
      ]
     },
     "execution_count": 12,
     "metadata": {},
     "output_type": "execute_result"
    }
   ],
   "source": [
    "next(b)"
   ]
  },
  {
   "cell_type": "code",
   "execution_count": 13,
   "id": "7d47e5a8-974c-4f74-8f53-35d262f72d52",
   "metadata": {},
   "outputs": [
    {
     "data": {
      "text/plain": [
       "3"
      ]
     },
     "execution_count": 13,
     "metadata": {},
     "output_type": "execute_result"
    }
   ],
   "source": [
    "next(b)"
   ]
  },
  {
   "cell_type": "code",
   "execution_count": 14,
   "id": "98c2cfed-58d3-425c-bafb-23731250d798",
   "metadata": {},
   "outputs": [
    {
     "ename": "StopIteration",
     "evalue": "",
     "output_type": "error",
     "traceback": [
      "\u001b[1;31m---------------------------------------------------------------------------\u001b[0m",
      "\u001b[1;31mStopIteration\u001b[0m                             Traceback (most recent call last)",
      "\u001b[1;32m~\\AppData\\Local\\Temp/ipykernel_19208/973617480.py\u001b[0m in \u001b[0;36m<module>\u001b[1;34m\u001b[0m\n\u001b[1;32m----> 1\u001b[1;33m \u001b[0mnext\u001b[0m\u001b[1;33m(\u001b[0m\u001b[0mb\u001b[0m\u001b[1;33m)\u001b[0m\u001b[1;33m\u001b[0m\u001b[1;33m\u001b[0m\u001b[0m\n\u001b[0m",
      "\u001b[1;31mStopIteration\u001b[0m: "
     ]
    }
   ],
   "source": [
    "next(b)"
   ]
  },
  {
   "cell_type": "code",
   "execution_count": 20,
   "id": "154cb6da-e255-4f93-812a-99572e8daaa8",
   "metadata": {},
   "outputs": [
    {
     "name": "stdout",
     "output_type": "stream",
     "text": [
      "1\n",
      "1\n",
      "1\n"
     ]
    }
   ],
   "source": [
    "def echo(n):\n",
    "    while True:\n",
    "        yield n\n",
    "\n",
    "g = echo(1)\n",
    "print(next(g))\n",
    "print(next(g))\n",
    "print(next(g))"
   ]
  },
  {
   "cell_type": "markdown",
   "id": "0aec624e-9767-4f85-ab46-093685d33faf",
   "metadata": {},
   "source": [
    "---"
   ]
  },
  {
   "cell_type": "markdown",
   "id": "f15fa65a-0d5e-4cb0-99bc-024205964185",
   "metadata": {},
   "source": [
    "# **三、局部变量和全局变量**\n",
    "\n",
    "---\n",
    "\n",
    "- 局部变量：就是在函数内部定义的变量，其作用范围是这个函数内部，即只能在这个函数中使用，在函数的外部是不能使用的\n",
    "\n",
    "- 全局变量：在函数外边定义的变量，全局变量能够在所有的函数中进行访问"
   ]
  },
  {
   "cell_type": "code",
   "execution_count": 21,
   "id": "cfc3076e-674c-4f51-9af7-439f16d2d9d9",
   "metadata": {},
   "outputs": [
    {
     "data": {
      "text/plain": [
       "2"
      ]
     },
     "execution_count": 21,
     "metadata": {},
     "output_type": "execute_result"
    }
   ],
   "source": [
    "a = 1\n",
    "\n",
    "def test(b):\n",
    "    return a +b\n",
    "\n",
    "test(1)"
   ]
  },
  {
   "cell_type": "code",
   "execution_count": 22,
   "id": "c0545b2a-4e7c-4971-aa8a-6bf9b170621b",
   "metadata": {},
   "outputs": [
    {
     "name": "stdout",
     "output_type": "stream",
     "text": [
      "我是局部变量a: 120\n",
      "修改之后的局部变量a: 240\n",
      "我是test02函数中的局部变量a 360\n"
     ]
    }
   ],
   "source": [
    "def test1():\n",
    "    a = 120\n",
    "    print(\"我是局部变量a:\",a)\n",
    "    a = 240\n",
    "    print(\"修改之后的局部变量a:\",a)\n",
    "def test2():\n",
    "    a =360\n",
    "    print(\"我是test02函数中的局部变量a\",a)\n",
    "test1()\n",
    "test2()"
   ]
  },
  {
   "cell_type": "markdown",
   "id": "3c933903-71b8-41c7-8387-0ac37a814128",
   "metadata": {},
   "source": [
    "### **注意:局部变量的作用，为了临时保存数据需要在函数中定义变量来进行存储**\n",
    "### **当函数调用时，局部变量被创建，当函数调用完成后这个变量就不能够使用了**"
   ]
  },
  {
   "cell_type": "markdown",
   "id": "74991d5f-7fa8-48d3-b998-1c8018f047b1",
   "metadata": {},
   "source": [
    "## **全局变量和局部变量名字相同的情况下**\n",
    "\n",
    "\n",
    "**当函数内出现局部变量和全局变量相同名字时，函数内部中的 变量名 = 数据 此时理解为定义了一个局部变量，而不是修改全局变量的值**"
   ]
  },
  {
   "cell_type": "code",
   "execution_count": 23,
   "id": "b37483da-87b9-41c7-8a4c-617777617daa",
   "metadata": {},
   "outputs": [
    {
     "name": "stdout",
     "output_type": "stream",
     "text": [
      "a = 100\n"
     ]
    }
   ],
   "source": [
    "a = 10\n",
    "\n",
    "def test():\n",
    "    a = 100\n",
    "    print(f'a = {a}')\n",
    "    \n",
    "test()"
   ]
  },
  {
   "cell_type": "code",
   "execution_count": 24,
   "id": "00ece177-281f-4a96-9bb5-30106eacb476",
   "metadata": {},
   "outputs": [
    {
     "data": {
      "text/plain": [
       "10"
      ]
     },
     "execution_count": 24,
     "metadata": {},
     "output_type": "execute_result"
    }
   ],
   "source": [
    "a"
   ]
  },
  {
   "cell_type": "markdown",
   "id": "eba5ba6f-0ad0-4d1a-a059-c82e87a86d0d",
   "metadata": {},
   "source": [
    "## **全局变量的修改**\n",
    "\n",
    "**修改全局变量我们使用 global**\n",
    "\n",
    "**如果在函数中出现global 全局变量的名字 那么这个函数中即使出现和全局变量名相同的变量名 = 数据 也理解为对全局变量进行修改，而不是定义局部变量**"
   ]
  },
  {
   "cell_type": "code",
   "execution_count": 25,
   "id": "220f9b07-69e1-4e26-9dbb-c6c86d32666b",
   "metadata": {},
   "outputs": [
    {
     "name": "stdout",
     "output_type": "stream",
     "text": [
      "a = 100\n"
     ]
    }
   ],
   "source": [
    "a = 10\n",
    "\n",
    "def test():\n",
    "    global a\n",
    "    a = 100\n",
    "    print(f'a = {a}')\n",
    "    \n",
    "test()"
   ]
  },
  {
   "cell_type": "code",
   "execution_count": 26,
   "id": "28141026-465b-473b-85aa-dd4ef2c1effe",
   "metadata": {},
   "outputs": [
    {
     "data": {
      "text/plain": [
       "100"
      ]
     },
     "execution_count": 26,
     "metadata": {},
     "output_type": "execute_result"
    }
   ],
   "source": [
    "a"
   ]
  },
  {
   "cell_type": "markdown",
   "id": "fa331985-e851-4b1c-b65b-ca8548812695",
   "metadata": {},
   "source": [
    "## **可以同时修改多个全局变量：可以分别申明也可以放在一起用逗号分割**"
   ]
  },
  {
   "cell_type": "code",
   "execution_count": 29,
   "id": "9240afc6-ff45-4e5c-843b-ce8efd99e370",
   "metadata": {},
   "outputs": [
    {
     "name": "stdout",
     "output_type": "stream",
     "text": [
      "a = 100\n",
      "b = 111\n"
     ]
    }
   ],
   "source": [
    "a = 10\n",
    "b = 11\n",
    "\n",
    "def test():\n",
    "    global a,b\n",
    "    a = 100\n",
    "    b = 111\n",
    "    print(f'a = {a}')\n",
    "    print(f'b = {b}')\n",
    "    \n",
    "test()"
   ]
  },
  {
   "cell_type": "code",
   "execution_count": 30,
   "id": "c0123543-c2dc-4856-9495-a9c396ce758b",
   "metadata": {},
   "outputs": [
    {
     "name": "stdout",
     "output_type": "stream",
     "text": [
      "100 111\n"
     ]
    }
   ],
   "source": [
    "print(a,b)"
   ]
  },
  {
   "cell_type": "code",
   "execution_count": 31,
   "id": "a339657e-e87f-4c0b-83d3-c53fcf0c53a0",
   "metadata": {},
   "outputs": [
    {
     "name": "stdout",
     "output_type": "stream",
     "text": [
      "a = 100\n",
      "b = 111\n"
     ]
    }
   ],
   "source": [
    "### \n",
    "\n",
    "a = 10\n",
    "b = 11\n",
    "\n",
    "def test():\n",
    "    global a\n",
    "    global b\n",
    "    a = 100\n",
    "    b = 111\n",
    "    print(f'a = {a}')\n",
    "    print(f'b = {b}')\n",
    "    \n",
    "test()"
   ]
  },
  {
   "cell_type": "code",
   "execution_count": 32,
   "id": "97458a35-b431-4297-a845-22279c8ae866",
   "metadata": {},
   "outputs": [
    {
     "name": "stdout",
     "output_type": "stream",
     "text": [
      "100 111\n"
     ]
    }
   ],
   "source": [
    "print(a,b)"
   ]
  },
  {
   "cell_type": "markdown",
   "id": "baf94f95-75ab-4e84-9d7b-f4e468cde2de",
   "metadata": {},
   "source": [
    "---"
   ]
  },
  {
   "cell_type": "markdown",
   "id": "83f4bba5-41e8-4c8b-b80b-cac6dc665955",
   "metadata": {},
   "source": [
    "## **获取全局变量和局部变量**\n",
    "\n",
    "Python提供两个内置方法获取全局变量和局部变量\n",
    "\n",
    "- 全局变量获取：globals()\n",
    "- 局部变量获取：locals()\n",
    "\n",
    "二者返回的都是一个字典的形式"
   ]
  },
  {
   "cell_type": "code",
   "execution_count": 40,
   "id": "a0561d71-b07a-4559-a1a9-d14c26fc35f2",
   "metadata": {},
   "outputs": [
    {
     "name": "stdout",
     "output_type": "stream",
     "text": [
      "函数test的局部变量：{'a': 1, 'b': 2}\n"
     ]
    }
   ],
   "source": [
    "def test():\n",
    "    a = 1\n",
    "    b = 2\n",
    "    print(f'函数test的局部变量：{locals()}')\n",
    "test()"
   ]
  },
  {
   "cell_type": "code",
   "execution_count": null,
   "id": "eba91959-59fe-4d6a-a788-73b50624afbc",
   "metadata": {},
   "outputs": [],
   "source": [
    "%run ./examples/test.py"
   ]
  },
  {
   "cell_type": "markdown",
   "id": "ac88b32c-6994-4d63-8480-2e04dad08f52",
   "metadata": {},
   "source": [
    "# **四、匿名函数**\n",
    "\n",
    "---\n",
    "\n",
    "有没有想过定义一个很短的回调函数，但又不想用 `def` 的形式去写一个那么长的函数，那么有没有快捷方式呢？\n",
    "\n",
    "答案是有的。\n",
    "\n",
    "python 使用 lambda 来创建匿名函数，也就是不再使用 def 语句这样标准的形式定义一个函数。\n",
    "\n",
    "匿名函数主要有以下特点：\n",
    "\n",
    "- lambda 只是一个表达式，函数体比 def 简单很多，且不需要定义return返回。\n",
    "- lambda 的主体是一个表达式，而不是一个代码块。仅仅能在 lambda 表达式中封装有限的逻辑进去。\n",
    "- lambda 函数拥有自己的命名空间，且不能访问自有参数列表之外或全局命名空间里的参数。\n",
    "\n",
    "**基本语法结构：**\n",
    "\n",
    "```python\n",
    "lambda [arg1 [,arg2,.....argn]]:expression\n",
    "\n",
    "```"
   ]
  },
  {
   "cell_type": "code",
   "execution_count": 42,
   "id": "21417bdd-7bd5-4c07-8c34-2688526121b9",
   "metadata": {},
   "outputs": [
    {
     "data": {
      "text/plain": [
       "2"
      ]
     },
     "execution_count": 42,
     "metadata": {},
     "output_type": "execute_result"
    }
   ],
   "source": [
    "sum_number = lambda num1: num1 + 1;\n",
    "\n",
    "sum_number(1)"
   ]
  },
  {
   "cell_type": "code",
   "execution_count": 41,
   "id": "10f5d8c4-b226-4b26-9dc7-2253d9cca84f",
   "metadata": {},
   "outputs": [
    {
     "data": {
      "text/plain": [
       "3"
      ]
     },
     "execution_count": 41,
     "metadata": {},
     "output_type": "execute_result"
    }
   ],
   "source": [
    "sum_number = lambda num1 , num2 : num1 + num2;\n",
    "\n",
    "sum_number(1,2)"
   ]
  },
  {
   "cell_type": "markdown",
   "id": "7e69539d-f8b6-4615-b9d0-2517edc4de7f",
   "metadata": {},
   "source": [
    "**等同于：**"
   ]
  },
  {
   "cell_type": "code",
   "execution_count": 44,
   "id": "45c196f7-32e7-48be-a92c-a15430d64f49",
   "metadata": {},
   "outputs": [
    {
     "data": {
      "text/plain": [
       "3"
      ]
     },
     "execution_count": 44,
     "metadata": {},
     "output_type": "execute_result"
    }
   ],
   "source": [
    "### 相较而言非常的简洁\n",
    "\n",
    "def sum_number(num1,num2):\n",
    "    return num1 + num2\n",
    "\n",
    "sum_number(1,2)"
   ]
  },
  {
   "cell_type": "markdown",
   "id": "f7f3805c-a856-4f47-b693-22fccee7e031",
   "metadata": {},
   "source": [
    "注意：**尽管 lambda 表达式允许你定义简单函数，但是它的使用是有限制的。 你只能指定单个表达式，它的值就是最后的返回值。也就是说不能包含其他的语言特性了， 包括多个语句、条件表达式、迭代以及异常处理等等。**"
   ]
  },
  {
   "cell_type": "markdown",
   "id": "e56cd1c0-b767-4bfc-a1c2-829a17570dde",
   "metadata": {},
   "source": [
    "---"
   ]
  },
  {
   "cell_type": "markdown",
   "id": "8190c810-579e-4e0c-a93a-3f4ed9945926",
   "metadata": {},
   "source": [
    "# **五、内置函数**\n",
    "\n",
    "---\n",
    "\n",
    "||||||\n",
    "|---|---|---|---|---|\n",
    "|abs()|dict()|help()|min()|setattr()|\n",
    "|all()|dir()|hex()|next()|slice()|\n",
    "|any()|divmod()|id()|object()|sorted()|\n",
    "|ascii()|enumerate()|input()|oct()|staticmethod()|\n",
    "|bin()|eval()|int()|open()|str()|\n",
    "|bool()|exec()|isinstance()|ord()|sum()|\n",
    "|bytearray()|filter()|issubclass()|pow()|super()|\n",
    "|bytes()|float()|iter()|print()|tuple()|\n",
    "|callable()|format()|len()|property()|type()|\n",
    "|chr()|frozenset()|list()|range()|vars()|\n",
    "|classmethod()|getattr()|locals()|repr()|zip()|\n",
    "|compile()|globals()|map()|reversed()|\\_\\_import\\_\\_()|\n",
    "|complex()|hasattr()|max()|round()|set()|\n",
    "|delattr()|hash()|memoryview()||"
   ]
  },
  {
   "cell_type": "markdown",
   "id": "8cd14ae9-77d9-4b50-a195-e94a4c402b37",
   "metadata": {},
   "source": [
    "## **1. 输入输出**\n",
    "\n",
    "- **print()：打印输出**\n",
    "- **input()：获取用户输出的内容**\n"
   ]
  },
  {
   "cell_type": "code",
   "execution_count": 51,
   "id": "3d5b44ea-14f8-49d4-a320-867188c6cd8e",
   "metadata": {},
   "outputs": [
    {
     "name": "stdout",
     "output_type": "stream",
     "text": [
      "hello*world@"
     ]
    }
   ],
   "source": [
    "# sep:打印出的内容用什么连接,end:以什么为结尾\n",
    "\n",
    "print(\"hello\", \"world\", sep=\"*\", end=\"@\")"
   ]
  },
  {
   "cell_type": "code",
   "execution_count": 52,
   "id": "87c23eb0-d155-4b34-94c9-84aa4a8d328f",
   "metadata": {},
   "outputs": [
    {
     "name": "stdout",
     "output_type": "stream",
     "text": [
      "1 2 3\n"
     ]
    }
   ],
   "source": [
    "print(1,2,3)"
   ]
  },
  {
   "cell_type": "code",
   "execution_count": 55,
   "id": "1d1bd8d0-9db4-4954-97bd-eed3035c8273",
   "metadata": {},
   "outputs": [
    {
     "name": "stdin",
     "output_type": "stream",
     "text": [
      "请输入一个数： 111\n"
     ]
    },
    {
     "name": "stdout",
     "output_type": "stream",
     "text": [
      "a = 111，a的类型是：<class 'str'>\n"
     ]
    }
   ],
   "source": [
    "a = input(\"请输入一个数：\")\n",
    "print(f'a = {a}，a的类型是：{type(a)}')"
   ]
  },
  {
   "cell_type": "markdown",
   "id": "e3d591a6-d35e-4e83-9d09-4670cc7c7208",
   "metadata": {},
   "source": [
    "## **2. 帮助**\n",
    "\n",
    "- **help()：函数用于查看函数或模块用途的详细说明**\n"
   ]
  },
  {
   "cell_type": "code",
   "execution_count": 56,
   "id": "8a6e33af-2fb5-4d72-b709-7c82cc2c8d46",
   "metadata": {},
   "outputs": [
    {
     "name": "stdout",
     "output_type": "stream",
     "text": [
      "Help on built-in function print in module builtins:\n",
      "\n",
      "print(...)\n",
      "    print(value, ..., sep=' ', end='\\n', file=sys.stdout, flush=False)\n",
      "    \n",
      "    Prints the values to a stream, or to sys.stdout by default.\n",
      "    Optional keyword arguments:\n",
      "    file:  a file-like object (stream); defaults to the current sys.stdout.\n",
      "    sep:   string inserted between values, default a space.\n",
      "    end:   string appended after the last value, default a newline.\n",
      "    flush: whether to forcibly flush the stream.\n",
      "\n"
     ]
    }
   ],
   "source": [
    "help(print)"
   ]
  },
  {
   "cell_type": "code",
   "execution_count": 57,
   "id": "69990385-ff93-4710-a803-6528a439ef18",
   "metadata": {},
   "outputs": [
    {
     "name": "stdout",
     "output_type": "stream",
     "text": [
      "Help on function test in module __main__:\n",
      "\n",
      "test(a)\n",
      "    打印一个数\n",
      "\n"
     ]
    }
   ],
   "source": [
    "def test(a):\n",
    "    \"\"\"打印一个数\"\"\"\n",
    "    print(a)\n",
    "\n",
    "help(test)"
   ]
  },
  {
   "cell_type": "markdown",
   "id": "cdf6bcec-4910-4cd6-8f19-39a8398b6f06",
   "metadata": {},
   "source": [
    "## **3. 查看类型和内置方法**\n",
    "\n",
    "- **type()：查看变量的类型**\n",
    "- **isinstance()：判断是否是某种类型**\n",
    "- **dir()：查看对象的内置属性, 访问的是对象中的__dir__()方法**"
   ]
  },
  {
   "cell_type": "code",
   "execution_count": 140,
   "id": "f060b2f1-b53c-4bbd-81a5-6606c12810c7",
   "metadata": {},
   "outputs": [
    {
     "data": {
      "text/plain": [
       "int"
      ]
     },
     "execution_count": 140,
     "metadata": {},
     "output_type": "execute_result"
    }
   ],
   "source": [
    "a = 1\n",
    "type(a)"
   ]
  },
  {
   "cell_type": "code",
   "execution_count": 141,
   "id": "0ca32e22-9270-4efa-9c46-6c203a8e83d9",
   "metadata": {},
   "outputs": [
    {
     "data": {
      "text/plain": [
       "True"
      ]
     },
     "execution_count": 141,
     "metadata": {},
     "output_type": "execute_result"
    }
   ],
   "source": [
    "isinstance(a,int)"
   ]
  },
  {
   "cell_type": "code",
   "execution_count": 60,
   "id": "8d0e0ffb-dc7d-4f1b-959e-12bb3dafc54b",
   "metadata": {},
   "outputs": [
    {
     "data": {
      "text/plain": [
       "['__add__',\n",
       " '__class__',\n",
       " '__class_getitem__',\n",
       " '__contains__',\n",
       " '__delattr__',\n",
       " '__delitem__',\n",
       " '__dir__',\n",
       " '__doc__',\n",
       " '__eq__',\n",
       " '__format__',\n",
       " '__ge__',\n",
       " '__getattribute__',\n",
       " '__getitem__',\n",
       " '__gt__',\n",
       " '__hash__',\n",
       " '__iadd__',\n",
       " '__imul__',\n",
       " '__init__',\n",
       " '__init_subclass__',\n",
       " '__iter__',\n",
       " '__le__',\n",
       " '__len__',\n",
       " '__lt__',\n",
       " '__mul__',\n",
       " '__ne__',\n",
       " '__new__',\n",
       " '__reduce__',\n",
       " '__reduce_ex__',\n",
       " '__repr__',\n",
       " '__reversed__',\n",
       " '__rmul__',\n",
       " '__setattr__',\n",
       " '__setitem__',\n",
       " '__sizeof__',\n",
       " '__str__',\n",
       " '__subclasshook__',\n",
       " 'append',\n",
       " 'clear',\n",
       " 'copy',\n",
       " 'count',\n",
       " 'extend',\n",
       " 'index',\n",
       " 'insert',\n",
       " 'pop',\n",
       " 'remove',\n",
       " 'reverse',\n",
       " 'sort']"
      ]
     },
     "execution_count": 60,
     "metadata": {},
     "output_type": "execute_result"
    }
   ],
   "source": [
    "dir(list)"
   ]
  },
  {
   "cell_type": "markdown",
   "id": "c8cb852d-57d9-47c8-8dd6-50c30231953a",
   "metadata": {},
   "source": [
    "## **4. 数据类型**\n",
    "\n",
    "- **bool：布尔型(True,False)**\n",
    "- **int：整型(整数)**\n",
    "- **float：浮点型(小数)**\n",
    "- **complex：复数**"
   ]
  },
  {
   "cell_type": "code",
   "execution_count": 61,
   "id": "9a9f34a2-dc5d-4499-be83-df2856b1ca1b",
   "metadata": {},
   "outputs": [
    {
     "data": {
      "text/plain": [
       "True"
      ]
     },
     "execution_count": 61,
     "metadata": {},
     "output_type": "execute_result"
    }
   ],
   "source": [
    "bool(1)"
   ]
  },
  {
   "cell_type": "code",
   "execution_count": 62,
   "id": "c3f04e97-61ac-4f13-a58d-cca7d38d3be2",
   "metadata": {},
   "outputs": [
    {
     "data": {
      "text/plain": [
       "11"
      ]
     },
     "execution_count": 62,
     "metadata": {},
     "output_type": "execute_result"
    }
   ],
   "source": [
    "int('11')"
   ]
  },
  {
   "cell_type": "code",
   "execution_count": 63,
   "id": "dfd5430f-ff1a-4a34-ad0e-dd6f52ca31f8",
   "metadata": {},
   "outputs": [
    {
     "data": {
      "text/plain": [
       "11.0"
      ]
     },
     "execution_count": 63,
     "metadata": {},
     "output_type": "execute_result"
    }
   ],
   "source": [
    "float('11')"
   ]
  },
  {
   "cell_type": "code",
   "execution_count": 64,
   "id": "ab3652d7-89f9-4086-8f62-1c9d89980cb9",
   "metadata": {},
   "outputs": [
    {
     "data": {
      "text/plain": [
       "(1+2j)"
      ]
     },
     "execution_count": 64,
     "metadata": {},
     "output_type": "execute_result"
    }
   ],
   "source": [
    "complex(1,2)"
   ]
  },
  {
   "cell_type": "markdown",
   "id": "189a272d-aaf8-4f3f-affc-6cb295cfb704",
   "metadata": {},
   "source": [
    "## **5. 进制转换**\n",
    "\n",
    "- **bin()：将给的参数转换成二进制**\n",
    "- **otc()：将给的参数转换成八进制**\n",
    "- **hex()：将给的参数转换成十六进制**\n"
   ]
  },
  {
   "cell_type": "code",
   "execution_count": 65,
   "id": "aff68516-f19e-436a-beaa-50f669d7cff4",
   "metadata": {},
   "outputs": [
    {
     "name": "stdout",
     "output_type": "stream",
     "text": [
      "0b1010\n",
      "0xa\n",
      "0o12\n"
     ]
    }
   ],
   "source": [
    "print(bin(10))  # 二进制:0b1010\n",
    "print(hex(10))  # 十六进制:0xa\n",
    "print(oct(10))  # 八进制:0o12"
   ]
  },
  {
   "cell_type": "markdown",
   "id": "0fc24e65-e9f3-4e2f-8155-f576910072db",
   "metadata": {},
   "source": [
    "## **6. 数学运算**\n",
    "\n",
    "- **abs()：返回绝对值**\n",
    "- **divmode()：返回商和余数**\n",
    "- **round()：四舍五入**\n",
    "- **pow(a, b)：求a的b次幂, 如果有三个参数. 则求完次幂后对第三个数取余**\n",
    "- **sum()：求和**\n",
    "- **min()：求最小值**\n",
    "- **max()：求最大值**"
   ]
  },
  {
   "cell_type": "code",
   "execution_count": 66,
   "id": "80c69357-55f0-48b8-9a55-1479d2d6c1b1",
   "metadata": {},
   "outputs": [
    {
     "name": "stdout",
     "output_type": "stream",
     "text": [
      "2\n",
      "(6, 2)\n",
      "4\n",
      "5\n",
      "1\n",
      "55\n",
      "2\n",
      "15\n"
     ]
    }
   ],
   "source": [
    "print(abs(-2))  # 绝对值:2\n",
    "print(divmod(20,3)) # 求商和余数:(6,2)\n",
    "print(round(4.50))   # 五舍六入:4\n",
    "print(round(4.51))   #5\n",
    "print(pow(10,2,3))  # 如果给了第三个参数. 表示最后取余:1\n",
    "print(sum([1,2,3,4,5,6,7,8,9,10]))  # 求和:55\n",
    "print(min(5,3,9,12,7,2))  #求最小值:2\n",
    "print(max(7,3,15,9,4,13))  #求最大值:15"
   ]
  },
  {
   "cell_type": "markdown",
   "id": "d89c9e0f-451a-4ad6-8062-c14601f8cd6f",
   "metadata": {},
   "source": [
    "## **7. 数据结构相关：序列**\n",
    "\n",
    "- **list()：将一个可迭代对象转换成列表**\n",
    "- **tuple()：将一个可迭代对象转换成元组**\n",
    "- **dict()：创建一个字典**\n",
    "- **set()：创建一个集合**\n",
    "- **frozenset()：创建一个冻结的集合，冻结的集合不能进行添加和删除操作**"
   ]
  },
  {
   "cell_type": "code",
   "execution_count": 69,
   "id": "05e5f747-764b-42b2-a274-a84b14e87871",
   "metadata": {},
   "outputs": [
    {
     "name": "stdout",
     "output_type": "stream",
     "text": [
      "[1, 2, 3, 4, 5, 6]\n",
      "(1, 2, 3, 4, 5, 6)\n"
     ]
    }
   ],
   "source": [
    "print(list((1,2,3,4,5,6)))  #[1, 2, 3, 4, 5, 6]\n",
    "print(tuple([1,2,3,4,5,6]))  #(1, 2, 3, 4, 5, 6)"
   ]
  },
  {
   "cell_type": "code",
   "execution_count": 70,
   "id": "9d201318-7efb-4b0c-bd02-f255045f2f98",
   "metadata": {},
   "outputs": [
    {
     "name": "stdout",
     "output_type": "stream",
     "text": [
      "{'name': 1, 'value': 2}\n",
      "{1, 2, 3}\n",
      "frozenset({1, 2, 3})\n"
     ]
    }
   ],
   "source": [
    "print(dict(name=1,value=2))\n",
    "print(set([1,2,3]))\n",
    "print(frozenset({1,2,3}))"
   ]
  },
  {
   "cell_type": "markdown",
   "id": "8f5bd4bf-8a16-4c92-83a8-b1b695ae508f",
   "metadata": {},
   "source": [
    "## **8. 数据结构相关：字符串**\n",
    "\n",
    "- **str()：将数据转化成字符串**\n",
    "- **format()：与具体数据相关, 用于计算各种小数, 精算等**\n",
    "- **repr()：返回一个对象的string形式**"
   ]
  },
  {
   "cell_type": "code",
   "execution_count": 71,
   "id": "47bef535-3848-4739-bdb2-d88e745de602",
   "metadata": {},
   "outputs": [
    {
     "name": "stdout",
     "output_type": "stream",
     "text": [
      "123456\n"
     ]
    }
   ],
   "source": [
    "print(str(123)+'456')  #123456"
   ]
  },
  {
   "cell_type": "code",
   "execution_count": 72,
   "id": "d4f21c97-3b2c-4827-b87b-782cbebaffd0",
   "metadata": {},
   "outputs": [
    {
     "name": "stdout",
     "output_type": "stream",
     "text": [
      "    hello world!    \n",
      "hello world!        \n",
      "        hello world!\n",
      "11\n",
      "a\n",
      "11\n",
      "13\n",
      "b\n",
      "B\n",
      "11\n",
      "11\n",
      "1.234568e+08\n",
      "1.23e+08\n",
      "1.23E+08\n",
      "1.234568\n",
      "1.23\n",
      "1.2345678900\n",
      "1234.567890\n"
     ]
    }
   ],
   "source": [
    "s = \"hello world!\"\n",
    "print(format(s, \"^20\"))  #剧中\n",
    "print(format(s, \"<20\"))  #左对齐\n",
    "print(format(s, \">20\"))  #右对齐\n",
    "#     hello world!    \n",
    "# hello world!        \n",
    "#         hello world!\n",
    "print(format(3, 'b' ))    # 二进制:11\n",
    "print(format(97, 'c' ))   # 转换成unicode字符:a\n",
    "print(format(11, 'd' ))   # ⼗进制:11\n",
    "print(format(11, 'o' ))   # 八进制:13 \n",
    "print(format(11, 'x' ))   # 十六进制(⼩写字母):b\n",
    "print(format(11, 'X' ))   # 十六进制(大写字母):B\n",
    "print(format(11, 'n' ))   # 和d⼀样:11\n",
    "print(format(11))         # 和d⼀样:11\n",
    "\n",
    "print(format(123456789, 'e' ))      # 科学计数法. 默认保留6位小数:1.234568e+08\n",
    "print(format(123456789, '0.2e' ))   # 科学计数法. 保留2位小数(小写):1.23e+08\n",
    "print(format(123456789, '0.2E' ))   # 科学计数法. 保留2位小数(大写):1.23E+08\n",
    "print(format(1.23456789, 'f' ))     # 小数点计数法. 保留6位小数:1.234568\n",
    "print(format(1.23456789, '0.2f' ))  # 小数点计数法. 保留2位小数:1.23\n",
    "print(format(1.23456789, '0.10f'))  # 小数点计数法. 保留10位小数:1.2345678900\n",
    "print(format(1.23456789e+3, 'F'))   # 小数点计数法. 很大的时候输出INF:1234.567890"
   ]
  },
  {
   "cell_type": "code",
   "execution_count": 73,
   "id": "d4d53730-7686-412d-82a4-c831c9929f97",
   "metadata": {},
   "outputs": [
    {
     "name": "stdout",
     "output_type": "stream",
     "text": [
      "今天\n",
      "吃了3顿\t饭\n",
      "'今天\\n吃了3顿\\t饭'\n"
     ]
    }
   ],
   "source": [
    "s = \"今天\\n吃了%s顿\\t饭\" % 3\n",
    "print(s)                     #今天# 吃了3顿    饭\n",
    "print(repr(s))               # 原样输出,过滤掉转义字符 \\n \\t \\r 不管百分号%"
   ]
  },
  {
   "cell_type": "markdown",
   "id": "330f2c05-68cb-4881-835e-99f53d413de4",
   "metadata": {},
   "source": [
    "## **9. 数据结构相关：编码**\n",
    "\n",
    "- **bytes()：把字符串转化成bytes类型**\n",
    "- **bytearray()：返回一个新字节数组. 这个数字的元素是可变的, 并且每个元素的值得范围是[0,256)**\n",
    "- **ord()：输入字符找带字符编码的位置**\n",
    "- **chr()：输入位置数字找出对应的字符**\n",
    "- **ascii()：ascii码**"
   ]
  },
  {
   "cell_type": "code",
   "execution_count": 79,
   "id": "266379fe-a1c2-4a6b-9cce-06a3f01d14a6",
   "metadata": {},
   "outputs": [
    {
     "name": "stdout",
     "output_type": "stream",
     "text": [
      "b'\\xe4\\xbb\\x8a\\xe5\\xa4\\xa9\\xe5\\x90\\x83\\xe9\\xa5\\xad\\xe4\\xba\\x86\\xe5\\x90\\x97'\n"
     ]
    }
   ],
   "source": [
    "bs = bytes(\"今天吃饭了吗\", encoding=\"utf-8\")\n",
    "print(bs)  #b'\\xe4\\xbb\\x8a\\xe5\\xa4\\xa9\\xe5\\x90\\x83\\xe9\\xa5\\xad\\xe4\\xba\\x86\\xe5\\x90\\x97'"
   ]
  },
  {
   "cell_type": "code",
   "execution_count": 80,
   "id": "8fc90bea-d40a-4a26-a974-f58dbd71625f",
   "metadata": {},
   "outputs": [
    {
     "name": "stdout",
     "output_type": "stream",
     "text": [
      "97\n",
      "bytearray(b'alex')\n",
      "bytearray(b'Alex')\n"
     ]
    }
   ],
   "source": [
    "ret = bytearray(\"alex\" ,encoding ='utf-8')\n",
    "print(ret[0])  #97\n",
    "print(ret)  #bytearray(b'alex')\n",
    "ret[0] = 65  #把65的位置A赋值给ret[0]\n",
    "print(str(ret))  #bytearray(b'Alex')"
   ]
  },
  {
   "cell_type": "code",
   "execution_count": 81,
   "id": "38f19158-d05c-4053-918c-7b84e6e40c98",
   "metadata": {},
   "outputs": [
    {
     "name": "stdout",
     "output_type": "stream",
     "text": [
      "97\n",
      "20013\n",
      "A\n",
      "丟\n",
      "\u0000\n",
      "\u0001\n",
      "\u0002\n",
      "\u0003\n",
      "\u0004\n",
      "\u0005\n",
      "\u0006\n",
      "\u0007\n",
      "\b\n",
      "\t\n",
      "'@'\n"
     ]
    }
   ],
   "source": [
    "print(ord('a'))  # 字母a在编码表中的码位:97\n",
    "print(ord('中'))  # '中'字在编码表中的位置:20013\n",
    "\n",
    "print(chr(65))  # 已知码位,求字符是什么:A\n",
    "print(chr(19999))  #丟\n",
    "\n",
    "for i in range(10):  #打印出0到10的字符\n",
    "    print(chr(i))\n",
    "\n",
    "print(ascii(\"@\"))  #'@'"
   ]
  },
  {
   "cell_type": "markdown",
   "id": "00383542-68e6-4085-8e77-54d498ec7b8c",
   "metadata": {},
   "source": [
    "## **10. 数据结构相关方法**\n",
    "\n",
    "- **reversed()：将一个序列翻转, 返回翻转序列的迭代器**\n",
    "- **slice()：列表的切片**\n",
    "- **len()：返回一个对象中的元素的个数**\n",
    "- **sorted()：对可迭代对象进行排序操作 (lamda)**\n",
    "\n",
    "    - 语法：sorted(Iterable, key=函数(排序规则), reverse=False)\n",
    "    - Iterable：可迭代对象\n",
    "    - key：排序规则(排序函数), 在sorted内部会将可迭代对象中的每一个元素传递给这个函数的参数. 根据函数运算的结果进行排序\n",
    "    - reverse：是否是倒叙. True：倒叙, False：正序\n",
    "\n",
    "\n",
    "- **all()：可迭代对象中全部是True, 结果才是True**\n",
    "- **any()：可迭代对象中有一个是True, 结果就是True**\n",
    "- **enumerate()：获取枚举对象**\n",
    "- **zip()：函数用于将可迭代的对象作为参数, 将对象中对应的元素打包成一个元组, 然后返回由这些元组组成的列表. 如果各个迭代器的元素个数不一致, 则返回列表长度与最短的对象相同**"
   ]
  },
  {
   "cell_type": "code",
   "execution_count": 83,
   "id": "82568dd5-801e-4e0a-af4c-e9f9f1e57369",
   "metadata": {},
   "outputs": [
    {
     "name": "stdout",
     "output_type": "stream",
     "text": [
      "['啊', '好', '你']\n",
      "[2, 3]\n",
      "[2, 3]\n"
     ]
    }
   ],
   "source": [
    "lst = \"你好啊\"\n",
    "it = reversed(lst)   # 不会改变原列表. 返回一个迭代器, 设计上的一个规则\n",
    "print(list(it))  #['啊', '好', '你']\n",
    "\n",
    "lst = [1, 2, 3, 4, 5, 6, 7]\n",
    "print(lst[1:3:1])  #[2,3]\n",
    "\n",
    "s = slice(1, 3, 1)  #  切片用的\n",
    "print(lst[s])  #[2,3]"
   ]
  },
  {
   "cell_type": "code",
   "execution_count": 84,
   "id": "99ff474d-61b3-4379-8d09-5d8f4f2d749b",
   "metadata": {},
   "outputs": [
    {
     "name": "stdout",
     "output_type": "stream",
     "text": [
      "4\n"
     ]
    }
   ],
   "source": [
    "a = [1,2,3,4]\n",
    "print(len(a))"
   ]
  },
  {
   "cell_type": "code",
   "execution_count": 85,
   "id": "504314f4-dcc8-47e7-b109-ccfa5d587199",
   "metadata": {},
   "outputs": [
    {
     "name": "stdout",
     "output_type": "stream",
     "text": [
      "[1, 5, 5, 6, 7, 9, 12, 13, 18]\n",
      "[1, 5, 5, 6, 7, 9, 12, 13, 18]\n",
      "[18, 13, 12, 9, 7, 6, 5, 5, 1]\n",
      "['one', 'two', 'six', 'four', 'five', 'three']\n"
     ]
    }
   ],
   "source": [
    "lst = [5,7,6,12,1,13,9,18,5]\n",
    "lst.sort()  # sort是list里面的一个方法\n",
    "print(lst)  #[1, 5, 5, 6, 7, 9, 12, 13, 18]\n",
    "\n",
    "ll = sorted(lst) # 内置函数. 返回给你一个新列表  新列表是被排序的\n",
    "print(ll)  #[1, 5, 5, 6, 7, 9, 12, 13, 18]\n",
    "\n",
    "l2 = sorted(lst,reverse=True)  #倒序\n",
    "print(l2)  #[18, 13, 12, 9, 7, 6, 5, 5, 1]\n",
    "\n",
    "#根据字符串长度给列表排序\n",
    "lst = ['one', 'two', 'three', 'four', 'five', 'six']\n",
    "l1 = sorted(lst, key=lambda x: len(x))\n",
    "print(l1)  #['one', 'two', 'six', 'four', 'five', 'three']"
   ]
  },
  {
   "cell_type": "code",
   "execution_count": 87,
   "id": "9a443e48-a394-4f30-bc00-435c3afbac35",
   "metadata": {},
   "outputs": [
    {
     "name": "stdout",
     "output_type": "stream",
     "text": [
      "True\n",
      "True\n"
     ]
    }
   ],
   "source": [
    "print(all([1,'hello',True,9]))  #True\n",
    "\n",
    "print(any([0,0,0,False,1,'good']))  #True"
   ]
  },
  {
   "cell_type": "code",
   "execution_count": 89,
   "id": "f6123c83-825a-4153-9062-65104f91aa0e",
   "metadata": {},
   "outputs": [
    {
     "name": "stdout",
     "output_type": "stream",
     "text": [
      "1 one\n",
      "2 two\n",
      "3 three\n",
      "4 four\n",
      "5 five\n"
     ]
    }
   ],
   "source": [
    "lst = ['one','two','three','four','five']\n",
    "for index, el in enumerate(lst,1):    # 把索引和元素一起获取,索引默认从0开始. 可以更改\n",
    "    print(index,el)"
   ]
  },
  {
   "cell_type": "code",
   "execution_count": 90,
   "id": "e4d2afcd-985b-405d-b569-842a44df346c",
   "metadata": {},
   "outputs": [
    {
     "name": "stdout",
     "output_type": "stream",
     "text": [
      "<zip object at 0x000001EC9A523FC0>\n",
      "(1, '醉乡民谣', '美国')\n",
      "(2, '驴得水', '中国')\n",
      "(3, '放牛班的春天', '法国')\n",
      "(4, '美丽人生', '意大利')\n",
      "(5, '辩护人', '韩国')\n",
      "(6, '被嫌弃的松子的一生', '日本')\n"
     ]
    }
   ],
   "source": [
    "lst1 = [1, 2, 3, 4, 5, 6]\n",
    "lst2 = ['醉乡民谣', '驴得水', '放牛班的春天', '美丽人生', '辩护人', '被嫌弃的松子的一生']\n",
    "lst3 = ['美国', '中国', '法国', '意大利', '韩国', '日本']\n",
    "print(zip(lst1, lst1, lst3))  #<zip object at 0x00000256CA6C7A88>\n",
    "\n",
    "for el in zip(lst1, lst2, lst3):\n",
    "    print(el)"
   ]
  },
  {
   "cell_type": "markdown",
   "id": "824cae44-3309-4d88-a8c4-94cbeae0b731",
   "metadata": {},
   "source": [
    "## **11. 高级处理函数**\n",
    "\n",
    "- **fiter()：过滤 (lamda)**\n",
    "\n",
    "   - 语法：fiter(function. Iterable)\n",
    "   - function：用来筛选的函数. 在ﬁlter中会自动的把iterable中的元素传递给function. 然后根据function返回的True或者False来判断是否保留留此项数据\n",
    "   - Iterable：可迭代对象\n",
    "\n",
    "\n",
    "\n",
    "- **map()：会根据提供的函数对指定序列列做映射(lamda)**\n",
    "\n",
    "   - 语法：map(function, iterable)\n",
    "\n",
    "   - 可以对可迭代对象中的每一个元素进行映射. 分别去执行 function"
   ]
  },
  {
   "cell_type": "code",
   "execution_count": 91,
   "id": "d7c5eded-d76b-45d6-b04a-d797fade9c6f",
   "metadata": {},
   "outputs": [
    {
     "name": "stdout",
     "output_type": "stream",
     "text": [
      "<filter object at 0x000001EC9AAD4160>\n",
      "[1, 3, 5, 7, 9]\n"
     ]
    }
   ],
   "source": [
    "def func(i):    # 判断奇数\n",
    "    return i % 2 == 1\n",
    "\n",
    "lst = [1,2,3,4,5,6,7,8,9]   \n",
    "l1 = filter(func, lst)  #l1是迭代器\n",
    "print(l1)  #<filter object at 0x000001CE3CA98AC8>\n",
    "print(list(l1))  #[1, 3, 5, 7, 9]"
   ]
  },
  {
   "cell_type": "code",
   "execution_count": 92,
   "id": "8dca1347-c3aa-45c9-9366-2f3449715c21",
   "metadata": {},
   "outputs": [
    {
     "name": "stdout",
     "output_type": "stream",
     "text": [
      "<filter object at 0x000001EC9AAD49D0>\n",
      "[1, 3, 5, 7, 9]\n"
     ]
    }
   ],
   "source": [
    "lst = [1,2,3,4,5,6,7,8,9]   \n",
    "l1 = filter(lambda x: x % 2 == 1, lst)  #l1是迭代器\n",
    "print(l1)  #<filter object at 0x000001CE3CA98AC8>\n",
    "print(list(l1))  #[1, 3, 5, 7, 9]"
   ]
  },
  {
   "cell_type": "code",
   "execution_count": 93,
   "id": "963b084e-2077-46ac-94a8-b827ef8276bf",
   "metadata": {},
   "outputs": [
    {
     "name": "stdout",
     "output_type": "stream",
     "text": [
      "<map object at 0x000001EC9AAD4820>\n",
      "[1, 4, 9, 16, 25, 36, 49, 64, 81]\n"
     ]
    }
   ],
   "source": [
    "lst = [1,2,3,4,5,6,7,8,9]\n",
    "\n",
    "lst = map(lambda x: x * x, lst)\n",
    "\n",
    "print(lst)\n",
    "\n",
    "print(list(lst))"
   ]
  },
  {
   "cell_type": "markdown",
   "id": "d291e94f-d35e-4230-968f-8a419370226c",
   "metadata": {},
   "source": [
    "## **12. 和作用域相关**\n",
    "\n",
    "- **locals()：返回当前作用域中的名字**\n",
    "- **globals()：返回全局作用域中的名字**"
   ]
  },
  {
   "cell_type": "code",
   "execution_count": 96,
   "id": "7d489526-a135-49af-baab-b43cb3b709d7",
   "metadata": {},
   "outputs": [
    {
     "name": "stdout",
     "output_type": "stream",
     "text": [
      "{'a': 10}\n"
     ]
    }
   ],
   "source": [
    "def func():\n",
    "    a = 10\n",
    "    print(locals())  # 当前作用域中的内容\n",
    "func()"
   ]
  },
  {
   "cell_type": "markdown",
   "id": "466d581f-7383-4434-a67d-095ec8d01435",
   "metadata": {},
   "source": [
    "## **13. 和迭代器生成器相关**\n",
    "\n",
    "- **range()：生成数据**\n",
    "- **next()：迭代器向下执行一次, 内部实际使⽤用了__ next__()⽅方法返回迭代器的下一个项目**\n",
    "- **iter()：获取迭代器, 内部实际使用的是__ iter__()⽅方法来获取迭代器**"
   ]
  },
  {
   "cell_type": "code",
   "execution_count": 97,
   "id": "7b9ed103-890f-4d28-ab56-6a4e7f29d700",
   "metadata": {},
   "outputs": [
    {
     "name": "stdout",
     "output_type": "stream",
     "text": [
      "0\n",
      "1\n",
      "2\n",
      "3\n",
      "4\n"
     ]
    }
   ],
   "source": [
    "for i in range(5):\n",
    "    print(i)"
   ]
  },
  {
   "cell_type": "code",
   "execution_count": 98,
   "id": "86a2b7ad-8a65-4ed7-a2a0-be3241a05dca",
   "metadata": {},
   "outputs": [
    {
     "name": "stdout",
     "output_type": "stream",
     "text": [
      "1\n",
      "2\n",
      "3\n",
      "4\n"
     ]
    }
   ],
   "source": [
    "lst = [1,2,3,4,5]\n",
    "it = iter(lst)  #  __iter__()获得迭代器\n",
    "print(it.__next__())  #1\n",
    "print(next(it)) #2  __next__()  \n",
    "print(next(it))  #3\n",
    "print(next(it))  #4"
   ]
  },
  {
   "cell_type": "markdown",
   "id": "8622d8d6-64f5-47f9-8b32-8a6413c66962",
   "metadata": {},
   "source": [
    "## **14. 字符串类型代码的执行**\n",
    "\n",
    "- **eval()：执行字符串类型的代码. 并返回最终结果**\n",
    "- **exec()：执行字符串类型的代码**\n",
    "- **compile()：将字符串类型的代码编码. 代码对象能够通过exec语句来执行或者eval()进行求值**"
   ]
  },
  {
   "cell_type": "code",
   "execution_count": 100,
   "id": "9960b32f-a018-454a-ab69-0f261b52ee19",
   "metadata": {},
   "outputs": [
    {
     "name": "stdout",
     "output_type": "stream",
     "text": [
      "17 <class 'int'>\n"
     ]
    }
   ],
   "source": [
    "a = '17'\n",
    "print(eval(a), type(eval(a)))"
   ]
  },
  {
   "cell_type": "code",
   "execution_count": 109,
   "id": "8fc7877a-8e4d-4e5f-8eec-ec6cbf6535b4",
   "metadata": {},
   "outputs": [
    {
     "data": {
      "text/plain": [
       "12"
      ]
     },
     "execution_count": 109,
     "metadata": {},
     "output_type": "execute_result"
    }
   ],
   "source": [
    "eval(\"5+7\")"
   ]
  },
  {
   "cell_type": "code",
   "execution_count": 110,
   "id": "81684c2a-2888-4894-af98-efb875369677",
   "metadata": {},
   "outputs": [
    {
     "data": {
      "text/plain": [
       "[1, 2, 3, 4]"
      ]
     },
     "execution_count": 110,
     "metadata": {},
     "output_type": "execute_result"
    }
   ],
   "source": [
    "eval(\"[1,2,3,4]\")"
   ]
  },
  {
   "cell_type": "code",
   "execution_count": 111,
   "id": "2a038293-f892-4cb3-9ca5-63c0a91be60a",
   "metadata": {},
   "outputs": [
    {
     "data": {
      "text/plain": [
       "{'a': 1}"
      ]
     },
     "execution_count": 111,
     "metadata": {},
     "output_type": "execute_result"
    }
   ],
   "source": [
    "eval(\"{'a':1}\")"
   ]
  },
  {
   "cell_type": "code",
   "execution_count": 105,
   "id": "fa52355d-ac2e-4fef-8a61-e9767ad89846",
   "metadata": {},
   "outputs": [
    {
     "name": "stdout",
     "output_type": "stream",
     "text": [
      "0\n",
      "1\n",
      "2\n"
     ]
    }
   ],
   "source": [
    "code = \"for x in range(3): print(x)\"\n",
    "exec(code)"
   ]
  },
  {
   "cell_type": "code",
   "execution_count": 103,
   "id": "f1ba2e2b-91d0-4343-a966-e113cb1aa49f",
   "metadata": {},
   "outputs": [
    {
     "name": "stdout",
     "output_type": "stream",
     "text": [
      " 我是周杰伦\n"
     ]
    }
   ],
   "source": [
    "exec(\"\"\"\n",
    "def func():\n",
    "    print(\" 我是周杰伦\")\n",
    "\"\"\" )\n",
    "\n",
    "func()"
   ]
  },
  {
   "cell_type": "code",
   "execution_count": 106,
   "id": "138fb2ce-7df5-49e6-882d-8119491d65b8",
   "metadata": {},
   "outputs": [
    {
     "name": "stdout",
     "output_type": "stream",
     "text": [
      "0\n",
      "1\n",
      "2\n"
     ]
    }
   ],
   "source": [
    "code = \"for x in range(3): print(x)\"\n",
    "com = compile(code1, \"\", mode=\"exec\")   # compile并不会执行你的代码.只是编译\n",
    "exec(com)   # 执行编译的结果"
   ]
  },
  {
   "cell_type": "code",
   "execution_count": 107,
   "id": "5a79d519-4f4b-4119-9738-3cc7cd68d6c4",
   "metadata": {},
   "outputs": [
    {
     "name": "stdout",
     "output_type": "stream",
     "text": [
      "18\n"
     ]
    }
   ],
   "source": [
    "code2 = \"5+6+7\"\n",
    "com2 = compile(code2, \"\", mode=\"eval\")\n",
    "print(eval(com2))  # 18"
   ]
  },
  {
   "cell_type": "markdown",
   "id": "27fec195-13f8-446e-b5d6-87dc6745daa7",
   "metadata": {},
   "source": [
    "## **15. 内存相关**\n",
    "\n",
    "- **id()：获取到对象的内存地址**\n",
    "- **hash()：获取到对象的哈希值(int, str, bool, tuple)**\n",
    "   - **目标是唯一不可变的** \n",
    "   - **dict 查找效率非常高, hash表.用空间换的时间 比较耗费内存**"
   ]
  },
  {
   "cell_type": "code",
   "execution_count": 112,
   "id": "98edb74d-db9d-4137-8396-822a91d61414",
   "metadata": {},
   "outputs": [
    {
     "data": {
      "text/plain": [
       "2115715084400"
      ]
     },
     "execution_count": 112,
     "metadata": {},
     "output_type": "execute_result"
    }
   ],
   "source": [
    "a = '123'\n",
    "id(a)"
   ]
  },
  {
   "cell_type": "code",
   "execution_count": 113,
   "id": "7eaae8d7-1567-40a6-b9ae-b49585c0dd27",
   "metadata": {},
   "outputs": [
    {
     "data": {
      "text/plain": [
       "-6092352545822229353"
      ]
     },
     "execution_count": 113,
     "metadata": {},
     "output_type": "execute_result"
    }
   ],
   "source": [
    "a = '123'\n",
    "hash(a)"
   ]
  },
  {
   "cell_type": "code",
   "execution_count": 114,
   "id": "cb898b30-65e3-475a-b90b-1fa02308b23c",
   "metadata": {},
   "outputs": [
    {
     "ename": "TypeError",
     "evalue": "unhashable type: 'list'",
     "output_type": "error",
     "traceback": [
      "\u001b[1;31m---------------------------------------------------------------------------\u001b[0m",
      "\u001b[1;31mTypeError\u001b[0m                                 Traceback (most recent call last)",
      "\u001b[1;32m~\\AppData\\Local\\Temp/ipykernel_19208/936472929.py\u001b[0m in \u001b[0;36m<module>\u001b[1;34m\u001b[0m\n\u001b[0;32m      1\u001b[0m \u001b[0ma\u001b[0m \u001b[1;33m=\u001b[0m \u001b[1;33m[\u001b[0m\u001b[1;36m1\u001b[0m\u001b[1;33m,\u001b[0m\u001b[1;36m2\u001b[0m\u001b[1;33m,\u001b[0m\u001b[1;36m3\u001b[0m\u001b[1;33m,\u001b[0m\u001b[1;36m4\u001b[0m\u001b[1;33m]\u001b[0m\u001b[1;33m\u001b[0m\u001b[1;33m\u001b[0m\u001b[0m\n\u001b[1;32m----> 2\u001b[1;33m \u001b[0mhash\u001b[0m\u001b[1;33m(\u001b[0m\u001b[0ma\u001b[0m\u001b[1;33m)\u001b[0m\u001b[1;33m\u001b[0m\u001b[1;33m\u001b[0m\u001b[0m\n\u001b[0m",
      "\u001b[1;31mTypeError\u001b[0m: unhashable type: 'list'"
     ]
    }
   ],
   "source": [
    "a = [1,2,3,4]\n",
    "hash(a)"
   ]
  },
  {
   "cell_type": "markdown",
   "id": "4d5b2e3d-c96e-43ca-b20a-fcc70823f0a3",
   "metadata": {},
   "source": [
    "## **16. 文件操作相关**\n",
    "\n",
    "- **open(file,mode='r',encoding='utf-8')：用于打开一个文件**\n",
    "   - **file：文件路径**\n",
    "   - **mode：打开模式，有（读、写、追加、二进制等等）**\n",
    "   - **encoding：编码，常用utf-8**\n",
    "   - **内置方法：read（读取）、wirte（写入）、close（关闭文件）**\n",
    "   "
   ]
  },
  {
   "cell_type": "code",
   "execution_count": 116,
   "id": "a7993fbc-a053-44ad-9c18-ec8f0b15fc45",
   "metadata": {},
   "outputs": [],
   "source": [
    "f = open('./examples/1.txt','w',encoding= 'utf-8')\n",
    "f.write('123')\n",
    "f.close()"
   ]
  },
  {
   "cell_type": "code",
   "execution_count": 117,
   "id": "b970bc36-38b3-4e2c-8b6c-ae9a96d72842",
   "metadata": {},
   "outputs": [
    {
     "name": "stdout",
     "output_type": "stream",
     "text": [
      "123\n"
     ]
    }
   ],
   "source": [
    "f = open('./examples/1.txt','r',encoding= 'utf-8')\n",
    "line = f.read()\n",
    "f.close()\n",
    "print(line)"
   ]
  },
  {
   "cell_type": "markdown",
   "id": "9423c54a-a458-4a32-a93e-f90dc91811e6",
   "metadata": {},
   "source": [
    "## **17. 模块相关**\n",
    "\n",
    "- **__ import__()：用于动态加载类和函数**"
   ]
  },
  {
   "cell_type": "code",
   "execution_count": 118,
   "id": "1d53767e-0ea5-4aab-899a-ef840ba21d33",
   "metadata": {},
   "outputs": [
    {
     "data": {
      "text/plain": [
       "<module 'os' from 'D:\\\\anaconda\\\\lib\\\\os.py'>"
      ]
     },
     "execution_count": 118,
     "metadata": {},
     "output_type": "execute_result"
    }
   ],
   "source": [
    "# 让用户输入一个要导入的模块\n",
    "import os\n",
    "__import__('os')    # 可以动态导入模块"
   ]
  },
  {
   "cell_type": "markdown",
   "id": "37a9056e-d274-45c6-ac77-c1f315f5dcea",
   "metadata": {},
   "source": [
    "---"
   ]
  },
  {
   "cell_type": "markdown",
   "id": "82042470-c503-4d48-ab5a-d804a92ed17e",
   "metadata": {},
   "source": [
    "# **六、装饰器**\n",
    "\n",
    "---\n",
    "\n",
    "Python中一切皆对象，由于函数也是一个对象，而且函数对象可以被赋值给变量，所以，通过变量也能调用该函数。\n",
    "\n",
    "装饰器就是修改其他函数功能的函数。他们有助于让我们的代码更简短，也更Pythonic。"
   ]
  },
  {
   "cell_type": "code",
   "execution_count": 121,
   "id": "5ca6df2d-1d54-4c02-8583-ba26283e6501",
   "metadata": {},
   "outputs": [
    {
     "name": "stdout",
     "output_type": "stream",
     "text": [
      "hello world\n"
     ]
    }
   ],
   "source": [
    "def test():\n",
    "    print('hello world')\n",
    "    \n",
    "func = test\n",
    "\n",
    "func()"
   ]
  },
  {
   "cell_type": "markdown",
   "id": "1020497b-6946-405c-af31-2dea735d703c",
   "metadata": {},
   "source": [
    "### **函数对象有一个__name__属性，可以拿到函数的名字：**"
   ]
  },
  {
   "cell_type": "code",
   "execution_count": 122,
   "id": "67bda4c5-8f2d-496f-b464-0ddfd0a8bf09",
   "metadata": {},
   "outputs": [
    {
     "data": {
      "text/plain": [
       "'test'"
      ]
     },
     "execution_count": 122,
     "metadata": {},
     "output_type": "execute_result"
    }
   ],
   "source": [
    "test.__name__"
   ]
  },
  {
   "cell_type": "code",
   "execution_count": 123,
   "id": "56a284d8-673f-4af7-b380-e2a656c5e1f4",
   "metadata": {},
   "outputs": [
    {
     "data": {
      "text/plain": [
       "'test'"
      ]
     },
     "execution_count": 123,
     "metadata": {},
     "output_type": "execute_result"
    }
   ],
   "source": [
    "func.__name__"
   ]
  },
  {
   "cell_type": "markdown",
   "id": "9c77db82-d6cc-420b-9fb6-023539d6f28d",
   "metadata": {},
   "source": [
    "**现在，假设我们要增强`test`函数的功能，比如，在函数调用前后自动打印日志，但又不希望修改`test`函数的定义，这种在代码运行期间动态增加功能的方式就是：`装饰器（Decorator）`**\n",
    "\n",
    "**本质上，`decorator`就是一个返回函数的高阶函数。所以，我们要定义一个能打印日志的 `decorator`，可以定义如下：**"
   ]
  },
  {
   "cell_type": "code",
   "execution_count": 125,
   "id": "5834e9de-bd8a-4ff6-b144-4ec46a6972b8",
   "metadata": {},
   "outputs": [],
   "source": [
    "def log(func):\n",
    "    def wrapper(*args, **kargs):\n",
    "        print('call %s():' % func.__name__)\n",
    "        return func(*args, **kargs)\n",
    "    return wrapper"
   ]
  },
  {
   "cell_type": "markdown",
   "id": "bce57157-6c63-40b0-9b3c-14e25ad8a061",
   "metadata": {},
   "source": [
    "**观察上面的log，因为它是一个decorator，所以接受一个函数作为参数，并返回一个函数。我们要借助Python的 `@ `语法，把decorator置于函数的定义处：**"
   ]
  },
  {
   "cell_type": "code",
   "execution_count": 126,
   "id": "d3fc07e8-b261-41f9-bcb8-7da1cd9bef89",
   "metadata": {},
   "outputs": [
    {
     "name": "stdout",
     "output_type": "stream",
     "text": [
      "call test():\n",
      "hello world\n"
     ]
    }
   ],
   "source": [
    "@log\n",
    "def test():\n",
    "    print('hello world')\n",
    "    \n",
    "test()"
   ]
  },
  {
   "cell_type": "markdown",
   "id": "33b234b4-b503-4904-860d-fb7c7e4d201b",
   "metadata": {},
   "source": [
    "### **把`@log`放到`test()`函数的定义处，相当于执行了语句：**\n",
    "\n",
    "```python\n",
    "\n",
    "test = log(test)\n",
    "\n",
    "```"
   ]
  },
  {
   "cell_type": "code",
   "execution_count": 128,
   "id": "66ca0054-db94-4328-a98e-00d319cd3e59",
   "metadata": {},
   "outputs": [
    {
     "name": "stdout",
     "output_type": "stream",
     "text": [
      "call test():\n",
      "hello world\n"
     ]
    }
   ],
   "source": [
    "def test():\n",
    "    print('hello world')\n",
    "\n",
    "test = log(test)\n",
    "test()"
   ]
  },
  {
   "cell_type": "markdown",
   "id": "e7bdc8dd-276a-41d8-b504-81cf28cd3ea7",
   "metadata": {},
   "source": [
    "**由于`log()`是一个`decorator`，返回一个函数，所以，原来的`test()`函数仍然存在，只是现在同名的`test`变量指向了新的函数，于是调用`test()`将执行新函数，即在`log()`函数中返回的`wrapper()`函数。**\n",
    "\n",
    "**`wrapper()`函数的参数定义是`(\\*args, \\*\\*kw)`，因此，`wrapper()`函数可以接受任意参数的调用。在`wrapper()`函数内，首先打印日志，再紧接着调用原始函数。**\n",
    "\n",
    "**如果`decorator`本身需要传入参数，那就需要编写一个返回`decorator`的高阶函数，写出来会更复杂。比如，要自定义`log`的文本：**"
   ]
  },
  {
   "cell_type": "code",
   "execution_count": 130,
   "id": "d4e60330-adc7-46b6-95d4-8a89e12a9481",
   "metadata": {},
   "outputs": [
    {
     "name": "stdout",
     "output_type": "stream",
     "text": [
      "测试： test():\n",
      "hello world\n"
     ]
    }
   ],
   "source": [
    "def log(text):\n",
    "    def decorator(func):\n",
    "        def wrapper(*args, **kw):\n",
    "            print('%s %s():' % (text, func.__name__))\n",
    "            return func(*args, **kw)\n",
    "        return wrapper\n",
    "    return decorator\n",
    "\n",
    "@log('测试：')\n",
    "def test():\n",
    "    print('hello world')\n",
    "    \n",
    "test()"
   ]
  },
  {
   "cell_type": "markdown",
   "id": "b5e14cf3-2afa-430a-addd-aea7aa764a44",
   "metadata": {},
   "source": [
    "### **和两层嵌套的decorator相比，3层嵌套的效果是这样的：**"
   ]
  },
  {
   "cell_type": "code",
   "execution_count": 131,
   "id": "a9e6f75e-beba-48d1-bf11-322a590d152b",
   "metadata": {},
   "outputs": [
    {
     "name": "stdout",
     "output_type": "stream",
     "text": [
      "测试： test():\n",
      "hello world\n"
     ]
    }
   ],
   "source": [
    "def test():\n",
    "    print('hello world')\n",
    "\n",
    "test = log('测试：')(test)\n",
    "\n",
    "test()"
   ]
  },
  {
   "cell_type": "markdown",
   "id": "a0b609a5-d090-40c1-b833-f77646f02deb",
   "metadata": {},
   "source": [
    "**我们来剖析上面的语句，首先执行`log('测试：')`，返回的是`decorator`函数，再调用返回的函数，参数是`test`函数，返回值最终是`wrapper`函数。**\n",
    "\n",
    "**以上两种`decorator`的定义都没有问题，但还差最后一步。因为我们讲了函数也是对象，它有`__name__`等属性，但你去看经过`decorator`装饰之后的函数，它们的`__name__`已经从原来的`test`变成了`wrapper`：**"
   ]
  },
  {
   "cell_type": "code",
   "execution_count": 134,
   "id": "7afa494c-0e5b-4853-8c6e-7bf62bdf3023",
   "metadata": {},
   "outputs": [
    {
     "data": {
      "text/plain": [
       "'test'"
      ]
     },
     "execution_count": 134,
     "metadata": {},
     "output_type": "execute_result"
    }
   ],
   "source": [
    "def test():\n",
    "    print('hello world')\n",
    "    \n",
    "test.__name__"
   ]
  },
  {
   "cell_type": "code",
   "execution_count": 135,
   "id": "4b573cb9-c6f7-40f8-a8a4-4a057f17b559",
   "metadata": {},
   "outputs": [
    {
     "data": {
      "text/plain": [
       "'wrapper'"
      ]
     },
     "execution_count": 135,
     "metadata": {},
     "output_type": "execute_result"
    }
   ],
   "source": [
    "def log(text):\n",
    "    def decorator(func):\n",
    "        def wrapper(*args, **kw):\n",
    "            print('%s %s():' % (text, func.__name__))\n",
    "            return func(*args, **kw)\n",
    "        return wrapper\n",
    "    return decorator\n",
    "\n",
    "@log('测试：')\n",
    "def test():\n",
    "    print('hello world')\n",
    "    \n",
    "test.__name__"
   ]
  },
  {
   "cell_type": "markdown",
   "id": "8b5ae1c7-eb65-445a-be10-c54508e70004",
   "metadata": {},
   "source": [
    "**因为返回的那个`wrapper()`函数名字就是`wrapper`，所以，需要把原始函数的`__name__`等属性复制到`wrapper()`函数中，否则，有些依赖函数签名的代码执行就会出错。**\n",
    "\n",
    "**不需要编写`wrapper.__name__ = func.__name__`这样的代码，`Python`内置的`functools.wraps`就是干这个事的，所以，一个完整的`decorator`的写法如下：**"
   ]
  },
  {
   "cell_type": "code",
   "execution_count": 136,
   "id": "325f3e7d-9db8-4711-9ee2-a759622a386b",
   "metadata": {},
   "outputs": [
    {
     "data": {
      "text/plain": [
       "'test'"
      ]
     },
     "execution_count": 136,
     "metadata": {},
     "output_type": "execute_result"
    }
   ],
   "source": [
    "import functools\n",
    "\n",
    "def log(func):\n",
    "    @functools.wraps(func)\n",
    "    def wrapper(*args, **kw):\n",
    "        print('call %s():' % func.__name__)\n",
    "        return func(*args, **kw)\n",
    "    return wrapper\n",
    "\n",
    "@log\n",
    "def test():\n",
    "    print('hello world')\n",
    "    \n",
    "test.__name__"
   ]
  },
  {
   "cell_type": "code",
   "execution_count": 137,
   "id": "93a398b8-d5b0-44c7-9728-03c1357f331c",
   "metadata": {},
   "outputs": [
    {
     "data": {
      "text/plain": [
       "'test'"
      ]
     },
     "execution_count": 137,
     "metadata": {},
     "output_type": "execute_result"
    }
   ],
   "source": [
    "import functools\n",
    "\n",
    "def log(text):\n",
    "    def decorator(func):\n",
    "        @functools.wraps(func)\n",
    "        def wrapper(*args, **kw):\n",
    "            print('%s %s():' % (text, func.__name__))\n",
    "            return func(*args, **kw)\n",
    "        return wrapper\n",
    "    return decorator\n",
    "\n",
    "@log('测试：')\n",
    "def test():\n",
    "    print('hello world')\n",
    "    \n",
    "test.__name__"
   ]
  },
  {
   "cell_type": "markdown",
   "id": "68bdd9f1-9c9f-4f60-836b-e8418ecfd6a8",
   "metadata": {},
   "source": [
    "### **可能这会让人觉得很鸡肋、很复杂。但是装饰器最大的优点就是：可复用性**\n",
    "\n",
    "**当你定义好一个装饰器以后，那么他可以被多个函数调用，这样可以很大程度上提高开发效率**"
   ]
  },
  {
   "cell_type": "code",
   "execution_count": null,
   "id": "f2472682-0b41-40ed-8231-a90c2dd5f508",
   "metadata": {},
   "outputs": [],
   "source": []
  }
 ],
 "metadata": {
  "kernelspec": {
   "display_name": "Python 3 (ipykernel)",
   "language": "python",
   "name": "python3"
  },
  "language_info": {
   "codemirror_mode": {
    "name": "ipython",
    "version": 3
   },
   "file_extension": ".py",
   "mimetype": "text/x-python",
   "name": "python",
   "nbconvert_exporter": "python",
   "pygments_lexer": "ipython3",
   "version": "3.9.7"
  }
 },
 "nbformat": 4,
 "nbformat_minor": 5
}
