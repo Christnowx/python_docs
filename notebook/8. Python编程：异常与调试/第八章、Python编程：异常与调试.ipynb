{
 "cells": [
  {
   "cell_type": "markdown",
   "id": "e21ec771-458a-441d-8693-4daba49465af",
   "metadata": {},
   "source": [
    "# **花卷学Python**\n",
    "---\n",
    "\n",
    "> **我年纪轻轻就学会了Python编程**\n",
    "\n",
    "\n",
    "# **第八章、Python编程：异常与调试**\n",
    "\n",
    "\n",
    " - [x] **异常**\n",
    " - [x] **调试**\n",
    " - [x] **单元调试**\n",
    " - [x] **文档调试**\n"
   ]
  },
  {
   "cell_type": "markdown",
   "id": "7b246ece-76b5-4e4a-bc3f-99b6efdb9dd7",
   "metadata": {},
   "source": [
    "---"
   ]
  },
  {
   "cell_type": "markdown",
   "id": "bb6326f8-8f09-4dd6-82df-87b1daa01812",
   "metadata": {},
   "source": [
    "# **一、异常**\n",
    "\n",
    "---\n",
    "\n",
    "\n",
    "在程序的运行过程中，发生异常或者错误是非常正常的，一般来说，编程语言都会设定一些特有的异常和自定义异常，我们需要捕捉它们，\n",
    "\n",
    "这样就可以知道是否有错，出错的原因是什么，以及如果出现错误我们应该怎么修复跳过等，甚至我们需要在特定的情况下需要引发一些异常。\n",
    "\n",
    "Python常见的异常有以下几种：\n",
    "\n",
    "- **AssertionError：断言语句失败（assert 后的条件为假）**\n",
    "\n",
    "- **AttributeError：访问的对象属性不存在**\n",
    "\n",
    "- **ImportError：无法导入模块或者对象，主要是路径有误或名称错误**   \n",
    "\n",
    "- **IndentationError：代码没有正确对齐，主要是缩进错误**\n",
    "\n",
    "- **IndexError：下标索引超出序列范围**\n",
    "\n",
    "- **IOError：输入/输出异常，主要是无法打开文件**\n",
    "\n",
    "- **KeyError：访问字典里不存在的键**\n",
    "\n",
    "- **NameError：访问一个未声明的变量**\n",
    "\n",
    "- **OverflowError：数值运算超出最大限制**\n",
    "\n",
    "- **SyntaxError：python语法错误**\n",
    "\n",
    "- **TabError：Tab和空格混用**\n",
    "\n",
    "- **TypeError：不同类型数据之间的无效操作（传入对象类型与要求的不符合）**\n",
    "\n",
    "- **ValueError：传入无效的值，即使值的类型是正确的**\n",
    "\n",
    "- **ZeroDivisionError：除法运算中除数0 或者 取模运算中模数为0**\n",
    "\n",
    "- **Exception：自定义异常**\n",
    "\n",
    "\n",
    "\n",
    "一旦程序发生异常，表明该程序在执行时出现了非正常的情况，无法再执行下去。默认情况下，程序会终止退出。"
   ]
  },
  {
   "cell_type": "markdown",
   "id": "35b8d986-809d-46de-b8ab-104535f08e5c",
   "metadata": {},
   "source": [
    "## **捕获异常**\n",
    "\n",
    "Python提供以下关键语句来捕捉异常：\n",
    "\n",
    "```python\n",
    "\n",
    "try:\n",
    "    处理代码块\n",
    "    \n",
    "except 异常:         ### 不写异常表示捕捉所有异常\n",
    "    发生异常的代码块\n",
    "\n",
    "```"
   ]
  },
  {
   "cell_type": "code",
   "execution_count": 1,
   "id": "c8e269c1-8c99-4ca6-830e-c01feedbf4f8",
   "metadata": {},
   "outputs": [
    {
     "ename": "TypeError",
     "evalue": "unsupported operand type(s) for +: 'int' and 'str'",
     "output_type": "error",
     "traceback": [
      "\u001b[1;31m---------------------------------------------------------------------------\u001b[0m",
      "\u001b[1;31mTypeError\u001b[0m                                 Traceback (most recent call last)",
      "\u001b[1;32m~\\AppData\\Local\\Temp/ipykernel_9612/2197615168.py\u001b[0m in \u001b[0;36m<module>\u001b[1;34m\u001b[0m\n\u001b[0;32m      1\u001b[0m \u001b[0ma\u001b[0m \u001b[1;33m=\u001b[0m \u001b[1;36m1\u001b[0m\u001b[1;33m\u001b[0m\u001b[1;33m\u001b[0m\u001b[0m\n\u001b[0;32m      2\u001b[0m \u001b[0mb\u001b[0m \u001b[1;33m=\u001b[0m \u001b[1;34m'2'\u001b[0m\u001b[1;33m\u001b[0m\u001b[1;33m\u001b[0m\u001b[0m\n\u001b[1;32m----> 3\u001b[1;33m \u001b[0mc\u001b[0m \u001b[1;33m=\u001b[0m \u001b[0ma\u001b[0m \u001b[1;33m+\u001b[0m \u001b[0mb\u001b[0m\u001b[1;33m\u001b[0m\u001b[1;33m\u001b[0m\u001b[0m\n\u001b[0m",
      "\u001b[1;31mTypeError\u001b[0m: unsupported operand type(s) for +: 'int' and 'str'"
     ]
    }
   ],
   "source": [
    "a = 1\n",
    "b = '2'\n",
    "c = a + b"
   ]
  },
  {
   "cell_type": "code",
   "execution_count": 2,
   "id": "e5602f28-8753-4ca5-a1c4-87295d892afa",
   "metadata": {},
   "outputs": [
    {
     "name": "stdout",
     "output_type": "stream",
     "text": [
      "3\n"
     ]
    }
   ],
   "source": [
    "try:\n",
    "    a = 1\n",
    "    b = '2'\n",
    "    c = a+b\n",
    "except:\n",
    "    c = 3\n",
    "\n",
    "print(c)"
   ]
  },
  {
   "cell_type": "code",
   "execution_count": 4,
   "id": "bbf3d3df-dcba-4046-aadb-1690124e0bd0",
   "metadata": {},
   "outputs": [
    {
     "name": "stdout",
     "output_type": "stream",
     "text": [
      "3\n"
     ]
    }
   ],
   "source": [
    "### 捕捉特定异常，这样就可以方便我们差错\n",
    "\n",
    "try:\n",
    "    a = 1\n",
    "    b = '2'\n",
    "    c = a+b\n",
    "except TypeError:\n",
    "    c = 3\n",
    "\n",
    "print(c)"
   ]
  },
  {
   "cell_type": "markdown",
   "id": "c3f7f3c9-c53e-444d-aea3-6342f11f2254",
   "metadata": {},
   "source": [
    "## **加上关键字else表示不发生异常运行**\n",
    "\n",
    "```python\n",
    "try:\n",
    "    处理代码块\n",
    "    \n",
    "except 异常:         ### 不写异常表示捕捉所有异常\n",
    "    发生异常的代码块\n",
    "    \n",
    "else:\n",
    "    不发生异常处理代码块\n",
    "\n",
    "```\n",
    "\n",
    "**else一般可以不写可以通过缩进来进行后面的代码块区分**"
   ]
  },
  {
   "cell_type": "code",
   "execution_count": 5,
   "id": "82d314aa-550e-470c-9749-1b8ea91fd77c",
   "metadata": {},
   "outputs": [],
   "source": [
    "try:\n",
    "    a = 1\n",
    "    b = '2'\n",
    "    c = a+b\n",
    "except TypeError:\n",
    "    c = 3\n",
    "else:\n",
    "    print(c)"
   ]
  },
  {
   "cell_type": "code",
   "execution_count": 6,
   "id": "d91fd7ee-dc5a-41dd-a5d3-cefebf2811d8",
   "metadata": {},
   "outputs": [
    {
     "name": "stdout",
     "output_type": "stream",
     "text": [
      "3\n"
     ]
    }
   ],
   "source": [
    "try:\n",
    "    a = 1\n",
    "    b = 2\n",
    "    c = a+b\n",
    "except TypeError:\n",
    "    c = 3\n",
    "else:\n",
    "    print(c)"
   ]
  },
  {
   "cell_type": "markdown",
   "id": "f5492511-7523-4790-9da6-c57030a9d357",
   "metadata": {},
   "source": [
    "## **加上换剪子finally表示无论有没有异常都会执行的代码块**\n",
    "\n",
    "```python\n",
    "try:\n",
    "    处理代码块\n",
    "    \n",
    "except 异常:         ### 不写异常表示捕捉所有异常\n",
    "    发生异常的代码块\n",
    "    \n",
    "else:\n",
    "    不发生异常处理代码块\n",
    "\n",
    "finally:\n",
    "    无论有么有异常都执行的代码块\n",
    "```"
   ]
  },
  {
   "cell_type": "code",
   "execution_count": 7,
   "id": "40c3fa18-501c-47e5-8ade-16fb0bcc5366",
   "metadata": {},
   "outputs": [
    {
     "name": "stdout",
     "output_type": "stream",
     "text": [
      "3\n"
     ]
    }
   ],
   "source": [
    "try:\n",
    "    a = 1\n",
    "    b = '2'\n",
    "    c = a+b\n",
    "except TypeError:\n",
    "    c = 3\n",
    "else:\n",
    "    c = 4\n",
    "finally:\n",
    "    print(c)"
   ]
  },
  {
   "cell_type": "markdown",
   "id": "5d4315dd-cfb0-475b-824a-a84a52041af6",
   "metadata": {},
   "source": [
    "## **泛华异常**\n",
    "\n",
    "很多情况下，我们根本不知道会发生什么具体类型的异常，这时候我们使用关键字：Exception表示所有异常，并且提供关键字：as，可以重命名该异常\n",
    "\n",
    "```python\n",
    "try:\n",
    "    处理代码块\n",
    "    \n",
    "except Exception as e:         ### 不写异常表示捕捉所有异常\n",
    "    print(e)\n",
    "```"
   ]
  },
  {
   "cell_type": "code",
   "execution_count": 9,
   "id": "748a2753-2ec6-4062-94a6-4fc44e11a3ca",
   "metadata": {},
   "outputs": [
    {
     "name": "stdout",
     "output_type": "stream",
     "text": [
      "异常信息：unsupported operand type(s) for +: 'int' and 'str'\n"
     ]
    }
   ],
   "source": [
    "try:\n",
    "    a = 1\n",
    "    b = '2'\n",
    "    c = a+b\n",
    "except Exception as e:\n",
    "    print(f'异常信息：{e}')"
   ]
  },
  {
   "cell_type": "markdown",
   "id": "e2e9d06d-af8e-4084-b2e9-3c8e40c93f49",
   "metadata": {},
   "source": [
    "## **更详细的捕捉异常**\n",
    "\n",
    "捕捉异常的本质是为了让我们发现并修改错误，有时候代码太多，调用太繁琐不是很容易发现，这时候需要具体到哪一行代码发生了错误，\n",
    "\n",
    "Python提供内置模块：traceback来详细的打印异常，常用方法有：\n",
    "\n",
    "\n",
    "- **traceback.print_exc()：打印具体异常信息**\n",
    "\n",
    "- **traceback.format_exc()：返回异常信息字符串方便二次处理**"
   ]
  },
  {
   "cell_type": "code",
   "execution_count": 11,
   "id": "5ca5cb12-cf1a-49d7-9848-1e3437b55aec",
   "metadata": {},
   "outputs": [
    {
     "name": "stderr",
     "output_type": "stream",
     "text": [
      "Traceback (most recent call last):\n",
      "  File \"C:\\Users\\DELL\\AppData\\Local\\Temp/ipykernel_9612/3288308381.py\", line 6, in <module>\n",
      "    c = a+b\n",
      "TypeError: unsupported operand type(s) for +: 'int' and 'str'\n"
     ]
    }
   ],
   "source": [
    "import traceback\n",
    "\n",
    "try:\n",
    "    a = 1\n",
    "    b = '2'\n",
    "    c = a+b\n",
    "except:\n",
    "    traceback.print_exc()"
   ]
  },
  {
   "cell_type": "code",
   "execution_count": 12,
   "id": "9223c994-0f1c-4eb4-894a-1daaef39d914",
   "metadata": {},
   "outputs": [
    {
     "name": "stdout",
     "output_type": "stream",
     "text": [
      "Traceback (most recent call last):\n",
      "  File \"C:\\Users\\DELL\\AppData\\Local\\Temp/ipykernel_9612/511410514.py\", line 4, in <module>\n",
      "    c = a+b\n",
      "TypeError: unsupported operand type(s) for +: 'int' and 'str'\n",
      "\n"
     ]
    }
   ],
   "source": [
    "try:\n",
    "    a = 1\n",
    "    b = '2'\n",
    "    c = a+b\n",
    "except:\n",
    "    info = traceback.format_exc()\n",
    "    \n",
    "print(info)"
   ]
  },
  {
   "cell_type": "markdown",
   "id": "a5d6c32c-3678-4247-aefa-3c7801874cd5",
   "metadata": {},
   "source": [
    "## **自定义引发异常**\n",
    "\n",
    "Python提供关键字：raise，搭配：Exception，用来引发自定义异常\n",
    "\n",
    "```python\n",
    "\n",
    "raise Exception('异常字符串')\n",
    "\n",
    "```"
   ]
  },
  {
   "cell_type": "code",
   "execution_count": 13,
   "id": "fe47fd4b-c237-4fbd-9356-d87696c54bdb",
   "metadata": {},
   "outputs": [
    {
     "ename": "Exception",
     "evalue": "这是一个自定义的异常",
     "output_type": "error",
     "traceback": [
      "\u001b[1;31m---------------------------------------------------------------------------\u001b[0m",
      "\u001b[1;31mException\u001b[0m                                 Traceback (most recent call last)",
      "\u001b[1;32m~\\AppData\\Local\\Temp/ipykernel_9612/1205731023.py\u001b[0m in \u001b[0;36m<module>\u001b[1;34m\u001b[0m\n\u001b[0;32m      1\u001b[0m \u001b[0ma\u001b[0m \u001b[1;33m=\u001b[0m \u001b[1;36m1\u001b[0m\u001b[1;33m\u001b[0m\u001b[1;33m\u001b[0m\u001b[0m\n\u001b[1;32m----> 2\u001b[1;33m \u001b[1;32mraise\u001b[0m \u001b[0mException\u001b[0m\u001b[1;33m(\u001b[0m\u001b[1;34m'这是一个自定义的异常'\u001b[0m\u001b[1;33m)\u001b[0m\u001b[1;33m\u001b[0m\u001b[1;33m\u001b[0m\u001b[0m\n\u001b[0m",
      "\u001b[1;31mException\u001b[0m: 这是一个自定义的异常"
     ]
    }
   ],
   "source": [
    "a = 1\n",
    "raise Exception('这是一个自定义的异常')"
   ]
  },
  {
   "cell_type": "markdown",
   "id": "5bd253c0-ab9c-45e3-9661-d75aafe2d245",
   "metadata": {},
   "source": [
    "---"
   ]
  },
  {
   "cell_type": "markdown",
   "id": "7d0092cb-997d-4999-8edd-b10a436d4407",
   "metadata": {},
   "source": [
    "# **二、调试**\n",
    "\n",
    "---\n",
    "\n",
    "一般来说，程序一次性写完并正常运行的概率非常小，经常发生某些bug，总会有各种bug需要修复，这可能就是导致脱发的根本原因，\n",
    "\n",
    "有些bug看看报错信息就知道怎么解决，有些bug很复杂，我们需要知道哪里出了错，这时候就需要一套完整的调试程序修复bug\n",
    "\n",
    "最常用的方法有：\n",
    "\n",
    "- **try...except:...：捕捉异常信息**\n",
    "\n",
    "- **print()：简单粗暴打印各种变量信息**\n",
    "\n",
    "- **assert：断言辅助查看**\n",
    "\n",
    "\n",
    "## **使用：print**"
   ]
  },
  {
   "cell_type": "code",
   "execution_count": 15,
   "id": "485c9877-c19c-45b5-81b4-05fbc33c69dd",
   "metadata": {},
   "outputs": [
    {
     "ename": "TypeError",
     "evalue": "unsupported operand type(s) for +: 'int' and 'str'",
     "output_type": "error",
     "traceback": [
      "\u001b[1;31m---------------------------------------------------------------------------\u001b[0m",
      "\u001b[1;31mTypeError\u001b[0m                                 Traceback (most recent call last)",
      "\u001b[1;32m~\\AppData\\Local\\Temp/ipykernel_9612/440557491.py\u001b[0m in \u001b[0;36m<module>\u001b[1;34m\u001b[0m\n\u001b[0;32m      2\u001b[0m     \u001b[1;32mreturn\u001b[0m \u001b[0ma\u001b[0m\u001b[1;33m+\u001b[0m\u001b[0mb\u001b[0m\u001b[1;33m\u001b[0m\u001b[1;33m\u001b[0m\u001b[0m\n\u001b[0;32m      3\u001b[0m \u001b[1;33m\u001b[0m\u001b[0m\n\u001b[1;32m----> 4\u001b[1;33m \u001b[0msums\u001b[0m\u001b[1;33m(\u001b[0m\u001b[1;36m1\u001b[0m\u001b[1;33m,\u001b[0m\u001b[1;34m'2'\u001b[0m\u001b[1;33m)\u001b[0m\u001b[1;33m\u001b[0m\u001b[1;33m\u001b[0m\u001b[0m\n\u001b[0m",
      "\u001b[1;32m~\\AppData\\Local\\Temp/ipykernel_9612/440557491.py\u001b[0m in \u001b[0;36msums\u001b[1;34m(a, b)\u001b[0m\n\u001b[0;32m      1\u001b[0m \u001b[1;32mdef\u001b[0m \u001b[0msums\u001b[0m\u001b[1;33m(\u001b[0m\u001b[0ma\u001b[0m\u001b[1;33m,\u001b[0m\u001b[0mb\u001b[0m\u001b[1;33m)\u001b[0m\u001b[1;33m:\u001b[0m\u001b[1;33m\u001b[0m\u001b[1;33m\u001b[0m\u001b[0m\n\u001b[1;32m----> 2\u001b[1;33m     \u001b[1;32mreturn\u001b[0m \u001b[0ma\u001b[0m\u001b[1;33m+\u001b[0m\u001b[0mb\u001b[0m\u001b[1;33m\u001b[0m\u001b[1;33m\u001b[0m\u001b[0m\n\u001b[0m\u001b[0;32m      3\u001b[0m \u001b[1;33m\u001b[0m\u001b[0m\n\u001b[0;32m      4\u001b[0m \u001b[0msums\u001b[0m\u001b[1;33m(\u001b[0m\u001b[1;36m1\u001b[0m\u001b[1;33m,\u001b[0m\u001b[1;34m'2'\u001b[0m\u001b[1;33m)\u001b[0m\u001b[1;33m\u001b[0m\u001b[1;33m\u001b[0m\u001b[0m\n",
      "\u001b[1;31mTypeError\u001b[0m: unsupported operand type(s) for +: 'int' and 'str'"
     ]
    }
   ],
   "source": [
    "def sums(a,b):\n",
    "    return a+b\n",
    "\n",
    "sums(1,'2')"
   ]
  },
  {
   "cell_type": "code",
   "execution_count": 16,
   "id": "91091001-59e2-42d8-9751-d298f0c6cc26",
   "metadata": {},
   "outputs": [
    {
     "name": "stdout",
     "output_type": "stream",
     "text": [
      "a: <class 'int'>\n",
      "b: <class 'str'>\n"
     ]
    },
    {
     "ename": "TypeError",
     "evalue": "unsupported operand type(s) for +: 'int' and 'str'",
     "output_type": "error",
     "traceback": [
      "\u001b[1;31m---------------------------------------------------------------------------\u001b[0m",
      "\u001b[1;31mTypeError\u001b[0m                                 Traceback (most recent call last)",
      "\u001b[1;32m~\\AppData\\Local\\Temp/ipykernel_9612/2972384813.py\u001b[0m in \u001b[0;36m<module>\u001b[1;34m\u001b[0m\n\u001b[0;32m      6\u001b[0m     \u001b[1;32mreturn\u001b[0m \u001b[0ma\u001b[0m\u001b[1;33m+\u001b[0m\u001b[0mb\u001b[0m\u001b[1;33m\u001b[0m\u001b[1;33m\u001b[0m\u001b[0m\n\u001b[0;32m      7\u001b[0m \u001b[1;33m\u001b[0m\u001b[0m\n\u001b[1;32m----> 8\u001b[1;33m \u001b[0msums\u001b[0m\u001b[1;33m(\u001b[0m\u001b[1;36m1\u001b[0m\u001b[1;33m,\u001b[0m\u001b[1;34m'2'\u001b[0m\u001b[1;33m)\u001b[0m\u001b[1;33m\u001b[0m\u001b[1;33m\u001b[0m\u001b[0m\n\u001b[0m",
      "\u001b[1;32m~\\AppData\\Local\\Temp/ipykernel_9612/2972384813.py\u001b[0m in \u001b[0;36msums\u001b[1;34m(a, b)\u001b[0m\n\u001b[0;32m      4\u001b[0m     \u001b[0mprint\u001b[0m\u001b[1;33m(\u001b[0m\u001b[1;34mf'b: {type(b)}'\u001b[0m\u001b[1;33m)\u001b[0m\u001b[1;33m\u001b[0m\u001b[1;33m\u001b[0m\u001b[0m\n\u001b[0;32m      5\u001b[0m \u001b[1;33m\u001b[0m\u001b[0m\n\u001b[1;32m----> 6\u001b[1;33m     \u001b[1;32mreturn\u001b[0m \u001b[0ma\u001b[0m\u001b[1;33m+\u001b[0m\u001b[0mb\u001b[0m\u001b[1;33m\u001b[0m\u001b[1;33m\u001b[0m\u001b[0m\n\u001b[0m\u001b[0;32m      7\u001b[0m \u001b[1;33m\u001b[0m\u001b[0m\n\u001b[0;32m      8\u001b[0m \u001b[0msums\u001b[0m\u001b[1;33m(\u001b[0m\u001b[1;36m1\u001b[0m\u001b[1;33m,\u001b[0m\u001b[1;34m'2'\u001b[0m\u001b[1;33m)\u001b[0m\u001b[1;33m\u001b[0m\u001b[1;33m\u001b[0m\u001b[0m\n",
      "\u001b[1;31mTypeError\u001b[0m: unsupported operand type(s) for +: 'int' and 'str'"
     ]
    }
   ],
   "source": [
    "def sums(a,b):\n",
    "    \n",
    "    print(f'a: {type(a)}')\n",
    "    print(f'b: {type(b)}')\n",
    "    \n",
    "    return a+b\n",
    "\n",
    "sums(1,'2')"
   ]
  },
  {
   "cell_type": "markdown",
   "id": "d6e3f042-c538-4bde-b2a3-bcedeef9af53",
   "metadata": {},
   "source": [
    "## **使用断言：assert**"
   ]
  },
  {
   "cell_type": "code",
   "execution_count": 19,
   "id": "26750117-15e5-46d4-bfcd-9dfafcbfab67",
   "metadata": {},
   "outputs": [
    {
     "ename": "AssertionError",
     "evalue": "",
     "output_type": "error",
     "traceback": [
      "\u001b[1;31m---------------------------------------------------------------------------\u001b[0m",
      "\u001b[1;31mAssertionError\u001b[0m                            Traceback (most recent call last)",
      "\u001b[1;32m~\\AppData\\Local\\Temp/ipykernel_9612/2712414290.py\u001b[0m in \u001b[0;36m<module>\u001b[1;34m\u001b[0m\n\u001b[1;32m----> 1\u001b[1;33m \u001b[1;32massert\u001b[0m \u001b[0misinstance\u001b[0m\u001b[1;33m(\u001b[0m\u001b[0mb\u001b[0m\u001b[1;33m,\u001b[0m\u001b[0mint\u001b[0m\u001b[1;33m)\u001b[0m\u001b[1;33m\u001b[0m\u001b[1;33m\u001b[0m\u001b[0m\n\u001b[0m\u001b[0;32m      2\u001b[0m \u001b[1;33m\u001b[0m\u001b[0m\n\u001b[0;32m      3\u001b[0m \u001b[1;32mdef\u001b[0m \u001b[0msums\u001b[0m\u001b[1;33m(\u001b[0m\u001b[0ma\u001b[0m\u001b[1;33m,\u001b[0m\u001b[0mb\u001b[0m\u001b[1;33m)\u001b[0m\u001b[1;33m:\u001b[0m\u001b[1;33m\u001b[0m\u001b[1;33m\u001b[0m\u001b[0m\n\u001b[0;32m      4\u001b[0m \u001b[1;33m\u001b[0m\u001b[0m\n\u001b[0;32m      5\u001b[0m     \u001b[1;32massert\u001b[0m \u001b[0misinstance\u001b[0m\u001b[1;33m(\u001b[0m\u001b[0ma\u001b[0m\u001b[1;33m,\u001b[0m\u001b[0mint\u001b[0m\u001b[1;33m)\u001b[0m\u001b[1;33m\u001b[0m\u001b[1;33m\u001b[0m\u001b[0m\n",
      "\u001b[1;31mAssertionError\u001b[0m: "
     ]
    }
   ],
   "source": [
    "assert isinstance(b,int)\n",
    "\n",
    "def sums(a,b):\n",
    "    \n",
    "    assert isinstance(a,int)\n",
    "    assert isinstance(b,int)\n",
    "    \n",
    "    return a+b\n",
    "\n",
    "sums(1,'2')\n"
   ]
  },
  {
   "cell_type": "markdown",
   "id": "861342f8-c6e3-4139-a271-51f9b300c639",
   "metadata": {},
   "source": [
    "### **适当的加上print和assert可以方便修复bug，但一定要记住，程序正式上线一定要注释掉这些地方，因为它们非常影响运行速度**"
   ]
  },
  {
   "cell_type": "markdown",
   "id": "122fe1bd-feab-45f0-a51a-0785e065d83a",
   "metadata": {},
   "source": [
    "---"
   ]
  },
  {
   "cell_type": "markdown",
   "id": "402813da-f15c-4135-a7a2-e4fa5be44ecc",
   "metadata": {},
   "source": [
    "# **三、单元调试**\n",
    "\n",
    "---\n",
    "\n",
    "上述调试其实只是对一句代码进行调试，Python是一个函数式编程，有很多的函数，类，第三方模块等需要测试工作，这时候就需要`单元调试`\n",
    "\n",
    "比如Python有个内置函数：abs()，正常返回如下：\n",
    "\n",
    "- **输入正数：返回和输入相同**\n",
    "\n",
    "- **输入负数：返回和输入相反**\n",
    "\n",
    "- **输入0：返回0**\n",
    "\n",
    "- **输入非数值类型，如：None、str等，输出异常：TypeError**\n",
    "\n",
    "如果把这个函数的四个用例放在一个测试模块，那就是一套完整的单元调试，\n",
    "\n",
    "假如通过单元调试，则说明函数正常工作；\n",
    "\n",
    "假如不通过单元调试，则说明函数存在bug。\n",
    "\n",
    "Python提供内置模块：unittest进行单元调试\n"
   ]
  },
  {
   "cell_type": "code",
   "execution_count": 24,
   "id": "8d5b6793-8f9b-4ddf-9400-75645934635b",
   "metadata": {},
   "outputs": [],
   "source": [
    "# %load ./examples/testing.py\n",
    "import unittest\n",
    "\n",
    "class TestABS(unittest.TestCase):\n",
    "    \n",
    "    def test_example1(self):\n",
    "        self.assertEqual(abs(1),1)\n",
    "        \n",
    "    def test_example2(self):\n",
    "        self.assertEqual(abs(-1),1)\n",
    "        \n",
    "    def test_example3(self):\n",
    "        self.assertEqual(abs(0),0)\n",
    "        \n",
    "    def test_example4(self):\n",
    "        a = '1'\n",
    "        with self.assertRaises(TypeError):\n",
    "            abs(a)\n",
    "        \n",
    "if __name__ == '__main__':\n",
    "    unittest.main()"
   ]
  },
  {
   "cell_type": "code",
   "execution_count": 26,
   "id": "184280cd-09ae-417d-a237-d128d973e7b3",
   "metadata": {},
   "outputs": [
    {
     "name": "stdout",
     "output_type": "stream",
     "text": [
      "Microsoft Windows [版本 10.0.22598.200]\n",
      "(c) Microsoft Corporation。保留所有权利。\n",
      "\n",
      "E:\\notebook\\B站\\花卷学Python\\8. Python编程：异常与调试>python ./examples/testing1.py\n",
      "\n",
      "E:\\notebook\\B站\\花卷学Python\\8. Python编程：异常与调试>"
     ]
    },
    {
     "name": "stderr",
     "output_type": "stream",
     "text": [
      "..\n",
      "----------------------------------------------------------------------\n",
      "Ran 2 tests in 0.000s\n",
      "\n",
      "OK\n"
     ]
    }
   ],
   "source": [
    "%%cmd\n",
    "python ./examples/testing1.py"
   ]
  },
  {
   "cell_type": "markdown",
   "id": "5da23118-5172-4fc7-89d4-6f349efdfa10",
   "metadata": {},
   "source": [
    "## **比如我们调试一个自定义的类**"
   ]
  },
  {
   "cell_type": "code",
   "execution_count": 25,
   "id": "5ad0c9b1-8f9d-43b5-81c1-0829a96a8c69",
   "metadata": {},
   "outputs": [],
   "source": [
    "# %load ./examples/testing1.py\n",
    "class Student(object):\n",
    "    def __init__(self, name: str = '', score: int = 0):\n",
    "        self.name = name\n",
    "        self.score = score\n",
    "        \n",
    "    def get_grade(self):\n",
    "        if self.score > 80:\n",
    "            return '优秀'\n",
    "        else:\n",
    "            return '良好'\n",
    "\n",
    "        \n",
    "        \n",
    "\n",
    "import unittest\n",
    "\n",
    "class TestABS(unittest.TestCase):\n",
    "    \n",
    "    def test_greater_80(self):\n",
    "        a = Student('a',90)\n",
    "        self.assertEqual(a.get_grade(),'优秀')\n",
    "        \n",
    "    def test_less_80(self):\n",
    "        a = Student('a',70)\n",
    "        self.assertEqual(a.get_grade(),'良好')\n",
    "\n",
    "        \n",
    "if __name__ == '__main__':\n",
    "    unittest.main()"
   ]
  },
  {
   "cell_type": "code",
   "execution_count": 27,
   "id": "8c551d08-cc49-4a4f-a9e3-0a673695c05d",
   "metadata": {},
   "outputs": [
    {
     "name": "stdout",
     "output_type": "stream",
     "text": [
      "Microsoft Windows [版本 10.0.22598.200]\n",
      "(c) Microsoft Corporation。保留所有权利。\n",
      "\n",
      "E:\\notebook\\B站\\花卷学Python\\8. Python编程：异常与调试>python ./examples/testing1.py\n",
      "\n",
      "E:\\notebook\\B站\\花卷学Python\\8. Python编程：异常与调试>"
     ]
    },
    {
     "name": "stderr",
     "output_type": "stream",
     "text": [
      "..\n",
      "----------------------------------------------------------------------\n",
      "Ran 2 tests in 0.000s\n",
      "\n",
      "OK\n"
     ]
    }
   ],
   "source": [
    "%%cmd\n",
    "python ./examples/testing1.py"
   ]
  },
  {
   "cell_type": "markdown",
   "id": "077ca8de-8d91-487d-839b-f3f49ac50ac6",
   "metadata": {},
   "source": [
    "---"
   ]
  },
  {
   "cell_type": "markdown",
   "id": "fe76fde3-63ee-4e43-8438-5ad53a503d70",
   "metadata": {},
   "source": [
    "# **四、文档调试**\n",
    "\n",
    "---\n",
    "\n",
    "假如你经常看Python的源码，会发现很多函数或者类都提供了文档，里面包含该函数或者类的交互式运行方式，\n",
    "\n",
    "一般来说，当我们使用一个陌生的函数或者类，看一下文档粘贴复制就可以直接使用它了，\n",
    "\n",
    "比如："
   ]
  },
  {
   "cell_type": "code",
   "execution_count": 29,
   "id": "8363a929-0b12-4278-bd90-3ca1c7035a34",
   "metadata": {},
   "outputs": [],
   "source": [
    "def myabs(a):\n",
    "    \"\"\"\n",
    "    绝对值函数\n",
    "    \n",
    "    Example:\n",
    "    \n",
    "    >>> myabs(1)\n",
    "    1\n",
    "    \n",
    "    >>> myabs(-1)\n",
    "    1\n",
    "    \n",
    "    >>> myabs(0)\n",
    "    0\n",
    "    \n",
    "    >>> myabs('1')\n",
    "    TypeError Traceback (most recent call last)\n",
    "        ...\n",
    "    TypeError: bad operand type for abs(): 'str'\n",
    "    \"\"\"\n",
    "    res = a if a >= 0 else -a\n",
    "    return res"
   ]
  },
  {
   "cell_type": "code",
   "execution_count": 31,
   "id": "abe49fbd-13e2-453e-921f-fd804a79b67b",
   "metadata": {},
   "outputs": [
    {
     "name": "stdout",
     "output_type": "stream",
     "text": [
      "\n",
      "    绝对值函数\n",
      "    \n",
      "    Example:\n",
      "    \n",
      "    >>> myabs(1)\n",
      "    1\n",
      "    \n",
      "    >>> myabs(-1)\n",
      "    1\n",
      "    \n",
      "    >>> myabs(0)\n",
      "    0\n",
      "    \n",
      "    >>> myabs('1')\n",
      "    TypeError Traceback (most recent call last)\n",
      "        ...\n",
      "    TypeError: bad operand type for abs(): 'str'\n",
      "    \n"
     ]
    }
   ],
   "source": [
    "print(myabs.__doc__)"
   ]
  },
  {
   "cell_type": "markdown",
   "id": "5080eb44-cfd3-4c2d-9f51-b79847f7aa1c",
   "metadata": {},
   "source": [
    "**该文档非常明确的告诉你：myabs函数怎么运行**\n",
    "\n",
    "**Python提供内置模块：doctest直接提取文档并执行测试**\n",
    "\n",
    "**doctest严格按照Python交互式命令行的输入和输出来判断测试结果是否正确。只有测试异常的时候，可以用...表示中间一大段烦人的输出。**\n",
    "\n",
    "**比如我们测试一下我们的：myabs函数**"
   ]
  },
  {
   "cell_type": "code",
   "execution_count": 32,
   "id": "de3bcbcb-b97c-4748-b3a2-7142394aa41a",
   "metadata": {},
   "outputs": [],
   "source": [
    "# %load ./examples/testing2.py\n",
    "def myabs(a):\n",
    "    \"\"\"\n",
    "    绝对值函数\n",
    "    \n",
    "    Example:\n",
    "    \n",
    "    >>> myabs(1)\n",
    "    1\n",
    "    \n",
    "    >>> myabs(-1)\n",
    "    1\n",
    "    \n",
    "    >>> myabs(0)\n",
    "    0\n",
    "    \n",
    "    >>> myabs('1')\n",
    "    TypeError Traceback (most recent call last)\n",
    "        ...\n",
    "    TypeError: bad operand type for abs(): 'str'\n",
    "    \"\"\"\n",
    "    res = a if a >= 0 else -a\n",
    "    return res\n",
    "\n",
    "\n",
    "\n",
    "\n",
    "if __name__ == \"__main__\":\n",
    "    import doctest\n",
    "    doctest.testmod()"
   ]
  },
  {
   "cell_type": "code",
   "execution_count": 34,
   "id": "8c733403-7524-4bce-b1a9-63b33e8939dd",
   "metadata": {},
   "outputs": [
    {
     "name": "stdout",
     "output_type": "stream",
     "text": [
      "Microsoft Windows [版本 10.0.22598.200]\n",
      "(c) Microsoft Corporation。保留所有权利。\n",
      "\n",
      "E:\\notebook\\B站\\花卷学Python\\8. Python编程：异常与调试>python ./examples/testing2.py\n",
      "**********************************************************************\n",
      "File \"E:\\notebook\\B站\\花卷学Python\\8. Python编程：异常与调试\\examples\\testing2.py\", line 16, in __main__.myabs\n",
      "Failed example:\n",
      "    myabs('1')\n",
      "Exception raised:\n",
      "    Traceback (most recent call last):\n",
      "      File \"D:\\anaconda\\lib\\doctest.py\", line 1336, in __run\n",
      "        exec(compile(example.source, filename, \"single\",\n",
      "      File \"<doctest __main__.myabs[3]>\", line 1, in <module>\n",
      "        myabs('1')\n",
      "      File \"E:\\notebook\\B站\\花卷学Python\\8. Python编程：异常与调试\\examples\\testing2.py\", line 21, in myabs\n",
      "        res = a if a >= 0 else -a\n",
      "    TypeError: '>=' not supported between instances of 'str' and 'int'\n",
      "**********************************************************************\n",
      "1 items had failures:\n",
      "   1 of   4 in __main__.myabs\n",
      "***Test Failed*** 1 failures.\n",
      "\n",
      "E:\\notebook\\B站\\花卷学Python\\8. Python编程：异常与调试>"
     ]
    }
   ],
   "source": [
    "%%cmd\n",
    "python ./examples/testing2.py"
   ]
  },
  {
   "cell_type": "code",
   "execution_count": null,
   "id": "a8f007bd-233e-4a0e-9fb6-c2032bb6178f",
   "metadata": {},
   "outputs": [],
   "source": []
  }
 ],
 "metadata": {
  "kernelspec": {
   "display_name": "Python 3 (ipykernel)",
   "language": "python",
   "name": "python3"
  },
  "language_info": {
   "codemirror_mode": {
    "name": "ipython",
    "version": 3
   },
   "file_extension": ".py",
   "mimetype": "text/x-python",
   "name": "python",
   "nbconvert_exporter": "python",
   "pygments_lexer": "ipython3",
   "version": "3.9.7"
  }
 },
 "nbformat": 4,
 "nbformat_minor": 5
}
