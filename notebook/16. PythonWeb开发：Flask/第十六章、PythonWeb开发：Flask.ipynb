{
 "cells": [
  {
   "cell_type": "markdown",
   "id": "a75c5a04-9ecd-41fb-a154-877b816434c1",
   "metadata": {},
   "source": [
    "# **花卷学Python**\n",
    "---\n",
    "\n",
    "> **我年纪轻轻就学会了Python编程**\n",
    "\n",
    "\n",
    "# **第十六章、PythonWeb开发：Flask**\n",
    "\n",
    "   - [x] **Web开发**\n",
    "   - [x] **HTTP协议**\n",
    "   - [x] **HTML简介**\n",
    "   - [x] **Web框架：Flask**\n",
    "\n"
   ]
  },
  {
   "cell_type": "markdown",
   "id": "ee134018-06ad-4e08-b175-56ae43fb590d",
   "metadata": {},
   "source": [
    "---"
   ]
  },
  {
   "cell_type": "markdown",
   "id": "7512e6fa-a014-4e69-825a-1c380d52c7ae",
   "metadata": {},
   "source": [
    "# **一、Web开发**\n",
    "\n",
    "---"
   ]
  },
  {
   "cell_type": "markdown",
   "id": "8de80d84-ebf5-442c-9871-a2dfe04db0ce",
   "metadata": {},
   "source": [
    "最早的软件都是运行在大型机上的，软件使用者通过“哑终端”登陆到大型机上去运行软件。后来随着PC机的兴起，软件开始主要运行在桌面上，而数据库这样的软件运行在服务器端，这种Client/Server模式简称CS架构。\n",
    "\n",
    "随着互联网的兴起，人们发现，CS架构不适合Web，最大的原因是Web应用程序的修改和升级非常迅速，而CS架构需要每个客户端逐个升级桌面App，因此，Browser/Server模式开始流行，简称BS架构。\n",
    "\n",
    "在BS架构下，客户端只需要浏览器，应用程序的逻辑和数据都存储在服务器端。浏览器只需要请求服务器，获取Web页面，并把Web页面展示给用户即可。\n",
    "\n",
    "当然，Web页面也具有极强的交互性。由于Web页面是用HTML编写的，而HTML具备超强的表现力，并且，服务器端升级后，客户端无需任何部署就可以使用到新的版本，因此，BS架构迅速流行起来。\n",
    "\n",
    "今天，除了重量级的软件如Office，Photoshop等，大部分软件都以Web形式提供。比如，新浪提供的新闻、博客、微博等服务，均是Web应用。\n",
    "\n",
    "Web应用开发可以说是目前软件开发中最重要的部分。Web开发也经历了好几个阶段：\n",
    "\n",
    "- 静态Web页面：由文本编辑器直接编辑并生成静态的HTML页面，如果要修改Web页面的内容，就需要再次编辑HTML源文件，早期的互联网Web页面就是静态的；\n",
    "\n",
    "- CGI：由于静态Web页面无法与用户交互，比如用户填写了一个注册表单，静态Web页面就无法处理。要处理用户发送的动态数据，出现了Common Gateway Interface，简称CGI，用C/C++编写。\n",
    "\n",
    "- ASP/JSP/PHP：由于Web应用特点是修改频繁，用C/C++这样的低级语言非常不适合Web开发，而脚本语言由于开发效率高，与HTML结合紧密，因此，迅速取代了CGI模式。ASP是微软推出的用VBScript脚本编程的Web开发技术，而JSP用Java来编写脚本，PHP本身则是开源的脚本语言。\n",
    "\n",
    "- MVC：为了解决直接用脚本语言嵌入HTML导致的可维护性差的问题，Web应用也引入了Model-View-Controller的模式，来简化Web开发。ASP发展为ASP.Net，JSP和PHP也有一大堆MVC框架。\n",
    "\n",
    "\n",
    "目前，Web开发技术仍在快速发展中，异步开发、新的MVVM前端技术层出不穷。\n",
    "\n",
    "Python的诞生历史比Web还要早，由于Python是一种解释型的脚本语言，开发效率高，所以非常适合用来做Web开发。\n",
    "\n",
    "Python有上百种Web开发框架，有很多成熟的模板技术，选择Python开发Web应用，不但开发效率高，而且运行速度快。"
   ]
  },
  {
   "cell_type": "markdown",
   "id": "d67167d2-626a-407b-a914-4aede0828042",
   "metadata": {},
   "source": [
    "---"
   ]
  },
  {
   "cell_type": "markdown",
   "id": "b307b041-3f81-4a86-971f-c9c58e82efe6",
   "metadata": {},
   "source": [
    "# **二、HTTP协议**\n",
    "\n",
    "---\n",
    "\n",
    "超文本传输协议（Hyper Text Transfer Protocol，HTTP）是一个简单的请求-响应协议，它通常运行在TCP之上。它指定了客户端可能发送给服务器什么样的消息以及得到什么样的响应。\n",
    "\n",
    "在Web应用中，服务器把网页传给浏览器，实际上就是把网页的HTML代码发送给浏览器，让浏览器显示出来。而浏览器和服务器之间的传输协议是HTTP，所以：\n",
    "\n",
    "- HTML是一种用来定义网页的文本，会HTML，就可以编写网页；\n",
    "\n",
    "- HTTP是在网络上传输HTML的协议，用于浏览器和服务器的通信。\n",
    "\n",
    "\n",
    "我们可以在浏览器打开百度地址：`www.baidu.com`，按下：`F12`，然后刷新，在`network`里面继续往下找到`Response Headers`，点击`view source`，显示服务器返回的原始响应数据找到响应。\n",
    "\n",
    "HTTP响应分为`Header`和`Body`两部分（Body是可选项），我们在Network中看到的Header最重要的几行如下：\n",
    "\n",
    "- `200 OK`：`200`表示一个成功的响应，后面的`OK`是说明。失败的响应有`404 Not Found`：网页不存在，`500 Internal Server Error`：服务器内部出错，等等。\n",
    "\n",
    "- `Content-Type: text/html`：Content-Type指示响应的内容，这里是text/html表示HTML网页。请注意，浏览器就是依靠Content-Type来判断响应的内容是网页还是图片，是视频还是音乐。\n",
    "\n",
    "- HTTP响应的Body就是HTML源码，我们在菜单栏选择“视图”，“开发者”，“查看网页源码”就可以在浏览器中直接查看HTML源码\n",
    "\n",
    "- `Host`：网站的域名\n",
    "\n",
    "当浏览器读取到新浪首页的HTML源码后，它会解析HTML，显示页面，然后，根据HTML里面的各种链接，再发送HTTP请求给新浪服务器，拿到相应的图片、视频、Flash、JavaScript脚本、CSS等各种资源，最终显示出一个完整的页面。所以我们在Network下面能看到很多额外的HTTP请求。\n",
    "\n",
    "\n",
    "## **HTTP请求**\n",
    "\n",
    "\n",
    "以上文百度网页为例，表述一下HTTP请求的流程：\n",
    "\n",
    "- 步骤1：浏览器首先向服务器发送HTTP请求，请求包括：\n",
    "\n",
    "  - 方法：GET还是POST，GET仅请求资源，POST会附带用户数据；\n",
    "\n",
    "  - 路径：/full/url/path；\n",
    "\n",
    "  - 域名：由Host头指定：Host: www.baidu.com\n",
    "\n",
    "  - 以及其他相关的Header；\n",
    "\n",
    "  - 如果是POST，那么请求还包括一个Body，包含用户数据。\n",
    "\n",
    "\n",
    "- 步骤2：服务器向浏览器返回HTTP响应，响应包括：\n",
    "\n",
    "  - 响应代码：200表示成功，3xx表示重定向，4xx表示客户端发送的请求有错误，5xx表示服务器端处理时发生了错误；\n",
    "\n",
    "  - 响应类型：由Content-Type指定，例如：Content-Type: text/html;charset=utf-8表示响应类型是HTML文本，并且编码是UTF-8，Content-Type: image/jpeg表示响应类型是JPEG格式的图片；\n",
    "\n",
    "  - 以及其他相关的Header；\n",
    "\n",
    "  - 通常服务器的HTTP响应会携带内容，也就是有一个Body，包含响应的内容，网页的HTML源码就在Body中。\n",
    "\n",
    "\n",
    "- 步骤3：如果浏览器还需要继续向服务器请求其他资源，比如图片，就再次发出HTTP请求，重复步骤1、2。\n",
    "\n",
    "\n",
    "Web采用的HTTP协议采用了非常简单的请求-响应模式，从而大大简化了开发。当我们编写一个页面时，我们只需要在HTTP响应中把HTML发送出去，不需要考虑如何附带图片、视频等，浏览器如果需要请求图片和视频，它会发送另一个HTTP请求，因此，一个HTTP请求只处理一个资源。"
   ]
  },
  {
   "cell_type": "markdown",
   "id": "eeda9b0a-a0aa-49c9-b54b-d329c18e9cfa",
   "metadata": {},
   "source": [
    "## **HTTP常用状态码**\n",
    "\n",
    "## **1xx:信息**\n",
    "\n",
    "\n",
    "|消息|描述|\n",
    "|---|---|\n",
    "|100 Continue|服务器仅接收到部分请求，但是一旦服务器并没有拒绝该请求，客户端应该继续发送其余的请求。|\n",
    "|101 Switching Protocols|服务器转换协议：服务器将遵从客户的请求转换到另外一种协议。|\n",
    "\n",
    "\n",
    "\n",
    "## **2xx:成功**\n",
    "\n",
    "|消息 |描述|\n",
    "|---|---|\n",
    "|200 OK |请求成功（其后是对GET和POST请求的应答文档。）|\n",
    "|201 Created |请求被创建完成，同时新的资源被创建。|\n",
    "|202 Accepted |供处理的请求已被接受，但是处理未完成。|\n",
    "|203 Non-authoritative Information |文档已经正常地返回，但一些应答头可能不正确，因为使用的是文档的拷贝。|\n",
    "|204 No Content |没有新文档。浏览器应该继续显示原来的文档。如果用户定期地刷新页面，而Servlet可以确定用户文档足够新，这个状态代码是很有用的。|\n",
    "|205 Reset Content |没有新文档。但浏览器应该重置它所显示的内容。用来强制浏览器清除表单输入内容。|\n",
    "|206 Partial Content |客户发送了一个带有Range头的GET请求，服务器完成了它。|\n",
    "\n",
    "\n",
    "## **3xx:重定向**\n",
    "\n",
    "\n",
    "|消息 |描述|\n",
    "|---|---|\n",
    "|300 Multiple Choices |多重选择。链接列表。用户可以选择某链接到达目的地。最多允许五个地址。|\n",
    "|301 Moved Permanently |所请求的页面已经转移至新的url。|\n",
    "|302 Found |所请求的页面已经临时转移至新的url。|\n",
    "|303 See Other |所请求的页面可在别的url下被找到。|\n",
    "|304 Not Modified|未按预期修改文档。客户端有缓冲的文档并发出了一个条件性的请求（一般是提供If-Modified-Since头表示客户只想比指定日期更新的文档）。服务器告诉客户，原来缓冲的文档还可以继续使用。|\n",
    "|305 Use Proxy|客户请求的文档应该通过Location头所指明的代理服务器提取。|\n",
    "|306 Unused|此代码被用于前一版本。目前已不再使用，但是代码依然被保留。|\n",
    "|307 Temporary Redirect|被请求的页面已经临时移至新的url。|\n",
    "\n",
    "\n",
    "\n",
    "## **4xx:客户端错误：一般是用户的错误导致，比如地址拼写错了**\n",
    "\n",
    "\n",
    "|消息 |描述|\n",
    "|---|---|\n",
    "|400 Bad Request|服务器未能理解请求。|\n",
    "|401 Unauthorized|被请求的页面需要用户名和密码。|\n",
    "|401.1|登录失败。|\n",
    "|401.2|服务器配置导致登录失败。|\n",
    "|401.3|由于ACL对资源的限制而未获得授权。|\n",
    "|401.4|筛选器授权失败。|\n",
    "|401.5|ISAPI/CGI应用程序授权失败。|\n",
    "|401.7|访问被Web服务器上的URL授权策略拒绝。这个错误代码为IIS 6.0所专用。|\n",
    "|402 Payment Required|此代码尚无法使用。|\n",
    "|403 Forbidden|对被请求页面的访问被禁止。|\n",
    "|403.1|执行访问被禁止。|\n",
    "|403.2|读访问被禁止。|\n",
    "|403.3|写访问被禁止。|\n",
    "|403.4|要求SSL。|\n",
    "|403.5|要求SSL 128。|\n",
    "|403.6|IP地址被拒绝。|\n",
    "|403.7|要求客户端证书。|\n",
    "|403.8|站点访问被拒绝。|\n",
    "|403.9|用户数过多。|\n",
    "|403.10|配置无效。|\n",
    "|403.11|密码更改。|\n",
    "|403.12|拒绝访问映射表。|\n",
    "|403.13|客户端证书被吊销。|\n",
    "|403.14|拒绝目录列表。|\n",
    "|403.15|超出客户端访问许可。|\n",
    "|403.16|客户端证书不受信任或无效。|\n",
    "|403.17|客户端证书已过期或尚未生效。|\n",
    "|403.18|在当前的应用程序池中不能执行所请求的URL。这个错误代码为IIS 6.0所专用。|\n",
    "|403.19|不能为这个应用程序池中的客户端执行CGI。这个错误代码为IIS 6.0所专用。|\n",
    "|403.20|Passport登录失败。这个错误代码为IIS 6.0所专用。|\n",
    "|404 Not Found|服务器无法找到被请求的页面。|\n",
    "|404.0|（无）–没有找到文件或目录。|\n",
    "|404.1|无法在所请求的端口上访问Web站点。|\n",
    "|404.2|Web服务扩展锁定策略阻止本请求。|\n",
    "|404.3|MIME映射策略阻止本请求。|\n",
    "|405 Method Not Allowed|请求中指定的方法不被允许。|\n",
    "|406 Not Acceptable|服务器生成的响应无法被客户端所接受。|\n",
    "|407 Proxy Authentication Required|用户必须首先使用代理服务器进行验证，这样请求才会被处理。|\n",
    "|408 Request Timeout|请求超出了服务器的等待时间。|\n",
    "|409 Conflict|由于冲突，请求无法被完成。|\n",
    "|410 Gone|被请求的页面不可用。|\n",
    "|411 Length Required|\"Content-Length\"未被定义。如果无此内容，服务器不会接受请求。|\n",
    "|412 Precondition Failed|请求中的前提条件被服务器评估为失败。|\n",
    "|413 Request Entity Too Large|由于所请求的实体的太大，服务器不会接受请求。|\n",
    "|414 Request-url Too Long|由于url太长，服务器不会接受请求。当post请求被转换为带有很长的查询信息的get请求时，就会发生这种情况。|\n",
    "|415 Unsupported Media Type|由于媒介类型不被支持，服务器不会接受请求。|\n",
    "|416 Requested Range Not Satisfiable|服务器不能满足客户在请求中指定的Range头。|\n",
    "|417 Expectation Failed|执行失败。|\n",
    "|423|锁定的错误。|\n",
    "\n",
    "\n",
    "## **5xx:服务器错误：一般是服务器内部错误导致，比如代码bug**\n",
    "\n",
    "\n",
    "|消息 |描述|\n",
    "|---|---|\n",
    "|500 Internal Server Error|请求未完成。服务器遇到不可预知的情况。|\n",
    "|500.12|应用程序正忙于在Web服务器上重新启动。|\n",
    "|500.13|Web服务器太忙。|\n",
    "|500.15|不允许直接请求Global.asa。|\n",
    "|500.16|UNC授权凭据不正确。这个错误代码为IIS 6.0所专用。|\n",
    "|500.18|URL授权存储不能打开。这个错误代码为IIS 6.0所专用。|\n",
    "|500.100|内部ASP错误。|\n",
    "|501 Not Implemented|请求未完成。服务器不支持所请求的功能。|\n",
    "|502 Bad Gateway|请求未完成。服务器从上游服务器收到一个无效的响应。|\n",
    "|502.1|CGI应用程序超时。|\n",
    "|502.2|CGI应用程序出错。|\n",
    "|503 Service Unavailable|请求未完成。服务器临时过载或宕机。|\n",
    "|504 Gateway Timeout|网关超时。|\n",
    "|505 HTTP Version Not Supported|服务器不支持请求中指明的HTTP版本。|"
   ]
  },
  {
   "cell_type": "markdown",
   "id": "344f11a7-96f0-4de1-b11a-7abd69fda9ac",
   "metadata": {},
   "source": [
    "## **Python解析域名**\n",
    "\n",
    "Python可以通过：socket模块解析"
   ]
  },
  {
   "cell_type": "code",
   "execution_count": 6,
   "id": "9258de7b-a5a7-4a61-90bf-1bb0dd604365",
   "metadata": {},
   "outputs": [
    {
     "data": {
      "text/plain": [
       "[(<AddressFamily.AF_INET: 2>,\n",
       "  <SocketKind.SOCK_STREAM: 1>,\n",
       "  0,\n",
       "  '',\n",
       "  ('180.101.49.12', 80)),\n",
       " (<AddressFamily.AF_INET: 2>,\n",
       "  <SocketKind.SOCK_STREAM: 1>,\n",
       "  0,\n",
       "  '',\n",
       "  ('180.101.49.11', 80))]"
      ]
     },
     "execution_count": 6,
     "metadata": {},
     "output_type": "execute_result"
    }
   ],
   "source": [
    "import socket\n",
    "\n",
    "domain = 'www.baidu.com'\n",
    "\n",
    "res = socket.getaddrinfo(domain, 'http')\n",
    "res"
   ]
  },
  {
   "cell_type": "code",
   "execution_count": 7,
   "id": "bc7a24d6-ee24-4108-b8b9-7a0706b592f8",
   "metadata": {},
   "outputs": [
    {
     "data": {
      "text/plain": [
       "('180.101.49.12', 80)"
      ]
     },
     "execution_count": 7,
     "metadata": {},
     "output_type": "execute_result"
    }
   ],
   "source": [
    "res[0][4]"
   ]
  },
  {
   "cell_type": "markdown",
   "id": "40a0d15c-d198-474e-a69a-f22dd2ca3639",
   "metadata": {},
   "source": [
    "---"
   ]
  },
  {
   "cell_type": "markdown",
   "id": "eaf67ffb-b5c5-426f-a348-1aa982e3236e",
   "metadata": {},
   "source": [
    "# **三、HTML简介**\n",
    "\n",
    "---\n",
    "\n",
    "HTML的全称为超文本标记语言，是一种标记语言。它包括一系列标签．通过这些标签可以将网络上的文档格式统一，使分散的Internet资源连接为一个逻辑整体。HTML文本是由HTML命令组成的描述性文本，HTML命令可以说明文字，图形、动画、声音、表格、链接等。\n",
    "\n",
    "超文本是一种组织信息的方式，它通过超级链接方法将文本中的文字、图表与其他信息媒体相关联。这些相互关联的信息媒体可能在同一文本中，也可能是其他文件，或是地理位置相距遥远的某台计算机上的文件。这种组织信息方式将分布在不同位置的信息资源用随机方式进行连接，为人们查找，检索信息提供方便。\n",
    "\n",
    "HTML文档就是一系列的Tag组成，最外层的Tag是<html>。规范的HTML也包含<head>...</head>和<body>...</body>（注意不要和HTTP的Header、Body搞混了），由于HTML是富文档模型，所以，还有一系列的Tag用来表示链接、图片、表格、表单等等。\n",
    "\n",
    "例如：\n",
    "\n",
    "```html\n",
    "// hello.html\n",
    "\n",
    "<html>\n",
    "    <head>\n",
    "        <title>Hello world</title>\n",
    "    </head>\n",
    "    <body>\n",
    "        <h1>Hello, world!</h1>\n",
    "    </body>\n",
    "</html>\n",
    "\n",
    "```\n",
    "\n",
    "可以直接代开本地HTML文件浏览效果"
   ]
  },
  {
   "cell_type": "markdown",
   "id": "28dae0f1-8dd0-4e65-9d08-120e29b41e5a",
   "metadata": {},
   "source": [
    "## **CSS简介**\n",
    "\n",
    "CSS是Cascading Style Sheets（层叠样式表）的简称，CSS用来控制HTML里的所有元素如何展现，比如，给标题元素<h1>加一个样式，变成48号字体，灰色，带阴影。\n",
    "    \n",
    "比如上文的HTML我们可以简单设置一下它的样式：\n",
    "    \n",
    "```html\n",
    "\n",
    "// hello1.html\n",
    "\n",
    "<html>\n",
    "    <head>\n",
    "        <title>Hello world</title>\n",
    "        <style>\n",
    "            h1 {\n",
    "              color: #333333;\n",
    "              font-size: 72px;\n",
    "              text-shadow: 3px 3px 3px #666666;\n",
    "            }\n",
    "        </style>\n",
    "    </head>\n",
    "    <body>\n",
    "        <h1>Hello, world!</h1>\n",
    "    </body>\n",
    "</html>\n",
    "\n",
    "```"
   ]
  },
  {
   "cell_type": "markdown",
   "id": "32b08912-6f74-47a0-a41d-210bc3415e23",
   "metadata": {},
   "source": [
    "## **JavaScript简介**\n",
    "\n",
    "JavaScript是为了让HTML具有交互性而作为脚本语言添加的，JavaScript既可以内嵌到HTML中，也可以从外部链接到HTML中。如果我们希望当用户点击标题时把标题变成红色，就必须通过JavaScript来实现：\n",
    "\n",
    "\n",
    "```html\n",
    "\n",
    "// hello2.html\n",
    "\n",
    "<html>\n",
    "    <head>\n",
    "        <title>Hello</title>\n",
    "        <style>\n",
    "            h1 {\n",
    "              color: #333333;\n",
    "              font-size: 72px;\n",
    "              text-shadow: 3px 3px 3px #666666;\n",
    "            }\n",
    "        </style>\n",
    "        <script>\n",
    "            function onClick() {\n",
    "              document.getElementsByTagName('h1')[0].style.color = '#ff0000';\n",
    "            }\n",
    "        </script>\n",
    "    </head>\n",
    "    <body>\n",
    "        <h1 onclick=\"onClick()\">Hello, world!</h1>\n",
    "    </body>\n",
    "</html>\n",
    "\n",
    "```"
   ]
  },
  {
   "cell_type": "markdown",
   "id": "a8ccc73c-f640-4368-adbc-a33811d43cba",
   "metadata": {},
   "source": [
    "## **HTML head 元素**\n",
    "\n",
    "\n",
    "|标签|描述|\n",
    "|---|---|\n",
    "|\\<head\\>|定义了文档的信息|\n",
    "|\\<title\\>|定义了文档的标题|\n",
    "|\\<base\\>|定义了页面链接标签的默认链接地址|\n",
    "|\\<link\\>|定义了一个文档和外部资源之间的关系|\n",
    "|\\<meta\\>|定义了HTML文档中的元数据|\n",
    "|\\<script\\>|定义了客户端的脚本文件|\n",
    "|\\<style\\>|定义了HTML文档的样式文件|"
   ]
  },
  {
   "cell_type": "markdown",
   "id": "a02e65c0-9d9e-4b7c-9bff-583236f57336",
   "metadata": {},
   "source": [
    "## **HTML 主题内容 元素**\n",
    "\n",
    "\n",
    "|标签|描述|\n",
    "|---|---|\n",
    "|\\<body\\>|定义文档的主体|\n",
    "|\\<h1\\> to \\<h6\\>|定义 HTML 标题|\n",
    "|\\<p\\>|定义一个段落|\n",
    "|\\<br\\>|定义简单的折行。|\n",
    "|\\<hr\\>|定义水平线。|\n",
    "|\\<!--...--\\>|定义一个注释|"
   ]
  },
  {
   "cell_type": "markdown",
   "id": "50ee3c03-4e13-48ec-8eb7-a6fef1948f6c",
   "metadata": {},
   "source": [
    "---"
   ]
  },
  {
   "cell_type": "markdown",
   "id": "f39ba6c3-2be3-488e-82f2-10920b91f067",
   "metadata": {
    "tags": []
   },
   "source": [
    "# **四、Web框架：Flask**\n",
    "\n",
    "---\n",
    "\n",
    "Flask是一个使用 Python 编写的轻量级 Web 应用框架，十分流行。其 WSGI 工具箱采用 Werkzeug ，模板引擎则使用 Jinja2 。\n",
    "\n",
    "较其他同类型框架更为灵活、轻便、安全且容易上手。它可以很好地结合MVC模式进行开发，开发人员分工合作，小型团队在短时间内就可以完成功能丰富的中小型网站或Web服务的实现。\n",
    "\n",
    "另外，Flask还有很强的定制性，用户可以根据自己的需求来添加相应的功能，在保持核心功能简单的同时实现功能的丰富与扩展，其强大的插件库可以让用户实现个性化的网站定制，开发出功能强大的网站。\n",
    "\n",
    "\n",
    "### 什么是Web Framework？\n",
    "Web Application Framework（Web应用程序框架）或简单的Web Framework（Web框架）表示一个库和模块的集合，使Web应用程序开发人员能够编写应用程序，而不必担心协议，线程管理等低级细节。\n",
    "\n",
    "### WSGI\n",
    "Web Server Gateway Interface（Web服务器网关接口，WSGI）已被用作Python Web应用程序开发的标准。WSGI是Web服务器和Web应用程序之间通用接口的规范。\n",
    "\n",
    "### Werkzeug\n",
    "它是一个WSGI工具包，它实现了请求，响应对象和实用函数。这使得能够在其上构建web框架。Flask框架使用Werkzeug作为其基础之一。\n",
    "\n",
    "### jinja2\n",
    "jinja2是Python的一个流行的模板引擎。Web模板系统将模板与特定数据源组合以呈现动态网页。\n",
    "\n",
    "\n",
    "## **Python常用web框架**\n",
    "\n",
    "- **Django：企业级开发框架，近乎完美的功能**\n",
    "- **Flask：轻量，高自定制**\n",
    "- **FastAPI：异步，媲美go语言的速度**\n",
    "- **Tornado：高并发处理框架，速度快，但是代码看不懂**\n",
    "\n",
    "\n",
    "\n",
    "## **安装：**\n",
    "\n",
    "- **`pip install Flask`**\n",
    "\n",
    "# **Flask使用get和post方法实现一个web server**"
   ]
  },
  {
   "cell_type": "markdown",
   "id": "3c140cfc-319b-42dd-939b-46a6c50acb14",
   "metadata": {},
   "source": [
    "## **Flask实现get**"
   ]
  },
  {
   "cell_type": "code",
   "execution_count": 9,
   "id": "a83d3f02-4802-492c-8ec8-d5e135b8b023",
   "metadata": {},
   "outputs": [],
   "source": [
    "# %load ./examples/app.py\n",
    "from flask import Flask\n",
    "\n",
    "\n",
    "app = Flask(__name__)\n",
    "\n",
    "\n",
    "@app.route('/', methods=['GET'])\n",
    "def home():\n",
    "    return '<h1>这是一个主页</h1>'\n",
    "\n",
    "\n",
    "if __name__ == \"__main__\":\n",
    "    app.run(host = '0.0.0.0',port = 5678)\n",
    "    \n",
    "    \"\"\"\n",
    "    运行，打开cmd：\n",
    "    python ./examples/app.py\n",
    "    \"\"\""
   ]
  },
  {
   "cell_type": "markdown",
   "id": "fe36945f-6cc4-4ec9-821d-f9b4348923d6",
   "metadata": {},
   "source": [
    "## **Flask实现post**"
   ]
  },
  {
   "cell_type": "code",
   "execution_count": 2,
   "id": "70c75137-5126-41f8-90b3-ebc367dbaad6",
   "metadata": {},
   "outputs": [],
   "source": [
    "# %load ./examples/app1.py\n",
    "from flask import Flask\n",
    "from flask import request\n",
    "\n",
    "\n",
    "app = Flask(__name__)\n",
    "\n",
    "\n",
    "@app.route('/sign', methods=['GET'])\n",
    "def signin_form():\n",
    "    return '''\n",
    "            <h1>这是一个注册页面</h1>\n",
    "            <form action=\"/sign\" method=\"post\">\n",
    "                <p>用户名：<input name=\"username\"></p>\n",
    "                <p>密码：<input name=\"password\"></p>\n",
    "                <p><button type=\"submit\">Sign In</button></p>\n",
    "            </form>\n",
    "        '''\n",
    "\n",
    "@app.route('/sign', methods=['POST'])\n",
    "def signin():\n",
    "    # 需要从request对象读取表单内容：\n",
    "    if request.form['username']=='test' and request.form['password']=='123456':\n",
    "        return f\"<h1>Hello, {request.form['username']}!,欢迎回来!</h1>\"\n",
    "    return '<h1>Bad username or password.</h1>'\n",
    "\n",
    "\n",
    "if __name__ == \"__main__\":\n",
    "    app.run(host = '0.0.0.0',port = 5678)"
   ]
  },
  {
   "cell_type": "markdown",
   "id": "9cd82dfd-ef7c-43f8-a415-94181610d258",
   "metadata": {},
   "source": [
    "## **Flask渲染HTML文件**\n",
    "\n",
    "向上述，由于HTML代码简短可以直接写在代码里面。但是有时候项目的HTML文件很长或者很多，并且伴随一些css和javascript文件。\n",
    "\n",
    "那这样直接写在Python代码里面就不太方便了，Flask提供了可以直接渲染本地HTML文件的功能。\n",
    "\n",
    "## **Flask的render_template()渲染HTML**\n",
    "\n",
    "render_template()有什么用\n",
    "在Python代码中 直接生成 HTML 缺点很多，比如笨拙，效率低，可读性差。因此， Flask 提供了 Jinja2 模板引擎来帮助开发者高效灵活生成HTML。\n",
    "使用该方法可以渲染模板，你只要提供模板名称和需要作为参数传递给模板的变量就行了。\n",
    "\n",
    "html模板文件的位置\n",
    "模板即自己写好的模板html文件，需要放在templates文件夹内。"
   ]
  },
  {
   "cell_type": "code",
   "execution_count": 3,
   "id": "cd2e72d0-a2c4-4942-845e-a6f8fa167171",
   "metadata": {},
   "outputs": [],
   "source": [
    "# %load ./examples/app2.py\n",
    "from flask import Flask, render_template,url_for\n",
    "from flask import request\n",
    "\n",
    "\n",
    "app = Flask(__name__)\n",
    "\n",
    "\n",
    "@app.route('/sign', methods=['GET'])\n",
    "def signin_form():\n",
    "    return render_template(\"sign.html\")\n",
    "\n",
    "@app.route('/sign', methods=['POST'])\n",
    "def signin():\n",
    "    # 需要从request对象读取表单内容：\n",
    "    username = request.form['username']\n",
    "    passwd = request.form['password']\n",
    "    if username=='test' and passwd=='123456':\n",
    "        return render_template(\"success.html\", username = username)\n",
    "    return render_template(\"bad.html\")\n",
    "\n",
    "\n",
    "if __name__ == \"__main__\":\n",
    "    app.run(host = '0.0.0.0',port = 5678)"
   ]
  },
  {
   "cell_type": "markdown",
   "id": "16069c31-89a1-4b65-8c64-95bbb1164cd4",
   "metadata": {},
   "source": [
    "# **Flask实现Restful API**\n",
    "\n",
    "\n",
    "REST，表示性状态转移（representation state transfer）。简单来说，就是用URI表示资源，用HTTP方法(GET, POST, PUT, DELETE)表征对这些资源的操作。\n",
    "\n",
    "\n",
    "- Resource: 资源，即数据，存在互联网上的可被访问的实体\n",
    "- Representation： 数据的某种表现形式，如HTML, JSON\n",
    "- State Transfer：状态变化，HTTP方法实现\n",
    "\n",
    "\n",
    "RESTful API 就是REST风格的API。现在终端平台多样，移动、平板、PC等许多媒介向服务端发送请求后，如果不适用RESTful API，需要为每个平台的数据请求定义相应的返回格式，以适应前端显示。但是RESTful API 要求前端以一种预定义的语法格式发送请求，那么服务端就只需要定义一个统一的响应接口，不必像之前那样解析各色各式的请求。\n",
    "\n",
    "RESTful 是典型的基于HTTP的协议。它有哪些设计原则和规范呢？\n",
    "\n",
    "- 资源。首先要明确资源就是网络上的一个实体，可以是文本、图片、音频、视频。资源总是以一定的格式来表现自己。文本用txt、html；图片用JPG、JPEG等等。而JSON是RESTful API中最常用的资源表现格式。\n",
    "\n",
    "- 统一接口。对于业务数据的CRUD，RESTful 用HTTP方法与之对应。\n",
    "\n",
    "- URI。统一资源标识符，它可以唯一标识一个资源。注意到，URL(统一资源定位符)是一种URI，因为它可以唯一标志资源。但URL != URI。应该说URL 是URI的子集。因为URL使用路径来唯一标识资源，这只是唯一标识资源的一种方式。\n",
    "\n",
    "- 无状态。 所谓无状态是指所有资源都可以用URI定位，而且这个定位与其他资源无关，不会因为其他资源的变动而变化。比如对某资源发送GET请求，如果访问一次和访问十次获得的数据一样，那么就说这个请求具有幂等性。\n",
    "\n",
    "- URL中只能有名词，不能出现动词。这是因为在REST要求对资源的操作由HTTP 方法给出，而方法是由HTTP 请求报文头部给出的，自然不需要在URL中暴露操作方式。\n",
    "\n",
    "\n",
    "## **RESTful API 接口规则**\n",
    "\n",
    "|描述|HTTP方法|\n",
    "|---|---|\n",
    "|创建|POST|\n",
    "|获取|GET|\n",
    "|更新|PUT|\n",
    "|删除|DELETE|\n",
    "\n",
    "\n",
    "> 一般来说，GET和POST方法已经可以实现绝大部分需求，后两个不常用"
   ]
  },
  {
   "cell_type": "markdown",
   "id": "a5eb0dcb-1d3f-4dea-871b-b1b65f0c8d4c",
   "metadata": {},
   "source": [
    "## **Flask实现GET接口**"
   ]
  },
  {
   "cell_type": "code",
   "execution_count": 7,
   "id": "3ac3f472-51d8-4263-bbf6-7ce69292b4e7",
   "metadata": {},
   "outputs": [],
   "source": [
    "# %load ./examples/app3.py\n",
    "from flask import Flask, render_template,url_for\n",
    "from flask import request\n",
    "\n",
    "\n",
    "app = Flask(__name__)\n",
    "\n",
    "\n",
    "@app.route('/test', methods=['GET'])\n",
    "def test1():\n",
    "    return {'result': '这是一个GET'}\n",
    "\n",
    "\n",
    "\n",
    "\n",
    "@app.route('/test/<apiname>', methods=['GET'])\n",
    "def test2(apiname):\n",
    "    \"\"\"\n",
    "    /test/<apiname>：后面的apiname表示任意名字\n",
    "    \"\"\"\n",
    "    return {'result': f'这是一个GET，您请求的是：{apiname}'}\n",
    "\n",
    "\n",
    "\n",
    "if __name__ == \"__main__\":\n",
    "    app.run(host = '0.0.0.0',port = 5678)"
   ]
  },
  {
   "cell_type": "markdown",
   "id": "7f45f558-9b72-4f70-add0-5931561372b2",
   "metadata": {},
   "source": [
    "### **运行并请求**\n",
    "\n",
    "- 请求使用：requests模块"
   ]
  },
  {
   "cell_type": "code",
   "execution_count": 8,
   "id": "9bed757f-ea53-40df-8da3-f350e2e8c179",
   "metadata": {},
   "outputs": [
    {
     "data": {
      "text/plain": [
       "{'result': '这是一个GET'}"
      ]
     },
     "execution_count": 8,
     "metadata": {},
     "output_type": "execute_result"
    }
   ],
   "source": [
    "import requests as rq\n",
    "\n",
    "url = 'http://localhost:5678/test'\n",
    "\n",
    "rq.get(url).json()"
   ]
  },
  {
   "cell_type": "code",
   "execution_count": 9,
   "id": "46c92d80-df4e-4597-ab50-fa7fcee5a15f",
   "metadata": {},
   "outputs": [
    {
     "data": {
      "text/plain": [
       "{'result': '这是一个GET，您请求的是：hahaha'}"
      ]
     },
     "execution_count": 9,
     "metadata": {},
     "output_type": "execute_result"
    }
   ],
   "source": [
    "import requests as rq\n",
    "\n",
    "url = 'http://localhost:5678/test/hahaha'\n",
    "\n",
    "rq.get(url).json()"
   ]
  },
  {
   "cell_type": "markdown",
   "id": "f5e5f1ea-0183-48fe-989c-b26d150b1938",
   "metadata": {},
   "source": [
    "## **Flask实现POST接口**"
   ]
  },
  {
   "cell_type": "code",
   "execution_count": 13,
   "id": "49086657-27d7-472e-b327-ab4c5a6d1123",
   "metadata": {},
   "outputs": [],
   "source": [
    "# %load ./examples/app4.py\n",
    "from flask import Flask, render_template,url_for\n",
    "from flask import request\n",
    "\n",
    "\n",
    "app = Flask(__name__)\n",
    "\n",
    "\n",
    "@app.route('/test', methods=['POST'])\n",
    "def test1():\n",
    "    return {'result': '这是一个POST'}\n",
    "\n",
    "\n",
    "\n",
    "\n",
    "@app.route('/test/<apiname>', methods=['POST'])\n",
    "def test2(apiname):\n",
    "    \"\"\"\n",
    "    /test/<apiname>：后面的apiname表示任意名字\n",
    "    \"\"\"\n",
    "\n",
    "    args = request.get_json()\n",
    "    \n",
    "   \n",
    "    return {'result': f'这是一个GET，您请求的是：{apiname}，您的参数是：{args}'}\n",
    "\n",
    "\n",
    "\n",
    "if __name__ == \"__main__\":\n",
    "    app.run(host = '0.0.0.0',port = 5678)"
   ]
  },
  {
   "cell_type": "markdown",
   "id": "38d09c24-27e7-4b5c-88d2-8dd1399737f8",
   "metadata": {},
   "source": [
    "### **运行并请求**\n",
    "\n",
    "- 请求使用：requests模块"
   ]
  },
  {
   "cell_type": "code",
   "execution_count": 10,
   "id": "4e9fd8c3-b878-415e-a976-0512cde75624",
   "metadata": {},
   "outputs": [
    {
     "data": {
      "text/plain": [
       "{'result': '这是一个POST'}"
      ]
     },
     "execution_count": 10,
     "metadata": {},
     "output_type": "execute_result"
    }
   ],
   "source": [
    "import requests as rq\n",
    "\n",
    "url = 'http://localhost:5678/test'\n",
    "\n",
    "rq.post(url).json()"
   ]
  },
  {
   "cell_type": "code",
   "execution_count": 12,
   "id": "f852fd98-e0d6-408a-b9b3-e8c813b2525a",
   "metadata": {},
   "outputs": [
    {
     "data": {
      "text/plain": [
       "{'result': \"这是一个GET，您请求的是：hahaha，您的参数是：{'name': 'test', 'passwd': '123456'}\"}"
      ]
     },
     "execution_count": 12,
     "metadata": {},
     "output_type": "execute_result"
    }
   ],
   "source": [
    "import requests as rq\n",
    "\n",
    "url = 'http://localhost:5678/test/hahaha'\n",
    "\n",
    "args = {\"name\": \"test\", \"passwd\": \"123456\"}\n",
    "\n",
    "rq.post(url, json = args).json()"
   ]
  },
  {
   "cell_type": "markdown",
   "id": "c0fb2758-23be-47b8-9f50-fdd79cff3f36",
   "metadata": {},
   "source": [
    "## **Flask蓝图：blueprint**\n",
    "\n",
    "当我们项目非常大，接口非常多的时候，直接书写接口会很难管理，这时就可以使用蓝图功能对此进行分类管理。"
   ]
  },
  {
   "cell_type": "code",
   "execution_count": 16,
   "id": "ad00328a-69bf-4d68-b90d-31eb432d21e7",
   "metadata": {},
   "outputs": [],
   "source": [
    "# %load ./examples/app5.py\n",
    "from flask import Flask,Blueprint\n",
    "from flask import request\n",
    "\n",
    "\n",
    "\n",
    "bp = Blueprint('test', __name__, url_prefix='/bp')\n",
    "\n",
    "@bp.route('/test', methods=['POST'])\n",
    "def test1():\n",
    "    return {'result': '这是一个POST'}\n",
    "\n",
    "\n",
    "\n",
    "@bp.route('/test/<apiname>', methods=['POST'])\n",
    "def test2(apiname):\n",
    "    \"\"\"\n",
    "    /test/<apiname>：后面的apiname表示任意名字\n",
    "    \"\"\"\n",
    "\n",
    "    args = request.get_json()\n",
    "    \n",
    "   \n",
    "    return {'result': f'这是一个GET，您请求的是：{apiname}，您的参数是：{args}'}\n",
    "\n",
    "\n",
    "\n",
    "app = Flask(__name__)\n",
    "app.register_blueprint(bp)\n",
    "\n",
    "\n",
    "\n",
    "if __name__ == \"__main__\":\n",
    "    app.run(host = '0.0.0.0',port = 5678)"
   ]
  },
  {
   "cell_type": "markdown",
   "id": "af374a30-d3c0-42a0-b3dd-51885ea8be62",
   "metadata": {},
   "source": [
    "### **运行并请求**\n",
    "\n",
    "- 请求使用：requests模块"
   ]
  },
  {
   "cell_type": "code",
   "execution_count": 14,
   "id": "7bd4e2ea-d18b-4df9-8312-9b80e7c472e9",
   "metadata": {},
   "outputs": [
    {
     "data": {
      "text/plain": [
       "{'result': '这是一个POST'}"
      ]
     },
     "execution_count": 14,
     "metadata": {},
     "output_type": "execute_result"
    }
   ],
   "source": [
    "import requests as rq\n",
    "\n",
    "url = 'http://localhost:5678/bp/test'\n",
    "\n",
    "rq.post(url).json()"
   ]
  },
  {
   "cell_type": "code",
   "execution_count": 15,
   "id": "39b55795-e34d-4d8f-afd2-70f259710126",
   "metadata": {},
   "outputs": [
    {
     "data": {
      "text/plain": [
       "{'result': \"这是一个GET，您请求的是：hahaha，您的参数是：{'name': 'test', 'passwd': '123456'}\"}"
      ]
     },
     "execution_count": 15,
     "metadata": {},
     "output_type": "execute_result"
    }
   ],
   "source": [
    "import requests as rq\n",
    "\n",
    "url = 'http://localhost:5678/bp/test/hahaha'\n",
    "\n",
    "args = {\"name\": \"test\", \"passwd\": \"123456\"}\n",
    "\n",
    "rq.post(url, json = args).json()"
   ]
  },
  {
   "cell_type": "code",
   "execution_count": null,
   "id": "d3b04a58-5462-4eb8-afcc-784d14583a20",
   "metadata": {},
   "outputs": [],
   "source": []
  },
  {
   "cell_type": "markdown",
   "id": "2a250f1a-ca50-4cf3-a22d-dc63a7ff0a99",
   "metadata": {},
   "source": [
    "## **更多Flask教程可以访问官网查看：https://flask.palletsprojects.com/en/2.1.x/**"
   ]
  },
  {
   "cell_type": "code",
   "execution_count": null,
   "id": "0c45e64d-d8da-4517-83e1-73871274601c",
   "metadata": {},
   "outputs": [],
   "source": []
  }
 ],
 "metadata": {
  "kernelspec": {
   "display_name": "Python 3 (ipykernel)",
   "language": "python",
   "name": "python3"
  },
  "language_info": {
   "codemirror_mode": {
    "name": "ipython",
    "version": 3
   },
   "file_extension": ".py",
   "mimetype": "text/x-python",
   "name": "python",
   "nbconvert_exporter": "python",
   "pygments_lexer": "ipython3",
   "version": "3.9.7"
  }
 },
 "nbformat": 4,
 "nbformat_minor": 5
}
