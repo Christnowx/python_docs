{
 "cells": [
  {
   "cell_type": "markdown",
   "id": "d5c14b88-f2db-4e29-87fd-b48fa15f00b3",
   "metadata": {},
   "source": [
    "# **花卷学Python**\n",
    "---\n",
    "\n",
    "> **我年纪轻轻就学会了Python编程**\n",
    "\n",
    "\n",
    "# **第一章、Python简介**\n",
    "\n",
    " - [x] **简介**\n",
    " - [x] **安装**\n",
    " - [x] **第一个Python程序**\n",
    " - [x] **Python解释器**\n",
    " - [x] **IDE推荐：IDLE、jupyter、pycharm、VSCode**"
   ]
  },
  {
   "cell_type": "markdown",
   "id": "b9086302-6171-4a11-848b-053c3069ce2b",
   "metadata": {},
   "source": [
    " ---"
   ]
  },
  {
   "cell_type": "markdown",
   "id": "68c152d7-7135-4209-9932-73e732bf99ac",
   "metadata": {},
   "source": [
    "# **一、简介**\n",
    "---"
   ]
  },
  {
   "cell_type": "markdown",
   "id": "21722f1b-0e80-47d2-902c-0468d9601310",
   "metadata": {},
   "source": [
    "**1989年圣诞节期间, “龟叔”Guido van Rossum为了打发无聊的圣诞节而编写的一个编程语言即为：Python。**\n",
    "\n",
    "**不同于C语言、java语言等，Python是一门解释性语言、动态语言、脚本语言、胶水语言，提供友好的交互式界面，可直接运行不需要人为的编译。**\n",
    "\n",
    "**目前全世界大概几百种编程语言，使用比较多的只有小几十种，Python就是其中使用最多的语言之一。**\n",
    "\n",
    "**业内有个编程语言排行榜：TIOBE，可以充分说明Python的使用率，让我们来看看它的几张图片**"
   ]
  },
  {
   "cell_type": "markdown",
   "id": "5457181a-8516-4678-baab-2c7738bf850b",
   "metadata": {},
   "source": [
    "## **1. 截止2022年4月-TIOBE-Python曲线图1**\n",
    "\n",
    "![截止2022年4月-TIOBE-Python曲线图1](./images/TIOBE往年Python.png)\n",
    "\n",
    "\n",
    "## **2. 截止2022年4月-TIOBE-Python曲线图2**\n",
    "\n",
    "![截止2022年4月-TIOBE-Python曲线图2](./images/TIOBE-2022-04月编程语言曲线.png)\n",
    "\n",
    "\n",
    "## **3. 截止2022年4月-TIOBE-Python曲线图3**\n",
    "\n",
    "![截止2022年4月-TIOBE-Python曲线图3](./images/TIOBE-2022-04月Python排行榜.png)"
   ]
  },
  {
   "cell_type": "markdown",
   "id": "bd2d5e12-8a05-4ebf-ad6d-0d990e0b4ce2",
   "metadata": {},
   "source": [
    "---"
   ]
  },
  {
   "cell_type": "markdown",
   "id": "f8e38ddc-099f-4c55-96f8-bffe3dddda8d",
   "metadata": {},
   "source": [
    "# **二、Python可以干什么**\n",
    "---"
   ]
  },
  {
   "cell_type": "markdown",
   "id": "9c56bb3c-485e-4f9e-9337-d50eab8be0d7",
   "metadata": {},
   "source": [
    "**Python可以干几乎你知道的所有事情，有句话这么说的：**\n",
    "\n",
    "> **只有你想不到，没有Python做不到。**\n",
    "\n",
    "**我们来列举一些：**\n",
    "\n",
    "  - **运维**\n",
    "  - **自动化测试**\n",
    "  - **科学计算：类似于matlab**\n",
    "  - **数据分析**\n",
    "  - **机器学习、深度学习、强化学习**\n",
    "  - **人工智能：视觉，语音，自然语言处理**\n",
    "  - **推荐系统**\n",
    "  - **问答系统**\n",
    "  - **知识图谱**\n",
    "  - **web开发**\n",
    "  - **Restful API**\n",
    "  - **图形界面**\n",
    "  - **网络爬虫**\n",
    "  - **开发游戏**\n",
    "  - **处理日常任务：文本、图片、语音、excel、word、ppt**\n",
    "  - **等等数不胜数**\n",
    "  \n",
    "  \n",
    "**许多大型网站就是用Python开发的，例如国外的`YouTube`、`Instagram`，国内的`豆瓣`等。很多大公司，包括`Google`、`Yahoo`等都在使用Python。**\n",
    "\n",
    "**Python是一门优雅、简单的语言，总体简单易学，并且像大家提供了很多开包即用的库以及很多第三方库，这会是你的代码非常简单。**\n",
    "\n",
    "**如果你会Python，你可以尽情的嘲笑别人动辄就几千几万行代码，而Python可能只需要几十行甚至几行就解决了。**"
   ]
  },
  {
   "cell_type": "markdown",
   "id": "10bd01b5-60f5-4d70-8471-86d9c306d28b",
   "metadata": {},
   "source": [
    "---"
   ]
  },
  {
   "cell_type": "markdown",
   "id": "94e0dc71-fc4e-4be5-bac5-63ca3a3af213",
   "metadata": {},
   "source": [
    "# **三、安装Python**\n",
    "---"
   ]
  },
  {
   "cell_type": "markdown",
   "id": "d5dc2b21-86bb-492e-9624-dae2f666f0e1",
   "metadata": {},
   "source": [
    "> **本教程全面基于Python3.10，此版本目前为最新版本相较于其他版本优势很多，如字典的运算，zip的运算，模式匹配等等**\n",
    "\n",
    "## **1. 安装方式**\n",
    "\n",
    "1. **Python官网**\n",
    "\n",
    "2. **Anaconda（清华镜像源下载）**\n",
    "\n",
    "3. **虚拟环境**"
   ]
  },
  {
   "cell_type": "markdown",
   "id": "649b921f-7481-4865-bbed-e6b84d6f318c",
   "metadata": {},
   "source": [
    "## **第一种：Python官网**\n",
    "\n",
    "> **不推荐，下载速度慢到令人抓狂**\n",
    "\n",
    "**1. 浏览器或者百度进入：https://www.python.org/ ==> 选择 downloads ==> all releases**\n",
    "\n",
    "![python官网安装1](./images/python官网安装1.png)\n",
    "\n",
    "**2. 选择合适版本：推荐Python3.10 ==> 点击下载**\n",
    "\n",
    "![python官网安装2](./images/python官网安装2.png)\n",
    "\n",
    "**3. 下载，双击，一路默认安装到底**\n",
    "\n",
    "**4. 配置系统路径**\n",
    "\n",
    "- **桌面右击 此电脑**\n",
    "- **选择属性**\n",
    "- **选择高级系统设置**\n",
    "- **选择环境变量**\n",
    "- **选择系统变量中的 Path**\n",
    "- **新增上述安装路径目录并保存**\n",
    "- **打开cmd输入：python，若出现交互界面则安装配置成功**"
   ]
  },
  {
   "cell_type": "markdown",
   "id": "a8b82008-df16-4916-a69e-dcdf518b0867",
   "metadata": {},
   "source": [
    "## **第二种：Anaconda**\n",
    "\n",
    "**主要针对于Python的科学计算，机器学习等高级封装工具，主要你安装了Anaconda，你就等同于安装了：Python以及很多第三方包，非常便利。**\n",
    "\n",
    "> **Anaconda官网下载（不推荐，下载速度同样令人抓狂）**\n",
    "> **清华镜像源（推荐，国内服务器下载速度快到令人抓狂）**\n",
    "\n",
    "\n",
    "**1. 浏览器或者百度进入：https://mirrors.tuna.tsinghua.edu.cn/**\n",
    "\n",
    "   - ==> **选择 anaconda** \n",
    "   - ==> **选择 archive**\n",
    "   - ==> **下拉至下方最新版本点击下载**\n",
    "\n",
    "![python清华安装1](./images/python清华安装1.png)\n",
    "\n",
    "**2. 双击安装，一路默认到底**\n",
    "\n",
    "![python清华安装2](./images/python清华安装2.png)\n",
    "\n",
    "**3. 配置系统路径**\n",
    "\n",
    "- **桌面右击 此电脑**\n",
    "- **选择属性**\n",
    "- **选择高级系统设置**\n",
    "- **选择环境变量**\n",
    "- **选择系统变量中的 Path**\n",
    "- **新增上述安装路径目录并保存：这里需要注意的需要配置三个路径，例如我的是：（强调一下，一个也不能少）**\n",
    "   - **D:\\anaconda**\n",
    "   - **D:\\anaconda\\Scripts**\n",
    "   - **D:\\anaconda\\Library\\bin**\n",
    "\n",
    "- **打开cmd输入：python 或者 pip 或者 conda，若出现交互界面则安装配置成功**"
   ]
  },
  {
   "cell_type": "markdown",
   "id": "358fdaae-3bcf-49db-b81c-b45d10e8fdb3",
   "metadata": {},
   "source": [
    "## **第三种：虚拟环境**\n",
    "\n",
    "**Anaconda另一个优势就是提供了一个非常强大的管理工具：conda，可以通过这个工具直接安装包或者Python虚拟环境**\n",
    "\n",
    "**conda安装Python虚拟环境命令：conda create -n py310 python=3.10**\n",
    "\n",
    "**我们还可以通过docker安装一个Python环境**\n",
    "\n",
    "**拉取：docker pull python**\n",
    "\n",
    "**安装运行：docker run -i -t python:latest /bin/bash**"
   ]
  },
  {
   "cell_type": "markdown",
   "id": "d09516c5-b167-49ae-8e4d-3f895f424380",
   "metadata": {},
   "source": [
    "--- "
   ]
  },
  {
   "cell_type": "markdown",
   "id": "98d77180-786f-4484-8351-e4cd549a6062",
   "metadata": {},
   "source": [
    "# **四、第一个Python程序**\n",
    "---"
   ]
  },
  {
   "cell_type": "markdown",
   "id": "72d719f8-d394-4af7-9c69-5fe1a11ff612",
   "metadata": {},
   "source": [
    "**按照上述过程安装配置完Python之后，我们可以开始一个Python程序。**\n",
    "\n",
    "**打开cmd，输入python，在交互式界面就可以编写Python程序，并回车直接运行得到结果**\n",
    "\n",
    "![第一个python程序](./images/第一个python程序.png)\n",
    "\n",
    "**Python代码注释：通过#+注释内容实现**\n",
    "\n",
    "**例如：**\n",
    "\n",
    "```python\n",
    "# 这是一个python程序\n",
    "print(\"hello world\")\n",
    "```\n",
    "\n",
    "**Python代码通过缩进识别代码块，区别于一些语言使用大括号**\n",
    "\n",
    "**例如：**\n",
    "\n",
    "```python\n",
    "for i in range(5)\n",
    "    print(\"hello world\")\n",
    "```"
   ]
  },
  {
   "cell_type": "markdown",
   "id": "b04d02f0-08a1-48ac-a9c3-188d38c18d58",
   "metadata": {},
   "source": [
    "---"
   ]
  },
  {
   "cell_type": "markdown",
   "id": "96ff3285-7edd-4b75-a641-3aec22655a4d",
   "metadata": {},
   "source": [
    "# **五、Python解释器**\n",
    "---"
   ]
  },
  {
   "cell_type": "markdown",
   "id": "2bdc66ad-e140-4040-8609-114c27ffa679",
   "metadata": {},
   "source": [
    "**当我们安装好Python后我们就获得了一个Python的解释器：CPython，这个解释器是用C语言开发的，所以叫CPython。在命令行下运行python就是启动CPython解释器。**\n",
    "\n",
    "**CPython是使用最广的Python解释器。**\n",
    "\n",
    "**其他的Python解释器：**\n",
    "\n",
    "- **IPython：IPython是基于CPython之上的一个交互式解释器，也就是说，IPython只是在交互方式上有所增强，但是执行Python代码的功能和CPython是完全一样的。**\n",
    "\n",
    "- **PyPy：基于JIT技术的解释器**\n",
    "\n",
    "- **Jython：Jython是运行在Java平台上的Python解释器，可以直接把Python代码编译成Java字节码执行。**\n",
    "\n",
    "- **IronPython：运行在微软.Net平台上的Python解释器，可以直接把Python代码编译成.Net的字节码。**"
   ]
  },
  {
   "cell_type": "markdown",
   "id": "c89e44c7-8105-4528-8cbd-a7ac483412f8",
   "metadata": {},
   "source": [
    "--- "
   ]
  },
  {
   "cell_type": "markdown",
   "id": "064c31fd-af30-4e46-80a7-55743e88bff8",
   "metadata": {},
   "source": [
    "# **六、IDE推荐**\n",
    "---"
   ]
  },
  {
   "cell_type": "markdown",
   "id": "1f1afd70-5951-4e60-8f12-ddb61c11efda",
   "metadata": {},
   "source": [
    "> **工欲善其事，必先利其器。**\n",
    "\n",
    "**当我们安装好Python后我们就获得了一个Python的解释器：CPython，这个解释器是用C语言开发的，所以叫CPython。在命令行下运行python就是启动CPython解释器。**\n",
    "\n",
    "**CPython是使用最广的Python解释器。**\n",
    "\n",
    "**其他的Python解释器：**\n",
    "\n",
    "- **IPython：IPython是基于CPython之上的一个交互式解释器，也就是说，IPython只是在交互方式上有所增强，但是执行Python代码的功能和CPython是完全一样的。**\n",
    "\n",
    "- **PyPy：基于JIT技术的解释器**\n",
    "\n",
    "- **Jython：Jython是运行在Java平台上的Python解释器，可以直接把Python代码编译成Java字节码执行。**\n",
    "\n",
    "- **IronPython：运行在微软.Net平台上的Python解释器，可以直接把Python代码编译成.Net的字节码。**\n"
   ]
  },
  {
   "cell_type": "markdown",
   "id": "c2c5e6ff-09ee-4650-8d20-83efa949090b",
   "metadata": {},
   "source": [
    "## **1. IDE推荐**\n",
    "\n",
    "### **Python IDE 主要有以下几种：**\n",
    "\n",
    "### **1.1 IDLE**\n",
    "\n",
    "**安装Python后自带的IDE，简单便利**\n",
    "\n",
    "![idle](./images/idle.png)\n",
    "\n",
    "### **1.2 jupyter notebook**\n",
    "\n",
    "**Jupyter Notebook（此前被称为 IPython notebook）是一个交互式笔记本，支持运行 40 多种编程语言。**\n",
    "\n",
    "**Jupyter Notebook 的本质是一个 Web 应用程序，便于创建和共享程序文档，支持实时代码，数学方程，可视化和 markdown。 用途包括：数据清理和转换，数值模拟，统计建模，机器学习等等。**\n",
    "\n",
    "> **需要安装（Anaconda自带此工具），通过pip安装即可，打开cmd输入：pip install jupyter -i https://pypi.tuna.tsinghua.edu.cn/simple**\n",
    "\n",
    "**使用非常简单，安装完毕后，进入某一个目录，此目录下打开cmd输入：jupyter notebook 即可**\n",
    "\n",
    "![jupyter notebook1](./images/jupyter-notebook1.png)\n",
    "\n",
    "![jupyter notebook2](./images/jupyter-notebook2.png)\n",
    "\n",
    "**优势：变量复用，直接运行，可视化等**\n",
    "\n",
    "**缺点：输入没有提示**\n",
    "\n",
    "### **1.3 jupyter lab**\n",
    "\n",
    "**类似上述jupyter notebook，安装完jupyter后也就等于安装了jupyter lab**\n",
    "\n",
    "**使用同样非常简单，安装完毕后，进入某一个目录，此目录下打开cmd输入：jupyter lab 即可**\n",
    "\n",
    "![jupyter lab1](./images/jupyter-lab1.png)\n",
    "\n",
    "![jupyter lab2](./images/jupyter-lab2.png)\n",
    "\n",
    "**优势：变量复用，直接运行，可视化等**\n",
    "\n",
    "**缺点：输入没有提示**\n",
    "\n",
    "### **1.4 vscode（强烈推荐）**\n",
    "\n",
    "**百度搜索：vscode，进入官网，下载安装即可**\n",
    "\n",
    "**使用还是非常简单进入某一个目录右击此处打开code即可，或者拖拽一个文件夹到vscode桌面图片即可**\n",
    "\n",
    "![vscode](./images/vscode.png)\n",
    "\n",
    "**优势：编程提示，调试，美观，强大几乎可以打开你知道的所有文件类型**\n",
    "\n",
    "**缺点：没有缺点**\n",
    "\n",
    "### **1.5 pycharm**\n",
    "\n",
    "**省略说明**\n",
    "\n",
    "## **最终选择：<font color=\"#dd0000\">jupyter lab + vscode 组合拳</font>**"
   ]
  },
  {
   "cell_type": "code",
   "execution_count": 10,
   "id": "ca73b195-5988-46b3-9e27-2136175172ee",
   "metadata": {},
   "outputs": [
    {
     "name": "stdout",
     "output_type": "stream",
     "text": [
      "hello world\n"
     ]
    }
   ],
   "source": [
    "### 通过 shift+enter 运行单元代码\n",
    "\n",
    "print(\"hello world\")"
   ]
  },
  {
   "cell_type": "code",
   "execution_count": 11,
   "id": "0d768aa5-a965-4cef-ad37-35e05fe0a1db",
   "metadata": {
    "tags": []
   },
   "outputs": [
    {
     "name": "stdout",
     "output_type": "stream",
     "text": [
      "hello world\n",
      "hello world\n",
      "hello world\n"
     ]
    },
    {
     "data": {
      "text/plain": [
       "[None, None, None]"
      ]
     },
     "execution_count": 11,
     "metadata": {},
     "output_type": "execute_result"
    }
   ],
   "source": [
    "[print(\"hello world\") for x in range(3)]"
   ]
  },
  {
   "cell_type": "code",
   "execution_count": null,
   "id": "946e927a-17b4-4626-bac2-a86ce8e185e7",
   "metadata": {},
   "outputs": [],
   "source": [
    "### 绘制爱心\n",
    "print('\\n'.join([''.join([('Love'[(x-y) % len('Love')] if ((x*0.05)**2+(y*0.1)**2-1)**3-(x*0.05)**2*(y*0.1)**3 <= 0 else ' ') for x in range(-30, 30)]) for y in range(30, -30, -1)]))"
   ]
  },
  {
   "cell_type": "code",
   "execution_count": 7,
   "id": "bcdb0af2-2ee5-4c48-aec0-6c6e00ff0129",
   "metadata": {},
   "outputs": [],
   "source": [
    "%load ./examples/1.py"
   ]
  },
  {
   "cell_type": "code",
   "execution_count": 8,
   "id": "eab651bb-1b27-41cb-9231-b192dc46bfbd",
   "metadata": {},
   "outputs": [
    {
     "data": {
      "application/json": {
       "cell": {
        "!": "OSMagics",
        "HTML": "Other",
        "SVG": "Other",
        "bash": "Other",
        "capture": "ExecutionMagics",
        "cmd": "Other",
        "debug": "ExecutionMagics",
        "file": "Other",
        "html": "DisplayMagics",
        "javascript": "DisplayMagics",
        "js": "DisplayMagics",
        "latex": "DisplayMagics",
        "markdown": "DisplayMagics",
        "perl": "Other",
        "prun": "ExecutionMagics",
        "pypy": "Other",
        "python": "Other",
        "python2": "Other",
        "python3": "Other",
        "ruby": "Other",
        "script": "ScriptMagics",
        "sh": "Other",
        "svg": "DisplayMagics",
        "sx": "OSMagics",
        "system": "OSMagics",
        "time": "ExecutionMagics",
        "timeit": "ExecutionMagics",
        "writefile": "OSMagics"
       },
       "line": {
        "alias": "OSMagics",
        "alias_magic": "BasicMagics",
        "autoawait": "AsyncMagics",
        "autocall": "AutoMagics",
        "automagic": "AutoMagics",
        "autosave": "KernelMagics",
        "bookmark": "OSMagics",
        "cd": "OSMagics",
        "clear": "KernelMagics",
        "cls": "KernelMagics",
        "colors": "BasicMagics",
        "conda": "PackagingMagics",
        "config": "ConfigMagics",
        "connect_info": "KernelMagics",
        "copy": "Other",
        "ddir": "Other",
        "debug": "ExecutionMagics",
        "dhist": "OSMagics",
        "dirs": "OSMagics",
        "doctest_mode": "BasicMagics",
        "echo": "Other",
        "ed": "Other",
        "edit": "KernelMagics",
        "env": "OSMagics",
        "gui": "BasicMagics",
        "hist": "Other",
        "history": "HistoryMagics",
        "killbgscripts": "ScriptMagics",
        "ldir": "Other",
        "less": "KernelMagics",
        "load": "CodeMagics",
        "load_ext": "ExtensionMagics",
        "loadpy": "CodeMagics",
        "logoff": "LoggingMagics",
        "logon": "LoggingMagics",
        "logstart": "LoggingMagics",
        "logstate": "LoggingMagics",
        "logstop": "LoggingMagics",
        "ls": "Other",
        "lsmagic": "BasicMagics",
        "macro": "ExecutionMagics",
        "magic": "BasicMagics",
        "matplotlib": "PylabMagics",
        "mkdir": "Other",
        "more": "KernelMagics",
        "notebook": "BasicMagics",
        "page": "BasicMagics",
        "pastebin": "CodeMagics",
        "pdb": "ExecutionMagics",
        "pdef": "NamespaceMagics",
        "pdoc": "NamespaceMagics",
        "pfile": "NamespaceMagics",
        "pinfo": "NamespaceMagics",
        "pinfo2": "NamespaceMagics",
        "pip": "PackagingMagics",
        "popd": "OSMagics",
        "pprint": "BasicMagics",
        "precision": "BasicMagics",
        "prun": "ExecutionMagics",
        "psearch": "NamespaceMagics",
        "psource": "NamespaceMagics",
        "pushd": "OSMagics",
        "pwd": "OSMagics",
        "pycat": "OSMagics",
        "pylab": "PylabMagics",
        "qtconsole": "KernelMagics",
        "quickref": "BasicMagics",
        "recall": "HistoryMagics",
        "rehashx": "OSMagics",
        "reload_ext": "ExtensionMagics",
        "ren": "Other",
        "rep": "Other",
        "rerun": "HistoryMagics",
        "reset": "NamespaceMagics",
        "reset_selective": "NamespaceMagics",
        "rmdir": "Other",
        "run": "ExecutionMagics",
        "save": "CodeMagics",
        "sc": "OSMagics",
        "set_env": "OSMagics",
        "store": "StoreMagics",
        "sx": "OSMagics",
        "system": "OSMagics",
        "tb": "ExecutionMagics",
        "time": "ExecutionMagics",
        "timeit": "ExecutionMagics",
        "unalias": "OSMagics",
        "unload_ext": "ExtensionMagics",
        "who": "NamespaceMagics",
        "who_ls": "NamespaceMagics",
        "whos": "NamespaceMagics",
        "xdel": "NamespaceMagics",
        "xmode": "BasicMagics"
       }
      },
      "text/plain": [
       "Available line magics:\n",
       "%alias  %alias_magic  %autoawait  %autocall  %automagic  %autosave  %bookmark  %cd  %clear  %cls  %colors  %conda  %config  %connect_info  %copy  %ddir  %debug  %dhist  %dirs  %doctest_mode  %echo  %ed  %edit  %env  %gui  %hist  %history  %killbgscripts  %ldir  %less  %load  %load_ext  %loadpy  %logoff  %logon  %logstart  %logstate  %logstop  %ls  %lsmagic  %macro  %magic  %matplotlib  %mkdir  %more  %notebook  %page  %pastebin  %pdb  %pdef  %pdoc  %pfile  %pinfo  %pinfo2  %pip  %popd  %pprint  %precision  %prun  %psearch  %psource  %pushd  %pwd  %pycat  %pylab  %qtconsole  %quickref  %recall  %rehashx  %reload_ext  %ren  %rep  %rerun  %reset  %reset_selective  %rmdir  %run  %save  %sc  %set_env  %store  %sx  %system  %tb  %time  %timeit  %unalias  %unload_ext  %who  %who_ls  %whos  %xdel  %xmode\n",
       "\n",
       "Available cell magics:\n",
       "%%!  %%HTML  %%SVG  %%bash  %%capture  %%cmd  %%debug  %%file  %%html  %%javascript  %%js  %%latex  %%markdown  %%perl  %%prun  %%pypy  %%python  %%python2  %%python3  %%ruby  %%script  %%sh  %%svg  %%sx  %%system  %%time  %%timeit  %%writefile\n",
       "\n",
       "Automagic is ON, % prefix IS NOT needed for line magics."
      ]
     },
     "execution_count": 8,
     "metadata": {},
     "output_type": "execute_result"
    }
   ],
   "source": [
    "%lsmagic"
   ]
  },
  {
   "cell_type": "code",
   "execution_count": null,
   "id": "ded14d3c-a844-4237-aeca-68ca402951a1",
   "metadata": {},
   "outputs": [],
   "source": []
  },
  {
   "cell_type": "code",
   "execution_count": null,
   "id": "fed61f3a-2dd1-4e40-82ee-8b61dceb1141",
   "metadata": {},
   "outputs": [],
   "source": []
  }
 ],
 "metadata": {
  "kernelspec": {
   "display_name": "Python 3 (ipykernel)",
   "language": "python",
   "name": "python3"
  },
  "language_info": {
   "codemirror_mode": {
    "name": "ipython",
    "version": 3
   },
   "file_extension": ".py",
   "mimetype": "text/x-python",
   "name": "python",
   "nbconvert_exporter": "python",
   "pygments_lexer": "ipython3",
   "version": "3.9.7"
  }
 },
 "nbformat": 4,
 "nbformat_minor": 5
}
