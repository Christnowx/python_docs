{
 "cells": [
  {
   "cell_type": "markdown",
   "id": "9b52c995-cbdb-47e1-a04f-08809b2c9c86",
   "metadata": {},
   "source": [
    "# **花卷学Python**\n",
    "---\n",
    "\n",
    "> **我年纪轻轻就学会了Python编程**\n",
    "\n",
    "\n",
    "# **第三章、Python编程：运算符**\n",
    "\n",
    " - [x] **算数运算**\n",
    " - [x] **比较运算**\n",
    " - [x] **赋值运算**\n",
    " - [x] **逻辑运算**\n",
    " - [x] **位运算**\n",
    " - [x] **成员运算**\n",
    " - [x] **身份运算**\n",
    " - [x] **<font color=\"#dd0000\">海象运算</font>**\n",
    " - [x] **运算符优先级**\n",
    " \n",
    " \n",
    "> **新版Python中新增一个：海象运算符，这个放置后文循环处讲解**"
   ]
  },
  {
   "cell_type": "markdown",
   "id": "cde41a26-b2d9-49a5-b76a-c8e35742caaa",
   "metadata": {},
   "source": [
    "---"
   ]
  },
  {
   "cell_type": "markdown",
   "id": "ef135dd2-95fc-43bc-b271-7ac6286a76fb",
   "metadata": {},
   "source": [
    "# **一、算数运算**\n",
    "---\n",
    "\n",
    "Python算数运算符主要包含：加、减、乘、除、取模、幂运算、整除\n",
    "\n",
    "\n",
    "|**运算符**|**描述**|**实例**|\n",
    "|----|----|----|\n",
    "|**+**|**加 - 两个对象相加**|**10 + 10 = 20**|\n",
    "|**-**|**减 - 得到负数或是一个数减去另一个数**|**10 - 9 = 1**|\n",
    "|**\\***|**乘 - 两个数相乘或是返回一个被重复若干次的字符串**|**10 * 10 = 100**|\n",
    "|**/**|**除 - x除以y**|**20 / 10 = 2**|\n",
    "|**%**|**取模 - 返回除法的余数**|**20 % 10 = 0**|\n",
    "|**\\*\\***|**\\*\\*幂 - 返回x的y次幂**|**10 ** 2 = 100**|\n",
    "|**//**|**取整除 - 返回商的整数部分（向下取整）**|**9//2=4，-9//2=-5**|"
   ]
  },
  {
   "cell_type": "markdown",
   "id": "4b80a3a6-8926-44ff-a14b-379d67150bc2",
   "metadata": {},
   "source": [
    "## **Example**"
   ]
  },
  {
   "cell_type": "code",
   "execution_count": 5,
   "id": "2edef5a9-4ce1-4431-8697-0bd546c6338b",
   "metadata": {},
   "outputs": [],
   "source": [
    "a = 10\n",
    "b = 2\n",
    "c = 0"
   ]
  },
  {
   "cell_type": "code",
   "execution_count": 2,
   "id": "a3b90eb7-418f-45fb-89aa-57acfd4347b6",
   "metadata": {},
   "outputs": [
    {
     "data": {
      "text/plain": [
       "12"
      ]
     },
     "execution_count": 2,
     "metadata": {},
     "output_type": "execute_result"
    }
   ],
   "source": [
    "a + b"
   ]
  },
  {
   "cell_type": "code",
   "execution_count": 3,
   "id": "424f06bf-7c40-4d46-b43d-59389c5aae67",
   "metadata": {},
   "outputs": [
    {
     "data": {
      "text/plain": [
       "8"
      ]
     },
     "execution_count": 3,
     "metadata": {},
     "output_type": "execute_result"
    }
   ],
   "source": [
    "a - b"
   ]
  },
  {
   "cell_type": "code",
   "execution_count": 4,
   "id": "9b6abf1a-c3df-4ce6-898e-cf7f5da00012",
   "metadata": {},
   "outputs": [
    {
     "data": {
      "text/plain": [
       "20"
      ]
     },
     "execution_count": 4,
     "metadata": {},
     "output_type": "execute_result"
    }
   ],
   "source": [
    "a * b"
   ]
  },
  {
   "cell_type": "code",
   "execution_count": 6,
   "id": "909f6f9a-bfba-4316-8242-33dad31f52f5",
   "metadata": {},
   "outputs": [
    {
     "data": {
      "text/plain": [
       "5.0"
      ]
     },
     "execution_count": 6,
     "metadata": {},
     "output_type": "execute_result"
    }
   ],
   "source": [
    "a / b"
   ]
  },
  {
   "cell_type": "markdown",
   "id": "f532db15-1ccc-46d1-8804-09a78bc2b99a",
   "metadata": {},
   "source": [
    "**需要注意：除法的分母不能为0**"
   ]
  },
  {
   "cell_type": "code",
   "execution_count": 16,
   "id": "0f2f2573-5a0f-4fc0-bf45-0c24bbf9e634",
   "metadata": {},
   "outputs": [
    {
     "ename": "ZeroDivisionError",
     "evalue": "division by zero",
     "output_type": "error",
     "traceback": [
      "\u001b[1;31m---------------------------------------------------------------------------\u001b[0m",
      "\u001b[1;31mZeroDivisionError\u001b[0m                         Traceback (most recent call last)",
      "\u001b[1;32m~\\AppData\\Local\\Temp/ipykernel_23960/4378547.py\u001b[0m in \u001b[0;36m<module>\u001b[1;34m\u001b[0m\n\u001b[0;32m      1\u001b[0m \u001b[1;31m### 分母不能为0\u001b[0m\u001b[1;33m\u001b[0m\u001b[1;33m\u001b[0m\u001b[0m\n\u001b[0;32m      2\u001b[0m \u001b[1;33m\u001b[0m\u001b[0m\n\u001b[1;32m----> 3\u001b[1;33m \u001b[0ma\u001b[0m \u001b[1;33m/\u001b[0m \u001b[0mc\u001b[0m\u001b[1;33m\u001b[0m\u001b[1;33m\u001b[0m\u001b[0m\n\u001b[0m",
      "\u001b[1;31mZeroDivisionError\u001b[0m: division by zero"
     ]
    }
   ],
   "source": [
    "### 分母不能为0\n",
    "\n",
    "a / c"
   ]
  },
  {
   "cell_type": "code",
   "execution_count": 7,
   "id": "c66c1261-bc6e-4c8f-a300-d06cd5250b2b",
   "metadata": {},
   "outputs": [
    {
     "data": {
      "text/plain": [
       "5"
      ]
     },
     "execution_count": 7,
     "metadata": {},
     "output_type": "execute_result"
    }
   ],
   "source": [
    "a // b"
   ]
  },
  {
   "cell_type": "markdown",
   "id": "cbc3b9d0-63e7-4241-9b1b-8afe1c5162d6",
   "metadata": {},
   "source": [
    "**需要注意：整除的时候是不进行四舍五入的**"
   ]
  },
  {
   "cell_type": "code",
   "execution_count": 18,
   "id": "84693daa-60ac-4fa5-88c2-90bc81b3841f",
   "metadata": {},
   "outputs": [
    {
     "data": {
      "text/plain": [
       "1.875"
      ]
     },
     "execution_count": 18,
     "metadata": {},
     "output_type": "execute_result"
    }
   ],
   "source": [
    "15 / 8"
   ]
  },
  {
   "cell_type": "code",
   "execution_count": 19,
   "id": "6dcc6915-a4d6-4f41-8d50-aac314bd0165",
   "metadata": {},
   "outputs": [
    {
     "data": {
      "text/plain": [
       "1"
      ]
     },
     "execution_count": 19,
     "metadata": {},
     "output_type": "execute_result"
    }
   ],
   "source": [
    "15 // 8"
   ]
  },
  {
   "cell_type": "code",
   "execution_count": 8,
   "id": "c028ace4-79ab-4961-829d-ac9878c38d71",
   "metadata": {},
   "outputs": [
    {
     "data": {
      "text/plain": [
       "0"
      ]
     },
     "execution_count": 8,
     "metadata": {},
     "output_type": "execute_result"
    }
   ],
   "source": [
    "a % b"
   ]
  },
  {
   "cell_type": "code",
   "execution_count": 9,
   "id": "3c9b7069-e057-4f0a-bf60-d12346359d5e",
   "metadata": {},
   "outputs": [
    {
     "data": {
      "text/plain": [
       "1"
      ]
     },
     "execution_count": 9,
     "metadata": {},
     "output_type": "execute_result"
    }
   ],
   "source": [
    "10 % 3"
   ]
  },
  {
   "cell_type": "code",
   "execution_count": 10,
   "id": "416693d2-7da3-4164-ba52-716fa0473353",
   "metadata": {},
   "outputs": [
    {
     "data": {
      "text/plain": [
       "100"
      ]
     },
     "execution_count": 10,
     "metadata": {},
     "output_type": "execute_result"
    }
   ],
   "source": [
    "a ** b"
   ]
  },
  {
   "cell_type": "markdown",
   "id": "e0076bf7-2c6b-4982-bf3b-648f04d23bf8",
   "metadata": {},
   "source": [
    "### **字符串、列表等用乘法（\\*）表示复制几次**"
   ]
  },
  {
   "cell_type": "code",
   "execution_count": 112,
   "id": "305a7a3b-23ef-4799-a418-a4b8a2143c99",
   "metadata": {},
   "outputs": [
    {
     "data": {
      "text/plain": [
       "'abcabc'"
      ]
     },
     "execution_count": 112,
     "metadata": {},
     "output_type": "execute_result"
    }
   ],
   "source": [
    "a = 'abc'\n",
    "a * 2"
   ]
  },
  {
   "cell_type": "code",
   "execution_count": 113,
   "id": "b0e901ce-5488-4530-95cb-5348e66da574",
   "metadata": {},
   "outputs": [
    {
     "data": {
      "text/plain": [
       "[1, 2, 3, 1, 2, 3]"
      ]
     },
     "execution_count": 113,
     "metadata": {},
     "output_type": "execute_result"
    }
   ],
   "source": [
    "a = [1,2,3]\n",
    "a * 2"
   ]
  },
  {
   "cell_type": "code",
   "execution_count": 114,
   "id": "1f4e7eed-78cd-4845-8717-7410d9d898a7",
   "metadata": {},
   "outputs": [
    {
     "data": {
      "text/plain": [
       "(1, 2, 3, 1, 2, 3)"
      ]
     },
     "execution_count": 114,
     "metadata": {},
     "output_type": "execute_result"
    }
   ],
   "source": [
    "a = (1,2,3)\n",
    "a * 2"
   ]
  },
  {
   "cell_type": "code",
   "execution_count": 115,
   "id": "12be74a0-6687-4b01-a653-bf5425930f77",
   "metadata": {},
   "outputs": [
    {
     "ename": "TypeError",
     "evalue": "unsupported operand type(s) for *: 'set' and 'int'",
     "output_type": "error",
     "traceback": [
      "\u001b[1;31m---------------------------------------------------------------------------\u001b[0m",
      "\u001b[1;31mTypeError\u001b[0m                                 Traceback (most recent call last)",
      "\u001b[1;32m~\\AppData\\Local\\Temp/ipykernel_23960/367381667.py\u001b[0m in \u001b[0;36m<module>\u001b[1;34m\u001b[0m\n\u001b[0;32m      1\u001b[0m \u001b[0ma\u001b[0m \u001b[1;33m=\u001b[0m \u001b[1;33m{\u001b[0m\u001b[1;36m1\u001b[0m\u001b[1;33m,\u001b[0m\u001b[1;36m2\u001b[0m\u001b[1;33m,\u001b[0m\u001b[1;36m3\u001b[0m\u001b[1;33m}\u001b[0m\u001b[1;33m\u001b[0m\u001b[1;33m\u001b[0m\u001b[0m\n\u001b[1;32m----> 2\u001b[1;33m \u001b[0ma\u001b[0m \u001b[1;33m*\u001b[0m \u001b[1;36m2\u001b[0m\u001b[1;33m\u001b[0m\u001b[1;33m\u001b[0m\u001b[0m\n\u001b[0m",
      "\u001b[1;31mTypeError\u001b[0m: unsupported operand type(s) for *: 'set' and 'int'"
     ]
    }
   ],
   "source": [
    "a = {1,2,3}\n",
    "a * 2"
   ]
  },
  {
   "cell_type": "code",
   "execution_count": 116,
   "id": "d5996e51-655b-443c-af94-b2d00a9d9a27",
   "metadata": {},
   "outputs": [
    {
     "ename": "TypeError",
     "evalue": "unsupported operand type(s) for *: 'dict' and 'int'",
     "output_type": "error",
     "traceback": [
      "\u001b[1;31m---------------------------------------------------------------------------\u001b[0m",
      "\u001b[1;31mTypeError\u001b[0m                                 Traceback (most recent call last)",
      "\u001b[1;32m~\\AppData\\Local\\Temp/ipykernel_23960/3214494216.py\u001b[0m in \u001b[0;36m<module>\u001b[1;34m\u001b[0m\n\u001b[0;32m      1\u001b[0m \u001b[0ma\u001b[0m \u001b[1;33m=\u001b[0m \u001b[1;33m{\u001b[0m\u001b[1;34m'b'\u001b[0m\u001b[1;33m:\u001b[0m\u001b[1;36m1\u001b[0m\u001b[1;33m}\u001b[0m\u001b[1;33m\u001b[0m\u001b[1;33m\u001b[0m\u001b[0m\n\u001b[1;32m----> 2\u001b[1;33m \u001b[0ma\u001b[0m \u001b[1;33m*\u001b[0m \u001b[1;36m2\u001b[0m\u001b[1;33m\u001b[0m\u001b[1;33m\u001b[0m\u001b[0m\n\u001b[0m",
      "\u001b[1;31mTypeError\u001b[0m: unsupported operand type(s) for *: 'dict' and 'int'"
     ]
    }
   ],
   "source": [
    "a = {'b':1}\n",
    "a * 2"
   ]
  },
  {
   "cell_type": "markdown",
   "id": "4238844f-48c5-4da6-b8ca-8760e7ef278f",
   "metadata": {},
   "source": [
    "---"
   ]
  },
  {
   "cell_type": "markdown",
   "id": "fb807104-10ec-4b9c-b87e-e5ed4cf01e04",
   "metadata": {},
   "source": [
    "# **二、比较运算**\n",
    "---\n",
    "\n",
    "Python的比较运算符有以下几种，**且比较运算的结果都是bool值（True 或者 False）**\n",
    "\n",
    "|**运算符**|**描述**|**实例**|\n",
    "|---|---|---|\n",
    "|**==**|**等于 - 比较对象是否相等**|**(1 == 2) 返回 False。**|\n",
    "|**!=**|**不等于 - 比较两个对象是否不相等**|**(1 != 2) 返回 true.**|\n",
    "|**>**|**大于 - 返回x是否大于y**|**(1 > 2) 返回 False。**|\n",
    "|**<**|**小于 - 返回x是否小于y。所有比较运算符返回1表示真，返回0表示假。这分别与特殊的变量True和False等价。**|**(1 < 2) 返回 true。**|\n",
    "|**>=**|**大于等于 - 返回x是否大于等于y。**|**(1 >= 2) 返回 False。**|\n",
    "|**<=**|**小于等于 - 返回x是否小于等于y。**|**(1 <= 2) 返回 true。**|\n"
   ]
  },
  {
   "cell_type": "markdown",
   "id": "d290b8b7-1205-4ab0-8542-747cb9af291e",
   "metadata": {},
   "source": [
    "## **Example**"
   ]
  },
  {
   "cell_type": "code",
   "execution_count": 20,
   "id": "9bb7551a-2bab-4427-914c-b1c054658538",
   "metadata": {},
   "outputs": [],
   "source": [
    "a = 1\n",
    "b = 2"
   ]
  },
  {
   "cell_type": "code",
   "execution_count": 21,
   "id": "65ed7f2f-b0a2-40e4-ba21-e274aae93f43",
   "metadata": {},
   "outputs": [
    {
     "data": {
      "text/plain": [
       "False"
      ]
     },
     "execution_count": 21,
     "metadata": {},
     "output_type": "execute_result"
    }
   ],
   "source": [
    "a == b"
   ]
  },
  {
   "cell_type": "code",
   "execution_count": 22,
   "id": "d9a661ff-7931-49f9-bf5b-2e3951d235cf",
   "metadata": {},
   "outputs": [
    {
     "data": {
      "text/plain": [
       "True"
      ]
     },
     "execution_count": 22,
     "metadata": {},
     "output_type": "execute_result"
    }
   ],
   "source": [
    "a != b"
   ]
  },
  {
   "cell_type": "code",
   "execution_count": 23,
   "id": "58fc7c8d-ffc4-47dd-85b0-8f25b4b498b1",
   "metadata": {},
   "outputs": [
    {
     "data": {
      "text/plain": [
       "False"
      ]
     },
     "execution_count": 23,
     "metadata": {},
     "output_type": "execute_result"
    }
   ],
   "source": [
    "a > b"
   ]
  },
  {
   "cell_type": "code",
   "execution_count": 24,
   "id": "178e62fe-9382-4eae-be9e-ee24130d39e2",
   "metadata": {},
   "outputs": [
    {
     "data": {
      "text/plain": [
       "True"
      ]
     },
     "execution_count": 24,
     "metadata": {},
     "output_type": "execute_result"
    }
   ],
   "source": [
    "a < b"
   ]
  },
  {
   "cell_type": "code",
   "execution_count": 25,
   "id": "3d81af4c-bee1-4a2d-8301-8f0f7d8e3620",
   "metadata": {},
   "outputs": [
    {
     "data": {
      "text/plain": [
       "False"
      ]
     },
     "execution_count": 25,
     "metadata": {},
     "output_type": "execute_result"
    }
   ],
   "source": [
    "a >= b"
   ]
  },
  {
   "cell_type": "code",
   "execution_count": 26,
   "id": "800c2dbf-027d-432a-b809-64591bebad04",
   "metadata": {},
   "outputs": [
    {
     "data": {
      "text/plain": [
       "True"
      ]
     },
     "execution_count": 26,
     "metadata": {},
     "output_type": "execute_result"
    }
   ],
   "source": [
    "a <= b"
   ]
  },
  {
   "cell_type": "markdown",
   "id": "10c0acf8-db74-4db8-95ce-64147104108a",
   "metadata": {},
   "source": [
    "### **Python的比较运算符可以运用在字符串**\n",
    "\n",
    "在Python中，`Unicode`码位号用于比较字符。\n",
    "\n",
    "每个字符串的第一个字符，如果它们不同，则得出结果。如果它们是相同的值，那么它将比较第二个字符，依此类推，直到字符串结束。"
   ]
  },
  {
   "cell_type": "code",
   "execution_count": 34,
   "id": "25bb1c1a-11e0-416f-913e-95b33fb9ed4c",
   "metadata": {},
   "outputs": [
    {
     "data": {
      "text/plain": [
       "False"
      ]
     },
     "execution_count": 34,
     "metadata": {},
     "output_type": "execute_result"
    }
   ],
   "source": [
    "'a' > 'b'"
   ]
  },
  {
   "cell_type": "code",
   "execution_count": 35,
   "id": "6708056e-8371-43ec-9084-874583b832ee",
   "metadata": {},
   "outputs": [
    {
     "data": {
      "text/plain": [
       "True"
      ]
     },
     "execution_count": 35,
     "metadata": {},
     "output_type": "execute_result"
    }
   ],
   "source": [
    "'d' > 'c'"
   ]
  },
  {
   "cell_type": "code",
   "execution_count": 36,
   "id": "4e88e3f8-8709-4eb3-bb05-f0d4a63abcc1",
   "metadata": {},
   "outputs": [
    {
     "data": {
      "text/plain": [
       "True"
      ]
     },
     "execution_count": 36,
     "metadata": {},
     "output_type": "execute_result"
    }
   ],
   "source": [
    "'a' == 'a'"
   ]
  },
  {
   "cell_type": "code",
   "execution_count": 37,
   "id": "49d08995-0414-4dce-ad1e-5ef071135b3c",
   "metadata": {},
   "outputs": [
    {
     "data": {
      "text/plain": [
       "True"
      ]
     },
     "execution_count": 37,
     "metadata": {},
     "output_type": "execute_result"
    }
   ],
   "source": [
    "'a' != 'b'"
   ]
  },
  {
   "cell_type": "markdown",
   "id": "d267ebfa-376a-4328-a4e8-afd038a17a19",
   "metadata": {},
   "source": [
    "### **还可以直接比较时间**"
   ]
  },
  {
   "cell_type": "code",
   "execution_count": 38,
   "id": "5e5ecee2-e17c-4aaa-b683-70fa6fcebf08",
   "metadata": {},
   "outputs": [
    {
     "data": {
      "text/plain": [
       "False"
      ]
     },
     "execution_count": 38,
     "metadata": {},
     "output_type": "execute_result"
    }
   ],
   "source": [
    "'2022-04-08 11:00:00' > '2022-04-08 11:00:01'"
   ]
  },
  {
   "cell_type": "code",
   "execution_count": 39,
   "id": "551031e3-3112-4837-9d41-4542ab4c5a49",
   "metadata": {},
   "outputs": [
    {
     "data": {
      "text/plain": [
       "True"
      ]
     },
     "execution_count": 39,
     "metadata": {},
     "output_type": "execute_result"
    }
   ],
   "source": [
    "'2022-04-08 11:00:00' > '2022-04-08 10:00:01'"
   ]
  },
  {
   "cell_type": "markdown",
   "id": "40d4c6b3-b78a-42b5-9cee-c42e11fc1599",
   "metadata": {},
   "source": [
    "---"
   ]
  },
  {
   "cell_type": "markdown",
   "id": "551dca37-41ba-44d3-90ab-7a80b2ad1847",
   "metadata": {},
   "source": [
    "# **三、赋值运算**\n",
    "---\n",
    "\n",
    "Python以`=`来表示对变量进行赋值，它可以和其它算数运算结合在一起表示：自加，自减等等\n",
    "\n",
    "|**运算符**|**描述|**实例**|\n",
    "|---|---|---|\n",
    "|**=**|**简单的赋值运算符**|**a = 10 + 10 将 10 + 10 的运算结果赋值为 a**|\n",
    "|**+=**|**加法赋值运算符**|**a += 10 等效于 a = a + 10**|\n",
    "|**-=**|**减法赋值运算符**|**a -= 10 等效于 a = a - 10**|\n",
    "|**\\*=**|**乘法赋值运算符**|**a \\*= 10 等效于 a = a \\* 10**|\n",
    "|**/=**|**除法赋值运算符**|**a /= 10 等效于 a = a / 10**|\n",
    "|**%=**|**取模赋值运算符**|**a %= 10 等效于 a = a % 10**|\n",
    "|**\\*\\*=**|**幂赋值运算符**|**a \\*\\*= 10 等效于 a = a \\*\\* 10**|\n",
    "|**//=**|**取整除赋值运算符**|**a //= 10 等效于 a = a // 10**|"
   ]
  },
  {
   "cell_type": "markdown",
   "id": "1e5bffb5-8b82-4a68-9aa8-d94b3714c22d",
   "metadata": {},
   "source": [
    "## **Example**"
   ]
  },
  {
   "cell_type": "code",
   "execution_count": 42,
   "id": "08163086-33c1-4a01-9d6d-de43f34f33c0",
   "metadata": {},
   "outputs": [
    {
     "data": {
      "text/plain": [
       "10"
      ]
     },
     "execution_count": 42,
     "metadata": {},
     "output_type": "execute_result"
    }
   ],
   "source": [
    "a = 10\n",
    "a"
   ]
  },
  {
   "cell_type": "code",
   "execution_count": 51,
   "id": "52eaee4d-f562-4ff7-8952-1359647cd3b4",
   "metadata": {},
   "outputs": [
    {
     "name": "stdout",
     "output_type": "stream",
     "text": [
      "1 2 3\n"
     ]
    }
   ],
   "source": [
    "### 多个变量同时赋值\n",
    "\n",
    "a,b,c = 1,2,3\n",
    "print(a,b,c)"
   ]
  },
  {
   "cell_type": "code",
   "execution_count": 52,
   "id": "14de1dfb-408b-41c0-96eb-4e10a9826be5",
   "metadata": {},
   "outputs": [
    {
     "name": "stdout",
     "output_type": "stream",
     "text": [
      "10 10 10\n"
     ]
    }
   ],
   "source": [
    "### 多个变量赋值相同的值\n",
    "\n",
    "a = b = c = 10\n",
    "print(a,b,c)"
   ]
  },
  {
   "cell_type": "code",
   "execution_count": 60,
   "id": "64106d0f-e78f-42c6-a9a6-fc242ace96ed",
   "metadata": {},
   "outputs": [
    {
     "name": "stdout",
     "output_type": "stream",
     "text": [
      "1 a [1, 2, 3] {'a': 1}\n"
     ]
    }
   ],
   "source": [
    "### 多个变量同时赋值\n",
    "\n",
    "a,b,c,d = 1,'a',[1,2,3],{\"a\":1}\n",
    "print(a,b,c,d)"
   ]
  },
  {
   "cell_type": "code",
   "execution_count": 43,
   "id": "33f306cc-2cae-4ec6-84d3-8c533ae9ce0a",
   "metadata": {},
   "outputs": [
    {
     "data": {
      "text/plain": [
       "11"
      ]
     },
     "execution_count": 43,
     "metadata": {},
     "output_type": "execute_result"
    }
   ],
   "source": [
    "a = 10\n",
    "a += 1\n",
    "a"
   ]
  },
  {
   "cell_type": "code",
   "execution_count": 44,
   "id": "d099c421-7631-44e0-9b3b-d4f00d6bb50f",
   "metadata": {},
   "outputs": [
    {
     "data": {
      "text/plain": [
       "9"
      ]
     },
     "execution_count": 44,
     "metadata": {},
     "output_type": "execute_result"
    }
   ],
   "source": [
    "a = 10\n",
    "a -= 1\n",
    "a"
   ]
  },
  {
   "cell_type": "code",
   "execution_count": 45,
   "id": "9f6bef51-3768-4ade-99cd-aa5a1eb4f87e",
   "metadata": {},
   "outputs": [
    {
     "data": {
      "text/plain": [
       "20"
      ]
     },
     "execution_count": 45,
     "metadata": {},
     "output_type": "execute_result"
    }
   ],
   "source": [
    "a = 10\n",
    "a *= 2\n",
    "a"
   ]
  },
  {
   "cell_type": "code",
   "execution_count": 46,
   "id": "8375b741-a3b7-43a3-90c2-812885550de9",
   "metadata": {},
   "outputs": [
    {
     "data": {
      "text/plain": [
       "5.0"
      ]
     },
     "execution_count": 46,
     "metadata": {},
     "output_type": "execute_result"
    }
   ],
   "source": [
    "a = 10\n",
    "a /= 2\n",
    "a"
   ]
  },
  {
   "cell_type": "code",
   "execution_count": 48,
   "id": "12c64685-e05d-4091-98ed-a2a1e8c265d0",
   "metadata": {},
   "outputs": [
    {
     "data": {
      "text/plain": [
       "0"
      ]
     },
     "execution_count": 48,
     "metadata": {},
     "output_type": "execute_result"
    }
   ],
   "source": [
    "a = 10\n",
    "a %= 2\n",
    "a"
   ]
  },
  {
   "cell_type": "code",
   "execution_count": 49,
   "id": "96424d8c-22e1-42f8-88b5-013e27288772",
   "metadata": {},
   "outputs": [
    {
     "data": {
      "text/plain": [
       "100"
      ]
     },
     "execution_count": 49,
     "metadata": {},
     "output_type": "execute_result"
    }
   ],
   "source": [
    "a = 10\n",
    "a **= 2\n",
    "a"
   ]
  },
  {
   "cell_type": "code",
   "execution_count": 50,
   "id": "cfc37cd2-38ca-4209-b856-9fa96d87b090",
   "metadata": {},
   "outputs": [
    {
     "data": {
      "text/plain": [
       "5"
      ]
     },
     "execution_count": 50,
     "metadata": {},
     "output_type": "execute_result"
    }
   ],
   "source": [
    "a = 10\n",
    "a //= 2\n",
    "a"
   ]
  },
  {
   "cell_type": "markdown",
   "id": "64ca88be-4365-45ff-9ff5-0a715c362ab4",
   "metadata": {},
   "source": [
    "### **拓展：当对变量赋值变量的时候，如原变量是可变的那么被赋值会跟随变化，如是不可变则不跟随变化**"
   ]
  },
  {
   "cell_type": "code",
   "execution_count": 59,
   "id": "bb48274b-b2a5-4b92-b8c8-fdcdd4233bb2",
   "metadata": {},
   "outputs": [
    {
     "name": "stdout",
     "output_type": "stream",
     "text": [
      "10\n",
      "10\n"
     ]
    }
   ],
   "source": [
    "a = 10\n",
    "b = a\n",
    "print(b)\n",
    "a = a+1\n",
    "print(b)"
   ]
  },
  {
   "cell_type": "code",
   "execution_count": 58,
   "id": "944a975d-f109-4d2f-88a7-a4192aadaf2f",
   "metadata": {},
   "outputs": [
    {
     "name": "stdout",
     "output_type": "stream",
     "text": [
      "[1, 2]\n",
      "[1, 2, 3]\n"
     ]
    }
   ],
   "source": [
    "a = [1,2]\n",
    "b = a\n",
    "print(b)\n",
    "a.append(3)\n",
    "print(b)"
   ]
  },
  {
   "cell_type": "markdown",
   "id": "a5e531cd-e23d-49a9-8bec-dd5e4bc60867",
   "metadata": {},
   "source": [
    "---"
   ]
  },
  {
   "cell_type": "markdown",
   "id": "62e33425-e454-427f-94d4-36e4433aa543",
   "metadata": {},
   "source": [
    "# **四、逻辑运算**\n",
    "---\n",
    "\n",
    "|**运算符**|**逻辑表达式**|**描述**|**实例**|\n",
    "|---|---|---|---|\n",
    "|**and**|**x and y**|**布尔\"与\" - 如果 x 为 False，x and y 返回 False，否则它返回 y 的计算值。**|**(1 and 0) 返回 False。**|\n",
    "|**or**|**x or y**|**布尔\"或\" - 如果 x 是非 0，它返回 x 的计算值，否则它返回 y 的计算值。**|**(1 or 0) 返回 True。**|\n",
    "|**not**|**not x**|**布尔\"非\" - 如果 x 为 True，返回 False 。如果 x 为 False，它返回 True。**|**not(1 and 0) 返回 False**|"
   ]
  },
  {
   "cell_type": "markdown",
   "id": "2eebd94a-119d-4dc8-a070-0f7f76036ec2",
   "metadata": {},
   "source": [
    "## **Example**"
   ]
  },
  {
   "cell_type": "code",
   "execution_count": 61,
   "id": "64a477b4-95f9-496f-beaa-8f19bb46a391",
   "metadata": {},
   "outputs": [],
   "source": [
    "a = 1\n",
    "b = 0"
   ]
  },
  {
   "cell_type": "code",
   "execution_count": 62,
   "id": "2d81f649-4aee-44fb-b8e3-b1705f7c817a",
   "metadata": {},
   "outputs": [
    {
     "data": {
      "text/plain": [
       "0"
      ]
     },
     "execution_count": 62,
     "metadata": {},
     "output_type": "execute_result"
    }
   ],
   "source": [
    "a and b"
   ]
  },
  {
   "cell_type": "code",
   "execution_count": 63,
   "id": "8d5eb079-0537-49a5-94a7-ec87fd8c2abc",
   "metadata": {},
   "outputs": [
    {
     "data": {
      "text/plain": [
       "1"
      ]
     },
     "execution_count": 63,
     "metadata": {},
     "output_type": "execute_result"
    }
   ],
   "source": [
    "a or b"
   ]
  },
  {
   "cell_type": "code",
   "execution_count": 64,
   "id": "b163af55-4903-4c1f-b960-e59e11eabdb8",
   "metadata": {},
   "outputs": [
    {
     "data": {
      "text/plain": [
       "False"
      ]
     },
     "execution_count": 64,
     "metadata": {},
     "output_type": "execute_result"
    }
   ],
   "source": [
    "not a"
   ]
  },
  {
   "cell_type": "code",
   "execution_count": 65,
   "id": "2952c9a3-e3e7-4a76-8014-ca56078879cb",
   "metadata": {},
   "outputs": [
    {
     "data": {
      "text/plain": [
       "True"
      ]
     },
     "execution_count": 65,
     "metadata": {},
     "output_type": "execute_result"
    }
   ],
   "source": [
    "not b"
   ]
  },
  {
   "cell_type": "markdown",
   "id": "dad03907-dbae-487a-83f9-4489d3928bfb",
   "metadata": {},
   "source": [
    "### **拓展：Python中嵌套运算用小括号**"
   ]
  },
  {
   "cell_type": "code",
   "execution_count": 66,
   "id": "e444f9b2-ca13-4b15-9c47-dc7b0f6c499e",
   "metadata": {},
   "outputs": [],
   "source": [
    "a = 1\n",
    "b = 0\n",
    "c = 2"
   ]
  },
  {
   "cell_type": "code",
   "execution_count": 67,
   "id": "0a5f40f4-5942-476c-86c6-e5f180329aff",
   "metadata": {},
   "outputs": [
    {
     "data": {
      "text/plain": [
       "False"
      ]
     },
     "execution_count": 67,
     "metadata": {},
     "output_type": "execute_result"
    }
   ],
   "source": [
    "not (a and (b or c))"
   ]
  },
  {
   "cell_type": "markdown",
   "id": "82dbe97b-4cef-44d3-9f6b-0bbc97955c87",
   "metadata": {},
   "source": [
    "---"
   ]
  },
  {
   "cell_type": "markdown",
   "id": "46d0c5a7-2dad-4b44-b441-5415481528a4",
   "metadata": {},
   "source": [
    "# **五、位运算**\n",
    "---\n",
    "\n",
    "Python中按位运算符是把数字看作二进制来进行计算的。规则如下：\n",
    "\n",
    "|**运算符**|**描述**|**实例**|\n",
    "|---|---|---|\n",
    "|**&**|**按位与运算符：参与运算的两个值,如果两个相应位都为1,则该位的结果为1,否则为0**|**(60 & 13) 输出结果 12 ，二进制解释： 0000 1100**|\n",
    "|**\\|**|**按位或运算符：只要对应的二个二进位有一个为1时，结果位就为1。**|**(60 \\| 13) 输出结果 61 ，二进制解释： 0011 1101**|\n",
    "|**^**|**按位异或运算符：当两对应的二进位相异时，结果为1**|**(60 ^ 13) 输出结果 49 ，二进制解释： 0011 0001**|\n",
    "|**~**|**按位取反运算符：对数据的每个二进制位取反,即把1变为0,把0变为1 。~x 类似于 -x-1**|**(~60 ) 输出结果 -61 ，二进制解释： 1100 0011，在一个有符号二进制数的补码形式。**|\n",
    "|**<<**|**左移动运算符：运算数的各二进位全部左移若干位，由 << 右边的数字指定了移动的位数，高位丢弃，低位补0。**|**60 << 2 输出结果 240 ，二进制解释： 1111 0000**|\n",
    "|**>>**|**右移动运算符：把\">>\"左边的运算数的各二进位全部右移若干位，>> 右边的数字指定了移动的位数**|**60 >> 2 输出结果 15 ，二进制解释： 0000 1111**|"
   ]
  },
  {
   "cell_type": "markdown",
   "id": "1626f418-67dd-4fd9-afe9-863f9b412e2d",
   "metadata": {},
   "source": [
    "## **Example**"
   ]
  },
  {
   "cell_type": "code",
   "execution_count": 108,
   "id": "b0113c2f-ef04-40aa-bfd0-51a85ffa2f70",
   "metadata": {},
   "outputs": [
    {
     "name": "stdout",
     "output_type": "stream",
     "text": [
      "0b1000\n",
      "0b10\n"
     ]
    }
   ],
   "source": [
    "a = 8\n",
    "b = 2\n",
    "print(bin(a))\n",
    "print(bin(b))"
   ]
  },
  {
   "cell_type": "code",
   "execution_count": 111,
   "id": "b7f704e2-9a96-4d6c-becc-97edb12d186f",
   "metadata": {},
   "outputs": [
    {
     "name": "stdout",
     "output_type": "stream",
     "text": [
      "8的二进制是：1000\n",
      "2的二进制是：0010\n"
     ]
    }
   ],
   "source": [
    "print(f\"8的二进制是：{bin(8).split('b')[-1]}\")\n",
    "print(f\"2的二进制是：{'0' * (len(bin(8))-len(bin(2)))}{bin(2).split('b')[-1]}\")"
   ]
  },
  {
   "cell_type": "code",
   "execution_count": 76,
   "id": "5d2b2df9-50d2-4bd1-96f4-f6b796feddbf",
   "metadata": {},
   "outputs": [
    {
     "data": {
      "text/plain": [
       "0"
      ]
     },
     "execution_count": 76,
     "metadata": {},
     "output_type": "execute_result"
    }
   ],
   "source": [
    "a & b"
   ]
  },
  {
   "cell_type": "code",
   "execution_count": 70,
   "id": "6092ceee-6d42-48b5-8956-4678a703bad1",
   "metadata": {},
   "outputs": [
    {
     "data": {
      "text/plain": [
       "10"
      ]
     },
     "execution_count": 70,
     "metadata": {},
     "output_type": "execute_result"
    }
   ],
   "source": [
    "a | b"
   ]
  },
  {
   "cell_type": "code",
   "execution_count": 71,
   "id": "51942e1a-2dd4-48ea-94e4-7d83fc6fcd70",
   "metadata": {},
   "outputs": [
    {
     "data": {
      "text/plain": [
       "10"
      ]
     },
     "execution_count": 71,
     "metadata": {},
     "output_type": "execute_result"
    }
   ],
   "source": [
    "a ^ b"
   ]
  },
  {
   "cell_type": "code",
   "execution_count": 72,
   "id": "a1b1c29f-9596-4a5b-a600-b3b9f21f79cb",
   "metadata": {},
   "outputs": [
    {
     "data": {
      "text/plain": [
       "-9"
      ]
     },
     "execution_count": 72,
     "metadata": {},
     "output_type": "execute_result"
    }
   ],
   "source": [
    "~a"
   ]
  },
  {
   "cell_type": "code",
   "execution_count": 73,
   "id": "f03bf30d-0978-453e-8193-eae1e256f544",
   "metadata": {},
   "outputs": [
    {
     "data": {
      "text/plain": [
       "32"
      ]
     },
     "execution_count": 73,
     "metadata": {},
     "output_type": "execute_result"
    }
   ],
   "source": [
    "a << 2"
   ]
  },
  {
   "cell_type": "code",
   "execution_count": 74,
   "id": "b4d5b1f9-1763-444e-b875-333a94c8adb3",
   "metadata": {},
   "outputs": [
    {
     "data": {
      "text/plain": [
       "2"
      ]
     },
     "execution_count": 74,
     "metadata": {},
     "output_type": "execute_result"
    }
   ],
   "source": [
    "a >> 2"
   ]
  },
  {
   "cell_type": "markdown",
   "id": "f3480026-4fb4-4462-8c30-e40506944afa",
   "metadata": {},
   "source": [
    "---"
   ]
  },
  {
   "cell_type": "markdown",
   "id": "e0f01e6e-f97e-41b4-97a3-616186a1cdbd",
   "metadata": {},
   "source": [
    "# **六、成员运算**\n",
    "---\n",
    "\n",
    "Python还支持成员运算符，测试实例中包含了一系列的成员，包括字符串，列表或元组。\n",
    "\n",
    "|**运算符**|**描述**|**实例**|\n",
    "|---|---|---|\n",
    "|**in**|**如果在指定的序列中找到值返回 True，否则返回 False。**|**x 在 y 序列中 , 如果 x 在 y 序列中返回 True。**|\n",
    "|**not in**|**如果在指定的序列中没有找到值返回 True，否则返回 False。**|**x 不在 y 序列中 , 如果 x 不在 y 序列中返回 True。**|"
   ]
  },
  {
   "cell_type": "markdown",
   "id": "61764d2b-bd55-4900-8923-b3534f659ce6",
   "metadata": {},
   "source": [
    "## **Example**"
   ]
  },
  {
   "cell_type": "code",
   "execution_count": 84,
   "id": "8a11768f-3800-4f2b-b710-24b7cec87631",
   "metadata": {},
   "outputs": [],
   "source": [
    "### 列表成员\n",
    "\n",
    "a = [1,2,3]"
   ]
  },
  {
   "cell_type": "code",
   "execution_count": 78,
   "id": "eb9a2ea0-9bb9-4994-a757-bbee1cab74bb",
   "metadata": {},
   "outputs": [
    {
     "data": {
      "text/plain": [
       "True"
      ]
     },
     "execution_count": 78,
     "metadata": {},
     "output_type": "execute_result"
    }
   ],
   "source": [
    "1 in a"
   ]
  },
  {
   "cell_type": "code",
   "execution_count": 79,
   "id": "c6c42515-cc4a-406d-ab51-075cdc28932d",
   "metadata": {},
   "outputs": [
    {
     "data": {
      "text/plain": [
       "False"
      ]
     },
     "execution_count": 79,
     "metadata": {},
     "output_type": "execute_result"
    }
   ],
   "source": [
    "1 not in a"
   ]
  },
  {
   "cell_type": "code",
   "execution_count": 85,
   "id": "12cf6b6f-3d76-44ef-9107-972ce643922f",
   "metadata": {},
   "outputs": [],
   "source": [
    "### 集合成员\n",
    "\n",
    "a = {1,2,3}"
   ]
  },
  {
   "cell_type": "code",
   "execution_count": 81,
   "id": "f2a9cf9d-19b9-48a3-af2a-298d6775b1eb",
   "metadata": {},
   "outputs": [
    {
     "data": {
      "text/plain": [
       "True"
      ]
     },
     "execution_count": 81,
     "metadata": {},
     "output_type": "execute_result"
    }
   ],
   "source": [
    "1 in a"
   ]
  },
  {
   "cell_type": "code",
   "execution_count": 82,
   "id": "0c35e737-63e6-49bb-aeb6-4c8392210daa",
   "metadata": {},
   "outputs": [
    {
     "data": {
      "text/plain": [
       "False"
      ]
     },
     "execution_count": 82,
     "metadata": {},
     "output_type": "execute_result"
    }
   ],
   "source": [
    "1 not in a"
   ]
  },
  {
   "cell_type": "code",
   "execution_count": 86,
   "id": "9b156d80-31de-4c4e-8bb3-fa8140261838",
   "metadata": {},
   "outputs": [],
   "source": [
    "### 字符串成员\n",
    "\n",
    "a = '123456'"
   ]
  },
  {
   "cell_type": "code",
   "execution_count": 87,
   "id": "0cfb95ca-4460-4720-9867-9d159a5f6cfc",
   "metadata": {},
   "outputs": [
    {
     "data": {
      "text/plain": [
       "True"
      ]
     },
     "execution_count": 87,
     "metadata": {},
     "output_type": "execute_result"
    }
   ],
   "source": [
    "'1' in a"
   ]
  },
  {
   "cell_type": "code",
   "execution_count": 88,
   "id": "2f4227d9-15fb-4d49-8d09-a0775669ad3b",
   "metadata": {},
   "outputs": [
    {
     "data": {
      "text/plain": [
       "False"
      ]
     },
     "execution_count": 88,
     "metadata": {},
     "output_type": "execute_result"
    }
   ],
   "source": [
    "'1' not in a"
   ]
  },
  {
   "cell_type": "code",
   "execution_count": 89,
   "id": "54927a1a-14d6-4688-bc8f-8239dc0d1990",
   "metadata": {},
   "outputs": [],
   "source": [
    "### 字典成员\n",
    "\n",
    "a = {'b': 1, 'c': 2}"
   ]
  },
  {
   "cell_type": "code",
   "execution_count": 90,
   "id": "7b82f6e0-d7e2-42de-a22e-bd643278ed55",
   "metadata": {},
   "outputs": [
    {
     "data": {
      "text/plain": [
       "False"
      ]
     },
     "execution_count": 90,
     "metadata": {},
     "output_type": "execute_result"
    }
   ],
   "source": [
    "1 in a"
   ]
  },
  {
   "cell_type": "code",
   "execution_count": 91,
   "id": "fedbe706-a897-4baf-8302-d75cedd50c10",
   "metadata": {},
   "outputs": [
    {
     "data": {
      "text/plain": [
       "True"
      ]
     },
     "execution_count": 91,
     "metadata": {},
     "output_type": "execute_result"
    }
   ],
   "source": [
    "'b' in a"
   ]
  },
  {
   "cell_type": "code",
   "execution_count": 92,
   "id": "658bf22b-6f8b-441f-b840-13416ac783e5",
   "metadata": {},
   "outputs": [
    {
     "data": {
      "text/plain": [
       "True"
      ]
     },
     "execution_count": 92,
     "metadata": {},
     "output_type": "execute_result"
    }
   ],
   "source": [
    "1 in a.values()"
   ]
  },
  {
   "cell_type": "code",
   "execution_count": 93,
   "id": "14795f83-cb95-4986-9c1d-5e0143a4a6fc",
   "metadata": {},
   "outputs": [
    {
     "data": {
      "text/plain": [
       "True"
      ]
     },
     "execution_count": 93,
     "metadata": {},
     "output_type": "execute_result"
    }
   ],
   "source": [
    "'b' in a.keys()"
   ]
  },
  {
   "cell_type": "code",
   "execution_count": 94,
   "id": "bfec91ba-3294-4692-8298-4e39b7222ab7",
   "metadata": {},
   "outputs": [],
   "source": [
    "### 元祖成员\n",
    "\n",
    "a = (1,2,3)"
   ]
  },
  {
   "cell_type": "code",
   "execution_count": 95,
   "id": "283df416-7ec9-4ae8-a3ee-8ee28253e3f0",
   "metadata": {},
   "outputs": [
    {
     "data": {
      "text/plain": [
       "True"
      ]
     },
     "execution_count": 95,
     "metadata": {},
     "output_type": "execute_result"
    }
   ],
   "source": [
    "1 in a"
   ]
  },
  {
   "cell_type": "code",
   "execution_count": 96,
   "id": "0eab60e4-b9af-4d33-a0cf-96e83fdbcc87",
   "metadata": {},
   "outputs": [
    {
     "data": {
      "text/plain": [
       "False"
      ]
     },
     "execution_count": 96,
     "metadata": {},
     "output_type": "execute_result"
    }
   ],
   "source": [
    "1 not in a"
   ]
  },
  {
   "cell_type": "markdown",
   "id": "9cba0e47-82bf-4342-b5a1-840144f8cb63",
   "metadata": {},
   "source": [
    "---"
   ]
  },
  {
   "cell_type": "markdown",
   "id": "95fd16aa-1258-4210-a330-9aa4c889f871",
   "metadata": {},
   "source": [
    "# **七、身份运算**\n",
    "---\n",
    "\n",
    "Python身份运算符用于比较两个对象的存储单元\n",
    "\n",
    "|**运算符**|**描述**|**实例**|\n",
    "|---|---|---|\n",
    "|**is**|**is 是判断两个标识符是不是引用自一个对象**|**x is y, 类似 id(x) == id(y) , 如果引用的是同一个对象则返回 True，否则返回 False**|\n",
    "|**is not**|**is not 是判断两个标识符是不是引用自不同对象**|**x is not y ， 类似 id(a) != id(b)。如果引用的不是同一个对象则返回结果 True，否则返回 False。**|"
   ]
  },
  {
   "cell_type": "markdown",
   "id": "ffdf01b0-f07b-4faf-87ce-e0e5590b9451",
   "metadata": {},
   "source": [
    "## **Example**"
   ]
  },
  {
   "cell_type": "code",
   "execution_count": 97,
   "id": "3b7d0b07-d294-41e8-a9ec-080c5284cd03",
   "metadata": {},
   "outputs": [
    {
     "data": {
      "text/plain": [
       "False"
      ]
     },
     "execution_count": 97,
     "metadata": {},
     "output_type": "execute_result"
    }
   ],
   "source": [
    "a = 1\n",
    "b = 2\n",
    "\n",
    "a is b"
   ]
  },
  {
   "cell_type": "code",
   "execution_count": 98,
   "id": "fc0a4349-c116-42ed-9c81-960deab1fa45",
   "metadata": {},
   "outputs": [
    {
     "data": {
      "text/plain": [
       "True"
      ]
     },
     "execution_count": 98,
     "metadata": {},
     "output_type": "execute_result"
    }
   ],
   "source": [
    "a = 'abc'\n",
    "b = 'abc'\n",
    "\n",
    "a is b"
   ]
  },
  {
   "cell_type": "code",
   "execution_count": 99,
   "id": "d9fffa09-ce9d-49b4-8445-dbfb26f17674",
   "metadata": {},
   "outputs": [
    {
     "data": {
      "text/plain": [
       "False"
      ]
     },
     "execution_count": 99,
     "metadata": {},
     "output_type": "execute_result"
    }
   ],
   "source": [
    "[1,2,3] is [1,2,3]"
   ]
  },
  {
   "cell_type": "code",
   "execution_count": 100,
   "id": "bed4d1f0-8be4-4050-8ea7-116738c5944d",
   "metadata": {},
   "outputs": [
    {
     "data": {
      "text/plain": [
       "False"
      ]
     },
     "execution_count": 100,
     "metadata": {},
     "output_type": "execute_result"
    }
   ],
   "source": [
    "{1,2,3} is {1,2,3}"
   ]
  },
  {
   "cell_type": "code",
   "execution_count": 101,
   "id": "e44afd8e-0761-4adb-95ca-0e884b0ed357",
   "metadata": {},
   "outputs": [
    {
     "name": "stderr",
     "output_type": "stream",
     "text": [
      "<>:1: SyntaxWarning: \"is\" with a literal. Did you mean \"==\"?\n",
      "<>:1: SyntaxWarning: \"is\" with a literal. Did you mean \"==\"?\n",
      "C:\\Users\\DELL\\AppData\\Local\\Temp/ipykernel_23960/727138149.py:1: SyntaxWarning: \"is\" with a literal. Did you mean \"==\"?\n",
      "  (1,2,3) is (1,2,3)\n"
     ]
    },
    {
     "data": {
      "text/plain": [
       "True"
      ]
     },
     "execution_count": 101,
     "metadata": {},
     "output_type": "execute_result"
    }
   ],
   "source": [
    "(1,2,3) is (1,2,3)"
   ]
  },
  {
   "cell_type": "markdown",
   "id": "f823020f-b101-4465-b9ab-f8c1c06e6528",
   "metadata": {},
   "source": [
    "### **is 与 == 区别：**\n",
    "\n",
    "**is 用于判断两个变量引用对象是否为同一个(同一块内存空间)， == 用于判断引用变量的值是否相等。**"
   ]
  },
  {
   "cell_type": "code",
   "execution_count": 102,
   "id": "1cb79b85-e8af-4960-8e76-2dcb2b1e3671",
   "metadata": {},
   "outputs": [
    {
     "name": "stderr",
     "output_type": "stream",
     "text": [
      "<>:1: SyntaxWarning: \"is\" with a literal. Did you mean \"==\"?\n",
      "<>:1: SyntaxWarning: \"is\" with a literal. Did you mean \"==\"?\n",
      "C:\\Users\\DELL\\AppData\\Local\\Temp/ipykernel_23960/1728060598.py:1: SyntaxWarning: \"is\" with a literal. Did you mean \"==\"?\n",
      "  1 is 1\n"
     ]
    },
    {
     "data": {
      "text/plain": [
       "True"
      ]
     },
     "execution_count": 102,
     "metadata": {},
     "output_type": "execute_result"
    }
   ],
   "source": [
    "1 is 1"
   ]
  },
  {
   "cell_type": "code",
   "execution_count": 103,
   "id": "54da18b9-4f04-4fe3-9985-c0479ddc6943",
   "metadata": {},
   "outputs": [
    {
     "data": {
      "text/plain": [
       "True"
      ]
     },
     "execution_count": 103,
     "metadata": {},
     "output_type": "execute_result"
    }
   ],
   "source": [
    "1 == 1"
   ]
  },
  {
   "cell_type": "code",
   "execution_count": 104,
   "id": "bbd6a3c5-fd29-47f3-8467-228263abd3e7",
   "metadata": {},
   "outputs": [
    {
     "data": {
      "text/plain": [
       "True"
      ]
     },
     "execution_count": 104,
     "metadata": {},
     "output_type": "execute_result"
    }
   ],
   "source": [
    "[1,2,3] == [1,2,3]"
   ]
  },
  {
   "cell_type": "code",
   "execution_count": 105,
   "id": "ae1dfcab-85f8-47d1-9fb4-aa6fd154d9f8",
   "metadata": {},
   "outputs": [
    {
     "data": {
      "text/plain": [
       "False"
      ]
     },
     "execution_count": 105,
     "metadata": {},
     "output_type": "execute_result"
    }
   ],
   "source": [
    "[1,2,3] is [1,2,3]"
   ]
  },
  {
   "cell_type": "code",
   "execution_count": 106,
   "id": "9cd89a58-483f-40bf-b278-4edb39b29ea3",
   "metadata": {},
   "outputs": [
    {
     "name": "stderr",
     "output_type": "stream",
     "text": [
      "<>:1: SyntaxWarning: \"is not\" with a literal. Did you mean \"!=\"?\n",
      "<>:1: SyntaxWarning: \"is not\" with a literal. Did you mean \"!=\"?\n",
      "C:\\Users\\DELL\\AppData\\Local\\Temp/ipykernel_23960/687915640.py:1: SyntaxWarning: \"is not\" with a literal. Did you mean \"!=\"?\n",
      "  'a' is not 'b'\n"
     ]
    },
    {
     "data": {
      "text/plain": [
       "True"
      ]
     },
     "execution_count": 106,
     "metadata": {},
     "output_type": "execute_result"
    }
   ],
   "source": [
    "'a' is not 'b'"
   ]
  },
  {
   "cell_type": "markdown",
   "id": "1082c65d-23a2-4b14-929c-2d99f2d48d72",
   "metadata": {},
   "source": [
    "---"
   ]
  },
  {
   "cell_type": "markdown",
   "id": "762876e9-6588-46ff-aa87-854197a8873c",
   "metadata": {},
   "source": [
    "# **八、运算符优先级**\n",
    "---\n",
    "\n",
    "**以上几种运算我们整理成表格从上到下展示从高到低运算符的优先级**\n",
    "\n",
    "|**运算符**|**描述**|\n",
    "|---|---|\n",
    "|**\\*\\***|**指数 (最高优先级)**|\n",
    "|**~ + -**|**按位翻转, 一元加号和减号 (最后两个的方法名为 +@ 和 -@)**|\n",
    "|**\\* / % //**|**乘，除，取模和取整除**|\n",
    "|**+ -**|**加法减法**|\n",
    "|**>> <<**|**右移，左移运算符**|\n",
    "|**&**|**位 'AND'**|\n",
    "|**^ \\|**|**位运算符**|\n",
    "|**<= < > >=**|**比较运算符**|\n",
    "|**<> == !=**|**等于运算符**|\n",
    "|**= %= /= //= -= += \\*= \\*\\*=**|**赋值运算符**|\n",
    "|**is is not**|**身份运算符**|\n",
    "|**in not in**|**成员运算符**|\n",
    "|**not and or**|**逻辑运算符**|\n",
    "\n",
    "**需要注意的是：小括号 `()` 内的运算符优先级最高，优先计算**"
   ]
  },
  {
   "cell_type": "markdown",
   "id": "f44cfb66-d4c7-4130-a9c5-fe9ac13b67c4",
   "metadata": {},
   "source": [
    "## **Example**"
   ]
  },
  {
   "cell_type": "code",
   "execution_count": 117,
   "id": "bbfb3adc-3181-45be-b2de-13e1e0c43332",
   "metadata": {},
   "outputs": [
    {
     "data": {
      "text/plain": [
       "9"
      ]
     },
     "execution_count": 117,
     "metadata": {},
     "output_type": "execute_result"
    }
   ],
   "source": [
    "1 + 2 * 4"
   ]
  },
  {
   "cell_type": "code",
   "execution_count": 118,
   "id": "adcd3214-87ca-4d59-9711-9742962718b6",
   "metadata": {},
   "outputs": [
    {
     "data": {
      "text/plain": [
       "12"
      ]
     },
     "execution_count": 118,
     "metadata": {},
     "output_type": "execute_result"
    }
   ],
   "source": [
    "(1 + 2) * 4"
   ]
  },
  {
   "cell_type": "code",
   "execution_count": null,
   "id": "c7029016-6817-4984-98d3-73c0403c381d",
   "metadata": {},
   "outputs": [],
   "source": []
  }
 ],
 "metadata": {
  "kernelspec": {
   "display_name": "Python 3 (ipykernel)",
   "language": "python",
   "name": "python3"
  },
  "language_info": {
   "codemirror_mode": {
    "name": "ipython",
    "version": 3
   },
   "file_extension": ".py",
   "mimetype": "text/x-python",
   "name": "python",
   "nbconvert_exporter": "python",
   "pygments_lexer": "ipython3",
   "version": "3.9.7"
  }
 },
 "nbformat": 4,
 "nbformat_minor": 5
}
