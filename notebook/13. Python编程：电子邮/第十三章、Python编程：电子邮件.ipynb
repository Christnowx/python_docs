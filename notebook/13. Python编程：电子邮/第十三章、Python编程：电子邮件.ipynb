{
 "cells": [
  {
   "cell_type": "markdown",
   "id": "6052f6c1-c359-4286-a100-891310728e9f",
   "metadata": {},
   "source": [
    "# **花卷学Python**\n",
    "---\n",
    "\n",
    "> **我年纪轻轻就学会了Python编程**\n",
    "\n",
    "\n",
    "# **第十三章、Python编程：电子邮件**\n",
    "\n",
    "   - [x] **发送邮件**\n",
    "   - [x] **收取邮件**"
   ]
  },
  {
   "cell_type": "markdown",
   "id": "d4168e97-8e6d-4e19-89cc-902a8459ea25",
   "metadata": {},
   "source": [
    "---"
   ]
  },
  {
   "cell_type": "markdown",
   "id": "53a3ae9c-cff2-4f9a-8ef4-944afea586c7",
   "metadata": {},
   "source": [
    "# **一、发送邮件**\n",
    "\n",
    "--- "
   ]
  },
  {
   "cell_type": "code",
   "execution_count": null,
   "id": "92e4892a-94ad-4d3d-b774-448e1984ec73",
   "metadata": {},
   "outputs": [],
   "source": [
    "import smtplib\n",
    "from email.mime.text import MIMEText\n",
    "from email.header import Header\n",
    " \n",
    "sender = '发送的邮件地址'\n",
    "receivers = ['接收的邮件地址']  # 接收邮件，可设置为你的QQ邮箱或者其他邮箱\n",
    " \n",
    "# 三个参数：第一个为文本内容，第二个 plain 设置文本格式，第三个 utf-8 设置编码\n",
    "message = MIMEText('Python 邮件发送测试...', 'plain', 'utf-8')\n",
    "\n",
    "message['From'] = Header(\"花卷老师\", 'utf-8')   # 发送者\n",
    "\n",
    "message['To'] =  Header(\"学生1号\", 'utf-8')        # 接收者\n",
    " \n",
    "subject = 'Python SMTP 邮件测试'\n",
    "\n",
    "message['Subject'] = Header(subject, 'utf-8')\n",
    " \n",
    "## 可以在自己的邮箱设置中查到\n",
    "smtpObj = smtplib.SMTP(\"smtp.qq.com\", 465)\n",
    "smtpObj.sendmail(sender, receivers, message.as_string())\n",
    "smtpObj.quit()\n",
    "print(\"邮件发送成功\")"
   ]
  },
  {
   "cell_type": "markdown",
   "id": "03081bea-ab23-4b63-b749-a9fccdfa456a",
   "metadata": {},
   "source": [
    "---"
   ]
  },
  {
   "cell_type": "markdown",
   "id": "4edc662d-ed40-485f-92ab-aad53357079c",
   "metadata": {},
   "source": [
    "# **二、接受邮件**"
   ]
  },
  {
   "cell_type": "code",
   "execution_count": null,
   "id": "7dcd54c1-8e0d-4151-b004-a25e02b8146b",
   "metadata": {},
   "outputs": [],
   "source": [
    "import poplib\n",
    "\n",
    "\n",
    "server = poplib.POP3('',465)\n",
    "# 身份认证:\n",
    "server.user('邮箱地址')\n",
    "server.pass_('邮箱密码')\n",
    "\n",
    "# list()返回所有邮件的编号:\n",
    "resp, mails, octets = server.list()\n",
    "\n",
    "# 获取最新一封邮件, 注意索引号从1开始:\n",
    "index = len(mails)\n",
    "resp, lines, octets = server.retr(index)\n",
    "\n",
    "# lines存储了邮件的原始文本的每一行,\n",
    "# 可以获得整个邮件的原始文本:\n",
    "msg_content = b'\\r\\n'.join(lines).decode('utf-8')\n",
    "# 稍后解析出邮件:\n",
    "msg = Parser().parsestr(msg_content)\n",
    "\n",
    "# 可以根据邮件索引号直接从服务器删除邮件:\n",
    "# server.dele(index)\n",
    "# 关闭连接:\n",
    "server.quit()"
   ]
  }
 ],
 "metadata": {
  "kernelspec": {
   "display_name": "Python 3 (ipykernel)",
   "language": "python",
   "name": "python3"
  },
  "language_info": {
   "codemirror_mode": {
    "name": "ipython",
    "version": 3
   },
   "file_extension": ".py",
   "mimetype": "text/x-python",
   "name": "python",
   "nbconvert_exporter": "python",
   "pygments_lexer": "ipython3",
   "version": "3.9.7"
  }
 },
 "nbformat": 4,
 "nbformat_minor": 5
}
