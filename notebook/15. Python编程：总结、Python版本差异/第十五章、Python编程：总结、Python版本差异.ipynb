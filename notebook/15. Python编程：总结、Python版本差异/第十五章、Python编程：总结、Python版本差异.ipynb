{
 "cells": [
  {
   "cell_type": "markdown",
   "id": "b840710d-2975-4fff-8db7-805ff64dc874",
   "metadata": {},
   "source": [
    "# **花卷学Python**\n",
    "---\n",
    "\n",
    "> **我年纪轻轻就学会了Python编程**\n",
    "\n",
    "\n",
    "# **第十五章、Python编程：总结、Python版本差异**\n",
    "\n",
    "   - [x] **总结**\n",
    "   - [x] **Python版本差异**\n"
   ]
  },
  {
   "cell_type": "markdown",
   "id": "ad5809cd-1ef9-43c4-90a3-861fbd2d8658",
   "metadata": {},
   "source": [
    "---"
   ]
  },
  {
   "cell_type": "markdown",
   "id": "3c7c5c3b-68a2-4d2a-aebb-adfebb8eedc8",
   "metadata": {},
   "source": [
    "# **一、Python各版本差异**\n",
    "\n",
    "---\n",
    "\n",
    "Python至今为止有很多版本，有Python2，还有Python3.1-3.10，并没有绝对的要求大家用最新的版本，\n",
    "\n",
    "有些第三方包并不是支持所有的版本，如果需要用就需要根据要求安装适当的版本，\n",
    "\n",
    "我们需要明白大致的版本的差异来选择最适合我们实际开发的版本，\n",
    "\n",
    "当然Anaconda的conda命令可以创建虚拟环境帮助我们实现多版本Python的共存，\n",
    "\n",
    "下面我们来大致梳理：\n",
    "\n",
    "## **Python2.x和Python3.x的差异**"
   ]
  },
  {
   "cell_type": "code",
   "execution_count": 2,
   "id": "d3b6b482-e478-4d8d-84b6-dbe0c8397297",
   "metadata": {},
   "outputs": [
    {
     "ename": "SyntaxError",
     "evalue": "Missing parentheses in call to 'print'. Did you mean print(\"hello world\")? (Temp/ipykernel_12916/2785415748.py, line 3)",
     "output_type": "error",
     "traceback": [
      "\u001b[1;36m  File \u001b[1;32m\"C:\\Users\\DELL\\AppData\\Local\\Temp/ipykernel_12916/2785415748.py\"\u001b[1;36m, line \u001b[1;32m3\u001b[0m\n\u001b[1;33m    print \"hello world\"\u001b[0m\n\u001b[1;37m          ^\u001b[0m\n\u001b[1;31mSyntaxError\u001b[0m\u001b[1;31m:\u001b[0m Missing parentheses in call to 'print'. Did you mean print(\"hello world\")?\n"
     ]
    }
   ],
   "source": [
    "# 2.x，没有括号是一个语句\n",
    "\n",
    "print \"hello world\"\n",
    "\n",
    "# 3.x，有括号是一个函数\n",
    "\n",
    "print(\"hello world\")"
   ]
  },
  {
   "cell_type": "code",
   "execution_count": 1,
   "id": "917b0fed-ec72-434f-a097-0d7eb087dee8",
   "metadata": {},
   "outputs": [
    {
     "data": {
      "text/plain": [
       "0.5"
      ]
     },
     "execution_count": 1,
     "metadata": {},
     "output_type": "execute_result"
    }
   ],
   "source": [
    "# 2.x，整数除法就是整除不输出小数\n",
    "\n",
    "1 / 2\n",
    "\n",
    "# 3.x，整数除法会输出小数位\n",
    "\n",
    "1 / 2"
   ]
  },
  {
   "cell_type": "code",
   "execution_count": null,
   "id": "d9780ed5-21ca-4353-a365-614042fdc7f2",
   "metadata": {},
   "outputs": [],
   "source": [
    "# 2.x，异常：except Exception,e:\n",
    "\n",
    "try:\n",
    "    1 + 2\n",
    "except Exception,e:\n",
    "    pass\n",
    "\n",
    "# 3.x，异常：except Exception as e:\n",
    "\n",
    "try:\n",
    "    1 + 2\n",
    "except Exception as e:\n",
    "    pass"
   ]
  },
  {
   "cell_type": "code",
   "execution_count": null,
   "id": "ebd1d9ce-7758-4532-88ac-6b29075e0ef8",
   "metadata": {},
   "outputs": [],
   "source": [
    "# 2.x，xrange\n",
    "\n",
    "for x in xrange(5)\n",
    "\n",
    "# 3.x，range\n",
    "\n",
    "for x in range(5)"
   ]
  },
  {
   "cell_type": "code",
   "execution_count": 3,
   "id": "d730b044-3fae-4998-9a2c-13c55d952dc7",
   "metadata": {},
   "outputs": [
    {
     "ename": "SyntaxError",
     "evalue": "invalid syntax (Temp/ipykernel_12916/1225093420.py, line 3)",
     "output_type": "error",
     "traceback": [
      "\u001b[1;36m  File \u001b[1;32m\"C:\\Users\\DELL\\AppData\\Local\\Temp/ipykernel_12916/1225093420.py\"\u001b[1;36m, line \u001b[1;32m3\u001b[0m\n\u001b[1;33m    1 <> 2\u001b[0m\n\u001b[1;37m      ^\u001b[0m\n\u001b[1;31mSyntaxError\u001b[0m\u001b[1;31m:\u001b[0m invalid syntax\n"
     ]
    }
   ],
   "source": [
    "# 2.x，不等式：!= 和 <>\n",
    "\n",
    "1 <> 2\n",
    "\n",
    "# 3.x，不等式：!=\n",
    "\n",
    "1 != 2"
   ]
  },
  {
   "cell_type": "markdown",
   "id": "5dd95cf6-faf0-4062-8a5b-c22aeb20cb38",
   "metadata": {},
   "source": [
    "## **Python3.x 与 Python2.x 的许多兼容性设计的功能可以通过 \\_\\_future\\_\\_ 这个包来导入。**"
   ]
  },
  {
   "cell_type": "markdown",
   "id": "7fa9295d-483d-409a-9c20-d1f2b839a1d9",
   "metadata": {},
   "source": [
    "---"
   ]
  },
  {
   "cell_type": "markdown",
   "id": "0d86060b-d902-4db6-b3f4-a6eee3efbc2d",
   "metadata": {},
   "source": [
    "# **二、总结**\n",
    "\n",
    "---\n",
    "\n",
    "## **Python的特点：**\n",
    "\n",
    "- Python是一门面向对象的语言，在Python中一切皆对象\n",
    "\n",
    "- Python是一门解释性语言\n",
    "\n",
    "- Python是一门交互式语言，即其在终端中进行命令编程\n",
    "\n",
    "- Python是一门跨平台的语言【没有操作系统的限制，在任何操作系统上都可以运行Python代码】\n",
    "\n",
    "- Python拥有强大和丰富的库，又被称为胶水语言，能把其他语言（主要c/c++）写的模块很轻松的结合在一起\n",
    "\n",
    "## **Python的优缺点：**\n",
    "\n",
    "## **优点：**\n",
    "\n",
    "- 易于维护和学习\n",
    "\n",
    "- 广泛的标准库【提供了大量的工具】\n",
    "\n",
    "- 可扩展性\n",
    "\n",
    "- Python对于大多数据库都有相应的接口【Mysql、sqlites3、MongoDB、Redis等】\n",
    "\n",
    "- 支持GUI编程【图形化界面】\n",
    "\n",
    "- 语法简单，易于学习\n",
    "\n",
    "## **缺点：**\n",
    "\n",
    "- 和C语言相比较Python的代码运行速度慢\n",
    "\n",
    "- 代码无法加密\n",
    "\n",
    "## **数据分类：**\n",
    "\n",
    "- 可变数据对象：列表（list）和字典（dict）\n",
    "\n",
    "- 不可变数据对象：整型（int）、浮点型（float）、字符串（string）和元组类型（tuple）"
   ]
  },
  {
   "cell_type": "code",
   "execution_count": 4,
   "id": "13e5bdde-7f3c-49ac-b94a-3fabbf0b6e0a",
   "metadata": {},
   "outputs": [
    {
     "name": "stdout",
     "output_type": "stream",
     "text": [
      "The Zen of Python, by Tim Peters\n",
      "\n",
      "Beautiful is better than ugly.\n",
      "Explicit is better than implicit.\n",
      "Simple is better than complex.\n",
      "Complex is better than complicated.\n",
      "Flat is better than nested.\n",
      "Sparse is better than dense.\n",
      "Readability counts.\n",
      "Special cases aren't special enough to break the rules.\n",
      "Although practicality beats purity.\n",
      "Errors should never pass silently.\n",
      "Unless explicitly silenced.\n",
      "In the face of ambiguity, refuse the temptation to guess.\n",
      "There should be one-- and preferably only one --obvious way to do it.\n",
      "Although that way may not be obvious at first unless you're Dutch.\n",
      "Now is better than never.\n",
      "Although never is often better than *right* now.\n",
      "If the implementation is hard to explain, it's a bad idea.\n",
      "If the implementation is easy to explain, it may be a good idea.\n",
      "Namespaces are one honking great idea -- let's do more of those!\n"
     ]
    }
   ],
   "source": [
    "# Python之禅\n",
    "\n",
    "import this"
   ]
  },
  {
   "cell_type": "markdown",
   "id": "35ff76f3-a046-4728-9239-a90c8b2e04ff",
   "metadata": {},
   "source": [
    "美胜于丑。\n",
    "\n",
    "显性比隐性好。\n",
    "\n",
    "简单总比复杂好。\n",
    "\n",
    "复杂总比隐晦好\n",
    "\n",
    "平的比嵌套的好。\n",
    "\n",
    "稀疏比密集好。\n",
    "\n",
    "可读性很重要。\n",
    "\n",
    "特殊情况不足以违反规则。\n",
    "\n",
    "尽管实用胜过纯洁。\n",
    "\n",
    "错误永远不应该悄无声息地过去。\n",
    "\n",
    "除非明确沉默。\n",
    "\n",
    "面对模棱两可的情况，拒绝猜测的诱惑。\n",
    "\n",
    "应该有一种——最好只有一种——显而易见的方法来做到这一点。\n",
    "\n",
    "尽管这种方式一开始可能并不明显，除非你是荷兰人。\n",
    "\n",
    "现在总比没有好。\n",
    "\n",
    "虽然永远不会比现在更好。\n",
    "\n",
    "如果实现很难解释，那就不是个好主意。\n",
    "\n",
    "如果实现很容易解释，这可能是一个好主意。\n",
    "\n",
    "名称空间是一个非常好的主意——让我们做更多的工作吧！"
   ]
  },
  {
   "cell_type": "markdown",
   "id": "85d48b45-f1d6-453b-be9e-428784acb7cf",
   "metadata": {},
   "source": [
    "---"
   ]
  },
  {
   "cell_type": "code",
   "execution_count": null,
   "id": "67c80fc7-88e0-44b4-9d4a-e0cc5d5f229f",
   "metadata": {},
   "outputs": [],
   "source": []
  }
 ],
 "metadata": {
  "kernelspec": {
   "display_name": "Python 3 (ipykernel)",
   "language": "python",
   "name": "python3"
  },
  "language_info": {
   "codemirror_mode": {
    "name": "ipython",
    "version": 3
   },
   "file_extension": ".py",
   "mimetype": "text/x-python",
   "name": "python",
   "nbconvert_exporter": "python",
   "pygments_lexer": "ipython3",
   "version": "3.9.7"
  }
 },
 "nbformat": 4,
 "nbformat_minor": 5
}
