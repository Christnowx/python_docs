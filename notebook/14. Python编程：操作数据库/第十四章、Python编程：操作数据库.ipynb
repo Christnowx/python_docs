{
 "cells": [
  {
   "cell_type": "markdown",
   "id": "c4ab936a-b840-4165-a013-1f04b11e2f24",
   "metadata": {},
   "source": [
    "# **花卷学Python**\n",
    "---\n",
    "\n",
    "> **我年纪轻轻就学会了Python编程**\n",
    "\n",
    "\n",
    "# **第十四章、Python编程：操作数据库**\n",
    "\n",
    "   - [x] **sqlite**\n",
    "   - [x] **msyql**\n",
    "\n"
   ]
  },
  {
   "cell_type": "markdown",
   "id": "45f78fa4-f1e7-467e-93e7-bba588f0cdc7",
   "metadata": {},
   "source": [
    "---"
   ]
  },
  {
   "cell_type": "markdown",
   "id": "71e8585a-fa0b-4adb-bf32-2fd48235e7ff",
   "metadata": {},
   "source": [
    "# **一、sqlite**\n",
    "\n",
    "---\n",
    "\n",
    "SQLite是一种嵌入式数据库，它的数据库就是一个文件。由于SQLite本身是C写的，而且体积很小，所以，经常被集成到各种应用程序中，甚至在iOS和Android的App中都可以集成。\n",
    "\n",
    "Python就内置了SQLite3，所以，在Python中使用SQLite，不需要安装任何东西，直接使用。\n",
    "\n",
    "在使用SQLite前，我们先要搞清楚几个概念：\n",
    "\n",
    "表是数据库中存放关系数据的集合，一个数据库里面通常都包含多个表，比如学生的表，班级的表，学校的表，等等。表和表之间通过外键关联。\n",
    "\n",
    "要操作关系数据库，首先需要连接到数据库，一个数据库连接称为Connection；\n",
    "\n",
    "连接到数据库后，需要打开游标，称之为Cursor，通过Cursor执行SQL语句，然后，获得执行结果。\n",
    "\n",
    "Python定义了一套操作数据库的API接口，任何数据库要连接到Python，只需要提供符合Python标准的数据库驱动即可。\n",
    "\n",
    "由于SQLite的驱动内置在Python标准库中，所以我们可以直接来操作SQLite数据库。"
   ]
  },
  {
   "cell_type": "code",
   "execution_count": 4,
   "id": "b0a5980b-0a7b-4511-a218-f6a38151e853",
   "metadata": {},
   "outputs": [],
   "source": [
    "import sqlite3"
   ]
  },
  {
   "cell_type": "code",
   "execution_count": 5,
   "id": "e50ba8f8-d8d1-42c0-b266-5ea32e89486b",
   "metadata": {},
   "outputs": [],
   "source": [
    "conn = sqlite3.connect('test.db')\n",
    "# 创建一个Cursor:\n",
    "cursor = conn.cursor()\n",
    "# 执行一条SQL语句，创建user表:\n",
    "cursor.execute('create table user (id varchar(20) primary key, name varchar(20))')\n",
    "\n",
    "# 继续执行一条SQL语句，插入一条记录:\n",
    "cursor.execute(f\"\"\"insert into user (id, name) values ('1', 'name1')\"\"\")\n",
    "cursor.execute(f\"\"\"insert into user (id, name) values ('2', 'name2')\"\"\")\n",
    "\n",
    "# 提交事务:\n",
    "conn.commit()\n",
    "\n",
    "# 关闭Cursor:\n",
    "cursor.close()\n",
    "\n",
    "# 关闭Connection:\n",
    "conn.close()"
   ]
  },
  {
   "cell_type": "code",
   "execution_count": 6,
   "id": "a8288a02-dfba-4fa7-9fda-427b97800faf",
   "metadata": {},
   "outputs": [
    {
     "name": "stdout",
     "output_type": "stream",
     "text": [
      "[('1', 'name1'), ('2', 'name2')]\n"
     ]
    }
   ],
   "source": [
    "### 查询上述插入的数据\n",
    "\n",
    "conn = sqlite3.connect('test.db')\n",
    "cursor = conn.cursor()\n",
    "\n",
    "# 执行查询语句:\n",
    "cursor.execute('select * from user;')\n",
    "\n",
    "# 获得查询结果集:\n",
    "values = cursor.fetchall()\n",
    "print(values)\n",
    "\n",
    "cursor.close()\n",
    "conn.close()"
   ]
  },
  {
   "cell_type": "markdown",
   "id": "bc769719-b61c-4ee9-9755-f4e0cad884a9",
   "metadata": {},
   "source": [
    "---"
   ]
  },
  {
   "cell_type": "markdown",
   "id": "88e3d78b-2ad8-4282-b3b5-bccd3ed4d96b",
   "metadata": {},
   "source": [
    "# **二、mysql**\n",
    "\n",
    "---\n",
    "\n",
    "MySQL是Web世界中使用最广泛的数据库服务器。SQLite的特点是轻量级、可嵌入，但不能承受高并发访问，适合桌面和移动应用。而MySQL是为服务器端设计的数据库，能承受高并发访问，同时占用的内存也远远大于SQLite。\n",
    "\n",
    "此外，MySQL内部有多种数据库引擎，最常用的引擎是支持数据库事务的InnoDB。\n",
    "\n",
    "pymysql模块可以在python种链接MySql数据库，并实现对数据的操作。\n",
    "\n",
    "## **安装**\n",
    "\n",
    "- **`pip install pymysql`**\n",
    "\n",
    "## **连接**\n",
    "\n",
    "```python\n",
    "\n",
    "import pymysql\n",
    "\n",
    "conn=pymysql.connect( host=\"地址\",port=3306,user=\"用户名\",password=\"密码\",charset='utf8',)#连接数据库\n",
    "\n",
    "```"
   ]
  },
  {
   "cell_type": "code",
   "execution_count": 10,
   "id": "e5e348a4-ea40-4850-8a67-e098095815d9",
   "metadata": {},
   "outputs": [],
   "source": [
    "import pymysql\n",
    "\n",
    "con = pymysql.connect(\n",
    "    host=\"127.0.0.1\",\n",
    "    port=3306,\n",
    "    user=\"root\",\n",
    "    password=\"123456\",\n",
    "    charset='utf8'\n",
    ")#连接数据库\n",
    "cur = conn.cursor()"
   ]
  },
  {
   "cell_type": "code",
   "execution_count": 11,
   "id": "1c74c2e0-588f-41fb-afa3-fa3fac3e0928",
   "metadata": {},
   "outputs": [
    {
     "data": {
      "text/plain": [
       "1"
      ]
     },
     "execution_count": 11,
     "metadata": {},
     "output_type": "execute_result"
    }
   ],
   "source": [
    "cur.execute(\"create database testing;\")"
   ]
  },
  {
   "cell_type": "code",
   "execution_count": 15,
   "id": "e72bf8be-1b0d-422e-a822-1317aeeaee9a",
   "metadata": {},
   "outputs": [],
   "source": [
    "sql = f'''\n",
    "    Create Table If Not Exists `testing`.`user`(\\\n",
    "      `id` INTEGER PRIMARY KEY AUTO_INCREMENT, \\\n",
    "      name VARCHAR(100), \\\n",
    "      value VARCHAR(30) \\\n",
    "      ) character set utf8;\n",
    "'''\n",
    "cur.execute(sql)\n",
    "con.commit()"
   ]
  },
  {
   "cell_type": "code",
   "execution_count": 17,
   "id": "24ff87a7-a1aa-440a-8bb8-c4878cecec76",
   "metadata": {},
   "outputs": [],
   "source": [
    "sql = f\"\"\"\n",
    "    insert into `testing`.`user` \\\n",
    "    (name,value) values \\\n",
    "    ('name1','10');\n",
    "\"\"\"\n",
    "cur.execute(sql)\n",
    "con.commit()"
   ]
  },
  {
   "cell_type": "code",
   "execution_count": 19,
   "id": "53ffdf9d-1bf7-4147-a7fd-489782be28a3",
   "metadata": {},
   "outputs": [],
   "source": [
    "sql = f\"\"\"\n",
    "    insert into `testing`.`user` \\\n",
    "    (name,value) values \\\n",
    "    ('name2','20');\n",
    "\"\"\"\n",
    "cur.execute(sql)\n",
    "con.commit()"
   ]
  },
  {
   "cell_type": "code",
   "execution_count": 20,
   "id": "80638084-e0f5-4069-8e96-380f80d747c6",
   "metadata": {},
   "outputs": [
    {
     "data": {
      "text/plain": [
       "((1, 'name1', '10'), (2, 'name1', '10'), (3, 'name2', '20'))"
      ]
     },
     "execution_count": 20,
     "metadata": {},
     "output_type": "execute_result"
    }
   ],
   "source": [
    "sql = f\"\"\"\n",
    "    select * from `testing`.`user`;\\\n",
    "\"\"\"\n",
    "cur.execute(sql)\n",
    "cur.fetchall()"
   ]
  },
  {
   "cell_type": "code",
   "execution_count": 21,
   "id": "91ccf71a-ac1b-47e0-82d1-fd5ffcc21ca3",
   "metadata": {},
   "outputs": [],
   "source": [
    "sql = f\"\"\"\n",
    "    delete from `testing`.`user` where name='name2';\\\n",
    "\"\"\"\n",
    "cur.execute(sql)\n",
    "con.commit()"
   ]
  },
  {
   "cell_type": "code",
   "execution_count": 22,
   "id": "94fc2730-6f8d-4105-ba79-4940eaf0e609",
   "metadata": {},
   "outputs": [
    {
     "data": {
      "text/plain": [
       "((1, 'name1', '10'), (2, 'name1', '10'))"
      ]
     },
     "execution_count": 22,
     "metadata": {},
     "output_type": "execute_result"
    }
   ],
   "source": [
    "sql = f\"\"\"\n",
    "    select * from `testing`.`user`;\\\n",
    "\"\"\"\n",
    "cur.execute(sql)\n",
    "cur.fetchall()"
   ]
  },
  {
   "cell_type": "code",
   "execution_count": null,
   "id": "57f4abc7-b3f6-4f52-bdde-abbc5c2a6590",
   "metadata": {},
   "outputs": [],
   "source": []
  }
 ],
 "metadata": {
  "kernelspec": {
   "display_name": "Python 3 (ipykernel)",
   "language": "python",
   "name": "python3"
  },
  "language_info": {
   "codemirror_mode": {
    "name": "ipython",
    "version": 3
   },
   "file_extension": ".py",
   "mimetype": "text/x-python",
   "name": "python",
   "nbconvert_exporter": "python",
   "pygments_lexer": "ipython3",
   "version": "3.9.7"
  }
 },
 "nbformat": 4,
 "nbformat_minor": 5
}
