{
 "cells": [
  {
   "cell_type": "markdown",
   "id": "4785dfb0-3a39-4de8-9d08-46c37d35dc06",
   "metadata": {},
   "source": [
    "# **花卷学Python**\n",
    "---\n",
    "\n",
    "> **我年纪轻轻就学会了Python编程**\n",
    "\n",
    "\n",
    "# **第九章、Python编程：IO编程**\n",
    "\n",
    "\n",
    " - [x] **文件读写**\n",
    " - [x] **with-as上下文管理器**\n",
    " - [x] **StringIO和BytesIO**\n",
    " - [x] **操作文件和目录：os.path和pathlib**\n",
    " - [x] **序列化**\n",
    "\n",
    "\n",
    "**IO在计算机中指Input/Output，也就是输入和输出。一般就是编程语言对于文件的操作**"
   ]
  },
  {
   "cell_type": "markdown",
   "id": "ac1e8bd4-a17e-465c-acd9-836ff342bd34",
   "metadata": {},
   "source": [
    "---"
   ]
  },
  {
   "cell_type": "markdown",
   "id": "1b58aa5f-6416-4968-b98a-d8c78ff1a4ff",
   "metadata": {},
   "source": [
    "# **一、文件读写**\n",
    "\n",
    "---\n",
    "\n",
    "读写文件是最常见的IO操作。Python内置了读写文件的函数：`open`，\n",
    "\n",
    "读写文件前，我们先必须了解一下，在磁盘上读写文件的功能都是由操作系统提供的，现代操作系统不允许普通的程序直接操作磁盘，\n",
    "\n",
    "所以，读写文件就是请求操作系统打开一个文件对象（通常称为文件描述符），\n",
    "\n",
    "然后，通过操作系统提供的接口从这个文件对象中读取数据（读文件），或者把数据写入这个文件对象（写文件）。\n",
    "\n",
    "常用语法：\n",
    "\n",
    "```python\n",
    "\n",
    "f = open('your_file_path', '读写模式', encoding = '文件编码：一般是utf-8')\n",
    "\n",
    "f.read()：读文件\n",
    "\n",
    "f.write(\"line\")：写文件\n",
    "\n",
    "f.close()：关闭文件\n",
    "```\n",
    "\n",
    "## **读取文件**"
   ]
  },
  {
   "cell_type": "code",
   "execution_count": 2,
   "id": "054bafc0-e179-43c6-8fb2-a0a6c2a1441e",
   "metadata": {},
   "outputs": [
    {
     "data": {
      "text/plain": [
       "'这是一个测试文件'"
      ]
     },
     "execution_count": 2,
     "metadata": {},
     "output_type": "execute_result"
    }
   ],
   "source": [
    "f = open('./examples/1.txt','r',encoding='utf-8')\n",
    "f.read()"
   ]
  },
  {
   "cell_type": "code",
   "execution_count": 3,
   "id": "bf3258a3-c46c-43f4-8994-45bc6b7769a3",
   "metadata": {},
   "outputs": [],
   "source": [
    "f.close()"
   ]
  },
  {
   "cell_type": "markdown",
   "id": "2674665f-4fd2-410c-a39a-19b5f1f48aff",
   "metadata": {},
   "source": [
    "## **写文件**"
   ]
  },
  {
   "cell_type": "code",
   "execution_count": 4,
   "id": "2d8ec143-6309-4529-996d-7152b49d20ca",
   "metadata": {},
   "outputs": [],
   "source": [
    "f = open('./examples/2.txt','w',encoding='utf-8')\n",
    "f.write('这是第二个测试文件')\n",
    "f.close()"
   ]
  },
  {
   "cell_type": "code",
   "execution_count": 5,
   "id": "b2017b22-313f-4f78-9912-8daf758f3c91",
   "metadata": {},
   "outputs": [
    {
     "name": "stdout",
     "output_type": "stream",
     "text": [
      "这是第二个测试文件\n"
     ]
    }
   ],
   "source": [
    "f = open('./examples/2.txt','r',encoding='utf-8')\n",
    "print(f.read())\n",
    "f.close()"
   ]
  },
  {
   "cell_type": "markdown",
   "id": "4520ffc0-7489-4909-99d7-b2efec8a592a",
   "metadata": {},
   "source": [
    "## **读取文件多行**\n",
    "\n",
    "- read()：一行一行读取\n",
    "- readlines()：读取所有行"
   ]
  },
  {
   "cell_type": "code",
   "execution_count": 9,
   "id": "5349c21d-137c-4ce5-a04a-bbd259d22305",
   "metadata": {},
   "outputs": [],
   "source": [
    "f = open('./examples/3.txt','w',encoding='utf-8')\n",
    "f.write('这是第三个测试文件第一行\\n')\n",
    "f.write('这是第三个测试文件第二行')\n",
    "f.close()"
   ]
  },
  {
   "cell_type": "code",
   "execution_count": 10,
   "id": "43a09f5e-b027-49d6-87f7-d041119eb555",
   "metadata": {},
   "outputs": [
    {
     "name": "stdout",
     "output_type": "stream",
     "text": [
      "这是第三个测试文件第一行\n",
      "这是第三个测试文件第二行\n"
     ]
    }
   ],
   "source": [
    "f = open('./examples/3.txt','r',encoding='utf-8')\n",
    "print(f.read())\n",
    "f.close()"
   ]
  },
  {
   "cell_type": "code",
   "execution_count": 11,
   "id": "49e4de1e-12e1-4229-b876-01ed638b0b36",
   "metadata": {},
   "outputs": [
    {
     "name": "stdout",
     "output_type": "stream",
     "text": [
      "['这是第三个测试文件第一行\\n', '这是第三个测试文件第二行']\n"
     ]
    }
   ],
   "source": [
    "f = open('./examples/3.txt','r',encoding='utf-8')\n",
    "print(f.readlines())\n",
    "f.close()"
   ]
  },
  {
   "cell_type": "code",
   "execution_count": 13,
   "id": "378c5348-dcf8-4766-850c-ea81e52afab4",
   "metadata": {},
   "outputs": [
    {
     "name": "stdout",
     "output_type": "stream",
     "text": [
      "这是第三个测试文件第一行\n",
      "\n",
      "这是第三个测试文件第二行\n"
     ]
    }
   ],
   "source": [
    "f = open('./examples/3.txt','r',encoding='utf-8')\n",
    "for x in f.readlines():\n",
    "    print(x)\n",
    "f.close()"
   ]
  },
  {
   "cell_type": "markdown",
   "id": "dbdd1328-63b6-46b0-b6aa-9f104de002fe",
   "metadata": {},
   "source": [
    "## **去除每一行末尾的换行符：strip()**"
   ]
  },
  {
   "cell_type": "code",
   "execution_count": 14,
   "id": "12b60b2b-0445-4c11-a001-2f18b4f28c9f",
   "metadata": {},
   "outputs": [
    {
     "name": "stdout",
     "output_type": "stream",
     "text": [
      "['这是第三个测试文件第一行', '这是第三个测试文件第二行']\n"
     ]
    }
   ],
   "source": [
    "f = open('./examples/3.txt','r',encoding='utf-8')\n",
    "res = [x.strip() for x in f.readlines()]\n",
    "print(res)\n",
    "f.close()"
   ]
  },
  {
   "cell_type": "markdown",
   "id": "0ed1e262-462f-4fc7-a9b6-abbe3c2aaaee",
   "metadata": {},
   "source": [
    "## **open文件的模式组合**\n",
    "\n",
    "### **文件格式**\n",
    "\n",
    "- **t：以文本格式打开文件（默认）。一般用于文本文件，如：txt。**\n",
    "- **b：以二进制格式打开文件。一般用于非文本文件，如：图片。**\n",
    "\n",
    "\n",
    "**这一类参数可以与其它的模式参数组合使用，用于指定打开文件的格式。**\n",
    "\n",
    "\n",
    "### **读写格式**\n",
    "\n",
    "- **r：以只读方式打开文件（默认模式）。文件指针定位在文件头的位置。如果文件不存在会报错。**\n",
    "- **w：以只写方式打开文件。如果文件存在，则打开文件，清空文件内容，从文件头开始编辑；如果文件不存在，则创建新文件，打开编辑。**\n",
    "- **a：以追加方式打开文件，同样是只写，不允许进行读操作。如果文件存在，则打开文件，将文件指针定位到文件尾。因此，新的内容是追加在已有内容之后。如果文件不存在，则创建新文件进行写入。**\n",
    "- **+：打开一个文件进行更新（可读写）。注意：该模式不能单独使用，需要与r/w/a组合使用。文件指针的位置取决于另一个组合参数**\n",
    "\n",
    "\n",
    "### **组合格式**\n",
    "\n",
    "- **r+：打开一个文件用于读写。如果文件存在，则打开文件，将文件指针定位在文件头，新写入的内容在原有内容的前面；如果文件不存在会报错。**\n",
    "- **w+：打开一个文件用于读写。如果文件存在，则打开文件，清空原有内容，进入编辑模式；如果文件不存在，则创建一个新文件进行读写操作。**\n",
    "- **a+：以追加模式打开一个文件用于读写。如果文件存在，则打开文件，将文件指针定位在文件尾，新写入的内容在原有内容的后面；如果文件不存在，则创建一个新文件用于读写。**\n",
    "\n",
    "\n",
    "**所有上面这些模式默认都是t——文本模式，如果要以二进制模式打开，需要加上参数b，如：rb、rb+、wb、wb+、ab、ab+。**\n",
    "\n",
    "### **常用文件编码**\n",
    "\n",
    "- **utf-8：unicode，最常用**\n",
    "- **gbk：汉字扩展**\n",
    "- **b：二进制**\n",
    "\n",
    "\n",
    "**需要注意：文件是什么编码就必须要什么编码打开，否则会乱码**\n",
    "\n",
    "\n",
    "## **Python自动检测文件编码**"
   ]
  },
  {
   "cell_type": "code",
   "execution_count": 16,
   "id": "e3df507b-ed7d-4fa9-8391-453db1f2ef5f",
   "metadata": {},
   "outputs": [
    {
     "ename": "UnicodeDecodeError",
     "evalue": "'utf-8' codec can't decode byte 0xd5 in position 0: invalid continuation byte",
     "output_type": "error",
     "traceback": [
      "\u001b[1;31m---------------------------------------------------------------------------\u001b[0m",
      "\u001b[1;31mUnicodeDecodeError\u001b[0m                        Traceback (most recent call last)",
      "\u001b[1;32m~\\AppData\\Local\\Temp/ipykernel_6052/1119216069.py\u001b[0m in \u001b[0;36m<module>\u001b[1;34m\u001b[0m\n\u001b[0;32m      1\u001b[0m \u001b[0mf\u001b[0m\u001b[1;33m=\u001b[0m \u001b[0mopen\u001b[0m\u001b[1;33m(\u001b[0m\u001b[1;34m'./examples/4.txt'\u001b[0m\u001b[1;33m,\u001b[0m \u001b[1;34m'r'\u001b[0m\u001b[1;33m,\u001b[0m\u001b[0mencoding\u001b[0m\u001b[1;33m=\u001b[0m\u001b[1;34m'utf-8'\u001b[0m\u001b[1;33m)\u001b[0m\u001b[1;33m\u001b[0m\u001b[1;33m\u001b[0m\u001b[0m\n\u001b[1;32m----> 2\u001b[1;33m \u001b[0mtext\u001b[0m \u001b[1;33m=\u001b[0m \u001b[0mf\u001b[0m\u001b[1;33m.\u001b[0m\u001b[0mread\u001b[0m\u001b[1;33m(\u001b[0m\u001b[1;33m)\u001b[0m\u001b[1;33m\u001b[0m\u001b[1;33m\u001b[0m\u001b[0m\n\u001b[0m\u001b[0;32m      3\u001b[0m \u001b[0mf\u001b[0m\u001b[1;33m.\u001b[0m\u001b[0mclose\u001b[0m\u001b[1;33m(\u001b[0m\u001b[1;33m)\u001b[0m\u001b[1;33m\u001b[0m\u001b[1;33m\u001b[0m\u001b[0m\n\u001b[0;32m      4\u001b[0m \u001b[0mprint\u001b[0m\u001b[1;33m(\u001b[0m\u001b[0mtext\u001b[0m\u001b[1;33m)\u001b[0m\u001b[1;33m\u001b[0m\u001b[1;33m\u001b[0m\u001b[0m\n",
      "\u001b[1;32mD:\\anaconda\\lib\\codecs.py\u001b[0m in \u001b[0;36mdecode\u001b[1;34m(self, input, final)\u001b[0m\n\u001b[0;32m    320\u001b[0m         \u001b[1;31m# decode input (taking the buffer into account)\u001b[0m\u001b[1;33m\u001b[0m\u001b[1;33m\u001b[0m\u001b[0m\n\u001b[0;32m    321\u001b[0m         \u001b[0mdata\u001b[0m \u001b[1;33m=\u001b[0m \u001b[0mself\u001b[0m\u001b[1;33m.\u001b[0m\u001b[0mbuffer\u001b[0m \u001b[1;33m+\u001b[0m \u001b[0minput\u001b[0m\u001b[1;33m\u001b[0m\u001b[1;33m\u001b[0m\u001b[0m\n\u001b[1;32m--> 322\u001b[1;33m         \u001b[1;33m(\u001b[0m\u001b[0mresult\u001b[0m\u001b[1;33m,\u001b[0m \u001b[0mconsumed\u001b[0m\u001b[1;33m)\u001b[0m \u001b[1;33m=\u001b[0m \u001b[0mself\u001b[0m\u001b[1;33m.\u001b[0m\u001b[0m_buffer_decode\u001b[0m\u001b[1;33m(\u001b[0m\u001b[0mdata\u001b[0m\u001b[1;33m,\u001b[0m \u001b[0mself\u001b[0m\u001b[1;33m.\u001b[0m\u001b[0merrors\u001b[0m\u001b[1;33m,\u001b[0m \u001b[0mfinal\u001b[0m\u001b[1;33m)\u001b[0m\u001b[1;33m\u001b[0m\u001b[1;33m\u001b[0m\u001b[0m\n\u001b[0m\u001b[0;32m    323\u001b[0m         \u001b[1;31m# keep undecoded input until the next call\u001b[0m\u001b[1;33m\u001b[0m\u001b[1;33m\u001b[0m\u001b[0m\n\u001b[0;32m    324\u001b[0m         \u001b[0mself\u001b[0m\u001b[1;33m.\u001b[0m\u001b[0mbuffer\u001b[0m \u001b[1;33m=\u001b[0m \u001b[0mdata\u001b[0m\u001b[1;33m[\u001b[0m\u001b[0mconsumed\u001b[0m\u001b[1;33m:\u001b[0m\u001b[1;33m]\u001b[0m\u001b[1;33m\u001b[0m\u001b[1;33m\u001b[0m\u001b[0m\n",
      "\u001b[1;31mUnicodeDecodeError\u001b[0m: 'utf-8' codec can't decode byte 0xd5 in position 0: invalid continuation byte"
     ]
    }
   ],
   "source": [
    "f= open('./examples/4.txt', 'r',encoding='utf-8')\n",
    "text = f.read()\n",
    "f.close()\n",
    "print(text)"
   ]
  },
  {
   "cell_type": "code",
   "execution_count": 17,
   "id": "40ff90a2-e33b-493e-bc4d-338bb0071fab",
   "metadata": {},
   "outputs": [
    {
     "name": "stdout",
     "output_type": "stream",
     "text": [
      "{'encoding': 'GB2312', 'confidence': 0.99, 'language': 'Chinese'}\n"
     ]
    }
   ],
   "source": [
    "import chardet\n",
    "\n",
    "f= open('./examples/4.txt', 'rb')\n",
    "text = f.read()\n",
    "print(chardet.detect(text))\n",
    "f.close()"
   ]
  },
  {
   "cell_type": "code",
   "execution_count": 18,
   "id": "5931d542-e1b6-4c7f-9298-d3a8e298e92e",
   "metadata": {},
   "outputs": [
    {
     "name": "stdout",
     "output_type": "stream",
     "text": [
      "这是一个测试编码文件\n"
     ]
    }
   ],
   "source": [
    "f= open('./examples/4.txt', 'r',encoding='GB2312')\n",
    "text = f.read()\n",
    "f.close()\n",
    "print(text)"
   ]
  },
  {
   "cell_type": "markdown",
   "id": "83f54877-1181-4cb0-a3b6-895ee22bc12b",
   "metadata": {},
   "source": [
    "## **追加模式不清空文件**\n",
    "\n",
    "正常的写：`w`模式打开一个已经存在的文件会把该文件清空，这时候使用追加：`a`，则可以打开该文件不清空"
   ]
  },
  {
   "cell_type": "code",
   "execution_count": 25,
   "id": "60dbe9ca-cef6-46b9-97bd-2c8ceb2f765f",
   "metadata": {},
   "outputs": [],
   "source": [
    "f= open('./examples/5.txt', 'w',encoding='utf-8')\n",
    "f.write('lines')\n",
    "f.close()"
   ]
  },
  {
   "cell_type": "code",
   "execution_count": 26,
   "id": "90c0d755-5e56-46d8-ae60-9a912438c491",
   "metadata": {},
   "outputs": [
    {
     "name": "stdout",
     "output_type": "stream",
     "text": [
      "lines\n"
     ]
    }
   ],
   "source": [
    "f= open('./examples/5.txt', 'r',encoding='utf-8')\n",
    "print(f.read())\n",
    "f.close()"
   ]
  },
  {
   "cell_type": "code",
   "execution_count": 27,
   "id": "0dc2f6c4-b7ff-4af9-a661-6869778aab62",
   "metadata": {},
   "outputs": [],
   "source": [
    "f= open('./examples/5.txt', 'w',encoding='utf-8')\n",
    "f.write('new lines')\n",
    "f.close()"
   ]
  },
  {
   "cell_type": "code",
   "execution_count": 28,
   "id": "9b133de7-454a-4ffe-977a-5de4c643e4d5",
   "metadata": {},
   "outputs": [
    {
     "name": "stdout",
     "output_type": "stream",
     "text": [
      "new lines\n"
     ]
    }
   ],
   "source": [
    "f= open('./examples/5.txt', 'r',encoding='utf-8')\n",
    "print(f.read())\n",
    "f.close()"
   ]
  },
  {
   "cell_type": "code",
   "execution_count": 29,
   "id": "fc969755-8ee2-4491-b754-a4dfaf079d1f",
   "metadata": {},
   "outputs": [],
   "source": [
    "f= open('./examples/5.txt', 'a',encoding='utf-8')\n",
    "f.write('\\nnew new lines')\n",
    "f.close()"
   ]
  },
  {
   "cell_type": "code",
   "execution_count": 30,
   "id": "1af3c5ea-9ebf-47db-b6d0-87b9d3351d0c",
   "metadata": {},
   "outputs": [
    {
     "name": "stdout",
     "output_type": "stream",
     "text": [
      "new lines\n",
      "new new lines\n"
     ]
    }
   ],
   "source": [
    "f= open('./examples/5.txt', 'r',encoding='utf-8')\n",
    "print(f.read())\n",
    "f.close()"
   ]
  },
  {
   "cell_type": "markdown",
   "id": "b139c61d-a9df-4bc0-9f0c-95d388326dac",
   "metadata": {},
   "source": [
    "## **以二进制打开文件，使用encode和decode编码转换**"
   ]
  },
  {
   "cell_type": "code",
   "execution_count": 37,
   "id": "a4a5503b-29c8-4c96-b8df-30adc6dbea4d",
   "metadata": {},
   "outputs": [],
   "source": [
    "f= open('./examples/6.txt', 'w',encoding='utf-8')\n",
    "f.write('我是第六个文件')\n",
    "f.close()"
   ]
  },
  {
   "cell_type": "code",
   "execution_count": 38,
   "id": "c0afb136-2f92-4a6d-b617-9f2cd8bce468",
   "metadata": {},
   "outputs": [
    {
     "name": "stdout",
     "output_type": "stream",
     "text": [
      "b'\\xe6\\x88\\x91\\xe6\\x98\\xaf\\xe7\\xac\\xac\\xe5\\x85\\xad\\xe4\\xb8\\xaa\\xe6\\x96\\x87\\xe4\\xbb\\xb6'\n"
     ]
    }
   ],
   "source": [
    "f= open('./examples/6.txt', 'rb')\n",
    "print(f.read())\n",
    "f.close()"
   ]
  },
  {
   "cell_type": "code",
   "execution_count": 41,
   "id": "c1723826-42f0-405d-904d-5ec46c3d0b37",
   "metadata": {},
   "outputs": [
    {
     "name": "stdout",
     "output_type": "stream",
     "text": [
      "我是第六个文件\n"
     ]
    }
   ],
   "source": [
    "f= open('./examples/6.txt', 'rb')\n",
    "text = f.read()\n",
    "text = text.decode('utf-8')\n",
    "f.close()\n",
    "print(text)"
   ]
  },
  {
   "cell_type": "markdown",
   "id": "92a416f2-07fe-4e82-aa78-fe2460835f0a",
   "metadata": {},
   "source": [
    "---"
   ]
  },
  {
   "cell_type": "markdown",
   "id": "13333c67-8444-4f7c-aba9-0333051b109a",
   "metadata": {},
   "source": [
    "# **二、with-as上下文管理器**\n",
    "\n",
    "---\n",
    "\n",
    "像上文每次open文件都需要close，这样太繁琐了，Python提供：with...as:帮助我们自动调用close，即为：Python上下文管理\n",
    "\n",
    "```python\n",
    "\n",
    "with open('./examples/6.txt', 'r', encoding='utf-8') as f:\n",
    "    text = [x.strip() for x in f]\n",
    "\n",
    "```"
   ]
  },
  {
   "cell_type": "code",
   "execution_count": 42,
   "id": "1c97fc42-9720-4d56-b329-043c7ccebce5",
   "metadata": {},
   "outputs": [
    {
     "name": "stdout",
     "output_type": "stream",
     "text": [
      "['我是第六个文件']\n"
     ]
    }
   ],
   "source": [
    "with open('./examples/6.txt', 'r', encoding='utf-8') as f:\n",
    "    text = [x.strip() for x in f]\n",
    "\n",
    "print(text)"
   ]
  },
  {
   "cell_type": "markdown",
   "id": "e4ed0413-4fa7-4e0e-9e43-3c3ce774873d",
   "metadata": {},
   "source": [
    "## **拓展1：自己实现with...as:功能**\n",
    "\n",
    "这里联系到我们之前介绍的类的魔法方法，当一个类实现：`__enter__`和`__exit__`两个方法就可以实现with...as:功能"
   ]
  },
  {
   "cell_type": "code",
   "execution_count": 43,
   "id": "ded6c16b-c605-4e21-bb03-ab05c7d959b9",
   "metadata": {},
   "outputs": [
    {
     "name": "stdout",
     "output_type": "stream",
     "text": [
      "['我是第六个文件']\n"
     ]
    }
   ],
   "source": [
    "class myopen:\n",
    "    def __init__(self,filepath,mode='r',encoding='utf-8'):\n",
    "        self.filepath=filepath\n",
    "        self.mode=mode\n",
    "        self.encoding=encoding\n",
    "\n",
    "    def __enter__(self):\n",
    "        # print('enter')\n",
    "        self.f=open(self.filepath,mode=self.mode,encoding=self.encoding)\n",
    "        return self.f\n",
    "\n",
    "    def __exit__(self, exc_type, exc_val, exc_tb):\n",
    "        # print('exit')\n",
    "        self.f.close()\n",
    "\n",
    "with myopen('./examples/6.txt', 'r', encoding='utf-8') as f:\n",
    "    text = [x.strip() for x in f]\n",
    "\n",
    "print(text)        \n",
    "        \n"
   ]
  },
  {
   "cell_type": "markdown",
   "id": "26e0adf4-7cd6-44c3-9fa1-1e6de3f43c03",
   "metadata": {},
   "source": [
    "## **拓展1：读取超大型文件**\n",
    "\n",
    "注意到，由于当今社会的数据量越来越大，很多时候比如一个text文件很大，直接打开会出现系统内存报错，这时候我们应该怎么读取呢？\n",
    "\n",
    "这种时候我们就需要用到Python的生成器功能，回顾一下：生成器到使用时才能产生具体数值\n",
    "\n",
    "假如我们有个文件：`7.txt` 非常大"
   ]
  },
  {
   "cell_type": "code",
   "execution_count": 45,
   "id": "2aad0f7e-8f2c-41e5-977f-d548d544e4aa",
   "metadata": {},
   "outputs": [],
   "source": [
    "\"\"\"\n",
    "直接open会报错\n",
    "\"\"\"\n",
    "\n",
    "\n",
    "with open('./examples/7.txt', 'r', encoding='utf-8') as f:\n",
    "    text = [x.strip() for x in f]\n",
    "\n",
    "print(text)\n",
    "\n"
   ]
  },
  {
   "cell_type": "code",
   "execution_count": null,
   "id": "e4e82071-dfcb-4240-bbc4-32f1f52053ab",
   "metadata": {},
   "outputs": [],
   "source": [
    "\"\"\"\n",
    "使用生成器就可以读取\n",
    "\"\"\"\n",
    "\n",
    "import traceback\n",
    "\n",
    "class ReadBigFile():\n",
    "\n",
    "    def __init__(self,file):\n",
    "\n",
    "        self.file=file\n",
    "\n",
    "    def __iter__(self):\n",
    "\n",
    "        try:\n",
    "            with open(self.file,'r',encoding='utf-8') as f:\n",
    "                for i,j in enumerate(f):\n",
    "                    yield j.strip()\n",
    "        except Exception:\n",
    "            traceback.print_exc()\n",
    "            \n",
    "            \n",
    "for line in ReadBigFile('./examples/7.txt'):\n",
    "    print(line)\n",
    "    break"
   ]
  },
  {
   "cell_type": "markdown",
   "id": "031494b7-0062-4a1f-9e45-f3d793558beb",
   "metadata": {},
   "source": [
    "---"
   ]
  },
  {
   "cell_type": "markdown",
   "id": "23d82d67-a164-406d-b93a-eee72446b87a",
   "metadata": {},
   "source": [
    "# **三、StringIO和BytesIO**\n",
    "\n",
    "---\n",
    "\n",
    "很多时候，数据读写不一定是文件类型，还有可能是内存中读写，这时候就要用到两个函数：StringIO和BytesIO\n",
    "\n",
    "- **StringIO：内存读写str**\n",
    "\n",
    "- **BytesIO：内存读写二进制**\n",
    "\n",
    "**使用：getvalue()获取数据，read，write，readlines和open类似**"
   ]
  },
  {
   "cell_type": "code",
   "execution_count": 46,
   "id": "03394bde-74a6-4b77-a6eb-b3318b9736c2",
   "metadata": {},
   "outputs": [
    {
     "data": {
      "text/plain": [
       "11"
      ]
     },
     "execution_count": 46,
     "metadata": {},
     "output_type": "execute_result"
    }
   ],
   "source": [
    "from io import StringIO\n",
    "\n",
    "f = StringIO()\n",
    "f.write('hello world')"
   ]
  },
  {
   "cell_type": "code",
   "execution_count": 47,
   "id": "c7cf9c7a-c311-4082-8dac-80dfbbe90d96",
   "metadata": {},
   "outputs": [
    {
     "data": {
      "text/plain": [
       "'hello world'"
      ]
     },
     "execution_count": 47,
     "metadata": {},
     "output_type": "execute_result"
    }
   ],
   "source": [
    "f.getvalue()"
   ]
  },
  {
   "cell_type": "code",
   "execution_count": 50,
   "id": "7b456f61-7097-4de2-842f-ca555b44de23",
   "metadata": {},
   "outputs": [
    {
     "data": {
      "text/plain": [
       "'hello world'"
      ]
     },
     "execution_count": 50,
     "metadata": {},
     "output_type": "execute_result"
    }
   ],
   "source": [
    "f = StringIO('hello world')\n",
    "f.readline()"
   ]
  },
  {
   "cell_type": "code",
   "execution_count": 51,
   "id": "e99f6b06-9708-4e7a-9c0a-480ca10e24a7",
   "metadata": {},
   "outputs": [
    {
     "data": {
      "text/plain": [
       "6"
      ]
     },
     "execution_count": 51,
     "metadata": {},
     "output_type": "execute_result"
    }
   ],
   "source": [
    "from io import BytesIO\n",
    "\n",
    "f = BytesIO()\n",
    "text = '你好'.encode('utf-8')\n",
    "f.write(text)"
   ]
  },
  {
   "cell_type": "code",
   "execution_count": 52,
   "id": "8d01e7fb-13bd-4927-b921-5ab22f32b4b0",
   "metadata": {},
   "outputs": [
    {
     "data": {
      "text/plain": [
       "b'\\xe4\\xbd\\xa0\\xe5\\xa5\\xbd'"
      ]
     },
     "execution_count": 52,
     "metadata": {},
     "output_type": "execute_result"
    }
   ],
   "source": [
    "f.getvalue()"
   ]
  },
  {
   "cell_type": "code",
   "execution_count": 54,
   "id": "9f88508d-7a78-49cc-9bc8-d9de3f3b28a1",
   "metadata": {},
   "outputs": [
    {
     "data": {
      "text/plain": [
       "'你好'"
      ]
     },
     "execution_count": 54,
     "metadata": {},
     "output_type": "execute_result"
    }
   ],
   "source": [
    "f = BytesIO(b'\\xe4\\xbd\\xa0\\xe5\\xa5\\xbd')\n",
    "f.read().decode('utf-8')"
   ]
  },
  {
   "cell_type": "markdown",
   "id": "ab003f70-aead-45ae-94d0-9056d3df4d71",
   "metadata": {},
   "source": [
    "---"
   ]
  },
  {
   "cell_type": "markdown",
   "id": "44ac8997-a3f7-42f6-b0bf-baf8dd2808ce",
   "metadata": {},
   "source": [
    "# **四、操作文件和目录：os.path和pathlib**\n",
    "\n",
    "---\n",
    "\n",
    "一般来说我们操作文件或者目录文件夹，可以在系统对应的终端下执行命令实现，如windows cmd的：dir，linux bash的：ls等\n",
    "\n",
    "Python也提供了相应的操作函数来执行文件和目录的操作，首先需要说的就是：os模块\n",
    "\n",
    "# **os**\n",
    "\n",
    "## **获取操作系统类型：os.name**"
   ]
  },
  {
   "cell_type": "code",
   "execution_count": 71,
   "id": "654a0e45-cdbe-47dd-94ce-348c6f558827",
   "metadata": {},
   "outputs": [
    {
     "data": {
      "text/plain": [
       "'nt'"
      ]
     },
     "execution_count": 71,
     "metadata": {},
     "output_type": "execute_result"
    }
   ],
   "source": [
    "'''\n",
    "该变量返回当前操作系统的类型\n",
    "'''\n",
    "\n",
    "import os\n",
    "\n",
    "os.name"
   ]
  },
  {
   "cell_type": "code",
   "execution_count": 72,
   "id": "16ad17bf-38b1-4fd8-a652-3f18d11ddb7b",
   "metadata": {},
   "outputs": [
    {
     "name": "stdout",
     "output_type": "stream",
     "text": [
      "\n",
      "分别是posix , nt , java， 对应linux/windows/java虚拟机\n",
      "\n"
     ]
    }
   ],
   "source": [
    "print('''\n",
    "分别是posix , nt , java， 对应linux/windows/java虚拟机\n",
    "''')"
   ]
  },
  {
   "cell_type": "markdown",
   "id": "236acc76-c83f-4f64-8999-91b9d08bb60a",
   "metadata": {},
   "source": [
    "## **也可以通过：sys.platform获取**"
   ]
  },
  {
   "cell_type": "code",
   "execution_count": 73,
   "id": "0fe3ba32-28c0-4d1f-8c3b-ef8fdcd41f72",
   "metadata": {},
   "outputs": [
    {
     "data": {
      "text/plain": [
       "'win32'"
      ]
     },
     "execution_count": 73,
     "metadata": {},
     "output_type": "execute_result"
    }
   ],
   "source": [
    "import sys\n",
    "\n",
    "sys.platform"
   ]
  },
  {
   "cell_type": "markdown",
   "id": "6bf4a54b-e8e1-484e-b6f6-3ac8a8588f4b",
   "metadata": {},
   "source": [
    "## **获取环境变量**"
   ]
  },
  {
   "cell_type": "code",
   "execution_count": 76,
   "id": "ec90389c-bb31-4c0c-a2ba-bc4db46debd7",
   "metadata": {},
   "outputs": [],
   "source": [
    "os.environ"
   ]
  },
  {
   "cell_type": "markdown",
   "id": "ecd7d52e-5aaa-412f-a5d5-0d760fbf8c5e",
   "metadata": {},
   "source": [
    "## **操作文件和目录**"
   ]
  },
  {
   "cell_type": "code",
   "execution_count": 80,
   "id": "2bb244c4-577f-44cb-9876-f3d71d4b5584",
   "metadata": {},
   "outputs": [
    {
     "data": {
      "text/plain": [
       "'E:\\\\notebook\\\\B站\\\\花卷学Python\\\\9. Python编程：IO编程'"
      ]
     },
     "execution_count": 80,
     "metadata": {},
     "output_type": "execute_result"
    }
   ],
   "source": [
    "'''\n",
    "查看当前目录的绝对路径\n",
    "'''\n",
    "os.path.abspath('./')"
   ]
  },
  {
   "cell_type": "code",
   "execution_count": 88,
   "id": "df990bba-390a-4f48-86d0-0769f741b7ee",
   "metadata": {},
   "outputs": [
    {
     "data": {
      "text/plain": [
       "'.'"
      ]
     },
     "execution_count": 88,
     "metadata": {},
     "output_type": "execute_result"
    }
   ],
   "source": [
    "'''\n",
    "查看当前目录的上级目录\n",
    "'''\n",
    "os.path.dirname('./examples')"
   ]
  },
  {
   "cell_type": "code",
   "execution_count": 77,
   "id": "08e6e90a-3dbb-49f3-bbef-389d48a4c47d",
   "metadata": {},
   "outputs": [
    {
     "data": {
      "text/plain": [
       "['.ipynb_checkpoints', 'examples', 'images', '第九章、Python编程：IO编程.ipynb']"
      ]
     },
     "execution_count": 77,
     "metadata": {},
     "output_type": "execute_result"
    }
   ],
   "source": [
    "'''\n",
    "遍历目录\n",
    "'''\n",
    "\n",
    "os.listdir('./')"
   ]
  },
  {
   "cell_type": "code",
   "execution_count": 82,
   "id": "434db9f0-5544-4082-94ca-ff94c56b3b7a",
   "metadata": {},
   "outputs": [
    {
     "data": {
      "text/plain": [
       "[('./',\n",
       "  ['.ipynb_checkpoints', 'examples', 'images'],\n",
       "  ['第九章、Python编程：IO编程.ipynb']),\n",
       " ('./.ipynb_checkpoints', [], ['第九章、Python编程：IO编程-checkpoint.ipynb']),\n",
       " ('./examples',\n",
       "  ['.ipynb_checkpoints'],\n",
       "  ['1.txt', '2.txt', '3.txt', '4.txt', '5.txt', '6.txt', 'dict.pkl']),\n",
       " ('./examples\\\\.ipynb_checkpoints', [], ['1-checkpoint.txt']),\n",
       " ('./images', [], [])]"
      ]
     },
     "execution_count": 82,
     "metadata": {},
     "output_type": "execute_result"
    }
   ],
   "source": [
    "'''\n",
    "遍历目录2\n",
    "'''\n",
    "\n",
    "list(os.walk('./'))"
   ]
  },
  {
   "cell_type": "code",
   "execution_count": 79,
   "id": "2fc80a50-163f-4962-8059-e2f1738fe100",
   "metadata": {},
   "outputs": [
    {
     "data": {
      "text/plain": [
       "'./examples'"
      ]
     },
     "execution_count": 79,
     "metadata": {},
     "output_type": "execute_result"
    }
   ],
   "source": [
    "'''\n",
    "拼接两个目录\n",
    "'''\n",
    "os.path.join('./','examples')"
   ]
  },
  {
   "cell_type": "code",
   "execution_count": 83,
   "id": "154a0b8f-5947-446c-9e53-f6653be93df2",
   "metadata": {},
   "outputs": [],
   "source": [
    "'''\n",
    "创建目录\n",
    "'''\n",
    "os.mkdir('./path')"
   ]
  },
  {
   "cell_type": "code",
   "execution_count": 89,
   "id": "f47a5d8d-be26-4d57-93ec-2fe1c7c34b0f",
   "metadata": {},
   "outputs": [],
   "source": [
    "'''\n",
    "创建多层目录\n",
    "'''\n",
    "os.makedirs('./path/path1/path2')"
   ]
  },
  {
   "cell_type": "code",
   "execution_count": 93,
   "id": "b963d36a-b973-4cd9-bafc-01b1d6f0dbb6",
   "metadata": {},
   "outputs": [],
   "source": [
    "'''\n",
    "删除目录\n",
    "'''\n",
    "os.rmdir('./path/path1/path2')"
   ]
  },
  {
   "cell_type": "code",
   "execution_count": 99,
   "id": "184f6ec4-ce2f-4e45-a739-3b1b91c8c275",
   "metadata": {},
   "outputs": [],
   "source": [
    "'''\n",
    "删除多层目录\n",
    "'''\n",
    "\n",
    "import shutil\n",
    "\n",
    "shutil.rmtree('./path')"
   ]
  },
  {
   "cell_type": "code",
   "execution_count": null,
   "id": "fb2a25a9-1f7f-41be-9792-1bc45fe6c843",
   "metadata": {},
   "outputs": [],
   "source": [
    "'''\n",
    "删除文件\n",
    "'''\n",
    "os.remove('./1.txt')"
   ]
  },
  {
   "cell_type": "code",
   "execution_count": null,
   "id": "378cc426-fd5a-4e76-ae0d-3553d4138d4a",
   "metadata": {},
   "outputs": [],
   "source": [
    "'''\n",
    "重命名文件\n",
    "'''\n",
    "os.rename('./1.txt','./2.txt')"
   ]
  },
  {
   "cell_type": "code",
   "execution_count": 96,
   "id": "78edd601-bb03-4098-b309-cfa5dc844455",
   "metadata": {},
   "outputs": [
    {
     "data": {
      "text/plain": [
       "('./examples/1', '.txt')"
      ]
     },
     "execution_count": 96,
     "metadata": {},
     "output_type": "execute_result"
    }
   ],
   "source": [
    "'''\n",
    "获取文件扩展名\n",
    "'''\n",
    "os.path.splitext('./examples/1.txt')"
   ]
  },
  {
   "cell_type": "code",
   "execution_count": 97,
   "id": "9521a550-6efe-4800-9413-3cec03227ea1",
   "metadata": {},
   "outputs": [
    {
     "data": {
      "text/plain": [
       "True"
      ]
     },
     "execution_count": 97,
     "metadata": {},
     "output_type": "execute_result"
    }
   ],
   "source": [
    "'''\n",
    "判断是否是文件夹\n",
    "'''\n",
    "os.path.isdir('./examples')"
   ]
  },
  {
   "cell_type": "code",
   "execution_count": 98,
   "id": "2e9b2915-db34-4830-9424-e8d8e49cf2ab",
   "metadata": {},
   "outputs": [
    {
     "data": {
      "text/plain": [
       "True"
      ]
     },
     "execution_count": 98,
     "metadata": {},
     "output_type": "execute_result"
    }
   ],
   "source": [
    "'''\n",
    "判断是否是文件\n",
    "'''\n",
    "os.path.isfile('./examples/1.txt')"
   ]
  },
  {
   "cell_type": "markdown",
   "id": "0d9035eb-4edb-4496-b5a0-252a5c8ce615",
   "metadata": {},
   "source": [
    "# **更厉害的文件和目录操作：pathlib**"
   ]
  },
  {
   "cell_type": "code",
   "execution_count": 100,
   "id": "38bf989d-e3c0-42e2-b791-204fee3bc617",
   "metadata": {},
   "outputs": [
    {
     "data": {
      "text/plain": [
       "WindowsPath('E:/notebook/B站/花卷学Python/9. Python编程：IO编程')"
      ]
     },
     "execution_count": 100,
     "metadata": {},
     "output_type": "execute_result"
    }
   ],
   "source": [
    "'''\n",
    "获取当前目录\n",
    "'''\n",
    "\n",
    "from pathlib import Path\n",
    "\n",
    "Path().cwd()"
   ]
  },
  {
   "cell_type": "code",
   "execution_count": 101,
   "id": "cdae27e5-56ed-470a-9140-9bf3191519b2",
   "metadata": {},
   "outputs": [
    {
     "data": {
      "text/plain": [
       "WindowsPath('examples')"
      ]
     },
     "execution_count": 101,
     "metadata": {},
     "output_type": "execute_result"
    }
   ],
   "source": [
    "'''\n",
    "目录拼接\n",
    "'''\n",
    "\n",
    "from pathlib import Path\n",
    "\n",
    "Path('./').joinpath('./examples')"
   ]
  },
  {
   "cell_type": "code",
   "execution_count": 103,
   "id": "dc41a65b-7a31-4023-a3d9-8fb074277fba",
   "metadata": {},
   "outputs": [
    {
     "data": {
      "text/plain": [
       "'9. Python编程：IO编程'"
      ]
     },
     "execution_count": 103,
     "metadata": {},
     "output_type": "execute_result"
    }
   ],
   "source": [
    "'''\n",
    "获取目录名字\n",
    "'''\n",
    "\n",
    "from pathlib import Path\n",
    "\n",
    "p = Path().cwd()\n",
    "p.name"
   ]
  },
  {
   "cell_type": "code",
   "execution_count": 107,
   "id": "8b7856b0-bfdd-4ee6-92c2-be6378bc825b",
   "metadata": {},
   "outputs": [
    {
     "data": {
      "text/plain": [
       "WindowsPath('E:/notebook/B站/花卷学Python')"
      ]
     },
     "execution_count": 107,
     "metadata": {},
     "output_type": "execute_result"
    }
   ],
   "source": [
    "'''\n",
    "获取上级\n",
    "'''\n",
    "\n",
    "from pathlib import Path\n",
    "\n",
    "p = Path().cwd()\n",
    "p.parent"
   ]
  },
  {
   "cell_type": "code",
   "execution_count": 110,
   "id": "24a8707c-2756-41ab-926c-524c5d0fd43e",
   "metadata": {},
   "outputs": [
    {
     "data": {
      "text/plain": [
       "'.txt'"
      ]
     },
     "execution_count": 110,
     "metadata": {},
     "output_type": "execute_result"
    }
   ],
   "source": [
    "'''\n",
    "获取文件后缀\n",
    "'''\n",
    "\n",
    "from pathlib import Path\n",
    "\n",
    "Path('./examples/1.txt').suffix"
   ]
  },
  {
   "cell_type": "code",
   "execution_count": 108,
   "id": "688b4d34-c628-4685-aa1c-233af94c17ee",
   "metadata": {},
   "outputs": [
    {
     "name": "stdout",
     "output_type": "stream",
     "text": [
      "examples\\1.txt\n",
      "examples\\2.txt\n",
      "examples\\3.txt\n",
      "examples\\4.txt\n",
      "examples\\5.txt\n",
      "examples\\6.txt\n"
     ]
    }
   ],
   "source": [
    "'''\n",
    "获取目录下固定格式的文件\n",
    "'''\n",
    "\n",
    "from pathlib import Path\n",
    "\n",
    "p = Path('./examples')\n",
    "\n",
    "for x in p.glob('*.txt'):\n",
    "    print(x)"
   ]
  },
  {
   "cell_type": "code",
   "execution_count": 102,
   "id": "524198c2-4a18-4096-92e4-377796dcd975",
   "metadata": {},
   "outputs": [
    {
     "data": {
      "text/plain": [
       "['__bytes__',\n",
       " '__class__',\n",
       " '__class_getitem__',\n",
       " '__delattr__',\n",
       " '__dir__',\n",
       " '__doc__',\n",
       " '__enter__',\n",
       " '__eq__',\n",
       " '__exit__',\n",
       " '__format__',\n",
       " '__fspath__',\n",
       " '__ge__',\n",
       " '__getattribute__',\n",
       " '__gt__',\n",
       " '__hash__',\n",
       " '__init__',\n",
       " '__init_subclass__',\n",
       " '__le__',\n",
       " '__lt__',\n",
       " '__module__',\n",
       " '__ne__',\n",
       " '__new__',\n",
       " '__reduce__',\n",
       " '__reduce_ex__',\n",
       " '__repr__',\n",
       " '__rtruediv__',\n",
       " '__setattr__',\n",
       " '__sizeof__',\n",
       " '__slots__',\n",
       " '__str__',\n",
       " '__subclasshook__',\n",
       " '__truediv__',\n",
       " '_accessor',\n",
       " '_cached_cparts',\n",
       " '_cparts',\n",
       " '_drv',\n",
       " '_flavour',\n",
       " '_format_parsed_parts',\n",
       " '_from_parsed_parts',\n",
       " '_from_parts',\n",
       " '_hash',\n",
       " '_init',\n",
       " '_make_child',\n",
       " '_make_child_relpath',\n",
       " '_opener',\n",
       " '_parse_args',\n",
       " '_parts',\n",
       " '_pparts',\n",
       " '_raw_open',\n",
       " '_root',\n",
       " '_str',\n",
       " 'absolute',\n",
       " 'anchor',\n",
       " 'as_posix',\n",
       " 'as_uri',\n",
       " 'chmod',\n",
       " 'cwd',\n",
       " 'drive',\n",
       " 'exists',\n",
       " 'expanduser',\n",
       " 'glob',\n",
       " 'group',\n",
       " 'home',\n",
       " 'is_absolute',\n",
       " 'is_block_device',\n",
       " 'is_char_device',\n",
       " 'is_dir',\n",
       " 'is_fifo',\n",
       " 'is_file',\n",
       " 'is_mount',\n",
       " 'is_relative_to',\n",
       " 'is_reserved',\n",
       " 'is_socket',\n",
       " 'is_symlink',\n",
       " 'iterdir',\n",
       " 'joinpath',\n",
       " 'lchmod',\n",
       " 'link_to',\n",
       " 'lstat',\n",
       " 'match',\n",
       " 'mkdir',\n",
       " 'name',\n",
       " 'open',\n",
       " 'owner',\n",
       " 'parent',\n",
       " 'parents',\n",
       " 'parts',\n",
       " 'read_bytes',\n",
       " 'read_text',\n",
       " 'readlink',\n",
       " 'relative_to',\n",
       " 'rename',\n",
       " 'replace',\n",
       " 'resolve',\n",
       " 'rglob',\n",
       " 'rmdir',\n",
       " 'root',\n",
       " 'samefile',\n",
       " 'stat',\n",
       " 'stem',\n",
       " 'suffix',\n",
       " 'suffixes',\n",
       " 'symlink_to',\n",
       " 'touch',\n",
       " 'unlink',\n",
       " 'with_name',\n",
       " 'with_stem',\n",
       " 'with_suffix',\n",
       " 'write_bytes',\n",
       " 'write_text']"
      ]
     },
     "execution_count": 102,
     "metadata": {},
     "output_type": "execute_result"
    }
   ],
   "source": [
    "p = Path().cwd()\n",
    "dir(p)"
   ]
  },
  {
   "cell_type": "markdown",
   "id": "f62e0227-a061-4cba-a7a3-445b87b082b7",
   "metadata": {},
   "source": [
    "## **总结：os和pathlib对照表**\n",
    "\n",
    "\n",
    "|操作|os and os.path|pathlib|\n",
    "|---|---|---|\n",
    "|绝对路径|os.path.abspath|Path.resolve|\n",
    "|修改权限|os.chmod|Path.chmod|\n",
    "|创建目录|os.mkdir|Path.mkdir|\n",
    "|重命名|os.rename|Path.rename|\n",
    "|移动|os.replace|Path.replace|\n",
    "|删除目录|os.rmdir|Path.rmdir|\n",
    "|删除文件|os.remove, os.unlink|Path.unlink|\n",
    "|工作目录|os.getcwd|Path.cwd|\n",
    "|是否存在|os.path.exists|Path.exists|\n",
    "|用户目录|os.path.expanduser|Path.expanduser and Path.home|\n",
    "|是否为目录|os.path.isdir|Path.is_dir|\n",
    "|是否为文件|os.path.isfile|Path.is_file|\n",
    "|是否为连接|os.path.islink|Path.is_symlink|\n",
    "|文件属性|os.stat|Path.stat, Path.owner, Path.group|\n",
    "|是否为绝对路径|os.path.isabs|PurePath.is_absolute|\n",
    "|路径拼接|os.path.join|PurePath.joinpath|\n",
    "|文件名|os.path.basename|PurePath.name|\n",
    "|上级目录|os.path.dirname|PurePath.parent|\n",
    "|同名文件|os.path.samefile|Path.samefile|\n",
    "|后缀|os.path.splitext|PurePath.suffix|"
   ]
  },
  {
   "cell_type": "markdown",
   "id": "9eb2720c-fbec-4bf8-b393-a1519dc40dd8",
   "metadata": {},
   "source": [
    "---"
   ]
  },
  {
   "cell_type": "markdown",
   "id": "3dad5439-b8b5-4763-836a-3a0d0dd403e6",
   "metadata": {},
   "source": [
    "# **五、序列化**\n",
    "\n",
    "---\n",
    "\n",
    "在程序的运行过程，所有的变量都存储在内存中，一旦程序结束就被系统回收了，下次需要重新运行才行，\n",
    "\n",
    "为了保存中间的变脸，我们需要把变量从内存变成可存储，这就是序列化，\n",
    "\n",
    "而把存储的变量重新读写到内存中就是反序列化，\n",
    "\n",
    "Python提供内置模块：pickle来进行序列化和反序列化\n",
    "\n",
    "常用方法：\n",
    "\n",
    "- **pickle.dump：对象序列化到文件**\n",
    "- **pickle.dumps：对象序列化**\n",
    "- **pickle.laod：对象从文件中发序列化**\n",
    "- **pickle.laods：对象发序列化**"
   ]
  },
  {
   "cell_type": "code",
   "execution_count": 55,
   "id": "4bdf39d0-fee4-42df-8680-673771465e82",
   "metadata": {},
   "outputs": [
    {
     "data": {
      "text/plain": [
       "{'a': 1, 'b': 2}"
      ]
     },
     "execution_count": 55,
     "metadata": {},
     "output_type": "execute_result"
    }
   ],
   "source": [
    "a = {'a':1,'b':2}\n",
    "a"
   ]
  },
  {
   "cell_type": "code",
   "execution_count": 57,
   "id": "d7d8cde8-3006-4661-84e8-1144cde8cbef",
   "metadata": {},
   "outputs": [
    {
     "data": {
      "text/plain": [
       "b'\\x80\\x04\\x95\\x11\\x00\\x00\\x00\\x00\\x00\\x00\\x00}\\x94(\\x8c\\x01a\\x94K\\x01\\x8c\\x01b\\x94K\\x02u.'"
      ]
     },
     "execution_count": 57,
     "metadata": {},
     "output_type": "execute_result"
    }
   ],
   "source": [
    "\"\"\"\n",
    "我们把上面字典序列化\n",
    "\"\"\"\n",
    "import pickle\n",
    "\n",
    "pickle.dumps(a)"
   ]
  },
  {
   "cell_type": "code",
   "execution_count": 60,
   "id": "70613035-73be-455a-a8af-91735dca6528",
   "metadata": {},
   "outputs": [
    {
     "name": "stdout",
     "output_type": "stream",
     "text": [
      "序列化：b'\\x80\\x04\\x95\\x11\\x00\\x00\\x00\\x00\\x00\\x00\\x00}\\x94(\\x8c\\x01a\\x94K\\x01\\x8c\\x01b\\x94K\\x02u.'\n",
      "发序列化：{'a': 1, 'b': 2}\n"
     ]
    }
   ],
   "source": [
    "\"\"\"\n",
    "我们把上面字典序列化进行反序列化\n",
    "\"\"\"\n",
    "import pickle\n",
    "\n",
    "b = pickle.dumps(a)\n",
    "print(f'序列化：{b}')\n",
    "b = pickle.loads(b)\n",
    "print(f'发序列化：{b}')"
   ]
  },
  {
   "cell_type": "code",
   "execution_count": 58,
   "id": "187fbfc0-c1c4-4938-9afa-f3fb44ef3e7a",
   "metadata": {},
   "outputs": [],
   "source": [
    "\"\"\"\n",
    "我们把上面字典序列化到文件\n",
    "\"\"\"\n",
    "import pickle\n",
    "\n",
    "with open('./examples/dict.pkl','wb') as f:\n",
    "    pickle.dump(a,f)"
   ]
  },
  {
   "cell_type": "code",
   "execution_count": 61,
   "id": "eb45f940-5603-49df-a6fc-8957ecd77262",
   "metadata": {},
   "outputs": [
    {
     "name": "stdout",
     "output_type": "stream",
     "text": [
      "{'a': 1, 'b': 2}\n"
     ]
    }
   ],
   "source": [
    "\"\"\"\n",
    "我们把上面字典序列化文件反序列化到对象\n",
    "\"\"\"\n",
    "import pickle\n",
    "\n",
    "with open('./examples/dict.pkl','rb') as f:\n",
    "    b = pickle.load(f)\n",
    "\n",
    "print(b)"
   ]
  },
  {
   "cell_type": "markdown",
   "id": "e0c46b9e-6591-4bc8-a1ed-ebaf7ca4cc6b",
   "metadata": {},
   "source": [
    "## **JSON**\n",
    "\n",
    "一般来说，序列化和反序列化只能在同一种语言中执行，要想在不同语言之间传递对象就必须把对象序列化为标准格式，\n",
    "\n",
    "比如非常常用的格式：JSON\n",
    "\n",
    "一般的JSON格式可以转化为Python的字典或者列表格式，两者对应关系如下：\n",
    "\n",
    "|JSON类型|Python类型|\n",
    "|---|---|\n",
    "|{}|dict|\n",
    "|[]|list|\n",
    "|\"string\"|str|\n",
    "|1234.56|int或float|\n",
    "|true/false|True/False|\n",
    "|null|None|\n",
    "\n",
    "Python提供内置模块：json来处理json格式，json的常用方法和pickle非常类似：\n",
    "\n",
    "- **json.dump：对象json到文件**\n",
    "- **json.dumps：对象到json**\n",
    "- **json.laod：对象从文件中到json**\n",
    "- **json.laods：json到对象**"
   ]
  },
  {
   "cell_type": "code",
   "execution_count": 62,
   "id": "2a1227a3-00fe-4390-b1e8-a71497716902",
   "metadata": {},
   "outputs": [
    {
     "data": {
      "text/plain": [
       "{'a': 1, 'b': 2}"
      ]
     },
     "execution_count": 62,
     "metadata": {},
     "output_type": "execute_result"
    }
   ],
   "source": [
    "a = {'a':1,'b':2}\n",
    "a"
   ]
  },
  {
   "cell_type": "code",
   "execution_count": 63,
   "id": "a9bb512b-bb0f-49fa-9cf9-8ef9c8aed4b5",
   "metadata": {},
   "outputs": [
    {
     "data": {
      "text/plain": [
       "'{\"a\": 1, \"b\": 2}'"
      ]
     },
     "execution_count": 63,
     "metadata": {},
     "output_type": "execute_result"
    }
   ],
   "source": [
    "\"\"\"\n",
    "我们把上面字典序列化\n",
    "\"\"\"\n",
    "import json\n",
    "\n",
    "json.dumps(a)"
   ]
  },
  {
   "cell_type": "code",
   "execution_count": 64,
   "id": "ed5c6b13-ada1-46ab-a79e-6d6598c7c2d6",
   "metadata": {},
   "outputs": [
    {
     "name": "stdout",
     "output_type": "stream",
     "text": [
      "序列化：{\"a\": 1, \"b\": 2}\n",
      "发序列化：{'a': 1, 'b': 2}\n"
     ]
    }
   ],
   "source": [
    "\"\"\"\n",
    "我们把上面字典序列化进行反序列化\n",
    "\"\"\"\n",
    "import json\n",
    "\n",
    "b = json.dumps(a)\n",
    "print(f'序列化：{b}')\n",
    "b = json.loads(b)\n",
    "print(f'发序列化：{b}')"
   ]
  },
  {
   "cell_type": "code",
   "execution_count": 65,
   "id": "42bec6c4-89c8-460f-bff9-82ddb6883156",
   "metadata": {},
   "outputs": [],
   "source": [
    "\"\"\"\n",
    "我们把上面字典序列化到文件\n",
    "\"\"\"\n",
    "import pickle\n",
    "\n",
    "with open('./examples/dict.pkl','w',encoding='utf-8') as f:\n",
    "    json.dump(a,f)"
   ]
  },
  {
   "cell_type": "code",
   "execution_count": 66,
   "id": "31ada6c1-3e40-4f0e-a047-43097a3f5d73",
   "metadata": {},
   "outputs": [
    {
     "name": "stdout",
     "output_type": "stream",
     "text": [
      "{'a': 1, 'b': 2}\n"
     ]
    }
   ],
   "source": [
    "\"\"\"\n",
    "我们把上面字典序列化文件反序列化到对象\n",
    "\"\"\"\n",
    "import pickle\n",
    "\n",
    "with open('./examples/dict.pkl','r',encoding='utf-8') as f:\n",
    "    b = json.load(f)\n",
    "\n",
    "print(b)"
   ]
  },
  {
   "cell_type": "code",
   "execution_count": 67,
   "id": "afcbdbb1-bf88-4b30-867f-5c14c2d9dde3",
   "metadata": {},
   "outputs": [
    {
     "name": "stdout",
     "output_type": "stream",
     "text": [
      "Help on function dump in module json:\n",
      "\n",
      "dump(obj, fp, *, skipkeys=False, ensure_ascii=True, check_circular=True, allow_nan=True, cls=None, indent=None, separators=None, default=None, sort_keys=False, **kw)\n",
      "    Serialize ``obj`` as a JSON formatted stream to ``fp`` (a\n",
      "    ``.write()``-supporting file-like object).\n",
      "    \n",
      "    If ``skipkeys`` is true then ``dict`` keys that are not basic types\n",
      "    (``str``, ``int``, ``float``, ``bool``, ``None``) will be skipped\n",
      "    instead of raising a ``TypeError``.\n",
      "    \n",
      "    If ``ensure_ascii`` is false, then the strings written to ``fp`` can\n",
      "    contain non-ASCII characters if they appear in strings contained in\n",
      "    ``obj``. Otherwise, all such characters are escaped in JSON strings.\n",
      "    \n",
      "    If ``check_circular`` is false, then the circular reference check\n",
      "    for container types will be skipped and a circular reference will\n",
      "    result in an ``OverflowError`` (or worse).\n",
      "    \n",
      "    If ``allow_nan`` is false, then it will be a ``ValueError`` to\n",
      "    serialize out of range ``float`` values (``nan``, ``inf``, ``-inf``)\n",
      "    in strict compliance of the JSON specification, instead of using the\n",
      "    JavaScript equivalents (``NaN``, ``Infinity``, ``-Infinity``).\n",
      "    \n",
      "    If ``indent`` is a non-negative integer, then JSON array elements and\n",
      "    object members will be pretty-printed with that indent level. An indent\n",
      "    level of 0 will only insert newlines. ``None`` is the most compact\n",
      "    representation.\n",
      "    \n",
      "    If specified, ``separators`` should be an ``(item_separator, key_separator)``\n",
      "    tuple.  The default is ``(', ', ': ')`` if *indent* is ``None`` and\n",
      "    ``(',', ': ')`` otherwise.  To get the most compact JSON representation,\n",
      "    you should specify ``(',', ':')`` to eliminate whitespace.\n",
      "    \n",
      "    ``default(obj)`` is a function that should return a serializable version\n",
      "    of obj or raise TypeError. The default simply raises TypeError.\n",
      "    \n",
      "    If *sort_keys* is true (default: ``False``), then the output of\n",
      "    dictionaries will be sorted by key.\n",
      "    \n",
      "    To use a custom ``JSONEncoder`` subclass (e.g. one that overrides the\n",
      "    ``.default()`` method to serialize additional types), specify it with\n",
      "    the ``cls`` kwarg; otherwise ``JSONEncoder`` is used.\n",
      "\n"
     ]
    }
   ],
   "source": [
    "help(json.dump)"
   ]
  },
  {
   "cell_type": "code",
   "execution_count": null,
   "id": "a1efaa52-5fe8-4843-9dd4-42a1d5db6629",
   "metadata": {},
   "outputs": [],
   "source": []
  }
 ],
 "metadata": {
  "kernelspec": {
   "display_name": "Python 3 (ipykernel)",
   "language": "python",
   "name": "python3"
  },
  "language_info": {
   "codemirror_mode": {
    "name": "ipython",
    "version": 3
   },
   "file_extension": ".py",
   "mimetype": "text/x-python",
   "name": "python",
   "nbconvert_exporter": "python",
   "pygments_lexer": "ipython3",
   "version": "3.9.7"
  }
 },
 "nbformat": 4,
 "nbformat_minor": 5
}
