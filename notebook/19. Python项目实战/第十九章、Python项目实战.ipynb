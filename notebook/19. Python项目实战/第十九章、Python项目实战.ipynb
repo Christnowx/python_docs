{
 "cells": [
  {
   "cell_type": "markdown",
   "id": "9abfb318-d67b-4b2c-852f-0c9235a9c442",
   "metadata": {},
   "source": [
    "# **花卷学Python**\n",
    "---\n",
    "\n",
    "> **我年纪轻轻就学会了Python编程**\n",
    "\n",
    "\n",
    "# **第十九章、Python项目实战**\n",
    "\n",
    "   - [x] **人工智能实战**\n"
   ]
  },
  {
   "cell_type": "markdown",
   "id": "711d9cdc-aef5-4a1f-91a0-873f32b78e9c",
   "metadata": {},
   "source": [
    "---"
   ]
  },
  {
   "cell_type": "markdown",
   "id": "c42c30ca-ca9d-483c-b633-72f4682aff36",
   "metadata": {},
   "source": [
    "# **一、人工智能实战**\n",
    "\n",
    "---\n",
    "\n",
    "# **深度学习：文本分类**\n",
    "\n",
    "\n",
    "## **文本分类一般流程**\n",
    "\n",
    "- **文本预处理：正则，分词**\n",
    "- **建立词集映射**\n",
    "- **文本词向量表征：word2vec（可选）**\n",
    "- **分割数据集**\n",
    "- **建立神经网络分类模型**\n",
    "- **训练网络**\n",
    "- **保存并评估**\n",
    "- **画出训练损失图**\n",
    "- **使用保存的模型预测新的文本**\n",
    "\n",
    "\n",
    "## **主要使用的包**\n",
    "\n",
    "- **numpy**\n",
    "- **pandas**\n",
    "- **matplotlib**\n",
    "- **wordcloud**\n",
    "- **jieba**\n",
    "- **gensim**\n",
    "- **tensorflow**\n",
    "\n",
    "\n",
    "## **数据集介绍**\n",
    "\n",
    "## **Thucnews新闻分类**\n",
    "\n",
    "\n",
    "- **地址：http://thuctc.thunlp.org/#%E4%B8%AD%E6%96%87%E6%96%87%E6%9C%AC%E5%88%86%E7%B1%BB%E6%95%B0%E6%8D%AE%E9%9B%86THUCNews**\n",
    "\n",
    "   - THUCNews是根据新浪新闻RSS订阅频道2005~2011年间的历史数据筛选过滤生成，包含74万篇新闻文档（2.19 GB），均为UTF-8纯文本格式。\n",
    "\n",
    "   - 我们在原始新浪新闻分类体系的基础上，重新整合划分出14个候选分类类别：财经、彩票、房产、股票、家居、教育、科技、社会、时尚、时政、体育、星座、游戏、娱乐。\n",
    "\n",
    "\n",
    "- **下载并解压：./examples/ai/data/THUCNews/THUCNews**\n",
    "\n",
    "\n",
    "## **1. 浏览合并数据集**"
   ]
  },
  {
   "cell_type": "code",
   "execution_count": 27,
   "id": "9fd064e8-a843-4e61-b9d6-8d166d801ad2",
   "metadata": {},
   "outputs": [
    {
     "name": "stdout",
     "output_type": "stream",
     "text": [
      "体育：examples\\ai\\data\\THUCNews\\THUCNews\\体育\\0.txt\n",
      "娱乐：examples\\ai\\data\\THUCNews\\THUCNews\\娱乐\\131604.txt\n",
      "家居：examples\\ai\\data\\THUCNews\\THUCNews\\家居\\224236.txt\n",
      "彩票：examples\\ai\\data\\THUCNews\\THUCNews\\彩票\\256822.txt\n",
      "房产：examples\\ai\\data\\THUCNews\\THUCNews\\房产\\264410.txt\n",
      "教育：examples\\ai\\data\\THUCNews\\THUCNews\\教育\\284460.txt\n",
      "时尚：examples\\ai\\data\\THUCNews\\THUCNews\\时尚\\326396.txt\n",
      "时政：examples\\ai\\data\\THUCNews\\THUCNews\\时政\\339764.txt\n",
      "星座：examples\\ai\\data\\THUCNews\\THUCNews\\星座\\402850.txt\n",
      "游戏：examples\\ai\\data\\THUCNews\\THUCNews\\游戏\\406428.txt\n",
      "社会：examples\\ai\\data\\THUCNews\\THUCNews\\社会\\430801.txt\n",
      "科技：examples\\ai\\data\\THUCNews\\THUCNews\\科技\\481650.txt\n",
      "股票：examples\\ai\\data\\THUCNews\\THUCNews\\股票\\644579.txt\n",
      "财经：examples\\ai\\data\\THUCNews\\THUCNews\\财经\\798977.txt\n"
     ]
    }
   ],
   "source": [
    "from pathlib import Path\n",
    "\n",
    "path = './examples/ai/data/THUCNews/THUCNews'\n",
    "path = Path(path)\n",
    "\n",
    "for x in path.glob('*'):\n",
    "    if x.is_dir():\n",
    "        label = x.name\n",
    "        for y in x.glob('*.txt'):\n",
    "            if y.is_file():\n",
    "                print(f'{label}：{y}')\n",
    "                break"
   ]
  },
  {
   "cell_type": "code",
   "execution_count": 31,
   "id": "bf1ee7e5-aeac-486e-b71b-45af4ba5af92",
   "metadata": {},
   "outputs": [
    {
     "name": "stdout",
     "output_type": "stream",
     "text": [
      "{'体育': 7821, '娱乐': 9651, '家居': 12099, '彩票': 1061, '房产': 468, '教育': 3822, '时尚': 2426, '时政': 8202, '星座': 1578, '游戏': 1361, '社会': 1399, '科技': 13038, '股票': 26471, '财经': 2603}\n"
     ]
    }
   ],
   "source": [
    "from pathlib import Path\n",
    "\n",
    "path = './examples/ai/data/THUCNews/THUCNews'\n",
    "path = Path(path)\n",
    "\n",
    "number = {}\n",
    "with open(path.parent.parent.joinpath('thucnews.txt'), 'w', encoding = 'utf-8') as f:\n",
    "    f.write('label\\ttitle\\ttext\\n')\n",
    "    for x in path.glob('*'):\n",
    "        if x.is_dir():\n",
    "            label = x.name\n",
    "            number[label] = 0\n",
    "            for y in x.glob('*.txt'):\n",
    "                if y.is_file():\n",
    "                    with open(y, 'r', encoding='utf-8') as f1:\n",
    "                        data = [line.strip() for line in f1 if line.strip()]\n",
    "                    try:\n",
    "                        title = data[0]\n",
    "                        content = ''.join(data[1:])\n",
    "                        if  len(content) <= 200 and len(content) >= 20:\n",
    "                            f.write(f'{label}\\t{title}\\t{content}\\n')\n",
    "                            number[label] += 1\n",
    "                    except:\n",
    "                        continue\n",
    "print(number)"
   ]
  },
  {
   "cell_type": "markdown",
   "id": "fd456020-8736-4288-ad36-d0f59bc61a82",
   "metadata": {},
   "source": [
    "## **2. 文本预处理**\n",
    "\n",
    "以上合并好的文本全部统一到一个文件中：是一个三列N行的文本，使用pandas可以很方便的预处理\n",
    "\n",
    "## **读取**"
   ]
  },
  {
   "cell_type": "code",
   "execution_count": 1,
   "id": "8866fe08-653d-492b-83fc-b2e26001e339",
   "metadata": {},
   "outputs": [
    {
     "name": "stderr",
     "output_type": "stream",
     "text": [
      "D:\\anaconda\\Lib\\site-packages\\IPython\\core\\interactiveshell.py:3444: FutureWarning: The error_bad_lines argument has been deprecated and will be removed in a future version.\n",
      "\n",
      "\n",
      "  exec(code_obj, self.user_global_ns, self.user_ns)\n",
      "b'Skipping line 28851: expected 3 fields, saw 8\\nSkipping line 28856: expected 3 fields, saw 7\\nSkipping line 28857: expected 3 fields, saw 8\\nSkipping line 28858: expected 3 fields, saw 8\\nSkipping line 84967: expected 3 fields, saw 4\\nSkipping line 85118: expected 3 fields, saw 4\\nSkipping line 85155: expected 3 fields, saw 4\\nSkipping line 85233: expected 3 fields, saw 4\\nSkipping line 88706: expected 3 fields, saw 7\\nSkipping line 89361: expected 3 fields, saw 4\\n'\n"
     ]
    },
    {
     "data": {
      "text/html": [
       "<div>\n",
       "<style scoped>\n",
       "    .dataframe tbody tr th:only-of-type {\n",
       "        vertical-align: middle;\n",
       "    }\n",
       "\n",
       "    .dataframe tbody tr th {\n",
       "        vertical-align: top;\n",
       "    }\n",
       "\n",
       "    .dataframe thead th {\n",
       "        text-align: right;\n",
       "    }\n",
       "</style>\n",
       "<table border=\"1\" class=\"dataframe\">\n",
       "  <thead>\n",
       "    <tr style=\"text-align: right;\">\n",
       "      <th></th>\n",
       "      <th>label</th>\n",
       "      <th>title</th>\n",
       "      <th>text</th>\n",
       "    </tr>\n",
       "  </thead>\n",
       "  <tbody>\n",
       "    <tr>\n",
       "      <th>0</th>\n",
       "      <td>体育</td>\n",
       "      <td>图文-女排世锦赛6日战况 土耳其姑娘庆祝得分</td>\n",
       "      <td>新浪体育讯　北京时间11月6日，2010年世界女排锦标赛继续进行，E组第二轮比赛中，土耳其队...</td>\n",
       "    </tr>\n",
       "    <tr>\n",
       "      <th>1</th>\n",
       "      <td>体育</td>\n",
       "      <td>调查：奇才负骑士阿联2分 您如何看待他的低迷表现</td>\n",
       "      <td>新浪体育讯　北京时间11月7日，奇才在主场以102-107不敌骑士。易建联只打了14分钟，5...</td>\n",
       "    </tr>\n",
       "    <tr>\n",
       "      <th>2</th>\n",
       "      <td>体育</td>\n",
       "      <td>首发：波什迎来救赎良机 墨菲复出挑战热火三巨头</td>\n",
       "      <td>新浪体育讯　北京时间11月7日，热火回到主场迎战篮网，这是热火连续六个主场比赛的第一场。他们...</td>\n",
       "    </tr>\n",
       "    <tr>\n",
       "      <th>3</th>\n",
       "      <td>体育</td>\n",
       "      <td>开拓者vs湖人首发：科比对阵罗伊 内线两双塔之战</td>\n",
       "      <td>新浪体育讯　北京时间11月8日，NBA常规赛洛杉矶湖人主场迎战波特兰开拓者，赛前双方也公布了...</td>\n",
       "    </tr>\n",
       "    <tr>\n",
       "      <th>4</th>\n",
       "      <td>体育</td>\n",
       "      <td>调查-您认为加索尔是否称得上联盟第一内线？</td>\n",
       "      <td>新浪体育讯　北京时间11月8日，洛杉矶湖人主场大胜开拓者，豪取7连胜。保罗-加索尔表现惊艳，...</td>\n",
       "    </tr>\n",
       "  </tbody>\n",
       "</table>\n",
       "</div>"
      ],
      "text/plain": [
       "  label                     title  \\\n",
       "0    体育    图文-女排世锦赛6日战况 土耳其姑娘庆祝得分   \n",
       "1    体育  调查：奇才负骑士阿联2分 您如何看待他的低迷表现   \n",
       "2    体育   首发：波什迎来救赎良机 墨菲复出挑战热火三巨头   \n",
       "3    体育  开拓者vs湖人首发：科比对阵罗伊 内线两双塔之战   \n",
       "4    体育     调查-您认为加索尔是否称得上联盟第一内线？   \n",
       "\n",
       "                                                text  \n",
       "0  新浪体育讯　北京时间11月6日，2010年世界女排锦标赛继续进行，E组第二轮比赛中，土耳其队...  \n",
       "1  新浪体育讯　北京时间11月7日，奇才在主场以102-107不敌骑士。易建联只打了14分钟，5...  \n",
       "2  新浪体育讯　北京时间11月7日，热火回到主场迎战篮网，这是热火连续六个主场比赛的第一场。他们...  \n",
       "3  新浪体育讯　北京时间11月8日，NBA常规赛洛杉矶湖人主场迎战波特兰开拓者，赛前双方也公布了...  \n",
       "4  新浪体育讯　北京时间11月8日，洛杉矶湖人主场大胜开拓者，豪取7连胜。保罗-加索尔表现惊艳，...  "
      ]
     },
     "execution_count": 1,
     "metadata": {},
     "output_type": "execute_result"
    }
   ],
   "source": [
    "from pathlib import Path\n",
    "import pandas as pd\n",
    "\n",
    "path = './examples/ai'\n",
    "path = Path(path)\n",
    "\n",
    "df = pd.read_csv(path.joinpath('./data/thucnews.txt'), sep='\\t', error_bad_lines=False)\n",
    "df.head(5)"
   ]
  },
  {
   "cell_type": "code",
   "execution_count": 2,
   "id": "11c70540-306f-4ee1-87a0-cafc1502f4e3",
   "metadata": {},
   "outputs": [
    {
     "data": {
      "text/plain": [
       "(91990, 3)"
      ]
     },
     "execution_count": 2,
     "metadata": {},
     "output_type": "execute_result"
    }
   ],
   "source": [
    "df.shape"
   ]
  },
  {
   "cell_type": "code",
   "execution_count": 3,
   "id": "0ab955b7-417b-4d8e-beb0-ad367e112e5b",
   "metadata": {},
   "outputs": [
    {
     "name": "stdout",
     "output_type": "stream",
     "text": [
      "<class 'pandas.core.frame.DataFrame'>\n",
      "RangeIndex: 91990 entries, 0 to 91989\n",
      "Data columns (total 3 columns):\n",
      " #   Column  Non-Null Count  Dtype \n",
      "---  ------  --------------  ----- \n",
      " 0   label   91990 non-null  object\n",
      " 1   title   91990 non-null  object\n",
      " 2   text    91990 non-null  object\n",
      "dtypes: object(3)\n",
      "memory usage: 2.1+ MB\n"
     ]
    }
   ],
   "source": [
    "df.info()"
   ]
  },
  {
   "cell_type": "code",
   "execution_count": 4,
   "id": "40f9d320-1a45-4e12-ada6-0c8355c521df",
   "metadata": {},
   "outputs": [
    {
     "name": "stdout",
     "output_type": "stream",
     "text": [
      "体育: (7821, 3)\n",
      "娱乐: (9651, 3)\n",
      "家居: (12095, 3)\n",
      "彩票: (1061, 3)\n",
      "房产: (468, 3)\n",
      "教育: (3822, 3)\n",
      "时尚: (2426, 3)\n",
      "时政: (8202, 3)\n",
      "星座: (1578, 3)\n",
      "游戏: (1361, 3)\n",
      "社会: (1399, 3)\n",
      "科技: (13038, 3)\n",
      "股票: (26465, 3)\n",
      "财经: (2603, 3)\n"
     ]
    }
   ],
   "source": [
    "for name,group in df.groupby(['label']):\n",
    "    print(f'{name}: {group.shape}')"
   ]
  },
  {
   "cell_type": "code",
   "execution_count": 5,
   "id": "48975a06-9ca5-44ab-8372-6073d9c3490a",
   "metadata": {},
   "outputs": [
    {
     "data": {
      "text/plain": [
       "<AxesSubplot:ylabel='label'>"
      ]
     },
     "execution_count": 5,
     "metadata": {},
     "output_type": "execute_result"
    },
    {
     "data": {
      "image/png": "[encoded data removed]",
      "text/plain": [
       "<Figure size 432x288 with 1 Axes>"
      ]
     },
     "metadata": {
      "needs_background": "light"
     },
     "output_type": "display_data"
    }
   ],
   "source": [
    "import warnings\n",
    "warnings.filterwarnings(\"ignore\")\n",
    "import numpy as np\n",
    "import matplotlib.pyplot as plt\n",
    "#指定默认字体\n",
    "plt.rcParams['font.sans-serif'] = ['SimHei'] \n",
    "plt.rcParams['font.family']='sans-serif'\n",
    "#解决负号'-'显示为方块的问题\n",
    "plt.rcParams['axes.unicode_minus'] = False\n",
    "\n",
    "\n",
    "number = {name: group.shape[0] for name,group in df.groupby(['label'])}\n",
    "# pd.DataFrame.from_dict(number)\n",
    "numebr = pd.DataFrame(number.items(),columns=['label','number'])\n",
    "numebr.plot.barh(x = 'label', y = 'number')"
   ]
  },
  {
   "cell_type": "markdown",
   "id": "ad0adaf6-0769-4110-85b6-af4324611828",
   "metadata": {},
   "source": [
    "## **去除数量很少的标签数据**"
   ]
  },
  {
   "cell_type": "code",
   "execution_count": 6,
   "id": "c4b296bf-8e2e-4a22-8b7e-74f8cb43b4ba",
   "metadata": {},
   "outputs": [
    {
     "name": "stdout",
     "output_type": "stream",
     "text": [
      "体育: (7821, 3)\n",
      "娱乐: (9651, 3)\n",
      "家居: (12095, 3)\n",
      "彩票: (1061, 3)\n",
      "教育: (3822, 3)\n",
      "时尚: (2426, 3)\n",
      "时政: (8202, 3)\n",
      "星座: (1578, 3)\n",
      "游戏: (1361, 3)\n",
      "社会: (1399, 3)\n",
      "科技: (13038, 3)\n",
      "股票: (26465, 3)\n",
      "财经: (2603, 3)\n"
     ]
    }
   ],
   "source": [
    "df = df[df['label'] != '房产']\n",
    "\n",
    "for name,group in df.groupby(['label']):\n",
    "    print(f'{name}: {group.shape}')"
   ]
  },
  {
   "cell_type": "markdown",
   "id": "45dfba1d-9837-498b-a2f6-09fdad995273",
   "metadata": {},
   "source": [
    "## **取出分析列：label和text**"
   ]
  },
  {
   "cell_type": "code",
   "execution_count": 7,
   "id": "0e5a2b60-3746-4ac8-a2ec-5ce647608736",
   "metadata": {},
   "outputs": [
    {
     "data": {
      "text/html": [
       "<div>\n",
       "<style scoped>\n",
       "    .dataframe tbody tr th:only-of-type {\n",
       "        vertical-align: middle;\n",
       "    }\n",
       "\n",
       "    .dataframe tbody tr th {\n",
       "        vertical-align: top;\n",
       "    }\n",
       "\n",
       "    .dataframe thead th {\n",
       "        text-align: right;\n",
       "    }\n",
       "</style>\n",
       "<table border=\"1\" class=\"dataframe\">\n",
       "  <thead>\n",
       "    <tr style=\"text-align: right;\">\n",
       "      <th></th>\n",
       "      <th>label</th>\n",
       "      <th>text</th>\n",
       "    </tr>\n",
       "  </thead>\n",
       "  <tbody>\n",
       "    <tr>\n",
       "      <th>0</th>\n",
       "      <td>体育</td>\n",
       "      <td>新浪体育讯　北京时间11月6日，2010年世界女排锦标赛继续进行，E组第二轮比赛中，土耳其队...</td>\n",
       "    </tr>\n",
       "    <tr>\n",
       "      <th>1</th>\n",
       "      <td>体育</td>\n",
       "      <td>新浪体育讯　北京时间11月7日，奇才在主场以102-107不敌骑士。易建联只打了14分钟，5...</td>\n",
       "    </tr>\n",
       "    <tr>\n",
       "      <th>2</th>\n",
       "      <td>体育</td>\n",
       "      <td>新浪体育讯　北京时间11月7日，热火回到主场迎战篮网，这是热火连续六个主场比赛的第一场。他们...</td>\n",
       "    </tr>\n",
       "    <tr>\n",
       "      <th>3</th>\n",
       "      <td>体育</td>\n",
       "      <td>新浪体育讯　北京时间11月8日，NBA常规赛洛杉矶湖人主场迎战波特兰开拓者，赛前双方也公布了...</td>\n",
       "    </tr>\n",
       "    <tr>\n",
       "      <th>4</th>\n",
       "      <td>体育</td>\n",
       "      <td>新浪体育讯　北京时间11月8日，洛杉矶湖人主场大胜开拓者，豪取7连胜。保罗-加索尔表现惊艳，...</td>\n",
       "    </tr>\n",
       "  </tbody>\n",
       "</table>\n",
       "</div>"
      ],
      "text/plain": [
       "  label                                               text\n",
       "0    体育  新浪体育讯　北京时间11月6日，2010年世界女排锦标赛继续进行，E组第二轮比赛中，土耳其队...\n",
       "1    体育  新浪体育讯　北京时间11月7日，奇才在主场以102-107不敌骑士。易建联只打了14分钟，5...\n",
       "2    体育  新浪体育讯　北京时间11月7日，热火回到主场迎战篮网，这是热火连续六个主场比赛的第一场。他们...\n",
       "3    体育  新浪体育讯　北京时间11月8日，NBA常规赛洛杉矶湖人主场迎战波特兰开拓者，赛前双方也公布了...\n",
       "4    体育  新浪体育讯　北京时间11月8日，洛杉矶湖人主场大胜开拓者，豪取7连胜。保罗-加索尔表现惊艳，..."
      ]
     },
     "execution_count": 7,
     "metadata": {},
     "output_type": "execute_result"
    }
   ],
   "source": [
    "df = df[['label','text']]\n",
    "df.head(5)"
   ]
  },
  {
   "cell_type": "markdown",
   "id": "246ebaab-a381-497e-b440-7569397ebb06",
   "metadata": {},
   "source": [
    "## **预处理**\n",
    "\n",
    "## **正则**\n",
    "\n",
    "- 对于中文文本分类，我们需要保留下一些对于文本有意义的文字，如：中文，英文，数字，去除一些没有意义的字符，如：标点，空格"
   ]
  },
  {
   "cell_type": "code",
   "execution_count": 8,
   "id": "38bb38f0-0eb1-4d80-93d8-031f05d3fb36",
   "metadata": {},
   "outputs": [
    {
     "data": {
      "text/html": [
       "<div>\n",
       "<style scoped>\n",
       "    .dataframe tbody tr th:only-of-type {\n",
       "        vertical-align: middle;\n",
       "    }\n",
       "\n",
       "    .dataframe tbody tr th {\n",
       "        vertical-align: top;\n",
       "    }\n",
       "\n",
       "    .dataframe thead th {\n",
       "        text-align: right;\n",
       "    }\n",
       "</style>\n",
       "<table border=\"1\" class=\"dataframe\">\n",
       "  <thead>\n",
       "    <tr style=\"text-align: right;\">\n",
       "      <th></th>\n",
       "      <th>label</th>\n",
       "      <th>text</th>\n",
       "    </tr>\n",
       "  </thead>\n",
       "  <tbody>\n",
       "    <tr>\n",
       "      <th>0</th>\n",
       "      <td>体育</td>\n",
       "      <td>新浪体育讯 北京时间11月6日 2010年世界女排锦标赛继续进行 e组第二轮比赛中 土耳其队...</td>\n",
       "    </tr>\n",
       "    <tr>\n",
       "      <th>1</th>\n",
       "      <td>体育</td>\n",
       "      <td>新浪体育讯 北京时间11月7日 奇才在主场以102 107不敌骑士 易建联只打了14分钟 5...</td>\n",
       "    </tr>\n",
       "    <tr>\n",
       "      <th>2</th>\n",
       "      <td>体育</td>\n",
       "      <td>新浪体育讯 北京时间11月7日 热火回到主场迎战篮网 这是热火连续六个主场比赛的第一场 他们...</td>\n",
       "    </tr>\n",
       "    <tr>\n",
       "      <th>3</th>\n",
       "      <td>体育</td>\n",
       "      <td>新浪体育讯 北京时间11月8日 nba常规赛洛杉矶湖人主场迎战波特兰开拓者 赛前双方也公布了...</td>\n",
       "    </tr>\n",
       "    <tr>\n",
       "      <th>4</th>\n",
       "      <td>体育</td>\n",
       "      <td>新浪体育讯 北京时间11月8日 洛杉矶湖人主场大胜开拓者 豪取7连胜 保罗 加索尔表现惊艳 ...</td>\n",
       "    </tr>\n",
       "    <tr>\n",
       "      <th>...</th>\n",
       "      <td>...</td>\n",
       "      <td>...</td>\n",
       "    </tr>\n",
       "    <tr>\n",
       "      <th>91985</th>\n",
       "      <td>财经</td>\n",
       "      <td>marketwatch纽约10月8日讯 北京时间周四凌晨 纽约商业交易所11月交割的原油期...</td>\n",
       "    </tr>\n",
       "    <tr>\n",
       "      <th>91986</th>\n",
       "      <td>财经</td>\n",
       "      <td>金融时报 11月18日报道 保尔森对冲基金 paulson recovery fund 上...</td>\n",
       "    </tr>\n",
       "    <tr>\n",
       "      <th>91987</th>\n",
       "      <td>财经</td>\n",
       "      <td>2008年9月19日 美国国际集团 aig 宣布 aig董事会已任命爱德华 李迪 edwar...</td>\n",
       "    </tr>\n",
       "    <tr>\n",
       "      <th>91988</th>\n",
       "      <td>财经</td>\n",
       "      <td>中新网1月22日电美国楼市不景 白宫也不能幸免 据香港 文汇报 22日报道 房地产网站zil...</td>\n",
       "    </tr>\n",
       "    <tr>\n",
       "      <th>91989</th>\n",
       "      <td>财经</td>\n",
       "      <td>全景网11月10日讯 中国证监会周四发布的最新qfii名录显示 10月份证监会批准了三家qf...</td>\n",
       "    </tr>\n",
       "  </tbody>\n",
       "</table>\n",
       "<p>91522 rows × 2 columns</p>\n",
       "</div>"
      ],
      "text/plain": [
       "      label                                               text\n",
       "0        体育  新浪体育讯 北京时间11月6日 2010年世界女排锦标赛继续进行 e组第二轮比赛中 土耳其队...\n",
       "1        体育  新浪体育讯 北京时间11月7日 奇才在主场以102 107不敌骑士 易建联只打了14分钟 5...\n",
       "2        体育  新浪体育讯 北京时间11月7日 热火回到主场迎战篮网 这是热火连续六个主场比赛的第一场 他们...\n",
       "3        体育  新浪体育讯 北京时间11月8日 nba常规赛洛杉矶湖人主场迎战波特兰开拓者 赛前双方也公布了...\n",
       "4        体育  新浪体育讯 北京时间11月8日 洛杉矶湖人主场大胜开拓者 豪取7连胜 保罗 加索尔表现惊艳 ...\n",
       "...     ...                                                ...\n",
       "91985    财经   marketwatch纽约10月8日讯 北京时间周四凌晨 纽约商业交易所11月交割的原油期...\n",
       "91986    财经   金融时报 11月18日报道 保尔森对冲基金 paulson recovery fund 上...\n",
       "91987    财经  2008年9月19日 美国国际集团 aig 宣布 aig董事会已任命爱德华 李迪 edwar...\n",
       "91988    财经  中新网1月22日电美国楼市不景 白宫也不能幸免 据香港 文汇报 22日报道 房地产网站zil...\n",
       "91989    财经  全景网11月10日讯 中国证监会周四发布的最新qfii名录显示 10月份证监会批准了三家qf...\n",
       "\n",
       "[91522 rows x 2 columns]"
      ]
     },
     "execution_count": 8,
     "metadata": {},
     "output_type": "execute_result"
    }
   ],
   "source": [
    "import re\n",
    "\n",
    "# df['text'] = df['text'].apply(lambda x: re.sub('[^0-9a-zA-Z\\u4e00-\\u9fa5 ]',' ',x).lower())\n",
    "\n",
    "### 保留 中文 英文数字等，去除=等杂乱字符\n",
    "df['text']=df['text'].str.replace('[^0-9a-zA-Z\\u4e00-\\u9fa5 ]',' ',regex=True)\n",
    "\n",
    "### 全部转化为小写\n",
    "df['text']=df['text'].str.lower()\n",
    "\n",
    "## 去除空值项\n",
    "df=df.dropna()\n",
    "\n",
    "df"
   ]
  },
  {
   "cell_type": "markdown",
   "id": "39d7a3ea-3543-47f7-af66-56e70be17d27",
   "metadata": {},
   "source": [
    "## **分词**"
   ]
  },
  {
   "cell_type": "code",
   "execution_count": 9,
   "id": "20d96090-e03d-432b-85bd-f68b403b9e97",
   "metadata": {},
   "outputs": [
    {
     "name": "stderr",
     "output_type": "stream",
     "text": [
      "Building prefix dict from the default dictionary ...\n",
      "Dumping model to file cache C:\\Users\\DELL\\AppData\\Local\\Temp\\jieba.cache\n",
      "Loading model cost 0.569 seconds.\n",
      "Prefix dict has been built successfully.\n"
     ]
    },
    {
     "data": {
      "text/html": [
       "<div>\n",
       "<style scoped>\n",
       "    .dataframe tbody tr th:only-of-type {\n",
       "        vertical-align: middle;\n",
       "    }\n",
       "\n",
       "    .dataframe tbody tr th {\n",
       "        vertical-align: top;\n",
       "    }\n",
       "\n",
       "    .dataframe thead th {\n",
       "        text-align: right;\n",
       "    }\n",
       "</style>\n",
       "<table border=\"1\" class=\"dataframe\">\n",
       "  <thead>\n",
       "    <tr style=\"text-align: right;\">\n",
       "      <th></th>\n",
       "      <th>label</th>\n",
       "      <th>text</th>\n",
       "    </tr>\n",
       "  </thead>\n",
       "  <tbody>\n",
       "    <tr>\n",
       "      <th>0</th>\n",
       "      <td>体育</td>\n",
       "      <td>新浪 体育讯 北京 时间 世界 女排 锦标赛 继续 进行 第二轮 比赛 土耳其队 战胜 塞尔...</td>\n",
       "    </tr>\n",
       "    <tr>\n",
       "      <th>1</th>\n",
       "      <td>体育</td>\n",
       "      <td>新浪 体育讯 北京 时间 奇才 主场 不敌 骑士 易建联 分钟 得到 助攻 对于 今天 低迷...</td>\n",
       "    </tr>\n",
       "    <tr>\n",
       "      <th>2</th>\n",
       "      <td>体育</td>\n",
       "      <td>新浪 体育讯 北京 时间 热火 回到 主场 迎战 篮网 这是 热火 连续 六个 主场 比赛 ...</td>\n",
       "    </tr>\n",
       "    <tr>\n",
       "      <th>3</th>\n",
       "      <td>体育</td>\n",
       "      <td>新浪 体育讯 北京 时间 nba 常规赛 洛杉矶 湖人 主场 迎战 波特兰 开拓者 赛前 双...</td>\n",
       "    </tr>\n",
       "    <tr>\n",
       "      <th>4</th>\n",
       "      <td>体育</td>\n",
       "      <td>新浪 体育讯 北京 时间 洛杉矶 湖人 主场 大胜 开拓者 豪取 连胜 保罗 加索尔 表现 ...</td>\n",
       "    </tr>\n",
       "    <tr>\n",
       "      <th>...</th>\n",
       "      <td>...</td>\n",
       "      <td>...</td>\n",
       "    </tr>\n",
       "    <tr>\n",
       "      <th>91985</th>\n",
       "      <td>财经</td>\n",
       "      <td>marketwatch 纽约 日讯 北京 时间 周四 凌晨 纽约 商业 交易所 交割 原油期...</td>\n",
       "    </tr>\n",
       "    <tr>\n",
       "      <th>91986</th>\n",
       "      <td>财经</td>\n",
       "      <td>金融时报 报道 保尔森 对冲 基金 paulson recovery fund 上周 开始 ...</td>\n",
       "    </tr>\n",
       "    <tr>\n",
       "      <th>91987</th>\n",
       "      <td>财经</td>\n",
       "      <td>美国 国际 集团 aig 宣布 aig 董事会 任命 爱德华 李迪 edward liddy...</td>\n",
       "    </tr>\n",
       "    <tr>\n",
       "      <th>91988</th>\n",
       "      <td>财经</td>\n",
       "      <td>中新网 日电 美国 楼市 不景 白宫 不能 幸免 香港 文汇报 报道 房地产 网站 zill...</td>\n",
       "    </tr>\n",
       "    <tr>\n",
       "      <th>91989</th>\n",
       "      <td>财经</td>\n",
       "      <td>全景网 日讯 中国证监会 周四 发布 最新 qfii 名录 显示 月份 证监会 批准 三家 ...</td>\n",
       "    </tr>\n",
       "  </tbody>\n",
       "</table>\n",
       "<p>91519 rows × 2 columns</p>\n",
       "</div>"
      ],
      "text/plain": [
       "      label                                               text\n",
       "0        体育  新浪 体育讯 北京 时间 世界 女排 锦标赛 继续 进行 第二轮 比赛 土耳其队 战胜 塞尔...\n",
       "1        体育  新浪 体育讯 北京 时间 奇才 主场 不敌 骑士 易建联 分钟 得到 助攻 对于 今天 低迷...\n",
       "2        体育  新浪 体育讯 北京 时间 热火 回到 主场 迎战 篮网 这是 热火 连续 六个 主场 比赛 ...\n",
       "3        体育  新浪 体育讯 北京 时间 nba 常规赛 洛杉矶 湖人 主场 迎战 波特兰 开拓者 赛前 双...\n",
       "4        体育  新浪 体育讯 北京 时间 洛杉矶 湖人 主场 大胜 开拓者 豪取 连胜 保罗 加索尔 表现 ...\n",
       "...     ...                                                ...\n",
       "91985    财经  marketwatch 纽约 日讯 北京 时间 周四 凌晨 纽约 商业 交易所 交割 原油期...\n",
       "91986    财经  金融时报 报道 保尔森 对冲 基金 paulson recovery fund 上周 开始 ...\n",
       "91987    财经  美国 国际 集团 aig 宣布 aig 董事会 任命 爱德华 李迪 edward liddy...\n",
       "91988    财经  中新网 日电 美国 楼市 不景 白宫 不能 幸免 香港 文汇报 报道 房地产 网站 zill...\n",
       "91989    财经  全景网 日讯 中国证监会 周四 发布 最新 qfii 名录 显示 月份 证监会 批准 三家 ...\n",
       "\n",
       "[91519 rows x 2 columns]"
      ]
     },
     "execution_count": 9,
     "metadata": {},
     "output_type": "execute_result"
    }
   ],
   "source": [
    "import re\n",
    "import jieba\n",
    "from pathlib import Path\n",
    "\n",
    "def load_stopwords(file):\n",
    "    with open(file,'r',encoding='utf-8') as f:\n",
    "        sp = [x.strip() for x in f if x.strip()]\n",
    "    return sp\n",
    "\n",
    "\n",
    "def segment(x,stopwords = []):\n",
    "    x = [\n",
    "        y.replace(\" \",'') for y in jieba.cut(x) \n",
    "        if y not in stopwords \n",
    "        and re.search('[a-zA-Z\\u4e00-\\u9fa5]+',y) \n",
    "        and len(y.replace(\" \",\"\")) >= 2 \n",
    "    ]\n",
    "    \n",
    "    return \" \".join(x) if len(x) > 0 else None\n",
    "\n",
    "\n",
    "path = './examples/ai'\n",
    "path = Path(path)\n",
    "sp = path.joinpath('./data/哈工大停用词表.txt')\n",
    "sp = load_stopwords(sp)\n",
    "\n",
    "# 分词\n",
    "df['text']=df['text'].apply(lambda x: segment(x))\n",
    "\n",
    "## 去除空值项\n",
    "df=df.dropna()\n",
    "\n",
    "df"
   ]
  },
  {
   "cell_type": "markdown",
   "id": "da49eca9-21f2-4637-aace-bfd63ff861ba",
   "metadata": {},
   "source": [
    "## **根据分词筛选**\n",
    "\n",
    "- 过滤分完词，词语个数较少的文本，即可认为：词语个数不够的文本表征不太好"
   ]
  },
  {
   "cell_type": "code",
   "execution_count": 10,
   "id": "0ef39ac4-2d17-4773-a490-ab830fa1c2f2",
   "metadata": {},
   "outputs": [
    {
     "data": {
      "text/plain": [
       "count    91519.000000\n",
       "mean        37.983752\n",
       "std         15.656215\n",
       "min          1.000000\n",
       "25%         26.000000\n",
       "50%         38.000000\n",
       "75%         50.000000\n",
       "max         81.000000\n",
       "Name: text, dtype: float64"
      ]
     },
     "execution_count": 10,
     "metadata": {},
     "output_type": "execute_result"
    }
   ],
   "source": [
    "length=df['text'].apply(lambda x: len(x.split()))\n",
    "length.describe()\n",
    "# length.hist()"
   ]
  },
  {
   "cell_type": "code",
   "execution_count": 11,
   "id": "e7d17dc4-d158-4b6d-86a8-1af0db305e88",
   "metadata": {},
   "outputs": [
    {
     "data": {
      "text/plain": [
       "<AxesSubplot:>"
      ]
     },
     "execution_count": 11,
     "metadata": {},
     "output_type": "execute_result"
    },
    {
     "data": {
      "image/png": "[encoded data removed]",
      "text/plain": [
       "<Figure size 432x288 with 1 Axes>"
      ]
     },
     "metadata": {
      "needs_background": "light"
     },
     "output_type": "display_data"
    }
   ],
   "source": [
    "length.hist()"
   ]
  },
  {
   "cell_type": "code",
   "execution_count": 12,
   "id": "a9feb48e-7458-4926-85e8-bd92cc17f3e8",
   "metadata": {},
   "outputs": [
    {
     "data": {
      "text/html": [
       "<div>\n",
       "<style scoped>\n",
       "    .dataframe tbody tr th:only-of-type {\n",
       "        vertical-align: middle;\n",
       "    }\n",
       "\n",
       "    .dataframe tbody tr th {\n",
       "        vertical-align: top;\n",
       "    }\n",
       "\n",
       "    .dataframe thead th {\n",
       "        text-align: right;\n",
       "    }\n",
       "</style>\n",
       "<table border=\"1\" class=\"dataframe\">\n",
       "  <thead>\n",
       "    <tr style=\"text-align: right;\">\n",
       "      <th></th>\n",
       "      <th>label</th>\n",
       "      <th>text</th>\n",
       "      <th>length</th>\n",
       "    </tr>\n",
       "  </thead>\n",
       "  <tbody>\n",
       "    <tr>\n",
       "      <th>0</th>\n",
       "      <td>体育</td>\n",
       "      <td>新浪 体育讯 北京 时间 世界 女排 锦标赛 继续 进行 第二轮 比赛 土耳其队 战胜 塞尔...</td>\n",
       "      <td>28</td>\n",
       "    </tr>\n",
       "    <tr>\n",
       "      <th>1</th>\n",
       "      <td>体育</td>\n",
       "      <td>新浪 体育讯 北京 时间 奇才 主场 不敌 骑士 易建联 分钟 得到 助攻 对于 今天 低迷...</td>\n",
       "      <td>23</td>\n",
       "    </tr>\n",
       "    <tr>\n",
       "      <th>2</th>\n",
       "      <td>体育</td>\n",
       "      <td>新浪 体育讯 北京 时间 热火 回到 主场 迎战 篮网 这是 热火 连续 六个 主场 比赛 ...</td>\n",
       "      <td>59</td>\n",
       "    </tr>\n",
       "    <tr>\n",
       "      <th>3</th>\n",
       "      <td>体育</td>\n",
       "      <td>新浪 体育讯 北京 时间 nba 常规赛 洛杉矶 湖人 主场 迎战 波特兰 开拓者 赛前 双...</td>\n",
       "      <td>42</td>\n",
       "    </tr>\n",
       "    <tr>\n",
       "      <th>4</th>\n",
       "      <td>体育</td>\n",
       "      <td>新浪 体育讯 北京 时间 洛杉矶 湖人 主场 大胜 开拓者 豪取 连胜 保罗 加索尔 表现 ...</td>\n",
       "      <td>28</td>\n",
       "    </tr>\n",
       "    <tr>\n",
       "      <th>...</th>\n",
       "      <td>...</td>\n",
       "      <td>...</td>\n",
       "      <td>...</td>\n",
       "    </tr>\n",
       "    <tr>\n",
       "      <th>91985</th>\n",
       "      <td>财经</td>\n",
       "      <td>marketwatch 纽约 日讯 北京 时间 周四 凌晨 纽约 商业 交易所 交割 原油期...</td>\n",
       "      <td>39</td>\n",
       "    </tr>\n",
       "    <tr>\n",
       "      <th>91986</th>\n",
       "      <td>财经</td>\n",
       "      <td>金融时报 报道 保尔森 对冲 基金 paulson recovery fund 上周 开始 ...</td>\n",
       "      <td>33</td>\n",
       "    </tr>\n",
       "    <tr>\n",
       "      <th>91987</th>\n",
       "      <td>财经</td>\n",
       "      <td>美国 国际 集团 aig 宣布 aig 董事会 任命 爱德华 李迪 edward liddy...</td>\n",
       "      <td>40</td>\n",
       "    </tr>\n",
       "    <tr>\n",
       "      <th>91988</th>\n",
       "      <td>财经</td>\n",
       "      <td>中新网 日电 美国 楼市 不景 白宫 不能 幸免 香港 文汇报 报道 房地产 网站 zill...</td>\n",
       "      <td>47</td>\n",
       "    </tr>\n",
       "    <tr>\n",
       "      <th>91989</th>\n",
       "      <td>财经</td>\n",
       "      <td>全景网 日讯 中国证监会 周四 发布 最新 qfii 名录 显示 月份 证监会 批准 三家 ...</td>\n",
       "      <td>48</td>\n",
       "    </tr>\n",
       "  </tbody>\n",
       "</table>\n",
       "<p>91519 rows × 3 columns</p>\n",
       "</div>"
      ],
      "text/plain": [
       "      label                                               text  length\n",
       "0        体育  新浪 体育讯 北京 时间 世界 女排 锦标赛 继续 进行 第二轮 比赛 土耳其队 战胜 塞尔...      28\n",
       "1        体育  新浪 体育讯 北京 时间 奇才 主场 不敌 骑士 易建联 分钟 得到 助攻 对于 今天 低迷...      23\n",
       "2        体育  新浪 体育讯 北京 时间 热火 回到 主场 迎战 篮网 这是 热火 连续 六个 主场 比赛 ...      59\n",
       "3        体育  新浪 体育讯 北京 时间 nba 常规赛 洛杉矶 湖人 主场 迎战 波特兰 开拓者 赛前 双...      42\n",
       "4        体育  新浪 体育讯 北京 时间 洛杉矶 湖人 主场 大胜 开拓者 豪取 连胜 保罗 加索尔 表现 ...      28\n",
       "...     ...                                                ...     ...\n",
       "91985    财经  marketwatch 纽约 日讯 北京 时间 周四 凌晨 纽约 商业 交易所 交割 原油期...      39\n",
       "91986    财经  金融时报 报道 保尔森 对冲 基金 paulson recovery fund 上周 开始 ...      33\n",
       "91987    财经  美国 国际 集团 aig 宣布 aig 董事会 任命 爱德华 李迪 edward liddy...      40\n",
       "91988    财经  中新网 日电 美国 楼市 不景 白宫 不能 幸免 香港 文汇报 报道 房地产 网站 zill...      47\n",
       "91989    财经  全景网 日讯 中国证监会 周四 发布 最新 qfii 名录 显示 月份 证监会 批准 三家 ...      48\n",
       "\n",
       "[91519 rows x 3 columns]"
      ]
     },
     "execution_count": 12,
     "metadata": {},
     "output_type": "execute_result"
    }
   ],
   "source": [
    "df['length'] = length\n",
    "df"
   ]
  },
  {
   "cell_type": "code",
   "execution_count": 13,
   "id": "6abfa7f2-f0a9-4b63-8589-37c3ac1a958a",
   "metadata": {},
   "outputs": [
    {
     "data": {
      "text/html": [
       "<div>\n",
       "<style scoped>\n",
       "    .dataframe tbody tr th:only-of-type {\n",
       "        vertical-align: middle;\n",
       "    }\n",
       "\n",
       "    .dataframe tbody tr th {\n",
       "        vertical-align: top;\n",
       "    }\n",
       "\n",
       "    .dataframe thead th {\n",
       "        text-align: right;\n",
       "    }\n",
       "</style>\n",
       "<table border=\"1\" class=\"dataframe\">\n",
       "  <thead>\n",
       "    <tr style=\"text-align: right;\">\n",
       "      <th></th>\n",
       "      <th>label</th>\n",
       "      <th>text</th>\n",
       "      <th>length</th>\n",
       "    </tr>\n",
       "  </thead>\n",
       "  <tbody>\n",
       "    <tr>\n",
       "      <th>0</th>\n",
       "      <td>体育</td>\n",
       "      <td>新浪 体育讯 北京 时间 世界 女排 锦标赛 继续 进行 第二轮 比赛 土耳其队 战胜 塞尔...</td>\n",
       "      <td>28</td>\n",
       "    </tr>\n",
       "    <tr>\n",
       "      <th>1</th>\n",
       "      <td>体育</td>\n",
       "      <td>新浪 体育讯 北京 时间 奇才 主场 不敌 骑士 易建联 分钟 得到 助攻 对于 今天 低迷...</td>\n",
       "      <td>23</td>\n",
       "    </tr>\n",
       "    <tr>\n",
       "      <th>2</th>\n",
       "      <td>体育</td>\n",
       "      <td>新浪 体育讯 北京 时间 热火 回到 主场 迎战 篮网 这是 热火 连续 六个 主场 比赛 ...</td>\n",
       "      <td>59</td>\n",
       "    </tr>\n",
       "    <tr>\n",
       "      <th>3</th>\n",
       "      <td>体育</td>\n",
       "      <td>新浪 体育讯 北京 时间 nba 常规赛 洛杉矶 湖人 主场 迎战 波特兰 开拓者 赛前 双...</td>\n",
       "      <td>42</td>\n",
       "    </tr>\n",
       "    <tr>\n",
       "      <th>4</th>\n",
       "      <td>体育</td>\n",
       "      <td>新浪 体育讯 北京 时间 洛杉矶 湖人 主场 大胜 开拓者 豪取 连胜 保罗 加索尔 表现 ...</td>\n",
       "      <td>28</td>\n",
       "    </tr>\n",
       "    <tr>\n",
       "      <th>...</th>\n",
       "      <td>...</td>\n",
       "      <td>...</td>\n",
       "      <td>...</td>\n",
       "    </tr>\n",
       "    <tr>\n",
       "      <th>91985</th>\n",
       "      <td>财经</td>\n",
       "      <td>marketwatch 纽约 日讯 北京 时间 周四 凌晨 纽约 商业 交易所 交割 原油期...</td>\n",
       "      <td>39</td>\n",
       "    </tr>\n",
       "    <tr>\n",
       "      <th>91986</th>\n",
       "      <td>财经</td>\n",
       "      <td>金融时报 报道 保尔森 对冲 基金 paulson recovery fund 上周 开始 ...</td>\n",
       "      <td>33</td>\n",
       "    </tr>\n",
       "    <tr>\n",
       "      <th>91987</th>\n",
       "      <td>财经</td>\n",
       "      <td>美国 国际 集团 aig 宣布 aig 董事会 任命 爱德华 李迪 edward liddy...</td>\n",
       "      <td>40</td>\n",
       "    </tr>\n",
       "    <tr>\n",
       "      <th>91988</th>\n",
       "      <td>财经</td>\n",
       "      <td>中新网 日电 美国 楼市 不景 白宫 不能 幸免 香港 文汇报 报道 房地产 网站 zill...</td>\n",
       "      <td>47</td>\n",
       "    </tr>\n",
       "    <tr>\n",
       "      <th>91989</th>\n",
       "      <td>财经</td>\n",
       "      <td>全景网 日讯 中国证监会 周四 发布 最新 qfii 名录 显示 月份 证监会 批准 三家 ...</td>\n",
       "      <td>48</td>\n",
       "    </tr>\n",
       "  </tbody>\n",
       "</table>\n",
       "<p>88578 rows × 3 columns</p>\n",
       "</div>"
      ],
      "text/plain": [
       "      label                                               text  length\n",
       "0        体育  新浪 体育讯 北京 时间 世界 女排 锦标赛 继续 进行 第二轮 比赛 土耳其队 战胜 塞尔...      28\n",
       "1        体育  新浪 体育讯 北京 时间 奇才 主场 不敌 骑士 易建联 分钟 得到 助攻 对于 今天 低迷...      23\n",
       "2        体育  新浪 体育讯 北京 时间 热火 回到 主场 迎战 篮网 这是 热火 连续 六个 主场 比赛 ...      59\n",
       "3        体育  新浪 体育讯 北京 时间 nba 常规赛 洛杉矶 湖人 主场 迎战 波特兰 开拓者 赛前 双...      42\n",
       "4        体育  新浪 体育讯 北京 时间 洛杉矶 湖人 主场 大胜 开拓者 豪取 连胜 保罗 加索尔 表现 ...      28\n",
       "...     ...                                                ...     ...\n",
       "91985    财经  marketwatch 纽约 日讯 北京 时间 周四 凌晨 纽约 商业 交易所 交割 原油期...      39\n",
       "91986    财经  金融时报 报道 保尔森 对冲 基金 paulson recovery fund 上周 开始 ...      33\n",
       "91987    财经  美国 国际 集团 aig 宣布 aig 董事会 任命 爱德华 李迪 edward liddy...      40\n",
       "91988    财经  中新网 日电 美国 楼市 不景 白宫 不能 幸免 香港 文汇报 报道 房地产 网站 zill...      47\n",
       "91989    财经  全景网 日讯 中国证监会 周四 发布 最新 qfii 名录 显示 月份 证监会 批准 三家 ...      48\n",
       "\n",
       "[88578 rows x 3 columns]"
      ]
     },
     "execution_count": 13,
     "metadata": {},
     "output_type": "execute_result"
    }
   ],
   "source": [
    "df = df[(df['length'] >= 10) & (df['length'] <= 70)]\n",
    "df"
   ]
  },
  {
   "cell_type": "code",
   "execution_count": 14,
   "id": "455b0bdb-d2ae-4918-abec-240190e369c7",
   "metadata": {},
   "outputs": [
    {
     "data": {
      "text/plain": [
       "count    88578.000000\n",
       "mean        38.654530\n",
       "std         14.828398\n",
       "min         10.000000\n",
       "25%         27.000000\n",
       "50%         39.000000\n",
       "75%         50.000000\n",
       "max         70.000000\n",
       "Name: length, dtype: float64"
      ]
     },
     "execution_count": 14,
     "metadata": {},
     "output_type": "execute_result"
    }
   ],
   "source": [
    "df['length'].describe()"
   ]
  },
  {
   "cell_type": "code",
   "execution_count": 15,
   "id": "0a4fddb5-5099-45a5-b9e1-4b9e9cbd4d71",
   "metadata": {},
   "outputs": [
    {
     "name": "stdout",
     "output_type": "stream",
     "text": [
      "体育: (7730, 3)\n",
      "娱乐: (9598, 3)\n",
      "家居: (11347, 3)\n",
      "彩票: (951, 3)\n",
      "教育: (3702, 3)\n",
      "时尚: (2376, 3)\n",
      "时政: (8097, 3)\n",
      "星座: (1577, 3)\n",
      "游戏: (1342, 3)\n",
      "社会: (1384, 3)\n",
      "科技: (12772, 3)\n",
      "股票: (25206, 3)\n",
      "财经: (2496, 3)\n"
     ]
    }
   ],
   "source": [
    "for name,group in df.groupby(['label']):\n",
    "    print(f'{name}: {group.shape}')"
   ]
  },
  {
   "cell_type": "code",
   "execution_count": 16,
   "id": "6928e0d9-d766-4a34-9bf4-081227c588f2",
   "metadata": {},
   "outputs": [
    {
     "name": "stdout",
     "output_type": "stream",
     "text": [
      "体育: (7730, 3)\n",
      "娱乐: (9598, 3)\n",
      "家居: (11347, 3)\n",
      "教育: (3702, 3)\n",
      "时尚: (2376, 3)\n",
      "时政: (8097, 3)\n",
      "星座: (1577, 3)\n",
      "游戏: (1342, 3)\n",
      "社会: (1384, 3)\n",
      "科技: (12772, 3)\n",
      "股票: (25206, 3)\n",
      "财经: (2496, 3)\n"
     ]
    }
   ],
   "source": [
    "## 去除数量太少的文本\n",
    "\n",
    "df = df[df['label'] != '彩票']\n",
    "for name,group in df.groupby(['label']):\n",
    "    print(f'{name}: {group.shape}')"
   ]
  },
  {
   "cell_type": "markdown",
   "id": "c7a59685-99a1-4ead-ab54-7d2d81c7bd9e",
   "metadata": {},
   "source": [
    "## **样本均衡**\n",
    "\n",
    "- 原则上每个类别的文本需要一样多，不然对于结果的影响较大"
   ]
  },
  {
   "cell_type": "code",
   "execution_count": 17,
   "id": "1aabf258-002c-4dcb-b438-edce2ef7ca2c",
   "metadata": {},
   "outputs": [
    {
     "data": {
      "text/plain": [
       "1342"
      ]
     },
     "execution_count": 17,
     "metadata": {},
     "output_type": "execute_result"
    }
   ],
   "source": [
    "## 取定最小数量的\n",
    "\n",
    "min_data_nums = min(group.shape[0] for name,group in df.groupby(['label']))\n",
    "min_data_nums"
   ]
  },
  {
   "cell_type": "code",
   "execution_count": 18,
   "id": "d04d6b34-1057-4b9f-ba7e-9aa27f017c60",
   "metadata": {},
   "outputs": [
    {
     "data": {
      "text/html": [
       "<div>\n",
       "<style scoped>\n",
       "    .dataframe tbody tr th:only-of-type {\n",
       "        vertical-align: middle;\n",
       "    }\n",
       "\n",
       "    .dataframe tbody tr th {\n",
       "        vertical-align: top;\n",
       "    }\n",
       "\n",
       "    .dataframe thead th {\n",
       "        text-align: right;\n",
       "    }\n",
       "</style>\n",
       "<table border=\"1\" class=\"dataframe\">\n",
       "  <thead>\n",
       "    <tr style=\"text-align: right;\">\n",
       "      <th></th>\n",
       "      <th>label</th>\n",
       "      <th>text</th>\n",
       "      <th>length</th>\n",
       "    </tr>\n",
       "  </thead>\n",
       "  <tbody>\n",
       "    <tr>\n",
       "      <th>6590</th>\n",
       "      <td>体育</td>\n",
       "      <td>新浪 体育讯 北京 时间 中超联赛 比赛 正式 打响 天津 康师傅 主场 天津泰达 大球场 ...</td>\n",
       "      <td>43</td>\n",
       "    </tr>\n",
       "    <tr>\n",
       "      <th>2614</th>\n",
       "      <td>体育</td>\n",
       "      <td>新浪 体育讯 北京 时间 f1 比利时 大奖赛 在斯帕 赛道 开始 周五 两次 练习赛 图为...</td>\n",
       "      <td>26</td>\n",
       "    </tr>\n",
       "    <tr>\n",
       "      <th>1344</th>\n",
       "      <td>体育</td>\n",
       "      <td>新浪 体育讯 北京 时间 卡塔尔 亚洲杯 第二场 比赛 阿拉法 球场 打响 首次 亮相 中国...</td>\n",
       "      <td>54</td>\n",
       "    </tr>\n",
       "    <tr>\n",
       "      <th>5293</th>\n",
       "      <td>体育</td>\n",
       "      <td>新浪 体育讯 北京 时间 罗伯特 盖瑞古斯 robert garrigus 佛罗里达 时间 ...</td>\n",
       "      <td>39</td>\n",
       "    </tr>\n",
       "    <tr>\n",
       "      <th>5969</th>\n",
       "      <td>体育</td>\n",
       "      <td>新浪 体育讯 郑州 消息 今天 河南 思念 高尔夫 俱乐部 展开 全国 高尔夫 职业 邀请赛...</td>\n",
       "      <td>31</td>\n",
       "    </tr>\n",
       "    <tr>\n",
       "      <th>...</th>\n",
       "      <td>...</td>\n",
       "      <td>...</td>\n",
       "      <td>...</td>\n",
       "    </tr>\n",
       "    <tr>\n",
       "      <th>89585</th>\n",
       "      <td>财经</td>\n",
       "      <td>全景网 日讯 海富通 基金 管理 公司 今日 公告 海富通 稳健 添利 债券 型基金 日起 ...</td>\n",
       "      <td>53</td>\n",
       "    </tr>\n",
       "    <tr>\n",
       "      <th>91297</th>\n",
       "      <td>财经</td>\n",
       "      <td>中旬 开业 第一 创业 期货 意在 股指 期货 目前 只能 商品 期货 开始 起步 董事长 ...</td>\n",
       "      <td>39</td>\n",
       "    </tr>\n",
       "    <tr>\n",
       "      <th>89518</th>\n",
       "      <td>财经</td>\n",
       "      <td>本报记者 施俊 中银 基金 管理 公司 日前 发布公告 新增 旗下 四只 产品 中银 货币 ...</td>\n",
       "      <td>47</td>\n",
       "    </tr>\n",
       "    <tr>\n",
       "      <th>91724</th>\n",
       "      <td>财经</td>\n",
       "      <td>白亚洁 受到 隔夜 美棉 涨停 影响 周三 郑棉 主力 合约 高开高 全天 上涨 收报 涨幅...</td>\n",
       "      <td>50</td>\n",
       "    </tr>\n",
       "    <tr>\n",
       "      <th>90233</th>\n",
       "      <td>财经</td>\n",
       "      <td>新浪 财经 近日 易方达 一对 布局 再下 一城 农行 代销 一对 成立 易方达 偕同 中国...</td>\n",
       "      <td>64</td>\n",
       "    </tr>\n",
       "  </tbody>\n",
       "</table>\n",
       "<p>16104 rows × 3 columns</p>\n",
       "</div>"
      ],
      "text/plain": [
       "      label                                               text  length\n",
       "6590     体育  新浪 体育讯 北京 时间 中超联赛 比赛 正式 打响 天津 康师傅 主场 天津泰达 大球场 ...      43\n",
       "2614     体育  新浪 体育讯 北京 时间 f1 比利时 大奖赛 在斯帕 赛道 开始 周五 两次 练习赛 图为...      26\n",
       "1344     体育  新浪 体育讯 北京 时间 卡塔尔 亚洲杯 第二场 比赛 阿拉法 球场 打响 首次 亮相 中国...      54\n",
       "5293     体育  新浪 体育讯 北京 时间 罗伯特 盖瑞古斯 robert garrigus 佛罗里达 时间 ...      39\n",
       "5969     体育  新浪 体育讯 郑州 消息 今天 河南 思念 高尔夫 俱乐部 展开 全国 高尔夫 职业 邀请赛...      31\n",
       "...     ...                                                ...     ...\n",
       "89585    财经  全景网 日讯 海富通 基金 管理 公司 今日 公告 海富通 稳健 添利 债券 型基金 日起 ...      53\n",
       "91297    财经  中旬 开业 第一 创业 期货 意在 股指 期货 目前 只能 商品 期货 开始 起步 董事长 ...      39\n",
       "89518    财经  本报记者 施俊 中银 基金 管理 公司 日前 发布公告 新增 旗下 四只 产品 中银 货币 ...      47\n",
       "91724    财经  白亚洁 受到 隔夜 美棉 涨停 影响 周三 郑棉 主力 合约 高开高 全天 上涨 收报 涨幅...      50\n",
       "90233    财经  新浪 财经 近日 易方达 一对 布局 再下 一城 农行 代销 一对 成立 易方达 偕同 中国...      64\n",
       "\n",
       "[16104 rows x 3 columns]"
      ]
     },
     "execution_count": 18,
     "metadata": {},
     "output_type": "execute_result"
    }
   ],
   "source": [
    "newdf = pd.DataFrame()\n",
    "for name,group in df.groupby(['label']):\n",
    "    group=group.sample(n=min_data_nums)\n",
    "    newdf = pd.concat([newdf,group])\n",
    "df = newdf\n",
    "df"
   ]
  },
  {
   "cell_type": "code",
   "execution_count": 19,
   "id": "2c819d64-feee-41b0-a45a-2e671e0eca8c",
   "metadata": {},
   "outputs": [
    {
     "name": "stdout",
     "output_type": "stream",
     "text": [
      "体育: (1342, 3)\n",
      "娱乐: (1342, 3)\n",
      "家居: (1342, 3)\n",
      "教育: (1342, 3)\n",
      "时尚: (1342, 3)\n",
      "时政: (1342, 3)\n",
      "星座: (1342, 3)\n",
      "游戏: (1342, 3)\n",
      "社会: (1342, 3)\n",
      "科技: (1342, 3)\n",
      "股票: (1342, 3)\n",
      "财经: (1342, 3)\n"
     ]
    }
   ],
   "source": [
    "for name,group in df.groupby(['label']):\n",
    "    print(f'{name}: {group.shape}')"
   ]
  },
  {
   "cell_type": "markdown",
   "id": "747f5572-4827-433c-85c8-c2cf4cf588c6",
   "metadata": {},
   "source": [
    "## **绘制词云：粗略看文本词语分布**"
   ]
  },
  {
   "cell_type": "code",
   "execution_count": 20,
   "id": "5a7c6334-2225-4c44-b5dd-5ba502cbd51b",
   "metadata": {},
   "outputs": [
    {
     "name": "stdout",
     "output_type": "stream",
     "text": [
      "word count top 10：[('新浪', 1339), ('体育讯', 1132), ('时间', 985), ('北京', 917), ('比赛', 775), ('球员', 348), ('消息', 341), ('俱乐部', 310), ('图为', 287), ('高尔夫球', 283)]\n"
     ]
    },
    {
     "data": {
      "image/png": "[encoded data removed]",
      "text/plain": [
       "<Figure size 432x288 with 1 Axes>"
      ]
     },
     "metadata": {
      "needs_background": "light"
     },
     "output_type": "display_data"
    },
    {
     "name": "stdout",
     "output_type": "stream",
     "text": [
      "word count top 10：[('评论', 1276), ('我要', 637), ('新浪', 568), ('财经', 551), ('公司', 479), ('发表', 476), ('亿元', 474), ('消息', 467), ('欢迎', 442), ('成交', 363)]\n"
     ]
    },
    {
     "data": {
      "image/png": "[encoded data removed]",
      "text/plain": [
       "<Figure size 432x288 with 1 Axes>"
      ]
     },
     "metadata": {
      "needs_background": "light"
     },
     "output_type": "display_data"
    }
   ],
   "source": [
    "import warnings\n",
    "warnings.filterwarnings(\"ignore\")\n",
    "import numpy as np\n",
    "from PIL import Image\n",
    "import matplotlib.pyplot as plt\n",
    "#指定默认字体\n",
    "plt.rcParams['font.sans-serif'] = ['SimHei'] \n",
    "plt.rcParams['font.family']='sans-serif'\n",
    "#解决负号'-'显示为方块的问题\n",
    "plt.rcParams['axes.unicode_minus'] = False\n",
    "\n",
    "from collections import Counter\n",
    "from wordcloud import WordCloud\n",
    "\n",
    "\n",
    "## 设置词云字体\n",
    "font = './examples/ai/data/simkai.ttf'\n",
    "\n",
    "## 设置词云底图\n",
    "mask = './examples/ai/data/huge.jpg'\n",
    "### 读取mask即：背景样式图\n",
    "mask = np.array(Image.open(mask))\n",
    "\n",
    "## 设置最大展示词语数，词语太多显示不太好\n",
    "maxwords = 200\n",
    "\n",
    "## 标签太多设置只展示几个\n",
    "labels = ['体育','股票']\n",
    "\n",
    "for x in labels:\n",
    "    newdf = df[df['label'] == x]\n",
    "    wordlist = ' '.join(newdf['text']).split()\n",
    "    ## 统计词频\n",
    "    word_count = Counter(wordlist)\n",
    "    print(f'word count top 10：{word_count.most_common(10)}')\n",
    "    \n",
    "    ## 生成词云\n",
    "    wc = WordCloud(\n",
    "        mask = mask,\n",
    "        font_path = font,\n",
    "        mode = 'RGBA',\n",
    "        background_color = \"white\",\n",
    "        max_words = maxwords\n",
    "    ).generate_from_frequencies(word_count)\n",
    "    \n",
    "    ### 显示词云图\n",
    "    plt.imshow(wc,interpolation=\"bilinear\")\n",
    "    plt.title(f\"label = {x}\")\n",
    "    plt.axis(\"off\")\n",
    "    plt.show()\n",
    "    ### 保存词云图，注意：必须先plt.show才能保存，否则保存为空白\n",
    "    wc.to_file(f'./examples/ai/output/{x}.png')    "
   ]
  },
  {
   "cell_type": "code",
   "execution_count": 21,
   "id": "e06c3843-accd-435a-b114-b8d0c4bfffd3",
   "metadata": {},
   "outputs": [
    {
     "data": {
      "text/html": [
       "\n",
       "   <table><tr>\n",
       "        <td><img src='./examples/ai/output/体育.png' border=0></td>\n",
       "        <td><img src='./examples/ai/output/股票.png' border=0></td>\n",
       "    </tr></table>\n"
      ],
      "text/plain": [
       "<IPython.core.display.HTML object>"
      ]
     },
     "execution_count": 21,
     "metadata": {},
     "output_type": "execute_result"
    }
   ],
   "source": [
    "import IPython\n",
    "\n",
    "IPython.display.HTML(f\"\"\"\n",
    "   <table><tr>\n",
    "        <td><img src='./examples/ai/output/体育.png' border=0></td>\n",
    "        <td><img src='./examples/ai/output/股票.png' border=0></td>\n",
    "    </tr></table>\n",
    "\"\"\")"
   ]
  },
  {
   "cell_type": "markdown",
   "id": "c0723f50-a082-4957-ae29-275f9973ffc5",
   "metadata": {},
   "source": [
    "## **建立词集映射**"
   ]
  },
  {
   "cell_type": "code",
   "execution_count": 22,
   "id": "b3ff9b4d-9cdf-4a1e-9301-5f97a14e959a",
   "metadata": {},
   "outputs": [],
   "source": [
    "import json\n",
    "import tensorflow as tf\n",
    "\n",
    "\n",
    "\n",
    "def save_json(json_dict,file):\n",
    "    '''保存json对象为json文件'''\n",
    "    with open(file,'w',encoding='utf-8') as f:\n",
    "        f.write(json.dumps(json_dict,indent=4,ensure_ascii=False))\n",
    "    return \n",
    "\n",
    "\n",
    "def read_json(file):\n",
    "    '''读取json文件转化为python对象'''\n",
    "    with open(file,'r',encoding='utf-8') as f:\n",
    "        json_dict = json.load(f)\n",
    "    return json_dict\n",
    "\n",
    "\n",
    "\n",
    "def create_tokenizer(data = None, tokenizer_config = None, create_switch = True):\n",
    "    if not create_switch and os.path.isfile(tokenizer_config):\n",
    "        # 由配置文件读取tokenizer对象\n",
    "        tokenconfig = read_json(tokenizer_config)\n",
    "        tokenizer = tf.keras.preprocessing.text.tokenizer_from_json(tokenconfig)\n",
    "    else:\n",
    "        # 初始化创建tokenizer对象\n",
    "        tokenizer = tf.keras.preprocessing.text.Tokenizer()\n",
    "        tokenizer.fit_on_texts(data)\n",
    "        tokenconfig = tokenizer.to_json()\n",
    "        save_json(tokenconfig,tokenizer_config)\n",
    "    vocab = tokenizer.word_index\n",
    "    return vocab, tokenizer\n",
    "\n",
    "\n",
    "### 建立token 词语id特征转化\n",
    "tokenizer_config = './examples/ai/output/tokenizer_config.json'\n",
    "tokenizer = tf.keras.preprocessing.text.Tokenizer()\n",
    "tokenizer.fit_on_texts(df['text'])\n",
    "tokenconfig = tokenizer.to_json()\n",
    "save_json(tokenconfig,tokenizer_config)\n",
    "vocab = tokenizer.word_index"
   ]
  },
  {
   "cell_type": "code",
   "execution_count": 23,
   "id": "7bfa22f0-56f3-44db-abb4-9e4b01739dd4",
   "metadata": {},
   "outputs": [
    {
     "data": {
      "text/plain": [
       "[('新浪', 1),\n",
       " ('基金', 2),\n",
       " ('时间', 3),\n",
       " ('评论', 4),\n",
       " ('测试', 5),\n",
       " ('北京', 6),\n",
       " ('消息', 7),\n",
       " ('记者', 8),\n",
       " ('心理', 9),\n",
       " ('娱乐', 10)]"
      ]
     },
     "execution_count": 23,
     "metadata": {},
     "output_type": "execute_result"
    }
   ],
   "source": [
    "list(vocab.items())[:10]"
   ]
  },
  {
   "cell_type": "code",
   "execution_count": 24,
   "id": "b9b76edd-cc38-4431-9543-9e84d9c78de4",
   "metadata": {},
   "outputs": [
    {
     "data": {
      "text/plain": [
       "['新浪 体育讯 北京 时间 中超联赛 比赛 正式 打响 天津 康师傅 主场 天津泰达 大球场 迎战 来访 河南 四五 比赛 进行 分钟 奥利 萨德贝 右路 突破 造成 王霄 犯规 河南队 获得 任意球 张璐 开出 任意球 直奔 球门 后角 守门员 杨君 受到 干扰 目送 皮球 入网']"
      ]
     },
     "execution_count": 24,
     "metadata": {},
     "output_type": "execute_result"
    }
   ],
   "source": [
    "sen = [df['text'].values.tolist()[0]]\n",
    "sen"
   ]
  },
  {
   "cell_type": "code",
   "execution_count": 25,
   "id": "c70ff209-fb89-4379-b784-d6a6d76e19d1",
   "metadata": {},
   "outputs": [
    {
     "name": "stdout",
     "output_type": "stream",
     "text": [
      "[[1, 26, 6, 3, 3484, 39, 38, 1905, 1204, 8872, 397, 7566, 16161, 644, 10741, 2441, 13776, 39, 21, 405, 16162, 36811, 5601, 727, 156, 36812, 3268, 16163, 107, 4267, 36813, 3970, 4267, 25352, 4478, 25353, 16164, 25354, 463, 8145, 36814, 3269, 12072]]\n"
     ]
    }
   ],
   "source": [
    "sen = tokenizer.texts_to_sequences(sen)\n",
    "print(sen)"
   ]
  },
  {
   "cell_type": "markdown",
   "id": "a2c475ba-487c-4ebb-b779-507f4623157c",
   "metadata": {},
   "source": [
    "## **保存处理完的数据集**"
   ]
  },
  {
   "cell_type": "code",
   "execution_count": 26,
   "id": "3dfc1f8c-1f5f-4885-82ba-a06aa4f71d92",
   "metadata": {},
   "outputs": [],
   "source": [
    "df.to_csv('./examples/ai/output/data.csv',sep='\\t',index=False)"
   ]
  },
  {
   "cell_type": "markdown",
   "id": "e052f8a3-1499-43ae-9d65-cd72474918cd",
   "metadata": {},
   "source": [
    "## **训练词向量**\n",
    "\n",
    "Word2vec，是一群用来产生词向量的相关模型。这些模型为浅而双层的神经网络，用来训练以重新建构语言学之词文本。\n",
    "\n",
    "网络以词表现，并且需猜测相邻位置的输入词，在word2vec中词袋模型假设下，词的顺序是不重要的。\n",
    "\n",
    "训练完成之后，word2vec模型可用来映射每个词到一个向量，可用来表示词对词之间的关系，该向量为神经网络之隐藏层。"
   ]
  },
  {
   "cell_type": "code",
   "execution_count": 27,
   "id": "b72d35cf-c00d-4c5a-a151-bc6dba415956",
   "metadata": {},
   "outputs": [
    {
     "data": {
      "text/html": [
       "<div>\n",
       "<style scoped>\n",
       "    .dataframe tbody tr th:only-of-type {\n",
       "        vertical-align: middle;\n",
       "    }\n",
       "\n",
       "    .dataframe tbody tr th {\n",
       "        vertical-align: top;\n",
       "    }\n",
       "\n",
       "    .dataframe thead th {\n",
       "        text-align: right;\n",
       "    }\n",
       "</style>\n",
       "<table border=\"1\" class=\"dataframe\">\n",
       "  <thead>\n",
       "    <tr style=\"text-align: right;\">\n",
       "      <th></th>\n",
       "      <th>label</th>\n",
       "      <th>text</th>\n",
       "      <th>length</th>\n",
       "    </tr>\n",
       "  </thead>\n",
       "  <tbody>\n",
       "    <tr>\n",
       "      <th>0</th>\n",
       "      <td>体育</td>\n",
       "      <td>新浪 体育讯 北京 时间 中超联赛 比赛 正式 打响 天津 康师傅 主场 天津泰达 大球场 ...</td>\n",
       "      <td>43</td>\n",
       "    </tr>\n",
       "    <tr>\n",
       "      <th>1</th>\n",
       "      <td>体育</td>\n",
       "      <td>新浪 体育讯 北京 时间 f1 比利时 大奖赛 在斯帕 赛道 开始 周五 两次 练习赛 图为...</td>\n",
       "      <td>26</td>\n",
       "    </tr>\n",
       "    <tr>\n",
       "      <th>2</th>\n",
       "      <td>体育</td>\n",
       "      <td>新浪 体育讯 北京 时间 卡塔尔 亚洲杯 第二场 比赛 阿拉法 球场 打响 首次 亮相 中国...</td>\n",
       "      <td>54</td>\n",
       "    </tr>\n",
       "    <tr>\n",
       "      <th>3</th>\n",
       "      <td>体育</td>\n",
       "      <td>新浪 体育讯 北京 时间 罗伯特 盖瑞古斯 robert garrigus 佛罗里达 时间 ...</td>\n",
       "      <td>39</td>\n",
       "    </tr>\n",
       "    <tr>\n",
       "      <th>4</th>\n",
       "      <td>体育</td>\n",
       "      <td>新浪 体育讯 郑州 消息 今天 河南 思念 高尔夫 俱乐部 展开 全国 高尔夫 职业 邀请赛...</td>\n",
       "      <td>31</td>\n",
       "    </tr>\n",
       "    <tr>\n",
       "      <th>...</th>\n",
       "      <td>...</td>\n",
       "      <td>...</td>\n",
       "      <td>...</td>\n",
       "    </tr>\n",
       "    <tr>\n",
       "      <th>16099</th>\n",
       "      <td>财经</td>\n",
       "      <td>全景网 日讯 海富通 基金 管理 公司 今日 公告 海富通 稳健 添利 债券 型基金 日起 ...</td>\n",
       "      <td>53</td>\n",
       "    </tr>\n",
       "    <tr>\n",
       "      <th>16100</th>\n",
       "      <td>财经</td>\n",
       "      <td>中旬 开业 第一 创业 期货 意在 股指 期货 目前 只能 商品 期货 开始 起步 董事长 ...</td>\n",
       "      <td>39</td>\n",
       "    </tr>\n",
       "    <tr>\n",
       "      <th>16101</th>\n",
       "      <td>财经</td>\n",
       "      <td>本报记者 施俊 中银 基金 管理 公司 日前 发布公告 新增 旗下 四只 产品 中银 货币 ...</td>\n",
       "      <td>47</td>\n",
       "    </tr>\n",
       "    <tr>\n",
       "      <th>16102</th>\n",
       "      <td>财经</td>\n",
       "      <td>白亚洁 受到 隔夜 美棉 涨停 影响 周三 郑棉 主力 合约 高开高 全天 上涨 收报 涨幅...</td>\n",
       "      <td>50</td>\n",
       "    </tr>\n",
       "    <tr>\n",
       "      <th>16103</th>\n",
       "      <td>财经</td>\n",
       "      <td>新浪 财经 近日 易方达 一对 布局 再下 一城 农行 代销 一对 成立 易方达 偕同 中国...</td>\n",
       "      <td>64</td>\n",
       "    </tr>\n",
       "  </tbody>\n",
       "</table>\n",
       "<p>16104 rows × 3 columns</p>\n",
       "</div>"
      ],
      "text/plain": [
       "      label                                               text  length\n",
       "0        体育  新浪 体育讯 北京 时间 中超联赛 比赛 正式 打响 天津 康师傅 主场 天津泰达 大球场 ...      43\n",
       "1        体育  新浪 体育讯 北京 时间 f1 比利时 大奖赛 在斯帕 赛道 开始 周五 两次 练习赛 图为...      26\n",
       "2        体育  新浪 体育讯 北京 时间 卡塔尔 亚洲杯 第二场 比赛 阿拉法 球场 打响 首次 亮相 中国...      54\n",
       "3        体育  新浪 体育讯 北京 时间 罗伯特 盖瑞古斯 robert garrigus 佛罗里达 时间 ...      39\n",
       "4        体育  新浪 体育讯 郑州 消息 今天 河南 思念 高尔夫 俱乐部 展开 全国 高尔夫 职业 邀请赛...      31\n",
       "...     ...                                                ...     ...\n",
       "16099    财经  全景网 日讯 海富通 基金 管理 公司 今日 公告 海富通 稳健 添利 债券 型基金 日起 ...      53\n",
       "16100    财经  中旬 开业 第一 创业 期货 意在 股指 期货 目前 只能 商品 期货 开始 起步 董事长 ...      39\n",
       "16101    财经  本报记者 施俊 中银 基金 管理 公司 日前 发布公告 新增 旗下 四只 产品 中银 货币 ...      47\n",
       "16102    财经  白亚洁 受到 隔夜 美棉 涨停 影响 周三 郑棉 主力 合约 高开高 全天 上涨 收报 涨幅...      50\n",
       "16103    财经  新浪 财经 近日 易方达 一对 布局 再下 一城 农行 代销 一对 成立 易方达 偕同 中国...      64\n",
       "\n",
       "[16104 rows x 3 columns]"
      ]
     },
     "execution_count": 27,
     "metadata": {},
     "output_type": "execute_result"
    }
   ],
   "source": [
    "df = pd.read_csv('./examples/ai/output/data.csv',sep='\\t')\n",
    "df"
   ]
  },
  {
   "cell_type": "code",
   "execution_count": 28,
   "id": "0ceab025-09e5-4b2a-a36b-4f4f23aa40f7",
   "metadata": {},
   "outputs": [],
   "source": [
    "import gensim\n",
    "import numpy as np\n",
    "\n",
    "vector_size = 100\n",
    "\n",
    "sentences = [x.split() for x in df['text']]\n",
    "\n",
    "model = gensim.models.Word2Vec(sentences, vector_size = vector_size)\n",
    "model.wv.save_word2vec_format('./examples/ai/output/word2vec.txt',binary=False)\n",
    "\n",
    "## 加载词向量文件\n",
    "model=gensim.models.KeyedVectors.load_word2vec_format('./examples/ai/output/word2vec.txt',binary=False)"
   ]
  },
  {
   "cell_type": "code",
   "execution_count": 29,
   "id": "3e25a6f3-6af5-4a22-ae07-b2d1bb941fa9",
   "metadata": {},
   "outputs": [
    {
     "name": "stdout",
     "output_type": "stream",
     "text": [
      "16160 100\n",
      "鏂版氮 2.3813386 -0.5478794 0.47816712 -3.2796202 0.0069905864 0.068511575 -0.40059173 0.52693415 -2.6474957 -0.37302566 -1.4448053 0.70007116 0.10576602 -0.6887226 -1.3448894 0.45690638 2.6439612 0.31440607 -2.6862316 -1.696014 -1.2488773 -0.36570382 -1.6086361 -0.22086059 0.8044061 0.71405655 -0.047873165 0.5867958 0.49280274 2.108326 0.716345 -0.70955855 -3.3899279 -1.0704079 -0.035871577 1.1137524 1.551176 -0.8747128 0.28945053 -0.6558523 -0.71267194 -1.6617165 0.5863182 0.25231895 0.028423525 -1.2880855 -0.40140316 0.08109482 -1.7035353 -0.14712822 -1.3120477 0.47040516 -2.232929 1.0801734 -0.3649492 -1.4727714 0.045759648 -0.5098873 -1.9414674 -0.9797689 0.80702114 1.0112119 0.9665041 -0.43544775 1.1934831 2.6463153 1.6941038 -1.1542939 -1.2560049 -0.555094 -0.33402365 0.94341767 -1.6342028 -0.9795614 -1.2549733 -0.27796215 -0.6952142 2.0603607 0.6200024 -0.038610756 2.0936823 0.4856276 0.09085387 0.16017576 -1.5551652 -0.19578944 -0.581845 0.99994624 -0.68777096 0.07432354 -0.8561891 0.44366926 0.35379305 0.23032509 -1.0642552 -1.1931238 -0.10316784 -0.11167188 1.6138247 1.479444\n",
      "鍩洪噾 -1.7561401 0.6963927 0.25932664 0.58127415 -0.8553598 0.4308123 -0.44904855 1.903212 -0.32118553 0.92746437 -1.010299 -1.5115862 -1.1946195 1.5434484 -0.8824323 -0.110209 1.7196167 1.7686415 1.0641252 -2.2998445 -1.5723902 0.41923782 1.908726 -2.3875523 -0.72903204 -1.2035877 -1.3947763 -0.36161196 -1.7248977 -0.1611885 1.4200907 -2.991292 2.3925924 -1.1273556 -2.5140917 1.5836418 1.7119017 0.3340561 -0.33608145 -1.0986376 0.119771525 -1.2398438 -0.09930624 -0.13214722 0.5173635 -0.42457166 -1.5285847 -1.7918605 0.41167036 -0.35658967 -1.0474899 0.12448457 -0.10553323 1.2076725 0.4372714 -1.6264971 1.6163714 -2.2382014 -2.9889753 -1.3789546 1.7873917 -1.1054368 2.8866625 -0.15327041 1.7239425 3.0013032 -0.38011828 -0.67599195 -1.9913396 0.20242825 -0.60172194 -0.07166013 1.6331909 0.31543708 2.463904 -1.1991979 -0.28944314 -0.07370566 -1.3750204 -1.9732395 -0.585173 -1.875333 -2.9590333 2.3666315 -0.49764645 0.3545853 1.4455131 -0.07587591 0.15587549 0.83971024 0.29196367 0.64091957 0.7839632 -1.0249889 3.1432252 1.5861459 -2.396237 2.1157727 -0.5378589 1.6333542\n",
      "鏃堕棿 2.137764 0.9257918 -0.3636139 -2.4112983 0.8209132 0.32134685 -0.8218826 -0.06298397 -1.3230863 0.90159756 -0.33144158 0.88045657 -0.20143895 0.405928 1.0262976 0.0010615109 0.844473 2.046707 -2.3648262 -0.4282838 -1.0028976 -0.515929 0.117888525 -0.25848636 0.73032445 -0.5681806 1.7830743 0.22498892 0.45865506 1.5648183 1.334316 -1.371186 -2.2283216 -0.8856417 -0.1527082 -0.40189782 1.504667 1.2981355 0.44844326 0.07588318 -1.485348 -0.5935079 0.63440347 -0.17292382 -0.05249878 0.27680257 1.142953 0.042647295 -1.2470275 -0.18094252 -1.2521347 0.35401878 -1.471263 -0.69005764 -1.353393 -1.0290194 -0.80748236 -0.9685628 -1.0024328 -0.55031466 1.0167037 0.39794737 1.3992555 0.7590825 0.12776718 0.82888937 1.4557209 -0.30501515 -1.2121949 0.36267638 0.89405775 0.3836485 -0.9566814 0.7128413 -0.8373735 0.95710415 -0.654448 2.8732529 0.47165352 0.76403034 1.8117228 -1.1166389 0.5751253 -0.89886487 -0.88219255 -0.86699724 -1.0275614 -1.0160186 -0.41321748 -0.45103538 -1.3156682 -0.48926038 0.838256 -1.6614106 -1.4893805 -0.84635234 0.82768327 -1.0089983 -0.03240951 -0.0016318222\n",
      "璇勮�� 1.9070421 0.44130033 -0.5903191 -0.6282632 0.33915624 -0.59297115 -1.171238 2.42026 0.32252792 -0.07224954 -0.4086823 0.50374174 -0.27880898 0.88333637 -0.6820121 0.03519082 2.4918568 1.2628597 -1.0350258 -2.39256 -0.033916917 0.035814114 -0.47915128 -1.8382989 0.41577497 0.4328533 -0.4224646 1.464456 1.1855589 2.1144123 1.3204561 -0.93915814 -1.7939364 -2.1235185 -1.9669915 2.047862 1.1291901 0.16523592 -1.4109341 -3.961436 0.6868193 -1.7837967 1.2405632 -0.32287836 -0.32262164 -2.1290247 -1.6842587 -0.69463885 -0.7901426 -0.53047544 0.028900782 -2.504217 -2.7499132 -0.71200544 -0.8683041 0.4756373 -0.27620596 0.11223477 -1.6247047 -0.96517617 -0.23588265 -0.52396363 1.2647029 0.17917134 -0.28937373 2.0698025 2.2230103 -0.60703254 -3.7239056 -0.4564042 -1.3454926 -1.8454808 -0.59453017 -1.403938 0.80000716 -0.3631621 -1.2041771 2.2237616 -2.108298 1.8254397 1.17211 0.60677934 -0.2478471 1.84173 0.2905902 -0.73605055 0.281851 3.2630868 -0.3375083 0.6640999 -1.1523858 -0.080286756 0.8865797 -1.4202622 1.4455007 -0.21798643 0.28095526 0.32367772 -0.23409674 -0.4571519\n"
     ]
    }
   ],
   "source": [
    "%%bash\n",
    "head -5 ./examples/ai/output/word2vec.txt"
   ]
  },
  {
   "cell_type": "code",
   "execution_count": 30,
   "id": "10dc4e24-60df-4edc-bac2-39806757a8df",
   "metadata": {},
   "outputs": [
    {
     "data": {
      "text/plain": [
       "array([ 1.41732943e+00,  7.35201716e-01, -1.54500335e-01, -7.97829032e-01,\n",
       "        2.93503940e-01,  1.20632812e-01, -7.36631691e-01, -8.02016556e-02,\n",
       "        8.49611610e-02,  4.02068406e-01, -8.97523463e-01,  9.69072580e-01,\n",
       "        5.18813610e-01, -4.44744080e-01, -1.33783007e+00, -1.40296698e-01,\n",
       "        1.24475384e+00,  9.43270147e-01, -8.49208355e-01, -1.24162507e+00,\n",
       "       -1.33814836e+00, -3.29156846e-01, -1.31104493e+00, -1.06402564e+00,\n",
       "        2.53544033e-01,  9.33660120e-02, -9.28928614e-01, -7.49033570e-01,\n",
       "       -1.30576476e-01,  8.62008572e-01,  1.60910860e-01, -5.72423860e-02,\n",
       "       -1.35674071e+00, -1.66880395e-02, -2.90706336e-01,  9.05087233e-01,\n",
       "        3.30565095e-01, -2.96639711e-01,  3.16367716e-01, -1.01787519e+00,\n",
       "        4.03490394e-01, -3.95368069e-01,  4.38406616e-01,  8.62559378e-02,\n",
       "       -3.86621267e-01, -6.90843225e-01,  1.04401685e-01, -1.37433374e+00,\n",
       "       -3.42879325e-01, -1.26914814e-01, -3.50415558e-01, -5.82231522e-01,\n",
       "       -9.72747922e-01,  2.71273285e-01, -3.60527277e-01, -6.89092696e-01,\n",
       "       -1.25710070e+00, -5.11376262e-02, -1.35019875e+00, -5.20801127e-01,\n",
       "        9.79735494e-01, -6.67005420e-01,  5.33473253e-01,  4.09140252e-02,\n",
       "        8.65042627e-01,  6.79690838e-01,  1.17787349e+00, -1.59002209e+00,\n",
       "       -6.33832335e-01, -5.95902145e-01, -9.31907594e-01, -4.09944177e-01,\n",
       "       -9.57067847e-01, -1.68336958e-01, -4.64388996e-01, -1.23328172e-01,\n",
       "       -6.46681964e-01,  6.89778864e-01,  2.35188544e-01,  8.70602965e-01,\n",
       "        9.40920532e-01,  4.72972423e-01, -8.48262489e-01, -3.09473932e-01,\n",
       "       -2.47895584e-01,  6.85214400e-02,  5.65644645e-04,  6.58277392e-01,\n",
       "        2.47999709e-02,  3.27099085e-01, -8.93385649e-01,  1.68278098e-01,\n",
       "        7.98165739e-01, -2.12724894e-01, -3.37918431e-01, -8.76771748e-01,\n",
       "       -3.78147066e-01,  9.33553457e-01, -3.94422621e-01,  4.97194916e-01],\n",
       "      dtype=float32)"
      ]
     },
     "execution_count": 30,
     "metadata": {},
     "output_type": "execute_result"
    }
   ],
   "source": [
    "### 获取词向量\n",
    "\n",
    "model.get_vector('体育')"
   ]
  },
  {
   "cell_type": "code",
   "execution_count": 31,
   "id": "de3dd6cc-a55c-4cc1-a358-c7dd193e59c1",
   "metadata": {},
   "outputs": [
    {
     "data": {
      "text/plain": [
       "[('迎战', 0.9713698625564575),\n",
       " ('图为', 0.9713448286056519),\n",
       " ('主场', 0.970580518245697),\n",
       " ('首轮', 0.9690435528755188),\n",
       " ('球手', 0.9640939831733704),\n",
       " ('选手', 0.9606283903121948),\n",
       " ('讨论', 0.959915280342102),\n",
       " ('语文', 0.9556101560592651),\n",
       " ('客场', 0.9555980563163757),\n",
       " ('战胜', 0.9541428685188293)]"
      ]
     },
     "execution_count": 31,
     "metadata": {},
     "output_type": "execute_result"
    }
   ],
   "source": [
    "### 获取相似词\n",
    "\n",
    "model.most_similar('决赛')"
   ]
  },
  {
   "cell_type": "markdown",
   "id": "81640200-ce87-4c83-bbe1-644f42d08d8e",
   "metadata": {},
   "source": [
    "## **通过词集映射加载相应的词语向量**"
   ]
  },
  {
   "cell_type": "code",
   "execution_count": 32,
   "id": "bbd51a59-f1ef-4d98-aed0-2082ac72a822",
   "metadata": {},
   "outputs": [
    {
     "data": {
      "text/plain": [
       "(71197, 100)"
      ]
     },
     "execution_count": 32,
     "metadata": {},
     "output_type": "execute_result"
    }
   ],
   "source": [
    "import numpy as np\n",
    "\n",
    "embedding_matrix = []\n",
    "# 首先加id为0的初始词向量,一次加载每个词的词向量\n",
    "embedding_matrix.append(np.zeros(vector_size))\n",
    "\n",
    "for word in vocab:\n",
    "    try:\n",
    "        embedding_matrix.append(model.get_vector(word))\n",
    "    except:\n",
    "        ### 不存在的词：OOV\n",
    "        embedding_matrix.append(np.zeros(vector_size))\n",
    "        \n",
    "embedding_matrix = np.array(embedding_matrix)\n",
    "embedding_matrix.shape"
   ]
  },
  {
   "cell_type": "code",
   "execution_count": 33,
   "id": "f562ec66-959d-48fd-927c-3e90275d68d1",
   "metadata": {},
   "outputs": [
    {
     "data": {
      "text/plain": [
       "71196"
      ]
     },
     "execution_count": 33,
     "metadata": {},
     "output_type": "execute_result"
    }
   ],
   "source": [
    "len(vocab)"
   ]
  },
  {
   "cell_type": "code",
   "execution_count": 34,
   "id": "c67a9454-3f11-4f89-bb17-44a1394ce545",
   "metadata": {},
   "outputs": [
    {
     "data": {
      "text/plain": [
       "array([[ 0.        ,  0.        ,  0.        , ...,  0.        ,\n",
       "         0.        ,  0.        ],\n",
       "       [ 2.3813386 , -0.5478794 ,  0.47816712, ..., -0.11167188,\n",
       "         1.61382473,  1.47944403],\n",
       "       [-1.75614011,  0.69639271,  0.25932664, ...,  2.11577272,\n",
       "        -0.5378589 ,  1.63335419],\n",
       "       ...,\n",
       "       [ 0.        ,  0.        ,  0.        , ...,  0.        ,\n",
       "         0.        ,  0.        ],\n",
       "       [ 0.        ,  0.        ,  0.        , ...,  0.        ,\n",
       "         0.        ,  0.        ],\n",
       "       [ 0.        ,  0.        ,  0.        , ...,  0.        ,\n",
       "         0.        ,  0.        ]])"
      ]
     },
     "execution_count": 34,
     "metadata": {},
     "output_type": "execute_result"
    }
   ],
   "source": [
    "embedding_matrix"
   ]
  },
  {
   "cell_type": "markdown",
   "id": "5c890d5a-804f-4f4b-8efd-c01b06d69d04",
   "metadata": {},
   "source": [
    "## **分割数据集：训练集和测试集（9:1，常用比例：7-3,8-2等）**"
   ]
  },
  {
   "cell_type": "code",
   "execution_count": 35,
   "id": "9c0ce15e-f786-469a-919d-021fd5733760",
   "metadata": {},
   "outputs": [
    {
     "data": {
      "text/html": [
       "<div>\n",
       "<style scoped>\n",
       "    .dataframe tbody tr th:only-of-type {\n",
       "        vertical-align: middle;\n",
       "    }\n",
       "\n",
       "    .dataframe tbody tr th {\n",
       "        vertical-align: top;\n",
       "    }\n",
       "\n",
       "    .dataframe thead th {\n",
       "        text-align: right;\n",
       "    }\n",
       "</style>\n",
       "<table border=\"1\" class=\"dataframe\">\n",
       "  <thead>\n",
       "    <tr style=\"text-align: right;\">\n",
       "      <th></th>\n",
       "      <th>label</th>\n",
       "      <th>text</th>\n",
       "      <th>length</th>\n",
       "    </tr>\n",
       "  </thead>\n",
       "  <tbody>\n",
       "    <tr>\n",
       "      <th>0</th>\n",
       "      <td>体育</td>\n",
       "      <td>新浪 体育讯 北京 时间 中超联赛 比赛 正式 打响 天津 康师傅 主场 天津泰达 大球场 ...</td>\n",
       "      <td>43</td>\n",
       "    </tr>\n",
       "    <tr>\n",
       "      <th>1</th>\n",
       "      <td>体育</td>\n",
       "      <td>新浪 体育讯 北京 时间 f1 比利时 大奖赛 在斯帕 赛道 开始 周五 两次 练习赛 图为...</td>\n",
       "      <td>26</td>\n",
       "    </tr>\n",
       "    <tr>\n",
       "      <th>2</th>\n",
       "      <td>体育</td>\n",
       "      <td>新浪 体育讯 北京 时间 卡塔尔 亚洲杯 第二场 比赛 阿拉法 球场 打响 首次 亮相 中国...</td>\n",
       "      <td>54</td>\n",
       "    </tr>\n",
       "    <tr>\n",
       "      <th>3</th>\n",
       "      <td>体育</td>\n",
       "      <td>新浪 体育讯 北京 时间 罗伯特 盖瑞古斯 robert garrigus 佛罗里达 时间 ...</td>\n",
       "      <td>39</td>\n",
       "    </tr>\n",
       "    <tr>\n",
       "      <th>4</th>\n",
       "      <td>体育</td>\n",
       "      <td>新浪 体育讯 郑州 消息 今天 河南 思念 高尔夫 俱乐部 展开 全国 高尔夫 职业 邀请赛...</td>\n",
       "      <td>31</td>\n",
       "    </tr>\n",
       "    <tr>\n",
       "      <th>...</th>\n",
       "      <td>...</td>\n",
       "      <td>...</td>\n",
       "      <td>...</td>\n",
       "    </tr>\n",
       "    <tr>\n",
       "      <th>16099</th>\n",
       "      <td>财经</td>\n",
       "      <td>全景网 日讯 海富通 基金 管理 公司 今日 公告 海富通 稳健 添利 债券 型基金 日起 ...</td>\n",
       "      <td>53</td>\n",
       "    </tr>\n",
       "    <tr>\n",
       "      <th>16100</th>\n",
       "      <td>财经</td>\n",
       "      <td>中旬 开业 第一 创业 期货 意在 股指 期货 目前 只能 商品 期货 开始 起步 董事长 ...</td>\n",
       "      <td>39</td>\n",
       "    </tr>\n",
       "    <tr>\n",
       "      <th>16101</th>\n",
       "      <td>财经</td>\n",
       "      <td>本报记者 施俊 中银 基金 管理 公司 日前 发布公告 新增 旗下 四只 产品 中银 货币 ...</td>\n",
       "      <td>47</td>\n",
       "    </tr>\n",
       "    <tr>\n",
       "      <th>16102</th>\n",
       "      <td>财经</td>\n",
       "      <td>白亚洁 受到 隔夜 美棉 涨停 影响 周三 郑棉 主力 合约 高开高 全天 上涨 收报 涨幅...</td>\n",
       "      <td>50</td>\n",
       "    </tr>\n",
       "    <tr>\n",
       "      <th>16103</th>\n",
       "      <td>财经</td>\n",
       "      <td>新浪 财经 近日 易方达 一对 布局 再下 一城 农行 代销 一对 成立 易方达 偕同 中国...</td>\n",
       "      <td>64</td>\n",
       "    </tr>\n",
       "  </tbody>\n",
       "</table>\n",
       "<p>16104 rows × 3 columns</p>\n",
       "</div>"
      ],
      "text/plain": [
       "      label                                               text  length\n",
       "0        体育  新浪 体育讯 北京 时间 中超联赛 比赛 正式 打响 天津 康师傅 主场 天津泰达 大球场 ...      43\n",
       "1        体育  新浪 体育讯 北京 时间 f1 比利时 大奖赛 在斯帕 赛道 开始 周五 两次 练习赛 图为...      26\n",
       "2        体育  新浪 体育讯 北京 时间 卡塔尔 亚洲杯 第二场 比赛 阿拉法 球场 打响 首次 亮相 中国...      54\n",
       "3        体育  新浪 体育讯 北京 时间 罗伯特 盖瑞古斯 robert garrigus 佛罗里达 时间 ...      39\n",
       "4        体育  新浪 体育讯 郑州 消息 今天 河南 思念 高尔夫 俱乐部 展开 全国 高尔夫 职业 邀请赛...      31\n",
       "...     ...                                                ...     ...\n",
       "16099    财经  全景网 日讯 海富通 基金 管理 公司 今日 公告 海富通 稳健 添利 债券 型基金 日起 ...      53\n",
       "16100    财经  中旬 开业 第一 创业 期货 意在 股指 期货 目前 只能 商品 期货 开始 起步 董事长 ...      39\n",
       "16101    财经  本报记者 施俊 中银 基金 管理 公司 日前 发布公告 新增 旗下 四只 产品 中银 货币 ...      47\n",
       "16102    财经  白亚洁 受到 隔夜 美棉 涨停 影响 周三 郑棉 主力 合约 高开高 全天 上涨 收报 涨幅...      50\n",
       "16103    财经  新浪 财经 近日 易方达 一对 布局 再下 一城 农行 代销 一对 成立 易方达 偕同 中国...      64\n",
       "\n",
       "[16104 rows x 3 columns]"
      ]
     },
     "execution_count": 35,
     "metadata": {},
     "output_type": "execute_result"
    }
   ],
   "source": [
    "df"
   ]
  },
  {
   "cell_type": "code",
   "execution_count": 36,
   "id": "1f417d28-a516-4695-b761-ccbf64cf8788",
   "metadata": {},
   "outputs": [],
   "source": [
    "from sklearn.model_selection import train_test_split\n",
    "\n",
    "\n",
    "train, test = pd.DataFrame(), pd.DataFrame()\n",
    "\n",
    "### 按照类别分组，从每组抽取9:1训练测试集，再整合\n",
    "test_size = 0.1\n",
    "\n",
    "for name,group in df.groupby(['label']):\n",
    "    \n",
    "    trainx,testx,trainy,testy = train_test_split(group['text'], group['label'], test_size=test_size)\n",
    "    \n",
    "    traind = pd.concat([trainx, trainy], axis=1)\n",
    "    testd = pd.concat([testx, testy], axis=1)\n",
    "    train = pd.concat([train, traind])\n",
    "    test = pd.concat([test, testd])\n",
    "\n",
    "train.columns = ['text','label']\n",
    "test.columns = ['text','label']"
   ]
  },
  {
   "cell_type": "code",
   "execution_count": 37,
   "id": "d2f8a893-48d3-4202-9a06-8c070fa9c2ba",
   "metadata": {},
   "outputs": [
    {
     "name": "stdout",
     "output_type": "stream",
     "text": [
      "# Train data set shape:\n",
      "体育 (1207, 2)\n",
      "娱乐 (1207, 2)\n",
      "家居 (1207, 2)\n",
      "教育 (1207, 2)\n",
      "时尚 (1207, 2)\n",
      "时政 (1207, 2)\n",
      "星座 (1207, 2)\n",
      "游戏 (1207, 2)\n",
      "社会 (1207, 2)\n",
      "科技 (1207, 2)\n",
      "股票 (1207, 2)\n",
      "财经 (1207, 2)\n",
      "# Test data set shape:\n",
      "体育 (135, 2)\n",
      "娱乐 (135, 2)\n",
      "家居 (135, 2)\n",
      "教育 (135, 2)\n",
      "时尚 (135, 2)\n",
      "时政 (135, 2)\n",
      "星座 (135, 2)\n",
      "游戏 (135, 2)\n",
      "社会 (135, 2)\n",
      "科技 (135, 2)\n",
      "股票 (135, 2)\n",
      "财经 (135, 2)\n"
     ]
    }
   ],
   "source": [
    "print('# Train data set shape:')\n",
    "for name,group in train.groupby(['label']):\n",
    "    print(name,group.shape)\n",
    "    \n",
    "print('# Test data set shape:')\n",
    "for name,group in test.groupby(['label']):\n",
    "    print(name,group.shape)"
   ]
  },
  {
   "cell_type": "markdown",
   "id": "68a72b93-11be-44af-961c-0083f8d96ef4",
   "metadata": {},
   "source": [
    "## **打乱数据集**\n",
    "\n",
    "- 增加模型泛华能力\n",
    "- 同一分布"
   ]
  },
  {
   "cell_type": "code",
   "execution_count": 38,
   "id": "f45ad075-d97b-4159-b2ea-bcde2507ac33",
   "metadata": {},
   "outputs": [],
   "source": [
    "from sklearn.utils import shuffle\n",
    "\n",
    "train = shuffle(train)\n",
    "test = shuffle(test)"
   ]
  },
  {
   "cell_type": "code",
   "execution_count": 39,
   "id": "b42a2281-e9aa-4fb6-b643-5d54bbf66a70",
   "metadata": {},
   "outputs": [
    {
     "data": {
      "text/html": [
       "<div>\n",
       "<style scoped>\n",
       "    .dataframe tbody tr th:only-of-type {\n",
       "        vertical-align: middle;\n",
       "    }\n",
       "\n",
       "    .dataframe tbody tr th {\n",
       "        vertical-align: top;\n",
       "    }\n",
       "\n",
       "    .dataframe thead th {\n",
       "        text-align: right;\n",
       "    }\n",
       "</style>\n",
       "<table border=\"1\" class=\"dataframe\">\n",
       "  <thead>\n",
       "    <tr style=\"text-align: right;\">\n",
       "      <th></th>\n",
       "      <th>text</th>\n",
       "      <th>label</th>\n",
       "    </tr>\n",
       "  </thead>\n",
       "  <tbody>\n",
       "    <tr>\n",
       "      <th>15462</th>\n",
       "      <td>小麦 三等 小麦 混合 最低 收购价 提高 公斤 分别 提高</td>\n",
       "      <td>财经</td>\n",
       "    </tr>\n",
       "    <tr>\n",
       "      <th>5704</th>\n",
       "      <td>导语 女孩 喜欢 繁杂 怎么办 简约 搭配 帮你忙 军装 外套 长袖 再配 一双 短靴 潮人...</td>\n",
       "      <td>时尚</td>\n",
       "    </tr>\n",
       "    <tr>\n",
       "      <th>13139</th>\n",
       "      <td>ipod 造型 玩意 已经 不再 新鲜 不过 产品 巧妙 经过 修饰 感觉 完全 不同 样子...</td>\n",
       "      <td>科技</td>\n",
       "    </tr>\n",
       "    <tr>\n",
       "      <th>15060</th>\n",
       "      <td>本报记者 徐婧婧 日前 兴业 基金 编译 社会 责任 投资 创造财富 改变 世界 问世 该书...</td>\n",
       "      <td>财经</td>\n",
       "    </tr>\n",
       "    <tr>\n",
       "      <th>15120</th>\n",
       "      <td>今起 发行 本报记者 施俊 今日 申万 巴黎 添益宝 债券 基金 全国 正式 发行 基金 经...</td>\n",
       "      <td>财经</td>\n",
       "    </tr>\n",
       "    <tr>\n",
       "      <th>...</th>\n",
       "      <td>...</td>\n",
       "      <td>...</td>\n",
       "    </tr>\n",
       "    <tr>\n",
       "      <th>5077</th>\n",
       "      <td>本报讯 今年 香港 高校 继续 面向 河北 招生 其中 香港城市大学 香港中文大学 两所 香...</td>\n",
       "      <td>教育</td>\n",
       "    </tr>\n",
       "    <tr>\n",
       "      <th>7206</th>\n",
       "      <td>晨报讯 记者 晶晶 记者 香港大学 获悉 该校 今年 新增 药剂学 通识 教育 计量 财务 ...</td>\n",
       "      <td>时政</td>\n",
       "    </tr>\n",
       "    <tr>\n",
       "      <th>8974</th>\n",
       "      <td>独家 撰稿 海衣 苍朵 心理 测试 征稿启事 经济 适用 定义 吸烟 喝酒 关机 赌钱 红颜...</td>\n",
       "      <td>星座</td>\n",
       "    </tr>\n",
       "    <tr>\n",
       "      <th>4680</th>\n",
       "      <td>提交 系统 自动 生成 所得 分数 高考 信息 访问 新浪 高考 频道 高考 论坛 高考 博...</td>\n",
       "      <td>教育</td>\n",
       "    </tr>\n",
       "    <tr>\n",
       "      <th>9646</th>\n",
       "      <td>合金装备 崛起 制作 松山 重信 shigenobu matsuyama 上台 开始 介绍 ...</td>\n",
       "      <td>游戏</td>\n",
       "    </tr>\n",
       "  </tbody>\n",
       "</table>\n",
       "<p>14484 rows × 2 columns</p>\n",
       "</div>"
      ],
      "text/plain": [
       "                                                    text label\n",
       "15462                     小麦 三等 小麦 混合 最低 收购价 提高 公斤 分别 提高    财经\n",
       "5704   导语 女孩 喜欢 繁杂 怎么办 简约 搭配 帮你忙 军装 外套 长袖 再配 一双 短靴 潮人...    时尚\n",
       "13139  ipod 造型 玩意 已经 不再 新鲜 不过 产品 巧妙 经过 修饰 感觉 完全 不同 样子...    科技\n",
       "15060  本报记者 徐婧婧 日前 兴业 基金 编译 社会 责任 投资 创造财富 改变 世界 问世 该书...    财经\n",
       "15120  今起 发行 本报记者 施俊 今日 申万 巴黎 添益宝 债券 基金 全国 正式 发行 基金 经...    财经\n",
       "...                                                  ...   ...\n",
       "5077   本报讯 今年 香港 高校 继续 面向 河北 招生 其中 香港城市大学 香港中文大学 两所 香...    教育\n",
       "7206   晨报讯 记者 晶晶 记者 香港大学 获悉 该校 今年 新增 药剂学 通识 教育 计量 财务 ...    时政\n",
       "8974   独家 撰稿 海衣 苍朵 心理 测试 征稿启事 经济 适用 定义 吸烟 喝酒 关机 赌钱 红颜...    星座\n",
       "4680   提交 系统 自动 生成 所得 分数 高考 信息 访问 新浪 高考 频道 高考 论坛 高考 博...    教育\n",
       "9646   合金装备 崛起 制作 松山 重信 shigenobu matsuyama 上台 开始 介绍 ...    游戏\n",
       "\n",
       "[14484 rows x 2 columns]"
      ]
     },
     "execution_count": 39,
     "metadata": {},
     "output_type": "execute_result"
    }
   ],
   "source": [
    "train"
   ]
  },
  {
   "cell_type": "markdown",
   "id": "da2412f6-4e66-4617-b9b2-ec23563b0112",
   "metadata": {},
   "source": [
    "## **转化词语为vocab id**"
   ]
  },
  {
   "cell_type": "code",
   "execution_count": 40,
   "id": "aa281944-18b5-4681-a301-2107608f09e9",
   "metadata": {},
   "outputs": [],
   "source": [
    "import tensorflow as tf\n",
    "\n",
    "maxlen = 70\n",
    "\n",
    "\n",
    "def data_to_seq(data,tokenizer,maxlen):\n",
    "    # 序列模式，max_len同意序列长度，超过则过滤，不足则补0\n",
    "    data_ids = tokenizer.texts_to_sequences(data)\n",
    "    data_seq = tf.keras.preprocessing.sequence.pad_sequences(\n",
    "        data_ids,\n",
    "        maxlen = maxlen,\n",
    "        padding = 'post'\n",
    "    )\n",
    "    return data_seq\n",
    "\n",
    "\n",
    "trainx = data_to_seq(train['text'], tokenizer, maxlen)\n",
    "testx = data_to_seq(test['text'], tokenizer, maxlen)"
   ]
  },
  {
   "cell_type": "code",
   "execution_count": 41,
   "id": "06de5b18-05b7-471e-bd39-c1e6ad13c5fb",
   "metadata": {},
   "outputs": [
    {
     "data": {
      "text/plain": [
       "array([[ 4867, 70540,  4867, ...,     0,     0,     0],\n",
       "       [  172,   765,   125, ...,     0,     0,     0],\n",
       "       [ 3800,   228, 35472, ...,     0,     0,     0],\n",
       "       ...,\n",
       "       [   31,    35,  1173, ...,     0,     0,     0],\n",
       "       [ 1170,    44,   121, ...,     0,     0,     0],\n",
       "       [ 6202,  4650,   366, ...,     0,     0,     0]])"
      ]
     },
     "execution_count": 41,
     "metadata": {},
     "output_type": "execute_result"
    }
   ],
   "source": [
    "trainx"
   ]
  },
  {
   "cell_type": "markdown",
   "id": "dbe04014-32a6-45e7-952f-c7dbb95a2100",
   "metadata": {},
   "source": [
    "## **转化标签为one-hot形式**"
   ]
  },
  {
   "cell_type": "code",
   "execution_count": 42,
   "id": "c69fff39-e02c-4c95-9262-56dbcd2af706",
   "metadata": {},
   "outputs": [
    {
     "data": {
      "text/plain": [
       "{'星座': 0,\n",
       " '股票': 1,\n",
       " '教育': 2,\n",
       " '体育': 3,\n",
       " '科技': 4,\n",
       " '社会': 5,\n",
       " '娱乐': 6,\n",
       " '时尚': 7,\n",
       " '时政': 8,\n",
       " '财经': 9,\n",
       " '游戏': 10,\n",
       " '家居': 11}"
      ]
     },
     "execution_count": 42,
     "metadata": {},
     "output_type": "execute_result"
    }
   ],
   "source": [
    "label2id = {x: idx for idx,x in enumerate(set(df['label']))}\n",
    "save_json(label2id, './examples/ai/output/label2id.json')\n",
    "label2id"
   ]
  },
  {
   "cell_type": "code",
   "execution_count": 43,
   "id": "710ce9e5-b334-494a-8362-82d2eced36e1",
   "metadata": {},
   "outputs": [
    {
     "data": {
      "text/html": [
       "<div>\n",
       "<style scoped>\n",
       "    .dataframe tbody tr th:only-of-type {\n",
       "        vertical-align: middle;\n",
       "    }\n",
       "\n",
       "    .dataframe tbody tr th {\n",
       "        vertical-align: top;\n",
       "    }\n",
       "\n",
       "    .dataframe thead th {\n",
       "        text-align: right;\n",
       "    }\n",
       "</style>\n",
       "<table border=\"1\" class=\"dataframe\">\n",
       "  <thead>\n",
       "    <tr style=\"text-align: right;\">\n",
       "      <th></th>\n",
       "      <th>text</th>\n",
       "      <th>label</th>\n",
       "    </tr>\n",
       "  </thead>\n",
       "  <tbody>\n",
       "    <tr>\n",
       "      <th>15462</th>\n",
       "      <td>小麦 三等 小麦 混合 最低 收购价 提高 公斤 分别 提高</td>\n",
       "      <td>9</td>\n",
       "    </tr>\n",
       "    <tr>\n",
       "      <th>5704</th>\n",
       "      <td>导语 女孩 喜欢 繁杂 怎么办 简约 搭配 帮你忙 军装 外套 长袖 再配 一双 短靴 潮人...</td>\n",
       "      <td>7</td>\n",
       "    </tr>\n",
       "    <tr>\n",
       "      <th>13139</th>\n",
       "      <td>ipod 造型 玩意 已经 不再 新鲜 不过 产品 巧妙 经过 修饰 感觉 完全 不同 样子...</td>\n",
       "      <td>4</td>\n",
       "    </tr>\n",
       "    <tr>\n",
       "      <th>15060</th>\n",
       "      <td>本报记者 徐婧婧 日前 兴业 基金 编译 社会 责任 投资 创造财富 改变 世界 问世 该书...</td>\n",
       "      <td>9</td>\n",
       "    </tr>\n",
       "    <tr>\n",
       "      <th>15120</th>\n",
       "      <td>今起 发行 本报记者 施俊 今日 申万 巴黎 添益宝 债券 基金 全国 正式 发行 基金 经...</td>\n",
       "      <td>9</td>\n",
       "    </tr>\n",
       "    <tr>\n",
       "      <th>...</th>\n",
       "      <td>...</td>\n",
       "      <td>...</td>\n",
       "    </tr>\n",
       "    <tr>\n",
       "      <th>5077</th>\n",
       "      <td>本报讯 今年 香港 高校 继续 面向 河北 招生 其中 香港城市大学 香港中文大学 两所 香...</td>\n",
       "      <td>2</td>\n",
       "    </tr>\n",
       "    <tr>\n",
       "      <th>7206</th>\n",
       "      <td>晨报讯 记者 晶晶 记者 香港大学 获悉 该校 今年 新增 药剂学 通识 教育 计量 财务 ...</td>\n",
       "      <td>8</td>\n",
       "    </tr>\n",
       "    <tr>\n",
       "      <th>8974</th>\n",
       "      <td>独家 撰稿 海衣 苍朵 心理 测试 征稿启事 经济 适用 定义 吸烟 喝酒 关机 赌钱 红颜...</td>\n",
       "      <td>0</td>\n",
       "    </tr>\n",
       "    <tr>\n",
       "      <th>4680</th>\n",
       "      <td>提交 系统 自动 生成 所得 分数 高考 信息 访问 新浪 高考 频道 高考 论坛 高考 博...</td>\n",
       "      <td>2</td>\n",
       "    </tr>\n",
       "    <tr>\n",
       "      <th>9646</th>\n",
       "      <td>合金装备 崛起 制作 松山 重信 shigenobu matsuyama 上台 开始 介绍 ...</td>\n",
       "      <td>10</td>\n",
       "    </tr>\n",
       "  </tbody>\n",
       "</table>\n",
       "<p>14484 rows × 2 columns</p>\n",
       "</div>"
      ],
      "text/plain": [
       "                                                    text  label\n",
       "15462                     小麦 三等 小麦 混合 最低 收购价 提高 公斤 分别 提高      9\n",
       "5704   导语 女孩 喜欢 繁杂 怎么办 简约 搭配 帮你忙 军装 外套 长袖 再配 一双 短靴 潮人...      7\n",
       "13139  ipod 造型 玩意 已经 不再 新鲜 不过 产品 巧妙 经过 修饰 感觉 完全 不同 样子...      4\n",
       "15060  本报记者 徐婧婧 日前 兴业 基金 编译 社会 责任 投资 创造财富 改变 世界 问世 该书...      9\n",
       "15120  今起 发行 本报记者 施俊 今日 申万 巴黎 添益宝 债券 基金 全国 正式 发行 基金 经...      9\n",
       "...                                                  ...    ...\n",
       "5077   本报讯 今年 香港 高校 继续 面向 河北 招生 其中 香港城市大学 香港中文大学 两所 香...      2\n",
       "7206   晨报讯 记者 晶晶 记者 香港大学 获悉 该校 今年 新增 药剂学 通识 教育 计量 财务 ...      8\n",
       "8974   独家 撰稿 海衣 苍朵 心理 测试 征稿启事 经济 适用 定义 吸烟 喝酒 关机 赌钱 红颜...      0\n",
       "4680   提交 系统 自动 生成 所得 分数 高考 信息 访问 新浪 高考 频道 高考 论坛 高考 博...      2\n",
       "9646   合金装备 崛起 制作 松山 重信 shigenobu matsuyama 上台 开始 介绍 ...     10\n",
       "\n",
       "[14484 rows x 2 columns]"
      ]
     },
     "execution_count": 43,
     "metadata": {},
     "output_type": "execute_result"
    }
   ],
   "source": [
    "train['label'] = train['label'].apply(lambda x: label2id[x])\n",
    "test['label'] = test['label'].apply(lambda x: label2id[x])\n",
    "\n",
    "train"
   ]
  },
  {
   "cell_type": "code",
   "execution_count": 44,
   "id": "25747065-c8ae-4a74-a65d-4b88000bf7fc",
   "metadata": {},
   "outputs": [],
   "source": [
    "trainy = tf.keras.utils.to_categorical(train['label'])\n",
    "testy = tf.keras.utils.to_categorical(test['label'])"
   ]
  },
  {
   "cell_type": "code",
   "execution_count": 97,
   "id": "e1fa6f43-3fd1-41f4-b529-f921ad53543b",
   "metadata": {},
   "outputs": [
    {
     "name": "stdout",
     "output_type": "stream",
     "text": [
      "# Trian set and Test set: \n",
      "Train set:  (14484, 70) (14484, 12)\n",
      "Test set:  (1620, 70) (1620, 12)\n"
     ]
    }
   ],
   "source": [
    "print('# Trian set and Test set: ')\n",
    "print('Train set: ', trainx.shape, trainy.shape)\n",
    "print('Test set: ', testx.shape, testy.shape)"
   ]
  },
  {
   "cell_type": "markdown",
   "id": "ae49d7fa-fc7b-498a-a4c3-5ef203e655d9",
   "metadata": {},
   "source": [
    "## **建立神经网络分类模型**\n",
    "\n",
    "- **输入层**\n",
    "- **Embedding层（词嵌入层）**\n",
    "- **网络层（CNN，RNN，LSTM等）**\n",
    "- **Dropout层（可选）**\n",
    "- **Flatten层**\n",
    "- **输出层（分类层）**\n",
    "- **编译（优化器和损失函数）**\n",
    "- **训练和回调**\n",
    "- **预测**\n",
    "\n",
    "\n",
    "## **经典的文本分类模型：CNN**\n",
    "\n",
    "\n",
    "![](./examples/ai/2.png)\n",
    "\n",
    "\n",
    "\n",
    "## **经典的文本分类模型：BiLstm**\n",
    "\n",
    "\n",
    "![](./examples/ai/1.webp)"
   ]
  },
  {
   "cell_type": "markdown",
   "id": "8a44732f-ddf0-4720-bb18-80d835fa83f0",
   "metadata": {},
   "source": [
    "## **定义网络**"
   ]
  },
  {
   "cell_type": "code",
   "execution_count": 98,
   "id": "e59ee06d-d5c8-4277-8440-f6a719d19c27",
   "metadata": {},
   "outputs": [
    {
     "name": "stdout",
     "output_type": "stream",
     "text": [
      "Model: \"model_6\"\n",
      "__________________________________________________________________________________________________\n",
      " Layer (type)                   Output Shape         Param #     Connected to                     \n",
      "==================================================================================================\n",
      " input_10 (InputLayer)          [(None, 70)]         0           []                               \n",
      "                                                                                                  \n",
      " embedding_11 (Embedding)       (None, 70, 100)      7119700     ['input_10[0][0]']               \n",
      "                                                                                                  \n",
      " conv1d_3 (Conv1D)              (None, 70, 100)      30100       ['embedding_11[0][0]']           \n",
      "                                                                                                  \n",
      " conv1d_4 (Conv1D)              (None, 70, 100)      40100       ['embedding_11[0][0]']           \n",
      "                                                                                                  \n",
      " conv1d_5 (Conv1D)              (None, 70, 100)      50100       ['embedding_11[0][0]']           \n",
      "                                                                                                  \n",
      " max_pooling1d_3 (MaxPooling1D)  (None, 24, 100)     0           ['conv1d_3[0][0]']               \n",
      "                                                                                                  \n",
      " max_pooling1d_4 (MaxPooling1D)  (None, 18, 100)     0           ['conv1d_4[0][0]']               \n",
      "                                                                                                  \n",
      " max_pooling1d_5 (MaxPooling1D)  (None, 14, 100)     0           ['conv1d_5[0][0]']               \n",
      "                                                                                                  \n",
      " concatenate_1 (Concatenate)    (None, 56, 100)      0           ['max_pooling1d_3[0][0]',        \n",
      "                                                                  'max_pooling1d_4[0][0]',        \n",
      "                                                                  'max_pooling1d_5[0][0]']        \n",
      "                                                                                                  \n",
      " flatten_7 (Flatten)            (None, 5600)         0           ['concatenate_1[0][0]']          \n",
      "                                                                                                  \n",
      " dropout_7 (Dropout)            (None, 5600)         0           ['flatten_7[0][0]']              \n",
      "                                                                                                  \n",
      " dense_6 (Dense)                (None, 12)           67212       ['dropout_7[0][0]']              \n",
      "                                                                                                  \n",
      "==================================================================================================\n",
      "Total params: 7,307,212\n",
      "Trainable params: 7,307,212\n",
      "Non-trainable params: 0\n",
      "__________________________________________________________________________________________________\n"
     ]
    },
    {
     "data": {
      "image/png": "[encoded data removed]",
      "text/plain": [
       "<IPython.core.display.Image object>"
      ]
     },
     "execution_count": 98,
     "metadata": {},
     "output_type": "execute_result"
    }
   ],
   "source": [
    "\"\"\"\n",
    "Text CNN 文本分类模型\n",
    "\"\"\"\n",
    "\n",
    "import tensorflow as tf\n",
    "\n",
    "\n",
    "def textcnn(maxlen,vocab_size,embedding_dim,embedding_matrix,cnn_filter_size,cnn_filter_num,dropout_rate,class_num):\n",
    "    inputx = tf.keras.layers.Input(shape=(maxlen,))\n",
    "    embx = tf.keras.layers.Embedding(\n",
    "        vocab_size,\n",
    "        embedding_dim,\n",
    "        weights = [embedding_matrix]\n",
    "    )(inputx)\n",
    "\n",
    "    ### 卷积池化层\n",
    "    convs = []\n",
    "    for size in cnn_filter_size:\n",
    "        conv = tf.keras.layers.Conv1D(\n",
    "            cnn_filter_num,\n",
    "            size,\n",
    "            padding='same',\n",
    "            strides=1,\n",
    "            activation='relu'\n",
    "        )(embx)\n",
    "        conv = tf.keras.layers.MaxPooling1D(\n",
    "            padding = 'same',\n",
    "            pool_size=size\n",
    "        )(conv)\n",
    "        \n",
    "        convs.append(conv)\n",
    "        \n",
    "    ## 拼接卷积池化层输出\n",
    "    convs = tf.keras.layers.Concatenate(axis=1)(convs)    \n",
    "    \n",
    "    convs = tf.keras.layers.Flatten()(convs)\n",
    "    convs = tf.keras.layers.Dropout(dropout_rate)(convs)\n",
    "    output = tf.keras.layers.Dense(\n",
    "        class_num,\n",
    "        activation='softmax'\n",
    "    )(convs)\n",
    "    model = tf.keras.models.Model(inputs = inputx, outputs = output)\n",
    "    return model\n",
    "\n",
    "\n",
    "maxlen = 70\n",
    "vocab_size = len(vocab) + 1\n",
    "embedding_dim = 100\n",
    "embedding_matrix = embedding_matrix\n",
    "cnn_filter_size = [3,4,5]\n",
    "cnn_filter_num = 100\n",
    "dropout_rate = 0.3\n",
    "class_num = len(label2id)\n",
    "\n",
    "cnn_model = textcnn(maxlen,vocab_size,embedding_dim,embedding_matrix,cnn_filter_size,cnn_filter_num,dropout_rate,class_num)\n",
    "cnn_model.summary()\n",
    "tf.keras.utils.plot_model(cnn_model)"
   ]
  },
  {
   "cell_type": "code",
   "execution_count": 99,
   "id": "f40fc137-0adf-4eee-b1af-739d7c359951",
   "metadata": {},
   "outputs": [
    {
     "name": "stdout",
     "output_type": "stream",
     "text": [
      "Model: \"model_7\"\n",
      "_________________________________________________________________\n",
      " Layer (type)                Output Shape              Param #   \n",
      "=================================================================\n",
      " input_11 (InputLayer)       [(None, 70)]              0         \n",
      "                                                                 \n",
      " embedding_12 (Embedding)    (None, 70, 100)           7119700   \n",
      "                                                                 \n",
      " bidirectional_7 (Bidirectio  (None, 70, 64)           34048     \n",
      " nal)                                                            \n",
      "                                                                 \n",
      " dropout_8 (Dropout)         (None, 70, 64)            0         \n",
      "                                                                 \n",
      " flatten_8 (Flatten)         (None, 4480)              0         \n",
      "                                                                 \n",
      " dense_7 (Dense)             (None, 12)                53772     \n",
      "                                                                 \n",
      "=================================================================\n",
      "Total params: 7,207,520\n",
      "Trainable params: 7,207,520\n",
      "Non-trainable params: 0\n",
      "_________________________________________________________________\n"
     ]
    },
    {
     "data": {
      "image/png": "[encoded data removed]",
      "text/plain": [
       "<IPython.core.display.Image object>"
      ]
     },
     "execution_count": 99,
     "metadata": {},
     "output_type": "execute_result"
    }
   ],
   "source": [
    "\"\"\"\n",
    "Text BiLSTM 文本分类模型\n",
    "\"\"\"\n",
    "\n",
    "import tensorflow as tf\n",
    "\n",
    "\n",
    "\n",
    "def textbilstm(maxlen,vocab_size,embedding_dim,embedding_matrix,rnn_unit_num,dropout_rate,class_num):\n",
    "    inputx = tf.keras.layers.Input(shape=(maxlen,))\n",
    "    embx = tf.keras.layers.Embedding(\n",
    "        vocab_size,\n",
    "        embedding_dim,\n",
    "        weights = [embedding_matrix]\n",
    "    )(inputx)\n",
    "    lstmx = tf.keras.layers.Bidirectional(\n",
    "        tf.keras.layers.LSTM(\n",
    "            units=rnn_unit_num,\n",
    "            return_sequences=True,\n",
    "            activation='relu'\n",
    "        )\n",
    "    )(embx)\n",
    "    lstmx = tf.keras.layers.Dropout(dropout_rate)(lstmx)\n",
    "    lstmx = tf.keras.layers.Flatten()(lstmx)\n",
    "    output = tf.keras.layers.Dense(\n",
    "        class_num,\n",
    "        activation='softmax'\n",
    "    )(lstmx)\n",
    "    model = tf.keras.models.Model(inputs = inputx, outputs = output)\n",
    "    return model\n",
    "\n",
    "\n",
    "maxlen = 70\n",
    "vocab_size = len(vocab) + 1\n",
    "embedding_dim = 100\n",
    "embedding_matrix = embedding_matrix\n",
    "rnn_unit_num = 32\n",
    "dropout_rate = 0.3\n",
    "class_num = len(label2id)\n",
    "\n",
    "bilstm_model = textbilstm(maxlen,vocab_size,embedding_dim,embedding_matrix,rnn_unit_num,dropout_rate,class_num)\n",
    "bilstm_model.summary()\n",
    "tf.keras.utils.plot_model(bilstm_model)"
   ]
  },
  {
   "cell_type": "markdown",
   "id": "84db1098-a049-44a5-ac46-29ef2d7ae4b6",
   "metadata": {},
   "source": [
    "## **编译模型**"
   ]
  },
  {
   "cell_type": "code",
   "execution_count": 100,
   "id": "ed1bc767-5715-40ff-a33d-088cdee50797",
   "metadata": {},
   "outputs": [],
   "source": [
    "opt = tf.keras.optimizers.Adam()\n",
    "\n",
    "cnn_model.compile(\n",
    "    optimizer = opt,\n",
    "    loss = 'categorical_crossentropy',\n",
    "    metrics = ['accuracy']\n",
    ")\n",
    "\n",
    "bilstm_model.compile(\n",
    "    optimizer = opt,\n",
    "    loss = 'categorical_crossentropy',\n",
    "    metrics = ['accuracy']\n",
    ")"
   ]
  },
  {
   "cell_type": "markdown",
   "id": "2aac44a8-dc56-449d-b230-e535ff3bef52",
   "metadata": {},
   "source": [
    "## **定义训练回调函数**\n",
    "\n",
    "- **所谓的回调函数其实就是，想在训练期间做一些事情，比如：记录损失，早停等**"
   ]
  },
  {
   "cell_type": "code",
   "execution_count": 101,
   "id": "a55f777f-187b-417d-b5e7-4bb448ca76b3",
   "metadata": {},
   "outputs": [],
   "source": [
    "import os\n",
    "import numpy as np\n",
    "import tensorflow as tf\n",
    "os.environ['TF_CPP_MIN_LOG_LEVEL'] = '2'\n",
    "\n",
    "\n",
    "class CustomCallbacks(tf.keras.callbacks.Callback):\n",
    "    '''自定义回调函数'''\n",
    "    def __init__(self,file):\n",
    "        super(CustomCallbacks,self).__init__()\n",
    "        self.file = file\n",
    "        self.epoch_id = []\n",
    "\n",
    "    def on_train_begin(self,logs: dict):\n",
    "        '''整个训练开始时会调用函数'''\n",
    "        self.fp = open(self.file,'a',encoding='utf-8')\n",
    "        self.fp.write(\"epoch\\tbatch\\tloss\\tacc\\n\")\n",
    "        return\n",
    "\n",
    "    def on_train_end(self,logs: dict):\n",
    "        '''整个训练结束时会调用函数'''\n",
    "        self.fp.close()\n",
    "        return\n",
    "\n",
    "    def on_epoch_begin(self,epoch,logs:dict):\n",
    "        '''整个训练每个epoch开始时会调用函数'''\n",
    "        self.epoch_id.append(epoch)\n",
    "        return\n",
    "\n",
    "    def on_epoch_end(self,epoch,logs:dict):\n",
    "        '''整个训练每个epoch结束时会调用函数'''\n",
    "        self.epoch_id = []\n",
    "        return\n",
    "\n",
    "    def on_batch_begin(self,batch,logs:dict):\n",
    "        '''整个训练每个batch开始时会调用函数'''\n",
    "        return\n",
    "\n",
    "    def on_batch_end(self,batch,logs:dict):\n",
    "        '''整个训练每个batch结束时会调用函数'''\n",
    "        self.fp.write(f\"{self.epoch_id[0]}\\t{batch}\\t{logs['loss']}\\t{logs['accuracy']}\\n\")\n",
    "        return\n",
    "\n",
    "\n",
    "def modelcheckpoint(filepath = './result',\n",
    "                    monitor = 'val_accuracy',\n",
    "                    save_weights_only = True,\n",
    "                    save_best_only = True,\n",
    "                    mode = 'auto',\n",
    "                    verbose = 1,\n",
    "                    period = 1\n",
    "    ):\n",
    "    '''设定callback保存最佳模型：\n",
    "\n",
    "    Args：\n",
    "        filepath:                   保存路径\n",
    "        monitor:                    被监测的数据\n",
    "        save_weights_only:          是否只保存权重\n",
    "        save_best_only:             是否保存最佳模型\n",
    "        mode:                       {auto, min, max} 的其中之一，如果save_best_only = True,那么\n",
    "                                    是否覆盖保存文件取决于检测的数据的最大值或者最小值。\n",
    "                                    对于val_accuracy: 取max，val_loss: 取min\n",
    "                                    auto，方向会从被监测的数据名字中判断出来\n",
    "        verbose:                    详细信息模型：0或者1\n",
    "        period:                     每个检查点之间的间隔（轮数）\n",
    "    '''\n",
    "    filename = \"model-weight.h5\"\n",
    "    modelfile = os.path.join(filepath,filename)\n",
    "    checkpoint = tf.keras.callbacks.ModelCheckpoint(\n",
    "        modelfile,\n",
    "        monitor = monitor,\n",
    "        save_best_only = save_best_only,\n",
    "        save_weights_only = save_weights_only,\n",
    "        mode = mode,\n",
    "        verbose = verbose,\n",
    "        period = period\n",
    "    )\n",
    "    return checkpoint\n",
    "\n",
    "\n",
    "def earlycheckpoint(monitor = 'val_accuracy',\n",
    "                    min_delta = 0,\n",
    "                    patience = 3,\n",
    "                    mode = 'auto',\n",
    "                    baseline = None,\n",
    "                    verbose = 0,\n",
    "                    restore_best_weights = False\n",
    "    ):\n",
    "    '''设定callback训练早停：\n",
    "\n",
    "    Args：\n",
    "        monitor:                    被监测的数据\n",
    "        min_delta:                  被监测数据被认为是提升的最小变化值，小于则没有提升\n",
    "        patience:                   没有进步的训练轮数，之后训练停止\n",
    "        mode:                       {auto, min, max} 的其中之一，如果save_best_only = True,那么\n",
    "                                    是否覆盖保存文件取决于检测的数据的最大值或者最小值。\n",
    "                                    对于val_accuracy: 取max，val_loss: 取min\n",
    "                                    auto，方向会从被监测的数据名字中判断出来\n",
    "        baseline:                   要监控数值的基准值，如果没有盖上则训练停止\n",
    "        verbose:                    详细信息模式\n",
    "        restore_best_weights:       是否从被监测最佳值的时期恢复模型权重，\n",
    "                                    如果是False则使用训练最后一步获得的模型权重\n",
    "    '''\n",
    "    checkpoint = tf.keras.callbacks.EarlyStopping(\n",
    "        monitor = monitor,\n",
    "        min_delta = min_delta,\n",
    "        patience = patience,\n",
    "        verbose = verbose,\n",
    "        mode = mode,\n",
    "        baseline = baseline,\n",
    "        restore_best_weights = restore_best_weights\n",
    "    )\n",
    "    return checkpoint\n",
    "\n",
    "\n",
    "def tensorboard(log_dir = './logs',\n",
    "                histogram_freq = 0,\n",
    "                write_graph = True,\n",
    "                write_images = False,\n",
    "                embeddings_freq = 0,\n",
    "                embeddings_layer_names = None,\n",
    "                embeddings_metadata = None\n",
    "    ):\n",
    "    '''Tensorboard训练可视化\n",
    "\n",
    "    Args：\n",
    "        log_dir = './logs',             用来保存tensorboard分析日志的路径\n",
    "        histogram = 0,                  对于模型各个层计算激活值和模型权重直方图概率\n",
    "                                        如果设置为0，直方图不会被计算，对于直方图可视化的验证数据一定要明确指出\n",
    "        write_graph = True,             是否在可视化中显示图像，如果为True，则日志可能会很大\n",
    "        write_images = False,           是否在可视化中将模型权重以图片可视化\n",
    "        embeddings_freq = 0,            被选中的嵌入层保存的评率\n",
    "        embeddings_layer_names = None,  一个list，会被监测的层的名字，如果为None，则监测所有层\n",
    "        embeddings_metadata = None      要嵌入在embeddings_layer_names指定层的数据\n",
    "                                        单个输入为numpy数组，多个输入numpy数组列表\n",
    "        batch_size:                     用以在直方图计算的传入神经元输入批大小\n",
    "        update_freq:                    batch 或者 epoch 或者 整数，batch为每个batch后写入\n",
    "                                        epoch为每个epoch结束后写入\n",
    "                                        如果是整数，例如 100，则表示在没100个样本之后写入\n",
    "                                        注意：写入频繁会减缓训练速度\n",
    "    '''\n",
    "    checkpoint = tf.keras.callbacks.TensorBoard(\n",
    "        log_dir = log_dir,\n",
    "        histogram_freq = histogram_freq,\n",
    "        write_graph = write_graph,\n",
    "        write_images = write_images,\n",
    "        embeddings_freq = embeddings_freq,\n",
    "        embeddings_layer_names = embeddings_layer_names,\n",
    "        embeddings_metadata = embeddings_metadata\n",
    "    )\n",
    "    return checkpoint\n"
   ]
  },
  {
   "cell_type": "code",
   "execution_count": 102,
   "id": "84f32593-1485-463e-81d7-0dab8fff74be",
   "metadata": {},
   "outputs": [],
   "source": [
    "ts = tensorboard(log_dir = './examples/ai/output/cnn')\n",
    "ccb = CustomCallbacks('./examples/ai/output/cnn_train_log.csv')\n",
    "cnn_callbacks_list = [ts, ccb]\n",
    "\n",
    "\n",
    "ts = tensorboard(log_dir = './examples/ai/output/bilstm')\n",
    "ccb = CustomCallbacks('./examples/ai/output/bilstm_train_log.csv')\n",
    "bilstm_callbacks_list = [ts, ccb]"
   ]
  },
  {
   "cell_type": "markdown",
   "id": "4e80e6db-b2da-4640-aaa9-56a3a3d065f2",
   "metadata": {},
   "source": [
    "## **训练和保存**"
   ]
  },
  {
   "cell_type": "code",
   "execution_count": 103,
   "id": "a74913d5-654c-40e9-bab6-2156c26bffb9",
   "metadata": {},
   "outputs": [
    {
     "name": "stdout",
     "output_type": "stream",
     "text": [
      "Epoch 1/5\n",
      "114/114 [==============================] - 18s 156ms/step - loss: 0.9679 - accuracy: 0.6693 - val_loss: 0.6450 - val_accuracy: 0.7821\n",
      "Epoch 2/5\n",
      "114/114 [==============================] - 17s 146ms/step - loss: 0.5482 - accuracy: 0.8166 - val_loss: 0.5335 - val_accuracy: 0.8247\n",
      "Epoch 3/5\n",
      "114/114 [==============================] - 17s 148ms/step - loss: 0.3594 - accuracy: 0.8902 - val_loss: 0.4452 - val_accuracy: 0.8469\n",
      "Epoch 4/5\n",
      "114/114 [==============================] - 17s 147ms/step - loss: 0.2139 - accuracy: 0.9403 - val_loss: 0.3738 - val_accuracy: 0.8802\n",
      "Epoch 5/5\n",
      "114/114 [==============================] - 17s 147ms/step - loss: 0.1145 - accuracy: 0.9729 - val_loss: 0.3525 - val_accuracy: 0.8914\n"
     ]
    }
   ],
   "source": [
    "batch_size = 128\n",
    "epochs = 5\n",
    "\n",
    "cnn_history=cnn_model.fit(\n",
    "    trainx,       \n",
    "    trainy,\n",
    "    batch_size=batch_size,\n",
    "    epochs=epochs,\n",
    "    validation_data=(testx, testy),\n",
    "    callbacks=cnn_callbacks_list,\n",
    "    shuffle=True\n",
    ")\n",
    "\n",
    "cnn_model.save_weights('./examples/ai/output/cnn_model_weights.h5')"
   ]
  },
  {
   "cell_type": "code",
   "execution_count": 104,
   "id": "a6b5a8cd-b814-4df3-9727-afc1b0bb808f",
   "metadata": {},
   "outputs": [
    {
     "data": {
      "text/html": [
       "<div>\n",
       "<style scoped>\n",
       "    .dataframe tbody tr th:only-of-type {\n",
       "        vertical-align: middle;\n",
       "    }\n",
       "\n",
       "    .dataframe tbody tr th {\n",
       "        vertical-align: top;\n",
       "    }\n",
       "\n",
       "    .dataframe thead th {\n",
       "        text-align: right;\n",
       "    }\n",
       "</style>\n",
       "<table border=\"1\" class=\"dataframe\">\n",
       "  <thead>\n",
       "    <tr style=\"text-align: right;\">\n",
       "      <th></th>\n",
       "      <th>loss</th>\n",
       "      <th>accuracy</th>\n",
       "      <th>val_loss</th>\n",
       "      <th>val_accuracy</th>\n",
       "    </tr>\n",
       "  </thead>\n",
       "  <tbody>\n",
       "    <tr>\n",
       "      <th>0</th>\n",
       "      <td>0.967950</td>\n",
       "      <td>0.669290</td>\n",
       "      <td>0.645038</td>\n",
       "      <td>0.782099</td>\n",
       "    </tr>\n",
       "    <tr>\n",
       "      <th>1</th>\n",
       "      <td>0.548163</td>\n",
       "      <td>0.816625</td>\n",
       "      <td>0.533464</td>\n",
       "      <td>0.824691</td>\n",
       "    </tr>\n",
       "    <tr>\n",
       "      <th>2</th>\n",
       "      <td>0.359437</td>\n",
       "      <td>0.890224</td>\n",
       "      <td>0.445165</td>\n",
       "      <td>0.846914</td>\n",
       "    </tr>\n",
       "    <tr>\n",
       "      <th>3</th>\n",
       "      <td>0.213861</td>\n",
       "      <td>0.940348</td>\n",
       "      <td>0.373788</td>\n",
       "      <td>0.880247</td>\n",
       "    </tr>\n",
       "    <tr>\n",
       "      <th>4</th>\n",
       "      <td>0.114545</td>\n",
       "      <td>0.972867</td>\n",
       "      <td>0.352524</td>\n",
       "      <td>0.891358</td>\n",
       "    </tr>\n",
       "  </tbody>\n",
       "</table>\n",
       "</div>"
      ],
      "text/plain": [
       "       loss  accuracy  val_loss  val_accuracy\n",
       "0  0.967950  0.669290  0.645038      0.782099\n",
       "1  0.548163  0.816625  0.533464      0.824691\n",
       "2  0.359437  0.890224  0.445165      0.846914\n",
       "3  0.213861  0.940348  0.373788      0.880247\n",
       "4  0.114545  0.972867  0.352524      0.891358"
      ]
     },
     "execution_count": 104,
     "metadata": {},
     "output_type": "execute_result"
    }
   ],
   "source": [
    "pd.DataFrame(cnn_history.history)"
   ]
  },
  {
   "cell_type": "code",
   "execution_count": 105,
   "id": "f015fd3e-f351-4667-a42b-c276974ecfe3",
   "metadata": {},
   "outputs": [
    {
     "name": "stdout",
     "output_type": "stream",
     "text": [
      "Epoch 1/5\n",
      "114/114 [==============================] - 16s 132ms/step - loss: 31.8525 - accuracy: 0.5607 - val_loss: 0.8747 - val_accuracy: 0.7525\n",
      "Epoch 2/5\n",
      "114/114 [==============================] - 14s 126ms/step - loss: 0.7639 - accuracy: 0.7687 - val_loss: 0.6349 - val_accuracy: 0.7920\n",
      "Epoch 3/5\n",
      "114/114 [==============================] - 14s 126ms/step - loss: 0.5194 - accuracy: 0.8398 - val_loss: 0.5790 - val_accuracy: 0.8216\n",
      "Epoch 4/5\n",
      "114/114 [==============================] - 14s 127ms/step - loss: 0.3864 - accuracy: 0.8870 - val_loss: 0.5132 - val_accuracy: 0.8432\n",
      "Epoch 5/5\n",
      "114/114 [==============================] - 14s 126ms/step - loss: 0.2760 - accuracy: 0.9194 - val_loss: 0.4640 - val_accuracy: 0.8611\n"
     ]
    }
   ],
   "source": [
    "batch_size = 128\n",
    "epochs = 5\n",
    "\n",
    "bilstm_history=bilstm_model.fit(\n",
    "    trainx,       \n",
    "    trainy,\n",
    "    batch_size=batch_size,\n",
    "    epochs=epochs,\n",
    "    validation_data=(testx, testy),\n",
    "    callbacks=bilstm_callbacks_list,\n",
    "    shuffle=True\n",
    ")\n",
    "\n",
    "bilstm_model.save_weights('./examples/ai/output/bilstm_model_weights.h5')"
   ]
  },
  {
   "cell_type": "code",
   "execution_count": 106,
   "id": "48365ea1-baf9-4cef-9dbe-32bf4872af2a",
   "metadata": {},
   "outputs": [
    {
     "data": {
      "text/html": [
       "<div>\n",
       "<style scoped>\n",
       "    .dataframe tbody tr th:only-of-type {\n",
       "        vertical-align: middle;\n",
       "    }\n",
       "\n",
       "    .dataframe tbody tr th {\n",
       "        vertical-align: top;\n",
       "    }\n",
       "\n",
       "    .dataframe thead th {\n",
       "        text-align: right;\n",
       "    }\n",
       "</style>\n",
       "<table border=\"1\" class=\"dataframe\">\n",
       "  <thead>\n",
       "    <tr style=\"text-align: right;\">\n",
       "      <th></th>\n",
       "      <th>loss</th>\n",
       "      <th>accuracy</th>\n",
       "      <th>val_loss</th>\n",
       "      <th>val_accuracy</th>\n",
       "    </tr>\n",
       "  </thead>\n",
       "  <tbody>\n",
       "    <tr>\n",
       "      <th>0</th>\n",
       "      <td>31.852495</td>\n",
       "      <td>0.560688</td>\n",
       "      <td>0.874717</td>\n",
       "      <td>0.752469</td>\n",
       "    </tr>\n",
       "    <tr>\n",
       "      <th>1</th>\n",
       "      <td>0.763884</td>\n",
       "      <td>0.768710</td>\n",
       "      <td>0.634880</td>\n",
       "      <td>0.791975</td>\n",
       "    </tr>\n",
       "    <tr>\n",
       "      <th>2</th>\n",
       "      <td>0.519437</td>\n",
       "      <td>0.839823</td>\n",
       "      <td>0.579012</td>\n",
       "      <td>0.821605</td>\n",
       "    </tr>\n",
       "    <tr>\n",
       "      <th>3</th>\n",
       "      <td>0.386404</td>\n",
       "      <td>0.887048</td>\n",
       "      <td>0.513212</td>\n",
       "      <td>0.843210</td>\n",
       "    </tr>\n",
       "    <tr>\n",
       "      <th>4</th>\n",
       "      <td>0.276020</td>\n",
       "      <td>0.919428</td>\n",
       "      <td>0.464044</td>\n",
       "      <td>0.861111</td>\n",
       "    </tr>\n",
       "  </tbody>\n",
       "</table>\n",
       "</div>"
      ],
      "text/plain": [
       "        loss  accuracy  val_loss  val_accuracy\n",
       "0  31.852495  0.560688  0.874717      0.752469\n",
       "1   0.763884  0.768710  0.634880      0.791975\n",
       "2   0.519437  0.839823  0.579012      0.821605\n",
       "3   0.386404  0.887048  0.513212      0.843210\n",
       "4   0.276020  0.919428  0.464044      0.861111"
      ]
     },
     "execution_count": 106,
     "metadata": {},
     "output_type": "execute_result"
    }
   ],
   "source": [
    "pd.DataFrame(bilstm_history.history)"
   ]
  },
  {
   "cell_type": "markdown",
   "id": "6b4ab903-04e4-45fc-9807-2c771110e92a",
   "metadata": {},
   "source": [
    "## **训练画图**"
   ]
  },
  {
   "cell_type": "code",
   "execution_count": 107,
   "id": "3e68e61e-41ce-42a5-9fc3-ee7878b2b27c",
   "metadata": {},
   "outputs": [
    {
     "data": {
      "text/html": [
       "<div>\n",
       "<style scoped>\n",
       "    .dataframe tbody tr th:only-of-type {\n",
       "        vertical-align: middle;\n",
       "    }\n",
       "\n",
       "    .dataframe tbody tr th {\n",
       "        vertical-align: top;\n",
       "    }\n",
       "\n",
       "    .dataframe thead th {\n",
       "        text-align: right;\n",
       "    }\n",
       "</style>\n",
       "<table border=\"1\" class=\"dataframe\">\n",
       "  <thead>\n",
       "    <tr style=\"text-align: right;\">\n",
       "      <th></th>\n",
       "      <th>epoch</th>\n",
       "      <th>batch</th>\n",
       "      <th>loss</th>\n",
       "      <th>acc</th>\n",
       "    </tr>\n",
       "  </thead>\n",
       "  <tbody>\n",
       "    <tr>\n",
       "      <th>0</th>\n",
       "      <td>0</td>\n",
       "      <td>0</td>\n",
       "      <td>2.706292</td>\n",
       "      <td>0.109375</td>\n",
       "    </tr>\n",
       "    <tr>\n",
       "      <th>1</th>\n",
       "      <td>0</td>\n",
       "      <td>1</td>\n",
       "      <td>2.596880</td>\n",
       "      <td>0.144531</td>\n",
       "    </tr>\n",
       "    <tr>\n",
       "      <th>2</th>\n",
       "      <td>0</td>\n",
       "      <td>2</td>\n",
       "      <td>2.466995</td>\n",
       "      <td>0.190104</td>\n",
       "    </tr>\n",
       "    <tr>\n",
       "      <th>3</th>\n",
       "      <td>0</td>\n",
       "      <td>3</td>\n",
       "      <td>2.361446</td>\n",
       "      <td>0.216797</td>\n",
       "    </tr>\n",
       "    <tr>\n",
       "      <th>4</th>\n",
       "      <td>0</td>\n",
       "      <td>4</td>\n",
       "      <td>2.255475</td>\n",
       "      <td>0.251563</td>\n",
       "    </tr>\n",
       "    <tr>\n",
       "      <th>...</th>\n",
       "      <td>...</td>\n",
       "      <td>...</td>\n",
       "      <td>...</td>\n",
       "      <td>...</td>\n",
       "    </tr>\n",
       "    <tr>\n",
       "      <th>565</th>\n",
       "      <td>4</td>\n",
       "      <td>109</td>\n",
       "      <td>0.113779</td>\n",
       "      <td>0.973082</td>\n",
       "    </tr>\n",
       "    <tr>\n",
       "      <th>566</th>\n",
       "      <td>4</td>\n",
       "      <td>110</td>\n",
       "      <td>0.114239</td>\n",
       "      <td>0.972973</td>\n",
       "    </tr>\n",
       "    <tr>\n",
       "      <th>567</th>\n",
       "      <td>4</td>\n",
       "      <td>111</td>\n",
       "      <td>0.114819</td>\n",
       "      <td>0.972796</td>\n",
       "    </tr>\n",
       "    <tr>\n",
       "      <th>568</th>\n",
       "      <td>4</td>\n",
       "      <td>112</td>\n",
       "      <td>0.114620</td>\n",
       "      <td>0.972898</td>\n",
       "    </tr>\n",
       "    <tr>\n",
       "      <th>569</th>\n",
       "      <td>4</td>\n",
       "      <td>113</td>\n",
       "      <td>0.114545</td>\n",
       "      <td>0.972867</td>\n",
       "    </tr>\n",
       "  </tbody>\n",
       "</table>\n",
       "<p>570 rows × 4 columns</p>\n",
       "</div>"
      ],
      "text/plain": [
       "     epoch  batch      loss       acc\n",
       "0        0      0  2.706292  0.109375\n",
       "1        0      1  2.596880  0.144531\n",
       "2        0      2  2.466995  0.190104\n",
       "3        0      3  2.361446  0.216797\n",
       "4        0      4  2.255475  0.251563\n",
       "..     ...    ...       ...       ...\n",
       "565      4    109  0.113779  0.973082\n",
       "566      4    110  0.114239  0.972973\n",
       "567      4    111  0.114819  0.972796\n",
       "568      4    112  0.114620  0.972898\n",
       "569      4    113  0.114545  0.972867\n",
       "\n",
       "[570 rows x 4 columns]"
      ]
     },
     "execution_count": 107,
     "metadata": {},
     "output_type": "execute_result"
    }
   ],
   "source": [
    "log = pd.read_csv('./examples/ai/output/cnn_train_log.csv',sep='\\t')\n",
    "log"
   ]
  },
  {
   "cell_type": "code",
   "execution_count": 113,
   "id": "d262cac7-3b6b-4d6e-b864-427481874933",
   "metadata": {},
   "outputs": [
    {
     "data": {
      "image/png": "[encoded data removed]",
      "text/plain": [
       "<Figure size 1440x720 with 1 Axes>"
      ]
     },
     "metadata": {},
     "output_type": "display_data"
    }
   ],
   "source": [
    "import matplotlib.pyplot as plt\n",
    "plt.style.use('ggplot')\n",
    "#指定默认字体\n",
    "plt.rcParams['font.sans-serif'] = ['SimHei'] \n",
    "plt.rcParams['font.family']='sans-serif'\n",
    "#解决负号'-'显示为方块的问题\n",
    "plt.rcParams['axes.unicode_minus'] = False\n",
    "import seaborn as sns\n",
    "\n",
    "\n",
    "### 训练损失画图\n",
    "plt.figure(figsize=(20,10))\n",
    "sns.lineplot(log[log['epoch'] == 1]['batch'],log[log['epoch'] == 1]['loss'],label='loss')\n",
    "sns.lineplot(log[log['epoch'] == 1]['batch'],log[log['epoch'] == 1]['acc'],label='acc')\n",
    "plt.xlabel(\"bacth\")\n",
    "plt.ylabel(\"loss and acc\")\n",
    "plt.legend()\n",
    "plt.title(f\"model train loss\")\n",
    "plt.show()"
   ]
  },
  {
   "cell_type": "markdown",
   "id": "087c0e04-579b-4de4-8058-47fc15bd7d6a",
   "metadata": {},
   "source": [
    "## **预测**"
   ]
  },
  {
   "cell_type": "code",
   "execution_count": 114,
   "id": "9df229e3-4a0e-4f07-bd6b-d47e467ab908",
   "metadata": {},
   "outputs": [],
   "source": [
    "## 加载权重\n",
    "\n",
    "cnn_model = textcnn(maxlen,vocab_size,embedding_dim,embedding_matrix,cnn_filter_size,cnn_filter_num,dropout_rate,class_num)\n",
    "cnn_model.load_weights('./examples/ai/output/cnn_model_weights.h5')\n",
    "\n",
    "\n",
    "bilstm_model = textbilstm(maxlen,vocab_size,embedding_dim,embedding_matrix,rnn_unit_num,dropout_rate,class_num)\n",
    "bilstm_model.load_weights('./examples/ai/output/bilstm_model_weights.h5')\n"
   ]
  },
  {
   "cell_type": "code",
   "execution_count": 115,
   "id": "a2c6a402-2d26-42ff-946e-dce01577dec2",
   "metadata": {},
   "outputs": [
    {
     "data": {
      "text/plain": [
       "'新浪体育讯 12月27日晚  冠军高尔夫球队迎新高球欢乐派对 活动在北京都市名人高尔夫俱乐部举行'"
      ]
     },
     "execution_count": 115,
     "metadata": {},
     "output_type": "execute_result"
    }
   ],
   "source": [
    "import re\n",
    "import jieba\n",
    "from pathlib import Path\n",
    "\n",
    "def load_stopwords(file):\n",
    "    with open(file,'r',encoding='utf-8') as f:\n",
    "        sp = [x.strip() for x in f if x.strip()]\n",
    "    return sp\n",
    "\n",
    "\n",
    "def segment(x,stopwords = []):\n",
    "    x = [\n",
    "        y.replace(\" \",'') for y in jieba.cut(x) \n",
    "        if y not in stopwords \n",
    "        and re.search('[a-zA-Z\\u4e00-\\u9fa5]+',y) \n",
    "        and len(y.replace(\" \",\"\")) >= 2 \n",
    "    ]\n",
    "    \n",
    "    return \" \".join(x) if len(x) > 0 else None\n",
    "\n",
    "\n",
    "path = './examples/ai'\n",
    "path = Path(path)\n",
    "sp = path.joinpath('./data/哈工大停用词表.txt')\n",
    "sp = load_stopwords(sp)\n",
    "\n",
    "\n",
    "text = '新浪体育讯　12月27日晚，“冠军高尔夫球队迎新高球欢乐派对”活动在北京都市名人高尔夫俱乐部举行'\n",
    "text = re.sub('[^0-9a-zA-Z\\u4e00-\\u9fa5 ]',' ',text)\n",
    "text"
   ]
  },
  {
   "cell_type": "code",
   "execution_count": 116,
   "id": "9f75f00e-ad44-4d2c-afc7-11003190d65b",
   "metadata": {},
   "outputs": [
    {
     "data": {
      "text/plain": [
       "'新浪 体育讯 日晚 冠军 高尔夫球 迎新 高球 欢乐 派对 活动 北京 都市 名人 高尔夫 俱乐部 举行'"
      ]
     },
     "execution_count": 116,
     "metadata": {},
     "output_type": "execute_result"
    }
   ],
   "source": [
    "text = segment(text,stopwords=sp)\n",
    "text"
   ]
  },
  {
   "cell_type": "code",
   "execution_count": 125,
   "id": "a6d79721-8686-43f7-a3d8-29f041ad9dee",
   "metadata": {},
   "outputs": [
    {
     "data": {
      "text/plain": [
       "array([[    1,    26,   369,   255,   283, 29879,  5103,  2700,  1787,\n",
       "           76,     6,  3519,  3015,   311,   244,    50,     0,     0,\n",
       "            0,     0,     0,     0,     0,     0,     0,     0,     0,\n",
       "            0,     0,     0,     0,     0,     0,     0,     0,     0,\n",
       "            0,     0,     0,     0,     0,     0,     0,     0,     0,\n",
       "            0,     0,     0,     0,     0,     0,     0,     0,     0,\n",
       "            0,     0,     0,     0,     0,     0,     0,     0,     0,\n",
       "            0,     0,     0,     0,     0,     0,     0]])"
      ]
     },
     "execution_count": 125,
     "metadata": {},
     "output_type": "execute_result"
    }
   ],
   "source": [
    "import json\n",
    "import tensorflow as tf\n",
    "\n",
    "\n",
    "\n",
    "def save_json(json_dict,file):\n",
    "    '''保存json对象为json文件'''\n",
    "    with open(file,'w',encoding='utf-8') as f:\n",
    "        f.write(json.dumps(json_dict,indent=4,ensure_ascii=False))\n",
    "    return \n",
    "\n",
    "\n",
    "def read_json(file):\n",
    "    '''读取json文件转化为python对象'''\n",
    "    with open(file,'r',encoding='utf-8') as f:\n",
    "        json_dict = json.load(f)\n",
    "    return json_dict\n",
    "\n",
    "\n",
    "\n",
    "def data_to_seq(data,tokenizer,maxlen):\n",
    "    # 序列模式，max_len同意序列长度，超过则过滤，不足则补0\n",
    "    data_ids = tokenizer.texts_to_sequences(data)\n",
    "    data_seq = tf.keras.preprocessing.sequence.pad_sequences(\n",
    "        data_ids,\n",
    "        maxlen = maxlen,\n",
    "        padding = 'post'\n",
    "    )\n",
    "    return data_seq\n",
    "\n",
    "\n",
    "### 建立token 词语id特征转化\n",
    "tokenizer_config = './examples/ai/output/tokenizer_config.json'\n",
    "tokenconfig = read_json(tokenizer_config)\n",
    "tokenizer = tf.keras.preprocessing.text.tokenizer_from_json(tokenconfig)\n",
    "id2label = {y:x for x,y in label2id.items()}\n",
    "\n",
    "maxlen = 70\n",
    "\n",
    "inputx = data_to_seq([text.split()],tokenizer,maxlen)\n",
    "inputx"
   ]
  },
  {
   "cell_type": "code",
   "execution_count": 126,
   "id": "d9c0c8db-6361-467f-99c4-47bb98e971b0",
   "metadata": {},
   "outputs": [
    {
     "data": {
      "text/plain": [
       "3"
      ]
     },
     "execution_count": 126,
     "metadata": {},
     "output_type": "execute_result"
    }
   ],
   "source": [
    "label = cnn_model.predict(inputx).argmax().item()\n",
    "label"
   ]
  },
  {
   "cell_type": "code",
   "execution_count": 127,
   "id": "6f5f6849-a1e8-42a7-87c9-8cdb586d1495",
   "metadata": {},
   "outputs": [
    {
     "data": {
      "text/plain": [
       "'体育'"
      ]
     },
     "execution_count": 127,
     "metadata": {},
     "output_type": "execute_result"
    }
   ],
   "source": [
    "id2label[label]"
   ]
  },
  {
   "cell_type": "code",
   "execution_count": 128,
   "id": "efa0ef00-7db6-49e3-89ef-699fa174544d",
   "metadata": {},
   "outputs": [
    {
     "data": {
      "text/plain": [
       "'体育'"
      ]
     },
     "execution_count": 128,
     "metadata": {},
     "output_type": "execute_result"
    }
   ],
   "source": [
    "label = bilstm_model.predict(inputx).argmax().item()\n",
    "id2label[label]"
   ]
  },
  {
   "cell_type": "markdown",
   "id": "86474b56-1404-4c80-a215-88061f7b404b",
   "metadata": {},
   "source": [
    "## **以API接口的形式向外提供预测服务**"
   ]
  },
  {
   "cell_type": "code",
   "execution_count": 131,
   "id": "1fcd4bc0-448d-447d-a006-45e81302a8bf",
   "metadata": {},
   "outputs": [],
   "source": [
    "# %load ./examples/ai/app.py\n",
    "import re\n",
    "import json\n",
    "import jieba\n",
    "from pathlib import Path\n",
    "import tensorflow as tf\n",
    "import uvicorn\n",
    "from fastapi import FastAPI,Request\n",
    "\n",
    "\n",
    "\n",
    "def read_json(file):\n",
    "    '''读取json文件转化为python对象'''\n",
    "    with open(file,'r',encoding='utf-8') as f:\n",
    "        json_dict = json.load(f)\n",
    "    return json_dict\n",
    "\n",
    "\n",
    "def load_stopwords(file):\n",
    "    with open(file,'r',encoding='utf-8') as f:\n",
    "        sp = [x.strip() for x in f if x.strip()]\n",
    "    return sp\n",
    "\n",
    "\n",
    "def segment(x,stopwords = []):\n",
    "    x = [\n",
    "        y.replace(\" \",'') for y in jieba.cut(x) \n",
    "        if y not in stopwords \n",
    "        and re.search('[a-zA-Z\\u4e00-\\u9fa5]+',y) \n",
    "        and len(y.replace(\" \",\"\")) >= 2 \n",
    "    ]\n",
    "    \n",
    "    return \" \".join(x) if len(x) > 0 else None\n",
    "\n",
    "\n",
    "def data_to_seq(data,tokenizer,maxlen):\n",
    "    # 序列模式，max_len同意序列长度，超过则过滤，不足则补0\n",
    "    data_ids = tokenizer.texts_to_sequences(data)\n",
    "    data_seq = tf.keras.preprocessing.sequence.pad_sequences(\n",
    "        data_ids,\n",
    "        maxlen = maxlen,\n",
    "        padding = 'post'\n",
    "    )\n",
    "    return data_seq\n",
    "\n",
    "\n",
    "def textcnn(maxlen,vocab_size,embedding_dim,cnn_filter_size,cnn_filter_num,dropout_rate,class_num):\n",
    "    inputx = tf.keras.layers.Input(shape=(maxlen,))\n",
    "    embx = tf.keras.layers.Embedding(\n",
    "        vocab_size,\n",
    "        embedding_dim\n",
    "    )(inputx)\n",
    "\n",
    "    ### 卷积池化层\n",
    "    convs = []\n",
    "    for size in cnn_filter_size:\n",
    "        conv = tf.keras.layers.Conv1D(\n",
    "            cnn_filter_num,\n",
    "            size,\n",
    "            padding='same',\n",
    "            strides=1,\n",
    "            activation='relu'\n",
    "        )(embx)\n",
    "        conv = tf.keras.layers.MaxPooling1D(\n",
    "            padding = 'same',\n",
    "            pool_size=size\n",
    "        )(conv)\n",
    "        \n",
    "        convs.append(conv)\n",
    "        \n",
    "    ## 拼接卷积池化层输出\n",
    "    convs = tf.keras.layers.Concatenate(axis=1)(convs)    \n",
    "    \n",
    "    convs = tf.keras.layers.Flatten()(convs)\n",
    "    convs = tf.keras.layers.Dropout(dropout_rate)(convs)\n",
    "    output = tf.keras.layers.Dense(\n",
    "        class_num,\n",
    "        activation='softmax'\n",
    "    )(convs)\n",
    "    model = tf.keras.models.Model(inputs = inputx, outputs = output)\n",
    "    return model\n",
    "\n",
    "\n",
    "\n",
    "\n",
    "class modelAPI(object):\n",
    "    def __init__(self):\n",
    "        path = Path().cwd()\n",
    "        self.rep = re.compile('[^0-9a-zA-Z\\u4e00-\\u9fa5 ]')\n",
    "        self.sp = load_stopwords(path.joinpath('./data/哈工大停用词表.txt'))\n",
    "        ### 建立token 词语id特征转化\n",
    "        tokenizer_config = path.joinpath('./output/tokenizer_config.json')\n",
    "        tokenconfig = read_json(tokenizer_config)\n",
    "        self.tokenizer = tf.keras.preprocessing.text.tokenizer_from_json(tokenconfig)\n",
    "        self.vocab = self.tokenizer.word_index\n",
    "        self.label2id = read_json(path.joinpath('./output/label2id.json'))\n",
    "        self.id2label = {y:x for x,y in self.label2id.items()}\n",
    "        self.maxlen = 70\n",
    "        self.vocab_size = len(self.vocab) + 1\n",
    "        self.embedding_dim = 100\n",
    "        self.cnn_filter_size = [3,4,5]\n",
    "        self.cnn_filter_num = 100\n",
    "        self.dropout_rate = 0.3\n",
    "        self.class_num = len(self.label2id)\n",
    "        self.cnn_model = textcnn(self.maxlen,self.vocab_size,self.embedding_dim,self.cnn_filter_size,self.cnn_filter_num,self.dropout_rate,self.class_num)\n",
    "        self.cnn_model.load_weights(path.joinpath('./output/cnn_model_weights.h5'))\n",
    "\n",
    "    \n",
    "    def web(self):\n",
    "        app = FastAPI()\n",
    "\n",
    "        @app.post('/nlp/classify')\n",
    "        async def clf(request: Request):\n",
    "\n",
    "            args = await request.json()\n",
    "            text = args.get('sen')\n",
    "            text = re.sub(self.rep,' ',text)\n",
    "            text = segment(text,stopwords=self.sp)\n",
    "            inputx = data_to_seq([text.split()],self.tokenizer,self.maxlen)\n",
    "            label = self.cnn_model.predict(inputx).argmax().item()\n",
    "            label = self.id2label[label]\n",
    "\n",
    "            return {'result': f'{label}'}\n",
    "        \n",
    "        return app\n",
    "\n",
    "\n",
    "\n",
    "\n",
    "app = modelAPI().web()\n",
    "\n",
    "\n",
    "\n",
    "\n",
    "if __name__ == '__main__':\n",
    "    uvicorn.run(\n",
    "        app = app,\n",
    "        host = \"0.0.0.0\",\n",
    "        port = 5678\n",
    "    )"
   ]
  },
  {
   "cell_type": "code",
   "execution_count": 130,
   "id": "ae8b46a8-823f-4b8c-9ed3-b0f90e31f3ab",
   "metadata": {},
   "outputs": [
    {
     "data": {
      "text/plain": [
       "{'result': '体育'}"
      ]
     },
     "execution_count": 130,
     "metadata": {},
     "output_type": "execute_result"
    }
   ],
   "source": [
    "import requests as rq\n",
    "\n",
    "url = 'http://localhost:5678/nlp/classify'\n",
    "\n",
    "args = {'sen': '新浪体育讯　12月27日晚，“冠军高尔夫球队迎新高球欢乐派对”活动在北京都市名人高尔夫俱乐部举行'}\n",
    "\n",
    "rq.post(url,json=args).json()"
   ]
  },
  {
   "cell_type": "code",
   "execution_count": null,
   "id": "186d1b45-369b-4de9-b19c-e00f335e200c",
   "metadata": {},
   "outputs": [],
   "source": []
  }
 ],
 "metadata": {
  "kernelspec": {
   "display_name": "Python 3 (ipykernel)",
   "language": "python",
   "name": "python3"
  },
  "language_info": {
   "codemirror_mode": {
    "name": "ipython",
    "version": 3
   },
   "file_extension": ".py",
   "mimetype": "text/x-python",
   "name": "python",
   "nbconvert_exporter": "python",
   "pygments_lexer": "ipython3",
   "version": "3.9.7"
  }
 },
 "nbformat": 4,
 "nbformat_minor": 5
}
