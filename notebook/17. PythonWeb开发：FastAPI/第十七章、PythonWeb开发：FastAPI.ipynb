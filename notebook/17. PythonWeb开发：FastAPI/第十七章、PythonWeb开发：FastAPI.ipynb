{
 "cells": [
  {
   "cell_type": "markdown",
   "id": "ec14eec8-9ed6-4337-b391-9fc9cc98f8e4",
   "metadata": {},
   "source": [
    "# **花卷学Python**\n",
    "---\n",
    "\n",
    "> **我年纪轻轻就学会了Python编程**\n",
    "\n",
    "\n",
    "# **第十七章、PythonWeb开发：FastAPI**\n",
    "\n",
    "   - [x] **FastAPI**\n"
   ]
  },
  {
   "cell_type": "markdown",
   "id": "65707f76-f9fe-48c3-a01e-7630faa576a5",
   "metadata": {},
   "source": [
    "---"
   ]
  },
  {
   "cell_type": "markdown",
   "id": "544aeb05-4703-4e26-b1e7-55667f1fcfc5",
   "metadata": {},
   "source": [
    "# **一、FastAPI**\n",
    "\n",
    "---\n",
    "\n",
    "和Flask类似，FastAPI也是一个web框架，对于实现Restful API非常简单友好，那么就会有人问了，既然都有了Flask为什么还需要使用FastAPI呢？\n",
    "\n",
    "首先，我们来了解一下什么是FastAPI：\n",
    "\n",
    "\n",
    "FastAPI 是一个现代、快速（高性能）的 Web 框架，用于基于标准 Python 类型提示使用 Python 3.6+ 构建 API。\n",
    "\n",
    "主要特点是：\n",
    "\n",
    "- 快速：非常高的性能，与NodeJS和Go相当（感谢 Starlette 和 Pydantic）。可用的最快的 Python 框架之一。\n",
    "\n",
    "- 快速编码：将开发功能的速度提高约 200% 到 300%。*\n",
    "\n",
    "- 更少的错误：减少约 40% 的人为（开发人员）导致的错误。*\n",
    "\n",
    "- 直观：出色的编辑器支持。到处完成。更少的调试时间。\n",
    "\n",
    "- 简单：旨在易于使用和学习。减少阅读文档的时间。\n",
    "\n",
    "- Short : 尽量减少代码重复。每个参数声明的多个功能。更少的错误。\n",
    "\n",
    "- 健壮：获取生产就绪的代码。具有自动交互式文档。\n",
    "\n",
    "- 基于标准：基于（并完全兼容）API 的开放标准：OpenAPI（以前称为 Swagger）和JSON Schema。\n",
    "\n",
    "## **Web框架性能对比：源自https://www.techempower.com/**\n",
    "\n",
    "![](./images/1.png)\n",
    "\n",
    "\n",
    "## **安装**\n",
    "\n",
    "- **`pip install fastapi`**\n",
    "- **`pip install uvicorn`**\n",
    "- **可选：`pip install uvicorn[standard]`**\n",
    "- **可选：`pip install python-multipart`，支持form-data**"
   ]
  },
  {
   "cell_type": "markdown",
   "id": "f0f87221-817d-46a7-814c-c08efc86955a",
   "metadata": {},
   "source": [
    "# **FastAPI：GET**"
   ]
  },
  {
   "cell_type": "code",
   "execution_count": 1,
   "id": "9f03f70c-0abf-44e3-b224-4bba8cffda63",
   "metadata": {},
   "outputs": [],
   "source": [
    "# %load ./examples/app1.py\n",
    "import uvicorn\n",
    "from fastapi import FastAPI,Request\n",
    "\n",
    "\n",
    "\n",
    "\n",
    "app = FastAPI()\n",
    "\n",
    "\n",
    "@app.get('/test')\n",
    "async def test1():\n",
    "    return {'result': '这是一个GET'}\n",
    "\n",
    "\n",
    "\n",
    "\n",
    "@app.post('/test/{apiname}')\n",
    "async def test2(apiname):\n",
    "    \"\"\"\n",
    "    /test/<apiname>：后面的apiname表示任意名字\n",
    "    \"\"\"\n",
    "    return {'result': f'这是一个GET，您请求的是：{apiname}'}\n",
    "\n",
    "\n",
    "\n",
    "if __name__ == '__main__':\n",
    "    uvicorn.run(\n",
    "        app = app,\n",
    "        host = \"0.0.0.0\",\n",
    "        port = 5678\n",
    "    )"
   ]
  },
  {
   "cell_type": "code",
   "execution_count": 6,
   "id": "64a71bfa-10d0-4806-b447-f7bae92783dd",
   "metadata": {},
   "outputs": [
    {
     "data": {
      "text/plain": [
       "{'result': '这是一个GET'}"
      ]
     },
     "execution_count": 6,
     "metadata": {},
     "output_type": "execute_result"
    }
   ],
   "source": [
    "import requests as rq\n",
    "\n",
    "url = 'http://localhost:5678/test'\n",
    "\n",
    "rq.get(url).json()"
   ]
  },
  {
   "cell_type": "code",
   "execution_count": 5,
   "id": "2ec4c30e-e3ce-4cd5-8a56-dd1d63d592f2",
   "metadata": {},
   "outputs": [
    {
     "data": {
      "text/plain": [
       "{'result': '这是一个GET，您请求的是：heiheihei'}"
      ]
     },
     "execution_count": 5,
     "metadata": {},
     "output_type": "execute_result"
    }
   ],
   "source": [
    "import requests as rq\n",
    "\n",
    "url = 'http://localhost:5678/test/heiheihei'\n",
    "\n",
    "rq.get(url).json()"
   ]
  },
  {
   "cell_type": "markdown",
   "id": "169c0bd3-5c27-4db1-ae04-5044b59c2626",
   "metadata": {},
   "source": [
    "# **FastAPI：自动生成API文档**"
   ]
  },
  {
   "cell_type": "markdown",
   "id": "915b8227-091b-409b-834c-f37c25489982",
   "metadata": {},
   "source": [
    "## **直接在启动的接口地址后面写`/docs`访问即可**\n",
    "\n",
    "- **比如上文接口：http://localhost:5678/docs**"
   ]
  },
  {
   "cell_type": "markdown",
   "id": "86917d91-a0e1-4375-8db2-20ca9173100c",
   "metadata": {},
   "source": [
    "# **FastAPI：POST**"
   ]
  },
  {
   "cell_type": "code",
   "execution_count": 7,
   "id": "e75761da-f751-4e07-824d-497702cd2f44",
   "metadata": {},
   "outputs": [],
   "source": [
    "# %load ./examples/app2.py\n",
    "import uvicorn\n",
    "from fastapi import FastAPI,Request\n",
    "\n",
    "\n",
    "\n",
    "\n",
    "app = FastAPI()\n",
    "\n",
    "\n",
    "@app.post('/test')\n",
    "async def test1():\n",
    "    return {'result': '这是一个GET'}\n",
    "\n",
    "\n",
    "\n",
    "\n",
    "@app.post('/test/{apiname}')\n",
    "async def test2(apiname, request: Request):\n",
    "    \"\"\"\n",
    "    /test/<apiname>：后面的apiname表示任意名字\n",
    "    \"\"\"\n",
    "\n",
    "    args = await request.json()\n",
    "\n",
    "    return {'result': f'这是一个GET，您请求的是：{apiname}，您的参数是：{args}'}\n",
    "\n",
    "\n",
    "\n",
    "if __name__ == '__main__':\n",
    "    uvicorn.run(\n",
    "        app = app,\n",
    "        host = \"0.0.0.0\",\n",
    "        port = 5678\n",
    "    )"
   ]
  },
  {
   "cell_type": "code",
   "execution_count": 9,
   "id": "3245dd11-eaa2-441f-9133-4a8b48e0065e",
   "metadata": {},
   "outputs": [
    {
     "data": {
      "text/plain": [
       "{'result': '这是一个POST'}"
      ]
     },
     "execution_count": 9,
     "metadata": {},
     "output_type": "execute_result"
    }
   ],
   "source": [
    "import requests as rq\n",
    "\n",
    "url = 'http://localhost:5678/test'\n",
    "\n",
    "rq.post(url).json()"
   ]
  },
  {
   "cell_type": "code",
   "execution_count": 10,
   "id": "ce1fdcbd-1b06-49dc-8bed-e90bd8420346",
   "metadata": {},
   "outputs": [
    {
     "data": {
      "text/plain": [
       "{'result': \"这是一个GET，您请求的是：heihei，您的参数是：{'name': 'test', 'passwd': '123456'}\"}"
      ]
     },
     "execution_count": 10,
     "metadata": {},
     "output_type": "execute_result"
    }
   ],
   "source": [
    "import requests as rq\n",
    "\n",
    "url = 'http://localhost:5678/test/heihei'\n",
    "\n",
    "\n",
    "args = {\"name\": \"test\", \"passwd\": \"123456\"}\n",
    "\n",
    "rq.post(url,json = args).json()"
   ]
  },
  {
   "cell_type": "markdown",
   "id": "7e321d75-32a1-4032-9280-5c4bb6ba009a",
   "metadata": {},
   "source": [
    "# **FastAPI：蓝图**\n",
    "\n",
    "蓝图的功能和其它框架很类似，便于管理：\n",
    "\n",
    "当我们项目非常大，接口非常多的时候，直接书写接口会很难管理，这时就可以使用蓝图功能对此进行分类管理。"
   ]
  },
  {
   "cell_type": "code",
   "execution_count": 15,
   "id": "b1dcf7de-c642-4a92-9322-14702e79f500",
   "metadata": {},
   "outputs": [],
   "source": [
    "# %load ./examples/app3.py\n",
    "import uvicorn\n",
    "from fastapi import FastAPI,Request,APIRouter\n",
    "\n",
    "\n",
    "\n",
    "router = APIRouter(prefix='/bp',tags = ['bp'])\n",
    "\n",
    "\n",
    "\n",
    "\n",
    "# @router.get('/test')\n",
    "# @router.post(\"/test\")\n",
    "@router.api_route(\"/test\",methods=['GET','POST'])\n",
    "async def test1():\n",
    "    return {'result': '这是一个GET或者POST'}\n",
    "\n",
    "\n",
    "\n",
    "@router.post('/test/{apiname}')\n",
    "# @router.get('/test/{apiname}')\n",
    "# @router.api_route('/test/{apiname}',methods=['POST'])\n",
    "async def test2(apiname, request: Request):\n",
    "    \"\"\"\n",
    "    /test/<apiname>：后面的apiname表示任意名字\n",
    "    \"\"\"\n",
    "\n",
    "    args = await request.json()\n",
    "\n",
    "    return {'result': f'这是一个GET，您请求的是：{apiname}，您的参数是：{args}'}\n",
    "\n",
    "\n",
    "app = FastAPI()\n",
    "app.include_router(router)\n",
    "\n",
    "\n",
    "\n",
    "if __name__ == '__main__':\n",
    "    uvicorn.run(\n",
    "        app = app,\n",
    "        host = \"0.0.0.0\",\n",
    "        port = 5678\n",
    "    )"
   ]
  },
  {
   "cell_type": "code",
   "execution_count": 12,
   "id": "43e5e14b-4b11-42a8-b9cf-02b4839f9dee",
   "metadata": {},
   "outputs": [
    {
     "data": {
      "text/plain": [
       "{'result': '这是一个GET或者POST'}"
      ]
     },
     "execution_count": 12,
     "metadata": {},
     "output_type": "execute_result"
    }
   ],
   "source": [
    "import requests as rq\n",
    "\n",
    "url = 'http://localhost:5678/bp/test'\n",
    "\n",
    "rq.get(url).json()"
   ]
  },
  {
   "cell_type": "code",
   "execution_count": 13,
   "id": "9d6bbfcf-77c5-4362-a97a-f5ace9f0ed9e",
   "metadata": {},
   "outputs": [
    {
     "data": {
      "text/plain": [
       "{'result': '这是一个GET或者POST'}"
      ]
     },
     "execution_count": 13,
     "metadata": {},
     "output_type": "execute_result"
    }
   ],
   "source": [
    "import requests as rq\n",
    "\n",
    "url = 'http://localhost:5678/bp/test'\n",
    "\n",
    "rq.post(url).json()"
   ]
  },
  {
   "cell_type": "code",
   "execution_count": 14,
   "id": "eb31c027-e324-4cff-ad71-5928f2a822d7",
   "metadata": {},
   "outputs": [
    {
     "data": {
      "text/plain": [
       "{'result': \"这是一个GET，您请求的是：heihei，您的参数是：{'name': 'test', 'passwd': '123456'}\"}"
      ]
     },
     "execution_count": 14,
     "metadata": {},
     "output_type": "execute_result"
    }
   ],
   "source": [
    "import requests as rq\n",
    "\n",
    "url = 'http://localhost:5678/bp/test/heihei'\n",
    "\n",
    "\n",
    "args = {\"name\": \"test\", \"passwd\": \"123456\"}\n",
    "\n",
    "rq.post(url,json = args).json()"
   ]
  },
  {
   "cell_type": "markdown",
   "id": "3ee94fe0-568e-4cb7-98cd-c9dbb331c6bf",
   "metadata": {},
   "source": [
    "# **FastAPI：渲染HTNL**"
   ]
  },
  {
   "cell_type": "code",
   "execution_count": 16,
   "id": "5c67dc9f-7f5a-479f-b3b9-83f567793b4e",
   "metadata": {},
   "outputs": [],
   "source": [
    "# %load ./examples/app4.py\n",
    "import uvicorn\n",
    "from fastapi import FastAPI\n",
    "from fastapi.responses import HTMLResponse\n",
    "\n",
    "app = FastAPI()\n",
    "\n",
    "\n",
    "@app.get(\"/index\")\n",
    "async def read_items():\n",
    "    html_content = \"\"\"\n",
    "    <html>\n",
    "        <head>\n",
    "            <title>index</title>\n",
    "        </head>\n",
    "        <body>\n",
    "            <h1>花卷老师真帅!</h1>\n",
    "        </body>\n",
    "    </html>\n",
    "    \"\"\"\n",
    "    return HTMLResponse(content=html_content, status_code=200)\n",
    "\n",
    "\n",
    "\n",
    "\n",
    "if __name__ == '__main__':\n",
    "    uvicorn.run(\n",
    "        app = app,\n",
    "        host = \"0.0.0.0\",\n",
    "        port = 5678\n",
    "    )"
   ]
  },
  {
   "cell_type": "markdown",
   "id": "dda7b86d-329e-4b19-b6cf-f1e4debba93c",
   "metadata": {},
   "source": [
    "## **渲染本地HTML文件**"
   ]
  },
  {
   "cell_type": "code",
   "execution_count": 17,
   "id": "adc06969-eca5-4464-ad22-81b0a7f7ad14",
   "metadata": {},
   "outputs": [],
   "source": [
    "# %load ./examples/app5.py\n",
    "\n",
    "import uvicorn\n",
    "from fastapi import FastAPI\n",
    "\n",
    "\n",
    "# 导入Request上下文对象，用来在前后台之间传递参数\n",
    "from starlette.requests import Request\n",
    "\n",
    "from starlette.staticfiles import StaticFiles\n",
    "# 导入jinja2模板引擎对象，用于后续使用\n",
    "from starlette.templating import Jinja2Templates\n",
    "\n",
    "\n",
    "app = FastAPI()\n",
    "\n",
    "\n",
    "app.mount(\"/static\", StaticFiles(directory=\"static\"), name=\"static\")\n",
    "# 实例化一个模板引擎对象，指定模板所在路径\n",
    "templates=Jinja2Templates(directory='templates')\n",
    "\n",
    "@app.get(\"/sign\")\n",
    "async def read_items(request: Request):\n",
    "    # 返回一个模板对象，同时使用上下文中的数据对模板进行渲染\n",
    "    return templates.TemplateResponse(name='sign.html',context = {'request':request})\n",
    "\n",
    "\n",
    "\n",
    "@app.post(\"/sign\")\n",
    "async def read_sign(request: Request):\n",
    "    args = await request.form()\n",
    "    username = args['username']\n",
    "    passwd = args['password']\n",
    "    print(username,passwd)\n",
    "    # 返回一个模板对象，同时使用上下文中的数据对模板进行渲染\n",
    "\n",
    "    if username == 'test' and passwd == '123456':\n",
    "        return templates.TemplateResponse(name='success.html',context = {'request':request,'username':username})\n",
    "    return templates.TemplateResponse(name='bad.html',context = {'request':request})\n",
    "\n",
    "\n",
    "if __name__ == '__main__':\n",
    "    uvicorn.run(\n",
    "        app = app,\n",
    "        host = \"0.0.0.0\",\n",
    "        port = 5678\n",
    "    )"
   ]
  },
  {
   "cell_type": "markdown",
   "id": "5ae8f200-7ea7-48a9-bebf-3a00ed57b374",
   "metadata": {},
   "source": [
    "## **更多教程访问官网：https://fastapi.tiangolo.com**"
   ]
  },
  {
   "cell_type": "markdown",
   "id": "f82aaeff-a72c-412f-b2a8-d2ca283457e3",
   "metadata": {},
   "source": [
    "## **小结**\n",
    "\n",
    "- **Flask：轻量型网站**\n",
    "- **FastAPI：更适用于实现API**\n",
    "- **Django：大型网站**"
   ]
  },
  {
   "cell_type": "code",
   "execution_count": null,
   "id": "b0201fb4-ba08-4f1b-9b26-43be3d28c0c5",
   "metadata": {},
   "outputs": [],
   "source": []
  }
 ],
 "metadata": {
  "kernelspec": {
   "display_name": "Python 3 (ipykernel)",
   "language": "python",
   "name": "python3"
  },
  "language_info": {
   "codemirror_mode": {
    "name": "ipython",
    "version": 3
   },
   "file_extension": ".py",
   "mimetype": "text/x-python",
   "name": "python",
   "nbconvert_exporter": "python",
   "pygments_lexer": "ipython3",
   "version": "3.9.7"
  }
 },
 "nbformat": 4,
 "nbformat_minor": 5
}
