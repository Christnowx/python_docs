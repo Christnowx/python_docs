{
 "cells": [
  {
   "cell_type": "markdown",
   "id": "7ac7346a-6697-4e2d-826b-84f19f4bf837",
   "metadata": {},
   "source": [
    "# **花卷学Python**\n",
    "---\n",
    "\n",
    "> **我年纪轻轻就学会了Python编程**\n",
    "\n",
    "\n",
    "# **第六章、Python编程：面向对象编程**\n",
    "\n",
    "\n",
    " - [x] **类、对象、实例**\n",
    " - [x] **访问限制**\n",
    " - [x] **继承和多态**\n",
    " - [x] **类的装饰器**\n",
    " - [x] **类的魔法方法**\n",
    "\n",
    "\n",
    "> **Python一切皆对象**\n",
    "\n",
    "面向对象编程——Object Oriented Programming，简称OOP，是一种程序设计思想。OOP把对象作为程序的基本单元，一个对象包含了数据和操作数据的函数。\n",
    "\n",
    "面向过程的程序设计把计算机程序视为一系列的命令集合，即一组函数的顺序执行。为了简化程序设计，面向过程把函数继续切分为子函数，即把大块函数通过切割成小块函数来降低系统的复杂度。\n",
    "\n",
    "而面向对象的程序设计把计算机程序视为一组对象的集合，而每个对象都可以接收其他对象发过来的消息，并处理这些消息，计算机程序的执行就是一系列消息在各个对象之间传递。\n",
    "\n",
    "在Python中，所有数据类型都可以视为对象，当然也可以自定义对象。自定义的对象数据类型就是面向对象中的类（Class）的概念。"
   ]
  },
  {
   "cell_type": "markdown",
   "id": "eb3fc787-082a-4c5b-a0e3-ee961ac2c182",
   "metadata": {},
   "source": [
    "---"
   ]
  },
  {
   "cell_type": "markdown",
   "id": "b8b35136-292c-4f7b-883f-54e52a8a2985",
   "metadata": {},
   "source": [
    "# **一、类、对象、实例**\n",
    "\n",
    "---\n",
    "\n",
    "- **类：用来描述具有相同的属性和方法的对象的集合。它定义了该集合中每个对象所共有的属性和方法。类是用于构建对象的模板。**\n",
    "\n",
    "- **对象：通过类定义的数据结构实例**\n",
    "\n",
    "- **实例：根据类创建出来的一个个具体的“对象”，每个对象都拥有相同的方法，但各自的数据可能不同。**"
   ]
  },
  {
   "cell_type": "markdown",
   "id": "d744e8cc-7429-488a-9b8c-2e6f98da911b",
   "metadata": {},
   "source": [
    "## **如何定义一个类**\n",
    "\n",
    "在Python中，定义类是通过class关键字：class后面紧接着是类名，即Student，**类名通常是大写开头的单词**，紧接着是(object)，表示该类是从哪个类继承下来的，继承的概念我们后面再讲，\n",
    "\n",
    "通常，如果没有合适的继承类，就使用object类，这是所有类最终都会继承的类。\n",
    "\n",
    "### **例如我们来定义一个学生类**"
   ]
  },
  {
   "cell_type": "code",
   "execution_count": 3,
   "id": "8bd82b36-eadd-4e0c-8c0a-842a6e6d4516",
   "metadata": {},
   "outputs": [],
   "source": [
    "class Student(object):\n",
    "    pass"
   ]
  },
  {
   "cell_type": "markdown",
   "id": "dd2d45de-e1cc-4199-ae66-1227b952b832",
   "metadata": {},
   "source": [
    "### **object：并非一定要写，可以不写，那么上面这个类可以简化**"
   ]
  },
  {
   "cell_type": "code",
   "execution_count": 6,
   "id": "2ea5764c-2faa-4c88-85bd-02bc4bd71037",
   "metadata": {},
   "outputs": [],
   "source": [
    "class Student:\n",
    "    pass"
   ]
  },
  {
   "cell_type": "code",
   "execution_count": 5,
   "id": "d9cb312c-3f57-4fbf-a019-a9a336be61e5",
   "metadata": {},
   "outputs": [
    {
     "data": {
      "text/plain": [
       "<__main__.Student at 0x1ddd0114a00>"
      ]
     },
     "execution_count": 5,
     "metadata": {},
     "output_type": "execute_result"
    }
   ],
   "source": [
    "### 定义一个学生实例\n",
    "\n",
    "student1 = Student()\n",
    "student1"
   ]
  },
  {
   "cell_type": "markdown",
   "id": "756a71a5-0da3-42a1-a478-f87501d17394",
   "metadata": {},
   "source": [
    "- **学生就是一个对象**\n",
    "- **Student就是描述学生对象的抽象即为类**\n",
    "- **student1就是一个指向学生类的实例，你可以创建很多个实例**\n",
    "\n",
    "> **需要注意：这个类名首字母大写只是一种期望规则，也可以是不大写的**"
   ]
  },
  {
   "cell_type": "markdown",
   "id": "c00b4e16-edfa-4433-9f9b-9babf4648b8e",
   "metadata": {},
   "source": [
    "### **当我们定义好一个类之后需要给它定义一些属性值用来描述这个类**\n",
    "\n",
    "**比如学生这个类可能有很多种属性：姓名、年龄、身高等**\n",
    "\n",
    "**通过 `.` 这个关键字来访问和定义属性**"
   ]
  },
  {
   "cell_type": "code",
   "execution_count": 7,
   "id": "ab3a04c4-b560-48f8-8bab-5b7a93e882a4",
   "metadata": {},
   "outputs": [],
   "source": [
    "class Student:\n",
    "    pass\n",
    "\n",
    "student1 = Student()\n",
    "\n",
    "student1.name = 'name1'\n",
    "student1.age = 18\n",
    "student1.height = '180'"
   ]
  },
  {
   "cell_type": "markdown",
   "id": "f34b37f6-5a27-493b-b805-809c448e3d71",
   "metadata": {},
   "source": [
    "**定义完属性我们可以来访问它**"
   ]
  },
  {
   "cell_type": "code",
   "execution_count": 9,
   "id": "dd7cbd98-16af-4395-9053-9f15c3242283",
   "metadata": {},
   "outputs": [
    {
     "data": {
      "text/plain": [
       "'name1'"
      ]
     },
     "execution_count": 9,
     "metadata": {},
     "output_type": "execute_result"
    }
   ],
   "source": [
    "student1.name"
   ]
  },
  {
   "cell_type": "code",
   "execution_count": 10,
   "id": "de611b1c-e8c5-4db8-b1f9-a1eecd90c734",
   "metadata": {},
   "outputs": [
    {
     "data": {
      "text/plain": [
       "18"
      ]
     },
     "execution_count": 10,
     "metadata": {},
     "output_type": "execute_result"
    }
   ],
   "source": [
    "student1.age"
   ]
  },
  {
   "cell_type": "code",
   "execution_count": 11,
   "id": "cbf67d58-e2be-4230-aa57-e7eea6e9f087",
   "metadata": {},
   "outputs": [
    {
     "data": {
      "text/plain": [
       "'180'"
      ]
     },
     "execution_count": 11,
     "metadata": {},
     "output_type": "execute_result"
    }
   ],
   "source": [
    "student1.height"
   ]
  },
  {
   "cell_type": "markdown",
   "id": "6c91824c-0b75-466e-867d-eeae75dac622",
   "metadata": {},
   "source": [
    "**因为每个学生都有姓名、年纪、身高这三个属性，我们不可能每创建一个实例都去分别定义一下，这样太麻烦了。**\n",
    "\n",
    "**由于类可以起到模板的作用，因此，可以在创建实例的时候，把一些我们认为必须绑定的属性强制填写进去。通过定义一个特殊的__init__方法，在创建实例的时候，就把name，age等属性绑上去**"
   ]
  },
  {
   "cell_type": "code",
   "execution_count": 12,
   "id": "ed216486-551b-4396-9a03-8f09bff8ec4a",
   "metadata": {},
   "outputs": [],
   "source": [
    "class Student(object):\n",
    "    def __init__(self,name,age,height):\n",
    "        self.name = name\n",
    "        self.age = age\n",
    "        self.height = height"
   ]
  },
  {
   "cell_type": "markdown",
   "id": "c681e1a9-b604-4b73-8c16-92bda4313b97",
   "metadata": {},
   "source": [
    "> **注意：特殊方法“__init__”前后分别有两个下划线！！！**\n",
    "\n",
    "\n",
    "**注意到__init__方法的第一个参数永远是self，表示创建的实例本身，因此，在__init__方法内部，就可以把各种属性绑定到self，因为self就指向创建的实例本身。**\n",
    "\n",
    "**有了__init__方法，在创建实例的时候，就不能传入空的参数了，必须传入与__init__方法匹配的参数，但self不需要传，Python解释器自己会把实例变量传进去**"
   ]
  },
  {
   "cell_type": "code",
   "execution_count": 13,
   "id": "3ad0bffd-0521-46de-b778-578ed264dd6c",
   "metadata": {},
   "outputs": [
    {
     "name": "stdout",
     "output_type": "stream",
     "text": [
      "name1 18 180\n"
     ]
    }
   ],
   "source": [
    "class Student(object):\n",
    "    def __init__(self,name,age,height):\n",
    "        self.name = name\n",
    "        self.age = age\n",
    "        self.height = height\n",
    "        \n",
    "student1 = Student(name = 'name1', age = 18, height = '180')\n",
    "\n",
    "print(student1.name, student1.age, student1.height)"
   ]
  },
  {
   "cell_type": "markdown",
   "id": "2fc11139-06c9-4abd-b324-ce99e7eebb4d",
   "metadata": {},
   "source": [
    "**和普通的函数相比，在类中定义的函数只有一点不同，就是第一个参数永远是实例变量self，并且，调用时，不用传递该参数。**\n",
    "\n",
    "**除此之外，类的方法和普通函数没有什么区别，所以，你仍然可以用默认参数、可变参数、关键字参数和命名关键字参数。**"
   ]
  },
  {
   "cell_type": "markdown",
   "id": "e6d1fa34-96cd-4443-8842-de0c780e307b",
   "metadata": {},
   "source": [
    "## **类的封装**\n",
    "\n",
    "**面向对象编程的一个重要特点就是数据封装。在上面的Student类中，每个实例就拥有各自的name，age这些数据。我们可以通过函数来访问这些数据**\n",
    "\n",
    "**但是，既然Student实例本身就拥有这些数据，要访问这些数据，就没有必要从外面的函数去访问，可以直接在Student类的内部定义访问数据的函数，**\n",
    "\n",
    "**这样，就把“数据”给封装起来了。这些封装数据的函数是和Student类本身是关联起来的，我们称之为类的方法：**"
   ]
  },
  {
   "cell_type": "code",
   "execution_count": null,
   "id": "75e3cf50-8901-40eb-bc3b-d92c438dad33",
   "metadata": {},
   "outputs": [],
   "source": [
    "class Student(object):\n",
    "    def __init__(self,name,age,height):\n",
    "        self.name = name\n",
    "        self.age = age\n",
    "        self.height = height\n",
    "        \n",
    "    def get_age_grade(self):\n",
    "        if self.age <= 18:\n",
    "            print(\"哇，你好年轻\")\n",
    "        else:\n",
    "            print(\"哇，你好老\")"
   ]
  },
  {
   "cell_type": "markdown",
   "id": "9e97cd99-fe3f-4900-978c-e1227ae8536f",
   "metadata": {},
   "source": [
    "**要定义一个方法，除了第一个参数是self外，其他和普通函数一样。**\n",
    "\n",
    "**并且一个类我们可以定义多个方法**\n",
    "\n",
    "**要调用一个方法，只需要在实例变量上直接调用，除了self不用传递，其他参数正常传入：**"
   ]
  },
  {
   "cell_type": "code",
   "execution_count": 18,
   "id": "bd44457e-683b-486f-9ad1-8668996d3a95",
   "metadata": {},
   "outputs": [],
   "source": [
    "class Student(object):\n",
    "    def __init__(self,name,age,height):\n",
    "        self.name = name\n",
    "        self.age = age\n",
    "        self.height = height\n",
    "        \n",
    "    def get_age_grade(self):\n",
    "        if self.age <= 18:\n",
    "            print(\"哇，你好年轻\")\n",
    "        else:\n",
    "            print(\"哇，你好老\")\n",
    "            \n",
    "    def get_height_add(self, height):\n",
    "        \"\"\"\n",
    "        可以直接在方法内部修改类的属性\n",
    "        \"\"\"\n",
    "        self.height += height\n",
    "        return self.height"
   ]
  },
  {
   "cell_type": "code",
   "execution_count": 19,
   "id": "eb593521-4b80-482e-b8c9-de1c5bb10216",
   "metadata": {},
   "outputs": [],
   "source": [
    "student1 = Student(name = 'name1', age = 18, height = 180)\n",
    "student2 = Student(name = 'name2', age = 20, height = 200)"
   ]
  },
  {
   "cell_type": "code",
   "execution_count": 20,
   "id": "baf25139-2f6c-48fc-9820-496dbf727fd4",
   "metadata": {},
   "outputs": [
    {
     "name": "stdout",
     "output_type": "stream",
     "text": [
      "哇，你好年轻\n"
     ]
    }
   ],
   "source": [
    "student1.get_age_grade()"
   ]
  },
  {
   "cell_type": "code",
   "execution_count": 21,
   "id": "ad7c28e4-7d9b-47a2-b0c4-3dcd51337c97",
   "metadata": {},
   "outputs": [
    {
     "name": "stdout",
     "output_type": "stream",
     "text": [
      "哇，你好老\n"
     ]
    }
   ],
   "source": [
    "student2.get_age_grade()"
   ]
  },
  {
   "cell_type": "code",
   "execution_count": 22,
   "id": "e4514e36-253b-4e42-9297-aa2f8a26a2d6",
   "metadata": {},
   "outputs": [
    {
     "name": "stdout",
     "output_type": "stream",
     "text": [
      "200 220\n"
     ]
    }
   ],
   "source": [
    "### 每人身高增加\n",
    "\n",
    "student1.get_height_add(20)\n",
    "student2.get_height_add(20)\n",
    "\n",
    "print(student1.height, student2.height)"
   ]
  },
  {
   "cell_type": "markdown",
   "id": "40f72872-9d67-4714-9197-55c8408d1bf2",
   "metadata": {},
   "source": [
    "**这样一来，我们从外部看Student类，就只需要知道，创建实例需要给出name,age等，**\n",
    "\n",
    "**而如何打印，都是在Student类的内部定义的，这些数据和逻辑被“封装”起来了，调用很容易，但却不用知道内部实现的细节。**\n",
    "\n",
    "**封装的另一个好处是可以给Student类增加新的方法，比如get_height_add和get_age_grade**"
   ]
  },
  {
   "cell_type": "markdown",
   "id": "e7f41742-79a7-4fb4-a336-68ab91ec66ea",
   "metadata": {},
   "source": [
    "### **类的方法和函数一样，享受函数的特性：默认参数等等**"
   ]
  },
  {
   "cell_type": "code",
   "execution_count": 27,
   "id": "3736419d-ac6d-4799-a9d4-5c519bddcf40",
   "metadata": {},
   "outputs": [],
   "source": [
    "class Student(object):\n",
    "    \"\"\"\n",
    "    设定默认参数，不传入参数就是使用默认参数\n",
    "    假如：我们希望每个学生都是18岁都是1米8，并且默认每个学生都增加100厘米\n",
    "    \"\"\"\n",
    "    def __init__(self, name = 'name1', age = 18, height = 180):\n",
    "        self.name = name\n",
    "        self.age = age\n",
    "        self.height = height\n",
    "        \n",
    "    def get_age_grade(self):\n",
    "        if self.age <= 18:\n",
    "            print(\"哇，你好年轻\")\n",
    "        else:\n",
    "            print(\"哇，你好老\")\n",
    "            \n",
    "    def get_height_add(self, height = 100):\n",
    "        \"\"\"\n",
    "        可以直接在方法内部修改类的属性\n",
    "        \"\"\"\n",
    "        self.height += height\n",
    "        return self.height"
   ]
  },
  {
   "cell_type": "code",
   "execution_count": 28,
   "id": "23b9401e-6db3-4091-9c64-96f82afdecfd",
   "metadata": {},
   "outputs": [
    {
     "name": "stdout",
     "output_type": "stream",
     "text": [
      "name1 18 180\n"
     ]
    }
   ],
   "source": [
    "student = Student()\n",
    "\n",
    "print(student.name, student.age, student.height)"
   ]
  },
  {
   "cell_type": "code",
   "execution_count": 29,
   "id": "90978a04-94fe-40ba-9548-fb9a671f6c95",
   "metadata": {},
   "outputs": [
    {
     "name": "stdout",
     "output_type": "stream",
     "text": [
      "哇，你好年轻\n"
     ]
    }
   ],
   "source": [
    "student.get_age_grade()"
   ]
  },
  {
   "cell_type": "code",
   "execution_count": 30,
   "id": "7b9de0ee-aa8d-4f6e-b3b3-9b755bfe5e78",
   "metadata": {},
   "outputs": [
    {
     "name": "stdout",
     "output_type": "stream",
     "text": [
      "name1 18 280\n"
     ]
    }
   ],
   "source": [
    "student.get_height_add()\n",
    "print(student.name, student.age, student.height)"
   ]
  },
  {
   "cell_type": "markdown",
   "id": "b7316225-d2ff-4950-a221-9338461a987b",
   "metadata": {},
   "source": [
    "### **类的多个方法在内部可以使用self互相调用**"
   ]
  },
  {
   "cell_type": "code",
   "execution_count": 31,
   "id": "a9f0d70c-908e-4430-93da-c70c92b4d55a",
   "metadata": {},
   "outputs": [],
   "source": [
    "class Student(object):\n",
    "    \"\"\"\n",
    "    设定默认参数，不传入参数就是使用默认参数\n",
    "    假如：我们希望每个学生都是18岁都是1米8，并且默认每个学生都增加100厘米\n",
    "    \"\"\"\n",
    "    def __init__(self, name = 'name1', age = 18, height = 180):\n",
    "        self.name = name\n",
    "        self.age = age\n",
    "        self.height = height\n",
    "        \n",
    "    def get_name(self):\n",
    "        return self.name\n",
    "        \n",
    "    def get_age_grade(self):\n",
    "        \n",
    "        name = self.get_name()\n",
    "        \n",
    "        if self.age <= 18:\n",
    "            print(f\"哇，{name}：你好年轻\")\n",
    "        else:\n",
    "            print(f\"哇，{name}：你好老\")\n",
    "            \n",
    "    def get_height_add(self, height = 100):\n",
    "        \"\"\"\n",
    "        可以直接在方法内部修改类的属性\n",
    "        \"\"\"\n",
    "        self.height += height\n",
    "        return self.height"
   ]
  },
  {
   "cell_type": "code",
   "execution_count": 32,
   "id": "4297f65f-d606-47f5-b059-9311594bc168",
   "metadata": {},
   "outputs": [
    {
     "name": "stdout",
     "output_type": "stream",
     "text": [
      "哇，name1：你好年轻\n"
     ]
    }
   ],
   "source": [
    "student = Student()\n",
    "student.get_age_grade()"
   ]
  },
  {
   "cell_type": "markdown",
   "id": "52994439-387f-4191-8e79-97d024328b8f",
   "metadata": {},
   "source": [
    "---"
   ]
  },
  {
   "cell_type": "markdown",
   "id": "2ce95f0b-cfb5-4688-b852-bebd37843a28",
   "metadata": {},
   "source": [
    "# **二、访问限制**\n",
    "\n",
    "---\n",
    "\n",
    "**在Class内部，可以有属性和方法，而外部代码可以通过直接调用实例变量的方法来操作数据。**"
   ]
  },
  {
   "cell_type": "markdown",
   "id": "ce57254e-428d-469a-8a0b-d427d55392af",
   "metadata": {},
   "source": [
    "### **外部和内部操作类的属性和方法**\n",
    "\n",
    "- **外部操作必须要先初始化类才可以**\n",
    "- **内部可以通过self直接访问**"
   ]
  },
  {
   "cell_type": "code",
   "execution_count": 33,
   "id": "c373f3b9-4faa-4db3-97a9-3575f09f16b4",
   "metadata": {},
   "outputs": [],
   "source": [
    "class Student(object):\n",
    "    \"\"\"\n",
    "    设定默认参数，不传入参数就是使用默认参数\n",
    "    假如：我们希望每个学生都是18岁都是1米8，并且默认每个学生都增加100厘米\n",
    "    \"\"\"\n",
    "    def __init__(self, name = 'name1', age = 18, height = 180):\n",
    "        self.name = name\n",
    "        self.age = age\n",
    "        self.height = height\n",
    "        \n",
    "    def get_name(self):\n",
    "        return self.name\n",
    "        \n",
    "    def get_age_grade(self):\n",
    "        \n",
    "        name = self.get_name()\n",
    "        \n",
    "        if self.age <= 18:\n",
    "            print(f\"哇，{name}：你好年轻\")\n",
    "        else:\n",
    "            print(f\"哇，{name}：你好老\")\n",
    "            \n",
    "    def get_height_add(self, height = 100):\n",
    "        \"\"\"\n",
    "        可以直接在方法内部修改类的属性\n",
    "        \"\"\"\n",
    "        self.height += height\n",
    "        return self.height"
   ]
  },
  {
   "cell_type": "code",
   "execution_count": 34,
   "id": "0a4fef97-2fcf-44fd-a9ea-67160ed92873",
   "metadata": {},
   "outputs": [
    {
     "name": "stdout",
     "output_type": "stream",
     "text": [
      "哇，name1：你好年轻\n"
     ]
    }
   ],
   "source": [
    "student = Student()\n",
    "student.get_age_grade()"
   ]
  },
  {
   "cell_type": "code",
   "execution_count": 35,
   "id": "5066f106-a0a0-4de3-a54c-795fe00fd373",
   "metadata": {},
   "outputs": [
    {
     "name": "stdout",
     "output_type": "stream",
     "text": [
      "哇，name2：你好年轻\n"
     ]
    }
   ],
   "source": [
    "student.name = 'name2'\n",
    "student.get_age_grade()"
   ]
  },
  {
   "cell_type": "markdown",
   "id": "dc7b2788-e69b-4821-bdf2-0bcb3c546c53",
   "metadata": {},
   "source": [
    "### **很多时候我们需要保密类的属性和方法，不希望外界可以访问，那么就可以在属性和方法前面加上两个下划线：`__`**\n",
    "\n",
    "**例如：**"
   ]
  },
  {
   "cell_type": "code",
   "execution_count": 36,
   "id": "8555f3c2-6865-4d23-ad8e-5dddfb6ee8e5",
   "metadata": {},
   "outputs": [],
   "source": [
    "class Student(object):\n",
    "    \"\"\"\n",
    "    设定默认参数，不传入参数就是使用默认参数\n",
    "    假如：我们希望每个学生都是18岁都是1米8，并且默认每个学生都增加100厘米\n",
    "    \"\"\"\n",
    "    def __init__(self, name = 'name1', age = 18, height = 180):\n",
    "        self.__name = name\n",
    "        self.age = age\n",
    "        self.height = height\n",
    "        \n",
    "    def __get_name(self):\n",
    "        return self.__name\n",
    "        \n",
    "    def get_age_grade(self):\n",
    "        \n",
    "        name = self.__get_name()\n",
    "        \n",
    "        if self.age <= 18:\n",
    "            print(f\"哇，{name}：你好年轻\")\n",
    "        else:\n",
    "            print(f\"哇，{name}：你好老\")\n",
    "            \n",
    "    def get_height_add(self, height = 100):\n",
    "        \"\"\"\n",
    "        可以直接在方法内部修改类的属性\n",
    "        \"\"\"\n",
    "        self.height += height\n",
    "        return self.height"
   ]
  },
  {
   "cell_type": "code",
   "execution_count": 42,
   "id": "9eff6439-15af-4096-8a58-34d3d6e37b7c",
   "metadata": {},
   "outputs": [
    {
     "ename": "AttributeError",
     "evalue": "'Student' object has no attribute '__name'",
     "output_type": "error",
     "traceback": [
      "\u001b[1;31m---------------------------------------------------------------------------\u001b[0m",
      "\u001b[1;31mAttributeError\u001b[0m                            Traceback (most recent call last)",
      "\u001b[1;32m~\\AppData\\Local\\Temp/ipykernel_24424/3786869930.py\u001b[0m in \u001b[0;36m<module>\u001b[1;34m\u001b[0m\n\u001b[0;32m      1\u001b[0m \u001b[0mstudent\u001b[0m \u001b[1;33m=\u001b[0m \u001b[0mStudent\u001b[0m\u001b[1;33m(\u001b[0m\u001b[1;33m)\u001b[0m\u001b[1;33m\u001b[0m\u001b[1;33m\u001b[0m\u001b[0m\n\u001b[1;32m----> 2\u001b[1;33m \u001b[0mstudent\u001b[0m\u001b[1;33m.\u001b[0m\u001b[0m__name\u001b[0m\u001b[1;33m\u001b[0m\u001b[1;33m\u001b[0m\u001b[0m\n\u001b[0m",
      "\u001b[1;31mAttributeError\u001b[0m: 'Student' object has no attribute '__name'"
     ]
    }
   ],
   "source": [
    "student = Student()\n",
    "student.__name"
   ]
  },
  {
   "cell_type": "code",
   "execution_count": 40,
   "id": "0b12abe3-5d7c-49db-8c33-6819f3b75d8a",
   "metadata": {},
   "outputs": [
    {
     "ename": "AttributeError",
     "evalue": "'Student' object has no attribute '__get_name'",
     "output_type": "error",
     "traceback": [
      "\u001b[1;31m---------------------------------------------------------------------------\u001b[0m",
      "\u001b[1;31mAttributeError\u001b[0m                            Traceback (most recent call last)",
      "\u001b[1;32m~\\AppData\\Local\\Temp/ipykernel_24424/2816438508.py\u001b[0m in \u001b[0;36m<module>\u001b[1;34m\u001b[0m\n\u001b[1;32m----> 1\u001b[1;33m \u001b[0mstudent\u001b[0m\u001b[1;33m.\u001b[0m\u001b[0m__get_name\u001b[0m\u001b[1;33m(\u001b[0m\u001b[1;33m)\u001b[0m\u001b[1;33m\u001b[0m\u001b[1;33m\u001b[0m\u001b[0m\n\u001b[0m",
      "\u001b[1;31mAttributeError\u001b[0m: 'Student' object has no attribute '__get_name'"
     ]
    }
   ],
   "source": [
    "student.__get_name()"
   ]
  },
  {
   "cell_type": "code",
   "execution_count": 41,
   "id": "d88232a9-c3cd-44a1-8151-b947968f70ee",
   "metadata": {},
   "outputs": [
    {
     "name": "stdout",
     "output_type": "stream",
     "text": [
      "哇，name1：你好年轻\n"
     ]
    }
   ],
   "source": [
    "student.get_age_grade()"
   ]
  },
  {
   "cell_type": "markdown",
   "id": "a6d6d1ed-6d18-414e-aa50-263d8bf9128a",
   "metadata": {},
   "source": [
    "### **这种方式就是类的私有方法和属性，只有内部可以访问，外界不可以，这样就起到了保密的措施**\n",
    "\n",
    "### **需要注意：name前面加两个下划线：__name是私有的，但是：__name__后面也加两个就不是私有的，必须只能是前面加两个下划线**"
   ]
  },
  {
   "cell_type": "markdown",
   "id": "12d8ce0e-818e-4245-af7c-f1e1d0c3a047",
   "metadata": {},
   "source": [
    "## **类属性和方法有无：self关键字的区别**\n",
    "\n",
    "- **有self：实例属性和方法**\n",
    "\n",
    "- **无self：类属性和方法**\n",
    "\n",
    "- **有self：只有在类初始化之后才能使用，并且内部需要用self调用内部属性和方法**\n",
    "\n",
    "- **无self：不必初始化访问，通过（`类名.方法` 或者 `类名.属性`）访问，这种其实就等价于把很多方法归类在一起**"
   ]
  },
  {
   "cell_type": "code",
   "execution_count": 53,
   "id": "f5e337dd-38ff-4628-b79d-338b30013e6c",
   "metadata": {},
   "outputs": [],
   "source": [
    "class Student(object):\n",
    "    \n",
    "    school = '北大'\n",
    "    \n",
    "    def __init__(self, name = 'name1', age = 18, height = 180):\n",
    "        self.name = name\n",
    "        self.age = age\n",
    "        self.height = height\n",
    "        \n",
    "    def get_school_name():\n",
    "        return Student.school    \n",
    "        \n",
    "    def get_age_grade(self):\n",
    "        \n",
    "        name = get_school_name()\n",
    "        \n",
    "        if self.age <= 18:\n",
    "            print(f\"哇，{name}：你好年轻\")\n",
    "        else:\n",
    "            print(f\"哇，{name}：你好老\")\n",
    "            \n",
    "    def get_height_add(self, height = 100):\n",
    "        \"\"\"\n",
    "        可以直接在方法内部修改类的属性\n",
    "        \"\"\"\n",
    "        self.height += height\n",
    "        return self.height"
   ]
  },
  {
   "cell_type": "code",
   "execution_count": 54,
   "id": "f2404602-b0c6-4af5-974c-1dcfe579886b",
   "metadata": {},
   "outputs": [
    {
     "ename": "TypeError",
     "evalue": "get_school_name() takes 0 positional arguments but 1 was given",
     "output_type": "error",
     "traceback": [
      "\u001b[1;31m---------------------------------------------------------------------------\u001b[0m",
      "\u001b[1;31mTypeError\u001b[0m                                 Traceback (most recent call last)",
      "\u001b[1;32m~\\AppData\\Local\\Temp/ipykernel_24424/2702608125.py\u001b[0m in \u001b[0;36m<module>\u001b[1;34m\u001b[0m\n\u001b[0;32m      1\u001b[0m \u001b[0mstudent\u001b[0m \u001b[1;33m=\u001b[0m \u001b[0mStudent\u001b[0m\u001b[1;33m(\u001b[0m\u001b[1;33m)\u001b[0m\u001b[1;33m\u001b[0m\u001b[1;33m\u001b[0m\u001b[0m\n\u001b[0;32m      2\u001b[0m \u001b[1;33m\u001b[0m\u001b[0m\n\u001b[1;32m----> 3\u001b[1;33m \u001b[0mstudent\u001b[0m\u001b[1;33m.\u001b[0m\u001b[0mget_school_name\u001b[0m\u001b[1;33m(\u001b[0m\u001b[1;33m)\u001b[0m\u001b[1;33m\u001b[0m\u001b[1;33m\u001b[0m\u001b[0m\n\u001b[0m",
      "\u001b[1;31mTypeError\u001b[0m: get_school_name() takes 0 positional arguments but 1 was given"
     ]
    }
   ],
   "source": [
    "student = Student()\n",
    "\n",
    "student.get_school_name()"
   ]
  },
  {
   "cell_type": "code",
   "execution_count": 55,
   "id": "129b5b96-8bc4-4ea0-ac64-ce68b40320b2",
   "metadata": {},
   "outputs": [
    {
     "ename": "NameError",
     "evalue": "name 'get_school_name' is not defined",
     "output_type": "error",
     "traceback": [
      "\u001b[1;31m---------------------------------------------------------------------------\u001b[0m",
      "\u001b[1;31mNameError\u001b[0m                                 Traceback (most recent call last)",
      "\u001b[1;32m~\\AppData\\Local\\Temp/ipykernel_24424/1549721497.py\u001b[0m in \u001b[0;36m<module>\u001b[1;34m\u001b[0m\n\u001b[1;32m----> 1\u001b[1;33m \u001b[0mstudent\u001b[0m\u001b[1;33m.\u001b[0m\u001b[0mget_age_grade\u001b[0m\u001b[1;33m(\u001b[0m\u001b[1;33m)\u001b[0m\u001b[1;33m\u001b[0m\u001b[1;33m\u001b[0m\u001b[0m\n\u001b[0m",
      "\u001b[1;32m~\\AppData\\Local\\Temp/ipykernel_24424/729785854.py\u001b[0m in \u001b[0;36mget_age_grade\u001b[1;34m(self)\u001b[0m\n\u001b[0;32m     13\u001b[0m     \u001b[1;32mdef\u001b[0m \u001b[0mget_age_grade\u001b[0m\u001b[1;33m(\u001b[0m\u001b[0mself\u001b[0m\u001b[1;33m)\u001b[0m\u001b[1;33m:\u001b[0m\u001b[1;33m\u001b[0m\u001b[1;33m\u001b[0m\u001b[0m\n\u001b[0;32m     14\u001b[0m \u001b[1;33m\u001b[0m\u001b[0m\n\u001b[1;32m---> 15\u001b[1;33m         \u001b[0mname\u001b[0m \u001b[1;33m=\u001b[0m \u001b[0mget_school_name\u001b[0m\u001b[1;33m(\u001b[0m\u001b[1;33m)\u001b[0m\u001b[1;33m\u001b[0m\u001b[1;33m\u001b[0m\u001b[0m\n\u001b[0m\u001b[0;32m     16\u001b[0m \u001b[1;33m\u001b[0m\u001b[0m\n\u001b[0;32m     17\u001b[0m         \u001b[1;32mif\u001b[0m \u001b[0mself\u001b[0m\u001b[1;33m.\u001b[0m\u001b[0mage\u001b[0m \u001b[1;33m<=\u001b[0m \u001b[1;36m18\u001b[0m\u001b[1;33m:\u001b[0m\u001b[1;33m\u001b[0m\u001b[1;33m\u001b[0m\u001b[0m\n",
      "\u001b[1;31mNameError\u001b[0m: name 'get_school_name' is not defined"
     ]
    }
   ],
   "source": [
    "student.get_age_grade()"
   ]
  },
  {
   "cell_type": "code",
   "execution_count": 57,
   "id": "2f5ff6cc-3434-4464-9138-456528118d56",
   "metadata": {},
   "outputs": [
    {
     "data": {
      "text/plain": [
       "'北大'"
      ]
     },
     "execution_count": 57,
     "metadata": {},
     "output_type": "execute_result"
    }
   ],
   "source": [
    "### 不初始化访问\n",
    "\n",
    "Student.get_school_name()"
   ]
  },
  {
   "cell_type": "code",
   "execution_count": 58,
   "id": "1760911d-85ac-4909-a7fd-67d8bc992b5f",
   "metadata": {},
   "outputs": [
    {
     "data": {
      "text/plain": [
       "'北大'"
      ]
     },
     "execution_count": 58,
     "metadata": {},
     "output_type": "execute_result"
    }
   ],
   "source": [
    "Student.school"
   ]
  },
  {
   "cell_type": "code",
   "execution_count": 59,
   "id": "b7542485-e02b-4fa2-9cb9-ee4adc65a35c",
   "metadata": {},
   "outputs": [
    {
     "name": "stdout",
     "output_type": "stream",
     "text": [
      "哇，北大：你好年轻\n"
     ]
    }
   ],
   "source": [
    "class Student(object):\n",
    "    \"\"\"改造一下让内部可以访问\"\"\"\n",
    "    \n",
    "    school = '北大'\n",
    "    \n",
    "    def __init__(self, name = 'name1', age = 18, height = 180):\n",
    "        self.name = name\n",
    "        self.age = age\n",
    "        self.height = height\n",
    "        \n",
    "    def get_school_name():\n",
    "        return Student.school    \n",
    "        \n",
    "    def get_age_grade(self):\n",
    "        \n",
    "        name = Student.get_school_name()\n",
    "        \n",
    "        if self.age <= 18:\n",
    "            print(f\"哇，{name}：你好年轻\")\n",
    "        else:\n",
    "            print(f\"哇，{name}：你好老\")\n",
    "            \n",
    "    def get_height_add(self, height = 100):\n",
    "        \"\"\"\n",
    "        可以直接在方法内部修改类的属性\n",
    "        \"\"\"\n",
    "        self.height += height\n",
    "        return self.height\n",
    "    \n",
    "student = Student()\n",
    "\n",
    "student.get_age_grade()"
   ]
  },
  {
   "cell_type": "markdown",
   "id": "a5302ec2-4f92-4f5f-9039-988010effb7d",
   "metadata": {},
   "source": [
    "### **比如我们定义一个方法的集合**"
   ]
  },
  {
   "cell_type": "code",
   "execution_count": 61,
   "id": "194f2227-1e25-4576-81c3-fe67144c1ee6",
   "metadata": {},
   "outputs": [],
   "source": [
    "class Suanshu:\n",
    "    \n",
    "    def jiafa(a,b):\n",
    "        return a+b\n",
    "    \n",
    "    def jianfa(a,b):\n",
    "        return a-b"
   ]
  },
  {
   "cell_type": "code",
   "execution_count": 63,
   "id": "fbbac8b3-e17b-49e5-92fe-d2eaef4e9407",
   "metadata": {},
   "outputs": [
    {
     "data": {
      "text/plain": [
       "3"
      ]
     },
     "execution_count": 63,
     "metadata": {},
     "output_type": "execute_result"
    }
   ],
   "source": [
    "Suanshu.jiafa(1,2)"
   ]
  },
  {
   "cell_type": "markdown",
   "id": "a48a5e60-0bde-4f52-9f04-64b1161a984f",
   "metadata": {},
   "source": [
    "### **这样实现就是：把很多相同类型的方法统一到一起方便管理**"
   ]
  },
  {
   "cell_type": "markdown",
   "id": "4c90618b-7b84-4d58-b30f-591aa7c1d864",
   "metadata": {},
   "source": [
    "## **获取对象信息**\n",
    "\n",
    "- **type()：获取对象类型**\n",
    "- **isinstance()：判断对象类型**\n",
    "- **help()：获取对象文档**\n",
    "- **dir()：获取对象方法**"
   ]
  },
  {
   "cell_type": "code",
   "execution_count": 64,
   "id": "862ebc41-28f2-40b4-8736-0bf9f83799c3",
   "metadata": {},
   "outputs": [],
   "source": [
    "class Student(object):\n",
    "    \"\"\"改造一下让内部可以访问\"\"\"\n",
    "    \n",
    "    school = '北大'\n",
    "    \n",
    "    def __init__(self, name = 'name1', age = 18, height = 180):\n",
    "        self.name = name\n",
    "        self.age = age\n",
    "        self.height = height\n",
    "        \n",
    "    def get_school_name():\n",
    "        return Student.school    \n",
    "        \n",
    "    def get_age_grade(self):\n",
    "        \n",
    "        name = Student.get_school_name()\n",
    "        \n",
    "        if self.age <= 18:\n",
    "            print(f\"哇，{name}：你好年轻\")\n",
    "        else:\n",
    "            print(f\"哇，{name}：你好老\")\n",
    "            \n",
    "    def get_height_add(self, height = 100):\n",
    "        \"\"\"\n",
    "        可以直接在方法内部修改类的属性\n",
    "        \"\"\"\n",
    "        self.height += height\n",
    "        return self.height\n",
    "    \n",
    "student = Student()"
   ]
  },
  {
   "cell_type": "code",
   "execution_count": 65,
   "id": "d82e3b8a-0603-49be-a68b-24856db7c9c2",
   "metadata": {},
   "outputs": [
    {
     "data": {
      "text/plain": [
       "__main__.Student"
      ]
     },
     "execution_count": 65,
     "metadata": {},
     "output_type": "execute_result"
    }
   ],
   "source": [
    "type(student)"
   ]
  },
  {
   "cell_type": "code",
   "execution_count": 67,
   "id": "479770b1-abaf-4ab9-8631-7529e4e3f83e",
   "metadata": {},
   "outputs": [
    {
     "data": {
      "text/plain": [
       "True"
      ]
     },
     "execution_count": 67,
     "metadata": {},
     "output_type": "execute_result"
    }
   ],
   "source": [
    "isinstance(student, Student)"
   ]
  },
  {
   "cell_type": "code",
   "execution_count": 68,
   "id": "517fedf3-4efe-49e4-8d1c-80a154703a43",
   "metadata": {},
   "outputs": [
    {
     "name": "stdout",
     "output_type": "stream",
     "text": [
      "Help on Student in module __main__ object:\n",
      "\n",
      "class Student(builtins.object)\n",
      " |  Student(name='name1', age=18, height=180)\n",
      " |  \n",
      " |  改造一下让内部可以访问\n",
      " |  \n",
      " |  Methods defined here:\n",
      " |  \n",
      " |  __init__(self, name='name1', age=18, height=180)\n",
      " |      Initialize self.  See help(type(self)) for accurate signature.\n",
      " |  \n",
      " |  get_age_grade(self)\n",
      " |  \n",
      " |  get_height_add(self, height=100)\n",
      " |      可以直接在方法内部修改类的属性\n",
      " |  \n",
      " |  get_school_name()\n",
      " |  \n",
      " |  ----------------------------------------------------------------------\n",
      " |  Data descriptors defined here:\n",
      " |  \n",
      " |  __dict__\n",
      " |      dictionary for instance variables (if defined)\n",
      " |  \n",
      " |  __weakref__\n",
      " |      list of weak references to the object (if defined)\n",
      " |  \n",
      " |  ----------------------------------------------------------------------\n",
      " |  Data and other attributes defined here:\n",
      " |  \n",
      " |  school = '北大'\n",
      "\n"
     ]
    }
   ],
   "source": [
    "help(student)"
   ]
  },
  {
   "cell_type": "code",
   "execution_count": 69,
   "id": "4e5435ae-2b53-47b1-b620-2c77cd1155c6",
   "metadata": {},
   "outputs": [
    {
     "data": {
      "text/plain": [
       "['__class__',\n",
       " '__delattr__',\n",
       " '__dict__',\n",
       " '__dir__',\n",
       " '__doc__',\n",
       " '__eq__',\n",
       " '__format__',\n",
       " '__ge__',\n",
       " '__getattribute__',\n",
       " '__gt__',\n",
       " '__hash__',\n",
       " '__init__',\n",
       " '__init_subclass__',\n",
       " '__le__',\n",
       " '__lt__',\n",
       " '__module__',\n",
       " '__ne__',\n",
       " '__new__',\n",
       " '__reduce__',\n",
       " '__reduce_ex__',\n",
       " '__repr__',\n",
       " '__setattr__',\n",
       " '__sizeof__',\n",
       " '__str__',\n",
       " '__subclasshook__',\n",
       " '__weakref__',\n",
       " 'age',\n",
       " 'get_age_grade',\n",
       " 'get_height_add',\n",
       " 'get_school_name',\n",
       " 'height',\n",
       " 'name',\n",
       " 'school']"
      ]
     },
     "execution_count": 69,
     "metadata": {},
     "output_type": "execute_result"
    }
   ],
   "source": [
    "dir(student)"
   ]
  },
  {
   "cell_type": "markdown",
   "id": "9f53e92b-562d-4b80-a109-7aada744583b",
   "metadata": {},
   "source": [
    "---"
   ]
  },
  {
   "cell_type": "markdown",
   "id": "f0a0f7eb-e03b-46bd-bb59-aa37b9719621",
   "metadata": {},
   "source": [
    "# **三、继承和多态**\n",
    "\n",
    "---\n",
    "\n",
    "**当我们定义好一个类的时候比如：Student，这也代表它是可以被继承的**\n",
    "\n",
    "**继承的类我们叫子类，而被继承的类叫做：父类，基类或者超类**\n",
    "\n",
    "**这很大程度上增加了类的复用性，举个例子：比如我们个父类Student，它有姓名，身高，年龄属性**\n",
    "\n",
    "**这时候我可以设定其他的类来继承它，从而享有它的属性和方法，并且在子类里面实现新的方法**\n",
    "\n",
    "**我们只需要把父类替换掉object即可实现继承，object是所有类都会继承的**"
   ]
  },
  {
   "cell_type": "code",
   "execution_count": 73,
   "id": "b0319b3d-fe96-41b8-94cf-508bc59d0204",
   "metadata": {},
   "outputs": [],
   "source": [
    "class Student(object):\n",
    "    \n",
    "    def __init__(self, name = 'name1', age = 18, height = 180):\n",
    "        self.name = name\n",
    "        self.age = age\n",
    "        self.height = height\n",
    "        \n",
    "    def get_age_grade(self):\n",
    "        \n",
    "        if self.age <= 18:\n",
    "            return f\"哇，你好年轻\"\n",
    "        else:\n",
    "            return \"哇，你好老\"\n",
    "            \n",
    "    def get_height_add(self, height = 100):\n",
    "        \"\"\"\n",
    "        可以直接在方法内部修改类的属性\n",
    "        \"\"\"\n",
    "        self.height += height\n",
    "        return self.height\n",
    "    \n",
    "\n",
    "class Student1(Student):\n",
    "        \n",
    "    def get_school_age_grade(self):\n",
    "        res = self.get_age_grade()\n",
    "        return f\"北大: {self.name},{res}\"\n",
    "    \n",
    "class Student2(Student):\n",
    "        \n",
    "    def get_school_age_grade(self):\n",
    "        res = self.get_age_grade()\n",
    "        return f\"清华: {self.name},{res}\""
   ]
  },
  {
   "cell_type": "code",
   "execution_count": 74,
   "id": "9e378530-99a7-448f-a39c-2fb6e7643314",
   "metadata": {},
   "outputs": [
    {
     "data": {
      "text/plain": [
       "'北大: name1,哇，你好年轻'"
      ]
     },
     "execution_count": 74,
     "metadata": {},
     "output_type": "execute_result"
    }
   ],
   "source": [
    "s1 = Student1()\n",
    "s1.get_school_age_grade()"
   ]
  },
  {
   "cell_type": "code",
   "execution_count": 75,
   "id": "97c1c039-2c65-4c5b-b1eb-b5ff658248d4",
   "metadata": {},
   "outputs": [
    {
     "data": {
      "text/plain": [
       "'清华: name1,哇，你好年轻'"
      ]
     },
     "execution_count": 75,
     "metadata": {},
     "output_type": "execute_result"
    }
   ],
   "source": [
    "s2 = Student2()\n",
    "s2.get_school_age_grade()"
   ]
  },
  {
   "cell_type": "markdown",
   "id": "d834611b-0458-49fb-80aa-fdfebb928d57",
   "metadata": {},
   "source": [
    "## **重写父类的属性和方法**\n",
    "\n",
    "- **父类属性和方法可以在子类中重写覆盖，格式有两种：**\n",
    "   - **子类在__init__函数中加入：super(子类名,self).__init__(父类参数)**\n",
    "   - **子类在__init__函数中加入：父类名.__init__(self, 父类参数)**\n",
    "   \n",
    "   \n",
    "   \n",
    "- **在super(子类名,self).__init__(父类参数)中，只有需要覆盖父类属性时才需要写父类参数**\n",
    "\n",
    "\n",
    "\n",
    "**需要注意：重写属性和方法，使用时就会用新的属性和方法，旧的会被覆盖**"
   ]
  },
  {
   "cell_type": "code",
   "execution_count": 83,
   "id": "311b218a-3e27-463c-8b87-aa83cfbf191c",
   "metadata": {},
   "outputs": [
    {
     "data": {
      "text/plain": [
       "'南大: name2,哇，你好老'"
      ]
     },
     "execution_count": 83,
     "metadata": {},
     "output_type": "execute_result"
    }
   ],
   "source": [
    "### 重写父类属性\n",
    "\n",
    "class Student(object):\n",
    "    \n",
    "    def __init__(self, name = 'name1', age = 18, height = 180):\n",
    "        self.name = name\n",
    "        self.age = age\n",
    "        self.height = height\n",
    "        \n",
    "    def get_age_grade(self):\n",
    "        \n",
    "        if self.age <= 18:\n",
    "            return f\"哇，你好年轻\"\n",
    "        else:\n",
    "            return \"哇，你好老\"\n",
    "    \n",
    "\n",
    "class Student1(Student):\n",
    "    \n",
    "    def __init__(self, name, age, height,school):\n",
    "        super(Student1,self).__init__(name,age,height)\n",
    "        self.school = school\n",
    "        \n",
    "    def get_school_age_grade(self):\n",
    "        res = self.get_age_grade()\n",
    "        return f\"{self.school}: {self.name},{res}\"\n",
    "    \n",
    "s1 = Student1(name = 'name2', age = 30, height = '300', school = '南大')\n",
    "\n",
    "s1.get_school_age_grade()"
   ]
  },
  {
   "cell_type": "code",
   "execution_count": 104,
   "id": "d9571f29-2cbf-4608-84fc-3e632a5e1f63",
   "metadata": {},
   "outputs": [
    {
     "data": {
      "text/plain": [
       "'哇，你好年轻'"
      ]
     },
     "execution_count": 104,
     "metadata": {},
     "output_type": "execute_result"
    }
   ],
   "source": [
    "### 重写父类方法\n",
    "\n",
    "class Student(object):\n",
    "    \n",
    "    def __init__(self, name = 'name1', age = 18, height = 180):\n",
    "        self.name = name\n",
    "        self.age = age\n",
    "        self.height = height\n",
    "        \n",
    "    def get_age_grade(self):\n",
    "        \n",
    "        if self.age <= 18:\n",
    "            return f\"哇，你好年轻\"\n",
    "        else:\n",
    "            return \"哇，你好老\"\n",
    "    \n",
    "\n",
    "class Student1(Student):\n",
    "        \n",
    "    def get_age_grade(self):\n",
    "        if self.age <= 30:\n",
    "            return f\"哇，你好年轻\"\n",
    "        else:\n",
    "            return \"哇，你好老\"        \n",
    "    \n",
    "s1 = Student1()\n",
    "\n",
    "s1.get_age_grade()"
   ]
  },
  {
   "cell_type": "code",
   "execution_count": 96,
   "id": "5316e165-1104-42df-904f-be3d6c60a96d",
   "metadata": {},
   "outputs": [
    {
     "data": {
      "text/plain": [
       "'南大: name2,哇，你好老'"
      ]
     },
     "execution_count": 96,
     "metadata": {},
     "output_type": "execute_result"
    }
   ],
   "source": [
    "### 重写父类属性\n",
    "\n",
    "class Student(object):\n",
    "    \n",
    "    def __init__(self, name = 'name1', age = 18, height = 180):\n",
    "        self.name = name\n",
    "        self.age = age\n",
    "        self.height = height\n",
    "        \n",
    "    def get_age_grade(self):\n",
    "        \n",
    "        if self.age <= 18:\n",
    "            return f\"哇，你好年轻\"\n",
    "        else:\n",
    "            return \"哇，你好老\"\n",
    "    \n",
    "\n",
    "class Student1(Student):\n",
    "    \n",
    "    def __init__(self, name, age, height,school):\n",
    "        Student.__init__(self,name,age,height)\n",
    "        self.school = school\n",
    "        \n",
    "    def get_school_age_grade(self):\n",
    "        res = self.get_age_grade()\n",
    "        return f\"{self.school}: {self.name},{res}\"\n",
    "    \n",
    "s1 = Student1(name = 'name2', age = 30, height = '300', school = '南大')\n",
    "\n",
    "s1.get_school_age_grade()"
   ]
  },
  {
   "cell_type": "code",
   "execution_count": null,
   "id": "661c55a6-591a-4b82-a36b-ffac7ec3af9b",
   "metadata": {},
   "outputs": [],
   "source": []
  },
  {
   "cell_type": "markdown",
   "id": "39ee8cf8-6336-4dd6-90b5-6aa1bc28d2ae",
   "metadata": {},
   "source": [
    "## **子类可以同时继承多个父类：通过逗号分割多个类名字即可**\n",
    "\n",
    "**子类调用父类的属性和方法按顺序调用第一个父类**"
   ]
  },
  {
   "cell_type": "code",
   "execution_count": 87,
   "id": "ef6a4301-445d-459b-8c40-f9569ae62af0",
   "metadata": {},
   "outputs": [
    {
     "data": {
      "text/plain": [
       "'哇，你好年轻'"
      ]
     },
     "execution_count": 87,
     "metadata": {},
     "output_type": "execute_result"
    }
   ],
   "source": [
    "class Student(object):\n",
    "    \n",
    "    def __init__(self, name = 'name1', age = 18, height = 180):\n",
    "        self.name = name\n",
    "        self.age = age\n",
    "        self.height = height\n",
    "        \n",
    "    def get_age_grade(self):\n",
    "        \n",
    "        if self.age <= 18:\n",
    "            return f\"哇，你好年轻\"\n",
    "        else:\n",
    "            return \"哇，你好老\"\n",
    "    \n",
    "\n",
    "class School(object):\n",
    "    \n",
    "    def __init__(self, school_name = '北大'):\n",
    "        self.school_name = school_name\n",
    "        \n",
    "    def get_name(self):\n",
    "        return self.school_name\n",
    "    \n",
    "    def get_test():\n",
    "        return '南大'\n",
    "    \n",
    "\n",
    "class Student1(Student, School):\n",
    "    pass\n",
    "    \n",
    "    \n",
    "s1 = Student1()\n",
    "s1.get_age_grade()"
   ]
  },
  {
   "cell_type": "code",
   "execution_count": 88,
   "id": "c35de709-1e0b-473a-909c-8d624965b71e",
   "metadata": {},
   "outputs": [
    {
     "ename": "AttributeError",
     "evalue": "'Student1' object has no attribute 'school_name'",
     "output_type": "error",
     "traceback": [
      "\u001b[1;31m---------------------------------------------------------------------------\u001b[0m",
      "\u001b[1;31mAttributeError\u001b[0m                            Traceback (most recent call last)",
      "\u001b[1;32m~\\AppData\\Local\\Temp/ipykernel_24424/1205643240.py\u001b[0m in \u001b[0;36m<module>\u001b[1;34m\u001b[0m\n\u001b[1;32m----> 1\u001b[1;33m \u001b[0ms1\u001b[0m\u001b[1;33m.\u001b[0m\u001b[0mget_name\u001b[0m\u001b[1;33m(\u001b[0m\u001b[1;33m)\u001b[0m\u001b[1;33m\u001b[0m\u001b[1;33m\u001b[0m\u001b[0m\n\u001b[0m",
      "\u001b[1;32m~\\AppData\\Local\\Temp/ipykernel_24424/301231318.py\u001b[0m in \u001b[0;36mget_name\u001b[1;34m(self)\u001b[0m\n\u001b[0;32m     20\u001b[0m \u001b[1;33m\u001b[0m\u001b[0m\n\u001b[0;32m     21\u001b[0m     \u001b[1;32mdef\u001b[0m \u001b[0mget_name\u001b[0m\u001b[1;33m(\u001b[0m\u001b[0mself\u001b[0m\u001b[1;33m)\u001b[0m\u001b[1;33m:\u001b[0m\u001b[1;33m\u001b[0m\u001b[1;33m\u001b[0m\u001b[0m\n\u001b[1;32m---> 22\u001b[1;33m         \u001b[1;32mreturn\u001b[0m \u001b[0mself\u001b[0m\u001b[1;33m.\u001b[0m\u001b[0mschool_name\u001b[0m\u001b[1;33m\u001b[0m\u001b[1;33m\u001b[0m\u001b[0m\n\u001b[0m\u001b[0;32m     23\u001b[0m \u001b[1;33m\u001b[0m\u001b[0m\n\u001b[0;32m     24\u001b[0m     \u001b[1;32mdef\u001b[0m \u001b[0mget_test\u001b[0m\u001b[1;33m(\u001b[0m\u001b[1;33m)\u001b[0m\u001b[1;33m:\u001b[0m\u001b[1;33m\u001b[0m\u001b[1;33m\u001b[0m\u001b[0m\n",
      "\u001b[1;31mAttributeError\u001b[0m: 'Student1' object has no attribute 'school_name'"
     ]
    }
   ],
   "source": [
    "s1.get_name()"
   ]
  },
  {
   "cell_type": "code",
   "execution_count": 90,
   "id": "adf12272-f9fb-4d54-8ea5-53d1d57273f3",
   "metadata": {},
   "outputs": [
    {
     "ename": "TypeError",
     "evalue": "get_test() takes 0 positional arguments but 1 was given",
     "output_type": "error",
     "traceback": [
      "\u001b[1;31m---------------------------------------------------------------------------\u001b[0m",
      "\u001b[1;31mTypeError\u001b[0m                                 Traceback (most recent call last)",
      "\u001b[1;32m~\\AppData\\Local\\Temp/ipykernel_24424/1006853389.py\u001b[0m in \u001b[0;36m<module>\u001b[1;34m\u001b[0m\n\u001b[1;32m----> 1\u001b[1;33m \u001b[0ms1\u001b[0m\u001b[1;33m.\u001b[0m\u001b[0mget_test\u001b[0m\u001b[1;33m(\u001b[0m\u001b[1;33m)\u001b[0m\u001b[1;33m\u001b[0m\u001b[1;33m\u001b[0m\u001b[0m\n\u001b[0m",
      "\u001b[1;31mTypeError\u001b[0m: get_test() takes 0 positional arguments but 1 was given"
     ]
    }
   ],
   "source": [
    "s1.get_test()"
   ]
  },
  {
   "cell_type": "markdown",
   "id": "a8d08244-692d-4390-8925-75e8afaba32d",
   "metadata": {},
   "source": [
    "### **必须重写所有父类才能使用所有父类的方法和属性**"
   ]
  },
  {
   "cell_type": "code",
   "execution_count": 93,
   "id": "8538f040-e3af-406d-9c67-7da67195cf05",
   "metadata": {},
   "outputs": [
    {
     "data": {
      "text/plain": [
       "'哇，你好年轻'"
      ]
     },
     "execution_count": 93,
     "metadata": {},
     "output_type": "execute_result"
    }
   ],
   "source": [
    "class Student(object):\n",
    "    \n",
    "    def __init__(self, name = 'name1', age = 18, height = 180):\n",
    "        self.name = name\n",
    "        self.age = age\n",
    "        self.height = height\n",
    "        \n",
    "    def get_age_grade(self):\n",
    "        \n",
    "        if self.age <= 18:\n",
    "            return f\"哇，你好年轻\"\n",
    "        else:\n",
    "            return \"哇，你好老\"\n",
    "    \n",
    "\n",
    "class School(object):\n",
    "    \n",
    "    def __init__(self, school_name = '北大'):\n",
    "        self.school_name = school_name\n",
    "        \n",
    "    def get_name(self):\n",
    "        return self.school_name\n",
    "    \n",
    "    def get_test():\n",
    "        return '南大'\n",
    "    \n",
    "\n",
    "class Student1(Student, School):\n",
    "    def __init__(self,name,age,height,school_name):\n",
    "        super(Student1,self).__init__(name,age,height)\n",
    "        super(Student1,self).__init__(school_name)\n",
    "    \n",
    "    \n",
    "s1 = Student1(name = 'name2',age = 30,height = '300',school_name='复旦')\n",
    "s1.get_age_grade()"
   ]
  },
  {
   "cell_type": "code",
   "execution_count": 94,
   "id": "e6e437a3-7b1f-4fee-9430-1a2645f2323c",
   "metadata": {},
   "outputs": [
    {
     "ename": "AttributeError",
     "evalue": "'Student1' object has no attribute 'school_name'",
     "output_type": "error",
     "traceback": [
      "\u001b[1;31m---------------------------------------------------------------------------\u001b[0m",
      "\u001b[1;31mAttributeError\u001b[0m                            Traceback (most recent call last)",
      "\u001b[1;32m~\\AppData\\Local\\Temp/ipykernel_24424/1205643240.py\u001b[0m in \u001b[0;36m<module>\u001b[1;34m\u001b[0m\n\u001b[1;32m----> 1\u001b[1;33m \u001b[0ms1\u001b[0m\u001b[1;33m.\u001b[0m\u001b[0mget_name\u001b[0m\u001b[1;33m(\u001b[0m\u001b[1;33m)\u001b[0m\u001b[1;33m\u001b[0m\u001b[1;33m\u001b[0m\u001b[0m\n\u001b[0m",
      "\u001b[1;32m~\\AppData\\Local\\Temp/ipykernel_24424/2521029312.py\u001b[0m in \u001b[0;36mget_name\u001b[1;34m(self)\u001b[0m\n\u001b[0;32m     20\u001b[0m \u001b[1;33m\u001b[0m\u001b[0m\n\u001b[0;32m     21\u001b[0m     \u001b[1;32mdef\u001b[0m \u001b[0mget_name\u001b[0m\u001b[1;33m(\u001b[0m\u001b[0mself\u001b[0m\u001b[1;33m)\u001b[0m\u001b[1;33m:\u001b[0m\u001b[1;33m\u001b[0m\u001b[1;33m\u001b[0m\u001b[0m\n\u001b[1;32m---> 22\u001b[1;33m         \u001b[1;32mreturn\u001b[0m \u001b[0mself\u001b[0m\u001b[1;33m.\u001b[0m\u001b[0mschool_name\u001b[0m\u001b[1;33m\u001b[0m\u001b[1;33m\u001b[0m\u001b[0m\n\u001b[0m\u001b[0;32m     23\u001b[0m \u001b[1;33m\u001b[0m\u001b[0m\n\u001b[0;32m     24\u001b[0m     \u001b[1;32mdef\u001b[0m \u001b[0mget_test\u001b[0m\u001b[1;33m(\u001b[0m\u001b[1;33m)\u001b[0m\u001b[1;33m:\u001b[0m\u001b[1;33m\u001b[0m\u001b[1;33m\u001b[0m\u001b[0m\n",
      "\u001b[1;31mAttributeError\u001b[0m: 'Student1' object has no attribute 'school_name'"
     ]
    }
   ],
   "source": [
    "s1.get_name()"
   ]
  },
  {
   "cell_type": "code",
   "execution_count": 97,
   "id": "83fdcb64-8dfe-4fd6-a8fc-e2804594def7",
   "metadata": {},
   "outputs": [
    {
     "data": {
      "text/plain": [
       "'哇，你好老'"
      ]
     },
     "execution_count": 97,
     "metadata": {},
     "output_type": "execute_result"
    }
   ],
   "source": [
    "class Student(object):\n",
    "    \n",
    "    def __init__(self, name = 'name1', age = 18, height = 180):\n",
    "        self.name = name\n",
    "        self.age = age\n",
    "        self.height = height\n",
    "        \n",
    "    def get_age_grade(self):\n",
    "        \n",
    "        if self.age <= 18:\n",
    "            return f\"哇，你好年轻\"\n",
    "        else:\n",
    "            return \"哇，你好老\"\n",
    "    \n",
    "\n",
    "class School(object):\n",
    "    \n",
    "    def __init__(self, school_name = '北大'):\n",
    "        self.school_name = school_name\n",
    "        \n",
    "    def get_name(self):\n",
    "        return self.school_name\n",
    "    \n",
    "    def get_test():\n",
    "        return '南大'\n",
    "    \n",
    "\n",
    "class Student1(Student, School):\n",
    "    def __init__(self,name,age,height,school_name):\n",
    "        Student.__init__(self,name,age,height)\n",
    "        School.__init__(self,school_name)\n",
    "    \n",
    "    \n",
    "s1 = Student1(name = 'name2',age = 30,height = '300',school_name='复旦')\n",
    "s1.get_age_grade()"
   ]
  },
  {
   "cell_type": "code",
   "execution_count": 98,
   "id": "06307adb-1ffe-4aa7-a182-f17394abf30f",
   "metadata": {},
   "outputs": [
    {
     "data": {
      "text/plain": [
       "'复旦'"
      ]
     },
     "execution_count": 98,
     "metadata": {},
     "output_type": "execute_result"
    }
   ],
   "source": [
    "s1.get_name()"
   ]
  },
  {
   "cell_type": "markdown",
   "id": "a5702558-58d5-499a-91f6-de8157e81f32",
   "metadata": {},
   "source": [
    "## **多态**\n",
    "\n",
    "**多态就是：对不同类型的变量进行相同的操作，它会根据对象（或类）类型的不同而表现出不同的行为。**"
   ]
  },
  {
   "cell_type": "markdown",
   "id": "2ee4baf6-81f5-4289-8927-b7ac1398d679",
   "metadata": {},
   "source": [
    "### **一般情况下，其实Python是没有多态的，因为Python是顺序执行，相同的函数名会被后面的或者最新的覆盖掉**"
   ]
  },
  {
   "cell_type": "code",
   "execution_count": 101,
   "id": "77aa2bc2-2a98-4a82-b9ed-eabd86f17ed0",
   "metadata": {},
   "outputs": [
    {
     "name": "stdout",
     "output_type": "stream",
     "text": [
      "test2\n"
     ]
    }
   ],
   "source": [
    "def test1():\n",
    "    print('test1')\n",
    "    \n",
    "def test1():\n",
    "    print('test2')\n",
    "\n",
    "test1()"
   ]
  },
  {
   "cell_type": "markdown",
   "id": "d7c940d9-5248-4251-bb0b-fa08a2663b52",
   "metadata": {},
   "source": [
    "### **但是可以通过类的继承重写实现同种方法的不通用途**"
   ]
  },
  {
   "cell_type": "code",
   "execution_count": 105,
   "id": "80e7e948-b50e-46d1-8dd0-d6f66f2fa318",
   "metadata": {},
   "outputs": [
    {
     "name": "stdout",
     "output_type": "stream",
     "text": [
      "test2\n",
      "test3\n"
     ]
    },
    {
     "data": {
      "text/plain": [
       "(None, None)"
      ]
     },
     "execution_count": 105,
     "metadata": {},
     "output_type": "execute_result"
    }
   ],
   "source": [
    "class Test1(object):\n",
    "    def __init__(self):\n",
    "        pass\n",
    "    \n",
    "    def print_info(self):\n",
    "        return\n",
    "    \n",
    "class Test2(Test1):\n",
    "      \n",
    "    def print_info(self):\n",
    "        print('test2')\n",
    "        \n",
    "        \n",
    "class Test3(Test1):\n",
    "      \n",
    "    def print_info(self):\n",
    "        print('test3')\n",
    "        \n",
    "        \n",
    "t2 = Test2()\n",
    "t3 = Test3()\n",
    "\n",
    "t2.print_info(), t3.print_info()"
   ]
  },
  {
   "cell_type": "markdown",
   "id": "5ffe52d7-96cf-4d36-ad02-d6b986d81e46",
   "metadata": {},
   "source": [
    "---\n",
    "\n",
    "### **下面几节进入类的高级用法**"
   ]
  },
  {
   "cell_type": "markdown",
   "id": "a07a96df-c29b-4c85-8ba4-bdedebcb5ecc",
   "metadata": {},
   "source": [
    "# **四、类的装饰器**\n",
    "\n",
    "---\n",
    "\n",
    "**上一章我们介绍过装饰器，它是用来修饰函数的，Python的类提供了装饰器只能够在类内部使用实现特定功能，主要有三个：**\n",
    "\n",
    "- **@classmethod**\n",
    "- **@staticmethod**\n",
    "- **@property**"
   ]
  },
  {
   "cell_type": "markdown",
   "id": "b34e924b-6689-413d-a780-754455130c5c",
   "metadata": {},
   "source": [
    "## **@classmethod装饰器**\n",
    "\n",
    "- **将类函数可以不经过实例化而直接被调用**\n",
    "\n",
    "### **用法：**\n",
    "\n",
    "```python\n",
    "@classmethod\n",
    "def func(cls,...):\n",
    "    代码块\n",
    "```\n",
    "\n",
    "### **参数介绍**\n",
    "\n",
    "- **cls替代普通类函数中的self，变为cls，代表当前操作的是类**"
   ]
  },
  {
   "cell_type": "code",
   "execution_count": 116,
   "id": "d6c579db-1697-460a-9f6e-0d4931b25151",
   "metadata": {},
   "outputs": [
    {
     "data": {
      "text/plain": [
       "1"
      ]
     },
     "execution_count": 116,
     "metadata": {},
     "output_type": "execute_result"
    }
   ],
   "source": [
    "class Test(object):\n",
    "    def __init__(self,a):\n",
    "        self.a = a\n",
    "        \n",
    "    def get_value(self):\n",
    "        return self.a\n",
    "    \n",
    "    @classmethod\n",
    "    def get_value2(cls):\n",
    "        return 2\n",
    "    \n",
    "    def get_value3(self):\n",
    "        return self.get_value2()\n",
    "    \n",
    "test = Test(a = 1)\n",
    "test.get_value()"
   ]
  },
  {
   "cell_type": "code",
   "execution_count": 117,
   "id": "ccc8277b-5975-4fc3-ac8d-b954329f2193",
   "metadata": {},
   "outputs": [
    {
     "data": {
      "text/plain": [
       "2"
      ]
     },
     "execution_count": 117,
     "metadata": {},
     "output_type": "execute_result"
    }
   ],
   "source": [
    "test.get_value2()"
   ]
  },
  {
   "cell_type": "code",
   "execution_count": 118,
   "id": "4c8b0f20-2416-4533-8a84-ee2d5b842857",
   "metadata": {},
   "outputs": [
    {
     "data": {
      "text/plain": [
       "2"
      ]
     },
     "execution_count": 118,
     "metadata": {},
     "output_type": "execute_result"
    }
   ],
   "source": [
    "Test.get_value2()"
   ]
  },
  {
   "cell_type": "code",
   "execution_count": 119,
   "id": "bb8b48af-cfe2-4f97-a8c7-4dd8c23ab85c",
   "metadata": {},
   "outputs": [
    {
     "data": {
      "text/plain": [
       "2"
      ]
     },
     "execution_count": 119,
     "metadata": {},
     "output_type": "execute_result"
    }
   ],
   "source": [
    "test.get_value3()"
   ]
  },
  {
   "cell_type": "markdown",
   "id": "e118eb71-0c85-4e4a-bd01-5a5faa7296fa",
   "metadata": {},
   "source": [
    "## **@staticmethod装饰器**\n",
    "\n",
    "- **将类函数可以不经过实例化而直接被调用，被该装饰器调用的函数不许传递self或cls参数，且无法再该函数内调用其它类函数或类变量**\n",
    "\n",
    "### **用法：**\n",
    "\n",
    "```python\n",
    "@staticmethod\n",
    "def func(cls,...):\n",
    "    代码块\n",
    "```\n",
    "\n",
    "### **参数介绍**\n",
    "\n",
    "- **函数体内无self或cls参数**"
   ]
  },
  {
   "cell_type": "code",
   "execution_count": 120,
   "id": "f1c243ac-a0a8-46a5-9985-7c7a262fd3c9",
   "metadata": {},
   "outputs": [
    {
     "data": {
      "text/plain": [
       "1"
      ]
     },
     "execution_count": 120,
     "metadata": {},
     "output_type": "execute_result"
    }
   ],
   "source": [
    "class Test(object):\n",
    "    def __init__(self,a):\n",
    "        self.a = a\n",
    "        \n",
    "    def get_value(self):\n",
    "        return self.a\n",
    "    \n",
    "    @staticmethod\n",
    "    def get_value2():\n",
    "        return 2\n",
    "    \n",
    "    def get_value3(self):\n",
    "        return self.get_value2()\n",
    "    \n",
    "test = Test(a = 1)\n",
    "test.get_value()"
   ]
  },
  {
   "cell_type": "code",
   "execution_count": 121,
   "id": "2ff5210e-97e5-48ef-917b-2eb7e71bbaa5",
   "metadata": {},
   "outputs": [
    {
     "data": {
      "text/plain": [
       "2"
      ]
     },
     "execution_count": 121,
     "metadata": {},
     "output_type": "execute_result"
    }
   ],
   "source": [
    "test.get_value2()"
   ]
  },
  {
   "cell_type": "code",
   "execution_count": 122,
   "id": "7e021691-5d07-449e-99ac-ca831ad69967",
   "metadata": {},
   "outputs": [
    {
     "data": {
      "text/plain": [
       "2"
      ]
     },
     "execution_count": 122,
     "metadata": {},
     "output_type": "execute_result"
    }
   ],
   "source": [
    "Test.get_value2()"
   ]
  },
  {
   "cell_type": "code",
   "execution_count": 123,
   "id": "b436564c-84e2-4c5d-b434-ab3d1387c45b",
   "metadata": {},
   "outputs": [
    {
     "data": {
      "text/plain": [
       "2"
      ]
     },
     "execution_count": 123,
     "metadata": {},
     "output_type": "execute_result"
    }
   ],
   "source": [
    "test.get_value3()"
   ]
  },
  {
   "cell_type": "markdown",
   "id": "7cbea0ba-3f09-47d5-be05-f9e3a070cbe2",
   "metadata": {},
   "source": [
    "## **@property装饰器**\n",
    "\n",
    "- **将类函数的执行免去括弧，类似于调用属性（变量)**\n",
    "\n",
    "### **用法：**\n",
    "\n",
    "```python\n",
    "@property\n",
    "def func(cls,...):\n",
    "    代码块\n",
    "```\n",
    "\n",
    "### **参数介绍**\n",
    "\n",
    "- **函数体内无self或cls参数**"
   ]
  },
  {
   "cell_type": "code",
   "execution_count": 124,
   "id": "7ff48fbf-d3b6-4a1c-b461-689b87c78c0c",
   "metadata": {},
   "outputs": [
    {
     "data": {
      "text/plain": [
       "1"
      ]
     },
     "execution_count": 124,
     "metadata": {},
     "output_type": "execute_result"
    }
   ],
   "source": [
    "class Test(object):\n",
    "    def __init__(self,a):\n",
    "        self.a = a\n",
    "        \n",
    "    def get_value(self):\n",
    "        return self.a\n",
    "    \n",
    "    @property\n",
    "    def get_value2(self):\n",
    "        return 2\n",
    "    \n",
    "    def get_value3(self):\n",
    "        return self.get_value2\n",
    "    \n",
    "test = Test(a = 1)\n",
    "test.get_value()"
   ]
  },
  {
   "cell_type": "code",
   "execution_count": 125,
   "id": "6ba1495a-8139-4155-aee4-877f39225dc8",
   "metadata": {},
   "outputs": [
    {
     "ename": "TypeError",
     "evalue": "'int' object is not callable",
     "output_type": "error",
     "traceback": [
      "\u001b[1;31m---------------------------------------------------------------------------\u001b[0m",
      "\u001b[1;31mTypeError\u001b[0m                                 Traceback (most recent call last)",
      "\u001b[1;32m~\\AppData\\Local\\Temp/ipykernel_24424/1894806709.py\u001b[0m in \u001b[0;36m<module>\u001b[1;34m\u001b[0m\n\u001b[1;32m----> 1\u001b[1;33m \u001b[0mtest\u001b[0m\u001b[1;33m.\u001b[0m\u001b[0mget_value2\u001b[0m\u001b[1;33m(\u001b[0m\u001b[1;33m)\u001b[0m\u001b[1;33m\u001b[0m\u001b[1;33m\u001b[0m\u001b[0m\n\u001b[0m",
      "\u001b[1;31mTypeError\u001b[0m: 'int' object is not callable"
     ]
    }
   ],
   "source": [
    "test.get_value2()"
   ]
  },
  {
   "cell_type": "code",
   "execution_count": 126,
   "id": "c6825772-47a0-4b8d-8b03-10bb23ad075d",
   "metadata": {},
   "outputs": [
    {
     "data": {
      "text/plain": [
       "2"
      ]
     },
     "execution_count": 126,
     "metadata": {},
     "output_type": "execute_result"
    }
   ],
   "source": [
    "test.get_value2"
   ]
  },
  {
   "cell_type": "markdown",
   "id": "7456c0e2-5038-4e4f-88b8-196fc6a8177f",
   "metadata": {},
   "source": [
    "### **对使用property装饰的函数，如果要修改变量，就要使用@函数名.setter来修改**"
   ]
  },
  {
   "cell_type": "code",
   "execution_count": 3,
   "id": "842a1bd1-4f08-40dd-b6bc-d73da5b9ee55",
   "metadata": {},
   "outputs": [
    {
     "data": {
      "text/plain": [
       "1"
      ]
     },
     "execution_count": 3,
     "metadata": {},
     "output_type": "execute_result"
    }
   ],
   "source": [
    "class Test(object):\n",
    "    def __init__(self,a):\n",
    "        self.a = a\n",
    "        \n",
    "    @property\n",
    "    def get_value(self):\n",
    "        return self.a\n",
    "\n",
    "    @get_value.setter\n",
    "    def get_value(self,value):\n",
    "        self.a = value\n",
    "    \n",
    "test = Test(a = 1)\n",
    "test.get_value"
   ]
  },
  {
   "cell_type": "code",
   "execution_count": 5,
   "id": "b62ee955-ef4f-4c07-81aa-7b3dea95ee52",
   "metadata": {},
   "outputs": [
    {
     "data": {
      "text/plain": [
       "2"
      ]
     },
     "execution_count": 5,
     "metadata": {},
     "output_type": "execute_result"
    }
   ],
   "source": [
    "test.get_value = 2\n",
    "test.get_value"
   ]
  },
  {
   "cell_type": "code",
   "execution_count": 6,
   "id": "c9fe2261-5bb7-461a-882f-714302c02dfd",
   "metadata": {},
   "outputs": [
    {
     "data": {
      "text/plain": [
       "1"
      ]
     },
     "execution_count": 6,
     "metadata": {},
     "output_type": "execute_result"
    }
   ],
   "source": [
    "class Test(object):\n",
    "    def __init__(self,a):\n",
    "        self.a = a\n",
    "        \n",
    "    @property\n",
    "    def get_value(self):\n",
    "        return self.a\n",
    "\n",
    "    \n",
    "test = Test(a = 1)\n",
    "test.get_value"
   ]
  },
  {
   "cell_type": "code",
   "execution_count": 7,
   "id": "d4ef52c9-1a7d-4de0-9258-98e0339e672b",
   "metadata": {},
   "outputs": [
    {
     "ename": "AttributeError",
     "evalue": "can't set attribute",
     "output_type": "error",
     "traceback": [
      "\u001b[1;31m---------------------------------------------------------------------------\u001b[0m",
      "\u001b[1;31mAttributeError\u001b[0m                            Traceback (most recent call last)",
      "\u001b[1;32m~\\AppData\\Local\\Temp/ipykernel_7784/1892213333.py\u001b[0m in \u001b[0;36m<module>\u001b[1;34m\u001b[0m\n\u001b[1;32m----> 1\u001b[1;33m \u001b[0mtest\u001b[0m\u001b[1;33m.\u001b[0m\u001b[0mget_value\u001b[0m \u001b[1;33m=\u001b[0m \u001b[1;36m2\u001b[0m\u001b[1;33m\u001b[0m\u001b[1;33m\u001b[0m\u001b[0m\n\u001b[0m",
      "\u001b[1;31mAttributeError\u001b[0m: can't set attribute"
     ]
    }
   ],
   "source": [
    "test.get_value = 2"
   ]
  },
  {
   "cell_type": "markdown",
   "id": "81756bee-7f01-47fa-a11d-e7104fbde7f6",
   "metadata": {},
   "source": [
    "---"
   ]
  },
  {
   "cell_type": "markdown",
   "id": "208a83ac-298c-4e28-bd1e-05124f3f7422",
   "metadata": {},
   "source": [
    "# **五、类的魔法方法**\n",
    "\n",
    "---\n",
    "\n",
    "在 Python 中，所有以 \"__\" 双下划线包起来的方法，都统称为\"魔术方法\"。比如我们接触最多的 `__init__` 。\n",
    "\n",
    "魔术方法有什么作用呢？\n",
    "\n",
    "使用这些魔术方法，我们可以构造出优美的代码，将复杂的逻辑封装成简单的方法。\n",
    "\n",
    "那么一个类中有哪些魔术方法呢？\n",
    "\n",
    "我们可以使用 Python 内置的方法 `dir()` 来列出类中所有的魔术方法.示例如下："
   ]
  },
  {
   "cell_type": "code",
   "execution_count": 8,
   "id": "facac182-447f-4f83-bfe2-8776c945d969",
   "metadata": {},
   "outputs": [
    {
     "data": {
      "text/plain": [
       "['__add__',\n",
       " '__class__',\n",
       " '__class_getitem__',\n",
       " '__contains__',\n",
       " '__delattr__',\n",
       " '__delitem__',\n",
       " '__dir__',\n",
       " '__doc__',\n",
       " '__eq__',\n",
       " '__format__',\n",
       " '__ge__',\n",
       " '__getattribute__',\n",
       " '__getitem__',\n",
       " '__gt__',\n",
       " '__hash__',\n",
       " '__iadd__',\n",
       " '__imul__',\n",
       " '__init__',\n",
       " '__init_subclass__',\n",
       " '__iter__',\n",
       " '__le__',\n",
       " '__len__',\n",
       " '__lt__',\n",
       " '__mul__',\n",
       " '__ne__',\n",
       " '__new__',\n",
       " '__reduce__',\n",
       " '__reduce_ex__',\n",
       " '__repr__',\n",
       " '__reversed__',\n",
       " '__rmul__',\n",
       " '__setattr__',\n",
       " '__setitem__',\n",
       " '__sizeof__',\n",
       " '__str__',\n",
       " '__subclasshook__',\n",
       " 'append',\n",
       " 'clear',\n",
       " 'copy',\n",
       " 'count',\n",
       " 'extend',\n",
       " 'index',\n",
       " 'insert',\n",
       " 'pop',\n",
       " 'remove',\n",
       " 'reverse',\n",
       " 'sort']"
      ]
     },
     "execution_count": 8,
     "metadata": {},
     "output_type": "execute_result"
    }
   ],
   "source": [
    "dir(list)"
   ]
  },
  {
   "cell_type": "markdown",
   "id": "fb15cf08-4353-471f-a6b0-2d498edfc69c",
   "metadata": {},
   "source": [
    "### **想象一下，为什么列表可以相加**"
   ]
  },
  {
   "cell_type": "code",
   "execution_count": 9,
   "id": "dc22549a-684d-4cda-8ea1-54277b42688c",
   "metadata": {},
   "outputs": [
    {
     "data": {
      "text/plain": [
       "[1, 2, 3, 4, 5, 6]"
      ]
     },
     "execution_count": 9,
     "metadata": {},
     "output_type": "execute_result"
    }
   ],
   "source": [
    "a = [1,2,3]\n",
    "b = [4,5,6]\n",
    "a + b"
   ]
  },
  {
   "cell_type": "markdown",
   "id": "e3882716-0ad4-4e2a-bb0e-2659afe7f357",
   "metadata": {},
   "source": [
    "### **就是因为实现了类的魔法方法，才可以实现这样的功能**\n",
    "\n",
    "### **假如你同样实现一个类list，只要实现了这些方法就可以和list一样拥有同样的神奇功能**\n",
    "\n",
    "### **Python中类的魔法方法我们总结一下主要有以下几大类：**"
   ]
  },
  {
   "cell_type": "markdown",
   "id": "a3fece3f-5b13-402c-8b31-a4d5e88f89d4",
   "metadata": {},
   "source": [
    "## **第一类：构造相关**\n",
    "\n",
    "- **`__new__`：创建类**\n",
    "- **`__init__`：初始化类**\n",
    "- **`__del__`：`del`关键字删除时被调用**\n",
    "- **`__slots__`：减少类的占用内存**\n",
    "\n",
    "通过之前的学习，我们已经知道定义一个类时，我们经常会通过 `__init__(self)` 的方法在实例化对象的时候，对属性进行设置。\n",
    "\n",
    "`__new__` 是用来创建类并返回这个类的实例, 而 `__init__` 只是将传入的参数来初始化该实例.`__new__` 在创建一个实例的过程中必定会被调用,但 `__init__` 就不一定，比如通过 pickle.load 的方式反序列化一个实例时就不会调用 `__init__` 方法。"
   ]
  },
  {
   "cell_type": "code",
   "execution_count": 12,
   "id": "93fb51d7-be6a-4e94-9a7a-f3ddba5364ba",
   "metadata": {},
   "outputs": [
    {
     "name": "stdout",
     "output_type": "stream",
     "text": [
      "调用了 def __new__ 方法\n",
      "('name1', 23)\n",
      "调用了 def __init__ 方法\n"
     ]
    }
   ],
   "source": [
    "class User(object):\n",
    "    def __new__(cls, *args, **kwargs):\n",
    "        # 打印 __new__方法中的相关信息\n",
    "        print('调用了 def __new__ 方法')\n",
    "        print(args)\n",
    "        # 最后返回父类的方法\n",
    "        return super(User, cls).__new__(cls)\n",
    "\n",
    "    def __init__(self, name, age):\n",
    "        print('调用了 def __init__ 方法')\n",
    "        self.name = name\n",
    "        self.age = age\n",
    "\n",
    "usr = User('name1', 23)"
   ]
  },
  {
   "cell_type": "code",
   "execution_count": 11,
   "id": "fba63e5c-0597-4147-b43e-04ab4deee57c",
   "metadata": {},
   "outputs": [
    {
     "name": "stdout",
     "output_type": "stream",
     "text": [
      "user被删除了\n"
     ]
    }
   ],
   "source": [
    "class User(object):\n",
    "    def __del__(self):\n",
    "        print('user被删除了')\n",
    "\n",
    "user = User()\n",
    "del user"
   ]
  },
  {
   "cell_type": "code",
   "execution_count": 16,
   "id": "c3a2d02f-4295-4df2-940a-dbae90bb7ba5",
   "metadata": {},
   "outputs": [
    {
     "ename": "AttributeError",
     "evalue": "'User' object has no attribute 'age'",
     "output_type": "error",
     "traceback": [
      "\u001b[1;31m---------------------------------------------------------------------------\u001b[0m",
      "\u001b[1;31mAttributeError\u001b[0m                            Traceback (most recent call last)",
      "\u001b[1;32m~\\AppData\\Local\\Temp/ipykernel_7784/3588055437.py\u001b[0m in \u001b[0;36m<module>\u001b[1;34m\u001b[0m\n\u001b[0;32m      5\u001b[0m         \u001b[0mself\u001b[0m\u001b[1;33m.\u001b[0m\u001b[0mage\u001b[0m \u001b[1;33m=\u001b[0m \u001b[0mage\u001b[0m\u001b[1;33m\u001b[0m\u001b[1;33m\u001b[0m\u001b[0m\n\u001b[0;32m      6\u001b[0m \u001b[1;33m\u001b[0m\u001b[0m\n\u001b[1;32m----> 7\u001b[1;33m \u001b[0muser\u001b[0m \u001b[1;33m=\u001b[0m \u001b[0mUser\u001b[0m\u001b[1;33m(\u001b[0m\u001b[0mname\u001b[0m \u001b[1;33m=\u001b[0m \u001b[1;36m1\u001b[0m\u001b[1;33m,\u001b[0m \u001b[0mage\u001b[0m \u001b[1;33m=\u001b[0m \u001b[1;36m2\u001b[0m\u001b[1;33m)\u001b[0m\u001b[1;33m\u001b[0m\u001b[1;33m\u001b[0m\u001b[0m\n\u001b[0m",
      "\u001b[1;32m~\\AppData\\Local\\Temp/ipykernel_7784/3588055437.py\u001b[0m in \u001b[0;36m__init__\u001b[1;34m(self, name, age)\u001b[0m\n\u001b[0;32m      3\u001b[0m     \u001b[1;32mdef\u001b[0m \u001b[0m__init__\u001b[0m\u001b[1;33m(\u001b[0m\u001b[0mself\u001b[0m\u001b[1;33m,\u001b[0m \u001b[0mname\u001b[0m\u001b[1;33m,\u001b[0m \u001b[0mage\u001b[0m\u001b[1;33m)\u001b[0m\u001b[1;33m:\u001b[0m\u001b[1;33m\u001b[0m\u001b[1;33m\u001b[0m\u001b[0m\n\u001b[0;32m      4\u001b[0m         \u001b[0mself\u001b[0m\u001b[1;33m.\u001b[0m\u001b[0mname\u001b[0m \u001b[1;33m=\u001b[0m \u001b[0mname\u001b[0m\u001b[1;33m\u001b[0m\u001b[1;33m\u001b[0m\u001b[0m\n\u001b[1;32m----> 5\u001b[1;33m         \u001b[0mself\u001b[0m\u001b[1;33m.\u001b[0m\u001b[0mage\u001b[0m \u001b[1;33m=\u001b[0m \u001b[0mage\u001b[0m\u001b[1;33m\u001b[0m\u001b[1;33m\u001b[0m\u001b[0m\n\u001b[0m\u001b[0;32m      6\u001b[0m \u001b[1;33m\u001b[0m\u001b[0m\n\u001b[0;32m      7\u001b[0m \u001b[0muser\u001b[0m \u001b[1;33m=\u001b[0m \u001b[0mUser\u001b[0m\u001b[1;33m(\u001b[0m\u001b[0mname\u001b[0m \u001b[1;33m=\u001b[0m \u001b[1;36m1\u001b[0m\u001b[1;33m,\u001b[0m \u001b[0mage\u001b[0m \u001b[1;33m=\u001b[0m \u001b[1;36m2\u001b[0m\u001b[1;33m)\u001b[0m\u001b[1;33m\u001b[0m\u001b[1;33m\u001b[0m\u001b[0m\n",
      "\u001b[1;31mAttributeError\u001b[0m: 'User' object has no attribute 'age'"
     ]
    }
   ],
   "source": [
    "class User(object):\n",
    "    __slots__ = ('name')\n",
    "    def __init__(self, name, age):\n",
    "        self.name = name\n",
    "        self.age = age\n",
    "        \n",
    "user = User(name = 1, age = 2)"
   ]
  },
  {
   "cell_type": "code",
   "execution_count": 17,
   "id": "0499a86b-656e-4616-8d8f-5cac7efe4036",
   "metadata": {},
   "outputs": [],
   "source": [
    "class User(object):\n",
    "    __slots__ = ('name','age')\n",
    "    def __init__(self, name, age):\n",
    "        self.name = name\n",
    "        self.age = age\n",
    "\n",
    "user = User(name = 1, age = 2)"
   ]
  },
  {
   "cell_type": "markdown",
   "id": "189d1bdb-eb1a-4515-99f3-51c59801f5ef",
   "metadata": {},
   "source": [
    "## **第二类：属性访问相关**\n",
    "\n",
    "- **`__dict__()`：获取类的属性作为一个字典**\n",
    "- **`__getattr__()`：该方法定义了你试图访问一个不存在的属性时的行为。因此，重载该方法可以实现捕获错误拼写然后进行重定向, 或者对一些废弃的属性进行警告。**\n",
    "- **`__setattr__()`：定义了对属性进行赋值和修改操作时的行为。不管对象的某个属性是否存在,都允许为该属性进行赋值.有一点需要注意，实现 `__setattr__` 时要避免\"无限递归\"的错误，**\n",
    "- **`__delattr__()`：`__delattr__` 与 `__setattr__` 很像，只是它定义的是你删除属性时的行为。实现 `__delattr__` 是同时要避免\"无限递归\"的错误**\n",
    "- **`__getattribute__()`：`__getattribute__` 定义了你的属性被访问时的行为，相比较，`__getattr__` 只有该属性不存在时才会起作用。因此，在支持 `__getattribute__ `的 Python 版本,调用 `__getattr__` 前必定会调用 `__getattribute__``__getattribute__` 同样要避免\"无限递归\"的错误。**"
   ]
  },
  {
   "cell_type": "code",
   "execution_count": 20,
   "id": "f4c77624-f172-4394-8691-a810d8b5bd35",
   "metadata": {},
   "outputs": [
    {
     "data": {
      "text/plain": [
       "{'a': 1, 'b': 2}"
      ]
     },
     "execution_count": 20,
     "metadata": {},
     "output_type": "execute_result"
    }
   ],
   "source": [
    "class User:\n",
    "    def __init__(self,a,b):\n",
    "        self.a = a\n",
    "        self.b = b\n",
    "        \n",
    "user = User(a= 1, b = 2)\n",
    "user.__dict__"
   ]
  },
  {
   "cell_type": "code",
   "execution_count": 22,
   "id": "145f472d-23a9-4807-84c1-a4fd8882abb1",
   "metadata": {},
   "outputs": [
    {
     "data": {
      "text/plain": [
       "{'a': 1}"
      ]
     },
     "execution_count": 22,
     "metadata": {},
     "output_type": "execute_result"
    }
   ],
   "source": [
    "class User:\n",
    "    def __init__(self,a,b):\n",
    "        self.a = a\n",
    "        self.b = b\n",
    "        \n",
    "    def __dict__(self):\n",
    "        return {'a': self.a}\n",
    "        \n",
    "user = User(a= 1, b = 2)\n",
    "user.__dict__()"
   ]
  },
  {
   "cell_type": "code",
   "execution_count": 26,
   "id": "504de9f3-ab00-4084-9990-f24bd7aea453",
   "metadata": {},
   "outputs": [
    {
     "name": "stdout",
     "output_type": "stream",
     "text": [
      "调用了 __setattr__ 方法\n"
     ]
    }
   ],
   "source": [
    "class User(object):\n",
    "    def __getattr__(self, name):\n",
    "        print('调用了 __getattr__ 方法')\n",
    "        return super(User, self).__getattr__(name)\n",
    "\n",
    "    def __setattr__(self, name, value):\n",
    "        print('调用了 __setattr__ 方法')\n",
    "        return super(User, self).__setattr__(name, value)\n",
    "\n",
    "    def __delattr__(self, name):\n",
    "        print('调用了 __delattr__ 方法')\n",
    "        return super(User, self).__delattr__(name)\n",
    "\n",
    "    def __getattribute__(self, name):\n",
    "        print('调用了 __getattribute__ 方法')\n",
    "        return super(User, self).__getattribute__(name)\n",
    "    \n",
    "user = User()\n",
    "user.attr1 = True"
   ]
  },
  {
   "cell_type": "code",
   "execution_count": 27,
   "id": "def20621-c902-49e2-bcce-408b6c855977",
   "metadata": {},
   "outputs": [
    {
     "name": "stdout",
     "output_type": "stream",
     "text": [
      "调用了 __getattribute__ 方法\n"
     ]
    },
    {
     "data": {
      "text/plain": [
       "True"
      ]
     },
     "execution_count": 27,
     "metadata": {},
     "output_type": "execute_result"
    }
   ],
   "source": [
    "# 属性存在,只有__getattribute__调用\n",
    "user.attr1"
   ]
  },
  {
   "cell_type": "code",
   "execution_count": 28,
   "id": "4ef63581-574a-4cac-a69e-7bdccdfd1763",
   "metadata": {},
   "outputs": [
    {
     "name": "stdout",
     "output_type": "stream",
     "text": [
      "调用了 __delattr__ 方法\n"
     ]
    }
   ],
   "source": [
    "\n",
    "# __delattr__调用\n",
    "del user.attr1"
   ]
  },
  {
   "cell_type": "code",
   "execution_count": 25,
   "id": "1c5af9be-f118-407a-8820-e2392c5389e8",
   "metadata": {},
   "outputs": [
    {
     "name": "stdout",
     "output_type": "stream",
     "text": [
      "调用了 __getattribute__ 方法\n",
      "调用了 __getattr__ 方法\n"
     ]
    },
    {
     "ename": "AttributeError",
     "evalue": "'super' object has no attribute '__getattr__'",
     "output_type": "error",
     "traceback": [
      "\u001b[1;31m---------------------------------------------------------------------------\u001b[0m",
      "\u001b[1;31mAttributeError\u001b[0m                            Traceback (most recent call last)",
      "\u001b[1;32m~\\AppData\\Local\\Temp/ipykernel_7784/1170861155.py\u001b[0m in \u001b[0;36m<module>\u001b[1;34m\u001b[0m\n\u001b[0;32m      1\u001b[0m \u001b[1;31m# 属性不存在, 先调用__getattribute__, 后调用__getattr__\u001b[0m\u001b[1;33m\u001b[0m\u001b[1;33m\u001b[0m\u001b[0m\n\u001b[1;32m----> 2\u001b[1;33m \u001b[0muser\u001b[0m\u001b[1;33m.\u001b[0m\u001b[0mattr2\u001b[0m\u001b[1;33m\u001b[0m\u001b[1;33m\u001b[0m\u001b[0m\n\u001b[0m",
      "\u001b[1;32m~\\AppData\\Local\\Temp/ipykernel_7784/2298535486.py\u001b[0m in \u001b[0;36m__getattr__\u001b[1;34m(self, name)\u001b[0m\n\u001b[0;32m      2\u001b[0m     \u001b[1;32mdef\u001b[0m \u001b[0m__getattr__\u001b[0m\u001b[1;33m(\u001b[0m\u001b[0mself\u001b[0m\u001b[1;33m,\u001b[0m \u001b[0mname\u001b[0m\u001b[1;33m)\u001b[0m\u001b[1;33m:\u001b[0m\u001b[1;33m\u001b[0m\u001b[1;33m\u001b[0m\u001b[0m\n\u001b[0;32m      3\u001b[0m         \u001b[0mprint\u001b[0m\u001b[1;33m(\u001b[0m\u001b[1;34m'调用了 __getattr__ 方法'\u001b[0m\u001b[1;33m)\u001b[0m\u001b[1;33m\u001b[0m\u001b[1;33m\u001b[0m\u001b[0m\n\u001b[1;32m----> 4\u001b[1;33m         \u001b[1;32mreturn\u001b[0m \u001b[0msuper\u001b[0m\u001b[1;33m(\u001b[0m\u001b[0mUser\u001b[0m\u001b[1;33m,\u001b[0m \u001b[0mself\u001b[0m\u001b[1;33m)\u001b[0m\u001b[1;33m.\u001b[0m\u001b[0m__getattr__\u001b[0m\u001b[1;33m(\u001b[0m\u001b[0mname\u001b[0m\u001b[1;33m)\u001b[0m\u001b[1;33m\u001b[0m\u001b[1;33m\u001b[0m\u001b[0m\n\u001b[0m\u001b[0;32m      5\u001b[0m \u001b[1;33m\u001b[0m\u001b[0m\n\u001b[0;32m      6\u001b[0m     \u001b[1;32mdef\u001b[0m \u001b[0m__setattr__\u001b[0m\u001b[1;33m(\u001b[0m\u001b[0mself\u001b[0m\u001b[1;33m,\u001b[0m \u001b[0mname\u001b[0m\u001b[1;33m,\u001b[0m \u001b[0mvalue\u001b[0m\u001b[1;33m)\u001b[0m\u001b[1;33m:\u001b[0m\u001b[1;33m\u001b[0m\u001b[1;33m\u001b[0m\u001b[0m\n",
      "\u001b[1;31mAttributeError\u001b[0m: 'super' object has no attribute '__getattr__'"
     ]
    }
   ],
   "source": [
    "# 属性不存在, 先调用__getattribute__, 后调用__getattr__\n",
    "user.attr2"
   ]
  },
  {
   "cell_type": "markdown",
   "id": "ce464784-cb8d-4963-88e2-e13f95f7b0c2",
   "metadata": {},
   "source": [
    "## **第三类：对象描述相关**\n",
    "\n",
    "- **`__get__()`：调用一个属性时触发**\n",
    "- **`__set__()`：为一个属性赋值时触发**\n",
    "- **`__delete__()`：采用del删除属性时触发**\n",
    "\n",
    "\n",
    "\n",
    "**该描述符的作用是为另外一个类的类属性进行服务,另外一个类就是描述符的对象**"
   ]
  },
  {
   "cell_type": "code",
   "execution_count": 73,
   "id": "da790a9d-956b-4972-aa86-68d7133b60fa",
   "metadata": {},
   "outputs": [
    {
     "name": "stdout",
     "output_type": "stream",
     "text": [
      "男\n"
     ]
    }
   ],
   "source": [
    "class User(object):\n",
    "    def __init__(self, name='name1', sex='男'):\n",
    "        self.sex = sex\n",
    "        self.name = name\n",
    "\n",
    "    def __get__(self, obj, objtype):\n",
    "        print('获取 name 值')\n",
    "        return self.name\n",
    "\n",
    "    def __set__(self, obj, val):\n",
    "        print('设置 name 值')\n",
    "        self.name = val\n",
    "\n",
    "    def __delete__(self,instance):\n",
    "        print('触发__delete__')\n",
    "\n",
    "\n",
    "\n",
    "class MyClass(object):\n",
    "    x = User('name1', '男')\n",
    "\n",
    "\n",
    "m = User()\n",
    "print(m.sex)"
   ]
  },
  {
   "cell_type": "code",
   "execution_count": 74,
   "id": "abb0faea-7f21-4477-bf85-7c49bc4c5bb2",
   "metadata": {},
   "outputs": [
    {
     "name": "stdout",
     "output_type": "stream",
     "text": [
      "获取 name 值\n"
     ]
    },
    {
     "data": {
      "text/plain": [
       "'name1'"
      ]
     },
     "execution_count": 74,
     "metadata": {},
     "output_type": "execute_result"
    }
   ],
   "source": [
    "MyClass().x"
   ]
  },
  {
   "cell_type": "code",
   "execution_count": 75,
   "id": "24153cf4-3f54-4259-8b4a-4d8b0d6e47a3",
   "metadata": {},
   "outputs": [
    {
     "name": "stdout",
     "output_type": "stream",
     "text": [
      "设置 name 值\n"
     ]
    }
   ],
   "source": [
    "MyClass().x = 'dsds'"
   ]
  },
  {
   "cell_type": "code",
   "execution_count": 76,
   "id": "979c5953-1082-47f3-a6d9-a7c984deca22",
   "metadata": {},
   "outputs": [
    {
     "name": "stdout",
     "output_type": "stream",
     "text": [
      "触发__delete__\n"
     ]
    }
   ],
   "source": [
    "del MyClass().x"
   ]
  },
  {
   "cell_type": "markdown",
   "id": "36474d98-3b2b-4950-ad8e-671aeabbaeb5",
   "metadata": {},
   "source": [
    "## **第四类：容器相关**\n",
    "\n",
    "- **`__len__()`：获取类的长度，len()时调用**\n",
    "- **`__str__()`：print()时调用**\n",
    "- **`__call__()`：类通过()使用时调用**\n",
    "- **`__iter__()`：返回一个迭代对象**\n",
    "- **`__next__()`：拿到迭代对象的下一个值**\n",
    "- **`__getitem__`：当实例对象通过`[]` 运算符取值时调用**\n",
    "- **`__setitem__`：当实例对象通过`[]` 运算符赋值时调用**\n",
    "- **`__delitem__`：当实例对象通过`[]` 运算符删除时调用**"
   ]
  },
  {
   "cell_type": "code",
   "execution_count": 78,
   "id": "d1ccf14f-187a-4ff9-98f3-1976b7de177b",
   "metadata": {},
   "outputs": [],
   "source": [
    "class User1:\n",
    "    pass\n",
    "\n",
    "class User2:\n",
    "    def __len__(self):\n",
    "        return 2\n",
    "    \n",
    "u1 = User1()\n",
    "u2 = User2()"
   ]
  },
  {
   "cell_type": "code",
   "execution_count": 79,
   "id": "c75330e6-7636-45ca-b8eb-891585ceae5f",
   "metadata": {},
   "outputs": [
    {
     "ename": "TypeError",
     "evalue": "object of type 'User1' has no len()",
     "output_type": "error",
     "traceback": [
      "\u001b[1;31m---------------------------------------------------------------------------\u001b[0m",
      "\u001b[1;31mTypeError\u001b[0m                                 Traceback (most recent call last)",
      "\u001b[1;32m~\\AppData\\Local\\Temp/ipykernel_7784/2504999599.py\u001b[0m in \u001b[0;36m<module>\u001b[1;34m\u001b[0m\n\u001b[1;32m----> 1\u001b[1;33m \u001b[0mlen\u001b[0m\u001b[1;33m(\u001b[0m\u001b[0mu1\u001b[0m\u001b[1;33m)\u001b[0m\u001b[1;33m\u001b[0m\u001b[1;33m\u001b[0m\u001b[0m\n\u001b[0m",
      "\u001b[1;31mTypeError\u001b[0m: object of type 'User1' has no len()"
     ]
    }
   ],
   "source": [
    "len(u1)"
   ]
  },
  {
   "cell_type": "code",
   "execution_count": 80,
   "id": "591aa6d0-c53f-4718-b4f6-6b84359ad4a5",
   "metadata": {},
   "outputs": [
    {
     "data": {
      "text/plain": [
       "2"
      ]
     },
     "execution_count": 80,
     "metadata": {},
     "output_type": "execute_result"
    }
   ],
   "source": [
    "len(u2)"
   ]
  },
  {
   "cell_type": "code",
   "execution_count": 85,
   "id": "2bbc6fe1-3e9e-4505-ab14-54d492c96bd4",
   "metadata": {},
   "outputs": [
    {
     "name": "stdout",
     "output_type": "stream",
     "text": [
      "<__main__.User1 object at 0x0000023C6E3192E0>\n"
     ]
    }
   ],
   "source": [
    "class User1:\n",
    "    pass\n",
    "\n",
    "class User2:\n",
    "    def __str__(self):\n",
    "        return \"我是User2\"\n",
    "    \n",
    "print(User1())"
   ]
  },
  {
   "cell_type": "code",
   "execution_count": 86,
   "id": "57d8c4d5-3a97-4de7-86f4-086f8f8ccc80",
   "metadata": {},
   "outputs": [
    {
     "name": "stdout",
     "output_type": "stream",
     "text": [
      "我是User2\n"
     ]
    }
   ],
   "source": [
    "print(User2())"
   ]
  },
  {
   "cell_type": "code",
   "execution_count": 87,
   "id": "b97481b9-a0e5-4514-9225-97bf977734de",
   "metadata": {},
   "outputs": [
    {
     "ename": "TypeError",
     "evalue": "'User1' object is not callable",
     "output_type": "error",
     "traceback": [
      "\u001b[1;31m---------------------------------------------------------------------------\u001b[0m",
      "\u001b[1;31mTypeError\u001b[0m                                 Traceback (most recent call last)",
      "\u001b[1;32m~\\AppData\\Local\\Temp/ipykernel_7784/1287919724.py\u001b[0m in \u001b[0;36m<module>\u001b[1;34m\u001b[0m\n\u001b[0;32m      9\u001b[0m \u001b[0mu2\u001b[0m \u001b[1;33m=\u001b[0m \u001b[0mUser2\u001b[0m\u001b[1;33m(\u001b[0m\u001b[1;33m)\u001b[0m\u001b[1;33m\u001b[0m\u001b[1;33m\u001b[0m\u001b[0m\n\u001b[0;32m     10\u001b[0m \u001b[1;33m\u001b[0m\u001b[0m\n\u001b[1;32m---> 11\u001b[1;33m \u001b[0mu1\u001b[0m\u001b[1;33m(\u001b[0m\u001b[1;33m)\u001b[0m\u001b[1;33m\u001b[0m\u001b[1;33m\u001b[0m\u001b[0m\n\u001b[0m",
      "\u001b[1;31mTypeError\u001b[0m: 'User1' object is not callable"
     ]
    }
   ],
   "source": [
    "class User1:\n",
    "    pass\n",
    "\n",
    "class User2:\n",
    "    def __call__(self):\n",
    "        return \"我是User2\"\n",
    "    \n",
    "u1 = User1()\n",
    "u2 = User2()\n",
    "\n",
    "u1()"
   ]
  },
  {
   "cell_type": "code",
   "execution_count": 88,
   "id": "0da2e957-b630-479f-86d8-604abebc96bb",
   "metadata": {},
   "outputs": [
    {
     "data": {
      "text/plain": [
       "'我是User2'"
      ]
     },
     "execution_count": 88,
     "metadata": {},
     "output_type": "execute_result"
    }
   ],
   "source": [
    "u2()"
   ]
  },
  {
   "cell_type": "code",
   "execution_count": 82,
   "id": "2c31e391-9989-4718-adc4-9fa7236e4d38",
   "metadata": {},
   "outputs": [
    {
     "name": "stdout",
     "output_type": "stream",
     "text": [
      "调用getitem\n"
     ]
    },
    {
     "data": {
      "text/plain": [
       "'PHP is a good language'"
      ]
     },
     "execution_count": 82,
     "metadata": {},
     "output_type": "execute_result"
    }
   ],
   "source": [
    "class Tag:\n",
    "    def __init__(self):\n",
    "        self.change={'python':'This is python',\n",
    "                     'php':'PHP is a good language'}\n",
    " \n",
    "    def __getitem__(self, item):\n",
    "        print('调用getitem')\n",
    "        return self.change[item]\n",
    " \n",
    "    def __setitem__(self, key, value):\n",
    "        print('调用setitem')\n",
    "        self.change[key]=value\n",
    " \n",
    "    def __delitem__(self, key):\n",
    "        print('调用delitem')\n",
    "        del self.change[key]\n",
    "\n",
    "a=Tag()\n",
    "a['php']"
   ]
  },
  {
   "cell_type": "code",
   "execution_count": 83,
   "id": "77c95848-cb09-4aa7-9631-d34cf0fb5c8a",
   "metadata": {},
   "outputs": [
    {
     "name": "stdout",
     "output_type": "stream",
     "text": [
      "调用setitem\n"
     ]
    }
   ],
   "source": [
    "a['php'] = 'dasdas'"
   ]
  },
  {
   "cell_type": "code",
   "execution_count": 84,
   "id": "ca0a2365-b5d2-4219-a730-0d0f7c1bbe75",
   "metadata": {},
   "outputs": [
    {
     "name": "stdout",
     "output_type": "stream",
     "text": [
      "调用delitem\n"
     ]
    }
   ],
   "source": [
    "del a['php']"
   ]
  },
  {
   "cell_type": "code",
   "execution_count": 89,
   "id": "82d81c39-4f47-40ad-8ac3-8132179ca571",
   "metadata": {},
   "outputs": [
    {
     "name": "stdout",
     "output_type": "stream",
     "text": [
      "1\n",
      "1\n",
      "2\n",
      "3\n",
      "5\n",
      "8\n",
      "13\n",
      "21\n",
      "34\n"
     ]
    }
   ],
   "source": [
    "class Fib(object):\n",
    "    def __init__(self):\n",
    "        self.a, self.b = 0, 1 # 初始化两个计数器a，b\n",
    "\n",
    "    def __iter__(self):\n",
    "        return self # 实例本身就是迭代对象，故返回自己\n",
    "\n",
    "    def __next__(self):\n",
    "        self.a, self.b = self.b, self.a + self.b # 计算下一个值\n",
    "        if self.a > 50: # 退出循环的条件\n",
    "            raise StopIteration()\n",
    "        return self.a # 返回下一个值\n",
    "    \n",
    "for n in Fib():\n",
    "    print(n)"
   ]
  },
  {
   "cell_type": "markdown",
   "id": "d832dba5-63c2-4eaf-9d6b-171dbe3a6dd2",
   "metadata": {},
   "source": [
    "### **配合：yield使用可以读取占用内存很大正常不能读取的大文件**"
   ]
  },
  {
   "cell_type": "code",
   "execution_count": 91,
   "id": "ffc02988-d284-489a-bec6-bbbfb265b0ee",
   "metadata": {},
   "outputs": [
    {
     "name": "stdout",
     "output_type": "stream",
     "text": [
      "1\n",
      "2\n",
      "3\n",
      "4\n",
      "5\n",
      "6\n",
      "7\n"
     ]
    }
   ],
   "source": [
    "### 这里以列表代替，后面介绍IO操作时会在说明\n",
    "\n",
    "class Fib(object):\n",
    "    def __init__(self, a):\n",
    "        self.a = a\n",
    "\n",
    "    def __iter__(self):\n",
    "        for i in self.a:\n",
    "            yield i\n",
    "    \n",
    "f1 = Fib([1,2,3,4,5,6,7])\n",
    "for n in f1:\n",
    "    print(n)"
   ]
  },
  {
   "cell_type": "code",
   "execution_count": null,
   "id": "24cd2022-91fb-49db-a466-eb9401f9b74a",
   "metadata": {},
   "outputs": [],
   "source": []
  },
  {
   "cell_type": "markdown",
   "id": "44322066-11d8-4d0e-b723-156c1d248a3d",
   "metadata": {},
   "source": [
    "## **第五类：运算相关**\n",
    "\n",
    "\n",
    "- **`__eq__(self, other)`：定义了比较操作符 == 的行为**\n",
    "- **`__ne__(self, other)`：定义了比较操作符 != 的行为**\n",
    "- **`__lt__(self, other)`：定义了比较操作符 < 的行为**\n",
    "- **`__gt__(self, other)`：定义了比较操作符 > 的行为**\n",
    "- **`__le__(self, other)`：定义了比较操作符 <= 的行为**\n",
    "- **`__ge__(self, other)`：定义了比较操作符 >= 的行为**"
   ]
  },
  {
   "cell_type": "code",
   "execution_count": 66,
   "id": "dc10d9af-74f1-443a-af48-4b3658920ecc",
   "metadata": {},
   "outputs": [],
   "source": [
    "class Number(object):\n",
    "    def __init__(self, value):\n",
    "        self.value = value\n",
    "\n",
    "    def __eq__(self, other):\n",
    "        print('__eq__')\n",
    "        return self.value == other.value\n",
    "\n",
    "    def __ne__(self, other):\n",
    "        print('__ne__')\n",
    "        return self.value != other.value\n",
    "\n",
    "    def __lt__(self, other):\n",
    "        print('__lt__')\n",
    "        return self.value < other.value\n",
    "\n",
    "    def __gt__(self, other):\n",
    "        print('__gt__')\n",
    "        return self.value > other.value\n",
    "\n",
    "    def __le__(self, other):\n",
    "        print('__le__')\n",
    "        return self.value <= other.value\n",
    "\n",
    "    def __ge__(self, other):\n",
    "        print('__ge__')\n",
    "        return self.value >= other.value\n",
    "\n",
    "\n",
    "\n",
    "num1 = Number(2)\n",
    "num2 = Number(3)"
   ]
  },
  {
   "cell_type": "code",
   "execution_count": 67,
   "id": "5102ad37-ad84-46ac-8ff9-85b2677fb201",
   "metadata": {},
   "outputs": [
    {
     "name": "stdout",
     "output_type": "stream",
     "text": [
      "__eq__\n"
     ]
    },
    {
     "data": {
      "text/plain": [
       "False"
      ]
     },
     "execution_count": 67,
     "metadata": {},
     "output_type": "execute_result"
    }
   ],
   "source": [
    "num1 == num2"
   ]
  },
  {
   "cell_type": "code",
   "execution_count": 68,
   "id": "8ef49d41-e99a-4032-af2a-77e60f9f4416",
   "metadata": {},
   "outputs": [
    {
     "name": "stdout",
     "output_type": "stream",
     "text": [
      "__ne__\n"
     ]
    },
    {
     "data": {
      "text/plain": [
       "True"
      ]
     },
     "execution_count": 68,
     "metadata": {},
     "output_type": "execute_result"
    }
   ],
   "source": [
    "num1 != num2"
   ]
  },
  {
   "cell_type": "code",
   "execution_count": 69,
   "id": "b5cb690b-8f1b-40e7-8bda-5eeaf6c1009d",
   "metadata": {},
   "outputs": [
    {
     "name": "stdout",
     "output_type": "stream",
     "text": [
      "__lt__\n"
     ]
    },
    {
     "data": {
      "text/plain": [
       "True"
      ]
     },
     "execution_count": 69,
     "metadata": {},
     "output_type": "execute_result"
    }
   ],
   "source": [
    "num1 < num2"
   ]
  },
  {
   "cell_type": "code",
   "execution_count": 70,
   "id": "5ff15f0d-b649-4371-a744-81f7d822e765",
   "metadata": {},
   "outputs": [
    {
     "name": "stdout",
     "output_type": "stream",
     "text": [
      "__gt__\n"
     ]
    },
    {
     "data": {
      "text/plain": [
       "False"
      ]
     },
     "execution_count": 70,
     "metadata": {},
     "output_type": "execute_result"
    }
   ],
   "source": [
    "num1 > num2"
   ]
  },
  {
   "cell_type": "code",
   "execution_count": 71,
   "id": "6e54483a-9a1a-4ee2-b042-165feba9e36f",
   "metadata": {},
   "outputs": [
    {
     "name": "stdout",
     "output_type": "stream",
     "text": [
      "__le__\n"
     ]
    },
    {
     "data": {
      "text/plain": [
       "True"
      ]
     },
     "execution_count": 71,
     "metadata": {},
     "output_type": "execute_result"
    }
   ],
   "source": [
    "num1 <= num2"
   ]
  },
  {
   "cell_type": "code",
   "execution_count": 72,
   "id": "cc4e5f6e-ef1d-47e8-b383-ddeb0eab7deb",
   "metadata": {},
   "outputs": [
    {
     "name": "stdout",
     "output_type": "stream",
     "text": [
      "__ge__\n"
     ]
    },
    {
     "data": {
      "text/plain": [
       "False"
      ]
     },
     "execution_count": 72,
     "metadata": {},
     "output_type": "execute_result"
    }
   ],
   "source": [
    "num1 >= num2"
   ]
  },
  {
   "cell_type": "code",
   "execution_count": null,
   "id": "32d09bda-0c54-40fd-b2b3-3b2d9426bef0",
   "metadata": {},
   "outputs": [],
   "source": []
  }
 ],
 "metadata": {
  "kernelspec": {
   "display_name": "Python 3 (ipykernel)",
   "language": "python",
   "name": "python3"
  },
  "language_info": {
   "codemirror_mode": {
    "name": "ipython",
    "version": 3
   },
   "file_extension": ".py",
   "mimetype": "text/x-python",
   "name": "python",
   "nbconvert_exporter": "python",
   "pygments_lexer": "ipython3",
   "version": "3.9.7"
  }
 },
 "nbformat": 4,
 "nbformat_minor": 5
}
