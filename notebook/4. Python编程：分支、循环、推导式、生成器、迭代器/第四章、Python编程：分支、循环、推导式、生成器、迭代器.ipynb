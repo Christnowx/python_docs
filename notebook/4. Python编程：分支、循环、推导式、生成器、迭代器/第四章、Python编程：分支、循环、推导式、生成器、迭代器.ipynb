{
 "cells": [
  {
   "cell_type": "markdown",
   "id": "09c02179-6f49-464a-8955-ae304113c4a7",
   "metadata": {},
   "source": [
    "# **花卷学Python**\n",
    "---\n",
    "\n",
    "> **我年纪轻轻就学会了Python编程**\n",
    "\n",
    "\n",
    "# **第四章、Python编程：分支、循环、推导式、生成器、迭代器**\n",
    "\n",
    " - [x] **分支**\n",
    " - [x] **三元运算**\n",
    " - [x] **模式匹配（3.10新用法）**\n",
    " - [x] **循环**\n",
    " - [x] **海象运算**\n",
    " - [x] **推导式**\n",
    " - [x] **生成器**\n",
    " - [x] **迭代器**"
   ]
  },
  {
   "cell_type": "markdown",
   "id": "30344e48-a57f-4bff-8b7f-61220a7e54db",
   "metadata": {},
   "source": [
    "---"
   ]
  },
  {
   "cell_type": "markdown",
   "id": "631fc2be-f381-40c3-81e2-197c7418ceb2",
   "metadata": {},
   "source": [
    "# **一、分支结构**\n",
    "\n",
    "---\n",
    "\n",
    "**Python分支结构即为：条件语句，跟其他语言基本一致的，都是通过一条或多条语句的执行结果（ True 或者 False ）来决定执行的代码块。**\n",
    "\n",
    "**Python 程序语言指定任何非 0 和非空（None）值为 True，0 或者 None 为 False。**\n",
    "\n",
    "**执行的流程图如下：**\n",
    "\n",
    "![条件流程图](./images/条件流程图.png)"
   ]
  },
  {
   "cell_type": "markdown",
   "id": "8d525afe-b69f-468a-813b-599a9b7bd734",
   "metadata": {},
   "source": [
    "### **Python实现分支结构使用以下关键字实现：**\n",
    "\n",
    "### **第一种：if else结构表示单个分支**\n",
    "\n",
    "```python\n",
    "\n",
    "if 判断条件：\n",
    "\n",
    "    执行语句……\n",
    "    \n",
    "else：\n",
    "\n",
    "    执行语句……\n",
    "\n",
    "```\n",
    "\n",
    "> Python 语言有着严格的缩进要求，因此这里也需要注意缩进，相同缩进表示同一代码块，也不要少写了冒号 `:` 。\n",
    "> \n",
    "> if 语句的判断条件可以用>（大于）、<(小于)、==（等于）、>=（大于等于）、<=（小于等于）来表示其关系，还可以使用：is 、not is等等。\n",
    "\n",
    "\n",
    "### **第二种：if elif else结构表示多个分支**\n",
    "\n",
    "```python\n",
    "\n",
    "if 判断条件1:\n",
    "    \n",
    "    执行语句1……\n",
    "    \n",
    "elif 判断条件2:\n",
    "    \n",
    "    执行语句2……\n",
    "    \n",
    "elif 判断条件3:\n",
    "    \n",
    "    执行语句3……\n",
    "    \n",
    "else:\n",
    "    \n",
    "    执行语句4……\n",
    "\n",
    "```"
   ]
  },
  {
   "cell_type": "markdown",
   "id": "78225145-d3d2-49da-b7db-b368025cc004",
   "metadata": {},
   "source": [
    "## **Example**"
   ]
  },
  {
   "cell_type": "code",
   "execution_count": 1,
   "id": "2e195d1f-a2f7-441d-8d20-e356a19b1136",
   "metadata": {},
   "outputs": [
    {
     "name": "stdout",
     "output_type": "stream",
     "text": [
      "及格了\n"
     ]
    }
   ],
   "source": [
    "### 学生分数\n",
    "\n",
    "score = 80\n",
    "\n",
    "if score >=60:               ### 表示 大于等于 60 分\n",
    "    print('及格了')\n",
    "else:                        ### else表示 小于 60 分，即取上面判断反面\n",
    "    print('对不起，没有及格')"
   ]
  },
  {
   "cell_type": "code",
   "execution_count": 2,
   "id": "5da159cb-63fb-4316-891d-1952af5de4e9",
   "metadata": {},
   "outputs": [
    {
     "name": "stdout",
     "output_type": "stream",
     "text": [
      "对不起，没有及格\n"
     ]
    }
   ],
   "source": [
    "score = 50\n",
    "\n",
    "if score >=60:\n",
    "    print('及格了')\n",
    "else:\n",
    "    print('对不起，没有及格')"
   ]
  },
  {
   "cell_type": "code",
   "execution_count": 16,
   "id": "9843abac-4d5c-40c7-a2d2-f76995c08e87",
   "metadata": {},
   "outputs": [
    {
     "name": "stdout",
     "output_type": "stream",
     "text": [
      "分数列表存在score\n"
     ]
    }
   ],
   "source": [
    "score = 80\n",
    "\n",
    "score_list = [100,90,80]\n",
    "\n",
    "if score in score_list:\n",
    "    print(\"分数列表存在score\")\n",
    "else:\n",
    "    print(\"分数列表不存在score\")"
   ]
  },
  {
   "cell_type": "code",
   "execution_count": 3,
   "id": "8a9c5845-9c0d-4707-8c5c-2ee60c65dc74",
   "metadata": {},
   "outputs": [
    {
     "name": "stdout",
     "output_type": "stream",
     "text": [
      "虽然不够优秀，但已经非常厉害\n"
     ]
    }
   ],
   "source": [
    "### 学生分数进化版\n",
    "\n",
    "score = 80\n",
    "\n",
    "if score >= 90:                           ###  大于等于 90\n",
    "    print('非常优秀')\n",
    "elif score >= 80:                         ###  取反上一个 if，表示 大于等于80并且小于90 \n",
    "    print('虽然不够优秀，但已经非常厉害')\n",
    "elif score >= 70:                         ### 取反上一个 if，表示 大于等于70并且小于80\n",
    "    print('再努力一点就会很厉害')\n",
    "elif score >= 60:                         ### 取反上一个 if，表示 大于等于60并且小于70\n",
    "    print('刚好及格')\n",
    "else:                                     ### 取反上面所有判断，表示 小于 60\n",
    "    print('对不起，没有及格')"
   ]
  },
  {
   "cell_type": "markdown",
   "id": "c722154f-fa18-4688-b580-43877fcf6450",
   "metadata": {},
   "source": [
    "### **需要注意：多个if、elif、else的时候，elif和else取反的是上面 `同一缩进下最近的if判断`，例如：**"
   ]
  },
  {
   "cell_type": "code",
   "execution_count": 4,
   "id": "2fed4ad7-9d67-4096-b40e-13a5fb15c88a",
   "metadata": {},
   "outputs": [
    {
     "name": "stdout",
     "output_type": "stream",
     "text": [
      "哈哈哈哈\n",
      "虽然不够优秀，但已经非常厉害\n"
     ]
    }
   ],
   "source": [
    "score = 80\n",
    "\n",
    "if score >= 80:\n",
    "    print('哈哈哈哈')\n",
    "    \n",
    "if score >= 90:                           ###  大于等于 90\n",
    "    print('非常优秀')\n",
    "elif score >= 80:                         ###  取反上一个 if，表示 大于等于80并且小于90 \n",
    "    print('虽然不够优秀，但已经非常厉害')\n",
    "elif score >= 70:                         ### 取反上一个 if，表示 大于等于70并且小于80\n",
    "    print('再努力一点就会很厉害')\n",
    "elif score >= 60:                         ### 取反上一个 if，表示 大于等于60并且小于70\n",
    "    print('刚好及格')\n",
    "else:                                     ### 取反上面所有判断，表示 小于 60\n",
    "    print('对不起，没有及格')"
   ]
  },
  {
   "cell_type": "markdown",
   "id": "88e315fb-2f3e-4fe4-b252-b1c829f5c214",
   "metadata": {},
   "source": [
    "### **上述判断条件为一个，当判断条件有多个时可以使用：小括号、and、or**\n",
    "\n",
    "- **or （或）表示两个条件有一个成立时判断条件成功**\n",
    "\n",
    "- **and （与）表示只有两个条件同时成立的情况下，判断条件才成功。****\n",
    "\n",
    "\n",
    "**其中：or的取反为and，and取反为or**"
   ]
  },
  {
   "cell_type": "code",
   "execution_count": 5,
   "id": "cc4aa4c6-11a6-4b2c-af5f-fe97d961f3e9",
   "metadata": {},
   "outputs": [
    {
     "name": "stdout",
     "output_type": "stream",
     "text": [
      "对不起，语文，数学，英语有不优秀的学科\n"
     ]
    }
   ],
   "source": [
    "shuxue = 80\n",
    "yuwen = 90\n",
    "yingyu = 100\n",
    "\n",
    "    \n",
    "if (shuxue >= 90) and (yuwen >= 90) and (yingyu >= 90):    ###  表示三门学科都大于等于 90，其中小括号可以去掉\n",
    "    print('非常优秀')\n",
    "else:                                                      ### 取反上面所有判断，表示 (shuxue < 90) or (yuwen < 90) or (yingyu < 90)\n",
    "    print('对不起，语文，数学，英语有不优秀的学科')"
   ]
  },
  {
   "cell_type": "markdown",
   "id": "9e8e6b01-6e4d-4658-930c-5e3ad18e27d0",
   "metadata": {},
   "source": [
    "## **if语句的嵌套**\n",
    "\n",
    "**if 语句中可以嵌套 if 语句，同一级别的代码块使用同一缩进即可**\n",
    "\n",
    "**例如，上述例子还可以等价写成：**"
   ]
  },
  {
   "cell_type": "code",
   "execution_count": 7,
   "id": "485bf119-6ca9-418e-932b-7a92c4022695",
   "metadata": {},
   "outputs": [
    {
     "name": "stdout",
     "output_type": "stream",
     "text": [
      "对不起，数学不够优秀\n"
     ]
    }
   ],
   "source": [
    "shuxue = 80\n",
    "yuwen = 90\n",
    "yingyu = 100\n",
    "\n",
    "    \n",
    "if shuxue >= 90:                              ###  表示 shuxue 大于等于 90\n",
    "    print('数学优秀')\n",
    "    if yuwen >= 90:                           ###  表示 yuwen 大于等于 90\n",
    "        print('语文优秀')\n",
    "        if yingyu >= 90:                      ###  表示 yingyu 大于等于 90\n",
    "            print('英语优秀')\n",
    "        else:                                 ###  取反同缩进的if，即第三个if，表示 yingyu < 90\n",
    "            print('对不起，英语不够优秀')\n",
    "    else:                                     ###  取反同缩进的if，即第二个if，表示 yuwen < 90\n",
    "        print('对不起，语文不够优秀')\n",
    "else:                                         ###  取反同缩进的if，即第一个if，表示 shuxue < 90\n",
    "    print('对不起，数学不够优秀')"
   ]
  },
  {
   "cell_type": "code",
   "execution_count": 9,
   "id": "c149874d-781b-426a-93da-7de9aaa83ff0",
   "metadata": {},
   "outputs": [
    {
     "name": "stdout",
     "output_type": "stream",
     "text": [
      "数学优秀\n",
      "语文优秀\n",
      "对不起，英语不够优秀\n"
     ]
    }
   ],
   "source": [
    "shuxue = 100\n",
    "yuwen = 100\n",
    "yingyu = 80\n",
    "\n",
    "    \n",
    "if shuxue >= 90:                              ###  表示 shuxue 大于等于 90\n",
    "    print('数学优秀')\n",
    "    if yuwen >= 90:                           ###  表示 yuwen 大于等于 90\n",
    "        print('语文优秀')\n",
    "        if yingyu >= 90:                      ###  表示 yingyu 大于等于 90\n",
    "            print('英语优秀')\n",
    "        else:                                 ###  取反同缩进的if，即第三个if，表示 yingyu < 90\n",
    "            print('对不起，英语不够优秀')\n",
    "    else:                                     ###  取反同缩进的if，即第二个if，表示 yuwen < 90\n",
    "        print('对不起，语文不够优秀')\n",
    "else:                                         ###  取反同缩进的if，即第一个if，表示 shuxue < 90\n",
    "    print('对不起，数学不够优秀')"
   ]
  },
  {
   "cell_type": "markdown",
   "id": "47793690-469d-4016-92c0-c35f9b77f1c7",
   "metadata": {},
   "source": [
    "---"
   ]
  },
  {
   "cell_type": "markdown",
   "id": "1d354d67-0761-446a-b143-0fc910bca665",
   "metadata": {},
   "source": [
    "# **二、三元运算**\n",
    "\n",
    "---\n",
    "\n",
    "**三元运算符就是在赋值变量的时候，可以直接加判断，然后赋值**\n",
    "\n",
    "**格式：[on_true] if [expression] else [on_false]**\n",
    "\n",
    "**result = 值1 if 条件 else 值2**"
   ]
  },
  {
   "cell_type": "code",
   "execution_count": 10,
   "id": "052ecdbe-5332-4748-8ead-186917aba1c9",
   "metadata": {},
   "outputs": [
    {
     "data": {
      "text/plain": [
       "0"
      ]
     },
     "execution_count": 10,
     "metadata": {},
     "output_type": "execute_result"
    }
   ],
   "source": [
    "a = 1\n",
    "b = 10 if a > 10 else 0\n",
    "b"
   ]
  },
  {
   "cell_type": "markdown",
   "id": "17e5ebd0-c641-4ec8-8388-b7c6f1456422",
   "metadata": {},
   "source": [
    "前面的语句b = 10 if a > 10 else 0的含义是：\n",
    "\n",
    "- 如果 a > 10 成立，b赋值10；\n",
    "- 如果 a > 10 不成立，b赋值0。"
   ]
  },
  {
   "cell_type": "markdown",
   "id": "3f9e0f74-c39c-4bbd-a5e8-c146dee249ab",
   "metadata": {},
   "source": [
    "### **三元运算应用：两个数比较大小**"
   ]
  },
  {
   "cell_type": "code",
   "execution_count": 11,
   "id": "9ef9a0a7-ceb9-4e72-8484-5f5ae701cfae",
   "metadata": {},
   "outputs": [
    {
     "data": {
      "text/plain": [
       "11"
      ]
     },
     "execution_count": 11,
     "metadata": {},
     "output_type": "execute_result"
    }
   ],
   "source": [
    "a = 10\n",
    "b = 11\n",
    "\n",
    "max_number = a if a > b else b\n",
    "\n",
    "max_number"
   ]
  },
  {
   "cell_type": "markdown",
   "id": "81b234d7-3029-472c-9910-3b37436447d8",
   "metadata": {},
   "source": [
    "## **嵌套三元运算**\n",
    "\n",
    "**Python允许多层三元运算嵌套**\n",
    "\n",
    "**格式：[值1] if [条件1] else [值2] if [条件2] else [值3]**"
   ]
  },
  {
   "cell_type": "code",
   "execution_count": 13,
   "id": "cba6f611-138b-444d-8569-2997a1154955",
   "metadata": {},
   "outputs": [
    {
     "data": {
      "text/plain": [
       "5"
      ]
     },
     "execution_count": 13,
     "metadata": {},
     "output_type": "execute_result"
    }
   ],
   "source": [
    "a = 9\n",
    "\n",
    "b = 10 if a > 10 else 5 if a > 5 else 0\n",
    "\n",
    "b"
   ]
  },
  {
   "cell_type": "markdown",
   "id": "2e63f016-dbd3-4928-88d7-14053ba306fb",
   "metadata": {},
   "source": [
    "前面语句：b = 10 if a > 10 else 5 if a > 5 else 0 的含义是：\n",
    "\n",
    "- 如果 a > 10 成立，则b赋值10\n",
    "- 如果 a > 10 不成立，则执行下一个if\n",
    "- 如果 a > 5 成立，则b赋值5\n",
    "- 如果 a > 5 不成立，则b赋值0"
   ]
  },
  {
   "cell_type": "markdown",
   "id": "a3f1f671-d80f-4256-b07a-f32bd2b099e1",
   "metadata": {},
   "source": [
    "### **上述代码等价于**"
   ]
  },
  {
   "cell_type": "code",
   "execution_count": 14,
   "id": "4565cf15-ee57-436b-89a9-121a1651660c",
   "metadata": {},
   "outputs": [
    {
     "data": {
      "text/plain": [
       "5"
      ]
     },
     "execution_count": 14,
     "metadata": {},
     "output_type": "execute_result"
    }
   ],
   "source": [
    "a = 9\n",
    "\n",
    "if a > 10:\n",
    "    b = 10\n",
    "elif a > 5:\n",
    "    b = 5\n",
    "else:\n",
    "    b = 0\n",
    "\n",
    "b"
   ]
  },
  {
   "cell_type": "markdown",
   "id": "155b5f26-012b-4b45-8716-e7235bba6bae",
   "metadata": {},
   "source": [
    "### **多层三元运算应用：多个数比较大小**"
   ]
  },
  {
   "cell_type": "code",
   "execution_count": 15,
   "id": "e8b27a9b-efb2-4c4f-a633-2aac5f257854",
   "metadata": {},
   "outputs": [
    {
     "data": {
      "text/plain": [
       "10"
      ]
     },
     "execution_count": 15,
     "metadata": {},
     "output_type": "execute_result"
    }
   ],
   "source": [
    "a = 1\n",
    "b = 5\n",
    "c = 10\n",
    "\n",
    "max_number = a if (a > b and a > c) else b if b > c else c\n",
    "\n",
    "max_number"
   ]
  },
  {
   "cell_type": "markdown",
   "id": "c8547557-4819-417e-8157-85bf20faabe3",
   "metadata": {},
   "source": [
    "---"
   ]
  },
  {
   "cell_type": "markdown",
   "id": "beb2ffaa-5ea7-4851-b881-0599bac4753b",
   "metadata": {},
   "source": [
    "# **三、模式匹配（3.10新用法）**\n",
    "\n",
    "---\n",
    "\n",
    "**Python在3.10中更新了模式匹配功能，也就是大家所熟悉的其他语言的 `switch-case`，而Python使用关键字 `match-case`来实现。**\n",
    "\n",
    "**格式如下：**\n",
    "\n",
    "```python\n",
    "\n",
    "match 匹配值:\n",
    "    \n",
    "    case 模式1:\n",
    "        \n",
    "        执行代码1\n",
    "        \n",
    "    case 模式2:\n",
    "        \n",
    "        执行代码2\n",
    "        \n",
    "    case _:\n",
    "        \n",
    "        执行代码3\n",
    "```\n",
    "\n",
    "**上述模式匹配含义是：匹配值匹配模式如果成功则执行该模式下的代码块，最后一个符号 `_` 表示通配符，在这里匹配不包含上述模式的其他所有模式**\n",
    "\n",
    "**需要注意：case 后面的模式支持 逻辑运算、比较运算、成员运算、身份运算等等，且多个match-case可以嵌套使用，类似于 if else 结构**"
   ]
  },
  {
   "cell_type": "markdown",
   "id": "477c0168-8f2a-4a12-ae33-a17495b49823",
   "metadata": {},
   "source": [
    "## **Example**"
   ]
  },
  {
   "cell_type": "code",
   "execution_count": null,
   "id": "1bd02001-4085-493d-b87f-536ef53990f9",
   "metadata": {},
   "outputs": [],
   "source": [
    "score = 80\n",
    "\n",
    "match score:\n",
    "    case 90:\n",
    "        print('非常优秀')\n",
    "    case 80:\n",
    "        print('虽然不够优秀，但已经非常厉害')\n",
    "    case 70:\n",
    "        print('再努力一点就会很厉害')\n",
    "    case 60:\n",
    "        print('刚好及格')\n",
    "    case _:\n",
    "        print('对不起，没有及格')"
   ]
  },
  {
   "cell_type": "markdown",
   "id": "ccf63c11-934c-45f6-924b-0eb47001aa53",
   "metadata": {},
   "source": [
    "**上述代码含义：**\n",
    "\n",
    "- 匹配 score 是否是90，如果是，则输出，如果不是则进行下面case\n",
    "- 匹配 score 是否是80，如果是，则输出，如果不是则进行下面case\n",
    "- 匹配 score 是否是70，如果是，则输出，如果不是则进行下面case\n",
    "- 匹配 score 是否是60，如果是，则输出，如果不是则进行下面case\n",
    "- 通配符 `_` 匹配除上面之外的所有情况，如果是，则输出，如果不是则进行下面case"
   ]
  },
  {
   "cell_type": "markdown",
   "id": "44a047b6-5ad4-43f0-b1bd-8b1c4f0608eb",
   "metadata": {},
   "source": [
    "## **模式匹配 或模式：`|`**"
   ]
  },
  {
   "cell_type": "code",
   "execution_count": null,
   "id": "c9d66388-7de5-4787-a350-42b8ca465967",
   "metadata": {},
   "outputs": [],
   "source": [
    "score = 80\n",
    "\n",
    "match score:\n",
    "    case 90 | 80:\n",
    "        print('非常优秀')\n",
    "    case _:\n",
    "        print('对不起，没有及格')"
   ]
  },
  {
   "cell_type": "markdown",
   "id": "6d4dfe6a-c1d9-40f7-89ed-8c0643ca2c0b",
   "metadata": {},
   "source": [
    "**上述代码含义：**\n",
    "\n",
    "- 匹配 score 是否是90或者是80，如果是，则输出，如果不是则进行下面case\n",
    "- 通配符 `_` 匹配除上面之外的所有情况，如果是，则输出，如果不是则进行下面case"
   ]
  },
  {
   "cell_type": "markdown",
   "id": "1a19e103-8197-4ebe-baf3-1407f7d3852b",
   "metadata": {},
   "source": [
    "**还包含一些高级用法：在后面的课程会说到**"
   ]
  },
  {
   "cell_type": "markdown",
   "id": "790be958-c2c8-473a-83dd-7b3f2a86f08f",
   "metadata": {},
   "source": [
    "---"
   ]
  },
  {
   "cell_type": "markdown",
   "id": "0ed0fc5d-ee4b-4cab-b511-2801e854fecb",
   "metadata": {},
   "source": [
    "# **四、循环**\n",
    "\n",
    "---\n",
    "\n",
    "**循环语句允许我们执行一个语句或语句组多次，下面是在大多数编程语言中的循环语句的一般形式：。**\n",
    "\n",
    "![循环流程图](./images/循环流程图.png)"
   ]
  },
  {
   "cell_type": "markdown",
   "id": "ecfa1256-b0f9-4069-a4f5-56730412328c",
   "metadata": {},
   "source": [
    "**Python 提供了 for 循环和 while 循环（在 Python 中没有 do..while 循环）:**\n",
    "\n",
    "- **while 循环：在给定的判断条件为 true 时执行循环体，否则退出循环体。**\n",
    "- **for 循环：重复执行语句**\n",
    "- **嵌套循环：你可以在while循环体中嵌套for循环**"
   ]
  },
  {
   "cell_type": "markdown",
   "id": "b67db5dd-7b61-4edc-9dfc-ac9d1254c937",
   "metadata": {},
   "source": [
    "## **for循环语句**\n",
    "\n",
    "**格式：for 变量 in 可遍历对象**\n",
    "\n",
    "```python\n",
    "for i in [可遍历对象]:\n",
    "    执行语句块\n",
    "```\n",
    "\n",
    "**上述语句含义：**\n",
    "\n",
    "- `for`让变量`i`遍历`in`后面的可遍历对象（即`i`依次取遍历对象的每一个值），然后执行语句块\n",
    "\n",
    "**可遍历对象有：**\n",
    "- 迭代器\n",
    "- 列表\n",
    "- 集合\n",
    "- 字典\n",
    "- 元祖\n",
    "- 字符串"
   ]
  },
  {
   "cell_type": "code",
   "execution_count": 17,
   "id": "faae2e7e-6b16-4d0e-995b-d5dc0c7ea17d",
   "metadata": {},
   "outputs": [
    {
     "name": "stdout",
     "output_type": "stream",
     "text": [
      "1\n",
      "2\n",
      "3\n",
      "4\n"
     ]
    }
   ],
   "source": [
    "### 遍历列表\n",
    "\n",
    "a = [1,2,3,4]\n",
    "\n",
    "for x in a:\n",
    "    print(x)"
   ]
  },
  {
   "cell_type": "code",
   "execution_count": 27,
   "id": "32b66161-2ccf-4822-85a6-94e2398e81d3",
   "metadata": {},
   "outputs": [
    {
     "name": "stdout",
     "output_type": "stream",
     "text": [
      "10 24\n"
     ]
    }
   ],
   "source": [
    "### 累加和累乘\n",
    "\n",
    "a = [1,2,3,4]\n",
    "\n",
    "b = 0\n",
    "\n",
    "c = 1\n",
    "\n",
    "for x in a:\n",
    "    b += x\n",
    "    c *= x\n",
    "    \n",
    "print(b,c)"
   ]
  },
  {
   "cell_type": "code",
   "execution_count": 18,
   "id": "815b880a-84cd-43b8-bb80-99fa442278b4",
   "metadata": {},
   "outputs": [
    {
     "name": "stdout",
     "output_type": "stream",
     "text": [
      "1\n",
      "2\n",
      "3\n"
     ]
    }
   ],
   "source": [
    "### 遍历集合\n",
    "\n",
    "a = {1,2,3}\n",
    "\n",
    "for x in a:\n",
    "    print(x)"
   ]
  },
  {
   "cell_type": "code",
   "execution_count": 20,
   "id": "b28dc6cc-e794-4c23-b036-806ba0023d2f",
   "metadata": {},
   "outputs": [
    {
     "name": "stdout",
     "output_type": "stream",
     "text": [
      "1\n",
      "2\n",
      "3\n",
      "4\n"
     ]
    }
   ],
   "source": [
    "### 遍历元祖\n",
    "\n",
    "a = (1,2,3,4)\n",
    "\n",
    "for x in a:\n",
    "    print(x)"
   ]
  },
  {
   "cell_type": "code",
   "execution_count": 21,
   "id": "0d12f2e2-0e3f-4498-81fb-dc1207a00806",
   "metadata": {},
   "outputs": [
    {
     "name": "stdout",
     "output_type": "stream",
     "text": [
      "b\n",
      "c\n",
      "d\n"
     ]
    }
   ],
   "source": [
    "### 遍历字典\n",
    "\n",
    "a = {'b':1,'c':2,'d':3}\n",
    "\n",
    "for x in a:\n",
    "    print(x)"
   ]
  },
  {
   "cell_type": "code",
   "execution_count": 22,
   "id": "8e539731-2a00-4484-8db7-8d5a8a49196e",
   "metadata": {},
   "outputs": [
    {
     "name": "stdout",
     "output_type": "stream",
     "text": [
      "1\n",
      "2\n",
      "3\n"
     ]
    }
   ],
   "source": [
    "for x in a.values():\n",
    "    print(x)"
   ]
  },
  {
   "cell_type": "code",
   "execution_count": 26,
   "id": "307dfa41-0c4a-4679-bb03-fd323a89db86",
   "metadata": {},
   "outputs": [
    {
     "name": "stdout",
     "output_type": "stream",
     "text": [
      "b 1\n",
      "c 2\n",
      "d 3\n"
     ]
    }
   ],
   "source": [
    "for x in a.keys():\n",
    "    print(x, a[x])"
   ]
  },
  {
   "cell_type": "code",
   "execution_count": 24,
   "id": "e62c8ac5-1ae9-4041-986a-26056eed4afd",
   "metadata": {},
   "outputs": [
    {
     "name": "stdout",
     "output_type": "stream",
     "text": [
      "('b', 1)\n",
      "('c', 2)\n",
      "('d', 3)\n"
     ]
    }
   ],
   "source": [
    "for x in a.items():\n",
    "    print(x)"
   ]
  },
  {
   "cell_type": "markdown",
   "id": "8377336f-4097-4a51-913a-3102b6514620",
   "metadata": {},
   "source": [
    "**for 循环支持多个变量用逗号分割**\n",
    "\n",
    "**格式：for 变量1,变量2,... in 可遍历对象**\n",
    "\n",
    "**前提是：可遍历对象可以打包成多个变量嵌套的形式**"
   ]
  },
  {
   "cell_type": "code",
   "execution_count": 25,
   "id": "9ec9ad40-454e-41ed-997e-09adfd78c630",
   "metadata": {},
   "outputs": [
    {
     "name": "stdout",
     "output_type": "stream",
     "text": [
      "b 1\n",
      "c 2\n",
      "d 3\n"
     ]
    }
   ],
   "source": [
    "for x,y in a.items():\n",
    "    print(x,y)"
   ]
  },
  {
   "cell_type": "code",
   "execution_count": 43,
   "id": "eeb27ad4-2f7b-43c4-ae5c-6225a4f8e00b",
   "metadata": {},
   "outputs": [
    {
     "ename": "TypeError",
     "evalue": "cannot unpack non-iterable int object",
     "output_type": "error",
     "traceback": [
      "\u001b[1;31m---------------------------------------------------------------------------\u001b[0m",
      "\u001b[1;31mTypeError\u001b[0m                                 Traceback (most recent call last)",
      "\u001b[1;32m~\\AppData\\Local\\Temp/ipykernel_20848/491791568.py\u001b[0m in \u001b[0;36m<module>\u001b[1;34m\u001b[0m\n\u001b[0;32m      1\u001b[0m \u001b[0ma\u001b[0m \u001b[1;33m=\u001b[0m \u001b[1;33m[\u001b[0m\u001b[1;36m1\u001b[0m\u001b[1;33m,\u001b[0m\u001b[1;36m2\u001b[0m\u001b[1;33m,\u001b[0m\u001b[1;36m3\u001b[0m\u001b[1;33m]\u001b[0m\u001b[1;33m\u001b[0m\u001b[1;33m\u001b[0m\u001b[0m\n\u001b[0;32m      2\u001b[0m \u001b[1;33m\u001b[0m\u001b[0m\n\u001b[1;32m----> 3\u001b[1;33m \u001b[1;32mfor\u001b[0m \u001b[0mx\u001b[0m\u001b[1;33m,\u001b[0m\u001b[0my\u001b[0m \u001b[1;32min\u001b[0m \u001b[0ma\u001b[0m\u001b[1;33m:\u001b[0m\u001b[1;33m\u001b[0m\u001b[1;33m\u001b[0m\u001b[0m\n\u001b[0m\u001b[0;32m      4\u001b[0m     \u001b[0mprint\u001b[0m\u001b[1;33m(\u001b[0m\u001b[0mx\u001b[0m\u001b[1;33m,\u001b[0m\u001b[0my\u001b[0m\u001b[1;33m)\u001b[0m\u001b[1;33m\u001b[0m\u001b[1;33m\u001b[0m\u001b[0m\n",
      "\u001b[1;31mTypeError\u001b[0m: cannot unpack non-iterable int object"
     ]
    }
   ],
   "source": [
    "a = [1,2,3]\n",
    "\n",
    "for x,y in a:\n",
    "    print(x,y)"
   ]
  },
  {
   "cell_type": "markdown",
   "id": "658e3dc9-511d-430a-9c70-b77388c30d55",
   "metadata": {},
   "source": [
    "### **enumerate**\n",
    "\n",
    "**enumerate() 函数用于将一个可遍历的数据对象(如列表、元组或字符串)组合为一个索引序列，同时列出数据和数据下标，一般用在 for 循环当中。**\n",
    "\n",
    "**格式：enumerate(sequence, [start=0])**\n",
    "\n",
    "**上述含义是：**\n",
    "\n",
    "- **sequence -- 一个序列、迭代器或其他支持迭代对象。**\n",
    "- **start -- 下标起始位置的值（一般不写：Python下标都是从0开始，定义这个容易混淆）。**"
   ]
  },
  {
   "cell_type": "code",
   "execution_count": 28,
   "id": "8362fa41-5584-4d94-908f-4ab2fd621cd1",
   "metadata": {},
   "outputs": [
    {
     "name": "stdout",
     "output_type": "stream",
     "text": [
      "0 1\n",
      "1 2\n",
      "2 3\n"
     ]
    }
   ],
   "source": [
    "### 更新列表值\n",
    "\n",
    "a = [1,2,3]\n",
    "\n",
    "for x,y in enumerate(a):\n",
    "    print(x,y)"
   ]
  },
  {
   "cell_type": "code",
   "execution_count": 32,
   "id": "77022802-426d-49b1-bdd4-5c4b56d85b43",
   "metadata": {},
   "outputs": [
    {
     "name": "stdout",
     "output_type": "stream",
     "text": [
      "1 1\n",
      "2 2\n",
      "3 3\n"
     ]
    }
   ],
   "source": [
    "a = [1,2,3]\n",
    "\n",
    "for x,y in enumerate(a,1):\n",
    "    print(x,y)"
   ]
  },
  {
   "cell_type": "code",
   "execution_count": 29,
   "id": "f0156bff-1f3e-4bcc-8ea9-a4fc5e0bc7c5",
   "metadata": {},
   "outputs": [
    {
     "data": {
      "text/plain": [
       "[2, 3, 4]"
      ]
     },
     "execution_count": 29,
     "metadata": {},
     "output_type": "execute_result"
    }
   ],
   "source": [
    "a = [1,2,3]\n",
    "\n",
    "for x,y in enumerate(a):\n",
    "    a[x] = y + 1\n",
    "    \n",
    "a"
   ]
  },
  {
   "cell_type": "code",
   "execution_count": 30,
   "id": "8efcbe7a-3ac4-47c9-8f39-04ac29b957ab",
   "metadata": {},
   "outputs": [
    {
     "name": "stdout",
     "output_type": "stream",
     "text": [
      "h h\n",
      "e e\n",
      "l l\n",
      "l l\n",
      "o o\n"
     ]
    }
   ],
   "source": [
    "a = 'hello'\n",
    "for x,y in enumerate(a):\n",
    "    print(a[x],y)"
   ]
  },
  {
   "cell_type": "markdown",
   "id": "54056fae-9ee3-4569-a5f4-4870f1f3eaf8",
   "metadata": {},
   "source": [
    "### **range**\n",
    "\n",
    "**range() 函数可创建一个可遍历的整数列表，一般用在 for 循环中。。**\n",
    "\n",
    "**格式：range(start, stop[, step])，且左闭右开**\n",
    "\n",
    "**上述含义是：**\n",
    "\n",
    "- **start: 计数从 start 开始。默认是从 0 开始。例如range（5）等价于range（0， 5）;**\n",
    "- **stop: 计数到 stop 结束，但不包括 stop。例如：range（0， 5） 是[0, 1, 2, 3, 4]没有5**\n",
    "- **step：步长，默认为1。例如：range（0， 5） 等价于 range(0, 5, 1)**\n",
    "\n",
    "**需要注意的是：step只支持整数不支持小数，可以为负数**"
   ]
  },
  {
   "cell_type": "code",
   "execution_count": 35,
   "id": "d445b2b1-15d3-4e1d-9b2c-375771d6cd42",
   "metadata": {},
   "outputs": [
    {
     "ename": "TypeError",
     "evalue": "'float' object cannot be interpreted as an integer",
     "output_type": "error",
     "traceback": [
      "\u001b[1;31m---------------------------------------------------------------------------\u001b[0m",
      "\u001b[1;31mTypeError\u001b[0m                                 Traceback (most recent call last)",
      "\u001b[1;32m~\\AppData\\Local\\Temp/ipykernel_20848/2127495065.py\u001b[0m in \u001b[0;36m<module>\u001b[1;34m\u001b[0m\n\u001b[1;32m----> 1\u001b[1;33m \u001b[1;32mfor\u001b[0m \u001b[0mx\u001b[0m \u001b[1;32min\u001b[0m \u001b[0mrange\u001b[0m\u001b[1;33m(\u001b[0m\u001b[1;36m1\u001b[0m\u001b[1;33m,\u001b[0m\u001b[1;36m5\u001b[0m\u001b[1;33m,\u001b[0m\u001b[1;36m0.1\u001b[0m\u001b[1;33m)\u001b[0m\u001b[1;33m:\u001b[0m\u001b[1;33m\u001b[0m\u001b[1;33m\u001b[0m\u001b[0m\n\u001b[0m\u001b[0;32m      2\u001b[0m     \u001b[0mprint\u001b[0m\u001b[1;33m(\u001b[0m\u001b[0mx\u001b[0m\u001b[1;33m)\u001b[0m\u001b[1;33m\u001b[0m\u001b[1;33m\u001b[0m\u001b[0m\n",
      "\u001b[1;31mTypeError\u001b[0m: 'float' object cannot be interpreted as an integer"
     ]
    }
   ],
   "source": [
    "for x in range(1,5,0.1):\n",
    "    print(x)"
   ]
  },
  {
   "cell_type": "code",
   "execution_count": 36,
   "id": "c23f7482-0f25-45a5-977a-b86f15b4e5c5",
   "metadata": {},
   "outputs": [
    {
     "name": "stdout",
     "output_type": "stream",
     "text": [
      "0\n",
      "1\n",
      "2\n",
      "3\n",
      "4\n"
     ]
    }
   ],
   "source": [
    "for x in range(5):\n",
    "    print(x)"
   ]
  },
  {
   "cell_type": "code",
   "execution_count": 39,
   "id": "0e8fc581-2a5d-49a2-9b7d-22e1404d10e5",
   "metadata": {},
   "outputs": [
    {
     "name": "stdout",
     "output_type": "stream",
     "text": [
      "5\n",
      "4\n",
      "3\n",
      "2\n",
      "1\n"
     ]
    }
   ],
   "source": [
    "for x in range(5,0,-1):\n",
    "    print(x)"
   ]
  },
  {
   "cell_type": "markdown",
   "id": "3ef00217-1294-4207-8d86-016309affb1c",
   "metadata": {},
   "source": [
    "### **需要注意：range经常和enumerate搭配使用**"
   ]
  },
  {
   "cell_type": "code",
   "execution_count": 42,
   "id": "a7bbeb6b-8686-436a-b32a-2f2e1f3fb59e",
   "metadata": {},
   "outputs": [
    {
     "name": "stdout",
     "output_type": "stream",
     "text": [
      "0 0\n",
      "1 1\n",
      "2 2\n",
      "3 3\n",
      "4 4\n"
     ]
    }
   ],
   "source": [
    "for x,y in enumerate(range(5)):\n",
    "    print(x,y)"
   ]
  },
  {
   "cell_type": "markdown",
   "id": "7fb14bad-a275-427b-90f4-e999d2c96078",
   "metadata": {},
   "source": [
    "### **循环可以嵌套循环表示多层循环，以缩进表示包含**"
   ]
  },
  {
   "cell_type": "code",
   "execution_count": 44,
   "id": "dba4b802-5b7c-4ba6-a159-ea06df1807e6",
   "metadata": {},
   "outputs": [
    {
     "name": "stdout",
     "output_type": "stream",
     "text": [
      "0\n",
      "1\n",
      "2\n",
      "1\n",
      "2\n",
      "3\n",
      "2\n",
      "3\n",
      "4\n"
     ]
    }
   ],
   "source": [
    "### 计算 从1到3 自己加自己\n",
    "\n",
    "for i in range(3):\n",
    "    for j in range(3):\n",
    "        print(i + j)"
   ]
  },
  {
   "cell_type": "code",
   "execution_count": 45,
   "id": "2900ea7a-4912-45af-a8bc-32de67ebaf9f",
   "metadata": {},
   "outputs": [
    {
     "name": "stdout",
     "output_type": "stream",
     "text": [
      "1*1=1 \t\n",
      "1*2=2 \t2*2=4 \t\n",
      "1*3=3 \t2*3=6 \t3*3=9 \t\n",
      "1*4=4 \t2*4=8 \t3*4=12 \t4*4=16 \t\n",
      "1*5=5 \t2*5=10 \t3*5=15 \t4*5=20 \t5*5=25 \t\n",
      "1*6=6 \t2*6=12 \t3*6=18 \t4*6=24 \t5*6=30 \t6*6=36 \t\n",
      "1*7=7 \t2*7=14 \t3*7=21 \t4*7=28 \t5*7=35 \t6*7=42 \t7*7=49 \t\n",
      "1*8=8 \t2*8=16 \t3*8=24 \t4*8=32 \t5*8=40 \t6*8=48 \t7*8=56 \t8*8=64 \t\n",
      "1*9=9 \t2*9=18 \t3*9=27 \t4*9=36 \t5*9=45 \t6*9=54 \t7*9=63 \t8*9=72 \t9*9=81 \t\n"
     ]
    }
   ],
   "source": [
    "### 打印九九乘法表\n",
    "\n",
    "for i in range(1, 10):\n",
    "    for j in range(1, 1 + i):\n",
    "        print(f'{j}*{i}={i * j}', '', end='\\t')\n",
    "    print()"
   ]
  },
  {
   "cell_type": "markdown",
   "id": "89b8dabf-02cb-4dad-9fad-3f7c8c11e78d",
   "metadata": {},
   "source": [
    "## **while循环语句**\n",
    "\n",
    "**Python中 while 语句用于循环执行程序，即在某条件下，循环执行某段程序，以处理需要重复处理的相同任务。其基本形式为：**\n",
    "\n",
    "```python\n",
    "while 判断条件(condition)：\n",
    "    执行语句(statements)……\n",
    "```\n",
    "\n",
    "**上述语句含义：**\n",
    "\n",
    "- 当判断条件为True时，执行语句块，否则终止"
   ]
  },
  {
   "cell_type": "code",
   "execution_count": 46,
   "id": "ab3a6283-b1cc-4f28-ad64-146ec914c224",
   "metadata": {},
   "outputs": [
    {
     "name": "stdout",
     "output_type": "stream",
     "text": [
      "0\n",
      "1\n",
      "2\n",
      "3\n",
      "4\n"
     ]
    }
   ],
   "source": [
    "a = 0\n",
    "\n",
    "while a < 5:\n",
    "    print(a)\n",
    "    a += 1"
   ]
  },
  {
   "cell_type": "markdown",
   "id": "53c97142-53ec-44ff-806d-328698328b39",
   "metadata": {},
   "source": [
    "### **无限循环：不建议使用很危险**\n",
    "\n",
    "```python\n",
    "while True:\n",
    "    print('hahaha')\n",
    "\n",
    "```\n",
    "\n",
    "**当while后面的判断条件永远是True的时候就不会停止**"
   ]
  },
  {
   "cell_type": "markdown",
   "id": "80d13081-ba18-4f31-9021-c6bcbc017a95",
   "metadata": {},
   "source": [
    "## **循环搭配条件语句**\n",
    "\n",
    "**Python中的for和while经常搭配条件语句使用实现更复杂的功能**\n",
    "\n",
    "**格式：**\n",
    "\n",
    "```python\n",
    "\n",
    "for 变量 in 可遍历对象:\n",
    "    if 判断条件:\n",
    "        执行语句块\n",
    "    else:\n",
    "        执行语句块\n",
    "\n",
    "```\n",
    "\n",
    "```python\n",
    "\n",
    "while 判断条件:\n",
    "    if 判断条件:\n",
    "        执行语句块\n",
    "    else:\n",
    "        执行语句块\n",
    "\n",
    "```"
   ]
  },
  {
   "cell_type": "code",
   "execution_count": 48,
   "id": "0ea5991b-bb61-4109-ad5a-6a546ea36ce9",
   "metadata": {},
   "outputs": [
    {
     "name": "stdout",
     "output_type": "stream",
     "text": [
      "0\n",
      "2\n",
      "4\n",
      "6\n",
      "8\n"
     ]
    }
   ],
   "source": [
    "### 取双数\n",
    "\n",
    "for i in range(10):\n",
    "    if i % 2 == 0:\n",
    "        print(i)"
   ]
  },
  {
   "cell_type": "code",
   "execution_count": 50,
   "id": "633009a8-354b-4304-a71d-cd693af0d600",
   "metadata": {},
   "outputs": [
    {
     "name": "stdout",
     "output_type": "stream",
     "text": [
      "0\n",
      "2\n",
      "4\n",
      "6\n",
      "8\n"
     ]
    }
   ],
   "source": [
    "### 取双数\n",
    "\n",
    "a = 0\n",
    "\n",
    "while a < 10:\n",
    "    if a % 2 == 0:\n",
    "        print(a)\n",
    "    a += 1"
   ]
  },
  {
   "cell_type": "markdown",
   "id": "89cc4428-fb36-4990-8237-8f0bfca60922",
   "metadata": {},
   "source": [
    "## **循环控制语句**\n",
    "\n",
    "**循环控制语句可以更改语句执行的顺序。Python支持以下循环控制语句：**\n",
    "\n",
    "- **break 语句：在语句块执行过程中终止循环，并且跳出整个循环**\n",
    "- **continue 语句：在语句块执行过程中终止当前循环，跳出该次循环，执行下一次循环。**\n",
    "- **pass 语句：pass是空语句，是为了保持程序结构的完整性，一般作为占位符**"
   ]
  },
  {
   "cell_type": "code",
   "execution_count": 54,
   "id": "737ac3a0-3375-41df-877b-7a1539185bff",
   "metadata": {},
   "outputs": [
    {
     "name": "stdout",
     "output_type": "stream",
     "text": [
      "0\n",
      "1\n",
      "2\n",
      "3\n",
      "4\n",
      "5\n"
     ]
    }
   ],
   "source": [
    "for i in range(10):\n",
    "    print(i)\n",
    "    if i >= 5:\n",
    "        break"
   ]
  },
  {
   "cell_type": "code",
   "execution_count": 55,
   "id": "1a4e3596-82e2-4884-9ae8-01f8f12222ee",
   "metadata": {},
   "outputs": [
    {
     "name": "stdout",
     "output_type": "stream",
     "text": [
      "0\n",
      "1\n",
      "2\n",
      "3\n",
      "4\n",
      "5\n",
      "6\n",
      "7\n",
      "8\n",
      "9\n"
     ]
    }
   ],
   "source": [
    "for i in range(10):\n",
    "    print(i)\n",
    "    if i >= 5:\n",
    "        continue"
   ]
  },
  {
   "cell_type": "code",
   "execution_count": 58,
   "id": "707ce090-c5dc-4357-bac4-0836d625c8df",
   "metadata": {},
   "outputs": [
    {
     "name": "stdout",
     "output_type": "stream",
     "text": [
      "0\n",
      "1\n",
      "2\n",
      "3\n",
      "4\n",
      "5\n"
     ]
    }
   ],
   "source": [
    "a = 0\n",
    "\n",
    "while a <= 10:\n",
    "    if a<=5:\n",
    "        print(a)\n",
    "    else:\n",
    "        break\n",
    "    a += 1"
   ]
  },
  {
   "cell_type": "code",
   "execution_count": 56,
   "id": "f6b41c43-7553-4f2b-97cb-5037d43fccd1",
   "metadata": {},
   "outputs": [],
   "source": [
    "for i in range(5):\n",
    "    pass"
   ]
  },
  {
   "cell_type": "markdown",
   "id": "916435cb-a74f-4961-a388-f0d58d42890e",
   "metadata": {},
   "source": [
    "## **for和while搭配else使用**\n",
    "\n",
    "**for else 中的语句会在循环正常执行完，while else同理**\n",
    "\n",
    "**格式：**\n",
    "\n",
    "```python\n",
    "\n",
    "for 变量 in 可遍历对象:\n",
    "    执行语句\n",
    "else:\n",
    "    执行语句\n",
    "\n",
    "```\n",
    "\n",
    "```python\n",
    "\n",
    "while 判断条件:\n",
    "    执行语句\n",
    "else:\n",
    "    执行语句\n",
    "\n",
    "```\n",
    "\n",
    "**需要注意：for else 只有在 for 不是通过 break 跳出而中断的的情况下执行，while else同理**"
   ]
  },
  {
   "cell_type": "code",
   "execution_count": 64,
   "id": "a6f02076-9692-4c27-9586-b6b9ec690968",
   "metadata": {},
   "outputs": [
    {
     "name": "stdout",
     "output_type": "stream",
     "text": [
      "4\n"
     ]
    }
   ],
   "source": [
    "for i in range(5):\n",
    "    pass\n",
    "else:\n",
    "    print(i)"
   ]
  },
  {
   "cell_type": "code",
   "execution_count": 63,
   "id": "10b32580-3771-4495-a120-3375866bb311",
   "metadata": {},
   "outputs": [],
   "source": [
    "for i in range(10):\n",
    "    if i >= 5:\n",
    "        break\n",
    "else:\n",
    "    print(i)"
   ]
  },
  {
   "cell_type": "code",
   "execution_count": 62,
   "id": "09e34964-9082-49b8-a991-9543e28cb03a",
   "metadata": {},
   "outputs": [
    {
     "name": "stdout",
     "output_type": "stream",
     "text": [
      "9\n"
     ]
    }
   ],
   "source": [
    "for i in range(10):\n",
    "    if i >= 5:\n",
    "        continue\n",
    "else:\n",
    "    print(i)"
   ]
  },
  {
   "cell_type": "code",
   "execution_count": 65,
   "id": "f756be6d-320f-43c0-aed5-1434e075ff38",
   "metadata": {},
   "outputs": [
    {
     "name": "stdout",
     "output_type": "stream",
     "text": [
      "11\n"
     ]
    }
   ],
   "source": [
    "a = 0\n",
    "while a <= 10:\n",
    "    a += 1\n",
    "else:\n",
    "    print(a)"
   ]
  },
  {
   "cell_type": "code",
   "execution_count": 71,
   "id": "32b09c0d-3566-45a7-9062-da22c7d862c5",
   "metadata": {},
   "outputs": [],
   "source": [
    "a = 0\n",
    "while a <= 10:\n",
    "    if a >= 5:\n",
    "        break\n",
    "    a += 1\n",
    "else:\n",
    "    print(a)"
   ]
  },
  {
   "cell_type": "markdown",
   "id": "063908bc-ede2-49df-bb35-539450f4d825",
   "metadata": {},
   "source": [
    "---"
   ]
  },
  {
   "cell_type": "markdown",
   "id": "92146e2d-282e-427d-aef4-97f6578ba88c",
   "metadata": {},
   "source": [
    "# **五、海象运算**\n",
    "\n",
    "---\n",
    "\n",
    "**在Python编程中我们经常会遇到一些中间变量或者临时的运算，往往做判断或者计算时需要计算多次，为了避免这种情况，新增了海象运算符，它可以对中间变量赋值，提高运行速度**\n",
    "\n",
    "**使用：`:=` 表示海象运算符，因为它看起来就是一个海象旋转 90° 而成。**\n",
    "\n",
    "- **格式：`(variable_name := expression or value)`**\n",
    "\n",
    "**它经常搭配if 和 while使用**"
   ]
  },
  {
   "cell_type": "code",
   "execution_count": 72,
   "id": "3c8ed02a-2f27-46b1-91e3-5159975a5498",
   "metadata": {},
   "outputs": [
    {
     "name": "stdout",
     "output_type": "stream",
     "text": [
      "3\n"
     ]
    }
   ],
   "source": [
    "### 计算两次\n",
    "\n",
    "a = [1,2,3]\n",
    "\n",
    "if len(a) > 0:\n",
    "    print(len(a))"
   ]
  },
  {
   "cell_type": "code",
   "execution_count": 73,
   "id": "6ec89b41-8421-43fd-91f8-1057b322736a",
   "metadata": {},
   "outputs": [
    {
     "name": "stdout",
     "output_type": "stream",
     "text": [
      "3\n"
     ]
    }
   ],
   "source": [
    "### 优化计算一次，取中间变量\n",
    "\n",
    "a = [1,2,3]\n",
    "b = len(a)\n",
    "if b > 0:\n",
    "    print(b)"
   ]
  },
  {
   "cell_type": "code",
   "execution_count": 75,
   "id": "5bcff5dc-9947-4d98-8242-9e7eaa688e57",
   "metadata": {},
   "outputs": [
    {
     "name": "stdout",
     "output_type": "stream",
     "text": [
      "3\n"
     ]
    }
   ],
   "source": [
    "### 优化计算一次，海象运算符\n",
    "\n",
    "a = [1,2,3]\n",
    "\n",
    "if (b := len(a)) > 0:\n",
    "    print(b)"
   ]
  },
  {
   "cell_type": "code",
   "execution_count": 76,
   "id": "827dfd63-0f15-44a4-a44f-5b6f83b39c90",
   "metadata": {},
   "outputs": [
    {
     "name": "stdout",
     "output_type": "stream",
     "text": [
      "0\n",
      "1\n",
      "2\n",
      "3\n",
      "4\n",
      "5\n"
     ]
    }
   ],
   "source": [
    "### 搭配 while 使用\n",
    "\n",
    "a = 0\n",
    "while a <= 5:\n",
    "    print(a)\n",
    "    a += 1"
   ]
  },
  {
   "cell_type": "code",
   "execution_count": 77,
   "id": "4f679649-b56c-4b23-82dc-df1143ce2461",
   "metadata": {},
   "outputs": [
    {
     "name": "stdout",
     "output_type": "stream",
     "text": [
      "1\n",
      "2\n",
      "3\n",
      "4\n",
      "5\n"
     ]
    }
   ],
   "source": [
    "a = 0\n",
    "while (a := a + 1) <= 5:\n",
    "    print(a)"
   ]
  },
  {
   "cell_type": "markdown",
   "id": "9e809de3-ddc6-44c4-b250-ac48a1f2366d",
   "metadata": {},
   "source": [
    "---"
   ]
  },
  {
   "cell_type": "markdown",
   "id": "f42c10ae-59ed-4eb8-9272-f0212a3abe87",
   "metadata": {},
   "source": [
    "# **六、推导式**\n",
    "\n",
    "---\n",
    "\n",
    "**Python 推导式是一种独特的数据处理方式，可以从一个数据序列构建另一个新的数据序列的结构体。**\n",
    "\n",
    "**Python 支持各种数据结构的推导式：**\n",
    "\n",
    "- **列表(list)推导式：返回列表**\n",
    "- **字典(dict)推导式：返回字典**\n",
    "- **集合(set)推导式：返回集合**\n",
    "- **元组(tuple)推导式：返回生成器**\n",
    "\n",
    "**推导式可以很大程度上简化代码行数，使你的代码非常Pythonic**"
   ]
  },
  {
   "cell_type": "markdown",
   "id": "3ce9a1b2-f789-4802-b1d3-689eb4104898",
   "metadata": {
    "tags": []
   },
   "source": [
    "## **列表推导式**\n",
    "\n",
    "**格式：**\n",
    "\n",
    "```python\n",
    "[表达式 for 变量 in 列表] \n",
    "[out_exp_res for out_exp in input_list]\n",
    "\n",
    "或者 \n",
    "\n",
    "[表达式 for 变量 in 列表 if 条件]\n",
    "[out_exp_res for out_exp in input_list if condition]\n",
    "\n",
    "```\n",
    "\n",
    "**上述含义是：**\n",
    "\n",
    "- **out_exp_res：列表生成元素表达式，可以是有返回值的函数。**\n",
    "- **for out_exp in input_list：迭代 input_list 将 out_exp 传入到 out_exp_res 表达式中。**\n",
    "- **if condition：条件语句，可以过滤列表中不符合条件的值。**\n",
    "\n",
    "**允许嵌套for循环**"
   ]
  },
  {
   "cell_type": "code",
   "execution_count": 79,
   "id": "fadac7c7-a60e-499b-80fe-07d276168470",
   "metadata": {},
   "outputs": [
    {
     "data": {
      "text/plain": [
       "[0, 3, 6, 9]"
      ]
     },
     "execution_count": 79,
     "metadata": {},
     "output_type": "execute_result"
    }
   ],
   "source": [
    "### 计算 10 以内可以被 3 整除的整数：\n",
    "\n",
    "a = [i for i in range(10) if i % 3 == 0]\n",
    "a"
   ]
  },
  {
   "cell_type": "code",
   "execution_count": 80,
   "id": "f5ca4490-9e13-45f6-9939-624ca444b636",
   "metadata": {},
   "outputs": [
    {
     "data": {
      "text/plain": [
       "[0, 3, 6, 9]"
      ]
     },
     "execution_count": 80,
     "metadata": {},
     "output_type": "execute_result"
    }
   ],
   "source": [
    "### 上述等价于\n",
    "\n",
    "a = []\n",
    "\n",
    "for i in range(10):\n",
    "    if i % 3 == 0:\n",
    "        a.append(i)\n",
    "a"
   ]
  },
  {
   "cell_type": "code",
   "execution_count": 82,
   "id": "e64f14a8-8396-4990-82bd-1926000c0b89",
   "metadata": {},
   "outputs": [
    {
     "data": {
      "text/plain": [
       "['HELLO', 'WORLD', 'PYTHON']"
      ]
     },
     "execution_count": 82,
     "metadata": {},
     "output_type": "execute_result"
    }
   ],
   "source": [
    "### 列表字母换成大写\n",
    "\n",
    "a = ['hello','world','python']\n",
    "a = [x.upper() for x in a]\n",
    "a"
   ]
  },
  {
   "cell_type": "code",
   "execution_count": 91,
   "id": "5f91dd46-a100-47a4-a672-b817a3ce11c3",
   "metadata": {},
   "outputs": [
    {
     "data": {
      "text/plain": [
       "[0, 0, 0, 0, 1, 2, 0, 2, 4]"
      ]
     },
     "execution_count": 91,
     "metadata": {},
     "output_type": "execute_result"
    }
   ],
   "source": [
    "a = [x*y for x in range(3) for y in range(3)]\n",
    "a"
   ]
  },
  {
   "cell_type": "markdown",
   "id": "71db4f3e-31c7-43a6-bf3a-a8521cc9e0cf",
   "metadata": {},
   "source": [
    "## **集合推导式**\n",
    "\n",
    "**格式：**\n",
    "\n",
    "```python\n",
    "{ expression for item in Sequence }\n",
    "\n",
    "或\n",
    "\n",
    "{ expression for item in Sequence if conditional }\n",
    "\n",
    "```"
   ]
  },
  {
   "cell_type": "code",
   "execution_count": 86,
   "id": "d001b428-5202-4f01-ae66-16dc193f895b",
   "metadata": {},
   "outputs": [
    {
     "data": {
      "text/plain": [
       "{'HELLO', 'PYTHON', 'WORLD'}"
      ]
     },
     "execution_count": 86,
     "metadata": {},
     "output_type": "execute_result"
    }
   ],
   "source": [
    "### 集合字母换成大写\n",
    "\n",
    "a = {'hello','world','python'}\n",
    "a = {x.upper() for x in a}\n",
    "a"
   ]
  },
  {
   "cell_type": "markdown",
   "id": "62003e7a-8bfe-491f-9f6f-8f32c211baba",
   "metadata": {},
   "source": [
    "## **字典推导式**\n",
    "\n",
    "**格式：**\n",
    "\n",
    "```python\n",
    "{ key_expr: value_expr for value in collection }\n",
    "\n",
    "或\n",
    "\n",
    "{ key_expr: value_expr for value in collection if condition }\n",
    "\n",
    "```"
   ]
  },
  {
   "cell_type": "code",
   "execution_count": 87,
   "id": "99f48075-817b-42dd-8228-2f5c6a7736d3",
   "metadata": {},
   "outputs": [
    {
     "data": {
      "text/plain": [
       "{'0': 1, '1': 2, '2': 3}"
      ]
     },
     "execution_count": 87,
     "metadata": {},
     "output_type": "execute_result"
    }
   ],
   "source": [
    "### 通过列表生成字典\n",
    "\n",
    "a = [1,2,3,4]\n",
    "\n",
    "a = {str(x):y for x,y in enumerate(a) if y <= 3}\n",
    "\n",
    "a"
   ]
  },
  {
   "cell_type": "markdown",
   "id": "fba1d526-1555-402f-b3aa-149274f5df77",
   "metadata": {},
   "source": [
    "## **元祖推导式**\n",
    "\n",
    "**格式：**\n",
    "\n",
    "```python\n",
    "(expression for item in Sequence )\n",
    "\n",
    "或\n",
    "\n",
    "(expression for item in Sequence if conditional )\n",
    "\n",
    "```\n",
    "\n",
    "#### **需要注意：元组推导式返回的结果是一个生成器对象，而不是元祖。**"
   ]
  },
  {
   "cell_type": "code",
   "execution_count": 92,
   "id": "5173dca3-fae2-4228-a384-bc63187e7d50",
   "metadata": {},
   "outputs": [
    {
     "data": {
      "text/plain": [
       "<generator object <genexpr> at 0x000001CD327B1B30>"
      ]
     },
     "execution_count": 92,
     "metadata": {},
     "output_type": "execute_result"
    }
   ],
   "source": [
    "a = ('hello','world','python')\n",
    "a = (x.upper() for x in a)\n",
    "a"
   ]
  },
  {
   "cell_type": "code",
   "execution_count": 93,
   "id": "bb92ff71-2135-487a-9aff-0aa9c2e9d86e",
   "metadata": {},
   "outputs": [
    {
     "data": {
      "text/plain": [
       "('HELLO', 'WORLD', 'PYTHON')"
      ]
     },
     "execution_count": 93,
     "metadata": {},
     "output_type": "execute_result"
    }
   ],
   "source": [
    "tuple(a)"
   ]
  },
  {
   "cell_type": "markdown",
   "id": "3a550880-ea1d-41f9-82d3-f3b8b3538bd9",
   "metadata": {},
   "source": [
    "---"
   ]
  },
  {
   "cell_type": "markdown",
   "id": "302d9e8c-82ca-4c82-9e40-f9dd5f019248",
   "metadata": {},
   "source": [
    "# **七、迭代器**\n",
    "\n",
    "---\n",
    "\n",
    "**迭代是Python最强大的功能之一，是访问集合元素的一种方式，是可以遍历的。**\n",
    "\n",
    "**迭代器是一个可以记住遍历的位置的对象。**\n",
    "\n",
    "**<font color=\"#dd0000\">迭代器对象从集合的第一个元素开始访问，直到所有的元素被访问完结束。迭代器只能往前不会后退。</font>**\n",
    "\n",
    "**迭代器有两个基本的方法：迭代`iter()` 和 取值`next()`。**\n",
    "\n",
    "**字符串，列表或元组对象都可用于创建迭代器**"
   ]
  },
  {
   "cell_type": "code",
   "execution_count": 104,
   "id": "fc39491c-d692-455d-94a0-674330f12249",
   "metadata": {},
   "outputs": [
    {
     "name": "stdout",
     "output_type": "stream",
     "text": [
      "<class 'list'>\n",
      "<class 'list_iterator'>\n"
     ]
    }
   ],
   "source": [
    "a = [1,2,3,4]\n",
    "print(type(a))\n",
    "a = iter(a)\n",
    "print(type(a))"
   ]
  },
  {
   "cell_type": "code",
   "execution_count": 99,
   "id": "70ad1e5f-47d1-4cf2-a0ea-ba4f058daf60",
   "metadata": {},
   "outputs": [
    {
     "data": {
      "text/plain": [
       "1"
      ]
     },
     "execution_count": 99,
     "metadata": {},
     "output_type": "execute_result"
    }
   ],
   "source": [
    "next(a)"
   ]
  },
  {
   "cell_type": "code",
   "execution_count": 100,
   "id": "9f30a454-444c-4765-ad12-cdfa7013fff6",
   "metadata": {},
   "outputs": [
    {
     "data": {
      "text/plain": [
       "2"
      ]
     },
     "execution_count": 100,
     "metadata": {},
     "output_type": "execute_result"
    }
   ],
   "source": [
    "next(a)"
   ]
  },
  {
   "cell_type": "code",
   "execution_count": 101,
   "id": "8de2fd2d-0284-44e9-a04b-6260d7cb50a6",
   "metadata": {},
   "outputs": [
    {
     "data": {
      "text/plain": [
       "3"
      ]
     },
     "execution_count": 101,
     "metadata": {},
     "output_type": "execute_result"
    }
   ],
   "source": [
    "next(a)"
   ]
  },
  {
   "cell_type": "markdown",
   "id": "8e7eaa29-bfaa-47ce-b502-5f717bb989c8",
   "metadata": {},
   "source": [
    "## **迭代器可以使用循环遍历**"
   ]
  },
  {
   "cell_type": "code",
   "execution_count": 106,
   "id": "ccf19ca5-a43b-468e-98e4-f1fd22bfa3eb",
   "metadata": {},
   "outputs": [
    {
     "name": "stdout",
     "output_type": "stream",
     "text": [
      "1\n",
      "2\n",
      "3\n",
      "4\n"
     ]
    }
   ],
   "source": [
    "a = [1,2,3,4]\n",
    "a = iter(a)\n",
    "for x in a:\n",
    "    print(x)"
   ]
  },
  {
   "cell_type": "code",
   "execution_count": 108,
   "id": "0519d358-b921-4e6a-a13c-9d5fdb8cf0ad",
   "metadata": {},
   "outputs": [
    {
     "name": "stdout",
     "output_type": "stream",
     "text": [
      "1\n",
      "2\n",
      "3\n",
      "4\n"
     ]
    }
   ],
   "source": [
    "a=[1,2,3,4]\n",
    "a = iter(a)    # 创建迭代器对象\n",
    " \n",
    "while True:\n",
    "    try:\n",
    "        print(next(a))\n",
    "    except:\n",
    "        break"
   ]
  },
  {
   "cell_type": "markdown",
   "id": "87ef8011-8ce6-415a-8b0c-a57889f08fae",
   "metadata": {},
   "source": [
    "### **后面的教程会说到：创建一个迭代器**\n",
    "\n",
    "**把一个类作为一个迭代器使用需要在类中实现两个方法 __iter__() 与 __next__() 。**"
   ]
  },
  {
   "cell_type": "markdown",
   "id": "bb7e7142-f22d-4f3a-988d-c39592980c49",
   "metadata": {},
   "source": [
    "## **可迭代对象**\n",
    "\n",
    "因为Python的迭代器表示的是一个数据流，迭代器可以被next()函数调用并不断返回下一个数据，直到没有数据时抛出StopIteration错误。\n",
    "\n",
    "可以把这个数据流看做是一个有序序列，但我们却不能提前知道序列的长度，只能不断通过next()函数实现按需计算下一个数据，所以迭代器的计算是惰性的，\n",
    "\n",
    "只有在需要返回下一个数据时它才会计算。迭代器甚至可以表示一个无限大的数据流，例如全体自然数。而使用list是永远不可能存储全体自然数的。\n",
    "\n",
    "\n",
    "- 凡是可作用于for循环的对象都是可迭代的；\n",
    "\n",
    "- 凡是可作用于next()函数的对象都是迭代器，它们表示一个惰性计算的序列；\n",
    "\n",
    "- 集合数据类型如list、dict、str等是可迭代的但不是迭代器，不过可以通过iter()函数获得一个迭代器。\n",
    "\n",
    "- 可迭代对象和迭代器，通过函数iter()转换\n",
    "\n",
    "- 迭代器：数据流，变长，惰性的\n",
    "\n",
    "### **可迭代对象**\n",
    "\n",
    "- 列表\n",
    "- 元祖\n",
    "- 字典\n",
    "- 集合\n",
    "- 字符串\n",
    "\n",
    "### **不可迭代对象**\n",
    "\n",
    "- 数字"
   ]
  },
  {
   "cell_type": "code",
   "execution_count": 2,
   "id": "7c4e01b8-e82a-4c5f-9c96-5a1354e757ff",
   "metadata": {},
   "outputs": [
    {
     "name": "stdout",
     "output_type": "stream",
     "text": [
      "1\n",
      "2\n",
      "3\n"
     ]
    }
   ],
   "source": [
    "a = [1,2,3]\n",
    "for x in a:\n",
    "    print(x)"
   ]
  },
  {
   "cell_type": "code",
   "execution_count": 3,
   "id": "3e2ce42e-1cc3-4b3d-b62b-6bf8164dbb1a",
   "metadata": {},
   "outputs": [
    {
     "ename": "TypeError",
     "evalue": "'int' object is not iterable",
     "output_type": "error",
     "traceback": [
      "\u001b[1;31m---------------------------------------------------------------------------\u001b[0m",
      "\u001b[1;31mTypeError\u001b[0m                                 Traceback (most recent call last)",
      "\u001b[1;32m~\\AppData\\Local\\Temp/ipykernel_15232/1842059096.py\u001b[0m in \u001b[0;36m<module>\u001b[1;34m\u001b[0m\n\u001b[0;32m      1\u001b[0m \u001b[0ma\u001b[0m \u001b[1;33m=\u001b[0m \u001b[1;36m100\u001b[0m\u001b[1;33m\u001b[0m\u001b[1;33m\u001b[0m\u001b[0m\n\u001b[1;32m----> 2\u001b[1;33m \u001b[1;32mfor\u001b[0m \u001b[0mx\u001b[0m \u001b[1;32min\u001b[0m \u001b[0ma\u001b[0m\u001b[1;33m:\u001b[0m\u001b[1;33m\u001b[0m\u001b[1;33m\u001b[0m\u001b[0m\n\u001b[0m\u001b[0;32m      3\u001b[0m     \u001b[0mprint\u001b[0m\u001b[1;33m(\u001b[0m\u001b[0mx\u001b[0m\u001b[1;33m)\u001b[0m\u001b[1;33m\u001b[0m\u001b[1;33m\u001b[0m\u001b[0m\n",
      "\u001b[1;31mTypeError\u001b[0m: 'int' object is not iterable"
     ]
    }
   ],
   "source": [
    "a = 100\n",
    "for x in a:\n",
    "    print(x)"
   ]
  },
  {
   "cell_type": "markdown",
   "id": "97cae940-4fb2-43d0-9ffd-7a271a34e695",
   "metadata": {},
   "source": [
    "---"
   ]
  },
  {
   "cell_type": "markdown",
   "id": "856c320c-46cc-4783-8109-20623009c9c5",
   "metadata": {},
   "source": [
    "# **八、生成器**\n",
    "\n",
    "---\n",
    "\n",
    "**通过列表生成式，我们可以直接创建一个列表。但是，受到内存限制，列表容量肯定是有限的。**\n",
    "\n",
    "**而且，创建一个包含100万个元素的列表，不仅占用很大的存储空间，**\n",
    "\n",
    "**如果我们仅仅需要访问前面几个元素，那后面绝大多数元素占用的空间都白白浪费了。**\n",
    "\n",
    "**所以，如果列表元素可以按照某种算法推算出来，那我们是否可以在循环的过程中不断推算出后续的元素呢？**\n",
    "\n",
    "**这样就不必创建完整的list，从而节省大量的空间。在Python中，这种一边循环一边计算的机制，称为生成器：generator。**\n",
    "\n",
    "**生成器的本质就是迭代器，唯一的不同就是：迭代器都是Python给你提供的已经写好的工具或者通过数据转化得来的。**\n",
    "\n",
    "**生成器是需要我们自己用python代码构建的工具（一边循环一边计算的机制）。**\n",
    "\n",
    "- **生成器一边循环一边计算**\n",
    "\n",
    "- **生成器只能使用一次**\n",
    "\n",
    "### **用例：**\n",
    "\n",
    "**假如我们需要创建一个几百万，几千万甚至更多的元素的列表，由于计算机内存的限制不能创建，这时候就可以先创建一个生成器，当我们循环遍历时才会具体生成，**\n",
    "**这样很大程度上节省内存**\n",
    "\n",
    "## **生成器创建方法：**\n",
    "\n",
    "- **通过生成器函数：yield关键字**　　\n",
    "- **通过元祖推导式**\n",
    "\n",
    "**不做扩充，后文详解**"
   ]
  },
  {
   "cell_type": "code",
   "execution_count": 112,
   "id": "e9ee9a74-d4c6-4c7c-84b7-51e979287e33",
   "metadata": {},
   "outputs": [
    {
     "name": "stdout",
     "output_type": "stream",
     "text": [
      "<generator object <genexpr> at 0x000001CD327BA900>\n"
     ]
    },
    {
     "data": {
      "text/plain": [
       "generator"
      ]
     },
     "execution_count": 112,
     "metadata": {},
     "output_type": "execute_result"
    }
   ],
   "source": [
    "a = (i for i in range(5))\n",
    "print(a)\n",
    "type(a)"
   ]
  },
  {
   "cell_type": "code",
   "execution_count": 113,
   "id": "490e94b8-926c-4ad0-90d4-329a3615ef77",
   "metadata": {},
   "outputs": [
    {
     "name": "stdout",
     "output_type": "stream",
     "text": [
      "0\n",
      "1\n",
      "2\n",
      "3\n",
      "4\n"
     ]
    }
   ],
   "source": [
    "for x in a:\n",
    "    print(x)"
   ]
  },
  {
   "cell_type": "code",
   "execution_count": 114,
   "id": "98aaa9c6-87ae-46a5-8965-a7885c610d18",
   "metadata": {},
   "outputs": [],
   "source": [
    "for x in a:\n",
    "    print(x)"
   ]
  },
  {
   "cell_type": "code",
   "execution_count": null,
   "id": "5f969fe7-296e-4fac-b734-0fa42afc613b",
   "metadata": {},
   "outputs": [],
   "source": []
  }
 ],
 "metadata": {
  "kernelspec": {
   "display_name": "Python 3 (ipykernel)",
   "language": "python",
   "name": "python3"
  },
  "language_info": {
   "codemirror_mode": {
    "name": "ipython",
    "version": 3
   },
   "file_extension": ".py",
   "mimetype": "text/x-python",
   "name": "python",
   "nbconvert_exporter": "python",
   "pygments_lexer": "ipython3",
   "version": "3.9.7"
  }
 },
 "nbformat": 4,
 "nbformat_minor": 5
}
