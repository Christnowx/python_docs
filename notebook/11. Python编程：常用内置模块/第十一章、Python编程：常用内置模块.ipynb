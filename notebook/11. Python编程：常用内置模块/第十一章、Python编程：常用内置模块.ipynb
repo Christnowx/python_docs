{
 "cells": [
  {
   "cell_type": "markdown",
   "id": "89dee267-514f-4b37-ac43-4500b4ba48ed",
   "metadata": {},
   "source": [
    "# **花卷学Python**\n",
    "---\n",
    "\n",
    "> **我年纪轻轻就学会了Python编程**\n",
    "\n",
    "\n",
    "# **第十一章、Python编程：常用内置模块**\n",
    "\n",
    "\n",
    "   - [x] **os**\n",
    "   - [x] **sys**\n",
    "   - [x] **pickle、json**\n",
    "   - [x] **time、datetime、calendar**\n",
    "   - [x] **logging**\n",
    "   - [x] **argparse**\n",
    "   - [x] **re正则表达式**\n",
    "   - [x] **base64**\n",
    "   - [x] **struct**\n",
    "   - [x] **hashlib**\n",
    "   - [x] **csv**\n",
    "   - [x] **wav**\n",
    "   - [x] **urllib**\n",
    "   - [x] **contextlib**\n",
    "   - [x] **operator**\n",
    "   - [x] **functools**\n",
    "   - [x] **itertools**\n",
    "   - [x] **collections**\n",
    "\n"
   ]
  },
  {
   "cell_type": "markdown",
   "id": "342ad924-434d-4d50-ad9e-e898d9427641",
   "metadata": {},
   "source": [
    "---"
   ]
  },
  {
   "cell_type": "markdown",
   "id": "dba0bbdd-72a0-4d52-ad8e-28152135841f",
   "metadata": {},
   "source": [
    "# **一、os，sys，json，pickle**\n",
    "\n",
    "---\n",
    "\n",
    "这四个模块在之前的教程里都介绍过，这里回顾一下，做个总结\n"
   ]
  },
  {
   "cell_type": "markdown",
   "id": "c6774d44-bfca-4d18-88e3-67adae549681",
   "metadata": {},
   "source": [
    "# **os**\n",
    "\n",
    "\n",
    "os，语义操作系统，所以该模块就是操作系统相关的功能了，用于处理文件和目录这些我们日常手动需要做的操作，比如新建文件夹、获取文件列表、删除某个文件、获取文件大小、重命名文件、获取文件修改时间等，该模块就包含了大量的操作系统操作函数\n",
    "\n",
    "\n",
    "\n",
    "|**方法**|**描述**|\n",
    "|----|----|\n",
    "|**os.name()**|**显示当前使用的平台，'nt'表示Windows，'posix' 表示Linux**|\n",
    "|**os.getcwd()**|**返回当前进程的工作目录**|\n",
    "|**os.chdir()**|**改变当前工作目录到指定的路径**|\n",
    "|**os.makedirs()**|**方法用于递归创建目录**|\n",
    "|**os.mkdir()**|**以数字权限模式创建目录。默认的模式为 0777 (八进制)**|\n",
    "|**os.listdir()**|**列出目录下的所有文件和文件夹**|\n",
    "|**os.remove()**|**用于删除指定路径的文件。如果指定的路径是一个目录，将抛出OSError**|\n",
    "|**os.rename()**|**命名文件或目录,能对相应的文件进行重命名**|\n",
    "|**os.renames()**|**用于递归重命名目录或文件。类似rename()。既可以重命名文件, 也可以重命名文件的上级目录名**|\n",
    "|**os.linesep()**|**当前平台用于分隔（或终止）行的字符串。它可以是单个字符，如 POSIX 上是 '\\n'，也可以是多个字符，如 Windows 上是 '\\r\\n'。在写入以文本模式（默认模式）打开的文件时，请不要使用 os.linesep 作为行终止符，请在所有平台上都使用一个 '\\n' 代替**|\n",
    "|**os.pathsep()**|**操作系统通常用于分隔搜索路径（如 PATH）中不同部分的字符，如 POSIX 上是 ':'，Windows 上是 ';'。在 os.path 中也可用**|\n",
    "|**os.close()**|**关闭指定的文件描述符**|\n",
    "|**os.stat()**|**获取文件或者目录信息**|\n",
    "|**os.sep()**|**显示当前平台下路径分隔符,在 POSIX 上是 '/'，在 Windows 上是是 '\\\\'**|\n",
    "|**os.walk()**|**遍历path，进入每个目录都调用visit函数，visit函数必须有3个参数(arg, dirname, names)，dirname表示当前目录的目录名，names代表当前目录下的所有文件名，args则为walk的第三个参数**|\n",
    "|**os.environ**|**获取环境变量**|\n",
    "|**os.path.abspath()**|**返回文件的绝对路径**|\n",
    "|**os.path.basename()**|**返回文件名，纯粹字符串处理逻辑，路径错误也可以**|\n",
    "|**os.path.commonprefix()**|**返回list(多个路径)中，所有path共有的最长的路径**|\n",
    "|**os.path.dirname()**|**返回上层目录**|\n",
    "|**os.path.exists()**|**如果路径 path 存在，返回 True；如果路径 path 不存在，返回 False**|\n",
    "|**os.path.lexists()**|**路径存在则返回True，路径损坏也返回True， 不存在，返回 False**|\n",
    "|**os.path.expanduser()**|**把path中包含的\"~\"和\"~user\"转换成用户目录**|\n",
    "|**os.path.expandvars()**|**根据环境变量的值替换path中包含的\"$name\"和\"${name}\"**|\n",
    "|**os.path.getatime()**|**返回最近访问时间（浮点型秒数），从新纪元到访问时的秒数**|\n",
    "|**os.path.getmtime()**|**返回最近文件修改时间，从新纪元到访问时的秒数**|\n",
    "|**os.path.getctime()**|**返回文件 path 创建时间，从新纪元到访问时的秒数**|\n",
    "|**os.path.getsize()**|**返回文件大小，如果文件不存在就返回错误**|\n",
    "|**os.path.isabs()**|**判断是否为绝对路径，也就是说在Windows系统下，如果输入的字符串以\" / \"开头，os.path.isabs()就会返回True**|\n",
    "|**os.path.isfile()**|**判断路径是否为文件**|\n",
    "|**os.path.isdir()**|**判断路径是否为目录**|\n",
    "|**os.path.join()**|**把目录和文件名合成一个路径,1.如果各组件名首字母不包含’/’，则函数会自动加上,2.如果有一个组件是一个绝对路径，则在它之前的所有组件均会被舍弃,3.如果最后一个组件为空，则生成的路径以一个’/’分隔符结尾**|\n",
    "|**os.path.normcase()**|**转换path的大小写和斜杠**|\n",
    "|**os.path.normpath()**|**规范path字符串形式**|\n",
    "|**os.path.realpath()**|**返回path的真实路径**|\n",
    "|**os.path.relpath()**|**返回从当前目录或 start 目录（可选）到达 path 之间要经过的相对路径。这仅仅是对路径的计算，不会访问文件系统来确认 path 或 start 的存在性或属性**|\n",
    "|**os.path.samefile()**|**判断目录或文件是否相同**|\n",
    "|**os.path.split()**|**把路径分割成 dirname 和 basename，返回一个元组**|\n",
    "|**os.path.splitdrive()**|**一般用在 windows 下，返回驱动器名和路径组成的元组**|\n",
    "|**os.path.splitext()**|**分割路径，返回路径名和文件扩展名的元组**|"
   ]
  },
  {
   "cell_type": "markdown",
   "id": "540343b5-28c7-4d86-a25f-c3b8737881de",
   "metadata": {},
   "source": [
    "# **sys**\n",
    "\n",
    "sys模块：该模块提供对解释器使用或维护的一些变量的访问，以及与解释器强烈交互的函数\n",
    "\n",
    "\n",
    "\n",
    "|**方法**|**描述**|\n",
    "|----|---------|\n",
    "|**sys.argv**|**命令行参数List，第一个元素是程序本身路径**|\n",
    "|**sys.modules.keys()**|**返回所有已经导入的模块列表**|\n",
    "|**sys.exc_info()**|**获取当前正在处理的异常类,exc_type、exc_value、exc_traceback当前处理的异常详细信息**&emsp;&emsp;&emsp;&emsp;&emsp;&emsp;&emsp;&emsp;&emsp;&emsp;&emsp;&emsp;&emsp;&emsp;&emsp;&emsp;&emsp;&emsp;&emsp;&emsp;&emsp;&emsp;&emsp;&emsp;&emsp;&emsp;&emsp;&emsp;&emsp;&emsp;&emsp;&emsp;&emsp;&emsp;&emsp;&emsp;&emsp;&emsp;&emsp;&emsp;&emsp;&emsp;&emsp;&emsp;&emsp;&emsp;&emsp;&emsp;&emsp;&emsp;&emsp;&emsp;&emsp;&emsp;&emsp;&emsp;&emsp;&emsp;&emsp;&emsp;&emsp;&emsp;&emsp;&emsp;&emsp;&emsp;&emsp;|\n",
    "|**sys.exit(n)**|**程序，正常退出时exit(0)**|\n",
    "|**sys.hexversion**|**获取Python解释程序的版本值，16进制格式如：0x020403F0**|\n",
    "|**sys.version**|**获取Python解释程序的版本信息**|\n",
    "|**sys.maxint**|**最大的Int值**|\n",
    "|**sys.maxunicode**|**最大的Unicode值**|\n",
    "|**sys.modules**|**返回系统导入的模块字段，key是模块名，value是模块**|\n",
    "|**sys.path**|**返回模块的搜索路径，初始化时使用PYTHONPATH环境变量的值**|\n",
    "|**sys.platform**|**返回操作系统平台名称**|\n",
    "|**sys.stdout**|**标准输出**|\n",
    "|**sys.stdin**|**标准输入**|\n",
    "|**sys.stderr**|**错误输出**|\n",
    "|**sys.exc_clear()**|**用来清除当前线程所出现的当前的或最近的错误信息**|\n",
    "|**sys.exec_prefix**|**返回平台独立的python文件安装的位置**|\n",
    "|**sys.byteorder**|**本地字节规则的指示器，big-endian平台的值是'big',little-endian平台的值是'little'**|\n",
    "|**sys.copyright**|**记录python版权相关的东西**|\n",
    "|**sys.api_version**|**解释器的C的API版本**|\n",
    "|**sys.version_info**|**获取Python解释器的版本信息**|\n",
    "|**sys.getwindowsversion**|**获取Windows的版本**|\n",
    "|**sys.getdefaultencoding**|**返回当前你所用的默认的字符编码格式**|\n",
    "|**sys.getfilesystemencoding**|**返回将Unicode文件名转换成系统文件名的编码的名字**|\n",
    "|**sys.setdefaultencoding(name)**|**用来设置当前默认的字符编码**|\n",
    "|**sys.builtin_module_names**|**Python解释器导入的模块列表**|\n",
    "|**sys.executable**|**Python解释程序路径**|\n",
    "|**sys.stdin.readline**|**从标准输入读一行，sys.stdout.write(\"a\") 屏幕输出a**|\n",
    "\n",
    "\n",
    "\n"
   ]
  },
  {
   "cell_type": "markdown",
   "id": "ecd8cd48-e570-47ae-abc5-4a13b525c5d7",
   "metadata": {},
   "source": [
    "# **json和pickle**\n",
    "\n",
    "\n",
    "|**方法**|**描述**|\n",
    "|----|---------|\n",
    "|**pickle.dump**&emsp;&emsp;&emsp;&emsp;&emsp;&emsp;&emsp;|**对象序列化到文件**&emsp;&emsp;&emsp;&emsp;&emsp;&emsp;&emsp;&emsp;&emsp;&emsp;&emsp;&emsp;&emsp;&emsp;&emsp;&emsp;&emsp;&emsp;&emsp;&emsp;&emsp;&emsp;&emsp;&emsp;&emsp;&emsp;&emsp;&emsp;&emsp;&emsp;&emsp;&emsp;&emsp;&emsp;&emsp;&emsp;&emsp;&emsp;&emsp;&emsp;&emsp;&emsp;&emsp;&emsp;&emsp;&emsp;&emsp;&emsp;&emsp;&emsp;&emsp;&emsp;&emsp;&emsp;&emsp;&emsp;&emsp;&emsp;&emsp;&emsp;&emsp;&emsp;&emsp;&emsp;&emsp;&emsp;&emsp;&emsp;&emsp;&emsp;&emsp;&emsp;&emsp;&emsp;&emsp;&emsp;&emsp;&emsp;&emsp;|\n",
    "|**pickle.dumps**|**对象序列化**|\n",
    "|**pickle.laod**|**对象从文件中发序列化**|\n",
    "|**pickle.laods**|**对象发序列化**|\n",
    "|**json.dump**|**对象json到文件**|\n",
    "|**json.dumps**|**对象到json**|\n",
    "|**json.laod**|**对象从文件中到json**|\n",
    "|**json.laods**|**json到对象**|"
   ]
  },
  {
   "cell_type": "markdown",
   "id": "adc7bc7a-062f-4ae9-b35b-71e7668090fb",
   "metadata": {},
   "source": [
    "---"
   ]
  },
  {
   "cell_type": "markdown",
   "id": "e7aecb6e-42d2-4b6d-ac62-1e5658c6b8d3",
   "metadata": {},
   "source": [
    "# **二、时间操作：time，datetime，calendar**\n",
    "\n",
    "---\n",
    "\n",
    "\n",
    "几乎所有的正式代码中，我们都需要与时间打交道。在Python中，与时间处理有关的模块包括time，datetime以及calendar\n",
    "\n",
    "\n",
    "# **time**\n",
    "\n",
    "在 Python 中，用三种方式来表示时间，分别是时间戳、格式化时间字符串和结构化时间\n",
    "\n",
    "- 时间戳（timestamp）：也就是 1970 年 1 月 1 日之后的秒，例如 1506388236.216345，可以通过time.time()获得。时间戳是一个浮点数，可以进行加减运算，但请注意不要让结果超出取值范围。\n",
    "\n",
    "- 格式化的时间字符串（string_time）：也就是年月日时分秒这样的我们常见的时间字符串，例如2017-09-26 09:12:48，可以通过time.strftime('%Y-%m-%d')获得;\n",
    "\n",
    "- 结构化时间（struct_time）：一个包含了年月日时分秒的多元元组，例如time.struct_time(tm_year=2017, tm_mon=9, tm_mday=26, tm_hour=9, tm_min=14, tm_sec=50, tm_wday=1, tm_yday=269, tm_isdst=0)，可以通过time.localtime()获得。\n",
    "\n",
    "\n",
    "由于 Python 的 time 模块实现主要调用 C 库，所以各个平台可能有所不同。time 模块目前只支持到 2038 年前。如果需要处理范围之外的日期，请使用 datetime 模块。\n",
    "\n",
    "- UTC（Coordinated Universal Time，世界协调时），亦即格林威治天文时间，世界标准时间。我们中国为东八区，比 UTC 早 8 个小时，也就是 UTC+8。关于 UTC 的缩写，有个故事，你可能已经注意到了，按英文的缩写，应该是 CUT，而不是 UTC。但是世界协调时在法文中的缩写是 TUC，两国互相不让，作为妥协，最后干脆简称 UTC。\n",
    "\n",
    "- DST（Daylight Saving Time）即夏令时。"
   ]
  },
  {
   "cell_type": "code",
   "execution_count": 9,
   "id": "b9c508d8-47aa-4408-af5f-ee823ec5e9fa",
   "metadata": {},
   "outputs": [
    {
     "name": "stdout",
     "output_type": "stream",
     "text": [
      "当前时间戳：1651806791.6454492\n",
      "当前程序运行时间：0.00099659\n"
     ]
    }
   ],
   "source": [
    "\"\"\"\n",
    "time.time()\n",
    "\n",
    "返回当前系统时间戳。时间戳可以做算术运算\n",
    "\"\"\"\n",
    "import time\n",
    "\n",
    "t = time.time()\n",
    "print(f'当前时间戳：{t}')\n",
    "\n",
    "\n",
    "## 计算程序运行时间\n",
    "\n",
    "t0 = time.time()\n",
    "\n",
    "a = 1\n",
    "for x in range(10000):\n",
    "    a += 1\n",
    "\n",
    "t1 = time.time()\n",
    "\n",
    "t  = t1 - t0\n",
    "\n",
    "print(f'当前程序运行时间：{round(t,8)}')"
   ]
  },
  {
   "cell_type": "code",
   "execution_count": 11,
   "id": "9a41c682-230b-49b4-bfa5-6ad66279cd0d",
   "metadata": {},
   "outputs": [
    {
     "name": "stdout",
     "output_type": "stream",
     "text": [
      "计数器时间：5341.7011456\n",
      "当前程序运行时间：0.0007618\n"
     ]
    }
   ],
   "source": [
    "\"\"\"\n",
    "time.perf_counter()\n",
    "\n",
    "返回性能计数器的值（以分秒为单位），即具有最高可用分辨率的时钟，以测量短持续时间。\n",
    "它包括在睡眠期间和系统范围内流逝的时间。\n",
    "返回值的参考点未定义，因此只有连续调用结果之间的差异有效。\n",
    "\n",
    "\"\"\"\n",
    "import time\n",
    "\n",
    "t = time.perf_counter()\n",
    "print(f'计数器时间：{t}')\n",
    "\n",
    "\n",
    "## 计算程序运行时间\n",
    "\n",
    "t0 = time.perf_counter()\n",
    "\n",
    "a = 1\n",
    "for x in range(10000):\n",
    "    a += 1\n",
    "\n",
    "t1 = time.perf_counter()\n",
    "\n",
    "t  = t1 - t0\n",
    "\n",
    "print(f'当前程序运行时间：{round(t,8)}')"
   ]
  },
  {
   "cell_type": "code",
   "execution_count": 15,
   "id": "edc332ed-0670-4db5-8043-1e844ae05c86",
   "metadata": {},
   "outputs": [
    {
     "name": "stdout",
     "output_type": "stream",
     "text": [
      "睡眠时间：2.01212239\n"
     ]
    }
   ],
   "source": [
    "\"\"\"\n",
    "time.sleep(t)\n",
    "\n",
    "用来睡眠或者暂停程序 t 秒，t 可以是浮点数或整数\n",
    "\n",
    "\"\"\"\n",
    "import time\n",
    "\n",
    "t0 = time.time()\n",
    "\n",
    "time.sleep(2)\n",
    "\n",
    "t1 = time.time()\n",
    "\n",
    "t  = t1 - t0\n",
    "\n",
    "print(f'睡眠时间：{round(t,8)}')"
   ]
  },
  {
   "cell_type": "code",
   "execution_count": 16,
   "id": "13422f05-745b-4784-939c-d4b693a4fe80",
   "metadata": {},
   "outputs": [
    {
     "data": {
      "text/plain": [
       "time.struct_time(tm_year=2022, tm_mon=5, tm_mday=6, tm_hour=11, tm_min=18, tm_sec=16, tm_wday=4, tm_yday=126, tm_isdst=0)"
      ]
     },
     "execution_count": 16,
     "metadata": {},
     "output_type": "execute_result"
    }
   ],
   "source": [
    "\"\"\"\n",
    "time.localtime([secs])\n",
    "\n",
    "将一个时间戳转换为当前时区的结构化时间。\n",
    "如果 secs 参数未提供，则以当前时间为准，即time.time()。\n",
    "\n",
    "\"\"\"\n",
    "import time\n",
    "\n",
    "time.localtime()"
   ]
  },
  {
   "cell_type": "code",
   "execution_count": 25,
   "id": "03c4ec85-80c5-483a-8799-c14ade0ec508",
   "metadata": {},
   "outputs": [
    {
     "data": {
      "text/plain": [
       "time.struct_time(tm_year=2022, tm_mon=5, tm_mday=6, tm_hour=11, tm_min=28, tm_sec=50, tm_wday=4, tm_yday=126, tm_isdst=0)"
      ]
     },
     "execution_count": 25,
     "metadata": {},
     "output_type": "execute_result"
    }
   ],
   "source": [
    "\"\"\"\n",
    "time.struct_time()\n",
    "\n",
    "结构化时间\n",
    "\n",
    "参数：\n",
    "\n",
    "tm_year：年，比如2022\n",
    "tm_mon：月，1-12\n",
    "tm_mday：日，1-31\n",
    "tm_hour：时，0-23\n",
    "tm_min：分，0-59\n",
    "tm_sec：秒，0-61\n",
    "tm_wday：周几，0-6（0表示周一）\n",
    "tm_yday：一年中的第几天，1-366\n",
    "tm_isdst：是否夏令时\n",
    "\n",
    "\"\"\"\n",
    "import time\n",
    "\n",
    "time.struct_time(time.localtime())"
   ]
  },
  {
   "cell_type": "code",
   "execution_count": 28,
   "id": "c2fc8ee2-2d82-44e6-bffb-51f481b01a9c",
   "metadata": {},
   "outputs": [
    {
     "data": {
      "text/plain": [
       "time.struct_time(tm_year=2022, tm_mon=5, tm_mday=6, tm_hour=3, tm_min=30, tm_sec=13, tm_wday=4, tm_yday=126, tm_isdst=0)"
      ]
     },
     "execution_count": 28,
     "metadata": {},
     "output_type": "execute_result"
    }
   ],
   "source": [
    "\"\"\"\n",
    "time.gmtime([secs])\n",
    "\n",
    "将一个时间戳转换为 UTC 时区的结构化时间。可选参数 secs 的默认值为time.time()。\n",
    "\n",
    "\"\"\"\n",
    "import time\n",
    "\n",
    "time.gmtime()"
   ]
  },
  {
   "cell_type": "code",
   "execution_count": 30,
   "id": "5e027427-9e87-4c97-bca9-db9c39bcd2c2",
   "metadata": {},
   "outputs": [
    {
     "data": {
      "text/plain": [
       "'Fri May  6 11:30:54 2022'"
      ]
     },
     "execution_count": 30,
     "metadata": {},
     "output_type": "execute_result"
    }
   ],
   "source": [
    "\"\"\"\n",
    "time.ctime([secs])\n",
    "\n",
    "把一个时间戳转化为本地时间的格式化字符串。默认使用time.time()作为参数。\n",
    "\n",
    "\"\"\"\n",
    "import time\n",
    "\n",
    "time.ctime()"
   ]
  },
  {
   "cell_type": "code",
   "execution_count": 31,
   "id": "0d56d048-5050-4f51-a41b-3a001704ec9a",
   "metadata": {},
   "outputs": [
    {
     "data": {
      "text/plain": [
       "'Fri May  6 11:31:36 2022'"
      ]
     },
     "execution_count": 31,
     "metadata": {},
     "output_type": "execute_result"
    }
   ],
   "source": [
    "\"\"\"\n",
    "time.asctime([t])\n",
    "\n",
    "把一个结构化时间转换为 Fri May  6 11:31:36 2022 这种形式的格式化时间字符串。\n",
    "默认将time.localtime()作为参数。\n",
    "\n",
    "\"\"\"\n",
    "import time\n",
    "\n",
    "time.asctime()"
   ]
  },
  {
   "cell_type": "code",
   "execution_count": 33,
   "id": "d8b9a80b-02d8-4089-b037-9be6284135a2",
   "metadata": {},
   "outputs": [
    {
     "data": {
      "text/plain": [
       "1651807996.0"
      ]
     },
     "execution_count": 33,
     "metadata": {},
     "output_type": "execute_result"
    }
   ],
   "source": [
    "\"\"\"\n",
    "time.mktime(t)\n",
    "\n",
    "将一个结构化时间转化为时间戳。time.mktime()执行与gmtime(),localtime()相反的操作，\n",
    "它接收struct_time对象作为参数,返回用秒数表示时间的浮点数。\n",
    "如果输入的值不是一个合法的时间，将触发OverflowError或ValueError。\n",
    "\n",
    "\"\"\"\n",
    "import time\n",
    "\n",
    "time.mktime(time.localtime())"
   ]
  },
  {
   "cell_type": "code",
   "execution_count": 43,
   "id": "4ff83cf9-b7b6-41bd-93d1-72be8c182e94",
   "metadata": {},
   "outputs": [
    {
     "data": {
      "text/plain": [
       "'2022-05-06 11:40:30'"
      ]
     },
     "execution_count": 43,
     "metadata": {},
     "output_type": "execute_result"
    }
   ],
   "source": [
    "\"\"\"\n",
    "time.strftime(format [, t])\n",
    "\n",
    "返回格式化字符串表示的当地时间。把一个struct_time（如time.localtime()和time.gmtime()的返回值）转化为格式化的时间字符串，\n",
    "显示的格式由参数format决定。如果未指定 t，默认传入time.localtime()。\n",
    "如果元组中任何一个元素越界，就会抛出ValueError的异常。\n",
    "\n",
    "\"\"\"\n",
    "import time\n",
    "\n",
    "time.strftime(\"%Y-%m-%d %H:%M:%S\", time.localtime())"
   ]
  },
  {
   "cell_type": "code",
   "execution_count": 41,
   "id": "746d1d58-18a9-4008-ac34-a3eb2e964b69",
   "metadata": {},
   "outputs": [
    {
     "data": {
      "text/plain": [
       "time.struct_time(tm_year=2022, tm_mon=5, tm_mday=6, tm_hour=11, tm_min=37, tm_sec=22, tm_wday=4, tm_yday=126, tm_isdst=-1)"
      ]
     },
     "execution_count": 41,
     "metadata": {},
     "output_type": "execute_result"
    }
   ],
   "source": [
    "\"\"\"\n",
    "time.strptime(string[,format])\n",
    "\n",
    "将格式化时间字符串转化成结构化时间。\n",
    "该方法是time.strftime()方法的逆操作。time.strptime()方法根据指定的格式把一个时间字符串解析为时间元组。\n",
    "要注意的是，你提供的字符串要和 format 参数的格式一一对应，如果 string 中日期间使用“-”分隔，format 中也必须使用“-”分隔，\n",
    "时间中使用冒号“:”分隔，后面也必须使用冒号分隔，否则会报格式不匹配的错误。并且值也要在合法的区间范围内，\n",
    "千万不要整出 14 个月来。\n",
    "\n",
    "\"\"\"\n",
    "import time\n",
    "\n",
    "time.strptime('2022-05-06 11:37:22', \"%Y-%m-%d %H:%M:%S\")"
   ]
  },
  {
   "cell_type": "markdown",
   "id": "19e44a65-9d6b-4dcc-b940-681ad742c71b",
   "metadata": {},
   "source": [
    "## **格式化时间字符串对照表**\n",
    "\n",
    "|**格式**|**含义**|\n",
    "|---|---|\n",
    "|**%a**|**本地星期名称简写**|\n",
    "|**%A**|**本地星期名称全称**|\n",
    "|**%b**|**本地月份名称简写**|\n",
    "|**%B**|**本地月份名称全称**|\n",
    "|**%c**&emsp;&emsp;&emsp;&emsp;|**本地日期和时间字符串表示，如22/08/07 10:10:10**&emsp;&emsp;&emsp;&emsp;&emsp;&emsp;&emsp;&emsp;&emsp;&emsp;&emsp;&emsp;&emsp;&emsp;&emsp;&emsp;&emsp;&emsp;&emsp;&emsp;&emsp;&emsp;&emsp;&emsp;&emsp;&emsp;&emsp;&emsp;&emsp;&emsp;&emsp;&emsp;&emsp;&emsp;&emsp;&emsp;&emsp;&emsp;&emsp;&emsp;&emsp;&emsp;&emsp;&emsp;&emsp;&emsp;&emsp;&emsp;&emsp;&emsp;&emsp;&emsp;&emsp;&emsp;&emsp;&emsp;&emsp;&emsp;&emsp;&emsp;&emsp;&emsp;&emsp;&emsp;&emsp;&emsp;&emsp;&emsp;&emsp;&emsp;&emsp;&emsp;&emsp;&emsp;&emsp;&emsp;&emsp;&emsp;&emsp;&emsp;&emsp;&emsp;|\n",
    "|**%d**|**一个月中的第几天**|\n",
    "|**%f**|**微秒**|\n",
    "|**%H**|**一天中的第几个小时**|\n",
    "|**%I**|**第几个小时**|\n",
    "|**%j**|**一年中的第几天**|\n",
    "|**%m**|**月份**|\n",
    "|**%M**|**分钟**|\n",
    "|**%p**|**本地am或者pm标识**|\n",
    "|**%S**|**秒**|\n",
    "|**%U**|**一年中的星期数**|\n",
    "|**%w**|**一个星期的第几天0-6（0是星期天）**|\n",
    "|**%W**|**和%U基本相同，不同点这是以星期一为一个星期的开始**|\n",
    "|**%x**|**本地时间字符串：/分割，如22/08/01**|\n",
    "|**%X**|**本地时间字符串：:分割，如22:08:01**|\n",
    "|**%y**|**去掉世纪的年份**|\n",
    "|**%Y**|**完整年份**|\n",
    "|**%z**|**与UTC时间的间隔**|\n",
    "|**%Z**|**时区**|\n",
    "|**%%**|**%字符**|"
   ]
  },
  {
   "cell_type": "markdown",
   "id": "5452d2f5-9123-4de8-8ef9-56e2ac241f6d",
   "metadata": {},
   "source": [
    "# **datetime**\n",
    "\n",
    "\n",
    "该datetime模块提供用于操作日期和时间的类。\n",
    "\n",
    "虽然支持日期和时间算术，但实现的重点是用于输出格式和操作的有效属性提取。\n",
    "\n",
    "\n",
    "\n",
    "\n",
    "## **datetime模块中包含如下类：**\n",
    "\n",
    "\n",
    "|**类名**|**功能说明**|\n",
    "|---|---|\n",
    "|**date**&emsp;&emsp;&emsp;&emsp;|**日期对象,常用的属性有year, month, day**&emsp;&emsp;&emsp;&emsp;&emsp;&emsp;&emsp;&emsp;&emsp;&emsp;&emsp;&emsp;&emsp;&emsp;&emsp;&emsp;&emsp;&emsp;&emsp;&emsp;&emsp;&emsp;&emsp;&emsp;&emsp;&emsp;&emsp;&emsp;&emsp;&emsp;&emsp;&emsp;&emsp;&emsp;&emsp;&emsp;&emsp;&emsp;&emsp;&emsp;&emsp;&emsp;&emsp;&emsp;&emsp;&emsp;&emsp;&emsp;&emsp;&emsp;&emsp;&emsp;&emsp;&emsp;&emsp;&emsp;&emsp;&emsp;&emsp;&emsp;&emsp;&emsp;&emsp;&emsp;&emsp;&emsp;&emsp;&emsp;&emsp;&emsp;&emsp;&emsp;&emsp;&emsp;&emsp;&emsp;&emsp;&emsp;&emsp;&emsp;&emsp;&emsp;|\n",
    "|**time**|**时间对象**|\n",
    "|**datetime**|**日期时间对象,常用的属性有hour, minute, second, microsecond**|\n",
    "|**datetime_CAPI**|**日期时间对象C语言接口**|\n",
    "|**timedelta**|**时间间隔，即两个时间点之间的长度**|\n",
    "|**tzinfo**|**时区信息对象**|\n",
    "\n",
    "\n",
    "\n",
    "\n",
    "## **datetime模块中包含的常量**\n",
    "\n",
    "\n",
    "|**常量**|**功能说明**|**用法**|**返回值**|\n",
    "|---|---|---|---|\n",
    "|**MAXYEAR**&emsp;&emsp;&emsp;&emsp;|**返回能表示的最大年份**&emsp;&emsp;&emsp;&emsp;|**datetime.MAXYEAR**&emsp;&emsp;&emsp;&emsp;|**9999**&emsp;&emsp;&emsp;&emsp;&emsp;&emsp;&emsp;&emsp;&emsp;&emsp;&emsp;&emsp;&emsp;&emsp;&emsp;&emsp;&emsp;&emsp;&emsp;&emsp;&emsp;&emsp;&emsp;&emsp;&emsp;&emsp;&emsp;&emsp;&emsp;&emsp;&emsp;&emsp;&emsp;&emsp;&emsp;&emsp;&emsp;&emsp;&emsp;&emsp;&emsp;&emsp;&emsp;&emsp;&emsp;&emsp;&emsp;&emsp;&emsp;&emsp;&emsp;&emsp;&emsp;&emsp;&emsp;&emsp;&emsp;&emsp;&emsp;&emsp;&emsp;&emsp;&emsp;&emsp;&emsp;&emsp;|\n",
    "|**MINYEAR**|**返回能表示的最小年份**|**datetime.MINYEAR**|**1**|"
   ]
  },
  {
   "cell_type": "markdown",
   "id": "9546842d-0dce-4ba1-b8f3-824e499b75bd",
   "metadata": {},
   "source": [
    "## **datetime.date类**"
   ]
  },
  {
   "cell_type": "code",
   "execution_count": 44,
   "id": "d74c4c0c-13e9-41d7-94c0-68eb620c90d9",
   "metadata": {},
   "outputs": [
    {
     "name": "stdout",
     "output_type": "stream",
     "text": [
      "1\n",
      "9999\n"
     ]
    }
   ],
   "source": [
    "import datetime\n",
    "\n",
    "print(datetime.MINYEAR)\n",
    "print(datetime.MAXYEAR)"
   ]
  },
  {
   "cell_type": "code",
   "execution_count": 56,
   "id": "80b19b98-4980-41b7-9bbe-cd734fd94a83",
   "metadata": {},
   "outputs": [
    {
     "data": {
      "text/plain": [
       "datetime.date(2022, 5, 6)"
      ]
     },
     "execution_count": 56,
     "metadata": {},
     "output_type": "execute_result"
    }
   ],
   "source": [
    "\"\"\"\n",
    "date类：date对象由year年份、month月份及day日期三部分构成\n",
    "\n",
    "datetime.date.today()\n",
    "\n",
    "获取当前日期\n",
    "\"\"\"\n",
    "import datetime\n",
    "\n",
    "a = datetime.date.today()\n",
    "a"
   ]
  },
  {
   "cell_type": "code",
   "execution_count": 57,
   "id": "53c64893-e8d0-48ee-bfc5-aee5af7816d1",
   "metadata": {},
   "outputs": [
    {
     "name": "stdout",
     "output_type": "stream",
     "text": [
      "2022 5 6\n"
     ]
    }
   ],
   "source": [
    "print(a.year,a.month,a.day)"
   ]
  },
  {
   "cell_type": "code",
   "execution_count": 58,
   "id": "2a6ff3a3-0a80-4b4b-9413-2d804fd23407",
   "metadata": {},
   "outputs": [
    {
     "data": {
      "text/plain": [
       "datetime.date(2022, 12, 10)"
      ]
     },
     "execution_count": 58,
     "metadata": {},
     "output_type": "execute_result"
    }
   ],
   "source": [
    "\"\"\"\n",
    "datetime.date(year,month,day)\n",
    "\n",
    "返回日期的date类\n",
    "\"\"\"\n",
    "import datetime\n",
    "\n",
    "datetime.date(2022,12,10)\n"
   ]
  },
  {
   "cell_type": "code",
   "execution_count": 60,
   "id": "55de8d3b-666a-4040-ad1f-dc1e7eba957c",
   "metadata": {},
   "outputs": [
    {
     "data": {
      "text/plain": [
       "datetime.timedelta(days=-36524)"
      ]
     },
     "execution_count": 60,
     "metadata": {},
     "output_type": "execute_result"
    }
   ],
   "source": [
    "\"\"\"\n",
    "datetime.date(year,month,day) \n",
    "\n",
    "两个date可以直接相减得到相差的天数\n",
    "\"\"\"\n",
    "import datetime\n",
    "\n",
    "a = datetime.date(2022,12,10)\n",
    "b = datetime.date(1922,12,11)\n",
    "\n",
    "b - a"
   ]
  },
  {
   "cell_type": "code",
   "execution_count": 65,
   "id": "1da2ffd1-eb64-4640-ab3c-e7c31de3638c",
   "metadata": {},
   "outputs": [
    {
     "name": "stdout",
     "output_type": "stream",
     "text": [
      "datetime.IsoCalendarDate(year=2022, week=49, weekday=6)\n",
      "2022-12-10\n",
      "6\n",
      "5\n",
      "time.struct_time(tm_year=2022, tm_mon=12, tm_mday=10, tm_hour=0, tm_min=0, tm_sec=0, tm_wday=5, tm_yday=344, tm_isdst=-1)\n"
     ]
    }
   ],
   "source": [
    "\"\"\"\n",
    "ISO标准化日期\n",
    "\"\"\"\n",
    "import datetime\n",
    "a = datetime.date(2022,12,10)\n",
    "\n",
    "print(a.isocalendar())\n",
    "\n",
    "### 格式化 YYYY-MM-DD\n",
    "print(a.isoformat())\n",
    "\n",
    "### 返回符合ISO标准的指定日期所在的星期数（周一为1…周日为7)\n",
    "print(a.isoweekday())\n",
    "\n",
    "### 返回的周一为 0, 周日为 6 \n",
    "print(a.weekday())\n",
    "\n",
    "\n",
    "### 返回一个类型为time.struct_time的数组，但有关时间的部分元素值为0\n",
    "print(a.timetuple())"
   ]
  },
  {
   "cell_type": "code",
   "execution_count": 66,
   "id": "5f179484-cc77-4d52-84b8-51e0d1a4fe0c",
   "metadata": {},
   "outputs": [
    {
     "data": {
      "text/plain": [
       "738499"
      ]
     },
     "execution_count": 66,
     "metadata": {},
     "output_type": "execute_result"
    }
   ],
   "source": [
    "### 返回公元公历开始到现在的天数。公元1年1月1日为1\n",
    "a.toordinal()"
   ]
  },
  {
   "cell_type": "code",
   "execution_count": 67,
   "id": "846e155e-e655-4cae-8c12-94d171c518bb",
   "metadata": {},
   "outputs": [
    {
     "data": {
      "text/plain": [
       "datetime.date(2021, 2, 28)"
      ]
     },
     "execution_count": 67,
     "metadata": {},
     "output_type": "execute_result"
    }
   ],
   "source": [
    "### 返回一个替换指定日期字段的新date对象。参数3个可选参数，分别为year,month,day。注意替换是产生新对象，不影响原date对象。\n",
    "\n",
    "b = a.replace(2021,2,28)\n",
    "b"
   ]
  },
  {
   "cell_type": "code",
   "execution_count": 70,
   "id": "6ae8df8f-79db-4ad5-9df0-033636790a43",
   "metadata": {},
   "outputs": [
    {
     "data": {
      "text/plain": [
       "datetime.timedelta(days=1)"
      ]
     },
     "execution_count": 70,
     "metadata": {},
     "output_type": "execute_result"
    }
   ],
   "source": [
    "### date对象表示日期的最小单位。这里是天。\n",
    "a.resolution"
   ]
  },
  {
   "cell_type": "code",
   "execution_count": 72,
   "id": "1792f95b-fc2e-48e1-bcf5-da5a101fedb3",
   "metadata": {},
   "outputs": [
    {
     "data": {
      "text/plain": [
       "datetime.date(2022, 12, 10)"
      ]
     },
     "execution_count": 72,
     "metadata": {},
     "output_type": "execute_result"
    }
   ],
   "source": [
    "### 将Gregorian日历时间转换为date对象；Gregorian Calendar ：一种日历表示方法，类似于我国的农历，西方国家使用比较多。\n",
    "\n",
    "datetime.date.fromordinal(a.toordinal())"
   ]
  },
  {
   "cell_type": "code",
   "execution_count": 73,
   "id": "ad149315-9db9-4f8f-be0a-f206b97ee57f",
   "metadata": {},
   "outputs": [
    {
     "data": {
      "text/plain": [
       "datetime.date(2022, 5, 6)"
      ]
     },
     "execution_count": 73,
     "metadata": {},
     "output_type": "execute_result"
    }
   ],
   "source": [
    "### 根据给定的时间戮，返回一个date对象\n",
    "\n",
    "import time\n",
    "datetime.date.fromtimestamp(time.time())"
   ]
  },
  {
   "cell_type": "code",
   "execution_count": 75,
   "id": "f94eb630-545b-4c64-9efa-b456092c74cd",
   "metadata": {},
   "outputs": [
    {
     "data": {
      "text/plain": [
       "datetime.date(9999, 12, 31)"
      ]
     },
     "execution_count": 75,
     "metadata": {},
     "output_type": "execute_result"
    }
   ],
   "source": [
    "### date类能表示的最大的年、月、日的数值\n",
    "datetime.date.max"
   ]
  },
  {
   "cell_type": "code",
   "execution_count": 74,
   "id": "cc209c83-fb56-40e5-a7c7-7f1dbb500f43",
   "metadata": {},
   "outputs": [
    {
     "data": {
      "text/plain": [
       "datetime.date(1, 1, 1)"
      ]
     },
     "execution_count": 74,
     "metadata": {},
     "output_type": "execute_result"
    }
   ],
   "source": [
    "### date类能表示的最小的年、月、日的数值\n",
    "datetime.date.min"
   ]
  },
  {
   "cell_type": "code",
   "execution_count": 76,
   "id": "30d05e60-b7ac-4675-adf3-13457185df4f",
   "metadata": {},
   "outputs": [
    {
     "name": "stdout",
     "output_type": "stream",
     "text": [
      "2022-12-10\n"
     ]
    }
   ],
   "source": [
    "### 格式化date\n",
    "\n",
    "a = datetime.date(2022,12,10)\n",
    "print(a.strftime(\"%Y-%m-%d\"))"
   ]
  },
  {
   "cell_type": "code",
   "execution_count": 77,
   "id": "4efc057c-9839-4008-8edb-36c1b0256505",
   "metadata": {},
   "outputs": [
    {
     "data": {
      "text/plain": [
       "'Sat Dec 10 00:00:00 2022'"
      ]
     },
     "execution_count": 77,
     "metadata": {},
     "output_type": "execute_result"
    }
   ],
   "source": [
    "### ctime样式的格式\n",
    "a.ctime()"
   ]
  },
  {
   "cell_type": "markdown",
   "id": "68bfc1e3-11e4-43c1-bafc-ba1bbcc7d56e",
   "metadata": {},
   "source": [
    "## **datetime.time类**\n",
    "\n",
    "time类由hour小时、minute分钟、second秒、microsecond毫秒和tzinfo五部分组成"
   ]
  },
  {
   "cell_type": "code",
   "execution_count": 78,
   "id": "7e4b7860-8632-415c-be6c-d33ee333de20",
   "metadata": {},
   "outputs": [],
   "source": [
    "import datetime\n",
    "\n",
    "a = datetime.time(10,10,10,399)"
   ]
  },
  {
   "cell_type": "code",
   "execution_count": 80,
   "id": "2fb1ae6d-0ba1-46ea-a3ef-6672cecb7e3f",
   "metadata": {},
   "outputs": [
    {
     "data": {
      "text/plain": [
       "10"
      ]
     },
     "execution_count": 80,
     "metadata": {},
     "output_type": "execute_result"
    }
   ],
   "source": [
    "a.hour"
   ]
  },
  {
   "cell_type": "code",
   "execution_count": 81,
   "id": "7cdb1a1f-c836-4c71-983e-385eee56c2bf",
   "metadata": {},
   "outputs": [
    {
     "data": {
      "text/plain": [
       "10"
      ]
     },
     "execution_count": 81,
     "metadata": {},
     "output_type": "execute_result"
    }
   ],
   "source": [
    "a.minute"
   ]
  },
  {
   "cell_type": "code",
   "execution_count": 82,
   "id": "9d56a1eb-171a-4b6f-aa9d-965214626f3f",
   "metadata": {},
   "outputs": [
    {
     "data": {
      "text/plain": [
       "10"
      ]
     },
     "execution_count": 82,
     "metadata": {},
     "output_type": "execute_result"
    }
   ],
   "source": [
    "a.second"
   ]
  },
  {
   "cell_type": "code",
   "execution_count": 83,
   "id": "8b7a9435-3e68-4079-9ea7-dcd86b668d25",
   "metadata": {},
   "outputs": [
    {
     "data": {
      "text/plain": [
       "399"
      ]
     },
     "execution_count": 83,
     "metadata": {},
     "output_type": "execute_result"
    }
   ],
   "source": [
    "a.microsecond"
   ]
  },
  {
   "cell_type": "code",
   "execution_count": 84,
   "id": "37e80b6d-b127-4425-bf01-6010efa41efc",
   "metadata": {},
   "outputs": [],
   "source": [
    "a.tzinfo"
   ]
  },
  {
   "cell_type": "code",
   "execution_count": 90,
   "id": "9ff55409-167e-4bc9-819f-26edbb3da6f0",
   "metadata": {},
   "outputs": [
    {
     "data": {
      "text/plain": [
       "'10:10:10'"
      ]
     },
     "execution_count": 90,
     "metadata": {},
     "output_type": "execute_result"
    }
   ],
   "source": [
    "### 格式化time类\n",
    "a = datetime.time(10,10,10,399)\n",
    "\n",
    "a.strftime('%H:%M:%S')"
   ]
  },
  {
   "cell_type": "markdown",
   "id": "c01af329-90df-4e43-891e-da37a9a17988",
   "metadata": {},
   "source": [
    "## **datetime.datetime类**\n",
    "\n",
    "datetime类其实是可以看做是date类和time类的合体，其大部分的方法和属性都继承于这二个类，相关的操作方法请参阅，本文上面关于二个类的介绍。其数据构成也是由这二个类所有的属性所组成的。\n",
    "\n",
    "```python\n",
    "datetime(year, month, day[, hour[, minute[, second[,microsecond[,tzinfo]]]]])\n",
    "```"
   ]
  },
  {
   "cell_type": "code",
   "execution_count": 92,
   "id": "49a35436-27d6-40bb-8a4a-0de03d933d16",
   "metadata": {},
   "outputs": [
    {
     "data": {
      "text/plain": [
       "datetime.datetime(2022, 5, 6, 14, 9, 35, 749729)"
      ]
     },
     "execution_count": 92,
     "metadata": {},
     "output_type": "execute_result"
    }
   ],
   "source": [
    "\"\"\"\n",
    "当前具体时间信息\n",
    "\"\"\"\n",
    "import datetime\n",
    "\n",
    "a = datetime.datetime.now()\n",
    "a"
   ]
  },
  {
   "cell_type": "code",
   "execution_count": 93,
   "id": "42998fcd-8a0b-400c-be29-aa84401b37f2",
   "metadata": {},
   "outputs": [
    {
     "data": {
      "text/plain": [
       "datetime.date(2022, 5, 6)"
      ]
     },
     "execution_count": 93,
     "metadata": {},
     "output_type": "execute_result"
    }
   ],
   "source": [
    "### 返回datetime对象的日期部分\n",
    "\n",
    "a.date()"
   ]
  },
  {
   "cell_type": "code",
   "execution_count": 94,
   "id": "59940f65-2df4-45f3-8972-bd90328470d5",
   "metadata": {},
   "outputs": [
    {
     "data": {
      "text/plain": [
       "datetime.time(14, 9, 35, 749729)"
      ]
     },
     "execution_count": 94,
     "metadata": {},
     "output_type": "execute_result"
    }
   ],
   "source": [
    "# 返回datetime对象的时间部分\n",
    "a.time()"
   ]
  },
  {
   "cell_type": "code",
   "execution_count": 95,
   "id": "ffeb8f1e-4d33-4cb1-8ffb-255f295339bd",
   "metadata": {},
   "outputs": [
    {
     "data": {
      "text/plain": [
       "time.struct_time(tm_year=2022, tm_mon=5, tm_mday=6, tm_hour=14, tm_min=9, tm_sec=35, tm_wday=4, tm_yday=126, tm_isdst=0)"
      ]
     },
     "execution_count": 95,
     "metadata": {},
     "output_type": "execute_result"
    }
   ],
   "source": [
    "# 返回UTC时间元组\n",
    "a.utctimetuple()"
   ]
  },
  {
   "cell_type": "code",
   "execution_count": 96,
   "id": "6904569a-0472-426e-812b-afec6d5349eb",
   "metadata": {},
   "outputs": [
    {
     "data": {
      "text/plain": [
       "datetime.datetime(2022, 5, 6, 14, 9, 35, 749729)"
      ]
     },
     "execution_count": 96,
     "metadata": {},
     "output_type": "execute_result"
    }
   ],
   "source": [
    "# 将一个date对象和一个time对象合并生成一个datetime对象\n",
    "\n",
    "datetime.datetime.combine(a.date(),a.time())"
   ]
  },
  {
   "cell_type": "code",
   "execution_count": 97,
   "id": "c5612cd0-318f-4b1a-aeb4-a2409432ecdc",
   "metadata": {},
   "outputs": [
    {
     "data": {
      "text/plain": [
       "datetime.datetime(2022, 5, 6, 15, 25, 35)"
      ]
     },
     "execution_count": 97,
     "metadata": {},
     "output_type": "execute_result"
    }
   ],
   "source": [
    "# 根据string, format 2个参数，返回一个对应的datetime对象\n",
    "\n",
    "datetime.datetime.strptime('2022-05-06 15:25:35','%Y-%m-%d %H:%M:%S')"
   ]
  },
  {
   "cell_type": "markdown",
   "id": "5612ee27-e6f5-4afe-ae55-92b61664d1cf",
   "metadata": {},
   "source": [
    "## **datetime.timedelta类**\n",
    "\n",
    "timedelta类是用来计算二个datetime对象的差值的。 \n",
    "此类中包含如下属性：\n",
    "\n",
    "- days:天数 \n",
    "- microseconds：微秒数(>=0 并且 <1秒） \n",
    "- seconds：秒数(>=0 并且 <1天）"
   ]
  },
  {
   "cell_type": "code",
   "execution_count": 100,
   "id": "1fadc1be-f3cf-488e-b47a-7dea885d23cf",
   "metadata": {},
   "outputs": [
    {
     "data": {
      "text/plain": [
       "datetime.timedelta(days=-365)"
      ]
     },
     "execution_count": 100,
     "metadata": {},
     "output_type": "execute_result"
    }
   ],
   "source": [
    "a = datetime.datetime(2022,10,10,10,10,10)\n",
    "b = datetime.datetime(2021,10,10,10,10,10)\n",
    "\n",
    "b - a"
   ]
  },
  {
   "cell_type": "code",
   "execution_count": 101,
   "id": "09d53685-7b6b-4d38-80e1-ce3277f01395",
   "metadata": {},
   "outputs": [
    {
     "data": {
      "text/plain": [
       "datetime.datetime(2022, 10, 9, 10, 10, 10)"
      ]
     },
     "execution_count": 101,
     "metadata": {},
     "output_type": "execute_result"
    }
   ],
   "source": [
    "a + datetime.timedelta(days=-1)"
   ]
  },
  {
   "cell_type": "code",
   "execution_count": 102,
   "id": "09749a6b-e132-4f6a-a917-3dc6a44e1b1a",
   "metadata": {},
   "outputs": [
    {
     "data": {
      "text/plain": [
       "datetime.datetime(2022, 10, 20, 10, 10, 10)"
      ]
     },
     "execution_count": 102,
     "metadata": {},
     "output_type": "execute_result"
    }
   ],
   "source": [
    "a + datetime.timedelta(days=10)"
   ]
  },
  {
   "cell_type": "markdown",
   "id": "dee441ae-e5b7-467e-a84f-f9aa10b5b59b",
   "metadata": {},
   "source": [
    "## **拓展：时间格式的转化**"
   ]
  },
  {
   "cell_type": "code",
   "execution_count": 105,
   "id": "85e2d950-6bf0-40c2-8bf9-d808953d4bbc",
   "metadata": {},
   "outputs": [],
   "source": [
    "class timeProcess(object):\n",
    "    '''\n",
    "    Description:\n",
    "        时间操作集合\n",
    "    Args:\n",
    "        timeformat: str, '%Y-%m-%d %H:%M:%S'\n",
    "    Example:\n",
    "        >>> t = '2019-07-15 13:29:33'\n",
    "        >>> tp=timeProcess()\n",
    "        >>> tp.string2time(t)\n",
    "        >>> tp.time2string(tp.string2time(t))\n",
    "        >>> tp.string2datetime(t)\n",
    "        >>> tp.datetime2string(tp.string2datetime(t))\n",
    "        >>> tp.getBeforeDays(t,7)\n",
    "        >>> tp.getAfterDays(t,7)\n",
    "        >>> tp.stamp2string()\n",
    "        >>> tss1 = '2013-10-10 23:40:00'\n",
    "        >>> tp.string2stamp(tss1)\n",
    "    '''\n",
    "    __slots__ = (\"timeformat\")\n",
    "    def __init__(self,timeformat='%Y-%m-%d %H:%M:%S'):\n",
    "        self.timeformat = timeformat\n",
    "\n",
    "    def time2string(self,timeStruct,timeformat='%Y-%m-%d %H:%M:%S'):\n",
    "        now_time = time.strftime(timeformat,timeStruct)\n",
    "        return now_time\n",
    "\n",
    "    def string2time(self,timeString,timeformat='%Y-%m-%d %H:%M:%S'):\n",
    "        now_time = time.strptime(timeString,timeformat)\n",
    "        return now_time\n",
    "\n",
    "    def datetime2string(self,timeStruct,timeformat='%Y-%m-%d %H:%M:%S'):\n",
    "        now_time = datetime.datetime.strftime(timeStruct,timeformat)\n",
    "        return now_time\n",
    "\n",
    "    def string2datetime(self,timeString,timeformat='%Y-%m-%d %H:%M:%S'):\n",
    "        now_time = datetime.datetime.strptime(timeString,timeformat)\n",
    "        return now_time\n",
    "\n",
    "    def stamp2string(self,timeStamp=1563773373.634,timeformat='%Y-%m-%d %H:%M:%S'):\n",
    "        timeLocal = time.localtime(timeStamp)\n",
    "        timeString = self.time2string(timeLocal,timeformat)\n",
    "        return timeString\n",
    "    \n",
    "    def string2stamp(self,timeString,timeformat='%Y-%m-%d %H:%M:%S'):\n",
    "        timestamp = self.string2time(timeString,timeformat)\n",
    "        timestamp = time.mktime(timestamp)\n",
    "        return timestamp\n",
    "\n",
    "    def getBeforeDays(self,timeString,days):\n",
    "        now_time = self.string2datetime(timeString,self.timeformat)\n",
    "        delta = datetime.timedelta(days=days)\n",
    "        now_time -= delta\n",
    "        now_time = self.datetime2string(now_time,self.timeformat)\n",
    "        return now_time\n",
    "\n",
    "    def getBeforeHours(self,timeString,hours):\n",
    "        now_time = self.string2datetime(timeString,self.timeformat)\n",
    "        delta = datetime.timedelta(hours=hours)\n",
    "        now_time -= delta\n",
    "        now_time = self.datetime2string(now_time,self.timeformat)\n",
    "        return now_time\n",
    "\n",
    "    def getBeforeMinutes(self,timeString,minutes):\n",
    "        now_time = self.string2datetime(timeString,self.timeformat)\n",
    "        delta = datetime.timedelta(minutes=minutes)\n",
    "        now_time -= delta\n",
    "        now_time = self.datetime2string(now_time,self.timeformat)\n",
    "        return now_time\n",
    "\n",
    "    def getBeforeSeconds(self,timeString,seconds):\n",
    "        now_time = self.string2datetime(timeString,self.timeformat)\n",
    "        delta = datetime.timedelta(seconds=seconds)\n",
    "        now_time -= delta\n",
    "        now_time = self.datetime2string(now_time,self.timeformat)\n",
    "        return now_time\n",
    "\n",
    "    def getAfterDays(self,timeString,days):\n",
    "        now_time = self.string2datetime(timeString,self.timeformat)\n",
    "        delta = datetime.timedelta(days=days)\n",
    "        now_time += delta\n",
    "        now_time = self.datetime2string(now_time,self.timeformat)\n",
    "        return now_time\n",
    "\n",
    "    def getAfterHours(self,timeString,hours):\n",
    "        now_time = self.string2datetime(timeString,self.timeformat)\n",
    "        delta = datetime.timedelta(hours=hours)\n",
    "        now_time += delta\n",
    "        now_time = self.datetime2string(now_time,self.timeformat)\n",
    "        return now_time\n",
    "\n",
    "    def getAfterMinutes(self,timeString,minutes):\n",
    "        now_time = self.string2datetime(timeString,self.timeformat)\n",
    "        delta = datetime.timedelta(minutes=minutes)\n",
    "        now_time += delta\n",
    "        now_time = self.datetime2string(now_time,self.timeformat)\n",
    "        return now_time\n",
    "\n",
    "    def getAfterSeconds(self,timeString,seconds):\n",
    "        now_time = self.string2datetime(timeString,self.timeformat)\n",
    "        delta = datetime.timedelta(seconds=seconds)\n",
    "        now_time += delta\n",
    "        now_time = self.datetime2string(now_time,self.timeformat)\n",
    "        return now_time"
   ]
  },
  {
   "cell_type": "markdown",
   "id": "afbe367d-e45b-441e-b80f-f66e0a52fe93",
   "metadata": {},
   "source": [
    "## **拓展：时间装饰器**"
   ]
  },
  {
   "cell_type": "code",
   "execution_count": 109,
   "id": "c2f978d6-c421-4b58-a221-a050bde8458a",
   "metadata": {},
   "outputs": [
    {
     "name": "stdout",
     "output_type": "stream",
     "text": [
      "one process time: : 0.0\n",
      "process range time: : 0.0\n",
      "Function( async_main ) elapsed time: 2.008802 seconds.\n",
      "Help on function async_main in module __main__:\n",
      "\n",
      "async_main(a)\n",
      "    help me\n",
      "\n"
     ]
    }
   ],
   "source": [
    "import time\n",
    "import datetime\n",
    "import asyncio\n",
    "from functools import wraps\n",
    "\n",
    "\n",
    "class timeiter(object):\n",
    "    \"\"\"\n",
    "    Description:\n",
    "        同步，异步时间计数器\n",
    "    Args:\n",
    "        desc: (type,str), 描述信息\n",
    "    Output:\n",
    "        None, 上下文管理器和装饰器\n",
    "    \"\"\"\n",
    "    __slots__ = (\"desc\",\"printer\",\"start_time\",\"end_time\",\"total_time\")\n",
    "\n",
    "    def __init__(self,desc = \"\", printer = \"\"):\n",
    "        self.desc = desc\n",
    "        self.printer = print if not printer else printer\n",
    "\n",
    "    def __enter__(self):\n",
    "        self.start_time = time.time()\n",
    "\n",
    "    # def __exit__(self,exc_type, exc_val, exc_tb):\n",
    "    def __exit__(self, *args):\n",
    "        self.end_time = time.time()\n",
    "        self.total_time = self.end_time - self.start_time\n",
    "        self.printer(f\"{self.desc}: {self.total_time}\")\n",
    "\n",
    "    @staticmethod\n",
    "    def timed_op(op = \"time\", printer = None):\n",
    "        def wrapper(func):\n",
    "            # 增加functools.wraps: help时可保留属性，否则不然\n",
    "            # 可保持当前装饰器装饰的函数的__name__值不变\n",
    "            @wraps(func)\n",
    "            def sync_deco(*args,**kwargs):\n",
    "                '''同步时间计数器'''\n",
    "                if op == \"time\":\n",
    "                    timer = time.time\n",
    "                elif op == \"perf_counter\":\n",
    "                    timer = time.perf_counter\n",
    "                else:\n",
    "                    raise Exception(\"time format is not allowed.\")\n",
    "                start = timer()\n",
    "                result = func(*args,**kwargs)\n",
    "                end = timer()\n",
    "                time_info = f\"Function( {func.__name__} ) elapsed time: {round(end - start, 8)} seconds.\"\n",
    "                printers = printer.info if printer else print\n",
    "                printers(time_info)\n",
    "                return result\n",
    "            \n",
    "            @wraps(func)\n",
    "            async def async_deco(*args,**kwargs):\n",
    "                '''异步时间计数器'''\n",
    "                if op == \"time\":\n",
    "                    timer = time.time\n",
    "                elif op == \"perf_counter\":\n",
    "                    timer = time.perf_counter\n",
    "                else:\n",
    "                    raise Exception(\"time format is not allowed.\")\n",
    "                start = timer()\n",
    "                result = await func(*args,**kwargs)\n",
    "                end = timer()\n",
    "                time_info = f\"Function( {func.__name__} ) elapsed time: {round(end - start, 8)} seconds.\"\n",
    "                printers = printer.info if printer else print\n",
    "                printers(time_info)\n",
    "                return result \n",
    "\n",
    "            return async_deco if asyncio.iscoroutinefunction(func) else sync_deco\n",
    "        return wrapper\n",
    "\n",
    "\n",
    "\n",
    "\n",
    "if __name__ == \"__main__\":\n",
    "    with timeiter(desc = \"process range time: \"):\n",
    "        s = [x for x in range(100)]\n",
    "        with timeiter(desc = \"one process time: \"):\n",
    "            b = [x for x in range(100)]\n",
    "\n",
    "    @timeiter.timed_op(op = \"perf_counter\")\n",
    "    def async_main(a):\n",
    "        '''\n",
    "        help me\n",
    "        '''\n",
    "        for x in range(a):\n",
    "            time.sleep(1)\n",
    "        return x\n",
    "\n",
    "    async_main(2)\n",
    "\n",
    "    help(async_main)"
   ]
  },
  {
   "cell_type": "markdown",
   "id": "95f4c5fd-f46f-440c-9a51-9d20349013fd",
   "metadata": {},
   "source": [
    "# **calendar**\n",
    "\n",
    "\n",
    "calendar（日历）模块，默认每周第一天是星期一，最后一天是星期天。这也是python一个处理时间的模块。提供了对日期的一些操作方法，和生成日历的方法。\n",
    "\n",
    "\n",
    "calendar模块中提供了三大类：\n",
    "\n",
    "- calendar.Calendar(firstweekday=0)：该类提供了许多生成器，如星期的生成器，某月日历生成器\n",
    "\n",
    "- calendar.TextCalendar(firstweekday=0)：该类提供了按月、按年生成日历字符串的方法。\n",
    "\n",
    "- calendar.HTMLCalendar(firstweekday=0)：类似TextCalendar，不过生成的是HTML格式日历\n",
    "\n",
    "\n",
    "一般常用第一类，其他都不怎么常用。"
   ]
  },
  {
   "cell_type": "code",
   "execution_count": 46,
   "id": "124d01bd-cdba-4d94-9f0d-e5297bb25c6f",
   "metadata": {},
   "outputs": [
    {
     "name": "stdout",
     "output_type": "stream",
     "text": [
      "                                  2022\n",
      "\n",
      "      January                   February                   March\n",
      "Mo Tu We Th Fr Sa Su      Mo Tu We Th Fr Sa Su      Mo Tu We Th Fr Sa Su\n",
      "                1  2          1  2  3  4  5  6          1  2  3  4  5  6\n",
      " 3  4  5  6  7  8  9       7  8  9 10 11 12 13       7  8  9 10 11 12 13\n",
      "10 11 12 13 14 15 16      14 15 16 17 18 19 20      14 15 16 17 18 19 20\n",
      "17 18 19 20 21 22 23      21 22 23 24 25 26 27      21 22 23 24 25 26 27\n",
      "24 25 26 27 28 29 30      28                        28 29 30 31\n",
      "31\n",
      "\n",
      "       April                      May                       June\n",
      "Mo Tu We Th Fr Sa Su      Mo Tu We Th Fr Sa Su      Mo Tu We Th Fr Sa Su\n",
      "             1  2  3                         1             1  2  3  4  5\n",
      " 4  5  6  7  8  9 10       2  3  4  5  6  7  8       6  7  8  9 10 11 12\n",
      "11 12 13 14 15 16 17       9 10 11 12 13 14 15      13 14 15 16 17 18 19\n",
      "18 19 20 21 22 23 24      16 17 18 19 20 21 22      20 21 22 23 24 25 26\n",
      "25 26 27 28 29 30         23 24 25 26 27 28 29      27 28 29 30\n",
      "                          30 31\n",
      "\n",
      "        July                     August                  September\n",
      "Mo Tu We Th Fr Sa Su      Mo Tu We Th Fr Sa Su      Mo Tu We Th Fr Sa Su\n",
      "             1  2  3       1  2  3  4  5  6  7                1  2  3  4\n",
      " 4  5  6  7  8  9 10       8  9 10 11 12 13 14       5  6  7  8  9 10 11\n",
      "11 12 13 14 15 16 17      15 16 17 18 19 20 21      12 13 14 15 16 17 18\n",
      "18 19 20 21 22 23 24      22 23 24 25 26 27 28      19 20 21 22 23 24 25\n",
      "25 26 27 28 29 30 31      29 30 31                  26 27 28 29 30\n",
      "\n",
      "      October                   November                  December\n",
      "Mo Tu We Th Fr Sa Su      Mo Tu We Th Fr Sa Su      Mo Tu We Th Fr Sa Su\n",
      "                1  2          1  2  3  4  5  6                1  2  3  4\n",
      " 3  4  5  6  7  8  9       7  8  9 10 11 12 13       5  6  7  8  9 10 11\n",
      "10 11 12 13 14 15 16      14 15 16 17 18 19 20      12 13 14 15 16 17 18\n",
      "17 18 19 20 21 22 23      21 22 23 24 25 26 27      19 20 21 22 23 24 25\n",
      "24 25 26 27 28 29 30      28 29 30                  26 27 28 29 30 31\n",
      "31\n",
      "\n"
     ]
    }
   ],
   "source": [
    "\"\"\"\n",
    "calendar.calendar()\n",
    "\n",
    "用来获取某一年的日历\n",
    "\"\"\"\n",
    "import calendar\n",
    "\n",
    "a = calendar.calendar(2022)\n",
    "print(a)"
   ]
  },
  {
   "cell_type": "code",
   "execution_count": 47,
   "id": "9c428e9b-44b0-4331-9ab7-6e7b29d31890",
   "metadata": {},
   "outputs": [
    {
     "name": "stdout",
     "output_type": "stream",
     "text": [
      "    October 2022\n",
      "Mo Tu We Th Fr Sa Su\n",
      "                1  2\n",
      " 3  4  5  6  7  8  9\n",
      "10 11 12 13 14 15 16\n",
      "17 18 19 20 21 22 23\n",
      "24 25 26 27 28 29 30\n",
      "31\n",
      "\n"
     ]
    }
   ],
   "source": [
    "\"\"\"\n",
    "calendar.month(year, month)\n",
    "\n",
    "用来获取某一个月的日历\n",
    "\"\"\"\n",
    "import calendar\n",
    "\n",
    "a = calendar.month(2022, 10)\n",
    "print(a)"
   ]
  },
  {
   "cell_type": "code",
   "execution_count": 48,
   "id": "28791bc0-de6a-4f90-a580-6ff6f2331f2a",
   "metadata": {},
   "outputs": [
    {
     "data": {
      "text/plain": [
       "False"
      ]
     },
     "execution_count": 48,
     "metadata": {},
     "output_type": "execute_result"
    }
   ],
   "source": [
    "\"\"\"\n",
    "calendar.isleap(year)\n",
    "\n",
    "判断是否是闰年\n",
    "\"\"\"\n",
    "import calendar\n",
    "\n",
    "calendar.isleap(2022)"
   ]
  },
  {
   "cell_type": "code",
   "execution_count": 49,
   "id": "c8e2624a-aa5b-434c-8d9a-7b576bc0ab95",
   "metadata": {},
   "outputs": [
    {
     "data": {
      "text/plain": [
       "25"
      ]
     },
     "execution_count": 49,
     "metadata": {},
     "output_type": "execute_result"
    }
   ],
   "source": [
    "\"\"\"\n",
    "calendar.leapdays(year1,year2)\n",
    "\n",
    "检测两个年份之间闰年的个数\n",
    "\"\"\"\n",
    "import calendar\n",
    "\n",
    "calendar.leapdays(1922,2022)"
   ]
  },
  {
   "cell_type": "code",
   "execution_count": 50,
   "id": "66e2df3b-222f-448c-a549-0b20f6d2a719",
   "metadata": {},
   "outputs": [
    {
     "data": {
      "text/plain": [
       "0"
      ]
     },
     "execution_count": 50,
     "metadata": {},
     "output_type": "execute_result"
    }
   ],
   "source": [
    "\"\"\"\n",
    "calendar.firstweekday()\n",
    "\n",
    "返回当前每周起始日期的设置。默认情况下，首次载入caendar模块时返回0，即星期一。\n",
    "\"\"\"\n",
    "import calendar\n",
    "\n",
    "calendar.firstweekday()"
   ]
  },
  {
   "cell_type": "code",
   "execution_count": 52,
   "id": "b4e7fa63-0032-410a-b021-a4ffd81fb380",
   "metadata": {},
   "outputs": [
    {
     "data": {
      "text/plain": [
       "6"
      ]
     },
     "execution_count": 52,
     "metadata": {},
     "output_type": "execute_result"
    }
   ],
   "source": [
    "\"\"\"\n",
    "calendar.setfirstweekday(calendar.SUNDAY)\n",
    "\n",
    "默认每周的第一天是星期一，这里修改成星期天\n",
    "\"\"\"\n",
    "import calendar\n",
    "\n",
    "calendar.setfirstweekday(calendar.SUNDAY)\n",
    "calendar.firstweekday()"
   ]
  },
  {
   "cell_type": "code",
   "execution_count": 53,
   "id": "8995d6df-c9a4-4a98-8607-d6264558f9c4",
   "metadata": {},
   "outputs": [
    {
     "data": {
      "text/plain": [
       "2"
      ]
     },
     "execution_count": 53,
     "metadata": {},
     "output_type": "execute_result"
    }
   ],
   "source": [
    "\"\"\"\n",
    "calendar.weekday(year,month,day)\n",
    "\n",
    "返回给定日期的日期码。0（星期一）到6（星期日）。月份为 1（一月） 到 12（12月）。\n",
    "\"\"\"\n",
    "import calendar\n",
    "\n",
    "calendar.weekday(2022,10,12)"
   ]
  },
  {
   "cell_type": "markdown",
   "id": "8cd3486b-5d7c-40ef-ae08-7361a113014d",
   "metadata": {},
   "source": [
    "---"
   ]
  },
  {
   "cell_type": "markdown",
   "id": "89752478-4a3d-4b60-bdce-b206b9834724",
   "metadata": {},
   "source": [
    "# **三、日志操作：logging**\n",
    "\n",
    "---\n",
    "\n",
    "\n",
    "Python logging 模块定义了为应用程序和库实现灵活的事件日志记录的函数和类。\n",
    "\n",
    "程序开发过程中，很多程序都有记录日志的需求，并且日志包含的信息有正常的程序访问日志还可能有错误、警告等信息输出，Python 的 logging 模块提供了标准的日志接口，可以通过它存储各种格式的日志,日志记录提供了一组便利功能，用于简单的日志记录用法。\n",
    "\n",
    "- 使用 Python logging 模块的主要好处是所有 Python 模块都可以参与日志记录\n",
    "- logging 模块提供了大量具有灵活性的功能\n",
    "\n",
    "日志记录函数以它们用来跟踪的事件的级别或严重性命名。下面描述了标准级别及其适用性（从高到低的顺序）：\n",
    "\n",
    "\n",
    "- 日志级别等级排序：critical > error > warning > info > debug\n",
    "\n",
    "\n",
    "级别越高打印的日志越少，反之亦然，即\n",
    "\n",
    "- debug : 打印全部的日志( notset 等同于 debug )\n",
    "- info : 打印 info, warning, error, critical 级别的日志\n",
    "- warning : 打印 warning, error, critical 级别的日志\n",
    "- error : 打印 error, critical 级别的日志\n",
    "- critical : 打印 critical 级别"
   ]
  },
  {
   "cell_type": "code",
   "execution_count": 110,
   "id": "ac3b23f2-0991-4512-9596-b6b8b9b15cc7",
   "metadata": {},
   "outputs": [
    {
     "name": "stderr",
     "output_type": "stream",
     "text": [
      "INFO: [2022-05-06 14:27:01,807] - [584422298.py / line: 8] - [Python info]\n",
      "WARNING: [2022-05-06 14:27:01,807] - [584422298.py / line: 9] - [Python warning]\n",
      "ERROR: [2022-05-06 14:27:01,822] - [584422298.py / line: 10] - [Python Error]\n",
      "CRITICAL: [2022-05-06 14:27:01,823] - [584422298.py / line: 11] - [Python critical]\n"
     ]
    }
   ],
   "source": [
    "\"\"\"\n",
    "一般使用方式\n",
    "\"\"\"\n",
    "\n",
    "import logging\n",
    "\n",
    "logging.debug('Python debug')\n",
    "logging.info('Python info')\n",
    "logging.warning('Python warning')\n",
    "logging.error('Python Error')\n",
    "logging.critical('Python critical')"
   ]
  },
  {
   "cell_type": "code",
   "execution_count": 111,
   "id": "04edf27b-5c90-42c9-9e61-4a23c0b2e2b4",
   "metadata": {},
   "outputs": [
    {
     "name": "stderr",
     "output_type": "stream",
     "text": [
      "INFO: [2022-05-06 14:27:54,709] - [2676761298.py / line: 9] - [Python info]\n",
      "WARNING: [2022-05-06 14:27:54,710] - [2676761298.py / line: 10] - [Python warning]\n",
      "ERROR: [2022-05-06 14:27:54,710] - [2676761298.py / line: 11] - [Python Error]\n",
      "CRITICAL: [2022-05-06 14:27:54,711] - [2676761298.py / line: 12] - [Python critical]\n"
     ]
    }
   ],
   "source": [
    "\"\"\"\n",
    "设置日志级别\n",
    "\"\"\"\n",
    "\n",
    "import logging\n",
    "\n",
    "logging.basicConfig(level=logging.INFO)\n",
    "logging.debug('Python debug')\n",
    "logging.info('Python info')\n",
    "logging.warning('Python warning')\n",
    "logging.error('Python Error')\n",
    "logging.critical('Python critical')"
   ]
  },
  {
   "cell_type": "code",
   "execution_count": 113,
   "id": "746f18cc-1cea-42db-9a70-9816427e0aee",
   "metadata": {},
   "outputs": [
    {
     "name": "stderr",
     "output_type": "stream",
     "text": [
      "INFO: [2022-05-06 14:30:04,167] - [3296713870.py / line: 11] - [Python info]\n",
      "WARNING: [2022-05-06 14:30:04,168] - [3296713870.py / line: 12] - [Python warning]\n",
      "ERROR: [2022-05-06 14:30:04,168] - [3296713870.py / line: 13] - [Python Error]\n",
      "CRITICAL: [2022-05-06 14:30:04,169] - [3296713870.py / line: 14] - [Python critical]\n"
     ]
    }
   ],
   "source": [
    "\"\"\"\n",
    "设置日志记录到文件\n",
    "\"\"\"\n",
    "\n",
    "import logging\n",
    "\n",
    "logging.basicConfig(filename = './log.log', level=logging.INFO)\n",
    "logger = logging.getLogger(__name__)\n",
    "\n",
    "logger.debug('Python debug')\n",
    "logger.info('Python info')\n",
    "logger.warning('Python warning')\n",
    "logger.error('Python Error')\n",
    "logger.critical('Python critical')"
   ]
  },
  {
   "cell_type": "code",
   "execution_count": 114,
   "id": "7598664a-918f-4259-b8ea-a36f9e27dffc",
   "metadata": {},
   "outputs": [
    {
     "name": "stderr",
     "output_type": "stream",
     "text": [
      "INFO: [2022-05-06 14:31:39,531] - [2688568788.py / line: 14] - [Python info]\n",
      "WARNING: [2022-05-06 14:31:39,532] - [2688568788.py / line: 15] - [Python warning]\n",
      "ERROR: [2022-05-06 14:31:39,533] - [2688568788.py / line: 16] - [Python Error]\n",
      "CRITICAL: [2022-05-06 14:31:39,534] - [2688568788.py / line: 17] - [Python critical]\n"
     ]
    }
   ],
   "source": [
    "\"\"\"\n",
    "设置日志显示格式\n",
    "\"\"\"\n",
    "\n",
    "import logging\n",
    "\n",
    "logging.basicConfig(\n",
    "    filename = './log.log',\n",
    "    level = logging.INFO,\n",
    "    format = \"%(levelname)s: [%(asctime)s] - [%(filename)s / line: %(lineno)d] - [%(message)s]\"\n",
    ")\n",
    "logger = logging.getLogger(__name__)\n",
    "logger.debug('Python debug')\n",
    "logger.info('Python info')\n",
    "logger.warning('Python warning')\n",
    "logger.error('Python Error')\n",
    "logger.critical('Python critical')"
   ]
  },
  {
   "cell_type": "markdown",
   "id": "7049092a-3aad-41ee-abd0-82ef3e158f17",
   "metadata": {},
   "source": [
    "## **format参数中可能用到的格式化信息：**\n",
    "\n",
    "- **%(name)s：Logger的名字**\n",
    "\n",
    "- **%(levelno)s：数字形式的日志级别**\n",
    "\n",
    "- **%(levelname)s：文本形式的日志级别**\n",
    "\n",
    "- **%(pathname)s：调用日志输出函数的模块的完整路径名，可能没有**\n",
    "\n",
    "- **%(filename)s：调用日志输出函数的模块的文件名**\n",
    "\n",
    "- **%(module)s：调用日志输出函数的模块名**\n",
    "\n",
    "- **%(funcName)s：调用日志输出函数的函数名**\n",
    "\n",
    "- **%(lineno)d：调用日志输出函数的语句所在的代码行**\n",
    "\n",
    "- **%(created)f：当前时间，用UNIX标准的表示时间的浮 点数表示**\n",
    "\n",
    "- **%(relativeCreated)d：输出日志信息时的，自Logger创建以 来的毫秒数**\n",
    "\n",
    "- **%(asctime)s：字符串形式的当前时间。默认格式是 “2003-07-08 16:49:45,896”。逗号后面的是毫秒**\n",
    "\n",
    "- **%(thread)d：线程ID。可能没有**\n",
    "\n",
    "- **%(threadName)s：线程名。可能没有**\n",
    "\n",
    "- **%(process)d：进程ID。可能没有**\n",
    "\n",
    "- **%(message)s：日志信息**\n"
   ]
  },
  {
   "cell_type": "code",
   "execution_count": 116,
   "id": "d8d497c4-a6ac-4329-93cc-51b63a683c16",
   "metadata": {},
   "outputs": [
    {
     "name": "stderr",
     "output_type": "stream",
     "text": [
      "INFO: [2022/05/06 14:37:21] - [608606045.py: 65] - [Python info]\n",
      "INFO: [2022-05-06 14:37:21,637] - [608606045.py / line: 65] - [Python info]\n",
      "WARNING: [2022/05/06 14:37:21] - [608606045.py: 66] - [Python warning]\n",
      "WARNING: [2022-05-06 14:37:21,637] - [608606045.py / line: 66] - [Python warning]\n",
      "ERROR: [2022/05/06 14:37:21] - [608606045.py: 67] - [Python Error]\n",
      "ERROR: [2022-05-06 14:37:21,637] - [608606045.py / line: 67] - [Python Error]\n",
      "CRITICAL: [2022/05/06 14:37:21] - [608606045.py: 68] - [Python critical]\n",
      "CRITICAL: [2022-05-06 14:37:21,637] - [608606045.py / line: 68] - [Python critical]\n"
     ]
    }
   ],
   "source": [
    "\"\"\"\n",
    "设置日志回滚\n",
    "\n",
    "有时候需要长时间保留日志，这样会导致日志很大，不方便查找具体某一时刻的日志\n",
    "\"\"\"\n",
    "\n",
    "import logging\n",
    "from logging.handlers import TimedRotatingFileHandler\n",
    "\n",
    "\n",
    "def logHandler(filename,level = \"\",fmt=\"\",datefmt='',when=\"midnight\",interval=1,backCount=30,suffix=\"%Y%m%d.back\"):\n",
    "    \"\"\"\n",
    "    Description:\n",
    "        实例化日志回滚：TimedRotatingFileHandler\n",
    "    Args:\n",
    "        filename: (type,str), 日志输出文件\n",
    "        level: (type,str), 日志输出登记\n",
    "        when: (type,str), 日志时间设置单位\n",
    "                S 秒\n",
    "                M 分\n",
    "                H 小时\n",
    "                D 天\n",
    "                W 星期 (interval == 0时代表周一)\n",
    "                midnight 每天凌晨\n",
    "        interval: (type,str), 时间间隔数\n",
    "        backCoun: (type,str), 备份的日志文件个数\n",
    "        suffix: (type,str), 设置后缀名称，跟strftime的格式一样\n",
    "    Output:\n",
    "        logger\n",
    "    \"\"\"        \n",
    "    logger = logging.getLogger(filename)\n",
    "    logger.setLevel(level)\n",
    "    fmt = logging.Formatter(fmt,datefmt)\n",
    "    # 文件写入以及指定间隔时间生成文件\n",
    "    fileTimeHandler = TimedRotatingFileHandler(\n",
    "        filename = filename,\n",
    "        when = when,\n",
    "        interval=interval,\n",
    "        backupCount=backCount,\n",
    "        encoding='utf-8'\n",
    "    )\n",
    "    fileTimeHandler.suffix = suffix\n",
    "    fileTimeHandler.setFormatter(fmt)\n",
    "    fileTimeHandler.setLevel(level)\n",
    "    consoleHandler = logging.StreamHandler()                      # 往屏幕上输出\n",
    "    consoleHandler.setFormatter(fmt)                       # 设置屏幕上显示的格式\n",
    "    consoleHandler.setLevel(level)\n",
    "    logger.addHandler(fileTimeHandler)\n",
    "    logger.addHandler(consoleHandler) \n",
    "    return logger\n",
    "\n",
    "\n",
    "logger = logHandler(\n",
    "    filename = './1.log',\n",
    "    level = logging.INFO,\n",
    "    fmt = \"%(levelname)s: [%(asctime)s] - [%(filename)s: %(lineno)d] - [%(message)s]\",\n",
    "    datefmt= \"%Y/%m/%d %H:%M:%S\",\n",
    "    when = \"midnight\",\n",
    "    interval=1,\n",
    "    backCount=30,\n",
    "    suffix=\"%Y%m%d.back\"\n",
    ")\n",
    "\n",
    "logger.debug('Python debug')\n",
    "logger.info('Python info')\n",
    "logger.warning('Python warning')\n",
    "logger.error('Python Error')\n",
    "logger.critical('Python critical')"
   ]
  },
  {
   "cell_type": "markdown",
   "id": "dd6414a0-45bd-4759-b5c1-bf99731b849a",
   "metadata": {},
   "source": [
    "---"
   ]
  },
  {
   "cell_type": "markdown",
   "id": "f56bba74-5927-498e-9b7d-d7953fb9314c",
   "metadata": {},
   "source": [
    "# **四、命令行参数：argparse**\n",
    "\n",
    "---\n",
    "\n",
    "\n",
    "argparse是python标准库里面用来处理命令行参数的库\n",
    "\n",
    "命令行参数分为位置参数和选项参数：\n",
    "\n",
    "- 位置（必选）参数：前面不需要-或者–；\n",
    "\n",
    "- 可选参数：通过一个-来指定的短参数，如-h；通过–来指定的长参数，如- -help\n",
    "\n",
    "使用步骤：\n",
    "\n",
    "1. import argparse 首先导入模块\n",
    "\n",
    "2. parser = argparse.ArgumentParser（） 创建一个解析对象\n",
    "\n",
    "3. parser.add_argument() 向该对象中添加你要关注的命令行参数和选项\n",
    "\n",
    "4. args = parser.parse_args() 进行解析 或者 args，unparsed = parser.parse_known_args()\n",
    "\n",
    "5. 索引参数args.pospath\n",
    "\n",
    "6. 或者args = vars(parser.parse_args())将其变为一个字典\n",
    "\n",
    "7. 索引参数 args[‘pospath’]"
   ]
  },
  {
   "cell_type": "code",
   "execution_count": 120,
   "id": "4f6eda26-7595-498f-b998-2c5e5876cf21",
   "metadata": {},
   "outputs": [],
   "source": [
    "# %load ./examples/args.py\n",
    "import argparse\n",
    "\n",
    "parser = argparse.ArgumentParser()\n",
    "parser.add_argument(\"-f\", \"--input_file\", help=\"input file path\")\n",
    "parser.add_argument(\"-o\", \"--output_file\", help=\"output file path\")\n",
    "args = parser.parse_args()\n",
    "\n",
    "print(f\"-f或者--input_file的命令行参数是：{args.input_file}\")\n",
    "print(f\"-o或者--output_file的命令行参数是：{args.output_file}\")"
   ]
  },
  {
   "cell_type": "code",
   "execution_count": 122,
   "id": "d7b2fb0f-6e0a-4fb7-ae37-b47de9a9ea74",
   "metadata": {},
   "outputs": [
    {
     "name": "stdout",
     "output_type": "stream",
     "text": [
      "Microsoft Windows [版本 10.0.22598.200]\n",
      "(c) Microsoft Corporation。保留所有权利。\n",
      "\n",
      "E:\\notebook\\B站\\花卷学Python\\11. Python编程：常用内置模块>\n",
      "E:\\notebook\\B站\\花卷学Python\\11. Python编程：常用内置模块>python ./examples/args.py -f 1.txt -o 2.txt\n",
      "-f或者--input_file的命令行参数是：1.txt\n",
      "-o或者--output_file的命令行参数是：2.txt\n",
      "\n",
      "E:\\notebook\\B站\\花卷学Python\\11. Python编程：常用内置模块>"
     ]
    }
   ],
   "source": [
    "%%cmd\n",
    "\n",
    "python ./examples/args.py -f 1.txt -o 2.txt"
   ]
  },
  {
   "cell_type": "markdown",
   "id": "eea94f85-1dca-43e1-a8dc-7f9a87c15490",
   "metadata": {},
   "source": [
    "---"
   ]
  },
  {
   "cell_type": "markdown",
   "id": "d6ddc05b-7147-4970-b9dc-2de3099c8d64",
   "metadata": {},
   "source": [
    "# **五、正则表达式：re**\n",
    "\n",
    "---\n",
    "\n",
    "# **正则表达式**\n",
    "\n",
    "正则表达式是一个特殊的字符序列，用于判断一个字符串是否与我们所设定的字符序列是否匹配，也就是说检查一个字符串是否与某种模式匹配。\n",
    "\n",
    "## **正则表达式速查表**\n",
    "\n",
    "![正则表达式速查表](./images/正则表达式速查表2.png)"
   ]
  },
  {
   "cell_type": "markdown",
   "id": "8f1c3c3f-b3fa-47f6-a931-d6f858fa03d2",
   "metadata": {},
   "source": [
    "# **re模块**"
   ]
  },
  {
   "cell_type": "code",
   "execution_count": 123,
   "id": "e42cb37a-bd6b-46e4-ae14-fa87c63217ba",
   "metadata": {},
   "outputs": [
    {
     "data": {
      "text/plain": [
       "<re.Match object; span=(0, 1), match='h'>"
      ]
     },
     "execution_count": 123,
     "metadata": {},
     "output_type": "execute_result"
    }
   ],
   "source": [
    "\"\"\"\n",
    "re.match(正则表达式, 文本)\n",
    "\n",
    "从开始的位置进行匹配。如果开始的位置没有匹配到。就直接失败了\n",
    "\"\"\"\n",
    "\n",
    "import re\n",
    "\n",
    "text = 'hello world'\n",
    "\n",
    "res = re.match('h',text)\n",
    "\n",
    "res"
   ]
  },
  {
   "cell_type": "code",
   "execution_count": 127,
   "id": "a294f6ae-1166-4f89-81f7-1f48c9d2e663",
   "metadata": {},
   "outputs": [
    {
     "data": {
      "text/plain": [
       "('h', (0, 1))"
      ]
     },
     "execution_count": 127,
     "metadata": {},
     "output_type": "execute_result"
    }
   ],
   "source": [
    "# 输出匹配内容和内容对应的位置\n",
    "\n",
    "res.group(), res.span()"
   ]
  },
  {
   "cell_type": "code",
   "execution_count": 129,
   "id": "9e30ddd0-1ebe-4aa3-8d84-c69dd68d65c2",
   "metadata": {},
   "outputs": [
    {
     "data": {
      "text/plain": [
       "<re.Match object; span=(0, 1), match='h'>"
      ]
     },
     "execution_count": 129,
     "metadata": {},
     "output_type": "execute_result"
    }
   ],
   "source": [
    "# 智能匹配到一个\n",
    "\n",
    "text = 'hello world hello world hello world'\n",
    "\n",
    "res = re.match('h',text)\n",
    "\n",
    "res"
   ]
  },
  {
   "cell_type": "code",
   "execution_count": 134,
   "id": "cb10ead3-b676-4179-a8ee-fdf4ccc82692",
   "metadata": {},
   "outputs": [
    {
     "name": "stdout",
     "output_type": "stream",
     "text": [
      "None\n"
     ]
    }
   ],
   "source": [
    "# 如果起始位置没有匹配到就直接返回：None\n",
    "\n",
    "text = 'aaaahello world'\n",
    "\n",
    "res = re.match('h',text)\n",
    "\n",
    "print(res)"
   ]
  },
  {
   "cell_type": "code",
   "execution_count": 135,
   "id": "64ca8dd5-255f-4dd8-a987-e43b607893f5",
   "metadata": {},
   "outputs": [
    {
     "data": {
      "text/plain": [
       "<re.Match object; span=(0, 1), match='h'>"
      ]
     },
     "execution_count": 135,
     "metadata": {},
     "output_type": "execute_result"
    }
   ],
   "source": [
    "\"\"\"\n",
    "re.search(正则表达式, 文本)\n",
    "\n",
    "在字符串中找满足条件的字符。如果找到，就返回。说白了，就是只会找到第一个满足条件的。\n",
    "\"\"\"\n",
    "\n",
    "import re\n",
    "\n",
    "text = 'hello world'\n",
    "\n",
    "res = re.search('h',text)\n",
    "\n",
    "res"
   ]
  },
  {
   "cell_type": "code",
   "execution_count": 136,
   "id": "bd4a17b5-4297-45de-878b-f45b2fe121c3",
   "metadata": {},
   "outputs": [
    {
     "data": {
      "text/plain": [
       "<re.Match object; span=(0, 1), match='h'>"
      ]
     },
     "execution_count": 136,
     "metadata": {},
     "output_type": "execute_result"
    }
   ],
   "source": [
    "# 智能匹配到一个\n",
    "\n",
    "text = 'hello world hello world hello world'\n",
    "\n",
    "res = re.search('h',text)\n",
    "\n",
    "res"
   ]
  },
  {
   "cell_type": "code",
   "execution_count": 137,
   "id": "5f9908dd-4c6a-445d-847c-3e01c0c28000",
   "metadata": {},
   "outputs": [
    {
     "data": {
      "text/plain": [
       "<re.Match object; span=(4, 5), match='h'>"
      ]
     },
     "execution_count": 137,
     "metadata": {},
     "output_type": "execute_result"
    }
   ],
   "source": [
    "# 可以匹配不是起始位置的，这是和match最大的区别\n",
    "\n",
    "text = 'aaaahello world'\n",
    "\n",
    "res = re.search('h',text)\n",
    "\n",
    "res"
   ]
  },
  {
   "cell_type": "code",
   "execution_count": 138,
   "id": "aa3d32ff-f083-436a-af0b-378b7d35a741",
   "metadata": {},
   "outputs": [
    {
     "data": {
      "text/plain": [
       "['h', 'h', 'h']"
      ]
     },
     "execution_count": 138,
     "metadata": {},
     "output_type": "execute_result"
    }
   ],
   "source": [
    "\"\"\"\n",
    "re.findall(正则表达式, 文本)\n",
    "\n",
    "找出所有满足条件的，返回的是一个列表\n",
    "\"\"\"\n",
    "\n",
    "import re\n",
    "\n",
    "text = 'aaaahello world hello world hello world'\n",
    "\n",
    "res = re.findall('h',text)\n",
    "\n",
    "res"
   ]
  },
  {
   "cell_type": "code",
   "execution_count": 147,
   "id": "16ef7664-d9f4-4b00-a9cd-a4d221150615",
   "metadata": {},
   "outputs": [
    {
     "name": "stdout",
     "output_type": "stream",
     "text": [
      "匹配结果：<re.Match object; span=(4, 5), match='h'> 匹配位置：h 匹配信息：(4, 5)\n",
      "匹配结果：<re.Match object; span=(16, 17), match='h'> 匹配位置：h 匹配信息：(16, 17)\n",
      "匹配结果：<re.Match object; span=(28, 29), match='h'> 匹配位置：h 匹配信息：(28, 29)\n"
     ]
    }
   ],
   "source": [
    "\"\"\"\n",
    "re.finditer(正则表达式, 文本)\n",
    "\n",
    "找出所有满足条件的匹配和位置\n",
    "\"\"\"\n",
    "\n",
    "import re\n",
    "\n",
    "text = 'aaaahello world hello world hello world'\n",
    "\n",
    "res = re.finditer('h',text)\n",
    "\n",
    "for x in res:\n",
    "    print(f'匹配结果：{x}',f'匹配位置：{x.group()}',f'匹配信息：{x.span()}')"
   ]
  },
  {
   "cell_type": "code",
   "execution_count": 150,
   "id": "5d1438b9-737e-4edc-b473-d04e6171fcd0",
   "metadata": {},
   "outputs": [
    {
     "data": {
      "text/plain": [
       "'hi world hi world hi world'"
      ]
     },
     "execution_count": 150,
     "metadata": {},
     "output_type": "execute_result"
    }
   ],
   "source": [
    "\"\"\"\n",
    "re.sub(正则表达式, 替换后的文本, 需要替换的文本)\n",
    "\n",
    "用来替换字符串。将匹配到的字符串替换为其他字符串\n",
    "\"\"\"\n",
    "\n",
    "import re\n",
    "\n",
    "text = 'hello world hello world hello world'\n",
    "\n",
    "res = re.sub('hello','hi',text)\n",
    "\n",
    "res"
   ]
  },
  {
   "cell_type": "code",
   "execution_count": 152,
   "id": "a84a7aa6-7687-4299-a9b6-86e9a44fd3e8",
   "metadata": {},
   "outputs": [
    {
     "data": {
      "text/plain": [
       "['', ' world']"
      ]
     },
     "execution_count": 152,
     "metadata": {},
     "output_type": "execute_result"
    }
   ],
   "source": [
    "\"\"\"\n",
    "re.split(正则表达式, 文本)\n",
    "\n",
    "使用正则表达式来分割字符串。\n",
    "\"\"\"\n",
    "\n",
    "import re\n",
    "\n",
    "text = 'hello world'\n",
    "\n",
    "res = re.split('hello', text)\n",
    "\n",
    "res"
   ]
  },
  {
   "cell_type": "code",
   "execution_count": 153,
   "id": "c932ac62-f552-4d3c-a436-83e0d591b552",
   "metadata": {},
   "outputs": [
    {
     "data": {
      "text/plain": [
       "['', ' world']"
      ]
     },
     "execution_count": 153,
     "metadata": {},
     "output_type": "execute_result"
    }
   ],
   "source": [
    "\"\"\"\n",
    "re.compile(正则表达式)\n",
    "\n",
    "对于一些经常要用到的正则表达式，可以使用compile进行编译，\n",
    "后期再使用的时候可以直接拿过来用，执行效率会更快。\n",
    "而且compile还可以指定flag=re.VERBOSE，在写正则表达式的时候可以做好注释\n",
    "\"\"\"\n",
    "\n",
    "import re\n",
    "\n",
    "\n",
    "rep = re.compile('hello')\n",
    "\n",
    "text = 'hello world'\n",
    "\n",
    "res = re.split(rep, text)\n",
    "\n",
    "res\n"
   ]
  },
  {
   "cell_type": "markdown",
   "id": "adb8cd34-3883-4362-80b5-cc3b19777567",
   "metadata": {},
   "source": [
    "# **常用的正则表达式**\n",
    "\n",
    "## **校验数字的表达式**\n",
    "\n",
    "```\n",
    "1、  数字：^[0-9]*$\n",
    "2、  n位的数字：^\\d{n}$\n",
    "3、  至少n位的数字：^\\d{n,}$\n",
    "4、  m-n位的数字：^\\d{m,n}$\n",
    "5、  零和非零开头的数字：^(0|[1-9][0-9]*)$\n",
    "6、  非零开头的最多带两位小数的数字：^([1-9][0-9]*)+(.[0-9]{1,2})?$\n",
    "7、  带1-2位小数的正数或负数：^(\\-)?\\d+(\\.\\d{1,2})?$\n",
    "8、  正数、负数、和小数：^(\\-|\\+)?\\d+(\\.\\d+)?$\n",
    "9、  有两位小数的正实数：^[0-9]+(.[0-9]{2})?$\n",
    "10、 有1~3位小数的正实数：^[0-9]+(.[0-9]{1,3})?$\n",
    "11、 非零的正整数：^[1-9]\\d*$ 或 ^([1-9][0-9]*){1,3}$ 或 ^\\+?[1-9][0-9]*$\n",
    "12、 非零的负整数：^\\-[1-9][]0-9\"*$ 或 ^-[1-9]\\d*$\n",
    "13、 非负整数：^\\d+$ 或 ^[1-9]\\d*|0$\n",
    "14、 非正整数：^-[1-9]\\d*|0$ 或 ^((-\\d+)|(0+))$\n",
    "15、 非负浮点数：^\\d+(\\.\\d+)?$ 或 ^[1-9]\\d*\\.\\d*|0\\.\\d*[1-9]\\d*|0?\\.0+|0$\n",
    "16、 非正浮点数：^((-\\d+(\\.\\d+)?)|(0+(\\.0+)?))$ 或 ^(-([1-9]\\d*\\.\\d*|0\\.\\d*[1-9]\\d*))|0?\\.0+|0$\n",
    "17、 正浮点数：^[1-9]\\d*\\.\\d*|0\\.\\d*[1-9]\\d*$ 或 ^(([0-9]+\\.[0-9]*[1-9][0-9]*)|([0-9]*[1-9][0-9]*\\.[0-9]+)|([0-9]*[1-9][0-9]*))$\n",
    "18、 负浮点数：^-([1-9]\\d*\\.\\d*|0\\.\\d*[1-9]\\d*)$ 或 ^(-(([0-9]+\\.[0-9]*[1-9][0-9]*)|([0-9]*[1-9][0-9]*\\.[0-9]+)|([0-9]*[1-9][0-9]*)))$\n",
    "19、 浮点数：^(-?\\d+)(\\.\\d+)?$ 或 ^-?([1-9]\\d*\\.\\d*|0\\.\\d*[1-9]\\d*|0?\\.0+|0)$\n",
    "```\n",
    "\n",
    "## **校验字符的表达式**\n",
    "\n",
    "```\n",
    "1、  汉字：^[\\u4e00-\\u9fa5]{0,}$\n",
    "2、  英文和数字：^[A-Za-z0-9]+$ 或 ^[A-Za-z0-9]{4,40}$\n",
    "3、  长度为3-20的所有字符：^.{3,20}$\n",
    "4、  由26个英文字母组成的字符串：^[A-Za-z]+$\n",
    "5、  由26个大写英文字母组成的字符串：^[A-Z]+$\n",
    "6、  由26个小写英文字母组成的字符串：^[a-z]+$\n",
    "7、  由数字和26个英文字母组成的字符串：^[A-Za-z0-9]+$\n",
    "8、  由数字、26个英文字母或者下划线组成的字符串：^\\w+$ 或 ^\\w{3,20}$\n",
    "9、  中文、英文、数字包括下划线：^[\\u4E00-\\u9FA5A-Za-z0-9_]+$\n",
    "10、 中文、英文、数字但不包括下划线等符号：^[\\u4E00-\\u9FA5A-Za-z0-9]+$ 或 ^[\\u4E00-\\u9FA5A-Za-z0-9]{2,20}$\n",
    "11、 可以输入含有^%&',;=?$\\\"等字符：[^%&',;=?$\\x22]+\n",
    "12、 禁止输入含有~的字符：[^~\\x22]+\n",
    "```\n",
    "\n",
    "## **特殊需求表达式**\n",
    "\n",
    "```\n",
    "1、  Email地址：^\\w+([-+.]\\w+)*@\\w+([-.]\\w+)*\\.\\w+([-.]\\w+)*$\n",
    "2、  域名：[a-zA-Z0-9][-a-zA-Z0-9]{0,62}(/.[a-zA-Z0-9][-a-zA-Z0-9]{0,62})+/.?\n",
    "3、  InternetURL：[a-zA-z]+://[^\\s]* 或 ^http://([\\w-]+\\.)+[\\w-]+(/[\\w-./?%&=]*)?$\n",
    "4、  手机号码：^(13[0-9]|14[0-9]|15[0-9]|166|17[0-9]|18[0-9]|19[8|9])\\d{8}$\n",
    "5、  电话号码(\"XXX-XXXXXXX\"、\"XXXX-XXXXXXXX\"、\"XXX-XXXXXXX\"、\"XXX-XXXXXXXX\"、\"XXXXXXX\"和\"XXXXXXXX)：^(\\(\\d{3,4}-)|\\d{3.4}-)?\\d{7,8}$\n",
    "6、  国内电话号码(0511-4405222、021-87888822)：\\d{3}-\\d{8}|\\d{4}-\\d{7}\n",
    "7、  18位身份证号码(数字、字母x结尾)：^((\\d{18})|([0-9x]{18})|([0-9X]{18}))$\n",
    "8、  帐号是否合法(字母开头，允许5-16字节，允许字母数字下划线)：^[a-zA-Z][a-zA-Z0-9_]{4,15}$\n",
    "9、  密码(以字母开头，长度在6~18之间，只能包含字母、数字和下划线)：^[a-zA-Z]\\w{5,17}$\n",
    "10、 强密码(必须包含大小写字母和数字的组合，不能使用特殊字符，长度在8-10之间)：^(?=.*\\d)(?=.*[a-z])(?=.*[A-Z]).{8,10}$  \n",
    "11、 日期格式：^\\d{4}-\\d{1,2}-\\d{1,2}\n",
    "12、 一年的12个月(01～09和1～12)：^(0?[1-9]|1[0-2])$\n",
    "13、 一个月的31天(01～09和1～31)：^((0?[1-9])|((1|2)[0-9])|30|31)$\n",
    "14、 钱的输入格式：\n",
    "      a.有四种钱的表示形式我们可以接受:\"10000.00\" 和 \"10,000.00\", 和没有 \"分\" 的 \"10000\" 和 \"10,000\"：^[1-9][0-9]*$\n",
    "      b.这表示任意一个不以0开头的数字,但是,这也意味着一个字符\"0\"不通过,所以我们采用下面的形式：^(0|[1-9][0-9]*)$\n",
    "      c.一个0或者一个不以0开头的数字.我们还可以允许开头有一个负号：^(0|-?[1-9][0-9]*)$\n",
    "      d.这表示一个0或者一个可能为负的开头不为0的数字.让用户以0开头好了.把负号的也去掉,因为钱总不能是负的吧.下面我们要加的是说明可能的小数部分：^[0-9]+(.[0-9]+)?$\n",
    "      e.必须说明的是,小数点后面至少应该有1位数,所以\"10.\"是不通过的,但是 \"10\" 和 \"10.2\" 是通过的：^[0-9]+(.[0-9]{2})?$\n",
    "      f.这样我们规定小数点后面必须有两位,如果你认为太苛刻了,可以这样：^[0-9]+(.[0-9]{1,2})?$\n",
    "      g.这样就允许用户只写一位小数.下面我们该考虑数字中的逗号了,我们可以这样：^[0-9]{1,3}(,[0-9]{3})*(.[0-9]{1,2})?$\n",
    "      h.1到3个数字,后面跟着任意个 逗号+3个数字,逗号成为可选,而不是必须：^([0-9]+|[0-9]{1,3}(,[0-9]{3})*)(.[0-9]{1,2})?$\n",
    "15、 xml文件：^([a-zA-Z]+-?)+[a-zA-Z0-9]+\\\\.[x|X][m|M][l|L]$\n",
    "16、 中文字符的正则表达式：[\\u4e00-\\u9fa5]\n",
    "17、 双字节字符：[^\\x00-\\xff]    (包括汉字在内，可以用来计算字符串的长度(一个双字节字符长度计2，ASCII字符计1))\n",
    "18、 空白行的正则表达式：\\n\\s*\\r    (可以用来删除空白行)\n",
    "19、 HTML标记的正则表达式：<(\\S*?)[^>]*>.*?</\\1>|<.*? />    (网上流传的版本太糟糕，上面这个也仅仅能部分，对于复杂的嵌套标记依旧无能为力)\n",
    "20、 首尾空白字符的正则表达式：^\\s*|\\s*$或(^\\s*)|(\\s*$)    (可以用来删除行首行尾的空白字符(包括空格、制表符、换页符等等)，非常有用的表达式)\n",
    "21、 腾讯QQ号：[1-9][0-9]{4,}    (腾讯QQ号从10000开始)\n",
    "22、 中国邮政编码：[1-9]\\d{5}(?!\\d)    (中国邮政编码为6位数字)\n",
    "23、 IP地址：\\d+\\.\\d+\\.\\d+\\.\\d+    (提取IP地址时有用)\n",
    "24、 IP地址：((?:(?:25[0-5]|2[0-4]\\\\d|[01]?\\\\d?\\\\d)\\\\.){3}(?:25[0-5]|2[0-4]\\\\d|[01]?\\\\d?\\\\d))  \n",
    "25、PV6 地址： (([0-9a-fA-F]{1,4}:){7,7}[0-9a-fA-F]{1,4}|([0-9a-fA-F]{1,4}:){1,7}:|([0-9a-fA-F]{1,4}:){1,6}:[0-9a-fA-F]{1,4}|([0-9a-fA-F]{1,4}:){1,5}(:[0-9a-fA-F]{1,4}){1,2}|([0-9a-fA-F]{1,4}:){1,4}(:[0-9a-fA-F]{1,4}){1,3}|([0-9a-fA-F]{1,4}:){1,3}(:[0-9a-fA-F]{1,4}){1,4}|([0-9a-fA-F]{1,4}:){1,2}(:[0-9a-fA-F]{1,4}){1,5}|[0-9a-fA-F]{1,4}:((:[0-9a-fA-F]{1,4}){1,6})|:((:[0-9a-fA-F]{1,4}){1,7}|:)|fe80:(:[0-9a-fA-F]{0,4}){0,4}%[0-9a-zA-Z]{1,}|::(ffff(:0{1,4}){0,1}:){0,1}((25[0-5]|(2[0-4]|1{0,1}[0-9]){0,1}[0-9])\\\\.){3,3}(25[0-5]|(2[0-4]|1{0,1}[0-9]){0,1}[0-9])|([0-9a-fA-F]{1,4}:){1,4}:((25[0-5]|(2[0-4]|1{0,1}[0-9]){0,1}[0-9])\\\\.){3,3}(25[0-5]|(2[0-4]|1{0,1}[0-9]){0,1}[0-9]))\n",
    "26、URL 链接： ((http|ftp|https)://)(([a-zA-Z0-9\\._-]+\\.[a-zA-Z]{2,6})|([0-9]{1,3}\\.[0-9]{1,3}\\.[0-9]{1,3}\\.[0-9]{1,3}))(:[0-9]{1,4})*(/[a-zA-Z0-9\\&%_\\./-~-]*)?\n",
    "\n",
    "```"
   ]
  },
  {
   "cell_type": "markdown",
   "id": "cbc80646-c568-401b-8203-333d663a089a",
   "metadata": {},
   "source": [
    "---"
   ]
  },
  {
   "cell_type": "markdown",
   "id": "24124794-5f30-41c7-8691-f29f16c83e09",
   "metadata": {},
   "source": [
    "# **六、数据编码：base64，struct，hashlib**\n",
    "\n",
    "---\n",
    "\n",
    "# **base64**\n",
    "\n",
    "base64模块是用来做base64编码解码，常用于小型数据传输。编码后的数据是一个字符串，包括a-z，A-Z，/，+共64个字符，"
   ]
  },
  {
   "cell_type": "code",
   "execution_count": 223,
   "id": "989734f9-5efe-4b83-aabb-d3c759498c60",
   "metadata": {},
   "outputs": [
    {
     "data": {
      "text/plain": [
       "b'ZGFzZHNhZA=='"
      ]
     },
     "execution_count": 223,
     "metadata": {},
     "output_type": "execute_result"
    }
   ],
   "source": [
    "import base64\n",
    "\n",
    "a = 'dasdsad'\n",
    "\n",
    "base64.b64encode(a.encode('utf-8'))"
   ]
  },
  {
   "cell_type": "code",
   "execution_count": 224,
   "id": "0710f7de-ec8d-485d-b76e-dd1dd341c613",
   "metadata": {},
   "outputs": [
    {
     "data": {
      "text/plain": [
       "'dasdsad'"
      ]
     },
     "execution_count": 224,
     "metadata": {},
     "output_type": "execute_result"
    }
   ],
   "source": [
    "base64.b64decode(b'ZGFzZHNhZA==').decode('utf-8')"
   ]
  },
  {
   "cell_type": "markdown",
   "id": "691629c4-85dc-4788-a5fe-e900b06196e7",
   "metadata": {},
   "source": [
    "# **struct**\n",
    "\n",
    "看到struct这么英文单词，大家应该并不陌生，因为c/c++中就有struct，在那里struct叫做结构体。在Python中也使用struct，\n",
    "\n",
    "这充分说明了这个struct应该和c/c++中的struct有很深的渊源。Python正是使用struct模块执行Python值和C结构体之间的转换，\n",
    "\n",
    "从而形成Python字节对象。它使用格式字符串作为底层C结构体的紧凑描述，进而根据这个格式字符串转换成Python值。"
   ]
  },
  {
   "cell_type": "code",
   "execution_count": 227,
   "id": "30a0508c-26fb-45fa-985e-97be631f4d01",
   "metadata": {},
   "outputs": [
    {
     "data": {
      "text/plain": [
       "b'\\xc3\\xf5\\xc8B'"
      ]
     },
     "execution_count": 227,
     "metadata": {},
     "output_type": "execute_result"
    }
   ],
   "source": [
    "# 变成二进制\n",
    "\n",
    "import struct\n",
    "\n",
    "a = 100.48\n",
    "\n",
    "b = struct.pack('f',a)\n",
    "b"
   ]
  },
  {
   "cell_type": "code",
   "execution_count": 229,
   "id": "123e21c5-33be-4296-a199-81cf8b32241a",
   "metadata": {},
   "outputs": [
    {
     "data": {
      "text/plain": [
       "(100.4800033569336,)"
      ]
     },
     "execution_count": 229,
     "metadata": {},
     "output_type": "execute_result"
    }
   ],
   "source": [
    "# 二进制返回到python数据\n",
    "\n",
    "struct.unpack('f',b)"
   ]
  },
  {
   "cell_type": "markdown",
   "id": "62b8eb6d-c3b1-4c3c-b66a-e73ab285ac41",
   "metadata": {},
   "source": [
    "# **hashlib**\n",
    "\n",
    "加密算法"
   ]
  },
  {
   "cell_type": "code",
   "execution_count": 232,
   "id": "da0633ba-0c12-441b-a02a-d7afe40a186d",
   "metadata": {},
   "outputs": [
    {
     "data": {
      "text/plain": [
       "'89defae676abd3e3a42b41df17c40096'"
      ]
     },
     "execution_count": 232,
     "metadata": {},
     "output_type": "execute_result"
    }
   ],
   "source": [
    "import hashlib\n",
    "\n",
    "a = 'dasdas'\n",
    "\n",
    "md5 = hashlib.md5()\n",
    "md5.update(a.encode('utf-8'))\n",
    "md5.hexdigest()"
   ]
  },
  {
   "cell_type": "code",
   "execution_count": 233,
   "id": "a3b4feab-15ed-4b37-8ab8-d6ce78977c2a",
   "metadata": {},
   "outputs": [
    {
     "data": {
      "text/plain": [
       "b'\\x89\\xde\\xfa\\xe6v\\xab\\xd3\\xe3\\xa4+A\\xdf\\x17\\xc4\\x00\\x96'"
      ]
     },
     "execution_count": 233,
     "metadata": {},
     "output_type": "execute_result"
    }
   ],
   "source": [
    "md5.digest()"
   ]
  },
  {
   "cell_type": "code",
   "execution_count": 234,
   "id": "4e31e566-87c1-43d0-bc3f-1dc4e8ea3fa3",
   "metadata": {},
   "outputs": [
    {
     "data": {
      "text/plain": [
       "'2ed46d7bedc17aba18343eac71e21648b1af50fff732af7e338075cd0ed1567a'"
      ]
     },
     "execution_count": 234,
     "metadata": {},
     "output_type": "execute_result"
    }
   ],
   "source": [
    "import hashlib\n",
    "\n",
    "a = 'dasdas'\n",
    "\n",
    "sha256 = hashlib.sha256()\n",
    "sha256.update(a.encode('utf-8'))\n",
    "sha256.hexdigest()"
   ]
  },
  {
   "cell_type": "markdown",
   "id": "f9935f6d-3c82-40fe-b770-cd82dfbdffd8",
   "metadata": {},
   "source": [
    "---"
   ]
  },
  {
   "cell_type": "markdown",
   "id": "7d837ff5-3e14-4a88-a791-5b2328c78b9d",
   "metadata": {},
   "source": [
    "# **七、文件操作：csv，wav**\n",
    "\n",
    "---\n",
    "\n",
    "# **csv**\n",
    "\n",
    "CSV(Comma Separated Values)是逗号分隔符文本格式，常用于Excel和数据库的导入和导出，\n",
    "\n",
    "Python内置的CSV模块提供对CSV格式文件读取和写入的对象。"
   ]
  },
  {
   "cell_type": "code",
   "execution_count": 237,
   "id": "a538eae5-8643-478e-92f4-0a00660c0d67",
   "metadata": {},
   "outputs": [
    {
     "name": "stdout",
     "output_type": "stream",
     "text": [
      "['index', 'secID', 'ticker', 'secShortName', 'exchangeCD', 'tradeDate', 'preClosePrice', 'openPrice', 'highestPrice', 'lowestPrice', 'closePrice', 'turnoverVol']\n",
      "['0', '000001.XSHE', '1', '平安银行', 'XSHE', '2017-12-1', '13.38', '13.4', '13.48', '12.96', '13', '178493315']\n",
      "['1', '000002.XSHE', '2', '万科A', 'XSHE', '2017-12-1', '31.22', '30.5', '32.03', '30.5', '30.73', '55743855']\n",
      "['2', '000004.XSHE', '4', '国农科技', 'XSHE', '2017-12-1', '25.56', '25.41', '26.4', '25.18', '26.2', '2211059']\n",
      "['3', '000005.XSHE', '5', '世纪星源', 'XSHE', '2017-12-1', '4.2', '4.2', '4.24', '4.2', '4.22', '2365348']\n",
      "['4', '000006.XSHE', '6', '深振业A', 'XSHE', '2017-12-1', '9.85', '0', '0', '0', '9.85', '0']\n",
      "['5', '000007.XSHE', '7', '全新好', 'XSHE', '2017-12-1', '16.66', '0', '0', '0', '16.66', '0']\n",
      "['6', '000008.XSHE', '8', '神州高铁', 'XSHE', '2017-12-1', '8.48', '8.48', '8.74', '8.41', '8.59', '5689054']\n",
      "['7', '000009.XSHE', '9', '中国宝安', 'XSHE', '2017-12-1', '7.6', '7.61', '7.63', '7.53', '7.58', '9149395']\n",
      "['8', '000010.XSHE', '10', '美丽生态', 'XSHE', '2017-12-1', '5.13', '5.13', '5.23', '5.11', '5.21', '6765580']\n",
      "['9', '000011.XSHE', '11', '深物业A', 'XSHE', '2017-12-1', '17.18', '17.08', '17.28', '17', '17.11', '2474700']\n",
      "['10', '000012.XSHE', '12', '南玻A', 'XSHE', '2017-12-1', '9.19', '9.1', '9.28', '9.02', '9.11', '35308183']\n",
      "['11', '000014.XSHE', '14', '沙河股份', 'XSHE', '2017-12-1', '12.6', '12.49', '12.73', '12.45', '12.64', '1236110']\n",
      "['12', '000016.XSHE', '16', '深康佳A', 'XSHE', '2017-12-1', '6.2', '6.34', '6.54', '6.31', '6.43', '29434715']\n",
      "['13', '000017.XSHE', '17', '深中华A', 'XSHE', '2017-12-1', '6.68', '6.63', '6.68', '6.6', '6.68', '1562976']\n",
      "['14', '000018.XSHE', '18', '神州长城', 'XSHE', '2017-12-1', '7.16', '7.16', '7.21', '7.1', '7.15', '5792996']\n",
      "['15', '000019.XSHE', '19', '深深宝A', 'XSHE', '2017-12-1', '12.15', '0', '0', '0', '12.15', '0']\n",
      "['16', '000020.XSHE', '20', '深华发A', 'XSHE', '2017-12-1', '14.99', '15.28', '15.3', '14.75', '15', '3250307']\n",
      "['17', '000021.XSHE', '21', '深科技', 'XSHE', '2017-12-1', '9.08', '9.07', '9.41', '9.05', '9.34', '19877164']\n",
      "['18', '000022.XSHE', '22', '深赤湾A', 'XSHE', '2017-12-1', '24.14', '0', '0', '0', '24.14', '0']\n",
      "['19', '000023.XSHE', '23', '深天地A', 'XSHE', '2017-12-1', '22.57', '22.41', '22.82', '22.41', '22.62', '318725']\n",
      "['20', '000025.XSHE', '25', '特力A', 'XSHE', '2017-12-1', '40.56', '40.25', '40.67', '40.08', '40.17', '1584600']\n"
     ]
    }
   ],
   "source": [
    "\"\"\"\n",
    "csv.reader\n",
    "\n",
    "读取csv\n",
    "\"\"\"\n",
    "\n",
    "import csv\n",
    "\n",
    "with open('./examples/stock.csv','r',encoding='utf-8') as f:\n",
    "    f = csv.reader(f)\n",
    "    for x in f:\n",
    "        print(x)"
   ]
  },
  {
   "cell_type": "code",
   "execution_count": 239,
   "id": "e3b73e77-dd75-4733-90fa-36d1630397c7",
   "metadata": {},
   "outputs": [],
   "source": [
    "\"\"\"\n",
    "\n",
    "csv.writer\n",
    "\n",
    "写入csv\n",
    "\"\"\"\n",
    "\n",
    "import csv\n",
    "\n",
    "with open('./examples/stock1.csv','w',encoding='utf-8') as f:\n",
    "    f = csv.writer(f)\n",
    "    # 写入一行\n",
    "    f.writerow(['a','b'])\n",
    "    # 写入多行\n",
    "    f.writerows([(1,2),(3,4)])"
   ]
  },
  {
   "cell_type": "markdown",
   "id": "464bfa8c-6096-49e6-82f6-9828e8a87d27",
   "metadata": {},
   "source": [
    "# **wav**"
   ]
  },
  {
   "cell_type": "code",
   "execution_count": null,
   "id": "72b835bc-4461-4176-aee1-feb47f637acc",
   "metadata": {},
   "outputs": [],
   "source": [
    "import wave\n",
    "\n",
    "wavFile = \"./examples/1.wav\"\n",
    "f = wave.open(wavFile)\n",
    "# 音频头 参数\n",
    "params = f.getparams()\n",
    "Channels = f.getnchannels()\n",
    "SampleRate = f.getframerate()\n",
    "bit_type = f.getsampwidth() * 8\n",
    "frames = f.getnframes()\n",
    "# Duration 也就是音频时长 = 采样点数/采样率 \n",
    "Duration = wav_time = frames / float(SampleRate)  # 单位为s\n",
    "\n",
    "print(\"音频头参数：\", params)\n",
    "print(\"通道数(Channels)：\", Channels)\n",
    "print(\"采样率(SampleRate)：\", SampleRate)\n",
    "print(\"比特(Precision)：\", bit_type)\n",
    "print(\"采样点数(frames)：\", frames)\n",
    "print(\"帧数或者时间(Duration)：\", Duration)"
   ]
  },
  {
   "cell_type": "markdown",
   "id": "101e1297-b025-4612-8377-1a3b69077b7c",
   "metadata": {},
   "source": [
    "# **拓展：urllib操作网页**\n",
    "\n",
    "urllib提供了一系列用于操作URL的功能"
   ]
  },
  {
   "cell_type": "code",
   "execution_count": 242,
   "id": "714abe75-2037-4437-a430-ecf8ac7d2cf0",
   "metadata": {},
   "outputs": [
    {
     "name": "stdout",
     "output_type": "stream",
     "text": [
      "Status: 200 OK\n",
      "Accept-Ranges: bytes\n",
      "Cache-Control: no-cache\n",
      "Content-Length: 227\n",
      "Content-Type: text/html\n",
      "Date: Fri, 06 May 2022 10:01:41 GMT\n",
      "P3p: CP=\" OTI DSP COR IVA OUR IND COM \"\n",
      "P3p: CP=\" OTI DSP COR IVA OUR IND COM \"\n",
      "Pragma: no-cache\n",
      "Server: BWS/1.1\n",
      "Set-Cookie: BD_NOT_HTTPS=1; path=/; Max-Age=300\n",
      "Set-Cookie: BIDUPSID=29D4EE91E7C8394B7EB09B702C8DDE98; expires=Thu, 31-Dec-37 23:55:55 GMT; max-age=2147483647; path=/; domain=.baidu.com\n",
      "Set-Cookie: PSTM=1651831301; expires=Thu, 31-Dec-37 23:55:55 GMT; max-age=2147483647; path=/; domain=.baidu.com\n",
      "Set-Cookie: BAIDUID=29D4EE91E7C8394BC97BDE6AF5BD89DC:FG=1; max-age=31536000; expires=Sat, 06-May-23 10:01:41 GMT; domain=.baidu.com; path=/; version=1; comment=bd\n",
      "Strict-Transport-Security: max-age=0\n",
      "Traceid: 1651831301055677338615388090866279863033\n",
      "X-Frame-Options: sameorigin\n",
      "X-Ua-Compatible: IE=Edge,chrome=1\n",
      "Connection: close\n",
      "Data: <html>\n",
      "<head>\n",
      "\t<script>\n",
      "\t\tlocation.replace(location.href.replace(\"https://\",\"http://\"));\n",
      "\t</script>\n",
      "</head>\n",
      "<body>\n",
      "\t<noscript><meta http-equiv=\"refresh\" content=\"0;url=http://www.baidu.com/\"></noscript>\n",
      "</body>\n",
      "</html>\n"
     ]
    }
   ],
   "source": [
    "from urllib import request\n",
    "\n",
    "with request.urlopen('https://www.baidu.com/') as f:\n",
    "    data = f.read()\n",
    "    print('Status:', f.status, f.reason)\n",
    "    for k, v in f.getheaders():\n",
    "        print('%s: %s' % (k, v))\n",
    "    print('Data:', data.decode('utf-8'))"
   ]
  },
  {
   "cell_type": "code",
   "execution_count": null,
   "id": "38f1be96-3863-4591-892b-9f1882d128e2",
   "metadata": {},
   "outputs": [],
   "source": []
  },
  {
   "cell_type": "markdown",
   "id": "de650eba-8ce8-44f1-a837-aae36d29d4d5",
   "metadata": {},
   "source": [
    "---"
   ]
  },
  {
   "cell_type": "markdown",
   "id": "feaf764a-df97-4a5f-bcf5-2cd7b95eb15f",
   "metadata": {},
   "source": [
    "# **八、上下文管理：contextlib**\n",
    "\n",
    "---\n",
    "\n",
    "在之前我们学习到：\n",
    "\n",
    "```python\n",
    "\n",
    "with open('1.txt','r',encoding='utf-8') as f:\n",
    "    data = [x.strip() for x in f]\n",
    "\n",
    "```\n",
    "\n",
    "这样一个with...as语句，之前说过只要实现类的魔法方法：`__enter__`和`__exit__`，就可以使用这个语句，\n",
    "\n",
    "编写enter和exit仍然很繁琐，因此Python的标准库contextlib提供了更简单的写法"
   ]
  },
  {
   "cell_type": "markdown",
   "id": "0af7ef7a-58ca-49f6-be19-0389ec4cebe9",
   "metadata": {},
   "source": [
    "## **用法一：@contextmanager**\n",
    "\n",
    "可以让我们通过yield编写生成器来实现上下文管理"
   ]
  },
  {
   "cell_type": "code",
   "execution_count": 155,
   "id": "7f3a3854-e3d9-4b5c-969a-2ee5e027b9fb",
   "metadata": {},
   "outputs": [
    {
     "name": "stdout",
     "output_type": "stream",
     "text": [
      "INFO: [2022/05/06 14:37:21] - [608606045.py: 65] - [Python info]\n",
      "\n",
      "WARNING: [2022/05/06 14:37:21] - [608606045.py: 66] - [Python warning]\n",
      "\n",
      "ERROR: [2022/05/06 14:37:21] - [608606045.py: 67] - [Python Error]\n",
      "\n",
      "CRITICAL: [2022/05/06 14:37:21] - [608606045.py: 68] - [Python critical]\n",
      "\n"
     ]
    }
   ],
   "source": [
    "from contextlib import contextmanager\n",
    "\n",
    "\n",
    "@contextmanager\n",
    "def readf(file):\n",
    "    with open(file,'r',encoding='utf-8') as f:\n",
    "        yield f\n",
    "            \n",
    "\n",
    "with readf('1.log') as ff:\n",
    "    for x in ff:\n",
    "        print(x)"
   ]
  },
  {
   "cell_type": "markdown",
   "id": "b550787b-354a-4a2f-a772-2678fe17ab79",
   "metadata": {},
   "source": [
    "## **用法二：closing()**\n",
    "\n",
    "如果一个对象没有实现上下文，我们就不能把它用于with语句。这个时候，可以用closing()来把该对象变为上下文对象"
   ]
  },
  {
   "cell_type": "code",
   "execution_count": 161,
   "id": "a4d9ce17-8489-4506-a17f-4693008908e6",
   "metadata": {},
   "outputs": [
    {
     "ename": "AttributeError",
     "evalue": "__enter__",
     "output_type": "error",
     "traceback": [
      "\u001b[1;31m---------------------------------------------------------------------------\u001b[0m",
      "\u001b[1;31mAttributeError\u001b[0m                            Traceback (most recent call last)",
      "\u001b[1;32m~\\AppData\\Local\\Temp/ipykernel_16492/350106258.py\u001b[0m in \u001b[0;36m<module>\u001b[1;34m\u001b[0m\n\u001b[0;32m      8\u001b[0m \u001b[1;33m\u001b[0m\u001b[0m\n\u001b[0;32m      9\u001b[0m \u001b[1;33m\u001b[0m\u001b[0m\n\u001b[1;32m---> 10\u001b[1;33m \u001b[1;32mwith\u001b[0m \u001b[0mreadf\u001b[0m\u001b[1;33m(\u001b[0m\u001b[1;34m'1.log'\u001b[0m\u001b[1;33m)\u001b[0m \u001b[1;32mas\u001b[0m \u001b[0mff\u001b[0m\u001b[1;33m:\u001b[0m\u001b[1;33m\u001b[0m\u001b[1;33m\u001b[0m\u001b[0m\n\u001b[0m\u001b[0;32m     11\u001b[0m     \u001b[1;32mfor\u001b[0m \u001b[0mx\u001b[0m \u001b[1;32min\u001b[0m \u001b[0mff\u001b[0m\u001b[1;33m:\u001b[0m\u001b[1;33m\u001b[0m\u001b[1;33m\u001b[0m\u001b[0m\n\u001b[0;32m     12\u001b[0m         \u001b[0mprint\u001b[0m\u001b[1;33m(\u001b[0m\u001b[0mx\u001b[0m\u001b[1;33m)\u001b[0m\u001b[1;33m\u001b[0m\u001b[1;33m\u001b[0m\u001b[0m\n",
      "\u001b[1;31mAttributeError\u001b[0m: __enter__"
     ]
    }
   ],
   "source": [
    "from contextlib import closing\n",
    "\n",
    "\n",
    "def readf(file):\n",
    "    with open(file,'r',encoding='utf-8') as f:\n",
    "        for x in f:\n",
    "            yield x\n",
    "            \n",
    "\n",
    "with readf('1.log') as ff:\n",
    "    for x in ff:\n",
    "        print(x)"
   ]
  },
  {
   "cell_type": "code",
   "execution_count": 160,
   "id": "63ff50dd-4271-4232-81b6-44ce1c568d9e",
   "metadata": {},
   "outputs": [
    {
     "name": "stdout",
     "output_type": "stream",
     "text": [
      "INFO: [2022/05/06 14:37:21] - [608606045.py: 65] - [Python info]\n",
      "\n",
      "WARNING: [2022/05/06 14:37:21] - [608606045.py: 66] - [Python warning]\n",
      "\n",
      "ERROR: [2022/05/06 14:37:21] - [608606045.py: 67] - [Python Error]\n",
      "\n",
      "CRITICAL: [2022/05/06 14:37:21] - [608606045.py: 68] - [Python critical]\n",
      "\n"
     ]
    }
   ],
   "source": [
    "from contextlib import closing\n",
    "\n",
    "\n",
    "def readf(file):\n",
    "    with open(file,'r',encoding='utf-8') as f:\n",
    "        for x in f:\n",
    "            yield x\n",
    "            \n",
    "\n",
    "with closing(readf('1.log')) as ff:\n",
    "    for x in ff:\n",
    "        print(x)"
   ]
  },
  {
   "cell_type": "markdown",
   "id": "03ce49ec-ca25-4ad5-a6c5-5305cfcfa6f3",
   "metadata": {},
   "source": [
    "---"
   ]
  },
  {
   "cell_type": "markdown",
   "id": "837b9915-970d-4d54-a18a-3e516baef533",
   "metadata": {},
   "source": [
    "# **九、运算符：operator**\n",
    "\n",
    "---\n",
    "\n",
    "Python函数式编程的体现，本质上就是把之前的运算符编程函数的形式\n",
    "\n",
    "## **operator方法和运算符的对应表**\n",
    "\n",
    "![](./images/operator.png)"
   ]
  },
  {
   "cell_type": "code",
   "execution_count": 162,
   "id": "049c90eb-eae3-4cdf-92e2-0909db9f45ee",
   "metadata": {},
   "outputs": [
    {
     "data": {
      "text/plain": [
       "1"
      ]
     },
     "execution_count": 162,
     "metadata": {},
     "output_type": "execute_result"
    }
   ],
   "source": [
    "import operator\n",
    "\n",
    "operator.or_(1,0)"
   ]
  },
  {
   "cell_type": "code",
   "execution_count": 163,
   "id": "64811e1c-7453-4346-9ea4-f496ee1554d3",
   "metadata": {},
   "outputs": [
    {
     "data": {
      "text/plain": [
       "21"
      ]
     },
     "execution_count": 163,
     "metadata": {},
     "output_type": "execute_result"
    }
   ],
   "source": [
    "operator.add(10,11)"
   ]
  },
  {
   "cell_type": "markdown",
   "id": "1306d7d9-3123-47cf-a334-0e0f663b627f",
   "metadata": {},
   "source": [
    "---"
   ]
  },
  {
   "cell_type": "markdown",
   "id": "1124556c-1a07-4029-a630-9ba53d98dd97",
   "metadata": {},
   "source": [
    "# **十、高阶函数：functools**\n",
    "\n",
    "---\n",
    "\n",
    "functools模块是Python的标准库的一部分，它是为高阶函数而实现的。高阶函数是作用于或返回另一个函数或多个函数的函数。一般来说，对这个模块而言，任何可调用的对象都可以作为一个函数来处理\n",
    "\n",
    "\n",
    "## **常用方法：**\n",
    "\n",
    "\n",
    "- **functools.reduce：基于多个值计算单个值**\n",
    "- **functools.partial：它基于一个函数创建一个可调用对象，把原函数的某些参数固定，调用时只需要传递未固定的参数即可**\n",
    "- **functools.wraps：使用了@functools.wraps的函数，它能够帮助你在装饰器@保存被装饰的函数的函数内部签名等信息。**\n",
    "- **functools.lru_cache：通过缓存增加代码性能**"
   ]
  },
  {
   "cell_type": "code",
   "execution_count": 168,
   "id": "6ed397ba-3c72-452b-ab64-98964d6ce765",
   "metadata": {},
   "outputs": [
    {
     "data": {
      "text/plain": [
       "15"
      ]
     },
     "execution_count": 168,
     "metadata": {},
     "output_type": "execute_result"
    }
   ],
   "source": [
    "import functools\n",
    "\n",
    "functools.reduce(lambda x, y: x+y, [1,2,3,4,5])"
   ]
  },
  {
   "cell_type": "code",
   "execution_count": 167,
   "id": "78acbf89-9edd-42e6-9758-5475d5f59790",
   "metadata": {},
   "outputs": [
    {
     "data": {
      "text/plain": [
       "7"
      ]
     },
     "execution_count": 167,
     "metadata": {},
     "output_type": "execute_result"
    }
   ],
   "source": [
    "import functools\n",
    "\n",
    "def add(a, b):\n",
    "    return a + b\n",
    "\n",
    "plus = functools.partial(add, 4)\n",
    "plus(3)"
   ]
  },
  {
   "cell_type": "code",
   "execution_count": 169,
   "id": "9ee3b4d3-fa05-4650-b64d-093a91a3f28d",
   "metadata": {},
   "outputs": [],
   "source": [
    "import time\n",
    "import functools\n",
    "\n",
    "\n",
    "def timed_op(op = \"time\", printer = None):\n",
    "    def wrapper(func):\n",
    "        # 增加functools.wraps: help时可保留属性，否则不然\n",
    "        # 可保持当前装饰器装饰的函数的__name__值不变\n",
    "        @wraps(func)\n",
    "        def sync_deco(*args,**kwargs):\n",
    "            '''同步时间计数器'''\n",
    "            if op == \"time\":\n",
    "                timer = time.time\n",
    "            elif op == \"perf_counter\":\n",
    "                timer = time.perf_counter\n",
    "            else:\n",
    "                raise Exception(\"time format is not allowed.\")\n",
    "            start = timer()\n",
    "            result = func(*args,**kwargs)\n",
    "            end = timer()\n",
    "            time_info = f\"Function( {func.__name__} ) elapsed time: {round(end - start, 8)} seconds.\"\n",
    "            printers = printer.info if printer else print\n",
    "            printers(time_info)\n",
    "            return result\n",
    "\n",
    "        return sync_deco\n",
    "    return wrapper"
   ]
  },
  {
   "cell_type": "code",
   "execution_count": 171,
   "id": "8b76c087-59b7-415a-9f51-f736cfae26aa",
   "metadata": {},
   "outputs": [
    {
     "name": "stdout",
     "output_type": "stream",
     "text": [
      "计算 5 的阶乘\n",
      "计算 4 的阶乘\n",
      "计算 3 的阶乘\n",
      "计算 2 的阶乘\n",
      "计算 1 的阶乘\n",
      "5! = 120\n",
      "计算 3 的阶乘\n",
      "计算 2 的阶乘\n",
      "计算 1 的阶乘\n",
      "3! = 6\n"
     ]
    }
   ],
   "source": [
    "def factorial(n):\n",
    "    print(f\"计算 {n} 的阶乘\")\n",
    "    return 1 if n <= 1 else n * factorial(n - 1)\n",
    " \n",
    "a = factorial(5)\n",
    "print(f'5! = {a}')\n",
    "b = factorial(3)\n",
    "print(f'3! = {b}')"
   ]
  },
  {
   "cell_type": "markdown",
   "id": "29dc7ad5-5782-4566-83be-aa9459228185",
   "metadata": {},
   "source": [
    "可以看到， factorial(3) 的结果在计算 factorial(5) 的时候已经被计算过了，但是后面又被重复计算了。为了避免这种重复计算，我们可以在定义函数 factorial 的时候加上 lru_cache 装饰器，如下所示"
   ]
  },
  {
   "cell_type": "code",
   "execution_count": 172,
   "id": "3efafa1c-6afe-4682-8d2e-0ebc0187dfd6",
   "metadata": {},
   "outputs": [
    {
     "name": "stdout",
     "output_type": "stream",
     "text": [
      "计算 5 的阶乘\n",
      "计算 4 的阶乘\n",
      "计算 3 的阶乘\n",
      "计算 2 的阶乘\n",
      "计算 1 的阶乘\n",
      "5! = 120\n",
      "3! = 6\n"
     ]
    }
   ],
   "source": [
    "import functools\n",
    "\n",
    "\n",
    "@functools.lru_cache()\n",
    "def factorial(n):\n",
    "    print(f\"计算 {n} 的阶乘\")\n",
    "    return 1 if n <= 1 else n * factorial(n - 1)\n",
    " \n",
    "a = factorial(5)\n",
    "print(f'5! = {a}')\n",
    "b = factorial(3)\n",
    "print(f'3! = {b}')"
   ]
  },
  {
   "cell_type": "markdown",
   "id": "f4806513-2938-410a-b50b-cdb3d7733745",
   "metadata": {},
   "source": [
    "---"
   ]
  },
  {
   "cell_type": "markdown",
   "id": "c6904713-21ac-4504-b6f3-774cefbd3f59",
   "metadata": {},
   "source": [
    "# **十一、迭代操作：itertools**\n",
    "\n",
    "---\n",
    "\n",
    "Python是一门非常强大的语言，开发效率极高，但是执行效率可能有点低，今天我们来说一下提高Python的开发和运行效率，迭代器是Python中非常常见的数据结构，比起list，最大优势就是延迟计算，提高开发和执行效率，所以今天的主角：itertools内置库就登场了。\n",
    "\n",
    "itertools中的函数大部分都是返回各种迭代器，正常的Python代码也能实现，但是往往执行效率低，代码量大，书写丑陋，所以合理的使用这个库有着很多的好处。"
   ]
  },
  {
   "cell_type": "code",
   "execution_count": 173,
   "id": "3d104dba-3b99-4d25-bbd0-1a161c3a08e1",
   "metadata": {},
   "outputs": [
    {
     "name": "stdout",
     "output_type": "stream",
     "text": [
      "[0, 1, 3, 6, 10]\n"
     ]
    }
   ],
   "source": [
    "\"\"\"\n",
    "itertools.accumulate\n",
    "\n",
    "累加\n",
    "\"\"\"\n",
    "\n",
    "import itertools\n",
    "\n",
    "x = itertools.accumulate(range(5))\n",
    "print(list(x))"
   ]
  },
  {
   "cell_type": "code",
   "execution_count": 174,
   "id": "3120c495-cad5-474d-b2b4-5708348be884",
   "metadata": {},
   "outputs": [
    {
     "name": "stdout",
     "output_type": "stream",
     "text": [
      "[0, 1, 2, 3, 1, 2, 3, 4]\n"
     ]
    }
   ],
   "source": [
    "\"\"\"\n",
    "itertools.chain\n",
    "\n",
    "连接多个列表\n",
    "\"\"\"\n",
    "\n",
    "import itertools\n",
    "\n",
    "x = itertools.chain(range(4),[1,2],[3,4])\n",
    "print(list(x))"
   ]
  },
  {
   "cell_type": "code",
   "execution_count": 177,
   "id": "49b42433-a905-4a85-a8b9-ae8110e40f2f",
   "metadata": {},
   "outputs": [
    {
     "name": "stdout",
     "output_type": "stream",
     "text": [
      "True [{'a': 1}, {'a': 2}]\n",
      "False [{'a': 3}]\n"
     ]
    }
   ],
   "source": [
    "\"\"\"\n",
    "itertools.groupby\n",
    "\n",
    "按照某个函数分组：功能非常强大，类似于pandas的groupby\n",
    "\n",
    "需要注意：最好先sorted排序一下在使用否则会有问题\n",
    "\"\"\"\n",
    "\n",
    "import itertools\n",
    "\n",
    "x = [{\"a\":1},{\"a\":2},{\"a\":3}]\n",
    "x = itertools.groupby(x,lambda y: y['a']<=2)\n",
    "for name,group in x:\n",
    "    print(name,list(group))"
   ]
  },
  {
   "cell_type": "code",
   "execution_count": 178,
   "id": "401c26b3-a206-4aa5-9da6-9f2a0ba71e18",
   "metadata": {},
   "outputs": [
    {
     "name": "stdout",
     "output_type": "stream",
     "text": [
      "[(0, 1), (0, 2), (1, 0), (1, 2), (2, 0), (2, 1)]\n"
     ]
    }
   ],
   "source": [
    "\"\"\"\n",
    "itertools.permutations\n",
    "\n",
    "排列，与下文的组合形成数学中的排列组合\n",
    "\"\"\"\n",
    "\n",
    "import itertools\n",
    "\n",
    "x = itertools.permutations(range(3),2)\n",
    "print(list(x))"
   ]
  },
  {
   "cell_type": "code",
   "execution_count": 179,
   "id": "30914ee9-33de-4e68-8d07-3ef3ab897cff",
   "metadata": {},
   "outputs": [
    {
     "name": "stdout",
     "output_type": "stream",
     "text": [
      "[(0, 1), (0, 2), (1, 2)]\n"
     ]
    }
   ],
   "source": [
    "\"\"\"\n",
    "itertools.combinations\n",
    "\n",
    "组合：元素不重复\n",
    "\"\"\"\n",
    "\n",
    "import itertools\n",
    "\n",
    "x = itertools.combinations(range(3),2)\n",
    "print(list(x))"
   ]
  },
  {
   "cell_type": "code",
   "execution_count": 180,
   "id": "6ffc3e23-ff1b-4a4a-8796-7b445e59b281",
   "metadata": {},
   "outputs": [
    {
     "name": "stdout",
     "output_type": "stream",
     "text": [
      "[(0, 0), (0, 1), (0, 2), (1, 1), (1, 2), (2, 2)]\n"
     ]
    }
   ],
   "source": [
    "\"\"\"\n",
    "itertools.combinations_with_replacement\n",
    "\n",
    "组合：允许元素重复\n",
    "\"\"\"\n",
    "\n",
    "import itertools\n",
    "\n",
    "x = itertools.combinations_with_replacement(range(3),2)\n",
    "print(list(x))"
   ]
  },
  {
   "cell_type": "code",
   "execution_count": 181,
   "id": "2869b375-38d0-48d2-b4a3-4f2788e4c3f0",
   "metadata": {},
   "outputs": [
    {
     "name": "stdout",
     "output_type": "stream",
     "text": [
      "[0]\n"
     ]
    }
   ],
   "source": [
    "\"\"\"\n",
    "itertools.compress\n",
    "\n",
    "按照真值筛选，类似于压缩\n",
    "\"\"\"\n",
    "\n",
    "import itertools\n",
    "\n",
    "x = itertools.compress(range(3),(True,False,False))\n",
    "print(list(x))"
   ]
  },
  {
   "cell_type": "code",
   "execution_count": 182,
   "id": "91e229c9-77e4-4c65-918e-7ee9dfa63bca",
   "metadata": {},
   "outputs": [
    {
     "name": "stdout",
     "output_type": "stream",
     "text": [
      "[0, 3, 6, 9]\n"
     ]
    }
   ],
   "source": [
    "\"\"\"\n",
    "itertools.islice\n",
    "\n",
    "迭代器切片：参数分别是，迭代器，起始，终止，步长\n",
    "\"\"\"\n",
    "\n",
    "import itertools\n",
    "\n",
    "x = itertools.islice(range(20),0,11,3)\n",
    "print(list(x))"
   ]
  },
  {
   "cell_type": "code",
   "execution_count": 183,
   "id": "13ff5523-7c61-46cd-8390-6f69ce6c8e1b",
   "metadata": {},
   "outputs": [
    {
     "name": "stdout",
     "output_type": "stream",
     "text": [
      "[10, 12, 14, 16, 18]\n"
     ]
    }
   ],
   "source": [
    "\"\"\"\n",
    "itertools.count\n",
    "\n",
    "计数器：指定起始和步长\n",
    "\n",
    "需要注意：搭配islice使用，千万不要直接使用 `list(x)`否则内存很可能炸了\n",
    "\"\"\"\n",
    "\n",
    "import itertools\n",
    "\n",
    "x = itertools.count(start=10,step=2)\n",
    "print(list(itertools.islice(x,0,5,1)))"
   ]
  },
  {
   "cell_type": "code",
   "execution_count": 184,
   "id": "a44ce67c-1bc7-4d96-b39d-0af03da21a19",
   "metadata": {},
   "outputs": [
    {
     "name": "stdout",
     "output_type": "stream",
     "text": [
      "[0, 1, 2, 3, 4, 5]\n"
     ]
    }
   ],
   "source": [
    "\"\"\"\n",
    "itertools.filterfalse\n",
    "\n",
    "保留：`false`对应的值，相对的是 `filter`\n",
    "\"\"\"\n",
    "\n",
    "import itertools\n",
    "\n",
    "x = itertools.filterfalse(lambda x: x > 5, range(10))\n",
    "print(list(x))"
   ]
  },
  {
   "cell_type": "code",
   "execution_count": 185,
   "id": "06e13386-7f98-4f65-aec7-340ef0951cfd",
   "metadata": {},
   "outputs": [
    {
     "name": "stdout",
     "output_type": "stream",
     "text": [
      "[4, 2]\n"
     ]
    }
   ],
   "source": [
    "\"\"\"\n",
    "itertools.dropwhile\n",
    "\n",
    "按照真值丢弃迭代器元素\n",
    "\"\"\"\n",
    "\n",
    "import itertools\n",
    "\n",
    "x = itertools.dropwhile(lambda x: x > 5, [8,6,4,2])\n",
    "print(list(x))"
   ]
  },
  {
   "cell_type": "code",
   "execution_count": 186,
   "id": "cd72b8aa-0372-4676-b568-8bff04706bd4",
   "metadata": {},
   "outputs": [
    {
     "name": "stdout",
     "output_type": "stream",
     "text": [
      "[8, 6]\n"
     ]
    }
   ],
   "source": [
    "\"\"\"\n",
    "itertools.takewhile\n",
    "\n",
    "简单来说：与itertools.dropwhile相反\n",
    "\"\"\"\n",
    "\n",
    "import itertools\n",
    "\n",
    "x = itertools.takewhile(lambda x: x > 5, [8,6,4,2])\n",
    "print(list(x))"
   ]
  },
  {
   "cell_type": "code",
   "execution_count": 187,
   "id": "de180e3b-674c-4b28-9b0b-d46d42b9ed76",
   "metadata": {},
   "outputs": [
    {
     "name": "stdout",
     "output_type": "stream",
     "text": [
      "[0, 2, 1]\n"
     ]
    }
   ],
   "source": [
    "\"\"\"\n",
    "itertools.cycle\n",
    "\n",
    "迭代器循环\n",
    "\"\"\"\n",
    "\n",
    "import itertools\n",
    "\n",
    "x = itertools.cycle([0,1,2])\n",
    "print(list(itertools.islice(x,0,5,2)))"
   ]
  },
  {
   "cell_type": "code",
   "execution_count": 188,
   "id": "968fb2dc-77e3-4fd6-8e87-7ce53ff9f3b5",
   "metadata": {},
   "outputs": [
    {
     "name": "stdout",
     "output_type": "stream",
     "text": [
      "[(1, 'a'), (1, 'b'), (2, 'a'), (2, 'b'), (3, 'a'), (3, 'b')]\n"
     ]
    }
   ],
   "source": [
    "\"\"\"\n",
    "itertools.product\n",
    "\n",
    "以元组的形式，根据输入的可遍历对象生成笛卡尔积，与嵌套的 `for`循环类似。\n",
    "\n",
    "`repeat`是一个关键字参数，指定重复生成序列的次数\n",
    "\"\"\"\n",
    "\n",
    "import itertools\n",
    "\n",
    "a = (1,2,3)\n",
    "b = ('a','b')\n",
    "x = itertools.product(a,b)\n",
    "print(list(x))"
   ]
  },
  {
   "cell_type": "code",
   "execution_count": 189,
   "id": "740cc2dd-733a-4371-983c-300cd8f67b6e",
   "metadata": {},
   "outputs": [
    {
     "name": "stdout",
     "output_type": "stream",
     "text": [
      "[1, 1, 1, 1]\n"
     ]
    }
   ],
   "source": [
    "\"\"\"\n",
    "itertools.repeat\n",
    "\n",
    "重复元素一定次数\n",
    "\"\"\"\n",
    "\n",
    "import itertools\n",
    "\n",
    "x = itertools.repeat(1,4)\n",
    "print(list(x))"
   ]
  },
  {
   "cell_type": "code",
   "execution_count": 192,
   "id": "81392439-143e-409e-a4d7-80ee5bc407be",
   "metadata": {},
   "outputs": [
    {
     "data": {
      "text/plain": [
       "[5, 4, 10, 8, 11, 9]"
      ]
     },
     "execution_count": 192,
     "metadata": {},
     "output_type": "execute_result"
    }
   ],
   "source": [
    "\"\"\"\n",
    "itertools.starmap\n",
    "\n",
    "map：作用于迭代器的每一个元素\n",
    "\n",
    "starmap：除了map功能，还可以作用于迭代器的不同元素\n",
    "\n",
    "简单来说就是对于一个迭代器支持多元函数，map需要两个迭代器\n",
    "\"\"\"\n",
    "\n",
    "import itertools\n",
    "\n",
    "li =[(2, 3), (3, 1), (4, 6), (5, 3), (6, 5), (7, 2)]\n",
    "\n",
    "list(itertools.starmap(lambda x,y: x+y, li))"
   ]
  },
  {
   "cell_type": "code",
   "execution_count": 194,
   "id": "e8abbda9-dddd-431f-8182-39daa445e6cb",
   "metadata": {},
   "outputs": [
    {
     "name": "stdout",
     "output_type": "stream",
     "text": [
      "[[0, 1, 2, 3, 4], [0, 1, 2, 3, 4]]\n"
     ]
    }
   ],
   "source": [
    "\"\"\"\n",
    "itertools.tee\n",
    "\n",
    "让一个迭代器被多次且完整的遍历\n",
    "\n",
    "**这是一个爆炸内存的神奇QAQ**\n",
    "\"\"\"\n",
    "\n",
    "import itertools\n",
    "\n",
    "x = itertools.tee(range(5),2)\n",
    "print([list(x) for x in x])"
   ]
  },
  {
   "cell_type": "code",
   "execution_count": 196,
   "id": "f342cc7c-9b81-409f-a8fc-f50193bff3c5",
   "metadata": {},
   "outputs": [
    {
     "name": "stdout",
     "output_type": "stream",
     "text": [
      "[(0, 0), (1, 1), (2, 2), (None, 3), (None, 4)]\n"
     ]
    }
   ],
   "source": [
    "\"\"\"\n",
    "itertools.zip_longest\n",
    "\n",
    "类似于zip，以长一点的迭代器为准\n",
    "\"\"\"\n",
    "\n",
    "import itertools\n",
    "\n",
    "x = itertools.zip_longest(range(3),range(5))\n",
    "print(list(x))"
   ]
  },
  {
   "cell_type": "code",
   "execution_count": 195,
   "id": "6738114d-3879-4104-a9d9-fd8044f6878f",
   "metadata": {},
   "outputs": [
    {
     "name": "stdout",
     "output_type": "stream",
     "text": [
      "[(0, 0), (1, 1), (2, 2)]\n"
     ]
    }
   ],
   "source": [
    "x = zip(range(3),range(5))\n",
    "print(list(x))"
   ]
  },
  {
   "cell_type": "markdown",
   "id": "361694f7-35e5-4e1c-ac66-d0e4bb9382e9",
   "metadata": {},
   "source": [
    "---"
   ]
  },
  {
   "cell_type": "markdown",
   "id": "2588207f-8a40-42b8-a4ee-0554da776993",
   "metadata": {},
   "source": [
    "# **十二：容器操作：collections**\n",
    "\n",
    "---\n",
    "\n",
    "collections是Python内建的一个集合模块，提供了许多有用的集合类。"
   ]
  },
  {
   "cell_type": "code",
   "execution_count": 198,
   "id": "48d463ac-3770-44a9-a124-1269ace580ea",
   "metadata": {},
   "outputs": [
    {
     "data": {
      "text/plain": [
       "Counter({1: 1, 2: 1, 3: 1, 4: 3, 5: 1, 6: 1})"
      ]
     },
     "execution_count": 198,
     "metadata": {},
     "output_type": "execute_result"
    }
   ],
   "source": [
    "\"\"\"\n",
    "collections.Counter\n",
    "\n",
    "是一个简单的计数器，例如，统计字符出现的个数\n",
    "\"\"\"\n",
    "\n",
    "from collections import Counter\n",
    "\n",
    "a = [1,2,3,4,4,4,5,6]\n",
    "\n",
    "Counter(a)"
   ]
  },
  {
   "cell_type": "code",
   "execution_count": 199,
   "id": "364f86fb-fe1b-4795-9eab-52efd2f32b8f",
   "metadata": {},
   "outputs": [
    {
     "data": {
      "text/plain": [
       "1"
      ]
     },
     "execution_count": 199,
     "metadata": {},
     "output_type": "execute_result"
    }
   ],
   "source": [
    "\"\"\"\n",
    "collections.namedtuple\n",
    "\n",
    "创建简单的类\n",
    "\"\"\"\n",
    "\n",
    "from collections import namedtuple\n",
    "\n",
    "Point = namedtuple('Point', ['x', 'y'])\n",
    "\n",
    "p = Point(1, 2)\n",
    "\n",
    "p.x"
   ]
  },
  {
   "cell_type": "code",
   "execution_count": 201,
   "id": "eca55386-b5d8-4a91-b6e8-9a019b234e3d",
   "metadata": {},
   "outputs": [
    {
     "data": {
      "text/plain": [
       "deque(['y', 'a', 'b', 'c', 'x'])"
      ]
     },
     "execution_count": 201,
     "metadata": {},
     "output_type": "execute_result"
    }
   ],
   "source": [
    "\"\"\"\n",
    "collections.deque\n",
    "\n",
    "使用list存储数据时，按索引访问元素很快，但是插入和删除元素就很慢了，因为list是线性存储，数据量大的时候，插入和删除效率很低。\n",
    "\n",
    "deque是为了高效实现插入和删除操作的双向列表，适合用于队列和栈\n",
    "\"\"\"\n",
    "\n",
    "from collections import deque\n",
    "\n",
    "q = deque(['a', 'b', 'c'])\n",
    "q.append('x')\n",
    "q.appendleft('y')\n",
    "q"
   ]
  },
  {
   "cell_type": "code",
   "execution_count": 202,
   "id": "b01e1135-5137-4c57-8058-d78ac0209809",
   "metadata": {},
   "outputs": [
    {
     "data": {
      "text/plain": [
       "'我不存在'"
      ]
     },
     "execution_count": 202,
     "metadata": {},
     "output_type": "execute_result"
    }
   ],
   "source": [
    "\"\"\"\n",
    "collections.defaultdict\n",
    "\n",
    "使用dict时，如果引用的Key不存在，就会抛出KeyError。\n",
    "如果希望key不存在时，返回一个默认值，就可以用defaultdict：\n",
    "\"\"\"\n",
    "\n",
    "from collections import defaultdict\n",
    "\n",
    "dd = defaultdict(lambda: '我不存在')\n",
    "dd['key1']"
   ]
  },
  {
   "cell_type": "code",
   "execution_count": 204,
   "id": "848d1ddd-147c-486e-950a-1ffd343d00eb",
   "metadata": {},
   "outputs": [
    {
     "name": "stdout",
     "output_type": "stream",
     "text": [
      "{'a': 1, 'b': 2, 'c': 3}\n",
      "OrderedDict([('a', 1), ('b', 2), ('c', 3)])\n"
     ]
    }
   ],
   "source": [
    "\"\"\"\n",
    "collections.OrderedDict\n",
    "\n",
    "使用dict时，Key是无序的。在对dict做迭代时，我们无法确定Key的顺序。\n",
    "\n",
    "如果要保持Key的顺序，可以用OrderedDict\n",
    "\"\"\"\n",
    "\n",
    "from collections import OrderedDict\n",
    "\n",
    "d = dict([('a', 1), ('b', 2), ('c', 3)])\n",
    "\n",
    "print(d)\n",
    "\n",
    "od = OrderedDict([('a', 1), ('b', 2), ('c', 3)])\n",
    "\n",
    "print(od)"
   ]
  },
  {
   "cell_type": "code",
   "execution_count": 209,
   "id": "3d64f88d-9a3f-4306-aff4-4d4eb4795010",
   "metadata": {},
   "outputs": [],
   "source": [
    "\"\"\"\n",
    "collections.ChainMap\n",
    "\n",
    "ChainMap可以把一组dict串起来并组成一个逻辑上的dict。ChainMap本身也是一个dict，但是查找的时候，会按照顺序在内部的dict依次查找。\n",
    "\n",
    "类似于字典的update，只不过这不用创建新的字典\n",
    "\"\"\"\n",
    "\n",
    "from collections import ChainMap\n",
    "\n",
    "a = {'x': 1, 'z': 2}\n",
    "b = {'y': 2, 'z': 3}\n",
    "\n",
    "c = ChainMap(a,b)"
   ]
  },
  {
   "cell_type": "code",
   "execution_count": 210,
   "id": "6a71d70e-b716-4db6-9535-27be5c6a2fed",
   "metadata": {},
   "outputs": [
    {
     "data": {
      "text/plain": [
       "1"
      ]
     },
     "execution_count": 210,
     "metadata": {},
     "output_type": "execute_result"
    }
   ],
   "source": [
    "c['x']"
   ]
  },
  {
   "cell_type": "code",
   "execution_count": 211,
   "id": "d7755299-cb58-43da-8112-8183801b436e",
   "metadata": {},
   "outputs": [
    {
     "data": {
      "text/plain": [
       "2"
      ]
     },
     "execution_count": 211,
     "metadata": {},
     "output_type": "execute_result"
    }
   ],
   "source": [
    "c['y']"
   ]
  },
  {
   "cell_type": "code",
   "execution_count": 212,
   "id": "9f5de6e9-7a6c-41fa-98f4-054526ad5eec",
   "metadata": {},
   "outputs": [
    {
     "data": {
      "text/plain": [
       "2"
      ]
     },
     "execution_count": 212,
     "metadata": {},
     "output_type": "execute_result"
    }
   ],
   "source": [
    "c['z']"
   ]
  },
  {
   "cell_type": "code",
   "execution_count": null,
   "id": "81230831-44e9-422a-a5c7-216ec6b8e6d1",
   "metadata": {},
   "outputs": [],
   "source": []
  }
 ],
 "metadata": {
  "kernelspec": {
   "display_name": "Python 3 (ipykernel)",
   "language": "python",
   "name": "python3"
  },
  "language_info": {
   "codemirror_mode": {
    "name": "ipython",
    "version": 3
   },
   "file_extension": ".py",
   "mimetype": "text/x-python",
   "name": "python",
   "nbconvert_exporter": "python",
   "pygments_lexer": "ipython3",
   "version": "3.9.7"
  }
 },
 "nbformat": 4,
 "nbformat_minor": 5
}
