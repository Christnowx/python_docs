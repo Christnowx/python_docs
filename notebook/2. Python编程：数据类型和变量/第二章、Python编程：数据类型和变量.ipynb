{
 "cells": [
  {
   "cell_type": "markdown",
   "id": "87f7e438-0dc5-4353-b67d-513f899678ac",
   "metadata": {},
   "source": [
    "# **花卷学Python**\n",
    "---\n",
    "\n",
    "> **我年纪轻轻就学会了Python编程**\n",
    "\n",
    "\n",
    "# **第二章、Python编程：数据类型和变量**\n",
    "\n",
    " - [x] **数据类型和变量**\n",
    " - [x] **numger：数字**\n",
    " - [x] **string：字符串 和 bytes**\n",
    " - [x] **bool：布尔值**\n",
    " - [x] **None：空值**\n",
    " - [x] **list：列表**\n",
    " - [x] **set：集合**\n",
    " - [x] **dict：字典**\n",
    " - [x] **tuple：元祖**\n",
    " - [x] **不可变数据与可变数据**"
   ]
  },
  {
   "cell_type": "markdown",
   "id": "9910656a-2c0f-4cd0-8d87-218521c7c086",
   "metadata": {},
   "source": [
    "--- "
   ]
  },
  {
   "cell_type": "markdown",
   "id": "2a45e446-ae52-48d9-98f3-4fffa887d874",
   "metadata": {},
   "source": [
    "# **一、数据类型和变量**\n",
    "---"
   ]
  },
  {
   "cell_type": "markdown",
   "id": "7b27a8d1-ff6e-46a9-9273-81ead5c90143",
   "metadata": {},
   "source": [
    "## **数据类型**\n",
    "顾名思义，计算机需要处理各种不同的数据，如：数字，字符串，文本，语音，图像等等，因此编程语言需要定义各种数据类型。\n",
    "在Python中，能够直接处理的数据类型有以下几种：\n",
    "- 数字\n",
    "- 字符串 和 bytes\n",
    "- 布尔值\n",
    "- 空值\n",
    "- 列表\n",
    "- 集合\n",
    "- 字典\n",
    "- 元祖\n",
    "\n",
    "Python提供内置方法 `type` 查看数据类型，例如："
   ]
  },
  {
   "cell_type": "code",
   "execution_count": 73,
   "id": "4b965209-a13a-40fb-ac79-edbb3f25db4a",
   "metadata": {},
   "outputs": [
    {
     "data": {
      "text/plain": [
       "int"
      ]
     },
     "execution_count": 73,
     "metadata": {},
     "output_type": "execute_result"
    }
   ],
   "source": [
    "type(1)"
   ]
  },
  {
   "cell_type": "code",
   "execution_count": 74,
   "id": "ae615473-e6b2-4a2e-9903-a83b0afc395d",
   "metadata": {},
   "outputs": [
    {
     "data": {
      "text/plain": [
       "float"
      ]
     },
     "execution_count": 74,
     "metadata": {},
     "output_type": "execute_result"
    }
   ],
   "source": [
    "type(1.1)"
   ]
  },
  {
   "cell_type": "code",
   "execution_count": 75,
   "id": "f84933eb-e793-4438-bb70-97d0f904657c",
   "metadata": {},
   "outputs": [
    {
     "data": {
      "text/plain": [
       "complex"
      ]
     },
     "execution_count": 75,
     "metadata": {},
     "output_type": "execute_result"
    }
   ],
   "source": [
    "type(1+1j)"
   ]
  },
  {
   "cell_type": "code",
   "execution_count": 138,
   "id": "fee1f638-35a9-473b-bc1b-b882bb604cc0",
   "metadata": {},
   "outputs": [
    {
     "data": {
      "text/plain": [
       "bool"
      ]
     },
     "execution_count": 138,
     "metadata": {},
     "output_type": "execute_result"
    }
   ],
   "source": [
    "type(True)"
   ]
  },
  {
   "cell_type": "code",
   "execution_count": 76,
   "id": "cd5e2867-42be-4c89-8794-84a386cbdfc6",
   "metadata": {},
   "outputs": [
    {
     "data": {
      "text/plain": [
       "str"
      ]
     },
     "execution_count": 76,
     "metadata": {},
     "output_type": "execute_result"
    }
   ],
   "source": [
    "type('111')"
   ]
  },
  {
   "cell_type": "code",
   "execution_count": 77,
   "id": "727482ad-a5e2-4fee-a60c-dd763962f73b",
   "metadata": {},
   "outputs": [
    {
     "data": {
      "text/plain": [
       "set"
      ]
     },
     "execution_count": 77,
     "metadata": {},
     "output_type": "execute_result"
    }
   ],
   "source": [
    "type({1,2,3})"
   ]
  },
  {
   "cell_type": "code",
   "execution_count": 78,
   "id": "406374c6-de03-4262-be7c-10c7a9b75f3a",
   "metadata": {},
   "outputs": [
    {
     "data": {
      "text/plain": [
       "dict"
      ]
     },
     "execution_count": 78,
     "metadata": {},
     "output_type": "execute_result"
    }
   ],
   "source": [
    "type({'a':1})"
   ]
  },
  {
   "cell_type": "code",
   "execution_count": 79,
   "id": "1301bf00-dd4b-4190-aa5d-a191dded30c7",
   "metadata": {},
   "outputs": [
    {
     "data": {
      "text/plain": [
       "list"
      ]
     },
     "execution_count": 79,
     "metadata": {},
     "output_type": "execute_result"
    }
   ],
   "source": [
    "type([1,2,3])"
   ]
  },
  {
   "cell_type": "code",
   "execution_count": 80,
   "id": "0b3f0600-40ad-4861-a3ea-1999feb0b905",
   "metadata": {},
   "outputs": [
    {
     "data": {
      "text/plain": [
       "tuple"
      ]
     },
     "execution_count": 80,
     "metadata": {},
     "output_type": "execute_result"
    }
   ],
   "source": [
    "type((1,2,3))"
   ]
  },
  {
   "cell_type": "markdown",
   "id": "ba32923a-5620-45bf-9f24-79f78c9e2afc",
   "metadata": {},
   "source": [
    " "
   ]
  },
  {
   "cell_type": "markdown",
   "id": "59212b76-5a87-42fd-88c3-124ce3d9feff",
   "metadata": {},
   "source": [
    "# **变量**\n",
    "在 Python 程序中，变量是用一个变量名表示，可以是任意数据类型，变量名必须是大小写英文、数字和下划线（_）的组合，且不能用数字开头，例如："
   ]
  },
  {
   "cell_type": "code",
   "execution_count": 1,
   "id": "1a8381b5-cdfd-4720-9104-ae1d892a8c86",
   "metadata": {},
   "outputs": [],
   "source": [
    "a = 1"
   ]
  },
  {
   "cell_type": "code",
   "execution_count": 2,
   "id": "5e91b261-4ce0-4f2a-829f-5629d829eaca",
   "metadata": {},
   "outputs": [],
   "source": [
    "a = '1'"
   ]
  },
  {
   "cell_type": "markdown",
   "id": "7a670acd-3b6a-4d62-bf49-323b2999e840",
   "metadata": {},
   "source": [
    "这里的 `a` 就是一个变量，第一个代表整数，第二个代表字符串，注意：`Python 是不用声明数据类型的`。在 Python 中 `=` 是赋值语句，跟其他的编程语言也是一样的，因为 Python 定义变量时不需要声明数据类型，因此可以把任意的数据类型赋值给变量，且同一个变量可以反复赋值，而且可以是不同的数据类型。\n",
    "\n",
    "这种变量本身类型不固定的语言称之为动态语言，与之对应的是静态语言。静态语言在定义变量时必须指定变量类型，如果赋值的时候类型不匹配，就会报错。例如 Java"
   ]
  },
  {
   "cell_type": "code",
   "execution_count": 3,
   "id": "78e76908-a8ff-456d-a9f8-3e331eb901f2",
   "metadata": {},
   "outputs": [],
   "source": [
    "a_b = 1"
   ]
  },
  {
   "cell_type": "code",
   "execution_count": 5,
   "id": "e90d97ac-6c52-49ba-9bfb-0904d79ff711",
   "metadata": {},
   "outputs": [],
   "source": [
    "_a = 1"
   ]
  },
  {
   "cell_type": "code",
   "execution_count": 6,
   "id": "ddb03b2f-c326-4714-947e-82e29da46101",
   "metadata": {},
   "outputs": [
    {
     "ename": "SyntaxError",
     "evalue": "invalid syntax (Temp/ipykernel_19444/1364191551.py, line 1)",
     "output_type": "error",
     "traceback": [
      "\u001b[1;36m  File \u001b[1;32m\"C:\\Users\\DELL\\AppData\\Local\\Temp/ipykernel_19444/1364191551.py\"\u001b[1;36m, line \u001b[1;32m1\u001b[0m\n\u001b[1;33m    1a = 1\u001b[0m\n\u001b[1;37m     ^\u001b[0m\n\u001b[1;31mSyntaxError\u001b[0m\u001b[1;31m:\u001b[0m invalid syntax\n"
     ]
    }
   ],
   "source": [
    "1a = 1"
   ]
  },
  {
   "cell_type": "markdown",
   "id": "69252ea3-03bf-4dac-934d-d42bef80135f",
   "metadata": {},
   "source": [
    "**Python 允许多个变量同时赋值，例如：**"
   ]
  },
  {
   "cell_type": "code",
   "execution_count": 4,
   "id": "8f0ed7c0-f079-47e1-8e35-8e29560ff353",
   "metadata": {},
   "outputs": [
    {
     "name": "stdout",
     "output_type": "stream",
     "text": [
      "1 1 True\n"
     ]
    }
   ],
   "source": [
    "a,b,c = 1,'1',True\n",
    "\n",
    "print(a,b,c)"
   ]
  },
  {
   "cell_type": "markdown",
   "id": "f7826501-03c9-40f1-a74e-4e37938486f1",
   "metadata": {},
   "source": [
    "**变量指向问题，让我们来看个例子：**"
   ]
  },
  {
   "cell_type": "code",
   "execution_count": 5,
   "id": "ed354d52-dbcb-4f6a-8182-b4f430cec60c",
   "metadata": {},
   "outputs": [
    {
     "name": "stdout",
     "output_type": "stream",
     "text": [
      "b= 1\n",
      "a= hello\n"
     ]
    }
   ],
   "source": [
    "a = 1\n",
    "b = a\n",
    "a = 'hello'\n",
    "print('b=',b)\n",
    "print('a=',a)"
   ]
  },
  {
   "cell_type": "markdown",
   "id": "743b4416-586d-4ff6-b0be-056d2f1a9036",
   "metadata": {},
   "source": [
    "这主要是变量 a 一开始是指向了整数 `1` ，`b=a` 创建了变量 b ,变量 b 也指向了a 指向的整数 `1`，最后 `a='hello'`，把 变量 a 重新指向了 `hello`，所以最后输出变量 b 是 `1`"
   ]
  },
  {
   "cell_type": "markdown",
   "id": "b138dd72-0efc-440d-be71-e140a555ac87",
   "metadata": {},
   "source": [
    "**下面我们来具体看看Python的几种数据类型以及处理方法**"
   ]
  },
  {
   "cell_type": "markdown",
   "id": "b85cf992-96d7-4dc8-ad77-7a1e874d3020",
   "metadata": {},
   "source": [
    "---"
   ]
  },
  {
   "cell_type": "markdown",
   "id": "2d49510f-cb18-4143-a658-8682f26210b2",
   "metadata": {},
   "source": [
    "# **二、数字**\n",
    "---"
   ]
  },
  {
   "cell_type": "markdown",
   "id": "1de5b79c-094b-4eb6-9e41-cbdfb9be63fa",
   "metadata": {},
   "source": [
    "Python可以处理任意大小的数字，当然包括负数，在程序中的表示方法和数学上的写法一模一样，有以下几种：\n",
    "\n",
    "- [x] **整数：int**\n",
    "- [x] **浮点数：float**\n",
    "- [x] **负数：-**\n",
    "- [x] **复数：实部+虚部j**"
   ]
  },
  {
   "cell_type": "code",
   "execution_count": 13,
   "id": "f29bdece-14dc-493b-b04e-1a1313caaeb3",
   "metadata": {},
   "outputs": [
    {
     "data": {
      "text/plain": [
       "1"
      ]
     },
     "execution_count": 13,
     "metadata": {},
     "output_type": "execute_result"
    }
   ],
   "source": [
    "### 整数\n",
    "\n",
    "1"
   ]
  },
  {
   "cell_type": "code",
   "execution_count": 14,
   "id": "1bee72dc-3e4e-48ea-8555-3e3ab3671a76",
   "metadata": {},
   "outputs": [
    {
     "data": {
      "text/plain": [
       "10"
      ]
     },
     "execution_count": 14,
     "metadata": {},
     "output_type": "execute_result"
    }
   ],
   "source": [
    "### 整数\n",
    "\n",
    "10"
   ]
  },
  {
   "cell_type": "code",
   "execution_count": 15,
   "id": "8ea85492-dd72-4fc2-99af-4dbeb8b1acc0",
   "metadata": {},
   "outputs": [
    {
     "data": {
      "text/plain": [
       "0.1"
      ]
     },
     "execution_count": 15,
     "metadata": {},
     "output_type": "execute_result"
    }
   ],
   "source": [
    "### 浮点数\n",
    "\n",
    "0.1"
   ]
  },
  {
   "cell_type": "code",
   "execution_count": 16,
   "id": "93c23300-3d07-4296-bf73-b4c610c70a07",
   "metadata": {},
   "outputs": [
    {
     "data": {
      "text/plain": [
       "0.1111"
      ]
     },
     "execution_count": 16,
     "metadata": {},
     "output_type": "execute_result"
    }
   ],
   "source": [
    "### 浮点数\n",
    "\n",
    "0.1111"
   ]
  },
  {
   "cell_type": "code",
   "execution_count": 17,
   "id": "52b98add-2228-43d8-83f6-0d159f317b60",
   "metadata": {},
   "outputs": [
    {
     "data": {
      "text/plain": [
       "-1"
      ]
     },
     "execution_count": 17,
     "metadata": {},
     "output_type": "execute_result"
    }
   ],
   "source": [
    "### 负数\n",
    "\n",
    "-1"
   ]
  },
  {
   "cell_type": "code",
   "execution_count": 18,
   "id": "565bd8a2-5430-4d2d-b6b6-9d47b2cf5a3f",
   "metadata": {},
   "outputs": [
    {
     "data": {
      "text/plain": [
       "-100"
      ]
     },
     "execution_count": 18,
     "metadata": {},
     "output_type": "execute_result"
    }
   ],
   "source": [
    "### 负数\n",
    "\n",
    "-100"
   ]
  },
  {
   "cell_type": "code",
   "execution_count": 20,
   "id": "e23a0b27-76b0-4431-bf72-4aa8d8fa3ff3",
   "metadata": {},
   "outputs": [
    {
     "data": {
      "text/plain": [
       "(1+2j)"
      ]
     },
     "execution_count": 20,
     "metadata": {},
     "output_type": "execute_result"
    }
   ],
   "source": [
    "### 复数\n",
    "\n",
    "1+2j"
   ]
  },
  {
   "cell_type": "code",
   "execution_count": 21,
   "id": "f8ad1a32-9c68-49e2-8cab-b25567f7ba0c",
   "metadata": {},
   "outputs": [
    {
     "data": {
      "text/plain": [
       "(1-20j)"
      ]
     },
     "execution_count": 21,
     "metadata": {},
     "output_type": "execute_result"
    }
   ],
   "source": [
    "### 复数\n",
    "\n",
    "1-20j"
   ]
  },
  {
   "cell_type": "markdown",
   "id": "d53ff2df-c962-4462-ac25-f4b2c3ffcd3a",
   "metadata": {},
   "source": [
    "## **数字内置方法**"
   ]
  },
  {
   "cell_type": "markdown",
   "id": "75f11c94-5b9f-4e1e-bd32-2f0d4bc85627",
   "metadata": {},
   "source": [
    "### **转化为整数：int**\n",
    "\n",
    "Python提供内置方法：`int` 可以把其它类型数据转化为整数，例如："
   ]
  },
  {
   "cell_type": "code",
   "execution_count": 61,
   "id": "52a01987-71d8-40ae-a552-bbcfbb4bec19",
   "metadata": {},
   "outputs": [
    {
     "data": {
      "text/plain": [
       "1"
      ]
     },
     "execution_count": 61,
     "metadata": {},
     "output_type": "execute_result"
    }
   ],
   "source": [
    "### 转化小数为整数\n",
    "\n",
    "int(1.1)"
   ]
  },
  {
   "cell_type": "code",
   "execution_count": 62,
   "id": "efd66f7b-c86c-4855-831c-6f4b280792d5",
   "metadata": {},
   "outputs": [
    {
     "data": {
      "text/plain": [
       "1"
      ]
     },
     "execution_count": 62,
     "metadata": {},
     "output_type": "execute_result"
    }
   ],
   "source": [
    "int(1.5)"
   ]
  },
  {
   "cell_type": "code",
   "execution_count": 63,
   "id": "afa6b945-299e-44b4-87cd-4309daa29932",
   "metadata": {},
   "outputs": [
    {
     "data": {
      "text/plain": [
       "1"
      ]
     },
     "execution_count": 63,
     "metadata": {},
     "output_type": "execute_result"
    }
   ],
   "source": [
    "### 转化整数为整数\n",
    "\n",
    "int(1)"
   ]
  },
  {
   "cell_type": "code",
   "execution_count": 64,
   "id": "0f12fa23-434e-44fd-bfea-40a216c8c2c0",
   "metadata": {},
   "outputs": [
    {
     "data": {
      "text/plain": [
       "1"
      ]
     },
     "execution_count": 64,
     "metadata": {},
     "output_type": "execute_result"
    }
   ],
   "source": [
    "### 转化字符串为整数\n",
    "\n",
    "int('1')"
   ]
  },
  {
   "cell_type": "markdown",
   "id": "97803809-4c16-42d0-ae10-50c3e821adf9",
   "metadata": {},
   "source": [
    "### **转化为浮点数：float**\n",
    "\n",
    "Python提供内置方法：`float` 可以把其它类型数据转化为浮点数，例如："
   ]
  },
  {
   "cell_type": "code",
   "execution_count": 65,
   "id": "be222c96-b84f-40ea-a592-3f617e518a13",
   "metadata": {},
   "outputs": [
    {
     "data": {
      "text/plain": [
       "1.1"
      ]
     },
     "execution_count": 65,
     "metadata": {},
     "output_type": "execute_result"
    }
   ],
   "source": [
    "### 转化浮点数\n",
    "\n",
    "float(1.1)"
   ]
  },
  {
   "cell_type": "code",
   "execution_count": 66,
   "id": "70e0a0b3-88d4-402c-af05-2a1a34ca9681",
   "metadata": {},
   "outputs": [
    {
     "data": {
      "text/plain": [
       "1.0"
      ]
     },
     "execution_count": 66,
     "metadata": {},
     "output_type": "execute_result"
    }
   ],
   "source": [
    "### 转化整数\n",
    "\n",
    "float(1)"
   ]
  },
  {
   "cell_type": "code",
   "execution_count": 67,
   "id": "f555a962-5dec-40c7-a70e-8c83478aa83d",
   "metadata": {},
   "outputs": [
    {
     "data": {
      "text/plain": [
       "1.0"
      ]
     },
     "execution_count": 67,
     "metadata": {},
     "output_type": "execute_result"
    }
   ],
   "source": [
    "### 转化字符串\n",
    "\n",
    "float('1')"
   ]
  },
  {
   "cell_type": "markdown",
   "id": "8763db1c-815b-4caa-8cf1-8632aeea7281",
   "metadata": {},
   "source": [
    "### **转化为复数：complex**\n",
    "\n",
    "Python提供内置方法：`complex` 可以创建或者把其它类型数据转化为复数，例如："
   ]
  },
  {
   "cell_type": "code",
   "execution_count": 68,
   "id": "052a2e1d-2b97-4de2-8f71-41759722d64a",
   "metadata": {},
   "outputs": [
    {
     "data": {
      "text/plain": [
       "(1+2j)"
      ]
     },
     "execution_count": 68,
     "metadata": {},
     "output_type": "execute_result"
    }
   ],
   "source": [
    "### 创建复数\n",
    "\n",
    "complex(1,2)"
   ]
  },
  {
   "cell_type": "code",
   "execution_count": 69,
   "id": "7cbf1f3e-e427-48c3-9ef9-f507b4ea9cff",
   "metadata": {},
   "outputs": [
    {
     "data": {
      "text/plain": [
       "(1+0j)"
      ]
     },
     "execution_count": 69,
     "metadata": {},
     "output_type": "execute_result"
    }
   ],
   "source": [
    "### 转化整数\n",
    "complex(1)"
   ]
  },
  {
   "cell_type": "code",
   "execution_count": 70,
   "id": "9cc51e5b-216f-4b4c-9558-9c1cdf99bf05",
   "metadata": {},
   "outputs": [
    {
     "data": {
      "text/plain": [
       "(1.1+0j)"
      ]
     },
     "execution_count": 70,
     "metadata": {},
     "output_type": "execute_result"
    }
   ],
   "source": [
    "### 转化小数\n",
    "complex(1.1)"
   ]
  },
  {
   "cell_type": "code",
   "execution_count": 71,
   "id": "c51446c2-e34c-4dc7-bc14-9ac6c60b95c6",
   "metadata": {},
   "outputs": [
    {
     "data": {
      "text/plain": [
       "(1.1+0j)"
      ]
     },
     "execution_count": 71,
     "metadata": {},
     "output_type": "execute_result"
    }
   ],
   "source": [
    "### 转化字符串\n",
    "complex('1.1')"
   ]
  },
  {
   "cell_type": "markdown",
   "id": "0a19a0ab-003c-46c4-a7c2-daaf23fcde97",
   "metadata": {},
   "source": [
    "### **保留小数位数：round**\n",
    "\n",
    "Python提供内置方法：`round` 可以保留一定位数的小数，注意这里不进行四舍五入直接截取，例如："
   ]
  },
  {
   "cell_type": "code",
   "execution_count": 72,
   "id": "98d51de4-27a8-45e6-a8a1-b7681d2df0b6",
   "metadata": {},
   "outputs": [
    {
     "data": {
      "text/plain": [
       "1.2346"
      ]
     },
     "execution_count": 72,
     "metadata": {},
     "output_type": "execute_result"
    }
   ],
   "source": [
    "### 保留4位小数\n",
    "\n",
    "round(1.23456789, 4)"
   ]
  },
  {
   "cell_type": "markdown",
   "id": "b486d492-c90b-415d-8536-703f761354cc",
   "metadata": {},
   "source": [
    "### **科学计数法：e**\n",
    "\n",
    "Python提供：`e` 可以表示科学计数法，例如："
   ]
  },
  {
   "cell_type": "code",
   "execution_count": 84,
   "id": "530519c5-09ae-4b56-8b23-ff65f97c6040",
   "metadata": {},
   "outputs": [
    {
     "data": {
      "text/plain": [
       "100.0"
      ]
     },
     "execution_count": 84,
     "metadata": {},
     "output_type": "execute_result"
    }
   ],
   "source": [
    "1e2"
   ]
  },
  {
   "cell_type": "code",
   "execution_count": 83,
   "id": "befc7f19-f011-4101-a663-5d160d52d8f1",
   "metadata": {},
   "outputs": [
    {
     "data": {
      "text/plain": [
       "0.01"
      ]
     },
     "execution_count": 83,
     "metadata": {},
     "output_type": "execute_result"
    }
   ],
   "source": [
    "1e-2"
   ]
  },
  {
   "cell_type": "markdown",
   "id": "6d176858-f080-4d12-a7fc-af557d455917",
   "metadata": {},
   "source": [
    "### **几种进制的转化**\n",
    "\n",
    "**一般进制类型：**\n",
    "\n",
    "- [x] **十进制 : 逢九进一**\n",
    "- [x] **二进制 : 逢二进一**\n",
    "- [x] **八进制 : 逢七进一**\n",
    "- [x] **十六进制 : 逢十五进一(以 a,b,c,d,e,f 代替 10,11,12,13,14,15)**\n",
    "\n",
    "\n",
    "Python提供内置方法：`int` , `bin`, `oct`, `hex` 可以进行进制之间的转化，例如："
   ]
  },
  {
   "cell_type": "markdown",
   "id": "d7eab301-cff9-4f0c-8345-fb7670b94e31",
   "metadata": {},
   "source": [
    "### **十进制 ==> 二进制：bin**"
   ]
  },
  {
   "cell_type": "code",
   "execution_count": 91,
   "id": "658f3422-bef9-4745-9d31-5b63ef606f35",
   "metadata": {},
   "outputs": [
    {
     "data": {
      "text/plain": [
       "'0b1010'"
      ]
     },
     "execution_count": 91,
     "metadata": {},
     "output_type": "execute_result"
    }
   ],
   "source": [
    "bin(10)"
   ]
  },
  {
   "cell_type": "markdown",
   "id": "efb0a16d-7f2b-4414-a85b-1fe8888b047c",
   "metadata": {},
   "source": [
    "### **十进制 ==> 八进制：oct**"
   ]
  },
  {
   "cell_type": "code",
   "execution_count": 92,
   "id": "9d15f388-5d2c-4115-9555-689c11918b00",
   "metadata": {},
   "outputs": [
    {
     "data": {
      "text/plain": [
       "'0o12'"
      ]
     },
     "execution_count": 92,
     "metadata": {},
     "output_type": "execute_result"
    }
   ],
   "source": [
    "oct(10)"
   ]
  },
  {
   "cell_type": "markdown",
   "id": "2d733ef7-379f-4c55-82e3-f0219243c5e6",
   "metadata": {},
   "source": [
    "### **十进制 ==> 十六进制：hex**"
   ]
  },
  {
   "cell_type": "code",
   "execution_count": 93,
   "id": "7ab5b23b-96be-4a9b-9247-f8a00bfa26ab",
   "metadata": {},
   "outputs": [
    {
     "data": {
      "text/plain": [
       "'0xa'"
      ]
     },
     "execution_count": 93,
     "metadata": {},
     "output_type": "execute_result"
    }
   ],
   "source": [
    "hex(10)"
   ]
  },
  {
   "cell_type": "markdown",
   "id": "a9059cc3-30c8-492f-8164-c774b8b5cd04",
   "metadata": {},
   "source": [
    "### **二进制 ==> 十进制：int**"
   ]
  },
  {
   "cell_type": "code",
   "execution_count": 94,
   "id": "e7f39376-925f-4a88-9553-4013d7166208",
   "metadata": {},
   "outputs": [
    {
     "data": {
      "text/plain": [
       "100"
      ]
     },
     "execution_count": 94,
     "metadata": {},
     "output_type": "execute_result"
    }
   ],
   "source": [
    "int('0b1100100', 2)  # 100"
   ]
  },
  {
   "cell_type": "markdown",
   "id": "bc6d5d43-dcf0-4ddc-acf0-a010cc76b65b",
   "metadata": {},
   "source": [
    "### **八进制 ==> 十进制：int**"
   ]
  },
  {
   "cell_type": "code",
   "execution_count": 95,
   "id": "14dbf081-8bea-47ed-a3f8-fdd3aa488dbe",
   "metadata": {},
   "outputs": [
    {
     "data": {
      "text/plain": [
       "100"
      ]
     },
     "execution_count": 95,
     "metadata": {},
     "output_type": "execute_result"
    }
   ],
   "source": [
    "int('0o144', 8)  # 100"
   ]
  },
  {
   "cell_type": "markdown",
   "id": "4e581ade-90c0-413e-a70e-afafca1c6c8b",
   "metadata": {},
   "source": [
    "### **十六进制 ==> 十进制：int**"
   ]
  },
  {
   "cell_type": "code",
   "execution_count": 96,
   "id": "ff031c0f-0bdd-40ab-a6f2-08ba5effb52f",
   "metadata": {},
   "outputs": [
    {
     "data": {
      "text/plain": [
       "100"
      ]
     },
     "execution_count": 96,
     "metadata": {},
     "output_type": "execute_result"
    }
   ],
   "source": [
    "int('0x64', 16)  # 100"
   ]
  },
  {
   "cell_type": "markdown",
   "id": "d535e870-2403-4f8f-81a3-6b0db6a5b2a6",
   "metadata": {},
   "source": [
    "---"
   ]
  },
  {
   "cell_type": "markdown",
   "id": "f47faa53-0e22-4aef-b62b-6732397a9b12",
   "metadata": {},
   "source": [
    "# **三、字符串 和 bytes**\n",
    "---"
   ]
  },
  {
   "cell_type": "markdown",
   "id": "90bc6457-8e6a-47d9-8803-0dec0866b077",
   "metadata": {},
   "source": [
    "字符串是以单引号 `'` 或双引号 `\"` 括起来的任意文本，比如:"
   ]
  },
  {
   "cell_type": "code",
   "execution_count": 22,
   "id": "8d110917-3aa4-4315-afa8-0d7471b2f70c",
   "metadata": {},
   "outputs": [
    {
     "data": {
      "text/plain": [
       "'1'"
      ]
     },
     "execution_count": 22,
     "metadata": {},
     "output_type": "execute_result"
    }
   ],
   "source": [
    "\"1\""
   ]
  },
  {
   "cell_type": "code",
   "execution_count": 23,
   "id": "5b54f52d-d3ba-4fdc-8b80-dca4fd08d93f",
   "metadata": {},
   "outputs": [
    {
     "data": {
      "text/plain": [
       "'1'"
      ]
     },
     "execution_count": 23,
     "metadata": {},
     "output_type": "execute_result"
    }
   ],
   "source": [
    "'1'"
   ]
  },
  {
   "cell_type": "code",
   "execution_count": 24,
   "id": "f6c15f06-742b-4b2b-9b61-758af86fc28e",
   "metadata": {},
   "outputs": [
    {
     "data": {
      "text/plain": [
       "'hello'"
      ]
     },
     "execution_count": 24,
     "metadata": {},
     "output_type": "execute_result"
    }
   ],
   "source": [
    "'hello'"
   ]
  },
  {
   "cell_type": "markdown",
   "id": "ca8df5f9-797b-465d-887a-a28fa54bb848",
   "metadata": {},
   "source": [
    "**注意: `''`或`\"\"`本身只是一种表示方式，不是字符串的一部分**\n",
    "\n",
    "**因此，字符串'hello'只有hello这个字符。如果'本身也是一个字符，那就可以用\"\"括起来，比如:**"
   ]
  },
  {
   "cell_type": "code",
   "execution_count": 25,
   "id": "ed068749-5fbc-4390-9e47-a82ac7f491da",
   "metadata": {},
   "outputs": [
    {
     "data": {
      "text/plain": [
       "\"I'm OK\""
      ]
     },
     "execution_count": 25,
     "metadata": {},
     "output_type": "execute_result"
    }
   ],
   "source": [
    "\"I'm OK\""
   ]
  },
  {
   "cell_type": "markdown",
   "id": "9c032569-35c4-426d-9733-783f4c36b538",
   "metadata": {},
   "source": [
    "**如果字符串内部既包含 `'` 又包含 `\"` 怎么办呢？我们可以用转义字符 `\\` 来标识，比如：**"
   ]
  },
  {
   "cell_type": "code",
   "execution_count": 28,
   "id": "5b780f12-07de-4627-8f94-51d3488a4323",
   "metadata": {},
   "outputs": [
    {
     "data": {
      "text/plain": [
       "'I\\'m \"ironman\"!'"
      ]
     },
     "execution_count": 28,
     "metadata": {},
     "output_type": "execute_result"
    }
   ],
   "source": [
    "'I\\'m \\\"ironman\\\"!'"
   ]
  },
  {
   "cell_type": "code",
   "execution_count": 29,
   "id": "867c2903-dd35-4ccb-8547-36d120813841",
   "metadata": {},
   "outputs": [
    {
     "name": "stdout",
     "output_type": "stream",
     "text": [
      "I'm \"ironman\"!\n"
     ]
    }
   ],
   "source": [
    "print('I\\'m \\\"ironman\\\"!')"
   ]
  },
  {
   "cell_type": "markdown",
   "id": "0563cf25-9313-43fe-8477-59eca83e8d72",
   "metadata": {},
   "source": [
    "**如果字符串内部有很多换行，用 `\\n` 写在一行里不好看，为了简化，Python允许用 `'''...'''` 或者 `\"\"\"...\"\"\"` 的格式表示多行内容，比如:**"
   ]
  },
  {
   "cell_type": "code",
   "execution_count": 31,
   "id": "5c32e718-a588-456a-a5bd-486a68f1a6a5",
   "metadata": {},
   "outputs": [
    {
     "data": {
      "text/plain": [
       "'1\\n2\\n3\\n4'"
      ]
     },
     "execution_count": 31,
     "metadata": {},
     "output_type": "execute_result"
    }
   ],
   "source": [
    "'''1\n",
    "2\n",
    "3\n",
    "4'''"
   ]
  },
  {
   "cell_type": "code",
   "execution_count": 32,
   "id": "90877c7c-9059-45ba-8b1e-e57bab8aabc8",
   "metadata": {},
   "outputs": [
    {
     "data": {
      "text/plain": [
       "'1\\n2\\n3\\n4'"
      ]
     },
     "execution_count": 32,
     "metadata": {},
     "output_type": "execute_result"
    }
   ],
   "source": [
    "\"\"\"1\n",
    "2\n",
    "3\n",
    "4\"\"\""
   ]
  },
  {
   "cell_type": "markdown",
   "id": "9ed9e931-fb4c-41ca-810d-f1ac00a2a6be",
   "metadata": {},
   "source": [
    "## **字符编码：bytes**\n",
    "\n",
    "因为计算机只能处理数字，本质上要处理字符串，文本之类的数据类型，就必须先转换为数字才能处理。最早的计算机在设计时采用8个比特（bit）作为一个字节（byte），所以，一个字节能表示的最大的整数就是255（二进制11111111=十进制255），如果要表示更大的整数，就必须用更多的字节。比如两个字节可以表示的最大整数是65535，4个字节可以表示的最大整数是4294967295。\n",
    "\n",
    "由于计算机是美国人发明的，因此，最早只有127个字符被编码到计算机里，也就是大小写英文字母、数字和一些符号，这个编码表被称为ASCII编码，比如大写字母A的编码是65，小写字母z的编码是122。\n",
    "\n",
    "但是要处理中文显然一个字节是不够的，至少需要两个字节，而且还不能和ASCII编码冲突，所以，中国制定了GB2312编码，用来把中文编进去。\n",
    "\n",
    "你可以想得到的是，全世界有上百种语言，日本把日文编到Shift_JIS里，韩国把韩文编到Euc-kr里，各国有各国的标准，就会不可避免地出现冲突，结果就是，在多语言混合的文本中，显示出来会有乱码。\n",
    "\n",
    "因此，Unicode字符集应运而生。Unicode把所有语言都统一到一套编码里，这样就不会再有乱码问题了。\n",
    "\n",
    "**Python最常用的就是：utf-8编码，这里不做拓展，后面文件处理会说明。**\n",
    "\n",
    "**对于单个字符的编码，Python提供了`ord()`函数获取字符的整数表示，`chr()`函数把编码转换为对应的字符：**"
   ]
  },
  {
   "cell_type": "markdown",
   "id": "29fcc0ae-5016-4310-9499-fc5aa6332a7d",
   "metadata": {},
   "source": [
    "### **单个字符字节编码**"
   ]
  },
  {
   "cell_type": "code",
   "execution_count": 97,
   "id": "36ddfd1b-3242-4f00-95ca-631d6f943ab9",
   "metadata": {},
   "outputs": [
    {
     "data": {
      "text/plain": [
       "b'1'"
      ]
     },
     "execution_count": 97,
     "metadata": {},
     "output_type": "execute_result"
    }
   ],
   "source": [
    "### b'1' 表示bytes\n",
    "\n",
    "b'1'"
   ]
  },
  {
   "cell_type": "code",
   "execution_count": 106,
   "id": "ba5f18c9-d6ee-474c-9458-dfd13eb14b35",
   "metadata": {},
   "outputs": [
    {
     "data": {
      "text/plain": [
       "97"
      ]
     },
     "execution_count": 106,
     "metadata": {},
     "output_type": "execute_result"
    }
   ],
   "source": [
    "ord('a')"
   ]
  },
  {
   "cell_type": "code",
   "execution_count": 35,
   "id": "7e7c0cc7-5785-480d-b1bc-671cde3d6f58",
   "metadata": {},
   "outputs": [
    {
     "data": {
      "text/plain": [
       "20013"
      ]
     },
     "execution_count": 35,
     "metadata": {},
     "output_type": "execute_result"
    }
   ],
   "source": [
    "ord('中')"
   ]
  },
  {
   "cell_type": "code",
   "execution_count": 38,
   "id": "b3ddfbc9-7bc2-482c-91b1-ab197bbcc0ad",
   "metadata": {},
   "outputs": [
    {
     "data": {
      "text/plain": [
       "'b'"
      ]
     },
     "execution_count": 38,
     "metadata": {},
     "output_type": "execute_result"
    }
   ],
   "source": [
    "chr(98)"
   ]
  },
  {
   "cell_type": "code",
   "execution_count": 37,
   "id": "8a13ba27-e3c1-43c0-89bf-e66d0aac4cbb",
   "metadata": {},
   "outputs": [
    {
     "data": {
      "text/plain": [
       "'丫'"
      ]
     },
     "execution_count": 37,
     "metadata": {},
     "output_type": "execute_result"
    }
   ],
   "source": [
    "chr(20011)"
   ]
  },
  {
   "cell_type": "markdown",
   "id": "f5acaa66-4dfa-4de9-87ab-5cc960cc8334",
   "metadata": {},
   "source": [
    "由于Python的字符串类型是`str`，在内存中以Unicode表示，一个字符对应若干个字节。如果要在网络上传输，或者保存到磁盘上，就需要把`str`变为以字节为单位的`bytes`。\n",
    "\n",
    "Python对`bytes`类型的数据用带`b`前缀的单引号或双引号表示："
   ]
  },
  {
   "cell_type": "code",
   "execution_count": 40,
   "id": "4268702a-06a6-4603-ab9a-5b5e6aad18cc",
   "metadata": {},
   "outputs": [
    {
     "data": {
      "text/plain": [
       "b'abc'"
      ]
     },
     "execution_count": 40,
     "metadata": {},
     "output_type": "execute_result"
    }
   ],
   "source": [
    "b'abc'"
   ]
  },
  {
   "cell_type": "markdown",
   "id": "e1b0ce18-25e4-4241-8e03-8f9b3db6b956",
   "metadata": {},
   "source": [
    "**需要注意的是：`'abc'` 表示字符串abc  `b'abc'` 表示 bytes**"
   ]
  },
  {
   "cell_type": "markdown",
   "id": "79b251ca-1198-4cd1-995e-fb5b16e7e3c8",
   "metadata": {},
   "source": [
    "**Python提供了：encode 和 decode 来进行 str 到 bytes 的转换**"
   ]
  },
  {
   "cell_type": "markdown",
   "id": "697a1da5-7578-4e00-8313-ce115a05bf4b",
   "metadata": {},
   "source": [
    "### **多个字符字节编码**"
   ]
  },
  {
   "cell_type": "markdown",
   "id": "c0c1624c-106e-4897-aeb9-523e4f78d7c6",
   "metadata": {},
   "source": [
    "### **str ==> bytes**"
   ]
  },
  {
   "cell_type": "code",
   "execution_count": 41,
   "id": "ec9f24a3-22cb-4399-b8ab-dc8ee8eb8ada",
   "metadata": {},
   "outputs": [
    {
     "data": {
      "text/plain": [
       "b'\\xe4\\xb8\\xad\\xe6\\x96\\x87'"
      ]
     },
     "execution_count": 41,
     "metadata": {},
     "output_type": "execute_result"
    }
   ],
   "source": [
    "'中文'.encode('utf-8')"
   ]
  },
  {
   "cell_type": "markdown",
   "id": "c506b683-51a1-4791-99ca-33487920fae2",
   "metadata": {},
   "source": [
    "### **bytes ==> str**"
   ]
  },
  {
   "cell_type": "code",
   "execution_count": 42,
   "id": "c202706d-5a97-4832-9d5e-2d4755e37c58",
   "metadata": {},
   "outputs": [
    {
     "data": {
      "text/plain": [
       "'中文'"
      ]
     },
     "execution_count": 42,
     "metadata": {},
     "output_type": "execute_result"
    }
   ],
   "source": [
    "b'\\xe4\\xb8\\xad\\xe6\\x96\\x87'.decode('utf-8')"
   ]
  },
  {
   "cell_type": "markdown",
   "id": "59205a2c-bfdb-4823-a085-5fda38210f19",
   "metadata": {},
   "source": [
    "### **内置方法：bytes 可以转化为字节编码**"
   ]
  },
  {
   "cell_type": "code",
   "execution_count": 103,
   "id": "4ddd06a8-aaac-417d-b9cb-13e50702f212",
   "metadata": {},
   "outputs": [
    {
     "data": {
      "text/plain": [
       "b'\\x00\\x00\\x00\\x00\\x00\\x00\\x00\\x00\\x00\\x00'"
      ]
     },
     "execution_count": 103,
     "metadata": {},
     "output_type": "execute_result"
    }
   ],
   "source": [
    "### 转化整数\n",
    "\n",
    "bytes(10)"
   ]
  },
  {
   "cell_type": "code",
   "execution_count": 104,
   "id": "8967b935-9c96-4625-a7a8-61b6c5f9449a",
   "metadata": {},
   "outputs": [
    {
     "data": {
      "text/plain": [
       "b'98'"
      ]
     },
     "execution_count": 104,
     "metadata": {},
     "output_type": "execute_result"
    }
   ],
   "source": [
    "b'98'"
   ]
  },
  {
   "cell_type": "markdown",
   "id": "e4888b4d-5b72-4a05-9cb1-f7ed4252b9b6",
   "metadata": {},
   "source": [
    "## **字符串的内置方法**"
   ]
  },
  {
   "cell_type": "markdown",
   "id": "65521258-d63d-42f3-ae6a-17a080561802",
   "metadata": {},
   "source": [
    "### **转化字符串：str**\n",
    "\n",
    "Python提供一个内置方法：`str` 可以将其他类型数据转化为字符串，例如："
   ]
  },
  {
   "cell_type": "code",
   "execution_count": 46,
   "id": "edc7bb22-5ed9-4d71-a4c9-67903bd27abe",
   "metadata": {},
   "outputs": [
    {
     "data": {
      "text/plain": [
       "'123'"
      ]
     },
     "execution_count": 46,
     "metadata": {},
     "output_type": "execute_result"
    }
   ],
   "source": [
    "### 转化字符串为字符串\n",
    "\n",
    "str('123')"
   ]
  },
  {
   "cell_type": "code",
   "execution_count": 47,
   "id": "f1d9e9e8-a70f-437a-af2d-c6e01fac47d1",
   "metadata": {},
   "outputs": [
    {
     "data": {
      "text/plain": [
       "'123'"
      ]
     },
     "execution_count": 47,
     "metadata": {},
     "output_type": "execute_result"
    }
   ],
   "source": [
    "### 转化数字为字符串\n",
    "\n",
    "str(123)"
   ]
  },
  {
   "cell_type": "code",
   "execution_count": 49,
   "id": "3d65c0e5-ea97-4499-ae5d-668b808e181c",
   "metadata": {},
   "outputs": [
    {
     "data": {
      "text/plain": [
       "'1.2'"
      ]
     },
     "execution_count": 49,
     "metadata": {},
     "output_type": "execute_result"
    }
   ],
   "source": [
    "### 转化小数为字符串\n",
    "\n",
    "str(1.2)"
   ]
  },
  {
   "cell_type": "code",
   "execution_count": 50,
   "id": "b1d95531-d14f-45e4-b43a-59acc34d4ab2",
   "metadata": {},
   "outputs": [
    {
     "data": {
      "text/plain": [
       "'[1, 2, 3]'"
      ]
     },
     "execution_count": 50,
     "metadata": {},
     "output_type": "execute_result"
    }
   ],
   "source": [
    "### 转化列表\n",
    "\n",
    "str([1,2,3])"
   ]
  },
  {
   "cell_type": "code",
   "execution_count": 51,
   "id": "4178c81c-2fb3-4681-85de-baf83f01a564",
   "metadata": {},
   "outputs": [
    {
     "data": {
      "text/plain": [
       "\"{'a': 123}\""
      ]
     },
     "execution_count": 51,
     "metadata": {},
     "output_type": "execute_result"
    }
   ],
   "source": [
    "### 转化字典\n",
    "\n",
    "str({\"a\":123})"
   ]
  },
  {
   "cell_type": "code",
   "execution_count": 52,
   "id": "1865b64e-1780-44f9-b196-5c590a1e7a22",
   "metadata": {},
   "outputs": [
    {
     "data": {
      "text/plain": [
       "\"b'123'\""
      ]
     },
     "execution_count": 52,
     "metadata": {},
     "output_type": "execute_result"
    }
   ],
   "source": [
    "### 转化bytes\n",
    "\n",
    "str(b'123')"
   ]
  },
  {
   "cell_type": "markdown",
   "id": "1e6f8cf2-5a53-478e-a409-1bbf05cd6b6d",
   "metadata": {},
   "source": [
    "### **获取字符串长度：len**"
   ]
  },
  {
   "cell_type": "code",
   "execution_count": 43,
   "id": "bcb42039-bac2-4e89-90f9-1f4ddff11157",
   "metadata": {},
   "outputs": [
    {
     "data": {
      "text/plain": [
       "17"
      ]
     },
     "execution_count": 43,
     "metadata": {},
     "output_type": "execute_result"
    }
   ],
   "source": [
    "a = 'abcdfefflsfjsdjsf'\n",
    "len(a)"
   ]
  },
  {
   "cell_type": "markdown",
   "id": "d560148f-9df9-4f7a-831e-499ad6486e8c",
   "metadata": {},
   "source": [
    "### **字符串索引和切片**\n",
    "\n",
    "Python的字符串可以直接进行切片截取的，通过中括号`[start:end]`进行截取，例如:\n",
    "\n",
    "**需要注意的是Python的下标都是从0开始表示第一个位置，且`[start:end]`表示左包右开**\n",
    "\n",
    "**并且Python下标支持负数表示反向取值，-1表示最后一个**"
   ]
  },
  {
   "cell_type": "code",
   "execution_count": 109,
   "id": "347e50b9-07fc-4c2c-a00d-24ebceab0d55",
   "metadata": {},
   "outputs": [
    {
     "data": {
      "text/plain": [
       "'b'"
      ]
     },
     "execution_count": 109,
     "metadata": {},
     "output_type": "execute_result"
    }
   ],
   "source": [
    "### 取其中一个字符\n",
    "\n",
    "a = 'abcdfefflsfjsdjsf'\n",
    "a[1]"
   ]
  },
  {
   "cell_type": "code",
   "execution_count": 120,
   "id": "3bd9b0f3-82a5-4578-8a66-eb5548767618",
   "metadata": {},
   "outputs": [
    {
     "data": {
      "text/plain": [
       "'f'"
      ]
     },
     "execution_count": 120,
     "metadata": {},
     "output_type": "execute_result"
    }
   ],
   "source": [
    "### 取最后一个字符\n",
    "\n",
    "a[-1]"
   ]
  },
  {
   "cell_type": "code",
   "execution_count": 110,
   "id": "3364252b-435c-4fd9-8c17-236560b783d9",
   "metadata": {},
   "outputs": [
    {
     "data": {
      "text/plain": [
       "'bcdf'"
      ]
     },
     "execution_count": 110,
     "metadata": {},
     "output_type": "execute_result"
    }
   ],
   "source": [
    "### 取多个任意位置字符\n",
    "\n",
    "a[1:5]"
   ]
  },
  {
   "cell_type": "code",
   "execution_count": 121,
   "id": "e4521405-5a70-4f47-a81f-e514b7c807d9",
   "metadata": {},
   "outputs": [
    {
     "data": {
      "text/plain": [
       "'sdjs'"
      ]
     },
     "execution_count": 121,
     "metadata": {},
     "output_type": "execute_result"
    }
   ],
   "source": [
    "a[-5:-1]"
   ]
  },
  {
   "cell_type": "code",
   "execution_count": 112,
   "id": "d183e1bf-b2cf-43a9-af09-7c04ea1cfbbc",
   "metadata": {},
   "outputs": [
    {
     "data": {
      "text/plain": [
       "'bcdfefflsfjsdjsf'"
      ]
     },
     "execution_count": 112,
     "metadata": {},
     "output_type": "execute_result"
    }
   ],
   "source": [
    "### 可以省略 end\n",
    "\n",
    "a[1:]"
   ]
  },
  {
   "cell_type": "code",
   "execution_count": 113,
   "id": "611644c0-494a-4fe1-9a79-c4398adb2f41",
   "metadata": {},
   "outputs": [
    {
     "data": {
      "text/plain": [
       "'abcdf'"
      ]
     },
     "execution_count": 113,
     "metadata": {},
     "output_type": "execute_result"
    }
   ],
   "source": [
    "### 可以省略 start\n",
    "\n",
    "a[:5]"
   ]
  },
  {
   "cell_type": "code",
   "execution_count": 117,
   "id": "7bff5489-d354-4909-b26b-6df9d0de317a",
   "metadata": {},
   "outputs": [
    {
     "data": {
      "text/plain": [
       "'bcdfeffls'"
      ]
     },
     "execution_count": 117,
     "metadata": {},
     "output_type": "execute_result"
    }
   ],
   "source": [
    "### 间隔截取\n",
    "\n",
    "a[1:10:1]"
   ]
  },
  {
   "cell_type": "code",
   "execution_count": 118,
   "id": "cbbb9987-7120-46dd-b660-f678e100e854",
   "metadata": {},
   "outputs": [
    {
     "data": {
      "text/plain": [
       "'bdefs'"
      ]
     },
     "execution_count": 118,
     "metadata": {},
     "output_type": "execute_result"
    }
   ],
   "source": [
    "a[1:10:2]"
   ]
  },
  {
   "cell_type": "code",
   "execution_count": 126,
   "id": "0a776323-0a5f-4496-a3a2-267fce10c8eb",
   "metadata": {},
   "outputs": [
    {
     "data": {
      "text/plain": [
       "'sdjs'"
      ]
     },
     "execution_count": 126,
     "metadata": {},
     "output_type": "execute_result"
    }
   ],
   "source": [
    "### 反向取值\n",
    "\n",
    "a[-5:-1]"
   ]
  },
  {
   "cell_type": "code",
   "execution_count": 127,
   "id": "44d611fb-cb81-4770-af52-d73a164d959b",
   "metadata": {},
   "outputs": [
    {
     "data": {
      "text/plain": [
       "'fsjds'"
      ]
     },
     "execution_count": 127,
     "metadata": {},
     "output_type": "execute_result"
    }
   ],
   "source": [
    "a[-10:-1:2]"
   ]
  },
  {
   "cell_type": "code",
   "execution_count": 129,
   "id": "178d1178-a1ac-4d33-97a0-6f4ff51ef4db",
   "metadata": {},
   "outputs": [
    {
     "data": {
      "text/plain": [
       "'f'"
      ]
     },
     "execution_count": 129,
     "metadata": {},
     "output_type": "execute_result"
    }
   ],
   "source": [
    "a[-1:]"
   ]
  },
  {
   "cell_type": "markdown",
   "id": "1d4fa54e-0bb1-4d68-b638-20734f97caaf",
   "metadata": {},
   "source": [
    "**已经定义的字符串值不可以更新某一个值，除非重新定义字符串**"
   ]
  },
  {
   "cell_type": "code",
   "execution_count": 7,
   "id": "4458919e-63a1-44ea-8f8d-3e9a8bb3c6ff",
   "metadata": {},
   "outputs": [
    {
     "ename": "TypeError",
     "evalue": "'str' object does not support item assignment",
     "output_type": "error",
     "traceback": [
      "\u001b[1;31m---------------------------------------------------------------------------\u001b[0m",
      "\u001b[1;31mTypeError\u001b[0m                                 Traceback (most recent call last)",
      "\u001b[1;32m~\\AppData\\Local\\Temp/ipykernel_19444/782786847.py\u001b[0m in \u001b[0;36m<module>\u001b[1;34m\u001b[0m\n\u001b[0;32m      1\u001b[0m \u001b[0ma\u001b[0m \u001b[1;33m=\u001b[0m \u001b[1;34m'123'\u001b[0m\u001b[1;33m\u001b[0m\u001b[1;33m\u001b[0m\u001b[0m\n\u001b[1;32m----> 2\u001b[1;33m \u001b[0ma\u001b[0m\u001b[1;33m[\u001b[0m\u001b[1;36m1\u001b[0m\u001b[1;33m]\u001b[0m \u001b[1;33m=\u001b[0m \u001b[1;36m4\u001b[0m\u001b[1;33m\u001b[0m\u001b[1;33m\u001b[0m\u001b[0m\n\u001b[0m",
      "\u001b[1;31mTypeError\u001b[0m: 'str' object does not support item assignment"
     ]
    }
   ],
   "source": [
    "a = '123'\n",
    "a[1] = 4"
   ]
  },
  {
   "cell_type": "code",
   "execution_count": 8,
   "id": "8c39d1ae-9c85-457d-a6ab-0059363b2179",
   "metadata": {},
   "outputs": [
    {
     "data": {
      "text/plain": [
       "'143'"
      ]
     },
     "execution_count": 8,
     "metadata": {},
     "output_type": "execute_result"
    }
   ],
   "source": [
    "a = '123'\n",
    "a = '143'\n",
    "a"
   ]
  },
  {
   "cell_type": "markdown",
   "id": "959dda67-7523-4352-b16d-eb527d5f3727",
   "metadata": {},
   "source": [
    "### **字符串拼接**\n",
    "\n",
    "Python的字符串可以通过 `+` 或者 `join` 进行拼接，例如:"
   ]
  },
  {
   "cell_type": "code",
   "execution_count": 167,
   "id": "97fb50ba-8c8f-4e4e-ace5-ee067ef29c1c",
   "metadata": {},
   "outputs": [
    {
     "data": {
      "text/plain": [
       "'hello world'"
      ]
     },
     "execution_count": 167,
     "metadata": {},
     "output_type": "execute_result"
    }
   ],
   "source": [
    "'hello ' + 'world'"
   ]
  },
  {
   "cell_type": "code",
   "execution_count": 169,
   "id": "66d40529-ef18-45fc-adc3-c0366d1b6456",
   "metadata": {},
   "outputs": [
    {
     "data": {
      "text/plain": [
       "'hello world'"
      ]
     },
     "execution_count": 169,
     "metadata": {},
     "output_type": "execute_result"
    }
   ],
   "source": [
    "' '.join(['hello','world'])"
   ]
  },
  {
   "cell_type": "markdown",
   "id": "40cf5132-ca7e-4536-a5d2-50bb93bb3e31",
   "metadata": {},
   "source": [
    "## **格式化字符串**\n",
    "\n",
    "如果字符串的内容是变化的，那我们就需要格式化字符串\n",
    "\n",
    "在Python中，采用的格式化方式和C语言是一致的，用`%`实现，如下："
   ]
  },
  {
   "cell_type": "code",
   "execution_count": 44,
   "id": "beff200d-a9ce-45fa-bb1d-94d98199aa33",
   "metadata": {},
   "outputs": [
    {
     "data": {
      "text/plain": [
       "'Hello, world'"
      ]
     },
     "execution_count": 44,
     "metadata": {},
     "output_type": "execute_result"
    }
   ],
   "source": [
    "'Hello, %s' % 'world'"
   ]
  },
  {
   "cell_type": "markdown",
   "id": "d610d125-2789-4f38-8ff6-4fe7219c9ee3",
   "metadata": {},
   "source": [
    "多个字符串格式化需要用 `()` 表示，如下："
   ]
  },
  {
   "cell_type": "code",
   "execution_count": 45,
   "id": "971444b7-6292-4a8b-b0b1-ed20086edcf6",
   "metadata": {},
   "outputs": [
    {
     "data": {
      "text/plain": [
       "'Hello, world, 2022'"
      ]
     },
     "execution_count": 45,
     "metadata": {},
     "output_type": "execute_result"
    }
   ],
   "source": [
    "'Hello, %s, %d' % ('world', 2022)"
   ]
  },
  {
   "cell_type": "markdown",
   "id": "d8199098-e76a-4613-a0a7-a973bd1d9a1f",
   "metadata": {},
   "source": [
    "`%`运算符就是用来格式化字符串的。在字符串内部，`%s`表示用字符串替换，`%d`表示用整数替换，有几个`%?`占位符，后面就跟几个变量或者值，顺序要对应好。如果只有一个%?，括号可以省略。\n",
    "\n",
    "常见的占位符有：\n",
    "\n",
    "|占位符|替换内容|\n",
    "|---|---|\n",
    "|%d|整数|\n",
    "|%f|浮点数|\n",
    "|%s|字符串|\n",
    "|%x|十六进制整数|"
   ]
  },
  {
   "cell_type": "markdown",
   "id": "058ea146-6fb6-46ec-902b-98635ec2d075",
   "metadata": {},
   "source": [
    "## **format格式化字符串**"
   ]
  },
  {
   "cell_type": "markdown",
   "id": "b10e3726-089f-46db-b51d-1983114fe3b2",
   "metadata": {},
   "source": [
    "和`%`类似，另一种格式化字符串的方法是使用字符串的format()方法，它会用传入的参数依次替换字符串内的占位符{0}、{1}……，例如："
   ]
  },
  {
   "cell_type": "code",
   "execution_count": 130,
   "id": "84e57892-a0df-483f-9b63-32ccef1c841b",
   "metadata": {},
   "outputs": [
    {
     "data": {
      "text/plain": [
       "'hello world,2022'"
      ]
     },
     "execution_count": 130,
     "metadata": {},
     "output_type": "execute_result"
    }
   ],
   "source": [
    "'hello {0},{1}'.format('world',2022)"
   ]
  },
  {
   "cell_type": "markdown",
   "id": "fb75baaa-77de-4b97-b194-8e13decf6595",
   "metadata": {},
   "source": [
    "### **保留小数：{:.2f}**"
   ]
  },
  {
   "cell_type": "code",
   "execution_count": 131,
   "id": "49de0f79-75ed-4d1f-be60-ef976f47e83a",
   "metadata": {},
   "outputs": [
    {
     "data": {
      "text/plain": [
       "'hello world, 2022.00'"
      ]
     },
     "execution_count": 131,
     "metadata": {},
     "output_type": "execute_result"
    }
   ],
   "source": [
    "'hello world, {0:.2f}'.format(2022)"
   ]
  },
  {
   "cell_type": "code",
   "execution_count": 132,
   "id": "b98ee85f-8c12-4fb2-a909-11e03ebc50b2",
   "metadata": {},
   "outputs": [
    {
     "data": {
      "text/plain": [
       "'hello world, 2022.12346'"
      ]
     },
     "execution_count": 132,
     "metadata": {},
     "output_type": "execute_result"
    }
   ],
   "source": [
    "'hello world, {0:.5f}'.format(2022.123456789)"
   ]
  },
  {
   "cell_type": "markdown",
   "id": "e33b6133-49f3-448a-af2d-dd152c6562a6",
   "metadata": {},
   "source": [
    "## **新用法：f-string格式化（推荐使用，很有逼格）**"
   ]
  },
  {
   "cell_type": "markdown",
   "id": "c021cd98-64fa-46e1-ad17-be23560240d0",
   "metadata": {},
   "source": [
    "最后一种格式化字符串的方法是使用以f开头的字符串，称之为f-string，它和普通字符串不同之处在于，字符串如果包含{xxx}，就会以对应的变量替换："
   ]
  },
  {
   "cell_type": "code",
   "execution_count": 133,
   "id": "6fb95740-b59e-4b08-a315-edbdb6225109",
   "metadata": {},
   "outputs": [
    {
     "data": {
      "text/plain": [
       "'hello world'"
      ]
     },
     "execution_count": 133,
     "metadata": {},
     "output_type": "execute_result"
    }
   ],
   "source": [
    "f\"hello {'world'}\""
   ]
  },
  {
   "cell_type": "code",
   "execution_count": 134,
   "id": "e74cbae8-15f2-4ddf-82a1-b79daaff2cdb",
   "metadata": {},
   "outputs": [
    {
     "data": {
      "text/plain": [
       "'hello world,2022'"
      ]
     },
     "execution_count": 134,
     "metadata": {},
     "output_type": "execute_result"
    }
   ],
   "source": [
    "a = 'world'\n",
    "b = 2022\n",
    "f\"hello {a},{b}\""
   ]
  },
  {
   "cell_type": "code",
   "execution_count": 135,
   "id": "bfe01ca7-801f-40eb-b44f-e0dd6562e02e",
   "metadata": {},
   "outputs": [
    {
     "data": {
      "text/plain": [
       "'hello world, 2022.12346'"
      ]
     },
     "execution_count": 135,
     "metadata": {},
     "output_type": "execute_result"
    }
   ],
   "source": [
    "a = 2022.123456789\n",
    "f'hello world, {a:.5f}'"
   ]
  },
  {
   "cell_type": "markdown",
   "id": "7dd7f8d7-0f96-401a-831d-75c28a5daee9",
   "metadata": {},
   "source": [
    "### **高级字符串内置方法**\n",
    "\n",
    "- 数学运算(7个)\n",
    "- 类型转换(24个)\n",
    "- 序列操作(8个)\n",
    "- 对象操作(7个)\n",
    "- 反射操作(8个)\n",
    "- 变量操作(2个)\n",
    "- 交互操作(2个)\n",
    "- 文件操作(1个)\n",
    "- 编译执行(4个)\n",
    "- 装饰器(3个)\n",
    "\n",
    "\n",
    "| 函数 | 说明 |\n",
    "| -----| ----|\n",
    "| .upper() | 全部大写 |\n",
    "| .lower() | 全部小写 |\n",
    "| .swapcase() | 大小写互换 |\n",
    "| .capitalize() | 首字母大写，其余小写 |\n",
    "| .title() | 首字母大写 |\n",
    "| .ljust(width) | 获取固定长度，左对齐，右边不够用空格补齐 |\n",
    "| .rjust(width) | 获取固定长度，右对齐，左边不够用空格补齐 |\n",
    "| .center(width) | 获取固定长度，中间对齐，两边不够用空格补齐 |\n",
    "| .zfill(width) | 获取固定长度，右对齐，左边不足用0补齐 |\n",
    "| .find() | 搜索指定字符串，没有返回-1 |\n",
    "| .index() | 同上，但是找不到会报错 |\n",
    "| .rfind() | 从右边开始查找 |\n",
    "| .count() | 统计指定的字符串出现的次数 |\n",
    "| .replace('','') | 替换old为new |\n",
    "| .strip() | 去两边空格 |\n",
    "| .lstrip() | 去左边空格 |\n",
    "| .rstrip() | 去右边空格 |\n",
    "| .split() | 按指定字符分割字符串为数组 |\n",
    "| .startswith('start') | 是否以start开头 |\n",
    "| .endswith('end') | 是否以end结尾 |\n",
    "| .isalnum() | 是否全为字母或数字 |\n",
    "| .isalpha() | 是否全字母 |\n",
    "| .isdigit() | 是否全数字 |\n",
    "| .islower() | 是否全小写 |\n",
    "| .isupper() | 是否全大写 |\n",
    "| .istitle() | 判断首字母是否为大写 |\n",
    "| .isspace() | 判断字符是否为空格 |\n",
    "| bin() | 十进制数转八进制 |\n",
    "| hex() | 十进制数转十六进制 |\n",
    "| range() | 函数：可以生成一个整数序列 |\n",
    "| type() | 查看数据类型 |\n",
    "| len() | 计算字符串长度 |\n",
    "| '{}'.format | 格式化字符串，类似%s，传递值能多不能少 |\n",
    "| f'{}' | 格式化字符串 |"
   ]
  },
  {
   "cell_type": "markdown",
   "id": "d55445fb-70f6-4242-9d07-8e79e49f1daf",
   "metadata": {},
   "source": [
    "### **Example**"
   ]
  },
  {
   "cell_type": "code",
   "execution_count": 151,
   "id": "eb447e6b-f531-468e-9b77-a9fa94b38a67",
   "metadata": {},
   "outputs": [
    {
     "name": "stdout",
     "output_type": "stream",
     "text": [
      "HELLO\n",
      "hello\n",
      "HELlo\n",
      "Hello\n",
      "Hello\n"
     ]
    }
   ],
   "source": [
    "a='helLO'\n",
    "\n",
    "print(a.upper())    # 全部大写\n",
    "print(a.lower())    # 全部小写\n",
    "print(a.swapcase()) # 大小写互换\n",
    "print(a.capitalize())   # 首字母大写，其余小写\n",
    "print(a.title())    # 首字母大写"
   ]
  },
  {
   "cell_type": "code",
   "execution_count": 152,
   "id": "2bae6556-0f57-41a1-adc9-92303d5ef893",
   "metadata": {},
   "outputs": [
    {
     "name": "stdout",
     "output_type": "stream",
     "text": [
      "1 2       \n",
      "       1 2\n",
      "   1 2    \n",
      "00000001 2\n"
     ]
    }
   ],
   "source": [
    "a='1 2'\n",
    "print(a.ljust(10))  # 获取固定长度，左对齐，右边不够用空格补齐\n",
    "print(a.rjust(10))  # 获取固定长度，右对齐，左边不够用空格补齐\n",
    "print(a.center(10)) # 获取固定长度，中间对齐，两边不够用空格补齐\n",
    "print(a.zfill(10))  # 获取固定长度，右对齐，左边不足用0补齐\n"
   ]
  },
  {
   "cell_type": "code",
   "execution_count": 154,
   "id": "a861d63d-caf3-4be5-a11a-8605227cf07f",
   "metadata": {},
   "outputs": [
    {
     "name": "stdout",
     "output_type": "stream",
     "text": [
      "1\n",
      "-1\n",
      "6\n",
      "2\n",
      "9\n"
     ]
    }
   ],
   "source": [
    "s='hello world'\n",
    "print(s.find('e'))  # 搜索指定字符串,没有返回-1\n",
    "print(s.find('w',1,2))  # 顾头不顾尾，找不到则返回-1不会报错，找到了则显示索引\n",
    "print(s.index('w')) # 同上，但是找不到会报错\n",
    "print(s.count('o')) # 统计指定的字符串出现的次数\n",
    "print(s.rfind('l')) # 从右边开始查找"
   ]
  },
  {
   "cell_type": "code",
   "execution_count": 157,
   "id": "6474f4f8-26da-4734-8e49-6a41e4607b5e",
   "metadata": {},
   "outputs": [
    {
     "name": "stdout",
     "output_type": "stream",
     "text": [
      "hello python\n",
      "heppo world\n",
      "heppo worpd\n"
     ]
    }
   ],
   "source": [
    "\"\"\"\n",
    "# 字符串替换\n",
    "\n",
    ".replace('old','new')    # 替换old为new\n",
    ".replace('old','new',次数)    # 替换指定次数的old为new\n",
    "\"\"\"\n",
    "\n",
    "s='hello world'\n",
    "print(s.replace('world','python'))\n",
    "print(s.replace('l','p',2))\n",
    "print(s.replace('l','p',5))\n"
   ]
  },
  {
   "cell_type": "code",
   "execution_count": 158,
   "id": "8473bbae-e1f2-496b-a10a-43cb3676d8df",
   "metadata": {},
   "outputs": [
    {
     "name": "stdout",
     "output_type": "stream",
     "text": [
      "   h e-l lo   \n",
      "h e-l lo\n",
      "h e-l lo   \n",
      "   h e-l lo\n",
      "['   h e', 'l lo   ']\n",
      "['h', 'e-l', 'lo']\n"
     ]
    }
   ],
   "source": [
    "\"\"\"\n",
    "# 字符串去空格及去指定字符\n",
    "\n",
    ".strip()    # 去两边空格\n",
    ".lstrip()    # 去左边空格\n",
    ".rstrip()    # 去右边空格\n",
    "\n",
    ".split()    # 默认按空格分隔\n",
    ".split('指定字符')    # 按指定字符分割字符串为数组\n",
    "\"\"\"\n",
    "\n",
    "s='   h e-l lo   '\n",
    "print(s)\n",
    "print(s.strip())\n",
    "print(s.lstrip())\n",
    "print(s.rstrip())\n",
    "print(s.split('-'))\n",
    "print(s.split())\n",
    "\n"
   ]
  },
  {
   "cell_type": "code",
   "execution_count": 161,
   "id": "bded04c7-8b3c-4779-8fdf-d6d1dfdaf0c0",
   "metadata": {},
   "outputs": [
    {
     "name": "stdout",
     "output_type": "stream",
     "text": [
      "True\n",
      "True\n",
      "False\n",
      "False\n",
      "False\n",
      "True\n",
      "False\n",
      "False\n",
      "False\n"
     ]
    }
   ],
   "source": [
    "\"\"\"\n",
    "# 字符串判断相关\n",
    "\n",
    ".startswith('start')    # 是否以start开头\n",
    ".endswith('end')    # 是否以end结尾\n",
    ".isalnum()    # 是否全为字母或数字\n",
    ".isalpha()    # 是否全字母\n",
    ".isdigit()    # 是否全数字\n",
    ".islower()    # 是否全小写\n",
    ".isupper()    # 是否全大写\n",
    ".istitle()    # 判断首字母是否为大写\n",
    ".isspace()    # 判断字符是否为空格\n",
    "\"\"\"\n",
    "a = 'start 1234 end'\n",
    "\n",
    "print(a.startswith('start'))    # 是否以start开头\n",
    "print(a.endswith('end'))    # 是否以end结尾\n",
    "print(a.isalnum())    # 是否全为字母或数字\n",
    "print(a.isalpha())   # 是否全字母\n",
    "print(a.isdigit())    # 是否全数字\n",
    "print(a.islower())    # 是否全小写\n",
    "print(a.isupper())    # 是否全大写\n",
    "print(a.istitle())    # 判断首字母是否为大写\n",
    "print(a.isspace())   # 判断字符是否为空格"
   ]
  },
  {
   "cell_type": "code",
   "execution_count": 166,
   "id": "e2b7abc0-6fc0-4f01-948d-b7d7c9dad650",
   "metadata": {},
   "outputs": [
    {
     "name": "stdout",
     "output_type": "stream",
     "text": [
      "True\n",
      "False\n",
      "True\n"
     ]
    }
   ],
   "source": [
    "\"\"\"\n",
    "# Python中str函数isdigit、isdecimal、isnumeric的区别\n",
    "```python\n",
    "isdigit()\n",
    "True: Unicode数字，byte数字（单字节），全角数字（双字节），罗马数字\n",
    "False: 汉字数字\n",
    "Error: 无\n",
    " \n",
    "isdecimal()\n",
    "True: Unicode数字，，全角数字（双字节）\n",
    "False: 罗马数字，汉字数字\n",
    "Error: byte数字（单字节）\n",
    " \n",
    "isnumeric()\n",
    "True: Unicode数字，全角数字（双字节），罗马数字，汉字数字\n",
    "False: 无\n",
    "Error: byte数字（单字节）\n",
    "\n",
    "\"\"\"\n",
    "a = '123'\n",
    "print(a.isdigit())\n",
    "\n",
    "a = '\"III\"'\n",
    "print(a.isdecimal())\n",
    "\n",
    "a = '一'\n",
    "print(a.isnumeric())"
   ]
  },
  {
   "cell_type": "markdown",
   "id": "a48c6d88-2eb3-4ee9-9ed4-f4e2de89b936",
   "metadata": {},
   "source": [
    "---"
   ]
  },
  {
   "cell_type": "markdown",
   "id": "59d70583-7efb-48c9-9f96-d4a1b5402cbc",
   "metadata": {},
   "source": [
    "# **四、布尔值**\n",
    "---"
   ]
  },
  {
   "cell_type": "markdown",
   "id": "8017fa02-61b9-4f0d-aa66-744b3a3522b5",
   "metadata": {},
   "source": [
    "布尔值和布尔代数的表示完全一致，一个布尔值只有`True`、`False`两种值，要么是`True`，要么是`False`，在Python中，可以直接用`True`、`False`表示布尔值`（请注意大小写）`，也可以通过布尔运算计算出来："
   ]
  },
  {
   "cell_type": "code",
   "execution_count": 180,
   "id": "0eff7d40-84c9-4f20-abd1-3e3bfd93f222",
   "metadata": {},
   "outputs": [
    {
     "data": {
      "text/plain": [
       "bool"
      ]
     },
     "execution_count": 180,
     "metadata": {},
     "output_type": "execute_result"
    }
   ],
   "source": [
    "type(True)"
   ]
  },
  {
   "cell_type": "code",
   "execution_count": 136,
   "id": "6d9aef86-5254-4a41-96a1-adf205dfca77",
   "metadata": {},
   "outputs": [
    {
     "data": {
      "text/plain": [
       "True"
      ]
     },
     "execution_count": 136,
     "metadata": {},
     "output_type": "execute_result"
    }
   ],
   "source": [
    "True"
   ]
  },
  {
   "cell_type": "code",
   "execution_count": 137,
   "id": "f03a4dd2-d42b-4664-be3b-d63027c431da",
   "metadata": {},
   "outputs": [
    {
     "data": {
      "text/plain": [
       "False"
      ]
     },
     "execution_count": 137,
     "metadata": {},
     "output_type": "execute_result"
    }
   ],
   "source": [
    "False"
   ]
  },
  {
   "cell_type": "code",
   "execution_count": 146,
   "id": "0a2b5e39-29d2-404e-bcfa-d459a3d86fc8",
   "metadata": {},
   "outputs": [
    {
     "data": {
      "text/plain": [
       "False"
      ]
     },
     "execution_count": 146,
     "metadata": {},
     "output_type": "execute_result"
    }
   ],
   "source": [
    "1 > 2"
   ]
  },
  {
   "cell_type": "code",
   "execution_count": 147,
   "id": "7b9e2159-1108-462d-a7e2-dccd88328d88",
   "metadata": {},
   "outputs": [
    {
     "data": {
      "text/plain": [
       "True"
      ]
     },
     "execution_count": 147,
     "metadata": {},
     "output_type": "execute_result"
    }
   ],
   "source": [
    "2 > 1"
   ]
  },
  {
   "cell_type": "markdown",
   "id": "53ac6d0c-e37f-442a-8b04-6c3542804df8",
   "metadata": {},
   "source": [
    "## **转化为bool值：bool**\n",
    "\n",
    "Python提供函数：bool，可以将其他类型转化为bool值"
   ]
  },
  {
   "cell_type": "code",
   "execution_count": 139,
   "id": "6dd8f521-6a1f-4227-bd96-ed1cb5bec11e",
   "metadata": {},
   "outputs": [
    {
     "data": {
      "text/plain": [
       "True"
      ]
     },
     "execution_count": 139,
     "metadata": {},
     "output_type": "execute_result"
    }
   ],
   "source": [
    "bool(1)"
   ]
  },
  {
   "cell_type": "code",
   "execution_count": 140,
   "id": "947d0448-345a-4583-96e0-6a219fff673b",
   "metadata": {},
   "outputs": [
    {
     "data": {
      "text/plain": [
       "True"
      ]
     },
     "execution_count": 140,
     "metadata": {},
     "output_type": "execute_result"
    }
   ],
   "source": [
    "bool('1')"
   ]
  },
  {
   "cell_type": "code",
   "execution_count": 2,
   "id": "b21b39cd-b83b-427e-b9e2-0be356386696",
   "metadata": {},
   "outputs": [
    {
     "data": {
      "text/plain": [
       "False"
      ]
     },
     "execution_count": 2,
     "metadata": {},
     "output_type": "execute_result"
    }
   ],
   "source": [
    "### 数字 0 bool值是False\n",
    "\n",
    "bool(0)"
   ]
  },
  {
   "cell_type": "code",
   "execution_count": 1,
   "id": "c7df9a82-da76-4fd5-b12b-b9cb6fc561af",
   "metadata": {},
   "outputs": [
    {
     "data": {
      "text/plain": [
       "True"
      ]
     },
     "execution_count": 1,
     "metadata": {},
     "output_type": "execute_result"
    }
   ],
   "source": [
    "### 字符串 0 bool值是True\n",
    "\n",
    "bool('0')"
   ]
  },
  {
   "cell_type": "markdown",
   "id": "e9498535-0801-4b4a-9852-2e5d07459c06",
   "metadata": {},
   "source": [
    "**bool值可以通过：或与非运算，and,or,not**"
   ]
  },
  {
   "cell_type": "code",
   "execution_count": 143,
   "id": "a054f22e-6cd7-4f1f-8e1c-2ca460058bea",
   "metadata": {},
   "outputs": [
    {
     "data": {
      "text/plain": [
       "True"
      ]
     },
     "execution_count": 143,
     "metadata": {},
     "output_type": "execute_result"
    }
   ],
   "source": [
    "True and True"
   ]
  },
  {
   "cell_type": "code",
   "execution_count": 144,
   "id": "3d8b32cd-0ef2-467f-9c1c-fe8132d737aa",
   "metadata": {},
   "outputs": [
    {
     "data": {
      "text/plain": [
       "True"
      ]
     },
     "execution_count": 144,
     "metadata": {},
     "output_type": "execute_result"
    }
   ],
   "source": [
    "True or False"
   ]
  },
  {
   "cell_type": "code",
   "execution_count": 145,
   "id": "c502b64b-b035-4db3-aa2b-bd5ae4266dd6",
   "metadata": {},
   "outputs": [
    {
     "data": {
      "text/plain": [
       "False"
      ]
     },
     "execution_count": 145,
     "metadata": {},
     "output_type": "execute_result"
    }
   ],
   "source": [
    "not True"
   ]
  },
  {
   "cell_type": "code",
   "execution_count": 148,
   "id": "73914eea-2445-426d-8b2b-32d6cb0a36f2",
   "metadata": {},
   "outputs": [
    {
     "data": {
      "text/plain": [
       "True"
      ]
     },
     "execution_count": 148,
     "metadata": {},
     "output_type": "execute_result"
    }
   ],
   "source": [
    "not 1>2"
   ]
  },
  {
   "cell_type": "code",
   "execution_count": 149,
   "id": "f96c8bd1-9204-4287-be8e-4200fbdc6e12",
   "metadata": {},
   "outputs": [
    {
     "data": {
      "text/plain": [
       "False"
      ]
     },
     "execution_count": 149,
     "metadata": {},
     "output_type": "execute_result"
    }
   ],
   "source": [
    "1 > 2 and 2 > 1"
   ]
  },
  {
   "cell_type": "markdown",
   "id": "2f728f8b-6663-4234-a5c8-f1d02b462767",
   "metadata": {},
   "source": [
    "--- "
   ]
  },
  {
   "cell_type": "markdown",
   "id": "0942fa3f-de7a-4361-bf89-d8aa44bf1d7a",
   "metadata": {},
   "source": [
    "# **五、None**\n",
    "---\n",
    "\n",
    "空值是Python里一个特殊的值，用None表示。None不能理解为0，因为0是有意义的，而None是一个特殊的空值。\n",
    "\n",
    "> None 就是 None，是不一样的烟火"
   ]
  },
  {
   "cell_type": "code",
   "execution_count": 170,
   "id": "8081b165-cab1-42ef-985f-20ebc8bd6a04",
   "metadata": {},
   "outputs": [],
   "source": [
    "None"
   ]
  },
  {
   "cell_type": "code",
   "execution_count": 178,
   "id": "97f54e06-179d-4758-8728-d90f5063e489",
   "metadata": {},
   "outputs": [
    {
     "data": {
      "text/plain": [
       "NoneType"
      ]
     },
     "execution_count": 178,
     "metadata": {},
     "output_type": "execute_result"
    }
   ],
   "source": [
    "type(None)"
   ]
  },
  {
   "cell_type": "code",
   "execution_count": 171,
   "id": "db308d8e-297c-4cc5-bbd5-738a75273d7b",
   "metadata": {},
   "outputs": [
    {
     "data": {
      "text/plain": [
       "True"
      ]
     },
     "execution_count": 171,
     "metadata": {},
     "output_type": "execute_result"
    }
   ],
   "source": [
    "not None"
   ]
  },
  {
   "cell_type": "code",
   "execution_count": 172,
   "id": "263e16d7-38e7-4277-a7a6-a0d0fa567d12",
   "metadata": {},
   "outputs": [
    {
     "data": {
      "text/plain": [
       "False"
      ]
     },
     "execution_count": 172,
     "metadata": {},
     "output_type": "execute_result"
    }
   ],
   "source": [
    "bool(None)"
   ]
  },
  {
   "cell_type": "code",
   "execution_count": 173,
   "id": "2339134e-aa8c-4aae-baf9-d0ff15519e11",
   "metadata": {},
   "outputs": [
    {
     "data": {
      "text/plain": [
       "'None'"
      ]
     },
     "execution_count": 173,
     "metadata": {},
     "output_type": "execute_result"
    }
   ],
   "source": [
    "str(None)"
   ]
  },
  {
   "cell_type": "code",
   "execution_count": 174,
   "id": "b6a1e09b-74f5-4772-933e-88fa7caba255",
   "metadata": {},
   "outputs": [
    {
     "ename": "TypeError",
     "evalue": "int() argument must be a string, a bytes-like object or a number, not 'NoneType'",
     "output_type": "error",
     "traceback": [
      "\u001b[1;31m---------------------------------------------------------------------------\u001b[0m",
      "\u001b[1;31mTypeError\u001b[0m                                 Traceback (most recent call last)",
      "\u001b[1;32m~\\AppData\\Local\\Temp/ipykernel_12436/4024464104.py\u001b[0m in \u001b[0;36m<module>\u001b[1;34m\u001b[0m\n\u001b[1;32m----> 1\u001b[1;33m \u001b[0mint\u001b[0m\u001b[1;33m(\u001b[0m\u001b[1;32mNone\u001b[0m\u001b[1;33m)\u001b[0m\u001b[1;33m\u001b[0m\u001b[1;33m\u001b[0m\u001b[0m\n\u001b[0m",
      "\u001b[1;31mTypeError\u001b[0m: int() argument must be a string, a bytes-like object or a number, not 'NoneType'"
     ]
    }
   ],
   "source": [
    "int(None)"
   ]
  },
  {
   "cell_type": "markdown",
   "id": "985bd199-7dc4-4001-b85b-bdc598d61049",
   "metadata": {},
   "source": [
    "---"
   ]
  },
  {
   "cell_type": "markdown",
   "id": "5c75da5c-0fdb-46a7-9d9b-5ee8bca3b586",
   "metadata": {},
   "source": [
    "# **六、列表**\n",
    "---\n",
    "\n",
    "Python内置的一种数据类型是列表：list。list是一种有序的集合，可以随时添加和删除其中的元素。\n",
    "\n",
    "列表就是用中括号 `[]` 括起来的数据，里面的每一个数据就叫做元素。每个元素之间使用逗号分隔。\n",
    "\n",
    "而且列表的数据元素可以是不相同的数据类型。\n",
    "\n",
    "例如："
   ]
  },
  {
   "cell_type": "code",
   "execution_count": 186,
   "id": "34f25a4c-ce47-472e-a7cd-cb701407eac3",
   "metadata": {},
   "outputs": [
    {
     "data": {
      "text/plain": [
       "list"
      ]
     },
     "execution_count": 186,
     "metadata": {},
     "output_type": "execute_result"
    }
   ],
   "source": [
    "type([])"
   ]
  },
  {
   "cell_type": "markdown",
   "id": "a1aeddad-de41-441e-b4f7-11594ac31f77",
   "metadata": {},
   "source": [
    "## **创建列表：list(迭代器) 或者 [元素]**"
   ]
  },
  {
   "cell_type": "code",
   "execution_count": 241,
   "id": "f1bc4994-b4f9-44bd-8d2b-90db94247318",
   "metadata": {},
   "outputs": [
    {
     "data": {
      "text/plain": [
       "['1', '2', '3', '4']"
      ]
     },
     "execution_count": 241,
     "metadata": {},
     "output_type": "execute_result"
    }
   ],
   "source": [
    "### 转化其他类型为列表\n",
    "\n",
    "list('1234')"
   ]
  },
  {
   "cell_type": "code",
   "execution_count": 242,
   "id": "748bac5c-5af9-4c3f-bbe7-a1bbad885840",
   "metadata": {},
   "outputs": [
    {
     "ename": "TypeError",
     "evalue": "'int' object is not iterable",
     "output_type": "error",
     "traceback": [
      "\u001b[1;31m---------------------------------------------------------------------------\u001b[0m",
      "\u001b[1;31mTypeError\u001b[0m                                 Traceback (most recent call last)",
      "\u001b[1;32m~\\AppData\\Local\\Temp/ipykernel_12436/4120483008.py\u001b[0m in \u001b[0;36m<module>\u001b[1;34m\u001b[0m\n\u001b[1;32m----> 1\u001b[1;33m \u001b[0mlist\u001b[0m\u001b[1;33m(\u001b[0m\u001b[1;36m123\u001b[0m\u001b[1;33m)\u001b[0m\u001b[1;33m\u001b[0m\u001b[1;33m\u001b[0m\u001b[0m\n\u001b[0m",
      "\u001b[1;31mTypeError\u001b[0m: 'int' object is not iterable"
     ]
    }
   ],
   "source": [
    "list(123)"
   ]
  },
  {
   "cell_type": "code",
   "execution_count": 181,
   "id": "25c7fcae-1bc1-45fc-8a98-0dd99d07dcc4",
   "metadata": {},
   "outputs": [
    {
     "data": {
      "text/plain": [
       "[1, 2, 3]"
      ]
     },
     "execution_count": 181,
     "metadata": {},
     "output_type": "execute_result"
    }
   ],
   "source": [
    "[1,2,3]"
   ]
  },
  {
   "cell_type": "code",
   "execution_count": 182,
   "id": "38bed011-4711-43d1-af04-a069d760e435",
   "metadata": {},
   "outputs": [
    {
     "data": {
      "text/plain": [
       "[1, 'a', 'c']"
      ]
     },
     "execution_count": 182,
     "metadata": {},
     "output_type": "execute_result"
    }
   ],
   "source": [
    "[1,'a','c']"
   ]
  },
  {
   "cell_type": "code",
   "execution_count": 183,
   "id": "55435bf7-7f4f-4a54-96d5-3c673dcb2c8b",
   "metadata": {},
   "outputs": [
    {
     "data": {
      "text/plain": [
       "[[1, 2], [3, 4]]"
      ]
     },
     "execution_count": 183,
     "metadata": {},
     "output_type": "execute_result"
    }
   ],
   "source": [
    "[[1,2],[3,4]]"
   ]
  },
  {
   "cell_type": "code",
   "execution_count": 185,
   "id": "0570d5c8-55bb-4df4-8107-43bb2b9f4bae",
   "metadata": {},
   "outputs": [
    {
     "data": {
      "text/plain": [
       "[True, False, None]"
      ]
     },
     "execution_count": 185,
     "metadata": {},
     "output_type": "execute_result"
    }
   ],
   "source": [
    "[True,False,None]"
   ]
  },
  {
   "cell_type": "markdown",
   "id": "2c5c2ce9-529c-4983-a222-5b37df323af9",
   "metadata": {},
   "source": [
    "## **列表索引和切片**\n",
    "\n",
    "类似于字符串，Python的列表可以直接进行切片截取的，通过中括号`[start:end]`进行截取，例如:\n",
    "\n",
    "**需要注意的是Python的下标都是从0开始表示第一个位置，且`[start:end]`表示左包右开**\n",
    "\n",
    "**并且Python下标支持负数表示反向取值，-1表示最后一个**"
   ]
  },
  {
   "cell_type": "code",
   "execution_count": 187,
   "id": "2e21e1ff-bf1f-4fa8-aca6-0f035b3a64d8",
   "metadata": {},
   "outputs": [
    {
     "data": {
      "text/plain": [
       "1"
      ]
     },
     "execution_count": 187,
     "metadata": {},
     "output_type": "execute_result"
    }
   ],
   "source": [
    "a = [1,2,3,'a','ab',True,None,[1,2,3]]\n",
    "\n",
    "a[0]"
   ]
  },
  {
   "cell_type": "code",
   "execution_count": 188,
   "id": "98f25c65-83ec-4055-9604-808f932985e8",
   "metadata": {},
   "outputs": [
    {
     "data": {
      "text/plain": [
       "[1, 2, 3]"
      ]
     },
     "execution_count": 188,
     "metadata": {},
     "output_type": "execute_result"
    }
   ],
   "source": [
    "a[-1]"
   ]
  },
  {
   "cell_type": "code",
   "execution_count": 189,
   "id": "76f04cb5-5275-4c5d-9e3e-452e7ff7008d",
   "metadata": {},
   "outputs": [
    {
     "data": {
      "text/plain": [
       "[2, 3]"
      ]
     },
     "execution_count": 189,
     "metadata": {},
     "output_type": "execute_result"
    }
   ],
   "source": [
    "a[1:3]"
   ]
  },
  {
   "cell_type": "code",
   "execution_count": 192,
   "id": "22d3bf4b-b629-43cf-b67a-d026ec14a98e",
   "metadata": {},
   "outputs": [
    {
     "data": {
      "text/plain": [
       "[True, None]"
      ]
     },
     "execution_count": 192,
     "metadata": {},
     "output_type": "execute_result"
    }
   ],
   "source": [
    "a[-3:-1]"
   ]
  },
  {
   "cell_type": "code",
   "execution_count": 193,
   "id": "4bf311ac-c767-4785-af8b-e98d481d7c84",
   "metadata": {},
   "outputs": [
    {
     "data": {
      "text/plain": [
       "[2, 'a', True, [1, 2, 3]]"
      ]
     },
     "execution_count": 193,
     "metadata": {},
     "output_type": "execute_result"
    }
   ],
   "source": [
    "a[1:10:2]"
   ]
  },
  {
   "cell_type": "code",
   "execution_count": 194,
   "id": "2655edcf-ac10-4840-bcb2-9668489fd290",
   "metadata": {},
   "outputs": [
    {
     "data": {
      "text/plain": [
       "[1, 'a', None]"
      ]
     },
     "execution_count": 194,
     "metadata": {},
     "output_type": "execute_result"
    }
   ],
   "source": [
    "a[-10:-1:3]"
   ]
  },
  {
   "cell_type": "markdown",
   "id": "f0821087-6d48-4f33-bca6-2b401638f716",
   "metadata": {},
   "source": [
    "## **列表增加和删除元素**\n",
    "\n",
    "Python列表可以自由添加或者删除元素，它提供了：append，insert，pop，remove等进行操作"
   ]
  },
  {
   "cell_type": "markdown",
   "id": "49a64956-6985-4bed-83c3-5f5529733a3a",
   "metadata": {},
   "source": [
    "### **增加和更新元素：append 和 insert**\n",
    "\n",
    "- list.append(元素)：添加元素\n",
    "- list.insert(位置，元素)：添加元素"
   ]
  },
  {
   "cell_type": "code",
   "execution_count": 221,
   "id": "b12302ba-1f93-4bfe-9d32-1af6e3549230",
   "metadata": {},
   "outputs": [
    {
     "data": {
      "text/plain": [
       "[1]"
      ]
     },
     "execution_count": 221,
     "metadata": {},
     "output_type": "execute_result"
    }
   ],
   "source": [
    "a = [1]\n",
    "a"
   ]
  },
  {
   "cell_type": "code",
   "execution_count": 222,
   "id": "89545728-5257-4158-8337-f47a021792e6",
   "metadata": {},
   "outputs": [
    {
     "data": {
      "text/plain": [
       "[1, 2]"
      ]
     },
     "execution_count": 222,
     "metadata": {},
     "output_type": "execute_result"
    }
   ],
   "source": [
    "a.append(2)\n",
    "a"
   ]
  },
  {
   "cell_type": "code",
   "execution_count": 223,
   "id": "20562bd8-f4c5-4b4a-8cf2-71607e8700d1",
   "metadata": {},
   "outputs": [
    {
     "data": {
      "text/plain": [
       "[1, 2, [3]]"
      ]
     },
     "execution_count": 223,
     "metadata": {},
     "output_type": "execute_result"
    }
   ],
   "source": [
    "a.append([3])\n",
    "a"
   ]
  },
  {
   "cell_type": "code",
   "execution_count": 224,
   "id": "874663db-ab4a-417c-8ca2-d0428fa10091",
   "metadata": {},
   "outputs": [
    {
     "data": {
      "text/plain": [
       "[1, 2, 5, [3]]"
      ]
     },
     "execution_count": 224,
     "metadata": {},
     "output_type": "execute_result"
    }
   ],
   "source": [
    "a.insert(2,5)\n",
    "a"
   ]
  },
  {
   "cell_type": "code",
   "execution_count": 225,
   "id": "5d832077-f226-45bb-bcc2-c9a3e08c7ded",
   "metadata": {},
   "outputs": [
    {
     "data": {
      "text/plain": [
       "[1, 2, 5, [3], 10]"
      ]
     },
     "execution_count": 225,
     "metadata": {},
     "output_type": "execute_result"
    }
   ],
   "source": [
    "### 超出位置则算作最后一个位置添加\n",
    "\n",
    "a.insert(10,10)\n",
    "a"
   ]
  },
  {
   "cell_type": "code",
   "execution_count": 9,
   "id": "994021c0-f40f-495e-9d72-6805d135df83",
   "metadata": {},
   "outputs": [
    {
     "data": {
      "text/plain": [
       "[10, 2, 3]"
      ]
     },
     "execution_count": 9,
     "metadata": {},
     "output_type": "execute_result"
    }
   ],
   "source": [
    "### 通过索引更新列表某一个值\n",
    "\n",
    "a = [1,2,3]\n",
    "a[0] = 10\n",
    "a"
   ]
  },
  {
   "cell_type": "code",
   "execution_count": 10,
   "id": "08960b58-a93d-4e50-92a8-079a34804037",
   "metadata": {},
   "outputs": [
    {
     "data": {
      "text/plain": [
       "[1, 10, 11]"
      ]
     },
     "execution_count": 10,
     "metadata": {},
     "output_type": "execute_result"
    }
   ],
   "source": [
    "### 通过索引更新一系列值\n",
    "\n",
    "a = [1,2,3]\n",
    "a[1:] = [10,11]\n",
    "a"
   ]
  },
  {
   "cell_type": "markdown",
   "id": "18ccb40e-8376-4b27-a0a0-2bd1b2baeb5e",
   "metadata": {},
   "source": [
    "### **删除列表元素：pop 和 remove**\n",
    "\n",
    "- list.pop(位置)：删除元素，不写位置时默认删除最后一个值，并返回删除的元素\n",
    "- list.remove(元素)：删除元素，必须写元素，不返回删除的元素"
   ]
  },
  {
   "cell_type": "code",
   "execution_count": 228,
   "id": "61155b24-0c2e-4cc4-b126-b0356822b607",
   "metadata": {},
   "outputs": [],
   "source": [
    "a = [10,11,12,13]"
   ]
  },
  {
   "cell_type": "code",
   "execution_count": 229,
   "id": "1b25b412-ea7e-4a5f-82f8-1cdcbbd5537c",
   "metadata": {},
   "outputs": [
    {
     "data": {
      "text/plain": [
       "11"
      ]
     },
     "execution_count": 229,
     "metadata": {},
     "output_type": "execute_result"
    }
   ],
   "source": [
    "a.pop(1)"
   ]
  },
  {
   "cell_type": "code",
   "execution_count": 230,
   "id": "b6821f1d-47fa-4d79-8ace-d7e3d44d65da",
   "metadata": {},
   "outputs": [
    {
     "data": {
      "text/plain": [
       "[10, 12, 13]"
      ]
     },
     "execution_count": 230,
     "metadata": {},
     "output_type": "execute_result"
    }
   ],
   "source": [
    "a"
   ]
  },
  {
   "cell_type": "code",
   "execution_count": 233,
   "id": "9cff0b16-612f-4f12-92b8-3d6af0356de0",
   "metadata": {},
   "outputs": [
    {
     "ename": "IndexError",
     "evalue": "pop index out of range",
     "output_type": "error",
     "traceback": [
      "\u001b[1;31m---------------------------------------------------------------------------\u001b[0m",
      "\u001b[1;31mIndexError\u001b[0m                                Traceback (most recent call last)",
      "\u001b[1;32m~\\AppData\\Local\\Temp/ipykernel_12436/327546293.py\u001b[0m in \u001b[0;36m<module>\u001b[1;34m\u001b[0m\n\u001b[0;32m      1\u001b[0m \u001b[1;31m### c超出位置报错\u001b[0m\u001b[1;33m\u001b[0m\u001b[1;33m\u001b[0m\u001b[0m\n\u001b[0;32m      2\u001b[0m \u001b[1;33m\u001b[0m\u001b[0m\n\u001b[1;32m----> 3\u001b[1;33m \u001b[0ma\u001b[0m\u001b[1;33m.\u001b[0m\u001b[0mpop\u001b[0m\u001b[1;33m(\u001b[0m\u001b[1;36m11\u001b[0m\u001b[1;33m)\u001b[0m\u001b[1;33m\u001b[0m\u001b[1;33m\u001b[0m\u001b[0m\n\u001b[0m",
      "\u001b[1;31mIndexError\u001b[0m: pop index out of range"
     ]
    }
   ],
   "source": [
    "### c超出位置报错\n",
    "\n",
    "a.pop(11)"
   ]
  },
  {
   "cell_type": "code",
   "execution_count": 235,
   "id": "9bb6be7d-c78d-4d92-afa5-c67447f958df",
   "metadata": {},
   "outputs": [],
   "source": [
    "a.remove(10)"
   ]
  },
  {
   "cell_type": "code",
   "execution_count": 236,
   "id": "19d72ce8-5a8f-4f76-8ca4-1ebf6d9c2968",
   "metadata": {},
   "outputs": [
    {
     "data": {
      "text/plain": [
       "[12, 13]"
      ]
     },
     "execution_count": 236,
     "metadata": {},
     "output_type": "execute_result"
    }
   ],
   "source": [
    "a"
   ]
  },
  {
   "cell_type": "code",
   "execution_count": 237,
   "id": "43ed2d99-7851-46ab-8b3c-8846008c1bd2",
   "metadata": {},
   "outputs": [
    {
     "ename": "TypeError",
     "evalue": "list.remove() takes exactly one argument (0 given)",
     "output_type": "error",
     "traceback": [
      "\u001b[1;31m---------------------------------------------------------------------------\u001b[0m",
      "\u001b[1;31mTypeError\u001b[0m                                 Traceback (most recent call last)",
      "\u001b[1;32m~\\AppData\\Local\\Temp/ipykernel_12436/537517228.py\u001b[0m in \u001b[0;36m<module>\u001b[1;34m\u001b[0m\n\u001b[0;32m      1\u001b[0m \u001b[1;31m### 不写元素报错\u001b[0m\u001b[1;33m\u001b[0m\u001b[1;33m\u001b[0m\u001b[0m\n\u001b[0;32m      2\u001b[0m \u001b[1;33m\u001b[0m\u001b[0m\n\u001b[1;32m----> 3\u001b[1;33m \u001b[0ma\u001b[0m\u001b[1;33m.\u001b[0m\u001b[0mremove\u001b[0m\u001b[1;33m(\u001b[0m\u001b[1;33m)\u001b[0m\u001b[1;33m\u001b[0m\u001b[1;33m\u001b[0m\u001b[0m\n\u001b[0m",
      "\u001b[1;31mTypeError\u001b[0m: list.remove() takes exactly one argument (0 given)"
     ]
    }
   ],
   "source": [
    "### 不写元素报错\n",
    "\n",
    "a.remove()"
   ]
  },
  {
   "cell_type": "code",
   "execution_count": 238,
   "id": "b7ceb77a-c5ed-4849-9fe7-d016f20d50fc",
   "metadata": {},
   "outputs": [
    {
     "ename": "ValueError",
     "evalue": "list.remove(x): x not in list",
     "output_type": "error",
     "traceback": [
      "\u001b[1;31m---------------------------------------------------------------------------\u001b[0m",
      "\u001b[1;31mValueError\u001b[0m                                Traceback (most recent call last)",
      "\u001b[1;32m~\\AppData\\Local\\Temp/ipykernel_12436/2712472016.py\u001b[0m in \u001b[0;36m<module>\u001b[1;34m\u001b[0m\n\u001b[0;32m      1\u001b[0m \u001b[1;31m### 乱写不包含的元素也报错\u001b[0m\u001b[1;33m\u001b[0m\u001b[1;33m\u001b[0m\u001b[0m\n\u001b[0;32m      2\u001b[0m \u001b[1;33m\u001b[0m\u001b[0m\n\u001b[1;32m----> 3\u001b[1;33m \u001b[0ma\u001b[0m\u001b[1;33m.\u001b[0m\u001b[0mremove\u001b[0m\u001b[1;33m(\u001b[0m\u001b[1;36m100\u001b[0m\u001b[1;33m)\u001b[0m\u001b[1;33m\u001b[0m\u001b[1;33m\u001b[0m\u001b[0m\n\u001b[0m",
      "\u001b[1;31mValueError\u001b[0m: list.remove(x): x not in list"
     ]
    }
   ],
   "source": [
    "### 乱写不包含的元素也报错\n",
    "\n",
    "a.remove(100)"
   ]
  },
  {
   "cell_type": "markdown",
   "id": "614f136b-1956-4230-a3da-9ea3d0345891",
   "metadata": {},
   "source": [
    "## **列表内置的方法**"
   ]
  },
  {
   "cell_type": "markdown",
   "id": "8329eb26-4edd-45d4-b891-387d2c3bd44b",
   "metadata": {},
   "source": [
    "|函数&方法|描述|\n",
    "|----|----|\n",
    "|len(list)|列表元素个数，长度|\n",
    "|max(list)|返回列表元素最大值|\n",
    "|min(list)|返回列表元素最小值|\n",
    "|list(seq)|将元组转换为列表|\n",
    "|list.append(obj)|在列表末尾添加新的对象|\n",
    "|list.count(obj)|统计某个元素在列表中出现的次数|\n",
    "|list.extend(seq)|在列表末尾一次性追加另一个序列中的多个值（用新列表扩展原来的列表）|\n",
    "|list.index(obj)|从列表中找出某个值第一个匹配项的索引位置|\n",
    "|list.insert(index, obj)|将对象插入列表|\n",
    "|list.pop(obj=list[-1])|移除列表中的一个元素（默认最后一个元素），并且返回该元素的值|\n",
    "|list.remove(obj)|移除列表中的一个元素（参数是列表中元素），并且不返回任何值|\n",
    "|list.reverse()|反向列表中元素|\n",
    "|list.sort([func])|对原列表进行排序|"
   ]
  },
  {
   "cell_type": "code",
   "execution_count": 243,
   "id": "5caa7aa0-0d79-4fa8-820b-addd409e8c19",
   "metadata": {},
   "outputs": [
    {
     "data": {
      "text/plain": [
       "5"
      ]
     },
     "execution_count": 243,
     "metadata": {},
     "output_type": "execute_result"
    }
   ],
   "source": [
    "a = [1,2,3,4,5]\n",
    "len(a)"
   ]
  },
  {
   "cell_type": "code",
   "execution_count": 245,
   "id": "8378e8ee-a3d1-40b5-8a83-93208af1c8b0",
   "metadata": {},
   "outputs": [
    {
     "data": {
      "text/plain": [
       "5"
      ]
     },
     "execution_count": 245,
     "metadata": {},
     "output_type": "execute_result"
    }
   ],
   "source": [
    "max(a)"
   ]
  },
  {
   "cell_type": "code",
   "execution_count": 246,
   "id": "a3d89df5-3501-470a-acfd-7d64b634b3b4",
   "metadata": {},
   "outputs": [
    {
     "data": {
      "text/plain": [
       "1"
      ]
     },
     "execution_count": 246,
     "metadata": {},
     "output_type": "execute_result"
    }
   ],
   "source": [
    "min(a)"
   ]
  },
  {
   "cell_type": "markdown",
   "id": "93bf4c58-9403-49f3-8c66-fce0a3ed4e20",
   "metadata": {},
   "source": [
    "**注意max和min可以操作列表全是数字的情况，其他不行**"
   ]
  },
  {
   "cell_type": "code",
   "execution_count": 247,
   "id": "8a860f31-4732-45cf-83be-bebbfe07d1c2",
   "metadata": {},
   "outputs": [
    {
     "ename": "TypeError",
     "evalue": "'>' not supported between instances of 'str' and 'int'",
     "output_type": "error",
     "traceback": [
      "\u001b[1;31m---------------------------------------------------------------------------\u001b[0m",
      "\u001b[1;31mTypeError\u001b[0m                                 Traceback (most recent call last)",
      "\u001b[1;32m~\\AppData\\Local\\Temp/ipykernel_12436/1780493557.py\u001b[0m in \u001b[0;36m<module>\u001b[1;34m\u001b[0m\n\u001b[1;32m----> 1\u001b[1;33m \u001b[0mmax\u001b[0m\u001b[1;33m(\u001b[0m\u001b[1;33m[\u001b[0m\u001b[1;36m1\u001b[0m\u001b[1;33m,\u001b[0m\u001b[1;34m'1'\u001b[0m\u001b[1;33m]\u001b[0m\u001b[1;33m)\u001b[0m\u001b[1;33m\u001b[0m\u001b[1;33m\u001b[0m\u001b[0m\n\u001b[0m",
      "\u001b[1;31mTypeError\u001b[0m: '>' not supported between instances of 'str' and 'int'"
     ]
    }
   ],
   "source": [
    "max([1,'1'])"
   ]
  },
  {
   "cell_type": "code",
   "execution_count": 248,
   "id": "3ca74e76-b92c-412a-9f74-18e377b5e4c5",
   "metadata": {},
   "outputs": [
    {
     "ename": "TypeError",
     "evalue": "'>' not supported between instances of 'list' and 'int'",
     "output_type": "error",
     "traceback": [
      "\u001b[1;31m---------------------------------------------------------------------------\u001b[0m",
      "\u001b[1;31mTypeError\u001b[0m                                 Traceback (most recent call last)",
      "\u001b[1;32m~\\AppData\\Local\\Temp/ipykernel_12436/4166475912.py\u001b[0m in \u001b[0;36m<module>\u001b[1;34m\u001b[0m\n\u001b[1;32m----> 1\u001b[1;33m \u001b[0mmax\u001b[0m\u001b[1;33m(\u001b[0m\u001b[1;33m[\u001b[0m\u001b[1;36m1\u001b[0m\u001b[1;33m,\u001b[0m\u001b[1;33m[\u001b[0m\u001b[1;36m1\u001b[0m\u001b[1;33m]\u001b[0m\u001b[1;33m]\u001b[0m\u001b[1;33m)\u001b[0m\u001b[1;33m\u001b[0m\u001b[1;33m\u001b[0m\u001b[0m\n\u001b[0m",
      "\u001b[1;31mTypeError\u001b[0m: '>' not supported between instances of 'list' and 'int'"
     ]
    }
   ],
   "source": [
    "max([1,[1]])"
   ]
  },
  {
   "cell_type": "code",
   "execution_count": 249,
   "id": "37307a08-bfae-4556-88e0-a5b4be3163c5",
   "metadata": {},
   "outputs": [
    {
     "data": {
      "text/plain": [
       "2"
      ]
     },
     "execution_count": 249,
     "metadata": {},
     "output_type": "execute_result"
    }
   ],
   "source": [
    "a = [1,1,2,3,4,5]\n",
    "a.count(1)"
   ]
  },
  {
   "cell_type": "code",
   "execution_count": 250,
   "id": "79eac5b1-f1c9-4391-975f-dde27041282f",
   "metadata": {},
   "outputs": [
    {
     "data": {
      "text/plain": [
       "0"
      ]
     },
     "execution_count": 250,
     "metadata": {},
     "output_type": "execute_result"
    }
   ],
   "source": [
    "a.count(10)"
   ]
  },
  {
   "cell_type": "code",
   "execution_count": 251,
   "id": "b99b5485-03c6-4bf8-b024-a8890be57291",
   "metadata": {},
   "outputs": [
    {
     "data": {
      "text/plain": [
       "[1, 1, 2, 3, 4, 5, 1, 2, 3]"
      ]
     },
     "execution_count": 251,
     "metadata": {},
     "output_type": "execute_result"
    }
   ],
   "source": [
    "a.extend([1,2,3])\n",
    "a"
   ]
  },
  {
   "cell_type": "code",
   "execution_count": 252,
   "id": "b86f370d-8512-42ae-84c2-70b018dfa750",
   "metadata": {},
   "outputs": [
    {
     "data": {
      "text/plain": [
       "0"
      ]
     },
     "execution_count": 252,
     "metadata": {},
     "output_type": "execute_result"
    }
   ],
   "source": [
    "a.index(1)"
   ]
  },
  {
   "cell_type": "code",
   "execution_count": 253,
   "id": "4ab3942d-4b18-4e36-b6a3-1c3a39bf9486",
   "metadata": {},
   "outputs": [
    {
     "ename": "ValueError",
     "evalue": "10 is not in list",
     "output_type": "error",
     "traceback": [
      "\u001b[1;31m---------------------------------------------------------------------------\u001b[0m",
      "\u001b[1;31mValueError\u001b[0m                                Traceback (most recent call last)",
      "\u001b[1;32m~\\AppData\\Local\\Temp/ipykernel_12436/1877578965.py\u001b[0m in \u001b[0;36m<module>\u001b[1;34m\u001b[0m\n\u001b[1;32m----> 1\u001b[1;33m \u001b[0ma\u001b[0m\u001b[1;33m.\u001b[0m\u001b[0mindex\u001b[0m\u001b[1;33m(\u001b[0m\u001b[1;36m10\u001b[0m\u001b[1;33m)\u001b[0m\u001b[1;33m\u001b[0m\u001b[1;33m\u001b[0m\u001b[0m\n\u001b[0m",
      "\u001b[1;31mValueError\u001b[0m: 10 is not in list"
     ]
    }
   ],
   "source": [
    "a.index(10)"
   ]
  },
  {
   "cell_type": "code",
   "execution_count": 255,
   "id": "8d4e2286-6022-488e-97f9-2b83e2f162e2",
   "metadata": {},
   "outputs": [
    {
     "data": {
      "text/plain": [
       "[5, 4, 3, 2, 1]"
      ]
     },
     "execution_count": 255,
     "metadata": {},
     "output_type": "execute_result"
    }
   ],
   "source": [
    "a=[1,2,3,4,5]\n",
    "a.reverse()\n",
    "a"
   ]
  },
  {
   "cell_type": "code",
   "execution_count": 257,
   "id": "0dfd89f2-8318-4456-9c5c-7b8c31ba9084",
   "metadata": {},
   "outputs": [
    {
     "data": {
      "text/plain": [
       "[4, 8, 9, 10, 20]"
      ]
     },
     "execution_count": 257,
     "metadata": {},
     "output_type": "execute_result"
    }
   ],
   "source": [
    "a=[10,8,4,9,20]\n",
    "a.sort()\n",
    "a"
   ]
  },
  {
   "cell_type": "code",
   "execution_count": 259,
   "id": "d29e367e-1bd6-4185-937b-10138057ae9f",
   "metadata": {},
   "outputs": [
    {
     "data": {
      "text/plain": [
       "[4, 8, 9, 10, 20]"
      ]
     },
     "execution_count": 259,
     "metadata": {},
     "output_type": "execute_result"
    }
   ],
   "source": [
    "a=[10,8,4,9,20]\n",
    "a.sort(reverse=False)\n",
    "a"
   ]
  },
  {
   "cell_type": "code",
   "execution_count": 260,
   "id": "e2a32a7a-acc8-40cc-aea9-117506f44310",
   "metadata": {},
   "outputs": [
    {
     "data": {
      "text/plain": [
       "[20, 10, 9, 8, 4]"
      ]
     },
     "execution_count": 260,
     "metadata": {},
     "output_type": "execute_result"
    }
   ],
   "source": [
    "a=[10,8,4,9,20]\n",
    "a.sort(reverse=True)\n",
    "a"
   ]
  },
  {
   "cell_type": "code",
   "execution_count": 261,
   "id": "76472371-ae05-4249-bd4c-c97a895e8bc5",
   "metadata": {},
   "outputs": [
    {
     "data": {
      "text/plain": [
       "['10', '11', '20', '40']"
      ]
     },
     "execution_count": 261,
     "metadata": {},
     "output_type": "execute_result"
    }
   ],
   "source": [
    "a=['10','20','11','40']\n",
    "a.sort(key = lambda x: x[0])\n",
    "a"
   ]
  },
  {
   "cell_type": "code",
   "execution_count": 262,
   "id": "13da10e7-43ec-4f1e-a117-6e8be672ff49",
   "metadata": {},
   "outputs": [
    {
     "data": {
      "text/plain": [
       "['40', '20', '10', '11']"
      ]
     },
     "execution_count": 262,
     "metadata": {},
     "output_type": "execute_result"
    }
   ],
   "source": [
    "a=['10','20','11','40']\n",
    "list(sorted(a,key=lambda x: x[0],reverse=True))"
   ]
  },
  {
   "cell_type": "code",
   "execution_count": 263,
   "id": "2ed7706a-594e-4fad-a8b3-5ab8159cc451",
   "metadata": {},
   "outputs": [
    {
     "data": {
      "text/plain": [
       "[1, 2, 3, 4]"
      ]
     },
     "execution_count": 263,
     "metadata": {},
     "output_type": "execute_result"
    }
   ],
   "source": [
    "a = [1,2]\n",
    "b = [3,4]\n",
    "a+b"
   ]
  },
  {
   "cell_type": "markdown",
   "id": "3235cdf0-9c4c-4839-9b9e-daba1d5ddaca",
   "metadata": {},
   "source": [
    "---"
   ]
  },
  {
   "cell_type": "markdown",
   "id": "efad3e55-cfe6-4a41-a6dc-030bc5936e35",
   "metadata": {},
   "source": [
    "# **七、集合**\n",
    "---\n",
    "\n",
    "集合是Python内置的一种数据类型：set。set是一种`无序且元素唯一不重复`的集合，可以随时添加和删除其中的元素。\n",
    "\n",
    "列表就是用大括号 `{}` 括起来的数据，里面的每一个数据就叫做元素。每个元素之间使用逗号分隔。\n",
    "\n",
    "而且集合的数据元素可以是不相同的数据类型。\n",
    "\n",
    "例如："
   ]
  },
  {
   "cell_type": "code",
   "execution_count": 265,
   "id": "ebe61838-328e-4b5b-af39-e2704ad94c42",
   "metadata": {},
   "outputs": [
    {
     "data": {
      "text/plain": [
       "set"
      ]
     },
     "execution_count": 265,
     "metadata": {},
     "output_type": "execute_result"
    }
   ],
   "source": [
    "type({''})"
   ]
  },
  {
   "cell_type": "markdown",
   "id": "943b8009-5bb8-420e-8867-1d3ff203120b",
   "metadata": {},
   "source": [
    "## **创建集合**\n",
    "\n",
    "- set(序列)\n",
    "- {元素}"
   ]
  },
  {
   "cell_type": "code",
   "execution_count": 266,
   "id": "b1b6a50f-e491-4bac-811a-74191d483d3d",
   "metadata": {},
   "outputs": [
    {
     "data": {
      "text/plain": [
       "{1, 2, 3, 4}"
      ]
     },
     "execution_count": 266,
     "metadata": {},
     "output_type": "execute_result"
    }
   ],
   "source": [
    "set([1,2,3,4])"
   ]
  },
  {
   "cell_type": "code",
   "execution_count": 267,
   "id": "cf26fef7-4625-41fb-a992-50f0da6da9f5",
   "metadata": {},
   "outputs": [
    {
     "data": {
      "text/plain": [
       "{1}"
      ]
     },
     "execution_count": 267,
     "metadata": {},
     "output_type": "execute_result"
    }
   ],
   "source": [
    "set([1,1,1,1])"
   ]
  },
  {
   "cell_type": "code",
   "execution_count": 268,
   "id": "8510121c-09bc-49d5-af6d-5d1c570a3c70",
   "metadata": {},
   "outputs": [
    {
     "ename": "TypeError",
     "evalue": "'int' object is not iterable",
     "output_type": "error",
     "traceback": [
      "\u001b[1;31m---------------------------------------------------------------------------\u001b[0m",
      "\u001b[1;31mTypeError\u001b[0m                                 Traceback (most recent call last)",
      "\u001b[1;32m~\\AppData\\Local\\Temp/ipykernel_12436/2363595463.py\u001b[0m in \u001b[0;36m<module>\u001b[1;34m\u001b[0m\n\u001b[1;32m----> 1\u001b[1;33m \u001b[0mset\u001b[0m\u001b[1;33m(\u001b[0m\u001b[1;36m1\u001b[0m\u001b[1;33m)\u001b[0m\u001b[1;33m\u001b[0m\u001b[1;33m\u001b[0m\u001b[0m\n\u001b[0m",
      "\u001b[1;31mTypeError\u001b[0m: 'int' object is not iterable"
     ]
    }
   ],
   "source": [
    "set(1)"
   ]
  },
  {
   "cell_type": "code",
   "execution_count": 270,
   "id": "9733ad46-630f-4228-b775-a58ee7b7c8ac",
   "metadata": {},
   "outputs": [
    {
     "data": {
      "text/plain": [
       "{'1', '2', '3', '4'}"
      ]
     },
     "execution_count": 270,
     "metadata": {},
     "output_type": "execute_result"
    }
   ],
   "source": [
    "set('1234')"
   ]
  },
  {
   "cell_type": "code",
   "execution_count": 271,
   "id": "7ea78c6e-a1e5-48ec-819d-e519fdee5567",
   "metadata": {},
   "outputs": [
    {
     "data": {
      "text/plain": [
       "{1}"
      ]
     },
     "execution_count": 271,
     "metadata": {},
     "output_type": "execute_result"
    }
   ],
   "source": [
    "{1,1,1,1}"
   ]
  },
  {
   "cell_type": "code",
   "execution_count": 273,
   "id": "bfd9d064-01b8-4480-94f6-d5696d135d88",
   "metadata": {},
   "outputs": [
    {
     "data": {
      "text/plain": [
       "{1, '1', 2}"
      ]
     },
     "execution_count": 273,
     "metadata": {},
     "output_type": "execute_result"
    }
   ],
   "source": [
    "{1,2,'1'}"
   ]
  },
  {
   "cell_type": "code",
   "execution_count": 274,
   "id": "caf7e069-4a3b-4f44-b08a-b2b14676c962",
   "metadata": {},
   "outputs": [
    {
     "ename": "TypeError",
     "evalue": "unhashable type: 'list'",
     "output_type": "error",
     "traceback": [
      "\u001b[1;31m---------------------------------------------------------------------------\u001b[0m",
      "\u001b[1;31mTypeError\u001b[0m                                 Traceback (most recent call last)",
      "\u001b[1;32m~\\AppData\\Local\\Temp/ipykernel_12436/310789679.py\u001b[0m in \u001b[0;36m<module>\u001b[1;34m\u001b[0m\n\u001b[0;32m      1\u001b[0m \u001b[1;31m### 注意列表不是唯一的\u001b[0m\u001b[1;33m\u001b[0m\u001b[1;33m\u001b[0m\u001b[0m\n\u001b[0;32m      2\u001b[0m \u001b[1;33m\u001b[0m\u001b[0m\n\u001b[1;32m----> 3\u001b[1;33m \u001b[1;33m{\u001b[0m\u001b[1;33m[\u001b[0m\u001b[1;36m1\u001b[0m\u001b[1;33m]\u001b[0m\u001b[1;33m}\u001b[0m\u001b[1;33m\u001b[0m\u001b[1;33m\u001b[0m\u001b[0m\n\u001b[0m",
      "\u001b[1;31mTypeError\u001b[0m: unhashable type: 'list'"
     ]
    }
   ],
   "source": [
    "### 注意列表不是唯一的\n",
    "\n",
    "{[1]}"
   ]
  },
  {
   "cell_type": "markdown",
   "id": "4bf80afd-99a2-423c-ae06-ca6cd6357e20",
   "metadata": {},
   "source": [
    "## **集合的索引和切片**\n",
    "\n",
    "- Python的集合不支持索引和切片"
   ]
  },
  {
   "cell_type": "code",
   "execution_count": 275,
   "id": "0211b557-78f6-46ce-9cf4-ecb9b0fd390a",
   "metadata": {},
   "outputs": [
    {
     "ename": "TypeError",
     "evalue": "'set' object is not subscriptable",
     "output_type": "error",
     "traceback": [
      "\u001b[1;31m---------------------------------------------------------------------------\u001b[0m",
      "\u001b[1;31mTypeError\u001b[0m                                 Traceback (most recent call last)",
      "\u001b[1;32m~\\AppData\\Local\\Temp/ipykernel_12436/3856690458.py\u001b[0m in \u001b[0;36m<module>\u001b[1;34m\u001b[0m\n\u001b[0;32m      1\u001b[0m \u001b[0ma\u001b[0m \u001b[1;33m=\u001b[0m \u001b[1;33m{\u001b[0m\u001b[1;36m1\u001b[0m\u001b[1;33m,\u001b[0m\u001b[1;36m2\u001b[0m\u001b[1;33m,\u001b[0m\u001b[1;36m3\u001b[0m\u001b[1;33m,\u001b[0m\u001b[1;36m4\u001b[0m\u001b[1;33m}\u001b[0m\u001b[1;33m\u001b[0m\u001b[1;33m\u001b[0m\u001b[0m\n\u001b[1;32m----> 2\u001b[1;33m \u001b[0ma\u001b[0m\u001b[1;33m[\u001b[0m\u001b[1;36m0\u001b[0m\u001b[1;33m]\u001b[0m\u001b[1;33m\u001b[0m\u001b[1;33m\u001b[0m\u001b[0m\n\u001b[0m",
      "\u001b[1;31mTypeError\u001b[0m: 'set' object is not subscriptable"
     ]
    }
   ],
   "source": [
    "a = {1,2,3,4}\n",
    "a[0]"
   ]
  },
  {
   "cell_type": "code",
   "execution_count": 276,
   "id": "475105a2-b7b7-437b-a27d-3911c5ab3aa4",
   "metadata": {},
   "outputs": [
    {
     "ename": "TypeError",
     "evalue": "'set' object is not subscriptable",
     "output_type": "error",
     "traceback": [
      "\u001b[1;31m---------------------------------------------------------------------------\u001b[0m",
      "\u001b[1;31mTypeError\u001b[0m                                 Traceback (most recent call last)",
      "\u001b[1;32m~\\AppData\\Local\\Temp/ipykernel_12436/13628764.py\u001b[0m in \u001b[0;36m<module>\u001b[1;34m\u001b[0m\n\u001b[1;32m----> 1\u001b[1;33m \u001b[0ma\u001b[0m\u001b[1;33m[\u001b[0m\u001b[1;36m1\u001b[0m\u001b[1;33m:\u001b[0m\u001b[1;36m10\u001b[0m\u001b[1;33m]\u001b[0m\u001b[1;33m\u001b[0m\u001b[1;33m\u001b[0m\u001b[0m\n\u001b[0m",
      "\u001b[1;31mTypeError\u001b[0m: 'set' object is not subscriptable"
     ]
    }
   ],
   "source": [
    "a[1:10]"
   ]
  },
  {
   "cell_type": "markdown",
   "id": "217a4d29-773c-4db0-a87a-41013bc608b9",
   "metadata": {},
   "source": [
    "**这种不可取值的情况似乎看上去有点累赘，其实并不是，Python的集合循环遍历速度非常快，可以用来做一些特定值的判定**"
   ]
  },
  {
   "cell_type": "markdown",
   "id": "2eeae0ca-86dc-4d8c-bd75-e8b90e7a6357",
   "metadata": {},
   "source": [
    "## **添加和更新集合元素**\n",
    "\n",
    "- set.add(元素)：添加一个元素\n",
    "- set.update(集合)：添加一个集合"
   ]
  },
  {
   "cell_type": "code",
   "execution_count": 281,
   "id": "99b16998-a039-43a5-ba75-046da83a1eed",
   "metadata": {},
   "outputs": [
    {
     "data": {
      "text/plain": [
       "{1, 2, 3, 4, 10}"
      ]
     },
     "execution_count": 281,
     "metadata": {},
     "output_type": "execute_result"
    }
   ],
   "source": [
    "a = {1,2,3,4}\n",
    "a.add(10)\n",
    "a"
   ]
  },
  {
   "cell_type": "code",
   "execution_count": 282,
   "id": "bec22ea2-88a6-41ee-a91b-1b8688946b0f",
   "metadata": {},
   "outputs": [
    {
     "data": {
      "text/plain": [
       "{1, 2, 3, 4, 10, 20}"
      ]
     },
     "execution_count": 282,
     "metadata": {},
     "output_type": "execute_result"
    }
   ],
   "source": [
    "a.update({1,20})\n",
    "a"
   ]
  },
  {
   "cell_type": "markdown",
   "id": "7e4c2891-f763-4761-9ce8-daf6ee066af6",
   "metadata": {},
   "source": [
    "## **删除集合元素**\n",
    "\n",
    "- set.pop()：随机删除元素，对于是字典和字符转换的集合是随机删除元素的。当集合是由列表和元组组成时是从左边删除元素的\n",
    "- set.remove(元素)：删除元素，不返回删除的元素"
   ]
  },
  {
   "cell_type": "code",
   "execution_count": 285,
   "id": "21505010-9d40-4755-8bc1-67c27142d239",
   "metadata": {},
   "outputs": [
    {
     "data": {
      "text/plain": [
       "1"
      ]
     },
     "execution_count": 285,
     "metadata": {},
     "output_type": "execute_result"
    }
   ],
   "source": [
    "a = {1,2,3,4}\n",
    "a.pop()"
   ]
  },
  {
   "cell_type": "code",
   "execution_count": 286,
   "id": "e8f4d123-e782-4853-9d51-e7fc703266f4",
   "metadata": {},
   "outputs": [
    {
     "data": {
      "text/plain": [
       "{2, 3, 4}"
      ]
     },
     "execution_count": 286,
     "metadata": {},
     "output_type": "execute_result"
    }
   ],
   "source": [
    "a"
   ]
  },
  {
   "cell_type": "code",
   "execution_count": 288,
   "id": "5049f220-9278-4c55-baa4-fd40113473b6",
   "metadata": {},
   "outputs": [
    {
     "data": {
      "text/plain": [
       "2"
      ]
     },
     "execution_count": 288,
     "metadata": {},
     "output_type": "execute_result"
    }
   ],
   "source": [
    "a.pop()"
   ]
  },
  {
   "cell_type": "code",
   "execution_count": 289,
   "id": "f12e829e-80e4-4ffa-b676-d81999982071",
   "metadata": {},
   "outputs": [
    {
     "data": {
      "text/plain": [
       "{3}"
      ]
     },
     "execution_count": 289,
     "metadata": {},
     "output_type": "execute_result"
    }
   ],
   "source": [
    "a.remove(4)\n",
    "a"
   ]
  },
  {
   "cell_type": "markdown",
   "id": "d0145dbe-0448-4f39-a84f-04732670e398",
   "metadata": {},
   "source": [
    "## **集合内置方法**\n",
    "\n",
    "|序号|方法|描述|\n",
    "|---|---|---|\n",
    "|1|add()|为集合添加元素|\n",
    "|2|clear()|移除集合中的所有元素|\n",
    "|3|copy()|复制一个集合|\n",
    "|4|difference()|返回多个集合的差集|\n",
    "|5|difference_update()|移除集合中的元素，该元素在指定的集合也存在|\n",
    "|6|discard()|移除集合中指定的元素|\n",
    "|7|intersection()|返回集合的交集|\n",
    "|8|intersection_update()|删除集合中的元素，该元素在指定的集合中不存在|\n",
    "|9|isdisjoint()|判断两个集合是否包含相同的元素，如果没有则返回 True，否则返回 False|\n",
    "|10|issubset()|判断指定集合是否为该方法参数集合的子集|\n",
    "|11|issuperset()|判断该方法的参数集合是否为指定集合的子集|\n",
    "|12|pop()|随机移除元素|\n",
    "|13|remove()|移除指定元素|\n",
    "|14|symmetric_difference()|返回两个集合中不重复的元素集合|\n",
    "|15|symmetric_difference_update()|移除当前集合中在另外一个指定集合相同的元素，并将另外一个指定集合中不同的元素插入到当前集合中|\n",
    "|16|union()|返回两个集合的并集|\n",
    "|17|update()|给集合添加元素|"
   ]
  },
  {
   "cell_type": "markdown",
   "id": "b1f64f47-1a4e-4f7d-9e2a-f78627d49f13",
   "metadata": {},
   "source": [
    "### **集合常用方法：交叉并补**"
   ]
  },
  {
   "cell_type": "markdown",
   "id": "fd101788-1e3a-44e5-8145-9014e71fb17c",
   "metadata": {},
   "source": [
    "### **交集：intersection()，简写：`&`**"
   ]
  },
  {
   "cell_type": "code",
   "execution_count": 292,
   "id": "da5029c2-0eed-4202-a65c-944c16a79bfa",
   "metadata": {},
   "outputs": [
    {
     "name": "stdout",
     "output_type": "stream",
     "text": [
      "{'卢俊义'}\n",
      "{'卢俊义'}\n"
     ]
    }
   ],
   "source": [
    "#intersection() 交集\n",
    "\n",
    "set1 ={'卢俊义','花荣', '吴用'}\n",
    "set2 ={'公孙胜','秦明','卢俊义'}\n",
    "res = set1.intersection(set2)\n",
    "print(res) #{'卢俊义'}\n",
    "\n",
    "#简写\n",
    "res = set1 & set2\n",
    "print(res)"
   ]
  },
  {
   "cell_type": "markdown",
   "id": "dc868af4-9cf4-4541-8e6e-5907589bb741",
   "metadata": {},
   "source": [
    "### **差集：difference()，简写：`-`**"
   ]
  },
  {
   "cell_type": "code",
   "execution_count": 293,
   "id": "8f5dd4b2-1e2f-414c-be30-b925f3b9364e",
   "metadata": {},
   "outputs": [
    {
     "name": "stdout",
     "output_type": "stream",
     "text": [
      "{'吴用', '花荣'}\n",
      "{'吴用', '花荣'}\n"
     ]
    }
   ],
   "source": [
    "#difference() 差集\n",
    "\n",
    "set1 ={'卢俊义','花荣', '吴用'}\n",
    "set2 ={'公孙胜','秦明','卢俊义'}\n",
    "res = set1.difference(set2)\n",
    "print(res)\n",
    "# 简写\n",
    "res = set1 - set2\n",
    "print(res)"
   ]
  },
  {
   "cell_type": "markdown",
   "id": "90677863-d4b0-42c5-b09a-2174e0c08be0",
   "metadata": {},
   "source": [
    "### **并集：union()，简写：`|`**"
   ]
  },
  {
   "cell_type": "code",
   "execution_count": 291,
   "id": "c5161007-a226-42d6-9721-9150f6d37763",
   "metadata": {},
   "outputs": [
    {
     "name": "stdout",
     "output_type": "stream",
     "text": [
      "{'吴用', '秦明', '公孙胜', '花荣', '卢俊义'}\n",
      "{'吴用', '秦明', '公孙胜', '花荣', '卢俊义'}\n"
     ]
    }
   ],
   "source": [
    "#union() 并集\n",
    "\n",
    "set1 ={'卢俊义','花荣', '吴用'}\n",
    "set2 ={'公孙胜','秦明','卢俊义'}\n",
    "res = set1.union(set2)\n",
    "print(res)\n",
    "# 简写\n",
    "res = set1 | set2\n",
    "print(res)"
   ]
  },
  {
   "cell_type": "markdown",
   "id": "bbe6b72f-540f-4fbd-92be-8231b0a9f264",
   "metadata": {},
   "source": [
    "### **对称差集：symmetric_difference()(补集情况涵盖在其中)，简写：`^`**"
   ]
  },
  {
   "cell_type": "code",
   "execution_count": 290,
   "id": "e08a7dcd-5a71-45ea-8fb3-2ac6abcf4739",
   "metadata": {},
   "outputs": [
    {
     "name": "stdout",
     "output_type": "stream",
     "text": [
      "{'吴用', '秦明', '公孙胜', '花荣'}\n",
      "{'吴用', '秦明', '公孙胜', '花荣'}\n"
     ]
    }
   ],
   "source": [
    "#symmetric_difference() 对称差集 (补集情况涵盖在其中)\n",
    "\n",
    "#按位异或 , 两者不相同方为真,一个是1,一个是0 ,结果是True,两者一样是False\n",
    "\n",
    "set1 ={'卢俊义','花荣', '吴用'}\n",
    "set2 ={'公孙胜','秦明','卢俊义'}\n",
    "res = set1.symmetric_difference(set2)\n",
    "print(res)\n",
    "# 简写\n",
    "res = set1 ^ set2\n",
    "print(res)"
   ]
  },
  {
   "cell_type": "markdown",
   "id": "bbecef47-bc2b-4530-8d3c-dd97cda68292",
   "metadata": {},
   "source": [
    "--- "
   ]
  },
  {
   "cell_type": "markdown",
   "id": "49e7a32e-6092-4bcc-b625-ecb3628fb7df",
   "metadata": {},
   "source": [
    "# **八、字典**\n",
    "---\n",
    "\n",
    "### 1 用途\n",
    "\n",
    "存多个值，但每一个值都有一个key与之对应，key对值有描述功能。多用于存的值表示的是不同的状态时，例如存的值有姓名、年龄、身高、体重、爱好等。\n",
    "\n",
    "### 2 定义\n",
    "\n",
    "字典是一种`无序且键值唯一不重复`的集合，可以随时添加和删除其中的元素。\n",
    "\n",
    "在`{}`内用逗号隔开多个元素，每一根元素都是以`key：value`的形式，`value`是字典的值可以是任意数据类型，而`key`是字典的键值必须为不可变类型。"
   ]
  },
  {
   "cell_type": "code",
   "execution_count": 295,
   "id": "20d4c926-c746-42fc-be01-3662125b032a",
   "metadata": {},
   "outputs": [
    {
     "data": {
      "text/plain": [
       "dict"
      ]
     },
     "execution_count": 295,
     "metadata": {},
     "output_type": "execute_result"
    }
   ],
   "source": [
    "type({'a':1})"
   ]
  },
  {
   "cell_type": "code",
   "execution_count": 297,
   "id": "7f71a544-9f6a-4e80-8e2c-c61c211352fa",
   "metadata": {},
   "outputs": [
    {
     "data": {
      "text/plain": [
       "{'a': 1}"
      ]
     },
     "execution_count": 297,
     "metadata": {},
     "output_type": "execute_result"
    }
   ],
   "source": [
    "dict([['a',1]])"
   ]
  },
  {
   "cell_type": "markdown",
   "id": "d98c2ac2-7165-41a9-94bc-d00ba476dc1f",
   "metadata": {},
   "source": [
    "## **创建字典**\n",
    "\n",
    "- dict()\n",
    "- {}"
   ]
  },
  {
   "cell_type": "code",
   "execution_count": 298,
   "id": "864c4048-88b9-4a58-9362-eee50197e5cc",
   "metadata": {},
   "outputs": [
    {
     "data": {
      "text/plain": [
       "{'a': 1, 1: 1}"
      ]
     },
     "execution_count": 298,
     "metadata": {},
     "output_type": "execute_result"
    }
   ],
   "source": [
    "{\"a\":1,1:1}"
   ]
  },
  {
   "cell_type": "code",
   "execution_count": 299,
   "id": "d37c6b55-7391-407e-98a5-cfac00c33616",
   "metadata": {},
   "outputs": [
    {
     "ename": "TypeError",
     "evalue": "unhashable type: 'list'",
     "output_type": "error",
     "traceback": [
      "\u001b[1;31m---------------------------------------------------------------------------\u001b[0m",
      "\u001b[1;31mTypeError\u001b[0m                                 Traceback (most recent call last)",
      "\u001b[1;32m~\\AppData\\Local\\Temp/ipykernel_12436/2860792516.py\u001b[0m in \u001b[0;36m<module>\u001b[1;34m\u001b[0m\n\u001b[0;32m      1\u001b[0m \u001b[1;31m### 注意列表是不可变的\u001b[0m\u001b[1;33m\u001b[0m\u001b[1;33m\u001b[0m\u001b[0m\n\u001b[0;32m      2\u001b[0m \u001b[1;33m\u001b[0m\u001b[0m\n\u001b[1;32m----> 3\u001b[1;33m \u001b[1;33m{\u001b[0m\u001b[1;33m[\u001b[0m\u001b[1;36m1\u001b[0m\u001b[1;33m]\u001b[0m\u001b[1;33m:\u001b[0m\u001b[1;36m1\u001b[0m\u001b[1;33m}\u001b[0m\u001b[1;33m\u001b[0m\u001b[1;33m\u001b[0m\u001b[0m\n\u001b[0m",
      "\u001b[1;31mTypeError\u001b[0m: unhashable type: 'list'"
     ]
    }
   ],
   "source": [
    "### 注意列表是不可变的\n",
    "\n",
    "{[1]:1}"
   ]
  },
  {
   "cell_type": "code",
   "execution_count": 300,
   "id": "ad7e449c-acc8-44e3-8ae6-12e0dc372723",
   "metadata": {},
   "outputs": [
    {
     "data": {
      "text/plain": [
       "{'a': {'a1': 1}}"
      ]
     },
     "execution_count": 300,
     "metadata": {},
     "output_type": "execute_result"
    }
   ],
   "source": [
    "{'a': {\"a1\":1}}"
   ]
  },
  {
   "cell_type": "code",
   "execution_count": 303,
   "id": "bacc9edf-623f-4e33-8ad5-43326ec44788",
   "metadata": {},
   "outputs": [
    {
     "data": {
      "text/plain": [
       "{'a': 1, 'b': 2}"
      ]
     },
     "execution_count": 303,
     "metadata": {},
     "output_type": "execute_result"
    }
   ],
   "source": [
    "dict([['a',1],[\"b\",2]])"
   ]
  },
  {
   "cell_type": "code",
   "execution_count": 304,
   "id": "37db2acd-37b3-4e3f-b807-0e387d12721b",
   "metadata": {},
   "outputs": [
    {
     "data": {
      "text/plain": [
       "{'a': 1, 'b': 2, 'c': 3}"
      ]
     },
     "execution_count": 304,
     "metadata": {},
     "output_type": "execute_result"
    }
   ],
   "source": [
    "dict(a=1,b=2,c=3)"
   ]
  },
  {
   "cell_type": "markdown",
   "id": "6b6c4149-f433-4498-b65d-6e912cd1731d",
   "metadata": {},
   "source": [
    "## **字典的索引，切片，取值**\n",
    "\n",
    "- **字典通过键值索引，不能通过下标索引**\n",
    "- **键值索引方式：中括号加键值即为 `dict[键值]`**"
   ]
  },
  {
   "cell_type": "code",
   "execution_count": 306,
   "id": "92318d37-ab06-44ed-96dd-54c698c4bf5b",
   "metadata": {},
   "outputs": [],
   "source": [
    "a = {\"a\": 1, \"b\": 2}"
   ]
  },
  {
   "cell_type": "code",
   "execution_count": 307,
   "id": "4d324d54-4e9c-4f45-84fb-c63165c29e6e",
   "metadata": {},
   "outputs": [
    {
     "ename": "KeyError",
     "evalue": "0",
     "output_type": "error",
     "traceback": [
      "\u001b[1;31m---------------------------------------------------------------------------\u001b[0m",
      "\u001b[1;31mKeyError\u001b[0m                                  Traceback (most recent call last)",
      "\u001b[1;32m~\\AppData\\Local\\Temp/ipykernel_12436/1109539928.py\u001b[0m in \u001b[0;36m<module>\u001b[1;34m\u001b[0m\n\u001b[1;32m----> 1\u001b[1;33m \u001b[0ma\u001b[0m\u001b[1;33m[\u001b[0m\u001b[1;36m0\u001b[0m\u001b[1;33m]\u001b[0m\u001b[1;33m\u001b[0m\u001b[1;33m\u001b[0m\u001b[0m\n\u001b[0m",
      "\u001b[1;31mKeyError\u001b[0m: 0"
     ]
    }
   ],
   "source": [
    "a[0]"
   ]
  },
  {
   "cell_type": "code",
   "execution_count": 308,
   "id": "4b78f21b-af70-4ae6-b675-1c14d6aa39f2",
   "metadata": {},
   "outputs": [
    {
     "ename": "TypeError",
     "evalue": "unhashable type: 'slice'",
     "output_type": "error",
     "traceback": [
      "\u001b[1;31m---------------------------------------------------------------------------\u001b[0m",
      "\u001b[1;31mTypeError\u001b[0m                                 Traceback (most recent call last)",
      "\u001b[1;32m~\\AppData\\Local\\Temp/ipykernel_12436/13628764.py\u001b[0m in \u001b[0;36m<module>\u001b[1;34m\u001b[0m\n\u001b[1;32m----> 1\u001b[1;33m \u001b[0ma\u001b[0m\u001b[1;33m[\u001b[0m\u001b[1;36m1\u001b[0m\u001b[1;33m:\u001b[0m\u001b[1;36m10\u001b[0m\u001b[1;33m]\u001b[0m\u001b[1;33m\u001b[0m\u001b[1;33m\u001b[0m\u001b[0m\n\u001b[0m",
      "\u001b[1;31mTypeError\u001b[0m: unhashable type: 'slice'"
     ]
    }
   ],
   "source": [
    "a[1:10]"
   ]
  },
  {
   "cell_type": "markdown",
   "id": "602c3893-8fb3-4f8d-a81c-c2a2569c38ad",
   "metadata": {},
   "source": [
    "### **键值取值**\n",
    "\n",
    "- `dict[键值]`\n",
    "- `dict.get(键值，默认返回)`"
   ]
  },
  {
   "cell_type": "code",
   "execution_count": 309,
   "id": "d699836c-c110-4267-93a8-0345fb557d9e",
   "metadata": {},
   "outputs": [],
   "source": [
    "a = {\"a\": 1, \"b\": 2}"
   ]
  },
  {
   "cell_type": "code",
   "execution_count": 310,
   "id": "22d95faa-c873-40e2-bcff-3c940c65a218",
   "metadata": {},
   "outputs": [
    {
     "data": {
      "text/plain": [
       "1"
      ]
     },
     "execution_count": 310,
     "metadata": {},
     "output_type": "execute_result"
    }
   ],
   "source": [
    "a['a']"
   ]
  },
  {
   "cell_type": "code",
   "execution_count": 311,
   "id": "2959eda2-2e81-4146-8ac1-32d0615f66ab",
   "metadata": {},
   "outputs": [
    {
     "data": {
      "text/plain": [
       "2"
      ]
     },
     "execution_count": 311,
     "metadata": {},
     "output_type": "execute_result"
    }
   ],
   "source": [
    "a['b']"
   ]
  },
  {
   "cell_type": "code",
   "execution_count": 316,
   "id": "992a58b4-c70a-46fb-a08c-780ea1bb9a0c",
   "metadata": {},
   "outputs": [
    {
     "ename": "KeyError",
     "evalue": "'c'",
     "output_type": "error",
     "traceback": [
      "\u001b[1;31m---------------------------------------------------------------------------\u001b[0m",
      "\u001b[1;31mKeyError\u001b[0m                                  Traceback (most recent call last)",
      "\u001b[1;32m~\\AppData\\Local\\Temp/ipykernel_12436/2308708080.py\u001b[0m in \u001b[0;36m<module>\u001b[1;34m\u001b[0m\n\u001b[0;32m      1\u001b[0m \u001b[1;31m### 不存在的键值会报错\u001b[0m\u001b[1;33m\u001b[0m\u001b[1;33m\u001b[0m\u001b[0m\n\u001b[0;32m      2\u001b[0m \u001b[1;33m\u001b[0m\u001b[0m\n\u001b[1;32m----> 3\u001b[1;33m \u001b[0ma\u001b[0m\u001b[1;33m[\u001b[0m\u001b[1;34m'c'\u001b[0m\u001b[1;33m]\u001b[0m\u001b[1;33m\u001b[0m\u001b[1;33m\u001b[0m\u001b[0m\n\u001b[0m",
      "\u001b[1;31mKeyError\u001b[0m: 'c'"
     ]
    }
   ],
   "source": [
    "### 不存在的键值会报错\n",
    "\n",
    "a['c']"
   ]
  },
  {
   "cell_type": "code",
   "execution_count": 313,
   "id": "700be21c-5717-42d7-8bca-d7b4ca29f51a",
   "metadata": {},
   "outputs": [
    {
     "data": {
      "text/plain": [
       "2"
      ]
     },
     "execution_count": 313,
     "metadata": {},
     "output_type": "execute_result"
    }
   ],
   "source": [
    "a.get('b')"
   ]
  },
  {
   "cell_type": "code",
   "execution_count": 317,
   "id": "af1237f6-f725-4a0b-8b31-46c9badf38a5",
   "metadata": {},
   "outputs": [],
   "source": [
    "### 假如没有该键值返回：None\n",
    "\n",
    "a.get('c')"
   ]
  },
  {
   "cell_type": "code",
   "execution_count": 315,
   "id": "6793e7ac-a38a-4085-852d-3fc732d96efc",
   "metadata": {},
   "outputs": [
    {
     "data": {
      "text/plain": [
       "3"
      ]
     },
     "execution_count": 315,
     "metadata": {},
     "output_type": "execute_result"
    }
   ],
   "source": [
    "### 假如没有该键值可设置默认返回元素\n",
    "\n",
    "a.get('c',3)"
   ]
  },
  {
   "cell_type": "markdown",
   "id": "0fe237ec-bfa9-4b08-98bd-d6184141eb71",
   "metadata": {},
   "source": [
    "**需要注意：当取不存在的键值时，中括号方式会报错，而get不会报错**"
   ]
  },
  {
   "cell_type": "markdown",
   "id": "36df214e-8895-47c7-923a-5d51527e2963",
   "metadata": {},
   "source": [
    "## **添加和更新字典元素**\n",
    "\n",
    "- 直接添加值：`dict[键值] = 元素`，如果键存在，则会将旧的值进行覆盖，如果不存在则添加。\n",
    "- 使用`update()`添加将新字典中所有的键值对全部添加到旧字典对象上。如果key重复，则覆盖。"
   ]
  },
  {
   "cell_type": "code",
   "execution_count": 318,
   "id": "ef020cd9-67d5-48f2-b37c-67427bcd81fd",
   "metadata": {},
   "outputs": [],
   "source": [
    "a = {\"a\": 1, \"b\": 2}"
   ]
  },
  {
   "cell_type": "code",
   "execution_count": 319,
   "id": "7d49031a-ab05-4510-a3a7-f7b0eeaaf96d",
   "metadata": {},
   "outputs": [
    {
     "data": {
      "text/plain": [
       "{'a': 1, 'b': 2, 'c': 3}"
      ]
     },
     "execution_count": 319,
     "metadata": {},
     "output_type": "execute_result"
    }
   ],
   "source": [
    "a['c'] = 3\n",
    "a"
   ]
  },
  {
   "cell_type": "code",
   "execution_count": 320,
   "id": "58c3da32-eee1-454c-8934-5747c0900a2f",
   "metadata": {},
   "outputs": [
    {
     "data": {
      "text/plain": [
       "{'a': 4, 'b': 2, 'c': 3}"
      ]
     },
     "execution_count": 320,
     "metadata": {},
     "output_type": "execute_result"
    }
   ],
   "source": [
    "a['a'] = 4\n",
    "a"
   ]
  },
  {
   "cell_type": "code",
   "execution_count": 321,
   "id": "c28f0a23-2718-4c07-9efd-2c670328689c",
   "metadata": {},
   "outputs": [
    {
     "data": {
      "text/plain": [
       "{'a': 4, 'b': 2, 'c': 5, 'd': 6}"
      ]
     },
     "execution_count": 321,
     "metadata": {},
     "output_type": "execute_result"
    }
   ],
   "source": [
    "a.update({'c':5,'d':6})\n",
    "a"
   ]
  },
  {
   "cell_type": "markdown",
   "id": "33574205-8716-40e4-82a4-306519d76e2f",
   "metadata": {},
   "source": [
    "## **删除字典元素**\n",
    "\n",
    "- `pop(key,默认)` 方法删除字典给定键 `key` 所对应的值，返回值为被删除的值。\n",
    "- `popitem()` 方法返回并删除字典中的最后一对键和值。\n",
    "\n",
    "**注意：**\n",
    "\n",
    "- `popitem()` ：如果字典已经为空，却调用了此方法，就报出 KeyError 异常。\n",
    "- `pop()` ：如果 key 存在 - 删除字典中对应的元素\n",
    "- `pop()` ：如果 key 不存在 - 返回设置指定的默认值 default\n",
    "- `pop()` ：如果 key 不存在且默认值 default 没有指定 - 触发 KeyError 异常"
   ]
  },
  {
   "cell_type": "code",
   "execution_count": 323,
   "id": "dfaa5c71-092e-4ca2-bb8c-36bf48dbd27d",
   "metadata": {},
   "outputs": [],
   "source": [
    "a = {'a': 4, 'b': 2, 'c': 5, 'd': 6}"
   ]
  },
  {
   "cell_type": "code",
   "execution_count": 324,
   "id": "23d09942-dfe7-4887-9823-5b2c6e6c3560",
   "metadata": {},
   "outputs": [
    {
     "data": {
      "text/plain": [
       "('d', 6)"
      ]
     },
     "execution_count": 324,
     "metadata": {},
     "output_type": "execute_result"
    }
   ],
   "source": [
    "a.popitem()"
   ]
  },
  {
   "cell_type": "code",
   "execution_count": 325,
   "id": "e5e48788-a25b-4b45-adf1-e6441c1a8558",
   "metadata": {},
   "outputs": [
    {
     "data": {
      "text/plain": [
       "{'a': 4, 'b': 2, 'c': 5}"
      ]
     },
     "execution_count": 325,
     "metadata": {},
     "output_type": "execute_result"
    }
   ],
   "source": [
    "a"
   ]
  },
  {
   "cell_type": "code",
   "execution_count": 326,
   "id": "7015f770-2171-4fd0-a71f-85e2b7a3bb78",
   "metadata": {},
   "outputs": [
    {
     "data": {
      "text/plain": [
       "4"
      ]
     },
     "execution_count": 326,
     "metadata": {},
     "output_type": "execute_result"
    }
   ],
   "source": [
    "a.pop('a')"
   ]
  },
  {
   "cell_type": "code",
   "execution_count": 327,
   "id": "baf96542-0d36-4369-84d3-963b6363fe88",
   "metadata": {},
   "outputs": [
    {
     "data": {
      "text/plain": [
       "{'b': 2, 'c': 5}"
      ]
     },
     "execution_count": 327,
     "metadata": {},
     "output_type": "execute_result"
    }
   ],
   "source": [
    "a"
   ]
  },
  {
   "cell_type": "code",
   "execution_count": 328,
   "id": "98c6405e-5811-4fc1-9ac0-f903bcbc51ab",
   "metadata": {},
   "outputs": [
    {
     "ename": "KeyError",
     "evalue": "'f'",
     "output_type": "error",
     "traceback": [
      "\u001b[1;31m---------------------------------------------------------------------------\u001b[0m",
      "\u001b[1;31mKeyError\u001b[0m                                  Traceback (most recent call last)",
      "\u001b[1;32m~\\AppData\\Local\\Temp/ipykernel_12436/29581879.py\u001b[0m in \u001b[0;36m<module>\u001b[1;34m\u001b[0m\n\u001b[1;32m----> 1\u001b[1;33m \u001b[0ma\u001b[0m\u001b[1;33m.\u001b[0m\u001b[0mpop\u001b[0m\u001b[1;33m(\u001b[0m\u001b[1;34m'f'\u001b[0m\u001b[1;33m)\u001b[0m\u001b[1;33m\u001b[0m\u001b[1;33m\u001b[0m\u001b[0m\n\u001b[0m",
      "\u001b[1;31mKeyError\u001b[0m: 'f'"
     ]
    }
   ],
   "source": [
    "a.pop('f')"
   ]
  },
  {
   "cell_type": "code",
   "execution_count": 329,
   "id": "82880670-beb3-4c39-ad67-decb47663f9b",
   "metadata": {},
   "outputs": [
    {
     "data": {
      "text/plain": [
       "'None'"
      ]
     },
     "execution_count": 329,
     "metadata": {},
     "output_type": "execute_result"
    }
   ],
   "source": [
    "a.pop('f','None')"
   ]
  },
  {
   "cell_type": "code",
   "execution_count": 330,
   "id": "d05857f3-b6f8-4d1d-9e00-e2861ba37e23",
   "metadata": {},
   "outputs": [
    {
     "data": {
      "text/plain": [
       "{'b': 2, 'c': 5}"
      ]
     },
     "execution_count": 330,
     "metadata": {},
     "output_type": "execute_result"
    }
   ],
   "source": [
    "a"
   ]
  },
  {
   "cell_type": "markdown",
   "id": "21c640c9-6a8b-4fb3-96a9-9f71e1f79b9d",
   "metadata": {},
   "source": [
    "## **字典内置方法**\n",
    "\n",
    "|序号|方法|描述|\n",
    "|---|---|---|\n",
    "|1|clear|清空字典|\n",
    "|2|copy|复制字典|\n",
    "|3|fromkeys|创建字典|\n",
    "|4|get|取值|\n",
    "|5|items|取所有键值对|\n",
    "|6|keys|取所有键值|\n",
    "|7|pop|删除元素|\n",
    "|8|popitem|删除最后一个元素|\n",
    "|9|setdefault|设置默认值|\n",
    "|10|update|更新字典|\n",
    "|11|values|取所有值|"
   ]
  },
  {
   "cell_type": "markdown",
   "id": "06775fd4-2172-4659-8023-934ea30769d5",
   "metadata": {},
   "source": [
    "## **常用内置方法**\n",
    "\n",
    "- **get()**\n",
    "- **update()**\n",
    "- **keys()**\n",
    "- **values()**\n",
    "- **items()**"
   ]
  },
  {
   "cell_type": "code",
   "execution_count": 332,
   "id": "c2cb1709-c77f-4dae-87d1-11d71e7b9083",
   "metadata": {},
   "outputs": [],
   "source": [
    "a = {'a': 4, 'b': 2, 'c': 5, 'd': 6}"
   ]
  },
  {
   "cell_type": "code",
   "execution_count": 333,
   "id": "94ad35be-1cdc-460f-a01b-071514a0214b",
   "metadata": {},
   "outputs": [
    {
     "data": {
      "text/plain": [
       "dict_keys(['a', 'b', 'c', 'd'])"
      ]
     },
     "execution_count": 333,
     "metadata": {},
     "output_type": "execute_result"
    }
   ],
   "source": [
    "a.keys()"
   ]
  },
  {
   "cell_type": "code",
   "execution_count": 334,
   "id": "34659bec-88cb-488c-bea8-88c8d4ef9c27",
   "metadata": {},
   "outputs": [
    {
     "data": {
      "text/plain": [
       "dict_items([('a', 4), ('b', 2), ('c', 5), ('d', 6)])"
      ]
     },
     "execution_count": 334,
     "metadata": {},
     "output_type": "execute_result"
    }
   ],
   "source": [
    "a.items()"
   ]
  },
  {
   "cell_type": "code",
   "execution_count": 336,
   "id": "df437239-127d-4904-9f69-25a68b090f92",
   "metadata": {},
   "outputs": [
    {
     "data": {
      "text/plain": [
       "dict_values([4, 2, 5, 6])"
      ]
     },
     "execution_count": 336,
     "metadata": {},
     "output_type": "execute_result"
    }
   ],
   "source": [
    "a.values()"
   ]
  },
  {
   "cell_type": "code",
   "execution_count": 337,
   "id": "49594d95-4574-4ca1-8a10-aa6238c3780a",
   "metadata": {},
   "outputs": [
    {
     "data": {
      "text/plain": [
       "['a', 'b', 'c', 'd']"
      ]
     },
     "execution_count": 337,
     "metadata": {},
     "output_type": "execute_result"
    }
   ],
   "source": [
    "### 转化为列表\n",
    "\n",
    "list(a.keys())"
   ]
  },
  {
   "cell_type": "code",
   "execution_count": 338,
   "id": "67d81bf0-0238-49f5-8cad-a09b248da21b",
   "metadata": {},
   "outputs": [
    {
     "data": {
      "text/plain": [
       "[('a', 4), ('b', 2), ('c', 5), ('d', 6)]"
      ]
     },
     "execution_count": 338,
     "metadata": {},
     "output_type": "execute_result"
    }
   ],
   "source": [
    "list(a.items())"
   ]
  },
  {
   "cell_type": "code",
   "execution_count": 339,
   "id": "21ee3481-2762-472b-af69-c019df28584f",
   "metadata": {},
   "outputs": [
    {
     "data": {
      "text/plain": [
       "[4, 2, 5, 6]"
      ]
     },
     "execution_count": 339,
     "metadata": {},
     "output_type": "execute_result"
    }
   ],
   "source": [
    "list(a.values())"
   ]
  },
  {
   "cell_type": "markdown",
   "id": "9d0e22c8-107d-4218-9c8c-2b59bf6d2e8c",
   "metadata": {},
   "source": [
    "---"
   ]
  },
  {
   "cell_type": "markdown",
   "id": "47520492-e253-4cf6-b403-6536c2631b0a",
   "metadata": {},
   "source": [
    "# **九、元祖**\n",
    "---\n",
    "\n",
    "tuple 和 List 非常类似，但是 tuple 一旦初始化就不能修改。\n",
    "\n",
    "元祖是一种有序的集合，可以随时添加和删除其中的元素。\n",
    "\n",
    "元祖就是用小括号 [] 括起来的数据，里面的每一个数据就叫做元素。每个元素之间使用逗号分隔。\n",
    "\n",
    "而且列表的数据元素可以是不相同的数据类型。\n",
    "\n",
    "**需要注意的是：当元祖只包含一个元素的时候必须加一个逗号，否则不是元祖，而`()`表示空元祖**"
   ]
  },
  {
   "cell_type": "code",
   "execution_count": 346,
   "id": "21c58713-b47e-43e3-b365-2e9146ba62bb",
   "metadata": {},
   "outputs": [
    {
     "data": {
      "text/plain": [
       "tuple"
      ]
     },
     "execution_count": 346,
     "metadata": {},
     "output_type": "execute_result"
    }
   ],
   "source": [
    "type((1,2))"
   ]
  },
  {
   "cell_type": "code",
   "execution_count": 349,
   "id": "a8a0d641-0457-44d5-b43e-0b5a93ca1a13",
   "metadata": {},
   "outputs": [
    {
     "data": {
      "text/plain": [
       "tuple"
      ]
     },
     "execution_count": 349,
     "metadata": {},
     "output_type": "execute_result"
    }
   ],
   "source": [
    "type(())"
   ]
  },
  {
   "cell_type": "code",
   "execution_count": 341,
   "id": "5c561349-5d1d-4e30-8498-472668e1a030",
   "metadata": {},
   "outputs": [
    {
     "data": {
      "text/plain": [
       "(1,)"
      ]
     },
     "execution_count": 341,
     "metadata": {},
     "output_type": "execute_result"
    }
   ],
   "source": [
    "## 必须加逗号\n",
    "\n",
    "(1,)"
   ]
  },
  {
   "cell_type": "code",
   "execution_count": 343,
   "id": "ef868d92-2299-4bf0-b253-483d6c6a78d2",
   "metadata": {},
   "outputs": [
    {
     "data": {
      "text/plain": [
       "1"
      ]
     },
     "execution_count": 343,
     "metadata": {},
     "output_type": "execute_result"
    }
   ],
   "source": [
    "### 不加逗号不是元祖\n",
    "\n",
    "(1)"
   ]
  },
  {
   "cell_type": "code",
   "execution_count": 344,
   "id": "e82c842b-62e4-4850-af2a-640b08145a60",
   "metadata": {},
   "outputs": [
    {
     "data": {
      "text/plain": [
       "(1, 2, 3)"
      ]
     },
     "execution_count": 344,
     "metadata": {},
     "output_type": "execute_result"
    }
   ],
   "source": [
    "(1,2,3)"
   ]
  },
  {
   "cell_type": "code",
   "execution_count": 345,
   "id": "d35bb58f-9f1c-47cc-9825-7d957375d8fa",
   "metadata": {},
   "outputs": [
    {
     "data": {
      "text/plain": [
       "([1], {'a': 1})"
      ]
     },
     "execution_count": 345,
     "metadata": {},
     "output_type": "execute_result"
    }
   ],
   "source": [
    "([1],{\"a\":1})"
   ]
  },
  {
   "cell_type": "markdown",
   "id": "6dc2c61b-7277-4da8-8eab-3e3b2518772d",
   "metadata": {},
   "source": [
    "## **创建元祖**\n",
    "\n",
    "- tuple(迭代器)\n",
    "- 小括号+逗号：(元素,)"
   ]
  },
  {
   "cell_type": "code",
   "execution_count": 350,
   "id": "3e84d50b-4562-4a01-b8d7-0d0c4f918cf2",
   "metadata": {},
   "outputs": [
    {
     "data": {
      "text/plain": [
       "()"
      ]
     },
     "execution_count": 350,
     "metadata": {},
     "output_type": "execute_result"
    }
   ],
   "source": [
    "### 创建空元祖\n",
    "\n",
    "()"
   ]
  },
  {
   "cell_type": "code",
   "execution_count": 351,
   "id": "92fd3225-3740-4cdf-a968-70028ddad09e",
   "metadata": {},
   "outputs": [
    {
     "data": {
      "text/plain": [
       "(1,)"
      ]
     },
     "execution_count": 351,
     "metadata": {},
     "output_type": "execute_result"
    }
   ],
   "source": [
    "(1,)"
   ]
  },
  {
   "cell_type": "code",
   "execution_count": 352,
   "id": "37048c6d-177d-4f38-a17a-bbb26d3346ea",
   "metadata": {},
   "outputs": [
    {
     "data": {
      "text/plain": [
       "(1, 2, 3, '1')"
      ]
     },
     "execution_count": 352,
     "metadata": {},
     "output_type": "execute_result"
    }
   ],
   "source": [
    "(1,2,3,'1')"
   ]
  },
  {
   "cell_type": "code",
   "execution_count": 353,
   "id": "7929886e-31aa-4f78-a389-67eaecc2343b",
   "metadata": {},
   "outputs": [
    {
     "data": {
      "text/plain": [
       "({1}, {'a': 1}, [1, 2, 3])"
      ]
     },
     "execution_count": 353,
     "metadata": {},
     "output_type": "execute_result"
    }
   ],
   "source": [
    "({1},{\"a\":1},[1,2,3])"
   ]
  },
  {
   "cell_type": "code",
   "execution_count": 354,
   "id": "d98c5162-f151-4aa0-bef3-c9af36d021ed",
   "metadata": {},
   "outputs": [
    {
     "data": {
      "text/plain": [
       "(1, 2, 3)"
      ]
     },
     "execution_count": 354,
     "metadata": {},
     "output_type": "execute_result"
    }
   ],
   "source": [
    "tuple([1,2,3])"
   ]
  },
  {
   "cell_type": "markdown",
   "id": "a4df91f4-ea31-4c99-98dd-4fbee34a8249",
   "metadata": {},
   "source": [
    "## **元祖的索引和切片**\n",
    "\n",
    "类似于列表，Python的元祖可以直接进行切片截取的，通过中括号[start:end]进行截取，例如:\n",
    "\n",
    "需要注意的是Python的下标都是从0开始表示第一个位置，且[start:end]表示左包右开\n",
    "\n",
    "并且Python下标支持负数表示反向取值，-1表示最后一个"
   ]
  },
  {
   "cell_type": "code",
   "execution_count": 355,
   "id": "f675996e-7423-4c8a-b60d-da665ee46db4",
   "metadata": {},
   "outputs": [],
   "source": [
    "a = (1,2,3,'1')"
   ]
  },
  {
   "cell_type": "code",
   "execution_count": 356,
   "id": "e6cefdd6-b376-4740-a88a-d90cc4c89387",
   "metadata": {},
   "outputs": [
    {
     "data": {
      "text/plain": [
       "1"
      ]
     },
     "execution_count": 356,
     "metadata": {},
     "output_type": "execute_result"
    }
   ],
   "source": [
    "a[0]"
   ]
  },
  {
   "cell_type": "code",
   "execution_count": 357,
   "id": "38d677a5-b11e-4221-839d-deb41dccf863",
   "metadata": {},
   "outputs": [
    {
     "data": {
      "text/plain": [
       "'1'"
      ]
     },
     "execution_count": 357,
     "metadata": {},
     "output_type": "execute_result"
    }
   ],
   "source": [
    "a[-1]"
   ]
  },
  {
   "cell_type": "code",
   "execution_count": 358,
   "id": "48bcb49e-9eb7-4a23-a3f4-29ce85f2d0f4",
   "metadata": {},
   "outputs": [
    {
     "data": {
      "text/plain": [
       "(2, '1')"
      ]
     },
     "execution_count": 358,
     "metadata": {},
     "output_type": "execute_result"
    }
   ],
   "source": [
    "a[1:5:2]"
   ]
  },
  {
   "cell_type": "markdown",
   "id": "e086440f-7991-4e72-af85-2f3bd155f903",
   "metadata": {},
   "source": [
    "## **添加和更新元祖元素**\n",
    "\n",
    "**元祖是不可变类型，要想添加和更新元素，那就要重新创建一个元祖**"
   ]
  },
  {
   "cell_type": "markdown",
   "id": "0b7eb093-39b9-45b7-90b1-325badfb06c3",
   "metadata": {},
   "source": [
    "## **删除元祖元素**\n",
    "\n",
    "**元祖是不可变类型，要想删除元素，那就要重新创建一个元祖**\n",
    "\n",
    "**但是可以通过`del`删除整个元祖，此方法是Python内置方法可以删除任意数据变量**"
   ]
  },
  {
   "cell_type": "code",
   "execution_count": 367,
   "id": "aa46d6ed-3d73-4475-9b17-4313e2f474e6",
   "metadata": {},
   "outputs": [
    {
     "data": {
      "text/plain": [
       "(1, 2, 3)"
      ]
     },
     "execution_count": 367,
     "metadata": {},
     "output_type": "execute_result"
    }
   ],
   "source": [
    "a = (1,2,3)\n",
    "a"
   ]
  },
  {
   "cell_type": "code",
   "execution_count": 368,
   "id": "61ff7c0c-8929-4c87-b195-3693c21f400d",
   "metadata": {},
   "outputs": [],
   "source": [
    "del a"
   ]
  },
  {
   "cell_type": "code",
   "execution_count": 369,
   "id": "ab1c654f-7e13-474d-8a8b-8cb266686049",
   "metadata": {},
   "outputs": [
    {
     "ename": "NameError",
     "evalue": "name 'a' is not defined",
     "output_type": "error",
     "traceback": [
      "\u001b[1;31m---------------------------------------------------------------------------\u001b[0m",
      "\u001b[1;31mNameError\u001b[0m                                 Traceback (most recent call last)",
      "\u001b[1;32m~\\AppData\\Local\\Temp/ipykernel_12436/2167009006.py\u001b[0m in \u001b[0;36m<module>\u001b[1;34m\u001b[0m\n\u001b[1;32m----> 1\u001b[1;33m \u001b[0ma\u001b[0m\u001b[1;33m\u001b[0m\u001b[1;33m\u001b[0m\u001b[0m\n\u001b[0m",
      "\u001b[1;31mNameError\u001b[0m: name 'a' is not defined"
     ]
    }
   ],
   "source": [
    "a"
   ]
  },
  {
   "cell_type": "markdown",
   "id": "bea082a3-38a2-46dd-bd6f-8b18e45f3b36",
   "metadata": {},
   "source": [
    "## **元祖内置方法**\n",
    "\n",
    "**因为元祖是不变的，所以内置方法很少：**\n",
    "\n",
    "- **index：取索引**\n",
    "- **count：值计数**"
   ]
  },
  {
   "cell_type": "code",
   "execution_count": 360,
   "id": "3f3b097f-db0c-484e-8ece-cde800118aec",
   "metadata": {},
   "outputs": [],
   "source": [
    "a = (1,1,1,2,3,)"
   ]
  },
  {
   "cell_type": "code",
   "execution_count": 361,
   "id": "70e53091-6f99-4583-b10b-d5b695e5e4fd",
   "metadata": {},
   "outputs": [
    {
     "data": {
      "text/plain": [
       "0"
      ]
     },
     "execution_count": 361,
     "metadata": {},
     "output_type": "execute_result"
    }
   ],
   "source": [
    "a.index(1)"
   ]
  },
  {
   "cell_type": "code",
   "execution_count": 362,
   "id": "d06b6433-c471-4a26-ae83-e08fce276fa5",
   "metadata": {},
   "outputs": [
    {
     "data": {
      "text/plain": [
       "3"
      ]
     },
     "execution_count": 362,
     "metadata": {},
     "output_type": "execute_result"
    }
   ],
   "source": [
    "a.count(1)"
   ]
  },
  {
   "cell_type": "markdown",
   "id": "d3b3ecd5-13a7-4887-a577-728541c584e8",
   "metadata": {},
   "source": [
    "## **元祖常用方法**\n",
    "\n",
    "- **len：长度**\n",
    "- **max：最大值**\n",
    "- **min：最小值**\n",
    "- **+：拼接**"
   ]
  },
  {
   "cell_type": "code",
   "execution_count": 364,
   "id": "a602fd5d-537b-4373-884c-61e0ae182ed1",
   "metadata": {},
   "outputs": [
    {
     "data": {
      "text/plain": [
       "5"
      ]
     },
     "execution_count": 364,
     "metadata": {},
     "output_type": "execute_result"
    }
   ],
   "source": [
    "a = (1,2,3,4,5)\n",
    "len(a)"
   ]
  },
  {
   "cell_type": "code",
   "execution_count": 365,
   "id": "aaac36e5-f0af-4fb7-99a6-17159d0068ba",
   "metadata": {},
   "outputs": [
    {
     "data": {
      "text/plain": [
       "5"
      ]
     },
     "execution_count": 365,
     "metadata": {},
     "output_type": "execute_result"
    }
   ],
   "source": [
    "max(a)"
   ]
  },
  {
   "cell_type": "code",
   "execution_count": 366,
   "id": "ba950ae3-0411-422a-9bc1-929f35964ad6",
   "metadata": {},
   "outputs": [
    {
     "data": {
      "text/plain": [
       "1"
      ]
     },
     "execution_count": 366,
     "metadata": {},
     "output_type": "execute_result"
    }
   ],
   "source": [
    "min(a)"
   ]
  },
  {
   "cell_type": "code",
   "execution_count": 363,
   "id": "3f672958-ba75-42d7-90be-5634a1646f90",
   "metadata": {},
   "outputs": [
    {
     "data": {
      "text/plain": [
       "(1, 2, 3, 4)"
      ]
     },
     "execution_count": 363,
     "metadata": {},
     "output_type": "execute_result"
    }
   ],
   "source": [
    "(1,2) + (3,4)"
   ]
  },
  {
   "cell_type": "markdown",
   "id": "60ac0a18-d517-4533-a20f-0f08c5bbac0e",
   "metadata": {},
   "source": [
    "---"
   ]
  },
  {
   "cell_type": "markdown",
   "id": "34d4e9e4-06ba-472a-b5a5-7e3ca4d9ba90",
   "metadata": {},
   "source": [
    "# **十、可变和不可变数据类型**\n",
    "---\n",
    "\n",
    "\n",
    "- 不可变数据类型： 不允许变量的值发生变化，如果改变了变量的值，相当于是新建了一个对象，当该数据类型的对应变量的值发生了改变，那么它对应的内存地址也会发生改变，对于这种数据类型，就称不可变数据类型。\n",
    "\n",
    "- 可变数据类型 ：允许变量的值发生变化，当该数据类型的对应变量的值发生了改变，那么它对应的内存地址不发生改变，对于这种数据类型，就称可变数据类型。"
   ]
  },
  {
   "cell_type": "markdown",
   "id": "5a00aed4-e65a-4bf7-a59e-f79fc9c89fa8",
   "metadata": {},
   "source": [
    "## **不可变类型**\n",
    "\n",
    "- **数字**\n",
    "- **字符串**\n",
    "- **bool**\n",
    "- **元组**\n",
    "- **None**"
   ]
  },
  {
   "cell_type": "markdown",
   "id": "2b48e949-06be-4c94-9702-3f63dce3d767",
   "metadata": {},
   "source": [
    "## **可变类型**\n",
    "- **列表**\n",
    "- **集合**\n",
    "- **字典**"
   ]
  },
  {
   "cell_type": "code",
   "execution_count": 176,
   "id": "135b4bbb-126a-4db0-93e7-2b894cfcd3b0",
   "metadata": {},
   "outputs": [
    {
     "data": {
      "text/plain": [
       "'12'"
      ]
     },
     "execution_count": 176,
     "metadata": {},
     "output_type": "execute_result"
    }
   ],
   "source": [
    "a = '1'\n",
    "a = a + '2'\n",
    "a"
   ]
  },
  {
   "cell_type": "code",
   "execution_count": 177,
   "id": "3a021c44-9233-41bc-b8f0-96d2900201f3",
   "metadata": {},
   "outputs": [
    {
     "data": {
      "text/plain": [
       "[1, 2]"
      ]
     },
     "execution_count": 177,
     "metadata": {},
     "output_type": "execute_result"
    }
   ],
   "source": [
    "a = [1]\n",
    "a.append(2)\n",
    "a"
   ]
  },
  {
   "cell_type": "code",
   "execution_count": null,
   "id": "1627ea58-977e-420e-94dd-b1110b5b088c",
   "metadata": {},
   "outputs": [],
   "source": []
  }
 ],
 "metadata": {
  "kernelspec": {
   "display_name": "Python 3 (ipykernel)",
   "language": "python",
   "name": "python3"
  },
  "language_info": {
   "codemirror_mode": {
    "name": "ipython",
    "version": 3
   },
   "file_extension": ".py",
   "mimetype": "text/x-python",
   "name": "python",
   "nbconvert_exporter": "python",
   "pygments_lexer": "ipython3",
   "version": "3.9.7"
  }
 },
 "nbformat": 4,
 "nbformat_minor": 5
}
